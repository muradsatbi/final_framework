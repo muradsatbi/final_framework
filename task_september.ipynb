{
 "cells": [
  {
   "cell_type": "code",
   "execution_count": 1,
   "id": "46b622c0",
   "metadata": {},
   "outputs": [],
   "source": [
    "import os\n",
    "import pandas as pd\n",
    "import datetime as dt\n",
    "import numpy as np\n",
    "import re"
   ]
  },
  {
   "cell_type": "code",
   "execution_count": 2,
   "id": "fe673d61",
   "metadata": {},
   "outputs": [],
   "source": [
    "column_names = {'Emiasid': 'emiasid', 'Emiasid ': 'emiasid' , 'emiasid ': 'emiasid', 'EMIAS_ID': 'emiasid', 'МО': 'mo', \n",
    "                'МУ': 'mu', 'Логин оператора': 'login', 'Дата и время звонка': 'call_date', 'Результат звонка': 'call_result',\n",
    "                'Результат звонка ': 'call_result', 'Разговор состоялся': 'talk_result', 'Комменатрий': 'comment', \n",
    "                'Дата и время переноса': 'next_call_date', 'Контактный телефон': 'phone_number', 'ФИО врача': 'doctor_fio', \n",
    "                'ФИО помощника врача': 'assistant_fio', 'Логин помощника врача': 'login', 'Зал №': 'hall_number',\n",
    "                'Логин naumen': 'login', 'МО закрепления': 'mo', 'Отсутствует на рабочем месте': 'absence'}"
   ]
  },
  {
   "cell_type": "code",
   "execution_count": 3,
   "id": "2775ffd9",
   "metadata": {},
   "outputs": [
    {
     "name": "stdout",
     "output_type": "stream",
     "text": [
      "2022_09_13\n"
     ]
    }
   ],
   "source": [
    "today = pd.Timestamp(dt.datetime.today().date())\n",
    "today_ymd = today.strftime('%Y%m%d')\n",
    "today_y_m_d = today.strftime('%Y_%m_%d')\n",
    "\n",
    "yesterday = today - dt.timedelta(days=1)\n",
    "yesterday_ymd = yesterday.strftime('%Y%m%d')\n",
    "yesterday_y_m_d = yesterday.strftime('%Y-%m-%d')\n",
    "\n",
    "tomorrow = today + dt.timedelta(days=1)\n",
    "tomorrow_ymd = tomorrow.strftime('%Y%m%d')\n",
    "tomorrow_y_m_d = tomorrow.strftime('%Y-%m-%d')\n",
    "\n",
    "print(today_y_m_d)"
   ]
  },
  {
   "cell_type": "code",
   "execution_count": null,
   "id": "5a018e64",
   "metadata": {},
   "outputs": [],
   "source": []
  },
  {
   "cell_type": "code",
   "execution_count": 4,
   "id": "ad9e64be",
   "metadata": {},
   "outputs": [
    {
     "name": "stdout",
     "output_type": "stream",
     "text": [
      "C:\\\\Users\\murad_satabaev\\Documents\\GitHub\\final_framework\\merged_statuses\\total_patients_current_statuses_merged_with_logins_2022_09_13.xlsx\n"
     ]
    }
   ],
   "source": [
    "# путь файла с текущими статусами пациентов\n",
    "patients_current_statuses_path = \\\n",
    "r'\\Users\\murad_satabaev\\Documents\\GitHub\\final_framework\\merged_statuses'\n",
    "\n",
    "patients_current_statuses_path = patients_current_statuses_path.split('\\\\')\n",
    "patients_current_statuses_data = os.path.join('C:\\\\', r'\\\\', *patients_current_statuses_path,\n",
    "                                             f'total_patients_current_statuses_merged_with_logins_{today_y_m_d}.xlsx')\n",
    "print(patients_current_statuses_data)"
   ]
  },
  {
   "cell_type": "code",
   "execution_count": null,
   "id": "51866654",
   "metadata": {},
   "outputs": [],
   "source": []
  },
  {
   "cell_type": "code",
   "execution_count": 5,
   "id": "e5ed60c6",
   "metadata": {},
   "outputs": [
    {
     "name": "stdout",
     "output_type": "stream",
     "text": [
      "\\\\t999\\Сетевой диск\\pdn\\data\\emias_data\\xlsx\n"
     ]
    }
   ],
   "source": [
    "# путь файла с сегодняшними \n",
    "emias_data_path = r'\\\\t999\\Сетевой диск\\pdn\\data\\emias_data\\xlsx'\n",
    "emias_data_path = emias_data_path.split('\\\\')\n",
    "emias_data_path = os.path.join(r'\\\\', *emias_data_path)\n",
    "print(emias_data_path)"
   ]
  },
  {
   "cell_type": "code",
   "execution_count": null,
   "id": "486ef970",
   "metadata": {},
   "outputs": [],
   "source": []
  },
  {
   "cell_type": "code",
   "execution_count": 6,
   "id": "2cccbb11",
   "metadata": {},
   "outputs": [
    {
     "name": "stdout",
     "output_type": "stream",
     "text": [
      "\\\\t999\\Сетевой диск\\pdn\\data\\emias_data\\xlsx\\DAT_4059_выгрузка_списков_на_обзвон_помощниками_2022-09-13.xlsx\n"
     ]
    }
   ],
   "source": [
    "today_emias_data_path = [os.path.join(emias_data_path, filename) for filename in os.listdir(emias_data_path) if '4059' \n",
    "                         in filename and '~' not in filename and today.strftime('%Y-%m-%d') in filename][0]\n",
    "print(today_emias_data_path)"
   ]
  },
  {
   "cell_type": "code",
   "execution_count": null,
   "id": "756c9df2",
   "metadata": {},
   "outputs": [],
   "source": []
  },
  {
   "cell_type": "code",
   "execution_count": 7,
   "id": "0281f145",
   "metadata": {},
   "outputs": [],
   "source": [
    "# чтение всех файлов по отдельности, чтобы не тратить время на повторное чтение файла, который уже прочитан"
   ]
  },
  {
   "cell_type": "code",
   "execution_count": 8,
   "id": "073f584d",
   "metadata": {},
   "outputs": [
    {
     "data": {
      "text/plain": [
       "109888"
      ]
     },
     "execution_count": 8,
     "metadata": {},
     "output_type": "execute_result"
    }
   ],
   "source": [
    "patients_current_statuses_reading = pd.read_excel(patients_current_statuses_data)\n",
    "patients_current_statuses_reading.shape[0]"
   ]
  },
  {
   "cell_type": "code",
   "execution_count": 9,
   "id": "c7667db9",
   "metadata": {},
   "outputs": [
    {
     "data": {
      "text/plain": [
       "97248"
      ]
     },
     "execution_count": 9,
     "metadata": {},
     "output_type": "execute_result"
    }
   ],
   "source": [
    "today_emias_data_reading = pd.read_excel(today_emias_data_path)\n",
    "today_emias_data_reading.shape[0]"
   ]
  },
  {
   "cell_type": "code",
   "execution_count": null,
   "id": "2fbf907a",
   "metadata": {},
   "outputs": [],
   "source": []
  },
  {
   "cell_type": "code",
   "execution_count": null,
   "id": "9c6273b1",
   "metadata": {},
   "outputs": [],
   "source": []
  },
  {
   "cell_type": "code",
   "execution_count": null,
   "id": "512a7164",
   "metadata": {},
   "outputs": [],
   "source": []
  },
  {
   "cell_type": "code",
   "execution_count": null,
   "id": "90b952d0",
   "metadata": {},
   "outputs": [],
   "source": [
    "stop()"
   ]
  },
  {
   "cell_type": "code",
   "execution_count": 11,
   "id": "5ba235b9",
   "metadata": {
    "scrolled": true
   },
   "outputs": [
    {
     "name": "stdout",
     "output_type": "stream",
     "text": [
      "2022-09-13 09:46:08.687583\n",
      "217\n"
     ]
    }
   ],
   "source": [
    "import gspread\n",
    "from gspread_dataframe import get_as_dataframe\n",
    "gc = gspread.service_account(filename='google_sheets_credentials.json') \n",
    "url = 'https://docs.google.com/spreadsheets/d/1TXjbk9tRDMCjEyyiuK5OIgT8xwlHQ2V1PX2zaVnxPXY/edit#gid=0'\n",
    "sh = gc.open_by_url(url)\n",
    "ws = sh.get_worksheet(0)\n",
    "def search_row(ws, desired_value):\n",
    "    row_number = 0\n",
    "    for row in ws.get_all_values():\n",
    "        row_number += 1\n",
    "        for value in row:\n",
    "            if value == desired_value:\n",
    "                return row_number\n",
    "            \n",
    "skiprows = search_row(ws, 'ФИО помощника врача') - 1\n",
    "\n",
    "assistants_presence_reading = get_as_dataframe(ws, evaluate_formulas=True, skiprows=skiprows)\n",
    "assistants_presence_reading = assistants_presence_reading.loc[~(assistants_presence_reading['Зал №'] == 'Зал №'), \n",
    "    ['Зал №', 'МО закрепления', 'ФИО помощника врача', 'Логин naumen', 'Отсутствует на рабочем месте']] \\\n",
    "        .dropna(how='all', axis=0)\n",
    "\n",
    "\n",
    "print(dt.datetime.now())\n",
    "print(assistants_presence_reading.shape[0])\n",
    "\n",
    "assistants_presence = assistants_presence_reading.rename(columns=column_names).copy()"
   ]
  },
  {
   "cell_type": "code",
   "execution_count": null,
   "id": "5f712490",
   "metadata": {},
   "outputs": [],
   "source": [
    "stop()"
   ]
  },
  {
   "cell_type": "code",
   "execution_count": null,
   "id": "4b8afc6b",
   "metadata": {},
   "outputs": [],
   "source": []
  },
  {
   "cell_type": "code",
   "execution_count": null,
   "id": "849d2c5f",
   "metadata": {},
   "outputs": [],
   "source": []
  },
  {
   "cell_type": "code",
   "execution_count": 12,
   "id": "a6d5b879",
   "metadata": {},
   "outputs": [],
   "source": [
    "patients_current_statuses = patients_current_statuses_reading.rename(columns=column_names).copy()"
   ]
  },
  {
   "cell_type": "code",
   "execution_count": 13,
   "id": "efa1d87b",
   "metadata": {},
   "outputs": [],
   "source": [
    "today_emias_data = today_emias_data_reading.rename(columns=column_names)"
   ]
  },
  {
   "cell_type": "code",
   "execution_count": 15,
   "id": "0cb16a0b",
   "metadata": {},
   "outputs": [
    {
     "name": "stderr",
     "output_type": "stream",
     "text": [
      "C:\\Users\\murad_satabaev\\AppData\\Local\\Temp\\ipykernel_3580\\2344773040.py:2: FutureWarning: The default value of regex will change from True to False in a future version.\n",
      "  patients_current_statuses['emiasid'] = patients_current_statuses['emiasid'].astype(str).str.replace('\\.0', '')\n"
     ]
    }
   ],
   "source": [
    "patients_current_statuses = patients_current_statuses_reading.rename(columns=column_names).copy()\n",
    "patients_current_statuses['emiasid'] = patients_current_statuses['emiasid'].astype(str).str.replace('\\.0', '')\n",
    "patients_current_statuses['next_call_date'] = patients_current_statuses['next_call_date'] \\\n",
    ".apply(lambda x: pd.to_datetime(x, dayfirst=True).date())"
   ]
  },
  {
   "cell_type": "code",
   "execution_count": null,
   "id": "7944daaf",
   "metadata": {},
   "outputs": [],
   "source": []
  },
  {
   "cell_type": "code",
   "execution_count": null,
   "id": "c82383ed",
   "metadata": {},
   "outputs": [],
   "source": []
  },
  {
   "cell_type": "code",
   "execution_count": null,
   "id": "65de920b",
   "metadata": {},
   "outputs": [],
   "source": []
  },
  {
   "cell_type": "code",
   "execution_count": null,
   "id": "86656396",
   "metadata": {},
   "outputs": [],
   "source": [
    "# Переведем все типы данных емиасайди, телефоны и прочие числовые данные в строки"
   ]
  },
  {
   "cell_type": "code",
   "execution_count": 16,
   "id": "6c79f091",
   "metadata": {
    "scrolled": true
   },
   "outputs": [
    {
     "name": "stderr",
     "output_type": "stream",
     "text": [
      "C:\\Users\\murad_satabaev\\AppData\\Local\\Temp\\ipykernel_3580\\3971369908.py:1: FutureWarning: The default value of regex will change from True to False in a future version.\n",
      "  today_emias_data['emiasid'] = today_emias_data['emiasid'].astype(str).str.replace('\\.0', '')\n",
      "C:\\Users\\murad_satabaev\\AppData\\Local\\Temp\\ipykernel_3580\\3971369908.py:2: FutureWarning: The default value of regex will change from True to False in a future version.\n",
      "  today_emias_data['phone'] = today_emias_data['phone'].astype(str).str.replace('\\.0', '')\n"
     ]
    }
   ],
   "source": [
    "today_emias_data['emiasid'] = today_emias_data['emiasid'].astype(str).str.replace('\\.0', '')\n",
    "today_emias_data['phone'] = today_emias_data['phone'].astype(str).str.replace('\\.0', '')"
   ]
  },
  {
   "cell_type": "code",
   "execution_count": null,
   "id": "7c5391ec",
   "metadata": {},
   "outputs": [],
   "source": []
  },
  {
   "cell_type": "code",
   "execution_count": null,
   "id": "c592b782",
   "metadata": {},
   "outputs": [],
   "source": []
  },
  {
   "cell_type": "code",
   "execution_count": 17,
   "id": "d3c1d470",
   "metadata": {},
   "outputs": [
    {
     "data": {
      "text/plain": [
       "320"
      ]
     },
     "execution_count": 17,
     "metadata": {},
     "output_type": "execute_result"
    }
   ],
   "source": [
    "def find_phone_number(text):\n",
    "    \"\"\"Функция ищет номера телефонов в строке, фильтрует дефектные и возвращает один с приоритетом на мобильный\"\"\"\n",
    "    import re\n",
    "    defect_pattern = re.compile(r\"\"\"7[^94]\\d{9}|0{7,}|1{7,}|2{7,}|3{7,}|4{7,}|5{7,}|6{7,}|7{7,}|8{7,}|9{7,}\"\"\")\n",
    "    text = str(text)\n",
    "    text = ['7' + re.sub(r'\\D', '', x)[-10:] for x in re.split(r'[,;]', text)]\n",
    "    text = list(filter(lambda x: len(x) == 11, text))\n",
    "    text = list(filter(lambda x: False if re.search(defect_pattern, x) else True, text))\n",
    "    text = sorted(text, reverse=True)\n",
    "    text = ','.join(text)\n",
    "    text = re.search(r'(9\\d{9}|4\\d{9})', text)\n",
    "    if text:\n",
    "        text = text.group()\n",
    "    return text\n",
    "\n",
    "today_emias_data['phone_1'] = today_emias_data['phone'].apply(find_phone_number)\n",
    "today_emias_data[today_emias_data['phone_1'].isna()].shape[0]"
   ]
  },
  {
   "cell_type": "code",
   "execution_count": 18,
   "id": "290c160b",
   "metadata": {
    "scrolled": false
   },
   "outputs": [
    {
     "data": {
      "text/plain": [
       "97248"
      ]
     },
     "execution_count": 18,
     "metadata": {},
     "output_type": "execute_result"
    }
   ],
   "source": [
    "today_emias_data.shape[0]"
   ]
  },
  {
   "cell_type": "code",
   "execution_count": 19,
   "id": "c21484f7",
   "metadata": {},
   "outputs": [
    {
     "data": {
      "text/plain": [
       "109888"
      ]
     },
     "execution_count": 19,
     "metadata": {},
     "output_type": "execute_result"
    }
   ],
   "source": [
    "patients_current_statuses.shape[0]"
   ]
  },
  {
   "cell_type": "code",
   "execution_count": null,
   "id": "8dec207b",
   "metadata": {},
   "outputs": [],
   "source": []
  },
  {
   "cell_type": "code",
   "execution_count": null,
   "id": "69314966",
   "metadata": {},
   "outputs": [],
   "source": []
  },
  {
   "cell_type": "code",
   "execution_count": null,
   "id": "3a656274",
   "metadata": {},
   "outputs": [],
   "source": []
  },
  {
   "cell_type": "code",
   "execution_count": null,
   "id": "aa457562",
   "metadata": {},
   "outputs": [],
   "source": []
  },
  {
   "cell_type": "code",
   "execution_count": null,
   "id": "2948f88d",
   "metadata": {},
   "outputs": [],
   "source": []
  },
  {
   "cell_type": "code",
   "execution_count": null,
   "id": "5e2d70d7",
   "metadata": {},
   "outputs": [],
   "source": []
  },
  {
   "cell_type": "code",
   "execution_count": 21,
   "id": "3b934742",
   "metadata": {
    "scrolled": true
   },
   "outputs": [
    {
     "data": {
      "text/html": [
       "<div>\n",
       "<style scoped>\n",
       "    .dataframe tbody tr th:only-of-type {\n",
       "        vertical-align: middle;\n",
       "    }\n",
       "\n",
       "    .dataframe tbody tr th {\n",
       "        vertical-align: top;\n",
       "    }\n",
       "\n",
       "    .dataframe thead th {\n",
       "        text-align: right;\n",
       "    }\n",
       "</style>\n",
       "<table border=\"1\" class=\"dataframe\">\n",
       "  <thead>\n",
       "    <tr style=\"text-align: right;\">\n",
       "      <th></th>\n",
       "      <th>emiasid</th>\n",
       "      <th>login</th>\n",
       "      <th>status</th>\n",
       "      <th>old_comment</th>\n",
       "      <th>next_call_date</th>\n",
       "      <th>mo</th>\n",
       "      <th>doctor_fio</th>\n",
       "      <th>phone_number</th>\n",
       "      <th>calls_amount</th>\n",
       "      <th>last_call_date</th>\n",
       "      <th>last_call_result</th>\n",
       "      <th>last_talk_result</th>\n",
       "      <th>problem</th>\n",
       "      <th>month</th>\n",
       "      <th>group</th>\n",
       "    </tr>\n",
       "  </thead>\n",
       "  <tbody>\n",
       "    <tr>\n",
       "      <th>0</th>\n",
       "      <td>24381864</td>\n",
       "      <td>pomoshnik_pdn63</td>\n",
       "      <td>Будет в Москве в другом месяце</td>\n",
       "      <td>не в Москве, сентябрь</td>\n",
       "      <td>NaT</td>\n",
       "      <td>ГП 134</td>\n",
       "      <td>Гаджимурадова Патимат Магомедовна</td>\n",
       "      <td>9.629455e+09</td>\n",
       "      <td>1.0</td>\n",
       "      <td>2022-08-02</td>\n",
       "      <td>Разговор состоялся</td>\n",
       "      <td>Будет в Москве в другом месяце</td>\n",
       "      <td>NaN</td>\n",
       "      <td>august</td>\n",
       "      <td>NaN</td>\n",
       "    </tr>\n",
       "    <tr>\n",
       "      <th>1</th>\n",
       "      <td>16888279</td>\n",
       "      <td>pomoshnik_pdn208</td>\n",
       "      <td>Будет в Москве в другом месяце</td>\n",
       "      <td>Не в Москве, сентябрь</td>\n",
       "      <td>NaT</td>\n",
       "      <td>ГП 2</td>\n",
       "      <td>Сорокина Екатерина Николаевна</td>\n",
       "      <td>9.037129e+09</td>\n",
       "      <td>1.0</td>\n",
       "      <td>2022-08-02</td>\n",
       "      <td>Разговор состоялся</td>\n",
       "      <td>Будет в Москве в другом месяце</td>\n",
       "      <td>NaN</td>\n",
       "      <td>august</td>\n",
       "      <td>NaN</td>\n",
       "    </tr>\n",
       "    <tr>\n",
       "      <th>2</th>\n",
       "      <td>1749857348036</td>\n",
       "      <td>pomoshnik_pdn20</td>\n",
       "      <td>Будет в Москве в другом месяце</td>\n",
       "      <td>Не в Москве, сентябрь</td>\n",
       "      <td>NaT</td>\n",
       "      <td>ГП 191</td>\n",
       "      <td>Баранова Яна Юрьевна</td>\n",
       "      <td>9.660250e+09</td>\n",
       "      <td>1.0</td>\n",
       "      <td>2022-08-02</td>\n",
       "      <td>Разговор состоялся</td>\n",
       "      <td>Будет в Москве в другом месяце</td>\n",
       "      <td>NaN</td>\n",
       "      <td>august</td>\n",
       "      <td>NaN</td>\n",
       "    </tr>\n",
       "  </tbody>\n",
       "</table>\n",
       "</div>"
      ],
      "text/plain": [
       "         emiasid             login                          status  \\\n",
       "0       24381864   pomoshnik_pdn63  Будет в Москве в другом месяце   \n",
       "1       16888279  pomoshnik_pdn208  Будет в Москве в другом месяце   \n",
       "2  1749857348036   pomoshnik_pdn20  Будет в Москве в другом месяце   \n",
       "\n",
       "             old_comment next_call_date      mo  \\\n",
       "0  не в Москве, сентябрь            NaT  ГП 134   \n",
       "1  Не в Москве, сентябрь            NaT    ГП 2   \n",
       "2  Не в Москве, сентябрь            NaT  ГП 191   \n",
       "\n",
       "                          doctor_fio  phone_number  calls_amount  \\\n",
       "0  Гаджимурадова Патимат Магомедовна  9.629455e+09           1.0   \n",
       "1      Сорокина Екатерина Николаевна  9.037129e+09           1.0   \n",
       "2               Баранова Яна Юрьевна  9.660250e+09           1.0   \n",
       "\n",
       "  last_call_date    last_call_result                last_talk_result problem  \\\n",
       "0     2022-08-02  Разговор состоялся  Будет в Москве в другом месяце     NaN   \n",
       "1     2022-08-02  Разговор состоялся  Будет в Москве в другом месяце     NaN   \n",
       "2     2022-08-02  Разговор состоялся  Будет в Москве в другом месяце     NaN   \n",
       "\n",
       "    month  group  \n",
       "0  august    NaN  \n",
       "1  august    NaN  \n",
       "2  august    NaN  "
      ]
     },
     "execution_count": 21,
     "metadata": {},
     "output_type": "execute_result"
    }
   ],
   "source": [
    "patients_current_statuses.head(3)"
   ]
  },
  {
   "cell_type": "code",
   "execution_count": 22,
   "id": "fa38a124",
   "metadata": {},
   "outputs": [],
   "source": [
    "actual_patients = \\\n",
    "patients_current_statuses[\n",
    "    (patients_current_statuses.problem.isna())\n",
    "]"
   ]
  },
  {
   "cell_type": "code",
   "execution_count": 23,
   "id": "833dd1ee",
   "metadata": {},
   "outputs": [
    {
     "data": {
      "text/plain": [
       "109888"
      ]
     },
     "execution_count": 23,
     "metadata": {},
     "output_type": "execute_result"
    }
   ],
   "source": [
    "patients_current_statuses.shape[0]"
   ]
  },
  {
   "cell_type": "code",
   "execution_count": 24,
   "id": "d4b3468e",
   "metadata": {},
   "outputs": [
    {
     "data": {
      "text/plain": [
       "107838"
      ]
     },
     "execution_count": 24,
     "metadata": {},
     "output_type": "execute_result"
    }
   ],
   "source": [
    "actual_patients.shape[0]"
   ]
  },
  {
   "cell_type": "code",
   "execution_count": null,
   "id": "d749569c",
   "metadata": {},
   "outputs": [],
   "source": []
  },
  {
   "cell_type": "code",
   "execution_count": null,
   "id": "39722b8f",
   "metadata": {},
   "outputs": [],
   "source": []
  },
  {
   "cell_type": "code",
   "execution_count": null,
   "id": "cb7ca117",
   "metadata": {},
   "outputs": [],
   "source": []
  },
  {
   "cell_type": "code",
   "execution_count": null,
   "id": "b90d09ba",
   "metadata": {},
   "outputs": [],
   "source": [
    "# # уберем пациентов без прикрепления к врачу и тех, кого нет в сегодняшней выгрузке\n",
    "# patients_current_statuses = \\\n",
    "# patients_current_statuses[patients_current_statuses.emiasid.isin(\n",
    "# today_emias_data[\n",
    "#     ~((today_emias_data.doctor_fio.isna())\n",
    "#      | \n",
    "#      (today_emias_data.phone_1.isna())\n",
    "#     )\n",
    "# ].emiasid\n",
    "    \n",
    "# )]\n",
    "# print(patients_current_statuses.shape[0])"
   ]
  },
  {
   "cell_type": "code",
   "execution_count": null,
   "id": "e2834762",
   "metadata": {},
   "outputs": [],
   "source": []
  },
  {
   "cell_type": "code",
   "execution_count": null,
   "id": "ac537157",
   "metadata": {},
   "outputs": [],
   "source": []
  },
  {
   "cell_type": "code",
   "execution_count": null,
   "id": "e6617fa5",
   "metadata": {},
   "outputs": [],
   "source": [
    "stop()"
   ]
  },
  {
   "cell_type": "code",
   "execution_count": 28,
   "id": "5b1dbe08",
   "metadata": {},
   "outputs": [],
   "source": [
    "# if assistant_to_doctor_distribution[assistant_to_doctor_distribution.login.isin(assistants_presence.login)].login.nunique() != \\\n",
    "# assistants_presence[assistants_presence.login.isin(assistants_presence.login)].login.nunique():\n",
    "#     print(5 * '\\nКОЛИЧЕСТВО ПОМОЩНИКОВ В РАСКРЕПЛЕНИИ И \"НА СМЕНЕ\" РАЗНОЕ !!!\\n!!!\\n')\n",
    "# else:\n",
    "#     print('\\nКоличество помощников в раскреплении \"на смене\" соответсвтует\\n')"
   ]
  },
  {
   "cell_type": "code",
   "execution_count": 27,
   "id": "6445d3c6",
   "metadata": {
    "scrolled": true
   },
   "outputs": [
    {
     "name": "stdout",
     "output_type": "stream",
     "text": [
      "\n",
      "В сумме количество отсуствующих и присутствующих равны общему количеству помощников\n",
      "\n"
     ]
    }
   ],
   "source": [
    "if assistants_presence[assistants_presence.absence.isna()].login.nunique() + \\\n",
    "assistants_presence[assistants_presence.absence == 1].login.nunique() == assistants_presence.login.nunique():\n",
    "    print('\\nВ сумме количество отсуствующих и присутствующих равны общему количеству помощников\\n')\n",
    "else:\n",
    "    print(5 * '\\nПРОВЕРЬТЕ ТАБЛИЦУ ОТСУТСТВУЮЩИХ И ПРИСУТСТВУЮЩИХ\\n!!!\\n')"
   ]
  },
  {
   "cell_type": "code",
   "execution_count": 26,
   "id": "6aa39c45",
   "metadata": {},
   "outputs": [
    {
     "name": "stdout",
     "output_type": "stream",
     "text": [
      "168\n",
      "49\n"
     ]
    }
   ],
   "source": [
    "present_assistants = assistants_presence[assistants_presence.absence.isna()]\n",
    "print(present_assistants.shape[0])\n",
    "absent_assistants = assistants_presence[~assistants_presence.absence.isna()]\n",
    "print(absent_assistants.shape[0])"
   ]
  },
  {
   "cell_type": "code",
   "execution_count": null,
   "id": "cc094c8c",
   "metadata": {},
   "outputs": [],
   "source": []
  },
  {
   "cell_type": "code",
   "execution_count": 29,
   "id": "bf8c115c",
   "metadata": {},
   "outputs": [
    {
     "ename": "NameError",
     "evalue": "name 'assistant_to_doctor_distribution' is not defined",
     "output_type": "error",
     "traceback": [
      "\u001b[1;31m---------------------------------------------------------------------------\u001b[0m",
      "\u001b[1;31mNameError\u001b[0m                                 Traceback (most recent call last)",
      "Input \u001b[1;32mIn [29]\u001b[0m, in \u001b[0;36m<cell line: 1>\u001b[1;34m()\u001b[0m\n\u001b[1;32m----> 1\u001b[0m doctors_list \u001b[38;5;241m=\u001b[39m \u001b[38;5;28mset\u001b[39m(\u001b[43massistant_to_doctor_distribution\u001b[49m\u001b[38;5;241m.\u001b[39mdoctor_fio\u001b[38;5;241m.\u001b[39munique())\n\u001b[0;32m      2\u001b[0m doctors_list\u001b[38;5;241m.\u001b[39madd(np\u001b[38;5;241m.\u001b[39mNaN)\n",
      "\u001b[1;31mNameError\u001b[0m: name 'assistant_to_doctor_distribution' is not defined"
     ]
    }
   ],
   "source": [
    "doctors_list = set(assistant_to_doctor_distribution.doctor_fio.unique())\n",
    "doctors_list.add(np.NaN)"
   ]
  },
  {
   "cell_type": "code",
   "execution_count": null,
   "id": "f647485e",
   "metadata": {},
   "outputs": [],
   "source": [
    "stop()"
   ]
  },
  {
   "cell_type": "code",
   "execution_count": null,
   "id": "3a736769",
   "metadata": {},
   "outputs": [],
   "source": []
  },
  {
   "cell_type": "code",
   "execution_count": null,
   "id": "ff0b6b19",
   "metadata": {},
   "outputs": [],
   "source": []
  },
  {
   "cell_type": "code",
   "execution_count": null,
   "id": "60d7cf61",
   "metadata": {},
   "outputs": [],
   "source": []
  },
  {
   "cell_type": "code",
   "execution_count": null,
   "id": "01a3a2bb",
   "metadata": {},
   "outputs": [],
   "source": [
    "# actual_patients_for_task = patients_current_statuses[patients_current_statuses.group.isin({\n",
    "#     11., 25., 22., 19.,  3., 17.,  9.,  6., 14., 21.,  8.,    15., \n",
    "#     5., 23., 13., 20., 16., 18.,  4., 12.,  7.,  2.,     10. })].copy()\n",
    "# actual_patients_for_task.shape[0]"
   ]
  },
  {
   "cell_type": "code",
   "execution_count": 248,
   "id": "545abe63",
   "metadata": {},
   "outputs": [
    {
     "name": "stderr",
     "output_type": "stream",
     "text": [
      "C:\\Users\\murad_satabaev\\AppData\\Local\\Temp\\ipykernel_3580\\3421971818.py:4: SettingWithCopyWarning: \n",
      "A value is trying to be set on a copy of a slice from a DataFrame.\n",
      "Try using .loc[row_indexer,col_indexer] = value instead\n",
      "\n",
      "See the caveats in the documentation: https://pandas.pydata.org/pandas-docs/stable/user_guide/indexing.html#returning-a-view-versus-a-copy\n",
      "  first_stage_patients['priority'] = 2\n"
     ]
    },
    {
     "data": {
      "text/plain": [
       "20200"
      ]
     },
     "execution_count": 248,
     "metadata": {},
     "output_type": "execute_result"
    }
   ],
   "source": [
    "first_stage_patients = \\\n",
    "actual_patients[actual_patients.status == 'Ни разу не звонили']\n",
    "\n",
    "first_stage_patients['priority'] = 2\n",
    "first_stage_patients.shape[0]"
   ]
  },
  {
   "cell_type": "code",
   "execution_count": 249,
   "id": "81c728ea",
   "metadata": {},
   "outputs": [
    {
     "name": "stderr",
     "output_type": "stream",
     "text": [
      "C:\\Users\\murad_satabaev\\AppData\\Local\\Temp\\ipykernel_3580\\1801381114.py:11: SettingWithCopyWarning: \n",
      "A value is trying to be set on a copy of a slice from a DataFrame.\n",
      "Try using .loc[row_indexer,col_indexer] = value instead\n",
      "\n",
      "See the caveats in the documentation: https://pandas.pydata.org/pandas-docs/stable/user_guide/indexing.html#returning-a-view-versus-a-copy\n",
      "  call_back_on_date_patients['priority'] = 1\n"
     ]
    },
    {
     "data": {
      "text/plain": [
       "1488"
      ]
     },
     "execution_count": 249,
     "metadata": {},
     "output_type": "execute_result"
    }
   ],
   "source": [
    "call_back_on_date_patients = \\\n",
    "actual_patients[\n",
    "    (actual_patients.last_call_result == 'Перенос звонка на другой день')\n",
    "    &\n",
    "    (actual_patients.next_call_date.isin({\n",
    "        \n",
    "        dt.date(2022, 9, 13)\n",
    "    }))\n",
    "]\n",
    "\n",
    "call_back_on_date_patients['priority'] = 1\n",
    "call_back_on_date_patients.shape[0]"
   ]
  },
  {
   "cell_type": "code",
   "execution_count": 250,
   "id": "4035d879",
   "metadata": {},
   "outputs": [
    {
     "name": "stderr",
     "output_type": "stream",
     "text": [
      "C:\\Users\\murad_satabaev\\AppData\\Local\\Temp\\ipykernel_3580\\1002607819.py:2: FutureWarning: The default value of regex will change from True to False in a future version.\n",
      "  second_stage['emiasid'] = second_stage['emiasid'].astype(str).str.replace('\\.0', '')\n"
     ]
    },
    {
     "data": {
      "text/plain": [
       "5004"
      ]
     },
     "execution_count": 250,
     "metadata": {},
     "output_type": "execute_result"
    }
   ],
   "source": [
    "second_stage = pd.read_excel('2_цикл_емиасайди.xlsx')\n",
    "second_stage['emiasid'] = second_stage['emiasid'].astype(str).str.replace('\\.0', '')\n",
    "second_stage.shape[0]"
   ]
  },
  {
   "cell_type": "code",
   "execution_count": 251,
   "id": "e958fd0c",
   "metadata": {},
   "outputs": [
    {
     "name": "stderr",
     "output_type": "stream",
     "text": [
      "C:\\Users\\murad_satabaev\\AppData\\Local\\Temp\\ipykernel_3580\\3266157811.py:10: SettingWithCopyWarning: \n",
      "A value is trying to be set on a copy of a slice from a DataFrame.\n",
      "Try using .loc[row_indexer,col_indexer] = value instead\n",
      "\n",
      "See the caveats in the documentation: https://pandas.pydata.org/pandas-docs/stable/user_guide/indexing.html#returning-a-view-versus-a-copy\n",
      "  august_patients['priority'] = 3\n"
     ]
    },
    {
     "data": {
      "text/plain": [
       "8402"
      ]
     },
     "execution_count": 251,
     "metadata": {},
     "output_type": "execute_result"
    }
   ],
   "source": [
    "august_patients = \\\n",
    "actual_patients[\n",
    "    (actual_patients.month == 'august')\n",
    "    &\n",
    "    (actual_patients.last_call_result != 'Перенос звонка на другой день')\n",
    "    &\n",
    "    (~(actual_patients.emiasid.isin(second_stage.emiasid)))\n",
    "]\n",
    "\n",
    "august_patients['priority'] = 3\n",
    "august_patients.shape[0]"
   ]
  },
  {
   "cell_type": "code",
   "execution_count": null,
   "id": "e1f28647",
   "metadata": {},
   "outputs": [],
   "source": []
  },
  {
   "cell_type": "code",
   "execution_count": 252,
   "id": "b14559dd",
   "metadata": {},
   "outputs": [
    {
     "name": "stdout",
     "output_type": "stream",
     "text": [
      "4727\n"
     ]
    }
   ],
   "source": [
    "tomorrow_record_patients_set = set()\n",
    "for column in today_emias_data.columns[22:98:2]:\n",
    "    tomorrow_record_patients_set = \\\n",
    "    tomorrow_record_patients_set | set(today_emias_data[today_emias_data[f'{column}'] == tomorrow_y_m_d]\\\n",
    "                                   .emiasid.astype(str).unique())\n",
    "\n",
    "print(len(tomorrow_record_patients_set))"
   ]
  },
  {
   "cell_type": "code",
   "execution_count": 253,
   "id": "f2a71070",
   "metadata": {},
   "outputs": [
    {
     "name": "stdout",
     "output_type": "stream",
     "text": [
      "2120\n"
     ]
    }
   ],
   "source": [
    "tomorrow_record_patients = patients_current_statuses[(patients_current_statuses.emiasid.isin(tomorrow_record_patients_set))\n",
    "& (~(patients_current_statuses.status.isin({'Ни разу не звонили'}))) & \n",
    "(patients_current_statuses.last_call_result != 'Перенос звонка на другой день')]\n",
    "print(tomorrow_record_patients.shape[0])"
   ]
  },
  {
   "cell_type": "code",
   "execution_count": 254,
   "id": "0706e183",
   "metadata": {},
   "outputs": [
    {
     "name": "stderr",
     "output_type": "stream",
     "text": [
      "C:\\Users\\murad_satabaev\\AppData\\Local\\Temp\\ipykernel_3580\\1903791372.py:1: SettingWithCopyWarning: \n",
      "A value is trying to be set on a copy of a slice from a DataFrame.\n",
      "Try using .loc[row_indexer,col_indexer] = value instead\n",
      "\n",
      "See the caveats in the documentation: https://pandas.pydata.org/pandas-docs/stable/user_guide/indexing.html#returning-a-view-versus-a-copy\n",
      "  tomorrow_record_patients['priority'] = 4\n"
     ]
    }
   ],
   "source": [
    "tomorrow_record_patients['priority'] = 4"
   ]
  },
  {
   "cell_type": "code",
   "execution_count": 302,
   "id": "f410c568",
   "metadata": {},
   "outputs": [
    {
     "name": "stderr",
     "output_type": "stream",
     "text": [
      "C:\\Users\\murad_satabaev\\AppData\\Local\\Temp\\ipykernel_3580\\672541353.py:1: SettingWithCopyWarning: \n",
      "A value is trying to be set on a copy of a slice from a DataFrame.\n",
      "Try using .loc[row_indexer,col_indexer] = value instead\n",
      "\n",
      "See the caveats in the documentation: https://pandas.pydata.org/pandas-docs/stable/user_guide/indexing.html#returning-a-view-versus-a-copy\n",
      "  tomorrow_record_patients['status'] = 'Напомнить'\n"
     ]
    }
   ],
   "source": [
    "tomorrow_record_patients['status'] = 'Напомнить'"
   ]
  },
  {
   "cell_type": "code",
   "execution_count": null,
   "id": "334bf977",
   "metadata": {},
   "outputs": [],
   "source": []
  },
  {
   "cell_type": "code",
   "execution_count": null,
   "id": "859d2a5f",
   "metadata": {},
   "outputs": [],
   "source": []
  },
  {
   "cell_type": "code",
   "execution_count": 345,
   "id": "df705990",
   "metadata": {},
   "outputs": [
    {
     "data": {
      "text/plain": [
       "32054"
      ]
     },
     "execution_count": 345,
     "metadata": {},
     "output_type": "execute_result"
    }
   ],
   "source": [
    "final_actual_patients_for_task_ = pd.concat([\n",
    "    call_back_on_date_patients,\n",
    "    august_patients,\n",
    "    first_stage_patients,\n",
    "    tomorrow_record_patients\n",
    "]) \\\n",
    ".sort_values(['priority']).reset_index(drop=True)\n",
    "\n",
    "final_actual_patients_for_task.shape[0]"
   ]
  },
  {
   "cell_type": "code",
   "execution_count": null,
   "id": "0da22817",
   "metadata": {},
   "outputs": [],
   "source": []
  },
  {
   "cell_type": "code",
   "execution_count": 346,
   "id": "79ccaaa8",
   "metadata": {},
   "outputs": [
    {
     "data": {
      "text/plain": [
       "32054"
      ]
     },
     "execution_count": 346,
     "metadata": {},
     "output_type": "execute_result"
    }
   ],
   "source": [
    "final_actual_patients_for_task = final_actual_patients_for_task_.drop_duplicates(subset=['phone_number'], keep='first')\n",
    "final_actual_patients_for_task.shape[0]"
   ]
  },
  {
   "cell_type": "code",
   "execution_count": null,
   "id": "115c4048",
   "metadata": {},
   "outputs": [],
   "source": []
  },
  {
   "cell_type": "code",
   "execution_count": 347,
   "id": "50448630",
   "metadata": {},
   "outputs": [
    {
     "data": {
      "text/html": [
       "<div>\n",
       "<style scoped>\n",
       "    .dataframe tbody tr th:only-of-type {\n",
       "        vertical-align: middle;\n",
       "    }\n",
       "\n",
       "    .dataframe tbody tr th {\n",
       "        vertical-align: top;\n",
       "    }\n",
       "\n",
       "    .dataframe thead th {\n",
       "        text-align: right;\n",
       "    }\n",
       "</style>\n",
       "<table border=\"1\" class=\"dataframe\">\n",
       "  <thead>\n",
       "    <tr style=\"text-align: right;\">\n",
       "      <th></th>\n",
       "      <th>emiasid</th>\n",
       "      <th>login</th>\n",
       "      <th>status</th>\n",
       "      <th>old_comment</th>\n",
       "      <th>next_call_date</th>\n",
       "      <th>mo</th>\n",
       "      <th>doctor_fio</th>\n",
       "      <th>phone_number</th>\n",
       "      <th>calls_amount</th>\n",
       "      <th>last_call_date</th>\n",
       "      <th>last_call_result</th>\n",
       "      <th>last_talk_result</th>\n",
       "      <th>problem</th>\n",
       "      <th>month</th>\n",
       "      <th>group</th>\n",
       "      <th>priority</th>\n",
       "    </tr>\n",
       "  </thead>\n",
       "  <tbody>\n",
       "    <tr>\n",
       "      <th>0</th>\n",
       "      <td>905342441</td>\n",
       "      <td>pomoshnik_pdn182</td>\n",
       "      <td>Будет в Москве в другом месяце</td>\n",
       "      <td>перезвонить, слетели направления</td>\n",
       "      <td>2022-09-13</td>\n",
       "      <td>ГП 6</td>\n",
       "      <td>Гебекова Юлдуз Саладиновна</td>\n",
       "      <td>9.037985e+09</td>\n",
       "      <td>2.0</td>\n",
       "      <td>2022-09-08</td>\n",
       "      <td>Перенос звонка на другой день</td>\n",
       "      <td>NaN</td>\n",
       "      <td>NaN</td>\n",
       "      <td>august</td>\n",
       "      <td>NaN</td>\n",
       "      <td>1</td>\n",
       "    </tr>\n",
       "    <tr>\n",
       "      <th>1</th>\n",
       "      <td>17197610</td>\n",
       "      <td>pomoshnik_pdn89</td>\n",
       "      <td>Перенос звонка на другой день</td>\n",
       "      <td>перезвонить</td>\n",
       "      <td>2022-09-13</td>\n",
       "      <td>ГП 134</td>\n",
       "      <td>Хачикян Эрмине Сережаевна</td>\n",
       "      <td>9.647843e+09</td>\n",
       "      <td>1.0</td>\n",
       "      <td>2022-09-06</td>\n",
       "      <td>Перенос звонка на другой день</td>\n",
       "      <td>NaN</td>\n",
       "      <td>NaN</td>\n",
       "      <td>september</td>\n",
       "      <td>17.0</td>\n",
       "      <td>1</td>\n",
       "    </tr>\n",
       "    <tr>\n",
       "      <th>2</th>\n",
       "      <td>19475084</td>\n",
       "      <td>pomoshnik_pdn68</td>\n",
       "      <td>Перенос звонка на другой день</td>\n",
       "      <td>перезвонить, конт прием 13 09</td>\n",
       "      <td>2022-09-13</td>\n",
       "      <td>ГП 218</td>\n",
       "      <td>Кокая Мзия Евграфовна</td>\n",
       "      <td>9.055955e+09</td>\n",
       "      <td>1.0</td>\n",
       "      <td>2022-09-06</td>\n",
       "      <td>Перенос звонка на другой день</td>\n",
       "      <td>NaN</td>\n",
       "      <td>NaN</td>\n",
       "      <td>september</td>\n",
       "      <td>16.0</td>\n",
       "      <td>1</td>\n",
       "    </tr>\n",
       "  </tbody>\n",
       "</table>\n",
       "</div>"
      ],
      "text/plain": [
       "     emiasid             login                          status  \\\n",
       "0  905342441  pomoshnik_pdn182  Будет в Москве в другом месяце   \n",
       "1   17197610   pomoshnik_pdn89   Перенос звонка на другой день   \n",
       "2   19475084   pomoshnik_pdn68   Перенос звонка на другой день   \n",
       "\n",
       "                        old_comment next_call_date      mo  \\\n",
       "0  перезвонить, слетели направления     2022-09-13    ГП 6   \n",
       "1                       перезвонить     2022-09-13  ГП 134   \n",
       "2     перезвонить, конт прием 13 09     2022-09-13  ГП 218   \n",
       "\n",
       "                   doctor_fio  phone_number  calls_amount last_call_date  \\\n",
       "0  Гебекова Юлдуз Саладиновна  9.037985e+09           2.0     2022-09-08   \n",
       "1   Хачикян Эрмине Сережаевна  9.647843e+09           1.0     2022-09-06   \n",
       "2       Кокая Мзия Евграфовна  9.055955e+09           1.0     2022-09-06   \n",
       "\n",
       "                last_call_result last_talk_result problem      month  group  \\\n",
       "0  Перенос звонка на другой день              NaN     NaN     august    NaN   \n",
       "1  Перенос звонка на другой день              NaN     NaN  september   17.0   \n",
       "2  Перенос звонка на другой день              NaN     NaN  september   16.0   \n",
       "\n",
       "   priority  \n",
       "0         1  \n",
       "1         1  \n",
       "2         1  "
      ]
     },
     "execution_count": 347,
     "metadata": {},
     "output_type": "execute_result"
    }
   ],
   "source": [
    "final_actual_patients_for_task.head(3)"
   ]
  },
  {
   "cell_type": "code",
   "execution_count": 348,
   "id": "1c7ac415",
   "metadata": {
    "scrolled": true
   },
   "outputs": [],
   "source": [
    "final_actual_patients_for_task = \\\n",
    "final_actual_patients_for_task[['emiasid', 'status', 'old_comment', 'login', 'mo', 'priority', 'month']]"
   ]
  },
  {
   "cell_type": "code",
   "execution_count": 349,
   "id": "94460c1d",
   "metadata": {},
   "outputs": [
    {
     "name": "stderr",
     "output_type": "stream",
     "text": [
      "C:\\Users\\murad_satabaev\\AppData\\Local\\Temp\\ipykernel_3580\\2998909243.py:1: FutureWarning: The default value of regex will change from True to False in a future version.\n",
      "  final_actual_patients_for_task['emiasid'] = final_actual_patients_for_task['emiasid'].astype(str).str.replace('\\.0', '')\n"
     ]
    }
   ],
   "source": [
    "final_actual_patients_for_task['emiasid'] = final_actual_patients_for_task['emiasid'].astype(str).str.replace('\\.0', '')"
   ]
  },
  {
   "cell_type": "code",
   "execution_count": 350,
   "id": "9bcb7f84",
   "metadata": {},
   "outputs": [],
   "source": [
    "initial_assistant_to_patient_distribution_in_today_task = \\\n",
    "final_actual_patients_for_task.copy()"
   ]
  },
  {
   "cell_type": "code",
   "execution_count": 351,
   "id": "9b46607c",
   "metadata": {},
   "outputs": [
    {
     "data": {
      "text/plain": [
       "1619"
      ]
     },
     "execution_count": 351,
     "metadata": {},
     "output_type": "execute_result"
    }
   ],
   "source": [
    "initial_assistant_to_patient_distribution_in_today_task.old_comment.nunique()"
   ]
  },
  {
   "cell_type": "code",
   "execution_count": 352,
   "id": "e38063ad",
   "metadata": {},
   "outputs": [
    {
     "data": {
      "text/html": [
       "<div>\n",
       "<style scoped>\n",
       "    .dataframe tbody tr th:only-of-type {\n",
       "        vertical-align: middle;\n",
       "    }\n",
       "\n",
       "    .dataframe tbody tr th {\n",
       "        vertical-align: top;\n",
       "    }\n",
       "\n",
       "    .dataframe thead th {\n",
       "        text-align: right;\n",
       "    }\n",
       "</style>\n",
       "<table border=\"1\" class=\"dataframe\">\n",
       "  <thead>\n",
       "    <tr style=\"text-align: right;\">\n",
       "      <th></th>\n",
       "      <th></th>\n",
       "      <th>emiasid</th>\n",
       "    </tr>\n",
       "    <tr>\n",
       "      <th>mo</th>\n",
       "      <th>login</th>\n",
       "      <th></th>\n",
       "    </tr>\n",
       "  </thead>\n",
       "  <tbody>\n",
       "    <tr>\n",
       "      <th rowspan=\"7\" valign=\"top\">ГП 107</th>\n",
       "      <th>pomoshnik_pdn131</th>\n",
       "      <td>40</td>\n",
       "    </tr>\n",
       "    <tr>\n",
       "      <th>pomoshnik_pdn130</th>\n",
       "      <td>137</td>\n",
       "    </tr>\n",
       "    <tr>\n",
       "      <th>pomoshnik_pdn109</th>\n",
       "      <td>165</td>\n",
       "    </tr>\n",
       "    <tr>\n",
       "      <th>pomoshnik_pdn148</th>\n",
       "      <td>199</td>\n",
       "    </tr>\n",
       "    <tr>\n",
       "      <th>pomoshnik_pdn129</th>\n",
       "      <td>202</td>\n",
       "    </tr>\n",
       "    <tr>\n",
       "      <th>pomoshnik_pdn43</th>\n",
       "      <td>214</td>\n",
       "    </tr>\n",
       "    <tr>\n",
       "      <th>pomoshnik_pdn185</th>\n",
       "      <td>225</td>\n",
       "    </tr>\n",
       "    <tr>\n",
       "      <th rowspan=\"3\" valign=\"top\">ГП 109</th>\n",
       "      <th>pomoshnik_pdn134</th>\n",
       "      <td>27</td>\n",
       "    </tr>\n",
       "    <tr>\n",
       "      <th>pomoshnik_pdn155</th>\n",
       "      <td>101</td>\n",
       "    </tr>\n",
       "    <tr>\n",
       "      <th>pomoshnik_pdn168</th>\n",
       "      <td>137</td>\n",
       "    </tr>\n",
       "    <tr>\n",
       "      <th rowspan=\"4\" valign=\"top\">ГП 11</th>\n",
       "      <th>pomoshnik_pdn184</th>\n",
       "      <td>92</td>\n",
       "    </tr>\n",
       "    <tr>\n",
       "      <th>pomoshnik_pdn32</th>\n",
       "      <td>161</td>\n",
       "    </tr>\n",
       "    <tr>\n",
       "      <th>pomoshnik_pdn147</th>\n",
       "      <td>217</td>\n",
       "    </tr>\n",
       "    <tr>\n",
       "      <th>pomoshnik_pdn146</th>\n",
       "      <td>397</td>\n",
       "    </tr>\n",
       "    <tr>\n",
       "      <th rowspan=\"5\" valign=\"top\">ГП 134</th>\n",
       "      <th>pomoshnik_pdn63</th>\n",
       "      <td>79</td>\n",
       "    </tr>\n",
       "    <tr>\n",
       "      <th>pomoshnik_pdn93</th>\n",
       "      <td>129</td>\n",
       "    </tr>\n",
       "    <tr>\n",
       "      <th>pomoshnik_pdn75</th>\n",
       "      <td>195</td>\n",
       "    </tr>\n",
       "    <tr>\n",
       "      <th>pomoshnik_pdn7</th>\n",
       "      <td>254</td>\n",
       "    </tr>\n",
       "    <tr>\n",
       "      <th>pomoshnik_pdn89</th>\n",
       "      <td>255</td>\n",
       "    </tr>\n",
       "    <tr>\n",
       "      <th>ГП 166</th>\n",
       "      <th>pomoshnik_pdn209</th>\n",
       "      <td>58</td>\n",
       "    </tr>\n",
       "  </tbody>\n",
       "</table>\n",
       "</div>"
      ],
      "text/plain": [
       "                         emiasid\n",
       "mo     login                    \n",
       "ГП 107 pomoshnik_pdn131       40\n",
       "       pomoshnik_pdn130      137\n",
       "       pomoshnik_pdn109      165\n",
       "       pomoshnik_pdn148      199\n",
       "       pomoshnik_pdn129      202\n",
       "       pomoshnik_pdn43       214\n",
       "       pomoshnik_pdn185      225\n",
       "ГП 109 pomoshnik_pdn134       27\n",
       "       pomoshnik_pdn155      101\n",
       "       pomoshnik_pdn168      137\n",
       "ГП 11  pomoshnik_pdn184       92\n",
       "       pomoshnik_pdn32       161\n",
       "       pomoshnik_pdn147      217\n",
       "       pomoshnik_pdn146      397\n",
       "ГП 134 pomoshnik_pdn63        79\n",
       "       pomoshnik_pdn93       129\n",
       "       pomoshnik_pdn75       195\n",
       "       pomoshnik_pdn7        254\n",
       "       pomoshnik_pdn89       255\n",
       "ГП 166 pomoshnik_pdn209       58"
      ]
     },
     "execution_count": 352,
     "metadata": {},
     "output_type": "execute_result"
    }
   ],
   "source": [
    "initial_assistant_to_patient_distribution_in_today_task.groupby(['mo', 'login']).agg({'emiasid': 'count'}).sort_values(\n",
    "    ['mo', 'emiasid']).head(20)"
   ]
  },
  {
   "cell_type": "code",
   "execution_count": 353,
   "id": "44cb2103",
   "metadata": {},
   "outputs": [],
   "source": [
    "initial_assistant_to_patient_distribution_in_today_task.to_excel('initial_assistant_to_patient_distribution_in_today_task.xlsx')"
   ]
  },
  {
   "cell_type": "code",
   "execution_count": 354,
   "id": "15af79c4",
   "metadata": {},
   "outputs": [],
   "source": [
    "task_amount = 90"
   ]
  },
  {
   "cell_type": "code",
   "execution_count": 355,
   "id": "482dbfa9",
   "metadata": {},
   "outputs": [
    {
     "name": "stdout",
     "output_type": "stream",
     "text": [
      "CPU times: total: 1.75 s\n",
      "Wall time: 1.77 s\n"
     ]
    },
    {
     "data": {
      "text/plain": [
       "14734"
      ]
     },
     "execution_count": 355,
     "metadata": {},
     "output_type": "execute_result"
    }
   ],
   "source": [
    "%%time\n",
    "\n",
    "initial_task_for_today = pd.DataFrame()\n",
    "for login in set(initial_assistant_to_patient_distribution_in_today_task.login):\n",
    "    initial_assistant_to_patient_distribution_in_today_task_for_login = \\\n",
    "    initial_assistant_to_patient_distribution_in_today_task[initial_assistant_to_patient_distribution_in_today_task.login\n",
    "         == login].sort_values(by=[ 'priority'])\n",
    "    call_back_number_for_login = initial_assistant_to_patient_distribution_in_today_task_for_login[\n",
    "        initial_assistant_to_patient_distribution_in_today_task_for_login.status.isin({\n",
    "            'Перезвонить сегодня', 'Перенос звонка на другой день'})].shape[0]\n",
    "\n",
    "    initial_task_for_today = pd.concat(\n",
    "        [initial_task_for_today, \n",
    "\n",
    "         \n",
    "         initial_assistant_to_patient_distribution_in_today_task[\n",
    "             (initial_assistant_to_patient_distribution_in_today_task.login==login)\n",
    "         ].head(task_amount),\n",
    "        \n",
    "       \n",
    "        ]).reset_index(drop=True)\n",
    "\n",
    "initial_task_for_today.shape[0]"
   ]
  },
  {
   "cell_type": "code",
   "execution_count": 356,
   "id": "8a64cb4a",
   "metadata": {},
   "outputs": [
    {
     "data": {
      "text/html": [
       "<div>\n",
       "<style scoped>\n",
       "    .dataframe tbody tr th:only-of-type {\n",
       "        vertical-align: middle;\n",
       "    }\n",
       "\n",
       "    .dataframe tbody tr th {\n",
       "        vertical-align: top;\n",
       "    }\n",
       "\n",
       "    .dataframe thead th {\n",
       "        text-align: right;\n",
       "    }\n",
       "</style>\n",
       "<table border=\"1\" class=\"dataframe\">\n",
       "  <thead>\n",
       "    <tr style=\"text-align: right;\">\n",
       "      <th></th>\n",
       "      <th></th>\n",
       "      <th>emiasid</th>\n",
       "    </tr>\n",
       "    <tr>\n",
       "      <th>mo</th>\n",
       "      <th>login</th>\n",
       "      <th></th>\n",
       "    </tr>\n",
       "  </thead>\n",
       "  <tbody>\n",
       "    <tr>\n",
       "      <th rowspan=\"3\" valign=\"top\">ГП 9</th>\n",
       "      <th>pomoshnik_pdn243</th>\n",
       "      <td>5</td>\n",
       "    </tr>\n",
       "    <tr>\n",
       "      <th>pomoshnik_pdn244</th>\n",
       "      <td>7</td>\n",
       "    </tr>\n",
       "    <tr>\n",
       "      <th>pomoshnik_pdn219</th>\n",
       "      <td>8</td>\n",
       "    </tr>\n",
       "    <tr>\n",
       "      <th rowspan=\"2\" valign=\"top\">ГП 67</th>\n",
       "      <th>pomoshnik_pdn139</th>\n",
       "      <td>9</td>\n",
       "    </tr>\n",
       "    <tr>\n",
       "      <th>pomoshnik_pdn191</th>\n",
       "      <td>9</td>\n",
       "    </tr>\n",
       "    <tr>\n",
       "      <th>ГП 209</th>\n",
       "      <th>pomoshnik_pdn210</th>\n",
       "      <td>10</td>\n",
       "    </tr>\n",
       "    <tr>\n",
       "      <th>КДП 121</th>\n",
       "      <th>pomoshnik_pdn113</th>\n",
       "      <td>10</td>\n",
       "    </tr>\n",
       "    <tr>\n",
       "      <th>ГП 212</th>\n",
       "      <th>pomoshnik_pdn291</th>\n",
       "      <td>10</td>\n",
       "    </tr>\n",
       "    <tr>\n",
       "      <th>ГП 45</th>\n",
       "      <th>pomoshnik_pdn257</th>\n",
       "      <td>10</td>\n",
       "    </tr>\n",
       "    <tr>\n",
       "      <th>ГП 9</th>\n",
       "      <th>pomoshnik_pdn25</th>\n",
       "      <td>10</td>\n",
       "    </tr>\n",
       "  </tbody>\n",
       "</table>\n",
       "</div>"
      ],
      "text/plain": [
       "                          emiasid\n",
       "mo      login                    \n",
       "ГП 9    pomoshnik_pdn243        5\n",
       "        pomoshnik_pdn244        7\n",
       "        pomoshnik_pdn219        8\n",
       "ГП 67   pomoshnik_pdn139        9\n",
       "        pomoshnik_pdn191        9\n",
       "ГП 209  pomoshnik_pdn210       10\n",
       "КДП 121 pomoshnik_pdn113       10\n",
       "ГП 212  pomoshnik_pdn291       10\n",
       "ГП 45   pomoshnik_pdn257       10\n",
       "ГП 9    pomoshnik_pdn25        10"
      ]
     },
     "execution_count": 356,
     "metadata": {},
     "output_type": "execute_result"
    }
   ],
   "source": [
    "initial_task_for_today \\\n",
    ".groupby(['mo', 'login']).agg({'emiasid': 'count'}).sort_values(['mo', 'emiasid'])\\\n",
    ".sort_values(by='emiasid', ascending=True).head(10)"
   ]
  },
  {
   "cell_type": "code",
   "execution_count": 357,
   "id": "4624e462",
   "metadata": {},
   "outputs": [
    {
     "data": {
      "text/html": [
       "<div>\n",
       "<style scoped>\n",
       "    .dataframe tbody tr th:only-of-type {\n",
       "        vertical-align: middle;\n",
       "    }\n",
       "\n",
       "    .dataframe tbody tr th {\n",
       "        vertical-align: top;\n",
       "    }\n",
       "\n",
       "    .dataframe thead th {\n",
       "        text-align: right;\n",
       "    }\n",
       "</style>\n",
       "<table border=\"1\" class=\"dataframe\">\n",
       "  <thead>\n",
       "    <tr style=\"text-align: right;\">\n",
       "      <th></th>\n",
       "      <th></th>\n",
       "      <th>emiasid</th>\n",
       "    </tr>\n",
       "    <tr>\n",
       "      <th>mo</th>\n",
       "      <th>login</th>\n",
       "      <th></th>\n",
       "    </tr>\n",
       "  </thead>\n",
       "  <tbody>\n",
       "    <tr>\n",
       "      <th>ГП 45</th>\n",
       "      <th>pomoshnik_pdn299</th>\n",
       "      <td>90</td>\n",
       "    </tr>\n",
       "    <tr>\n",
       "      <th>ГП 52</th>\n",
       "      <th>pomoshnik_pdn194</th>\n",
       "      <td>90</td>\n",
       "    </tr>\n",
       "    <tr>\n",
       "      <th>ГП 107</th>\n",
       "      <th>pomoshnik_pdn109</th>\n",
       "      <td>90</td>\n",
       "    </tr>\n",
       "    <tr>\n",
       "      <th rowspan=\"4\" valign=\"top\">ГП 45</th>\n",
       "      <th>pomoshnik_pdn307</th>\n",
       "      <td>90</td>\n",
       "    </tr>\n",
       "    <tr>\n",
       "      <th>pomoshnik_pdn82</th>\n",
       "      <td>90</td>\n",
       "    </tr>\n",
       "    <tr>\n",
       "      <th>Помощник 11</th>\n",
       "      <td>90</td>\n",
       "    </tr>\n",
       "    <tr>\n",
       "      <th>Помощник 9</th>\n",
       "      <td>90</td>\n",
       "    </tr>\n",
       "    <tr>\n",
       "      <th rowspan=\"2\" valign=\"top\">ГП 52</th>\n",
       "      <th>pomoshnik_pdn101</th>\n",
       "      <td>90</td>\n",
       "    </tr>\n",
       "    <tr>\n",
       "      <th>pomoshnik_pdn220</th>\n",
       "      <td>90</td>\n",
       "    </tr>\n",
       "    <tr>\n",
       "      <th>ГП 36</th>\n",
       "      <th>pomoshnik_pdn42</th>\n",
       "      <td>90</td>\n",
       "    </tr>\n",
       "  </tbody>\n",
       "</table>\n",
       "</div>"
      ],
      "text/plain": [
       "                         emiasid\n",
       "mo     login                    \n",
       "ГП 45  pomoshnik_pdn299       90\n",
       "ГП 52  pomoshnik_pdn194       90\n",
       "ГП 107 pomoshnik_pdn109       90\n",
       "ГП 45  pomoshnik_pdn307       90\n",
       "       pomoshnik_pdn82        90\n",
       "       Помощник 11            90\n",
       "       Помощник 9             90\n",
       "ГП 52  pomoshnik_pdn101       90\n",
       "       pomoshnik_pdn220       90\n",
       "ГП 36  pomoshnik_pdn42        90"
      ]
     },
     "execution_count": 357,
     "metadata": {},
     "output_type": "execute_result"
    }
   ],
   "source": [
    "initial_task_for_today \\\n",
    ".groupby(['mo', 'login']).agg({'emiasid': 'count'}).sort_values(['mo', 'emiasid'])\\\n",
    ".sort_values(by='emiasid', ascending=False).head(10)"
   ]
  },
  {
   "cell_type": "code",
   "execution_count": 358,
   "id": "76c5884f",
   "metadata": {},
   "outputs": [],
   "source": [
    "rename_mo = \\\n",
    "{'ГБУЗ Г МОСКВЫ ГП № 170 ДЗМ': 'ГП 170', ' ГП 6 ДЗМ': 'ГП 6', 'ГБУЗ КДЦ 6 ДЗМ':'КДЦ 6', \n",
    "             'ГБУЗ \"ГП № 134 ДЗМ\"': 'ГП 134', 'КДЦ 4': 'КДЦ 4', 'ГБУЗ ДКЦ 1 ДЗМ': 'ДКЦ 1', 'ГБУЗ ГП 23 ДЗМ': 'ГП 23',\n",
    "             'ГБУЗ ГП 109 ДЗМ': 'ГП 109', 'ГБУЗ ГП 11 ДЗМ': 'ГП 11', 'ГБУЗ ГП 64 ДЗМ': 'ГП 64', 'ГБУЗ ГП 191 ДЗМ': 'ГП 191', \n",
    "             'ГБУЗ ГП 220 ДЗМ': 'ГП 220', 'ГБУЗ \"ГП № 218 ДЗМ\"': 'ГП 218',  'ГБУЗ ГП 107 ДЗМ': 'ГП 107', \n",
    "             'ГБУЗ \"ГП № 22 ДЗМ\"': 'ГП 22', 'ГБУЗ ДЦ 5 ДЗМ': 'ДЦ 5', 'ГБУЗ ГП 210 ДЗМ': 'ГП 210', 'ГБУЗ ГП 214 ДЗМ': 'ГП 214', \n",
    "             'ГБУЗ ГП 2 ДЗМ': 'ГП 2', 'ГБУЗ КДП 121 ДЗМ': 'КДП 121', 'ГБУЗ ГП 66 ДЗМ': 'ГП 66',  'ГБУЗ ДЦ 3 ДЗМ ': 'ДЦ 3',\n",
    "             'ГБУЗ ГП 36 ДЗМ': 'ГП 36',  'ГБУЗ ГП 62 ДЗМ ': 'ГП 62', \n",
    "            'ГБУЗ \"ГП № 52 ДЗМ\"': 'ГП 52', 'ГБУЗ \"ГП 67 ДЗМ\"': 'ГП 67', 'ГБУЗ ГП 68 ДЗМ': 'ГП 68', 'ГБУЗ ГП 175 ДЗМ': 'ГП 175',\n",
    "'ГБУЗ ГП № 209 ДЗМ': 'ГП 209',  'ГБУЗ ГП 212 ДЗМ': 'ГП 212', 'ГБУЗ ГП 19 ДЗМ': 'ГП 19', \n",
    "'ГБУЗ ГП №166 ДЗМ': 'ГП 166', 'ГБУЗ ГП 9 ДЗМ': 'ГП 9', 'ГБУЗ ГП 69 ДЗМ': 'ГП 69',\n",
    "'ГБУЗ \"ГП № 3 ДЗМ\"': 'ГП 3', 'ГБУЗ ГП 5 ДЗМ': 'ГП 5', 'ГБУЗ ГП 46 ДЗМ': 'ГП 46', 'ГБУЗ ГП №8 ДЗМ': 'ГП 8', \n",
    "'ГБУЗ \"ГП № 45 ДЗМ\"': 'ГП 45'}"
   ]
  },
  {
   "cell_type": "code",
   "execution_count": 359,
   "id": "d8c1906d",
   "metadata": {},
   "outputs": [],
   "source": [
    "mo_list = set(rename_mo.values())"
   ]
  },
  {
   "cell_type": "code",
   "execution_count": 360,
   "id": "8f4c0206",
   "metadata": {
    "scrolled": true
   },
   "outputs": [],
   "source": [
    "# new_doctor_patients = \\\n",
    "# initial_assistant_to_patient_distribution_in_today_task[(initial_assistant_to_patient_distribution_in_today_task.mo.isin(mo_list)) & \n",
    "#                     (~initial_assistant_to_patient_distribution_in_today_task.doctor_fio.isin(doctors_list))].reset_index(drop=True)\n",
    "# new_doctor_patients = new_doctor_patients[~new_doctor_patients.emiasid.isin(calls_data.emiasid)]"
   ]
  },
  {
   "cell_type": "code",
   "execution_count": 361,
   "id": "69649df2",
   "metadata": {},
   "outputs": [],
   "source": [
    "initial_task_for_today_present_assistants = initial_task_for_today[~initial_task_for_today.login.isin(absent_assistants.login)]"
   ]
  },
  {
   "cell_type": "code",
   "execution_count": 362,
   "id": "3dc5953a",
   "metadata": {},
   "outputs": [
    {
     "data": {
      "text/plain": [
       "3657"
      ]
     },
     "execution_count": 362,
     "metadata": {},
     "output_type": "execute_result"
    }
   ],
   "source": [
    "initial_task_for_today[initial_task_for_today.login.isin(absent_assistants.login)].shape[0]"
   ]
  },
  {
   "cell_type": "code",
   "execution_count": 363,
   "id": "249761c8",
   "metadata": {},
   "outputs": [
    {
     "data": {
      "text/plain": [
       "11077"
      ]
     },
     "execution_count": 363,
     "metadata": {},
     "output_type": "execute_result"
    }
   ],
   "source": [
    "initial_task_for_today_present_assistants.shape[0]"
   ]
  },
  {
   "cell_type": "code",
   "execution_count": 364,
   "id": "3067e938",
   "metadata": {},
   "outputs": [
    {
     "data": {
      "text/html": [
       "<div>\n",
       "<style scoped>\n",
       "    .dataframe tbody tr th:only-of-type {\n",
       "        vertical-align: middle;\n",
       "    }\n",
       "\n",
       "    .dataframe tbody tr th {\n",
       "        vertical-align: top;\n",
       "    }\n",
       "\n",
       "    .dataframe thead th {\n",
       "        text-align: right;\n",
       "    }\n",
       "</style>\n",
       "<table border=\"1\" class=\"dataframe\">\n",
       "  <thead>\n",
       "    <tr style=\"text-align: right;\">\n",
       "      <th></th>\n",
       "      <th>emiasid</th>\n",
       "    </tr>\n",
       "    <tr>\n",
       "      <th>login</th>\n",
       "      <th></th>\n",
       "    </tr>\n",
       "  </thead>\n",
       "  <tbody>\n",
       "    <tr>\n",
       "      <th>pomoshnik_pdn100</th>\n",
       "      <td>90</td>\n",
       "    </tr>\n",
       "    <tr>\n",
       "      <th>pomoshnik_pdn43</th>\n",
       "      <td>90</td>\n",
       "    </tr>\n",
       "    <tr>\n",
       "      <th>pomoshnik_pdn41</th>\n",
       "      <td>90</td>\n",
       "    </tr>\n",
       "    <tr>\n",
       "      <th>pomoshnik_pdn40</th>\n",
       "      <td>90</td>\n",
       "    </tr>\n",
       "    <tr>\n",
       "      <th>pomoshnik_pdn37</th>\n",
       "      <td>90</td>\n",
       "    </tr>\n",
       "    <tr>\n",
       "      <th>...</th>\n",
       "      <td>...</td>\n",
       "    </tr>\n",
       "    <tr>\n",
       "      <th>pomoshnik_pdn113</th>\n",
       "      <td>10</td>\n",
       "    </tr>\n",
       "    <tr>\n",
       "      <th>pomoshnik_pdn139</th>\n",
       "      <td>9</td>\n",
       "    </tr>\n",
       "    <tr>\n",
       "      <th>pomoshnik_pdn219</th>\n",
       "      <td>8</td>\n",
       "    </tr>\n",
       "    <tr>\n",
       "      <th>pomoshnik_pdn244</th>\n",
       "      <td>7</td>\n",
       "    </tr>\n",
       "    <tr>\n",
       "      <th>pomoshnik_pdn243</th>\n",
       "      <td>5</td>\n",
       "    </tr>\n",
       "  </tbody>\n",
       "</table>\n",
       "<p>168 rows × 1 columns</p>\n",
       "</div>"
      ],
      "text/plain": [
       "                  emiasid\n",
       "login                    \n",
       "pomoshnik_pdn100       90\n",
       "pomoshnik_pdn43        90\n",
       "pomoshnik_pdn41        90\n",
       "pomoshnik_pdn40        90\n",
       "pomoshnik_pdn37        90\n",
       "...                   ...\n",
       "pomoshnik_pdn113       10\n",
       "pomoshnik_pdn139        9\n",
       "pomoshnik_pdn219        8\n",
       "pomoshnik_pdn244        7\n",
       "pomoshnik_pdn243        5\n",
       "\n",
       "[168 rows x 1 columns]"
      ]
     },
     "execution_count": 364,
     "metadata": {},
     "output_type": "execute_result"
    }
   ],
   "source": [
    "initial_task_for_today_present_assistants.groupby('login').agg({'emiasid': 'count'}).sort_values('emiasid', ascending=False)"
   ]
  },
  {
   "cell_type": "code",
   "execution_count": 365,
   "id": "5984cf9c",
   "metadata": {},
   "outputs": [],
   "source": [
    "initial_task_for_today_absent_assistants =  initial_task_for_today[initial_task_for_today.login.isin(absent_assistants.login)] \\\n",
    "[['emiasid', 'status', 'old_comment', 'mo', 'priority', 'month']]"
   ]
  },
  {
   "cell_type": "code",
   "execution_count": 366,
   "id": "e05971cb",
   "metadata": {},
   "outputs": [],
   "source": [
    "additional_task_for_present_assistants = \\\n",
    "pd.concat([\n",
    "#     new_doctor_patients,\n",
    "    initial_task_for_today_absent_assistants\n",
    "]).reset_index(drop=True)"
   ]
  },
  {
   "cell_type": "code",
   "execution_count": 367,
   "id": "90ff9e79",
   "metadata": {},
   "outputs": [],
   "source": [
    "additional_task_for_present_assistants_by_mo = \\\n",
    "additional_task_for_present_assistants.groupby(['mo']).agg({'emiasid': 'count'}).sort_values(by=['mo', 'emiasid'])"
   ]
  },
  {
   "cell_type": "code",
   "execution_count": 368,
   "id": "d4bb3a4b",
   "metadata": {},
   "outputs": [],
   "source": [
    "distribution_count = initial_task_for_today_present_assistants.groupby(['mo']).agg({'emiasid': 'count', 'login': 'nunique'}) \\\n",
    ".sort_values(by=['mo', 'emiasid'])"
   ]
  },
  {
   "cell_type": "code",
   "execution_count": 369,
   "id": "6cffe7fc",
   "metadata": {},
   "outputs": [],
   "source": [
    "distribution_count['total_delta'] = distribution_count['login'] * task_amount - distribution_count['emiasid']"
   ]
  },
  {
   "cell_type": "code",
   "execution_count": 370,
   "id": "e2b43718",
   "metadata": {},
   "outputs": [],
   "source": [
    "distribution_count = distribution_count[distribution_count.total_delta > 0]"
   ]
  },
  {
   "cell_type": "code",
   "execution_count": 371,
   "id": "4e0a6b6d",
   "metadata": {},
   "outputs": [
    {
     "data": {
      "text/html": [
       "<div>\n",
       "<style scoped>\n",
       "    .dataframe tbody tr th:only-of-type {\n",
       "        vertical-align: middle;\n",
       "    }\n",
       "\n",
       "    .dataframe tbody tr th {\n",
       "        vertical-align: top;\n",
       "    }\n",
       "\n",
       "    .dataframe thead th {\n",
       "        text-align: right;\n",
       "    }\n",
       "</style>\n",
       "<table border=\"1\" class=\"dataframe\">\n",
       "  <thead>\n",
       "    <tr style=\"text-align: right;\">\n",
       "      <th></th>\n",
       "      <th>emiasid</th>\n",
       "      <th>status</th>\n",
       "      <th>old_comment</th>\n",
       "      <th>mo</th>\n",
       "      <th>priority</th>\n",
       "      <th>month</th>\n",
       "    </tr>\n",
       "  </thead>\n",
       "  <tbody>\n",
       "    <tr>\n",
       "      <th>0</th>\n",
       "      <td>16300369</td>\n",
       "      <td>Перенос звонка на другой день</td>\n",
       "      <td>перезвонить,записать к врачу-терапевту</td>\n",
       "      <td>ГП 166</td>\n",
       "      <td>1</td>\n",
       "      <td>september</td>\n",
       "    </tr>\n",
       "    <tr>\n",
       "      <th>1</th>\n",
       "      <td>20033633</td>\n",
       "      <td>Ни разу не звонили</td>\n",
       "      <td>NaN</td>\n",
       "      <td>ГП 166</td>\n",
       "      <td>2</td>\n",
       "      <td>september</td>\n",
       "    </tr>\n",
       "    <tr>\n",
       "      <th>2</th>\n",
       "      <td>20089689</td>\n",
       "      <td>Ни разу не звонили</td>\n",
       "      <td>NaN</td>\n",
       "      <td>ГП 166</td>\n",
       "      <td>2</td>\n",
       "      <td>september</td>\n",
       "    </tr>\n",
       "    <tr>\n",
       "      <th>3</th>\n",
       "      <td>20060127</td>\n",
       "      <td>Ни разу не звонили</td>\n",
       "      <td>NaN</td>\n",
       "      <td>ГП 166</td>\n",
       "      <td>2</td>\n",
       "      <td>september</td>\n",
       "    </tr>\n",
       "    <tr>\n",
       "      <th>4</th>\n",
       "      <td>19934499</td>\n",
       "      <td>Ни разу не звонили</td>\n",
       "      <td>NaN</td>\n",
       "      <td>ГП 166</td>\n",
       "      <td>2</td>\n",
       "      <td>september</td>\n",
       "    </tr>\n",
       "    <tr>\n",
       "      <th>...</th>\n",
       "      <td>...</td>\n",
       "      <td>...</td>\n",
       "      <td>...</td>\n",
       "      <td>...</td>\n",
       "      <td>...</td>\n",
       "      <td>...</td>\n",
       "    </tr>\n",
       "    <tr>\n",
       "      <th>3652</th>\n",
       "      <td>17291655</td>\n",
       "      <td>Будет в Москве в другом месяце</td>\n",
       "      <td>не в Москве, сентябрь</td>\n",
       "      <td>ГП 109</td>\n",
       "      <td>3</td>\n",
       "      <td>august</td>\n",
       "    </tr>\n",
       "    <tr>\n",
       "      <th>3653</th>\n",
       "      <td>16743767</td>\n",
       "      <td>Будет в Москве в другом месяце</td>\n",
       "      <td>не в Москве, сентябрь</td>\n",
       "      <td>ГП 109</td>\n",
       "      <td>3</td>\n",
       "      <td>august</td>\n",
       "    </tr>\n",
       "    <tr>\n",
       "      <th>3654</th>\n",
       "      <td>29181907</td>\n",
       "      <td>Будет в Москве в другом месяце</td>\n",
       "      <td>Не в Москве, сентябрь</td>\n",
       "      <td>ГП 109</td>\n",
       "      <td>3</td>\n",
       "      <td>august</td>\n",
       "    </tr>\n",
       "    <tr>\n",
       "      <th>3655</th>\n",
       "      <td>22216482</td>\n",
       "      <td>Будет в Москве в другом месяце</td>\n",
       "      <td>Не в Москве, сентябрь</td>\n",
       "      <td>ГП 109</td>\n",
       "      <td>3</td>\n",
       "      <td>august</td>\n",
       "    </tr>\n",
       "    <tr>\n",
       "      <th>3656</th>\n",
       "      <td>18893903</td>\n",
       "      <td>Будет в Москве в другом месяце</td>\n",
       "      <td>не в Москве, сентябрь</td>\n",
       "      <td>ГП 109</td>\n",
       "      <td>3</td>\n",
       "      <td>august</td>\n",
       "    </tr>\n",
       "  </tbody>\n",
       "</table>\n",
       "<p>3657 rows × 6 columns</p>\n",
       "</div>"
      ],
      "text/plain": [
       "       emiasid                          status  \\\n",
       "0     16300369   Перенос звонка на другой день   \n",
       "1     20033633              Ни разу не звонили   \n",
       "2     20089689              Ни разу не звонили   \n",
       "3     20060127              Ни разу не звонили   \n",
       "4     19934499              Ни разу не звонили   \n",
       "...        ...                             ...   \n",
       "3652  17291655  Будет в Москве в другом месяце   \n",
       "3653  16743767  Будет в Москве в другом месяце   \n",
       "3654  29181907  Будет в Москве в другом месяце   \n",
       "3655  22216482  Будет в Москве в другом месяце   \n",
       "3656  18893903  Будет в Москве в другом месяце   \n",
       "\n",
       "                                 old_comment      mo  priority      month  \n",
       "0     перезвонить,записать к врачу-терапевту  ГП 166         1  september  \n",
       "1                                        NaN  ГП 166         2  september  \n",
       "2                                        NaN  ГП 166         2  september  \n",
       "3                                        NaN  ГП 166         2  september  \n",
       "4                                        NaN  ГП 166         2  september  \n",
       "...                                      ...     ...       ...        ...  \n",
       "3652                   не в Москве, сентябрь  ГП 109         3     august  \n",
       "3653                   не в Москве, сентябрь  ГП 109         3     august  \n",
       "3654                   Не в Москве, сентябрь  ГП 109         3     august  \n",
       "3655                   Не в Москве, сентябрь  ГП 109         3     august  \n",
       "3656                   не в Москве, сентябрь  ГП 109         3     august  \n",
       "\n",
       "[3657 rows x 6 columns]"
      ]
     },
     "execution_count": 371,
     "metadata": {},
     "output_type": "execute_result"
    }
   ],
   "source": [
    "additional_task_for_present_assistants"
   ]
  },
  {
   "cell_type": "code",
   "execution_count": 372,
   "id": "3fc05a8b",
   "metadata": {},
   "outputs": [],
   "source": [
    "final_task_predistribution = \\\n",
    "pd.concat([initial_task_for_today_present_assistants, additional_task_for_present_assistants]).reset_index(drop=True)"
   ]
  },
  {
   "cell_type": "code",
   "execution_count": 373,
   "id": "e111fbba",
   "metadata": {},
   "outputs": [
    {
     "data": {
      "text/plain": [
       "3657"
      ]
     },
     "execution_count": 373,
     "metadata": {},
     "output_type": "execute_result"
    }
   ],
   "source": [
    "empty_login_patients_amount_before = final_task_predistribution[final_task_predistribution.login.isna()].shape[0]\n",
    "empty_login_patients_amount_before"
   ]
  },
  {
   "cell_type": "code",
   "execution_count": 374,
   "id": "650e69ab",
   "metadata": {},
   "outputs": [
    {
     "name": "stdout",
     "output_type": "stream",
     "text": [
      "CPU times: total: 14.9 s\n",
      "Wall time: 14.9 s\n"
     ]
    }
   ],
   "source": [
    "%%time\n",
    "\n",
    "for mo in distribution_count.index:\n",
    "    \n",
    "    while final_task_predistribution[final_task_predistribution.mo == mo].groupby('login') \\\n",
    "    .agg({'emiasid': 'count'}).min()['emiasid'] < task_amount and \\\n",
    "    final_task_predistribution[(final_task_predistribution.login.isna()) & (final_task_predistribution.mo == mo)] \\\n",
    "    .shape[0] > 0:\n",
    "        \n",
    "        miminal_in_mo_assistant_emiasid_amount = final_task_predistribution[final_task_predistribution.mo == mo] \\\n",
    "        .groupby('login').agg({'emiasid': 'count'}).min()['emiasid']\n",
    "\n",
    "        minimal_in_mo_emiasid_amount_login = final_task_predistribution[final_task_predistribution.mo == mo] \\\n",
    "        .groupby('login').agg({'emiasid': 'count'}).sort_values(by='emiasid').index[0]\n",
    "        \n",
    "        \n",
    "        empty_login_in_mo_index = final_task_predistribution[\n",
    "            (final_task_predistribution.login.isna()) & (final_task_predistribution.mo == mo)\n",
    "        ].index[0]\n",
    "\n",
    "        final_task_predistribution.loc[empty_login_in_mo_index, 'login'] = minimal_in_mo_emiasid_amount_login\n"
   ]
  },
  {
   "cell_type": "code",
   "execution_count": 375,
   "id": "0f2c344a",
   "metadata": {},
   "outputs": [
    {
     "data": {
      "text/plain": [
       "2442"
      ]
     },
     "execution_count": 375,
     "metadata": {},
     "output_type": "execute_result"
    }
   ],
   "source": [
    "empty_login_patients_amount_after = final_task_predistribution[final_task_predistribution.login.isna()].shape[0]\n",
    "empty_login_patients_amount_after"
   ]
  },
  {
   "cell_type": "code",
   "execution_count": 376,
   "id": "b2b0e146",
   "metadata": {},
   "outputs": [],
   "source": [
    "check_table = distribution_count.merge(additional_task_for_present_assistants_by_mo,left_index=True, right_index=True) \\\n",
    "[['total_delta', 'emiasid_y']]"
   ]
  },
  {
   "cell_type": "code",
   "execution_count": 377,
   "id": "9680ffa0",
   "metadata": {},
   "outputs": [],
   "source": [
    "check_table.loc[check_table['total_delta'] > check_table['emiasid_y'], 'real_addition'] = \\\n",
    "check_table.loc[check_table['total_delta'] > check_table['emiasid_y'], 'emiasid_y']\n",
    "\n",
    "check_table.loc[check_table['total_delta'] <= check_table['emiasid_y'], 'real_addition'] = \\\n",
    "check_table.loc[check_table['total_delta'] <= check_table['emiasid_y'], 'total_delta']"
   ]
  },
  {
   "cell_type": "code",
   "execution_count": 378,
   "id": "1fe8f17d",
   "metadata": {},
   "outputs": [
    {
     "data": {
      "text/plain": [
       "1215.0"
      ]
     },
     "execution_count": 378,
     "metadata": {},
     "output_type": "execute_result"
    }
   ],
   "source": [
    "real_change_of_emty_login_patients_amount = check_table.real_addition.sum()\n",
    "real_change_of_emty_login_patients_amount"
   ]
  },
  {
   "cell_type": "code",
   "execution_count": 379,
   "id": "63ec6182",
   "metadata": {},
   "outputs": [
    {
     "data": {
      "text/plain": [
       "True"
      ]
     },
     "execution_count": 379,
     "metadata": {},
     "output_type": "execute_result"
    }
   ],
   "source": [
    "empty_login_patients_amount_before - empty_login_patients_amount_after == real_change_of_emty_login_patients_amount"
   ]
  },
  {
   "cell_type": "code",
   "execution_count": 380,
   "id": "942e3c5e",
   "metadata": {},
   "outputs": [],
   "source": [
    "final_task_distribution = final_task_predistribution[~final_task_predistribution.login.isna()] \\\n",
    ".copy().reset_index(drop=True)"
   ]
  },
  {
   "cell_type": "code",
   "execution_count": 381,
   "id": "f26194b6",
   "metadata": {},
   "outputs": [
    {
     "data": {
      "text/plain": [
       "12292"
      ]
     },
     "execution_count": 381,
     "metadata": {},
     "output_type": "execute_result"
    }
   ],
   "source": [
    "final_task_distribution.shape[0]"
   ]
  },
  {
   "cell_type": "code",
   "execution_count": 382,
   "id": "2c6be748",
   "metadata": {},
   "outputs": [
    {
     "data": {
      "text/plain": [
       "Index(['emiasid', 'status', 'old_comment', 'login', 'mo', 'priority', 'month'], dtype='object')"
      ]
     },
     "execution_count": 382,
     "metadata": {},
     "output_type": "execute_result"
    }
   ],
   "source": [
    "final_task_distribution.columns"
   ]
  },
  {
   "cell_type": "code",
   "execution_count": null,
   "id": "057ecfc2",
   "metadata": {},
   "outputs": [],
   "source": []
  },
  {
   "cell_type": "markdown",
   "id": "46be88eb",
   "metadata": {},
   "source": [
    "# ПРОВЕРКА"
   ]
  },
  {
   "cell_type": "code",
   "execution_count": 237,
   "id": "bc9c9f1f",
   "metadata": {},
   "outputs": [
    {
     "data": {
      "text/plain": [
       "49"
      ]
     },
     "execution_count": 237,
     "metadata": {},
     "output_type": "execute_result"
    }
   ],
   "source": [
    "assistants_presence[assistants_presence.absence == 1].shape[0]"
   ]
  },
  {
   "cell_type": "code",
   "execution_count": 168,
   "id": "6a40d41f",
   "metadata": {},
   "outputs": [
    {
     "data": {
      "text/plain": [
       "3757"
      ]
     },
     "execution_count": 168,
     "metadata": {},
     "output_type": "execute_result"
    }
   ],
   "source": [
    "empty_login_patients_amount_before"
   ]
  },
  {
   "cell_type": "code",
   "execution_count": 169,
   "id": "8e784d27",
   "metadata": {},
   "outputs": [
    {
     "data": {
      "text/plain": [
       "2858"
      ]
     },
     "execution_count": 169,
     "metadata": {},
     "output_type": "execute_result"
    }
   ],
   "source": [
    "empty_login_patients_amount_after"
   ]
  },
  {
   "cell_type": "code",
   "execution_count": 170,
   "id": "47d77050",
   "metadata": {},
   "outputs": [
    {
     "data": {
      "text/plain": [
       "899.0"
      ]
     },
     "execution_count": 170,
     "metadata": {},
     "output_type": "execute_result"
    }
   ],
   "source": [
    "real_change_of_emty_login_patients_amount"
   ]
  },
  {
   "cell_type": "code",
   "execution_count": 171,
   "id": "b1b5c7a5",
   "metadata": {},
   "outputs": [
    {
     "data": {
      "text/plain": [
       "True"
      ]
     },
     "execution_count": 171,
     "metadata": {},
     "output_type": "execute_result"
    }
   ],
   "source": [
    "empty_login_patients_amount_before - empty_login_patients_amount_after == real_change_of_emty_login_patients_amount"
   ]
  },
  {
   "cell_type": "code",
   "execution_count": null,
   "id": "d91651fd",
   "metadata": {},
   "outputs": [],
   "source": []
  },
  {
   "cell_type": "code",
   "execution_count": 172,
   "id": "3993d6e6",
   "metadata": {},
   "outputs": [
    {
     "data": {
      "text/plain": [
       "15912"
      ]
     },
     "execution_count": 172,
     "metadata": {},
     "output_type": "execute_result"
    }
   ],
   "source": [
    "final_task_distribution.shape[0] + empty_login_patients_amount_after"
   ]
  },
  {
   "cell_type": "code",
   "execution_count": 173,
   "id": "19f45216",
   "metadata": {},
   "outputs": [
    {
     "data": {
      "text/plain": [
       "15912"
      ]
     },
     "execution_count": 173,
     "metadata": {},
     "output_type": "execute_result"
    }
   ],
   "source": [
    "initial_task_for_today.shape[0] \n",
    "# + new_doctor_patients.shape[0]"
   ]
  },
  {
   "cell_type": "code",
   "execution_count": null,
   "id": "1ab81f5f",
   "metadata": {},
   "outputs": [],
   "source": []
  },
  {
   "cell_type": "code",
   "execution_count": null,
   "id": "12aceefb",
   "metadata": {},
   "outputs": [],
   "source": []
  },
  {
   "cell_type": "code",
   "execution_count": 174,
   "id": "87b3572a",
   "metadata": {},
   "outputs": [
    {
     "data": {
      "text/plain": [
       "array([ True])"
      ]
     },
     "execution_count": 174,
     "metadata": {},
     "output_type": "execute_result"
    }
   ],
   "source": [
    "final_task_distribution.emiasid.isin(\n",
    "    patients_current_statuses.emiasid).unique()"
   ]
  },
  {
   "cell_type": "code",
   "execution_count": 175,
   "id": "3b81703a",
   "metadata": {},
   "outputs": [
    {
     "ename": "NameError",
     "evalue": "name 'calls_data' is not defined",
     "output_type": "error",
     "traceback": [
      "\u001b[1;31m---------------------------------------------------------------------------\u001b[0m",
      "\u001b[1;31mNameError\u001b[0m                                 Traceback (most recent call last)",
      "Input \u001b[1;32mIn [175]\u001b[0m, in \u001b[0;36m<cell line: 1>\u001b[1;34m()\u001b[0m\n\u001b[1;32m----> 1\u001b[0m final_task_distribution[final_task_distribution\u001b[38;5;241m.\u001b[39mstatus \u001b[38;5;241m==\u001b[39m \u001b[38;5;124m'\u001b[39m\u001b[38;5;124mНи разу не звонили\u001b[39m\u001b[38;5;124m'\u001b[39m]\u001b[38;5;241m.\u001b[39memiasid\u001b[38;5;241m.\u001b[39misin(\u001b[43mcalls_data\u001b[49m\u001b[38;5;241m.\u001b[39memiasid)\u001b[38;5;241m.\u001b[39munique()\n",
      "\u001b[1;31mNameError\u001b[0m: name 'calls_data' is not defined"
     ]
    }
   ],
   "source": [
    "final_task_distribution[final_task_distribution.status == 'Ни разу не звонили'].emiasid.isin(calls_data.emiasid).unique()"
   ]
  },
  {
   "cell_type": "code",
   "execution_count": 176,
   "id": "683ca7b6",
   "metadata": {},
   "outputs": [
    {
     "ename": "NameError",
     "evalue": "name 'calls_data' is not defined",
     "output_type": "error",
     "traceback": [
      "\u001b[1;31m---------------------------------------------------------------------------\u001b[0m",
      "\u001b[1;31mNameError\u001b[0m                                 Traceback (most recent call last)",
      "Input \u001b[1;32mIn [176]\u001b[0m, in \u001b[0;36m<cell line: 1>\u001b[1;34m()\u001b[0m\n\u001b[1;32m----> 1\u001b[0m final_task_distribution[\u001b[38;5;241m~\u001b[39m(final_task_distribution\u001b[38;5;241m.\u001b[39mstatus \u001b[38;5;241m==\u001b[39m \u001b[38;5;124m'\u001b[39m\u001b[38;5;124mНи разу не звонили\u001b[39m\u001b[38;5;124m'\u001b[39m)]\u001b[38;5;241m.\u001b[39memiasid\u001b[38;5;241m.\u001b[39misin(\u001b[43mcalls_data\u001b[49m\u001b[38;5;241m.\u001b[39memiasid)\u001b[38;5;241m.\u001b[39munique()\n",
      "\u001b[1;31mNameError\u001b[0m: name 'calls_data' is not defined"
     ]
    }
   ],
   "source": [
    "final_task_distribution[~(final_task_distribution.status == 'Ни разу не звонили')].emiasid.isin(calls_data.emiasid).unique()"
   ]
  },
  {
   "cell_type": "code",
   "execution_count": null,
   "id": "f781f651",
   "metadata": {},
   "outputs": [],
   "source": []
  },
  {
   "cell_type": "code",
   "execution_count": 238,
   "id": "4f1fd912",
   "metadata": {},
   "outputs": [
    {
     "ename": "NameError",
     "evalue": "name 'call_back_today_patients' is not defined",
     "output_type": "error",
     "traceback": [
      "\u001b[1;31m---------------------------------------------------------------------------\u001b[0m",
      "\u001b[1;31mNameError\u001b[0m                                 Traceback (most recent call last)",
      "Input \u001b[1;32mIn [238]\u001b[0m, in \u001b[0;36m<cell line: 1>\u001b[1;34m()\u001b[0m\n\u001b[1;32m----> 1\u001b[0m \u001b[43mcall_back_today_patients\u001b[49m\u001b[38;5;241m.\u001b[39mshape[\u001b[38;5;241m0\u001b[39m]\n",
      "\u001b[1;31mNameError\u001b[0m: name 'call_back_today_patients' is not defined"
     ]
    }
   ],
   "source": [
    "call_back_today_patients.shape[0]"
   ]
  },
  {
   "cell_type": "code",
   "execution_count": null,
   "id": "46d08db4",
   "metadata": {},
   "outputs": [],
   "source": [
    "# call_backs_overdue.shape[0]"
   ]
  },
  {
   "cell_type": "code",
   "execution_count": 383,
   "id": "388b26be",
   "metadata": {},
   "outputs": [],
   "source": [
    "final_task_distribution = final_task_distribution.rename(columns={'login': 'operator_login'})"
   ]
  },
  {
   "cell_type": "code",
   "execution_count": 384,
   "id": "caf2d1c9",
   "metadata": {},
   "outputs": [],
   "source": [
    "final_task_distribution = final_task_distribution.rename(columns={'last_comment': 'old_comment'})"
   ]
  },
  {
   "cell_type": "code",
   "execution_count": 385,
   "id": "03cb6de6",
   "metadata": {},
   "outputs": [
    {
     "data": {
      "text/plain": [
       "12292"
      ]
     },
     "execution_count": 385,
     "metadata": {},
     "output_type": "execute_result"
    }
   ],
   "source": [
    "final_task_distribution.shape[0]"
   ]
  },
  {
   "cell_type": "code",
   "execution_count": 386,
   "id": "ac380ee3",
   "metadata": {},
   "outputs": [
    {
     "data": {
      "text/html": [
       "<div>\n",
       "<style scoped>\n",
       "    .dataframe tbody tr th:only-of-type {\n",
       "        vertical-align: middle;\n",
       "    }\n",
       "\n",
       "    .dataframe tbody tr th {\n",
       "        vertical-align: top;\n",
       "    }\n",
       "\n",
       "    .dataframe thead th {\n",
       "        text-align: right;\n",
       "    }\n",
       "</style>\n",
       "<table border=\"1\" class=\"dataframe\">\n",
       "  <thead>\n",
       "    <tr style=\"text-align: right;\">\n",
       "      <th></th>\n",
       "      <th>emiasid</th>\n",
       "    </tr>\n",
       "    <tr>\n",
       "      <th>operator_login</th>\n",
       "      <th></th>\n",
       "    </tr>\n",
       "  </thead>\n",
       "  <tbody>\n",
       "    <tr>\n",
       "      <th>pomoshnik_pdn243</th>\n",
       "      <td>5</td>\n",
       "    </tr>\n",
       "    <tr>\n",
       "      <th>pomoshnik_pdn244</th>\n",
       "      <td>7</td>\n",
       "    </tr>\n",
       "    <tr>\n",
       "      <th>pomoshnik_pdn219</th>\n",
       "      <td>8</td>\n",
       "    </tr>\n",
       "    <tr>\n",
       "      <th>pomoshnik_pdn210</th>\n",
       "      <td>10</td>\n",
       "    </tr>\n",
       "    <tr>\n",
       "      <th>pomoshnik_pdn25</th>\n",
       "      <td>10</td>\n",
       "    </tr>\n",
       "    <tr>\n",
       "      <th>pomoshnik_pdn294</th>\n",
       "      <td>11</td>\n",
       "    </tr>\n",
       "    <tr>\n",
       "      <th>pomoshnik_pdn253</th>\n",
       "      <td>13</td>\n",
       "    </tr>\n",
       "    <tr>\n",
       "      <th>pomoshnik_pdn193</th>\n",
       "      <td>16</td>\n",
       "    </tr>\n",
       "    <tr>\n",
       "      <th>pomoshnik_pdn139</th>\n",
       "      <td>17</td>\n",
       "    </tr>\n",
       "    <tr>\n",
       "      <th>pomoshnik_pdn265</th>\n",
       "      <td>18</td>\n",
       "    </tr>\n",
       "    <tr>\n",
       "      <th>pomoshnik_pdn237</th>\n",
       "      <td>19</td>\n",
       "    </tr>\n",
       "    <tr>\n",
       "      <th>pomoshnik_pdn242</th>\n",
       "      <td>19</td>\n",
       "    </tr>\n",
       "    <tr>\n",
       "      <th>pomoshnik_pdn238</th>\n",
       "      <td>20</td>\n",
       "    </tr>\n",
       "    <tr>\n",
       "      <th>pomoshnik_pdn240</th>\n",
       "      <td>20</td>\n",
       "    </tr>\n",
       "    <tr>\n",
       "      <th>pomoshnik_pdn270</th>\n",
       "      <td>20</td>\n",
       "    </tr>\n",
       "    <tr>\n",
       "      <th>pomoshnik_pdn200</th>\n",
       "      <td>22</td>\n",
       "    </tr>\n",
       "    <tr>\n",
       "      <th>pomoshnik_pdn239</th>\n",
       "      <td>23</td>\n",
       "    </tr>\n",
       "    <tr>\n",
       "      <th>pomoshnik_pdn247</th>\n",
       "      <td>27</td>\n",
       "    </tr>\n",
       "    <tr>\n",
       "      <th>pomoshnik_pdn217</th>\n",
       "      <td>30</td>\n",
       "    </tr>\n",
       "    <tr>\n",
       "      <th>pomoshnik_pdn90</th>\n",
       "      <td>31</td>\n",
       "    </tr>\n",
       "    <tr>\n",
       "      <th>pomoshnik_pdn57</th>\n",
       "      <td>32</td>\n",
       "    </tr>\n",
       "    <tr>\n",
       "      <th>pomoshnik_pdn202</th>\n",
       "      <td>32</td>\n",
       "    </tr>\n",
       "    <tr>\n",
       "      <th>pomoshnik_pdn199</th>\n",
       "      <td>33</td>\n",
       "    </tr>\n",
       "    <tr>\n",
       "      <th>pomoshnik_pdn72</th>\n",
       "      <td>34</td>\n",
       "    </tr>\n",
       "    <tr>\n",
       "      <th>pomoshnik_pdn35</th>\n",
       "      <td>35</td>\n",
       "    </tr>\n",
       "    <tr>\n",
       "      <th>pomoshnik_pdn282</th>\n",
       "      <td>37</td>\n",
       "    </tr>\n",
       "    <tr>\n",
       "      <th>pomoshnik_pdn286</th>\n",
       "      <td>38</td>\n",
       "    </tr>\n",
       "    <tr>\n",
       "      <th>pomoshnik_pdn230</th>\n",
       "      <td>38</td>\n",
       "    </tr>\n",
       "    <tr>\n",
       "      <th>pomoshnik_pdn229</th>\n",
       "      <td>38</td>\n",
       "    </tr>\n",
       "    <tr>\n",
       "      <th>pomoshnik_pdn291</th>\n",
       "      <td>38</td>\n",
       "    </tr>\n",
       "  </tbody>\n",
       "</table>\n",
       "</div>"
      ],
      "text/plain": [
       "                  emiasid\n",
       "operator_login           \n",
       "pomoshnik_pdn243        5\n",
       "pomoshnik_pdn244        7\n",
       "pomoshnik_pdn219        8\n",
       "pomoshnik_pdn210       10\n",
       "pomoshnik_pdn25        10\n",
       "pomoshnik_pdn294       11\n",
       "pomoshnik_pdn253       13\n",
       "pomoshnik_pdn193       16\n",
       "pomoshnik_pdn139       17\n",
       "pomoshnik_pdn265       18\n",
       "pomoshnik_pdn237       19\n",
       "pomoshnik_pdn242       19\n",
       "pomoshnik_pdn238       20\n",
       "pomoshnik_pdn240       20\n",
       "pomoshnik_pdn270       20\n",
       "pomoshnik_pdn200       22\n",
       "pomoshnik_pdn239       23\n",
       "pomoshnik_pdn247       27\n",
       "pomoshnik_pdn217       30\n",
       "pomoshnik_pdn90        31\n",
       "pomoshnik_pdn57        32\n",
       "pomoshnik_pdn202       32\n",
       "pomoshnik_pdn199       33\n",
       "pomoshnik_pdn72        34\n",
       "pomoshnik_pdn35        35\n",
       "pomoshnik_pdn282       37\n",
       "pomoshnik_pdn286       38\n",
       "pomoshnik_pdn230       38\n",
       "pomoshnik_pdn229       38\n",
       "pomoshnik_pdn291       38"
      ]
     },
     "execution_count": 386,
     "metadata": {},
     "output_type": "execute_result"
    }
   ],
   "source": [
    "final_task_distribution.groupby('operator_login').agg({'emiasid': 'count'}).sort_values(by=['emiasid']).head(30)"
   ]
  },
  {
   "cell_type": "code",
   "execution_count": 388,
   "id": "5cbc1d18",
   "metadata": {},
   "outputs": [],
   "source": [
    "final_task_distribution['emiasid'] = final_task_distribution['emiasid']"
   ]
  },
  {
   "cell_type": "code",
   "execution_count": 391,
   "id": "494e7fec",
   "metadata": {},
   "outputs": [],
   "source": [
    "final_task_distribution[final_task_distribution.month == 'august']\\\n",
    ".to_excel(rf'august_task_for_today_{today_y_m_d}.xlsx', index=False)"
   ]
  },
  {
   "cell_type": "code",
   "execution_count": 392,
   "id": "29d90f94",
   "metadata": {},
   "outputs": [],
   "source": [
    "final_task_distribution[final_task_distribution.month == 'september']\\\n",
    ".to_excel(rf'september_task_for_today_{today_y_m_d}.xlsx', index=False)"
   ]
  },
  {
   "cell_type": "code",
   "execution_count": 393,
   "id": "6ba20cdb",
   "metadata": {},
   "outputs": [],
   "source": [
    "final_task_distribution.to_excel(rf'full_task_for_today_{today_y_m_d}.xlsx', index=False)"
   ]
  },
  {
   "cell_type": "code",
   "execution_count": null,
   "id": "a5f6432a",
   "metadata": {},
   "outputs": [],
   "source": [
    "assistants_presence"
   ]
  },
  {
   "cell_type": "code",
   "execution_count": null,
   "id": "058aa7ae",
   "metadata": {},
   "outputs": [],
   "source": []
  }
 ],
 "metadata": {
  "kernelspec": {
   "display_name": "Python 3 (ipykernel)",
   "language": "python",
   "name": "python3"
  },
  "language_info": {
   "codemirror_mode": {
    "name": "ipython",
    "version": 3
   },
   "file_extension": ".py",
   "mimetype": "text/x-python",
   "name": "python",
   "nbconvert_exporter": "python",
   "pygments_lexer": "ipython3",
   "version": "3.10.4"
  }
 },
 "nbformat": 4,
 "nbformat_minor": 5
}
