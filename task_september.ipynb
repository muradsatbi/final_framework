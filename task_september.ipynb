{
 "cells": [
  {
   "cell_type": "code",
   "execution_count": 1,
   "id": "46b622c0",
   "metadata": {},
   "outputs": [],
   "source": [
    "import os\n",
    "import pandas as pd\n",
    "import datetime as dt\n",
    "import numpy as np\n",
    "import re"
   ]
  },
  {
   "cell_type": "code",
   "execution_count": 2,
   "id": "fe673d61",
   "metadata": {},
   "outputs": [],
   "source": [
    "column_names = {'Emiasid': 'emiasid', 'Emiasid ': 'emiasid' , 'emiasid ': 'emiasid', 'EMIAS_ID': 'emiasid', 'МО': 'mo', \n",
    "                'МУ': 'mu', 'Логин оператора': 'login', 'Дата и время звонка': 'call_date', 'Результат звонка': 'call_result',\n",
    "                'Результат звонка ': 'call_result', 'Разговор состоялся': 'talk_result', 'Комменатрий': 'comment', \n",
    "                'Дата и время переноса': 'next_call_date', 'Контактный телефон': 'phone_number', 'ФИО врача': 'doctor_fio', \n",
    "                'ФИО помощника врача': 'assistant_fio', 'Логин помощника врача': 'login', 'Зал №': 'hall_number',\n",
    "                'Логин naumen': 'login', 'МО закрепления': 'mo', 'Отсутствует на рабочем месте': 'absence'}"
   ]
  },
  {
   "cell_type": "code",
   "execution_count": 3,
   "id": "2775ffd9",
   "metadata": {},
   "outputs": [
    {
     "name": "stdout",
     "output_type": "stream",
     "text": [
      "2022_09_15\n"
     ]
    }
   ],
   "source": [
    "today = pd.Timestamp(dt.datetime.today().date())\n",
    "today_ymd = today.strftime('%Y%m%d')\n",
    "today_y_m_d = today.strftime('%Y_%m_%d')\n",
    "\n",
    "yesterday = today - dt.timedelta(days=1)\n",
    "yesterday_ymd = yesterday.strftime('%Y%m%d')\n",
    "yesterday_y_m_d = yesterday.strftime('%Y-%m-%d')\n",
    "\n",
    "tomorrow = today + dt.timedelta(days=1)\n",
    "tomorrow_ymd = tomorrow.strftime('%Y%m%d')\n",
    "tomorrow_y_m_d = tomorrow.strftime('%Y-%m-%d')\n",
    "\n",
    "print(today_y_m_d)"
   ]
  },
  {
   "cell_type": "code",
   "execution_count": null,
   "id": "5a018e64",
   "metadata": {},
   "outputs": [],
   "source": []
  },
  {
   "cell_type": "code",
   "execution_count": 4,
   "id": "ad9e64be",
   "metadata": {},
   "outputs": [
    {
     "name": "stdout",
     "output_type": "stream",
     "text": [
      "C:\\\\Users\\murad_satabaev\\Documents\\GitHub\\final_framework\\merged_statuses\\total_patients_current_statuses_merged_with_logins_2022_09_15.xlsx\n"
     ]
    }
   ],
   "source": [
    "# путь файла с текущими статусами пациентов\n",
    "patients_current_statuses_path = \\\n",
    "r'\\Users\\murad_satabaev\\Documents\\GitHub\\final_framework\\merged_statuses'\n",
    "\n",
    "patients_current_statuses_path = patients_current_statuses_path.split('\\\\')\n",
    "patients_current_statuses_data = os.path.join('C:\\\\', r'\\\\', *patients_current_statuses_path,\n",
    "                                             f'total_patients_current_statuses_merged_with_logins_{today_y_m_d}.xlsx')\n",
    "print(patients_current_statuses_data)"
   ]
  },
  {
   "cell_type": "code",
   "execution_count": null,
   "id": "51866654",
   "metadata": {},
   "outputs": [],
   "source": []
  },
  {
   "cell_type": "code",
   "execution_count": 5,
   "id": "e5ed60c6",
   "metadata": {},
   "outputs": [
    {
     "name": "stdout",
     "output_type": "stream",
     "text": [
      "\\\\t999\\Сетевой диск\\pdn\\data\\emias_data\\xlsx\n"
     ]
    }
   ],
   "source": [
    "# путь файла с сегодняшними \n",
    "emias_data_path = r'\\\\t999\\Сетевой диск\\pdn\\data\\emias_data\\xlsx'\n",
    "emias_data_path = emias_data_path.split('\\\\')\n",
    "emias_data_path = os.path.join(r'\\\\', *emias_data_path)\n",
    "print(emias_data_path)"
   ]
  },
  {
   "cell_type": "code",
   "execution_count": null,
   "id": "486ef970",
   "metadata": {},
   "outputs": [],
   "source": []
  },
  {
   "cell_type": "code",
   "execution_count": 6,
   "id": "2cccbb11",
   "metadata": {},
   "outputs": [
    {
     "name": "stdout",
     "output_type": "stream",
     "text": [
      "\\\\t999\\Сетевой диск\\pdn\\data\\emias_data\\xlsx\\DAT_4059_выгрузка_списков_на_обзвон_помощниками_2022-09-15.xlsx\n"
     ]
    }
   ],
   "source": [
    "today_emias_data_path = [os.path.join(emias_data_path, filename) for filename in os.listdir(emias_data_path) if '4059' \n",
    "                         in filename and '~' not in filename and today.strftime('%Y-%m-%d') in filename][0]\n",
    "print(today_emias_data_path)"
   ]
  },
  {
   "cell_type": "code",
   "execution_count": null,
   "id": "756c9df2",
   "metadata": {},
   "outputs": [],
   "source": []
  },
  {
   "cell_type": "code",
   "execution_count": 7,
   "id": "0281f145",
   "metadata": {},
   "outputs": [],
   "source": [
    "# чтение всех файлов по отдельности, чтобы не тратить время на повторное чтение файла, который уже прочитан"
   ]
  },
  {
   "cell_type": "code",
   "execution_count": 8,
   "id": "c7667db9",
   "metadata": {},
   "outputs": [
    {
     "data": {
      "text/plain": [
       "97331"
      ]
     },
     "execution_count": 8,
     "metadata": {},
     "output_type": "execute_result"
    }
   ],
   "source": [
    "today_emias_data_reading = pd.read_excel(today_emias_data_path)\n",
    "today_emias_data_reading.shape[0]"
   ]
  },
  {
   "cell_type": "code",
   "execution_count": null,
   "id": "ef42d90b",
   "metadata": {},
   "outputs": [],
   "source": []
  },
  {
   "cell_type": "code",
   "execution_count": 9,
   "id": "073f584d",
   "metadata": {},
   "outputs": [
    {
     "data": {
      "text/plain": [
       "109888"
      ]
     },
     "execution_count": 9,
     "metadata": {},
     "output_type": "execute_result"
    }
   ],
   "source": [
    "patients_current_statuses_reading = pd.read_excel(patients_current_statuses_data)\n",
    "patients_current_statuses_reading.shape[0]"
   ]
  },
  {
   "cell_type": "code",
   "execution_count": null,
   "id": "2fbf907a",
   "metadata": {},
   "outputs": [],
   "source": []
  },
  {
   "cell_type": "code",
   "execution_count": null,
   "id": "9c6273b1",
   "metadata": {},
   "outputs": [],
   "source": []
  },
  {
   "cell_type": "code",
   "execution_count": null,
   "id": "512a7164",
   "metadata": {},
   "outputs": [],
   "source": []
  },
  {
   "cell_type": "code",
   "execution_count": 10,
   "id": "5ba235b9",
   "metadata": {
    "scrolled": true
   },
   "outputs": [
    {
     "name": "stdout",
     "output_type": "stream",
     "text": [
      "2022-09-15 20:05:13.063688\n",
      "217\n"
     ]
    }
   ],
   "source": [
    "import gspread\n",
    "from gspread_dataframe import get_as_dataframe\n",
    "gc = gspread.service_account(filename='google_sheets_credentials.json') \n",
    "url = 'https://docs.google.com/spreadsheets/d/1TXjbk9tRDMCjEyyiuK5OIgT8xwlHQ2V1PX2zaVnxPXY/edit#gid=0'\n",
    "sh = gc.open_by_url(url)\n",
    "ws = sh.get_worksheet(0)\n",
    "def search_row(ws, desired_value):\n",
    "    row_number = 0\n",
    "    for row in ws.get_all_values():\n",
    "        row_number += 1\n",
    "        for value in row:\n",
    "            if value == desired_value:\n",
    "                return row_number\n",
    "            \n",
    "skiprows = search_row(ws, 'ФИО помощника врача') - 1\n",
    "\n",
    "assistants_presence_reading = get_as_dataframe(ws, evaluate_formulas=True, skiprows=skiprows)\n",
    "assistants_presence_reading = assistants_presence_reading.loc[~(assistants_presence_reading['Зал №'] == 'Зал №'), \n",
    "    ['Зал №', 'МО закрепления', 'ФИО помощника врача', 'Логин naumen', 'Отсутствует на рабочем месте']] \\\n",
    "        .dropna(how='all', axis=0)\n",
    "\n",
    "\n",
    "print(dt.datetime.now())\n",
    "print(assistants_presence_reading.shape[0])\n",
    "\n",
    "assistants_presence = assistants_presence_reading.rename(columns=column_names).copy()"
   ]
  },
  {
   "cell_type": "code",
   "execution_count": null,
   "id": "4b8afc6b",
   "metadata": {},
   "outputs": [],
   "source": []
  },
  {
   "cell_type": "code",
   "execution_count": null,
   "id": "849d2c5f",
   "metadata": {},
   "outputs": [],
   "source": []
  },
  {
   "cell_type": "code",
   "execution_count": 11,
   "id": "a6d5b879",
   "metadata": {},
   "outputs": [],
   "source": [
    "patients_current_statuses = patients_current_statuses_reading.rename(columns=column_names).copy()"
   ]
  },
  {
   "cell_type": "code",
   "execution_count": 12,
   "id": "efa1d87b",
   "metadata": {},
   "outputs": [],
   "source": [
    "today_emias_data = today_emias_data_reading.rename(columns=column_names)"
   ]
  },
  {
   "cell_type": "code",
   "execution_count": 13,
   "id": "0cb16a0b",
   "metadata": {},
   "outputs": [
    {
     "name": "stderr",
     "output_type": "stream",
     "text": [
      "C:\\Users\\murad_satabaev\\AppData\\Local\\Temp\\ipykernel_5084\\1251941699.py:2: FutureWarning: The default value of regex will change from True to False in a future version.\n",
      "  patients_current_statuses['emiasid'] = patients_current_statuses['emiasid'].astype(str).str.replace('\\.0', '')\n"
     ]
    }
   ],
   "source": [
    "patients_current_statuses = patients_current_statuses_reading.rename(columns=column_names).copy()\n",
    "patients_current_statuses['emiasid'] = patients_current_statuses['emiasid'].astype(str).str.replace('\\.0', '')\n",
    "patients_current_statuses['next_call_date'] = patients_current_statuses['next_call_date'] \\\n",
    ".apply(lambda x: pd.to_datetime(x, dayfirst=True).date())\n",
    "patients_current_statuses['last_call_date'] = patients_current_statuses['last_call_date'] \\\n",
    ".apply(lambda x: pd.to_datetime(x, dayfirst=True).date())"
   ]
  },
  {
   "cell_type": "code",
   "execution_count": null,
   "id": "7944daaf",
   "metadata": {},
   "outputs": [],
   "source": []
  },
  {
   "cell_type": "code",
   "execution_count": null,
   "id": "c82383ed",
   "metadata": {},
   "outputs": [],
   "source": []
  },
  {
   "cell_type": "code",
   "execution_count": null,
   "id": "65de920b",
   "metadata": {},
   "outputs": [],
   "source": []
  },
  {
   "cell_type": "code",
   "execution_count": null,
   "id": "86656396",
   "metadata": {},
   "outputs": [],
   "source": [
    "# Переведем все типы данных емиасайди, телефоны и прочие числовые данные в строки"
   ]
  },
  {
   "cell_type": "code",
   "execution_count": 14,
   "id": "6c79f091",
   "metadata": {
    "scrolled": true
   },
   "outputs": [
    {
     "name": "stderr",
     "output_type": "stream",
     "text": [
      "C:\\Users\\murad_satabaev\\AppData\\Local\\Temp\\ipykernel_5084\\3971369908.py:1: FutureWarning: The default value of regex will change from True to False in a future version.\n",
      "  today_emias_data['emiasid'] = today_emias_data['emiasid'].astype(str).str.replace('\\.0', '')\n",
      "C:\\Users\\murad_satabaev\\AppData\\Local\\Temp\\ipykernel_5084\\3971369908.py:2: FutureWarning: The default value of regex will change from True to False in a future version.\n",
      "  today_emias_data['phone'] = today_emias_data['phone'].astype(str).str.replace('\\.0', '')\n"
     ]
    }
   ],
   "source": [
    "today_emias_data['emiasid'] = today_emias_data['emiasid'].astype(str).str.replace('\\.0', '')\n",
    "today_emias_data['phone'] = today_emias_data['phone'].astype(str).str.replace('\\.0', '')"
   ]
  },
  {
   "cell_type": "code",
   "execution_count": null,
   "id": "7c5391ec",
   "metadata": {},
   "outputs": [],
   "source": []
  },
  {
   "cell_type": "code",
   "execution_count": null,
   "id": "f5238234",
   "metadata": {},
   "outputs": [],
   "source": []
  },
  {
   "cell_type": "code",
   "execution_count": 15,
   "id": "1f7ed30e",
   "metadata": {},
   "outputs": [
    {
     "name": "stdout",
     "output_type": "stream",
     "text": [
      "\\\\t999\\Сетевой диск\\pdn\\data\\assistant_to_doctor_distribution_path\n"
     ]
    }
   ],
   "source": [
    "# путь папки с раскреплением\n",
    "assistant_to_doctor_distribution_path = \\\n",
    "r'\\\\t999\\Сетевой диск\\pdn\\data\\assistant_to_doctor_distribution_path'\n",
    "assistant_to_doctor_distribution_path = \\\n",
    "assistant_to_doctor_distribution_path.split('\\\\')\n",
    "assistant_to_doctor_distribution_path = \\\n",
    "os.path.join(r'\\\\', *assistant_to_doctor_distribution_path)\n",
    "print(assistant_to_doctor_distribution_path)"
   ]
  },
  {
   "cell_type": "code",
   "execution_count": 16,
   "id": "a96003a5",
   "metadata": {},
   "outputs": [
    {
     "name": "stdout",
     "output_type": "stream",
     "text": [
      "\\\\t999\\Сетевой диск\\pdn\\data\\assistant_to_doctor_distribution_path\\september_patient_to_assistant_distribution.xlsx\n"
     ]
    }
   ],
   "source": [
    "september_assistant_to_doctor_distribution_path = [os.path.join(assistant_to_doctor_distribution_path, filename) for filename \n",
    "                                         in os.listdir(assistant_to_doctor_distribution_path) if '~' not in filename\n",
    "                                        and 'september' in filename]\n",
    "september_assistant_to_doctor_distribution_path.sort(key=lambda x: os.path.getctime(x))\n",
    "september_assistant_to_doctor_distribution_path = september_assistant_to_doctor_distribution_path[-1]\n",
    "print(september_assistant_to_doctor_distribution_path)"
   ]
  },
  {
   "cell_type": "code",
   "execution_count": 17,
   "id": "35db1b7a",
   "metadata": {},
   "outputs": [],
   "source": [
    "september_assistant_to_doctor_distribution = pd.read_excel(september_assistant_to_doctor_distribution_path, \n",
    "                                    usecols=['login', 'emiasid', 'mo', 'doctor_fio'])[['emiasid', 'login', 'mo', 'doctor_fio']]"
   ]
  },
  {
   "cell_type": "code",
   "execution_count": null,
   "id": "df6d9b49",
   "metadata": {},
   "outputs": [],
   "source": []
  },
  {
   "cell_type": "code",
   "execution_count": null,
   "id": "3497e4ae",
   "metadata": {},
   "outputs": [],
   "source": []
  },
  {
   "cell_type": "code",
   "execution_count": null,
   "id": "c592b782",
   "metadata": {},
   "outputs": [],
   "source": []
  },
  {
   "cell_type": "code",
   "execution_count": 18,
   "id": "d3c1d470",
   "metadata": {},
   "outputs": [
    {
     "data": {
      "text/plain": [
       "877"
      ]
     },
     "execution_count": 18,
     "metadata": {},
     "output_type": "execute_result"
    }
   ],
   "source": [
    "def find_phone_number(text):\n",
    "    \"\"\"Функция ищет номера телефонов в строке, фильтрует дефектные и возвращает один с приоритетом на мобильный\"\"\"\n",
    "    import re\n",
    "    defect_pattern = re.compile(r\"\"\"7[^94]\\d{9}|0{7,}|1{7,}|2{7,}|3{7,}|4{7,}|5{7,}|6{7,}|7{7,}|8{7,}|9{7,}\"\"\")\n",
    "    text = str(text)\n",
    "    text = ['7' + re.sub(r'\\D', '', x)[-10:] for x in re.split(r'[,;]', text)]\n",
    "    text = list(filter(lambda x: len(x) == 11, text))\n",
    "    text = list(filter(lambda x: False if re.search(defect_pattern, x) else True, text))\n",
    "    text = sorted(text, reverse=True)\n",
    "    text = ','.join(text)\n",
    "    text = re.search(r'(9\\d{9}|4\\d{9})', text)\n",
    "    if text:\n",
    "        text = text.group()\n",
    "    return text\n",
    "\n",
    "today_emias_data['phone_1'] = today_emias_data['phone'].apply(find_phone_number)\n",
    "today_emias_data[today_emias_data['phone_1'].isna()].shape[0]"
   ]
  },
  {
   "cell_type": "code",
   "execution_count": 19,
   "id": "290c160b",
   "metadata": {
    "scrolled": false
   },
   "outputs": [
    {
     "data": {
      "text/plain": [
       "97331"
      ]
     },
     "execution_count": 19,
     "metadata": {},
     "output_type": "execute_result"
    }
   ],
   "source": [
    "today_emias_data.shape[0]"
   ]
  },
  {
   "cell_type": "code",
   "execution_count": 20,
   "id": "c21484f7",
   "metadata": {},
   "outputs": [
    {
     "data": {
      "text/plain": [
       "109888"
      ]
     },
     "execution_count": 20,
     "metadata": {},
     "output_type": "execute_result"
    }
   ],
   "source": [
    "patients_current_statuses.shape[0]"
   ]
  },
  {
   "cell_type": "code",
   "execution_count": null,
   "id": "8dec207b",
   "metadata": {},
   "outputs": [],
   "source": []
  },
  {
   "cell_type": "code",
   "execution_count": 21,
   "id": "2948f88d",
   "metadata": {},
   "outputs": [],
   "source": [
    "exception = pd.read_excel('exception.xlsx')"
   ]
  },
  {
   "cell_type": "code",
   "execution_count": 22,
   "id": "81b53e6b",
   "metadata": {},
   "outputs": [],
   "source": [
    "exception = exception.rename(columns=column_names)"
   ]
  },
  {
   "cell_type": "code",
   "execution_count": null,
   "id": "5e2d70d7",
   "metadata": {},
   "outputs": [],
   "source": []
  },
  {
   "cell_type": "code",
   "execution_count": 262,
   "id": "b4abcd53",
   "metadata": {},
   "outputs": [
    {
     "data": {
      "text/plain": [
       "array([nan, 'Нет в сегодняшней выгрузке', 'Нет прикрепления к врачу',\n",
       "       'Смена МО на другую нашу', 'Нет прикрепления к МО',\n",
       "       'Отсутствует номер', 'Смена МО'], dtype=object)"
      ]
     },
     "execution_count": 262,
     "metadata": {},
     "output_type": "execute_result"
    }
   ],
   "source": [
    "patients_current_statuses.problem.unique()"
   ]
  },
  {
   "cell_type": "code",
   "execution_count": 267,
   "id": "fa38a124",
   "metadata": {},
   "outputs": [],
   "source": [
    "actual_patients = \\\n",
    "patients_current_statuses[\n",
    "    (~(patients_current_statuses.problem.isin({\n",
    "    'Нет в сегодняшней выгрузке', 'Нет прикрепления к МО', 'Отсутствует номер', 'Смена МО'\n",
    "    })))\n",
    "    &\n",
    "    (~(patients_current_statuses.emiasid.isin(exception.emiasid)))\n",
    "]"
   ]
  },
  {
   "cell_type": "code",
   "execution_count": 268,
   "id": "833dd1ee",
   "metadata": {},
   "outputs": [
    {
     "data": {
      "text/plain": [
       "109888"
      ]
     },
     "execution_count": 268,
     "metadata": {},
     "output_type": "execute_result"
    }
   ],
   "source": [
    "patients_current_statuses.shape[0]"
   ]
  },
  {
   "cell_type": "code",
   "execution_count": 269,
   "id": "d4b3468e",
   "metadata": {},
   "outputs": [
    {
     "data": {
      "text/plain": [
       "108850"
      ]
     },
     "execution_count": 269,
     "metadata": {},
     "output_type": "execute_result"
    }
   ],
   "source": [
    "actual_patients.shape[0]"
   ]
  },
  {
   "cell_type": "code",
   "execution_count": 270,
   "id": "d749569c",
   "metadata": {},
   "outputs": [
    {
     "data": {
      "text/plain": [
       "Не дозвонились                    41345\n",
       "Перенос звонка на другой день     31041\n",
       "Будет в Москве в другом месяце    14660\n",
       "Разговор состоялся                 6790\n",
       "Ни разу не звонили                 5364\n",
       "Запишется самостоятельно           4422\n",
       "Перезвонить сегодня                1744\n",
       "Отказ                               901\n",
       "Пациент отрицает диагноз            872\n",
       "Иная МО                             479\n",
       "Госпитализирован                    361\n",
       "Живет не в Москве                   282\n",
       "Патронаж                            205\n",
       "Некорректный номер                  114\n",
       "Не нравится врач                     95\n",
       "Отсутствует номер                    74\n",
       "Другой врач в этой МО                32\n",
       "Не нравится МО                       21\n",
       "Cнят с ДН                            13\n",
       "Умер                                  8\n",
       "Смена МО                              5\n",
       "Name: status, dtype: int64"
      ]
     },
     "execution_count": 270,
     "metadata": {},
     "output_type": "execute_result"
    }
   ],
   "source": [
    "actual_patients.status.value_counts()"
   ]
  },
  {
   "cell_type": "code",
   "execution_count": null,
   "id": "cb7ca117",
   "metadata": {},
   "outputs": [],
   "source": []
  },
  {
   "cell_type": "code",
   "execution_count": null,
   "id": "e2834762",
   "metadata": {},
   "outputs": [],
   "source": []
  },
  {
   "cell_type": "code",
   "execution_count": null,
   "id": "ac537157",
   "metadata": {},
   "outputs": [],
   "source": []
  },
  {
   "cell_type": "code",
   "execution_count": 271,
   "id": "6445d3c6",
   "metadata": {
    "scrolled": true
   },
   "outputs": [
    {
     "name": "stdout",
     "output_type": "stream",
     "text": [
      "\n",
      "В сумме количество отсуствующих и присутствующих равны общему количеству помощников\n",
      "\n"
     ]
    }
   ],
   "source": [
    "if assistants_presence[assistants_presence.absence.isna()].login.nunique() + \\\n",
    "assistants_presence[assistants_presence.absence == 1].login.nunique() == assistants_presence.login.nunique():\n",
    "    print('\\nВ сумме количество отсуствующих и присутствующих равны общему количеству помощников\\n')\n",
    "else:\n",
    "    print(5 * '\\nПРОВЕРЬТЕ ТАБЛИЦУ ОТСУТСТВУЮЩИХ И ПРИСУТСТВУЮЩИХ\\n!!!\\n')"
   ]
  },
  {
   "cell_type": "code",
   "execution_count": 272,
   "id": "6aa39c45",
   "metadata": {},
   "outputs": [
    {
     "name": "stdout",
     "output_type": "stream",
     "text": [
      "168\n",
      "49\n"
     ]
    }
   ],
   "source": [
    "present_assistants = assistants_presence[assistants_presence.absence.isna()]\n",
    "print(present_assistants.shape[0])\n",
    "absent_assistants = assistants_presence[~assistants_presence.absence.isna()]\n",
    "print(absent_assistants.shape[0])"
   ]
  },
  {
   "cell_type": "code",
   "execution_count": null,
   "id": "cc094c8c",
   "metadata": {},
   "outputs": [],
   "source": []
  },
  {
   "cell_type": "code",
   "execution_count": 273,
   "id": "bf8c115c",
   "metadata": {},
   "outputs": [],
   "source": [
    "doctors_list = set(september_assistant_to_doctor_distribution.doctor_fio.unique())\n",
    "doctors_list.add(np.NaN)"
   ]
  },
  {
   "cell_type": "code",
   "execution_count": null,
   "id": "ff0b6b19",
   "metadata": {},
   "outputs": [],
   "source": []
  },
  {
   "cell_type": "code",
   "execution_count": null,
   "id": "60d7cf61",
   "metadata": {},
   "outputs": [],
   "source": []
  },
  {
   "cell_type": "code",
   "execution_count": null,
   "id": "022feb3c",
   "metadata": {},
   "outputs": [],
   "source": []
  },
  {
   "cell_type": "code",
   "execution_count": 488,
   "id": "545abe63",
   "metadata": {},
   "outputs": [
    {
     "name": "stderr",
     "output_type": "stream",
     "text": [
      "C:\\Users\\murad_satabaev\\AppData\\Local\\Temp\\ipykernel_5084\\3421971818.py:4: SettingWithCopyWarning: \n",
      "A value is trying to be set on a copy of a slice from a DataFrame.\n",
      "Try using .loc[row_indexer,col_indexer] = value instead\n",
      "\n",
      "See the caveats in the documentation: https://pandas.pydata.org/pandas-docs/stable/user_guide/indexing.html#returning-a-view-versus-a-copy\n",
      "  first_stage_patients['priority'] = 2\n"
     ]
    },
    {
     "data": {
      "text/plain": [
       "5364"
      ]
     },
     "execution_count": 488,
     "metadata": {},
     "output_type": "execute_result"
    }
   ],
   "source": [
    "first_stage_patients = \\\n",
    "actual_patients[actual_patients.status == 'Ни разу не звонили']\n",
    "\n",
    "first_stage_patients['priority'] = 2\n",
    "first_stage_patients.shape[0]"
   ]
  },
  {
   "cell_type": "code",
   "execution_count": 489,
   "id": "81c728ea",
   "metadata": {},
   "outputs": [
    {
     "name": "stderr",
     "output_type": "stream",
     "text": [
      "C:\\Users\\murad_satabaev\\AppData\\Local\\Temp\\ipykernel_5084\\1933833767.py:10: SettingWithCopyWarning: \n",
      "A value is trying to be set on a copy of a slice from a DataFrame.\n",
      "Try using .loc[row_indexer,col_indexer] = value instead\n",
      "\n",
      "See the caveats in the documentation: https://pandas.pydata.org/pandas-docs/stable/user_guide/indexing.html#returning-a-view-versus-a-copy\n",
      "  call_back_on_date_patients['priority'] = 1\n"
     ]
    },
    {
     "data": {
      "text/plain": [
       "5918"
      ]
     },
     "execution_count": 489,
     "metadata": {},
     "output_type": "execute_result"
    }
   ],
   "source": [
    "call_back_on_date_patients = \\\n",
    "actual_patients[\n",
    "    (actual_patients.next_call_date.isin({\n",
    "        dt.date(2022, 9, 14),\n",
    "        dt.date(2022, 9, 15),\n",
    "        dt.date(2022, 9, 16)\n",
    "    }))\n",
    "]\n",
    "\n",
    "call_back_on_date_patients['priority'] = 1\n",
    "call_back_on_date_patients.shape[0]"
   ]
  },
  {
   "cell_type": "code",
   "execution_count": 490,
   "id": "7dee03ad",
   "metadata": {},
   "outputs": [
    {
     "data": {
      "text/html": [
       "<div>\n",
       "<style scoped>\n",
       "    .dataframe tbody tr th:only-of-type {\n",
       "        vertical-align: middle;\n",
       "    }\n",
       "\n",
       "    .dataframe tbody tr th {\n",
       "        vertical-align: top;\n",
       "    }\n",
       "\n",
       "    .dataframe thead th {\n",
       "        text-align: right;\n",
       "    }\n",
       "</style>\n",
       "<table border=\"1\" class=\"dataframe\">\n",
       "  <thead>\n",
       "    <tr style=\"text-align: right;\">\n",
       "      <th></th>\n",
       "      <th>emiasid</th>\n",
       "      <th>operator_login</th>\n",
       "      <th>status</th>\n",
       "      <th>old_comment</th>\n",
       "      <th>next_call_date</th>\n",
       "      <th>mo</th>\n",
       "      <th>doctor_fio</th>\n",
       "      <th>phone_number</th>\n",
       "      <th>calls_amount</th>\n",
       "      <th>last_call_date</th>\n",
       "      <th>last_call_result</th>\n",
       "      <th>last_talk_result</th>\n",
       "      <th>problem</th>\n",
       "      <th>month</th>\n",
       "      <th>group</th>\n",
       "      <th>operator_absence</th>\n",
       "    </tr>\n",
       "  </thead>\n",
       "  <tbody>\n",
       "    <tr>\n",
       "      <th>3</th>\n",
       "      <td>18474691</td>\n",
       "      <td>NaN</td>\n",
       "      <td>Будет в Москве в другом месяце</td>\n",
       "      <td>Не в Москве, сентябрь</td>\n",
       "      <td>NaT</td>\n",
       "      <td>ГП 191</td>\n",
       "      <td>Зуева Наталья Александровна</td>\n",
       "      <td>9.032505e+09</td>\n",
       "      <td>1.0</td>\n",
       "      <td>2022-08-02</td>\n",
       "      <td>Разговор состоялся</td>\n",
       "      <td>Будет в Москве в другом месяце</td>\n",
       "      <td>NaN</td>\n",
       "      <td>august</td>\n",
       "      <td>NaN</td>\n",
       "      <td>NaN</td>\n",
       "    </tr>\n",
       "    <tr>\n",
       "      <th>6</th>\n",
       "      <td>22571949</td>\n",
       "      <td>NaN</td>\n",
       "      <td>Будет в Москве в другом месяце</td>\n",
       "      <td>не в Москве , сентябрь</td>\n",
       "      <td>NaT</td>\n",
       "      <td>ГП 2</td>\n",
       "      <td>Паруш Станислав Николаевич</td>\n",
       "      <td>9.165472e+09</td>\n",
       "      <td>1.0</td>\n",
       "      <td>2022-08-02</td>\n",
       "      <td>Разговор состоялся</td>\n",
       "      <td>Будет в Москве в другом месяце</td>\n",
       "      <td>NaN</td>\n",
       "      <td>august</td>\n",
       "      <td>NaN</td>\n",
       "      <td>NaN</td>\n",
       "    </tr>\n",
       "    <tr>\n",
       "      <th>10</th>\n",
       "      <td>1886196716</td>\n",
       "      <td>NaN</td>\n",
       "      <td>Будет в Москве в другом месяце</td>\n",
       "      <td>Не в Москве, сентябрь</td>\n",
       "      <td>NaT</td>\n",
       "      <td>ГП 6</td>\n",
       "      <td>Шитенкова Дария Витальевна</td>\n",
       "      <td>9.169564e+09</td>\n",
       "      <td>1.0</td>\n",
       "      <td>2022-08-02</td>\n",
       "      <td>Разговор состоялся</td>\n",
       "      <td>Будет в Москве в другом месяце</td>\n",
       "      <td>NaN</td>\n",
       "      <td>august</td>\n",
       "      <td>NaN</td>\n",
       "      <td>NaN</td>\n",
       "    </tr>\n",
       "    <tr>\n",
       "      <th>13</th>\n",
       "      <td>17096082</td>\n",
       "      <td>Помощник 5</td>\n",
       "      <td>Будет в Москве в другом месяце</td>\n",
       "      <td>не в Москве, сентябрь</td>\n",
       "      <td>NaT</td>\n",
       "      <td>ГП 36</td>\n",
       "      <td>Мироненко Александра Александровна</td>\n",
       "      <td>9.154914e+09</td>\n",
       "      <td>1.0</td>\n",
       "      <td>2022-08-02</td>\n",
       "      <td>Разговор состоялся</td>\n",
       "      <td>Будет в Москве в другом месяце</td>\n",
       "      <td>NaN</td>\n",
       "      <td>august</td>\n",
       "      <td>NaN</td>\n",
       "      <td>1.0</td>\n",
       "    </tr>\n",
       "    <tr>\n",
       "      <th>15</th>\n",
       "      <td>17643298</td>\n",
       "      <td>pomoshnik_pdn20</td>\n",
       "      <td>Будет в Москве в другом месяце</td>\n",
       "      <td>Не в Москве, сентябрь</td>\n",
       "      <td>NaT</td>\n",
       "      <td>ГП 191</td>\n",
       "      <td>Баранова Яна Юрьевна</td>\n",
       "      <td>9.067388e+09</td>\n",
       "      <td>1.0</td>\n",
       "      <td>2022-08-02</td>\n",
       "      <td>Разговор состоялся</td>\n",
       "      <td>Будет в Москве в другом месяце</td>\n",
       "      <td>NaN</td>\n",
       "      <td>august</td>\n",
       "      <td>NaN</td>\n",
       "      <td>NaN</td>\n",
       "    </tr>\n",
       "    <tr>\n",
       "      <th>...</th>\n",
       "      <td>...</td>\n",
       "      <td>...</td>\n",
       "      <td>...</td>\n",
       "      <td>...</td>\n",
       "      <td>...</td>\n",
       "      <td>...</td>\n",
       "      <td>...</td>\n",
       "      <td>...</td>\n",
       "      <td>...</td>\n",
       "      <td>...</td>\n",
       "      <td>...</td>\n",
       "      <td>...</td>\n",
       "      <td>...</td>\n",
       "      <td>...</td>\n",
       "      <td>...</td>\n",
       "      <td>...</td>\n",
       "    </tr>\n",
       "    <tr>\n",
       "      <th>12572</th>\n",
       "      <td>16804776</td>\n",
       "      <td>pomoshnik_pdn2</td>\n",
       "      <td>Запишется самостоятельно</td>\n",
       "      <td>Перезвонить , самозапись эхо моча и терапевт</td>\n",
       "      <td>2022-09-06</td>\n",
       "      <td>КДЦ 4</td>\n",
       "      <td>Бородай Евгений Борисович</td>\n",
       "      <td>9.851079e+09</td>\n",
       "      <td>3.0</td>\n",
       "      <td>2022-08-31</td>\n",
       "      <td>Перенос звонка на другой день</td>\n",
       "      <td>NaN</td>\n",
       "      <td>NaN</td>\n",
       "      <td>august</td>\n",
       "      <td>NaN</td>\n",
       "      <td>NaN</td>\n",
       "    </tr>\n",
       "    <tr>\n",
       "      <th>12573</th>\n",
       "      <td>17181146</td>\n",
       "      <td>pomoshnik_pdn75</td>\n",
       "      <td>Запишется самостоятельно</td>\n",
       "      <td>перезвонить, запишутся самостоятельно к терапевту</td>\n",
       "      <td>2022-09-09</td>\n",
       "      <td>ГП 134</td>\n",
       "      <td>Колосветова Ирина Игоревна</td>\n",
       "      <td>9.060762e+09</td>\n",
       "      <td>3.0</td>\n",
       "      <td>2022-08-29</td>\n",
       "      <td>Перенос звонка на другой день</td>\n",
       "      <td>NaN</td>\n",
       "      <td>NaN</td>\n",
       "      <td>august</td>\n",
       "      <td>NaN</td>\n",
       "      <td>1.0</td>\n",
       "    </tr>\n",
       "    <tr>\n",
       "      <th>12576</th>\n",
       "      <td>17642637</td>\n",
       "      <td>NaN</td>\n",
       "      <td>Запишется самостоятельно</td>\n",
       "      <td>NaN</td>\n",
       "      <td>NaT</td>\n",
       "      <td>ГП 191</td>\n",
       "      <td>Костяная Мария Олеговна</td>\n",
       "      <td>9.096308e+09</td>\n",
       "      <td>3.0</td>\n",
       "      <td>2022-08-31</td>\n",
       "      <td>Нет ответа</td>\n",
       "      <td>NaN</td>\n",
       "      <td>NaN</td>\n",
       "      <td>august</td>\n",
       "      <td>NaN</td>\n",
       "      <td>NaN</td>\n",
       "    </tr>\n",
       "    <tr>\n",
       "      <th>12577</th>\n",
       "      <td>17707347</td>\n",
       "      <td>pomoshnik_pdn2</td>\n",
       "      <td>Запишется самостоятельно</td>\n",
       "      <td>Не хочет говорить</td>\n",
       "      <td>2022-09-06</td>\n",
       "      <td>КДЦ 4</td>\n",
       "      <td>Бородай Евгений Борисович</td>\n",
       "      <td>9.166246e+09</td>\n",
       "      <td>2.0</td>\n",
       "      <td>2022-08-24</td>\n",
       "      <td>Перенос звонка на другой день</td>\n",
       "      <td>NaN</td>\n",
       "      <td>NaN</td>\n",
       "      <td>august</td>\n",
       "      <td>NaN</td>\n",
       "      <td>NaN</td>\n",
       "    </tr>\n",
       "    <tr>\n",
       "      <th>12582</th>\n",
       "      <td>18818783</td>\n",
       "      <td>NaN</td>\n",
       "      <td>Запишется самостоятельно</td>\n",
       "      <td>перезвонить, запиш-ся сама,кровь сдаст позже,к...</td>\n",
       "      <td>2022-09-12</td>\n",
       "      <td>ГП 191</td>\n",
       "      <td>Холдоенко Анна Владимировна</td>\n",
       "      <td>9.175081e+09</td>\n",
       "      <td>3.0</td>\n",
       "      <td>2022-08-30</td>\n",
       "      <td>Перенос звонка на другой день</td>\n",
       "      <td>NaN</td>\n",
       "      <td>NaN</td>\n",
       "      <td>august</td>\n",
       "      <td>NaN</td>\n",
       "      <td>NaN</td>\n",
       "    </tr>\n",
       "  </tbody>\n",
       "</table>\n",
       "<p>4409 rows × 16 columns</p>\n",
       "</div>"
      ],
      "text/plain": [
       "          emiasid   operator_login                          status  \\\n",
       "3        18474691              NaN  Будет в Москве в другом месяце   \n",
       "6        22571949              NaN  Будет в Москве в другом месяце   \n",
       "10     1886196716              NaN  Будет в Москве в другом месяце   \n",
       "13       17096082       Помощник 5  Будет в Москве в другом месяце   \n",
       "15       17643298  pomoshnik_pdn20  Будет в Москве в другом месяце   \n",
       "...           ...              ...                             ...   \n",
       "12572    16804776   pomoshnik_pdn2        Запишется самостоятельно   \n",
       "12573    17181146  pomoshnik_pdn75        Запишется самостоятельно   \n",
       "12576    17642637              NaN        Запишется самостоятельно   \n",
       "12577    17707347   pomoshnik_pdn2        Запишется самостоятельно   \n",
       "12582    18818783              NaN        Запишется самостоятельно   \n",
       "\n",
       "                                             old_comment next_call_date  \\\n",
       "3                                  Не в Москве, сентябрь            NaT   \n",
       "6                                 не в Москве , сентябрь            NaT   \n",
       "10                                 Не в Москве, сентябрь            NaT   \n",
       "13                                 не в Москве, сентябрь            NaT   \n",
       "15                                 Не в Москве, сентябрь            NaT   \n",
       "...                                                  ...            ...   \n",
       "12572       Перезвонить , самозапись эхо моча и терапевт     2022-09-06   \n",
       "12573  перезвонить, запишутся самостоятельно к терапевту     2022-09-09   \n",
       "12576                                                NaN            NaT   \n",
       "12577                                  Не хочет говорить     2022-09-06   \n",
       "12582  перезвонить, запиш-ся сама,кровь сдаст позже,к...     2022-09-12   \n",
       "\n",
       "           mo                          doctor_fio  phone_number  calls_amount  \\\n",
       "3      ГП 191         Зуева Наталья Александровна  9.032505e+09           1.0   \n",
       "6        ГП 2          Паруш Станислав Николаевич  9.165472e+09           1.0   \n",
       "10       ГП 6          Шитенкова Дария Витальевна  9.169564e+09           1.0   \n",
       "13      ГП 36  Мироненко Александра Александровна  9.154914e+09           1.0   \n",
       "15     ГП 191                Баранова Яна Юрьевна  9.067388e+09           1.0   \n",
       "...       ...                                 ...           ...           ...   \n",
       "12572   КДЦ 4           Бородай Евгений Борисович  9.851079e+09           3.0   \n",
       "12573  ГП 134          Колосветова Ирина Игоревна  9.060762e+09           3.0   \n",
       "12576  ГП 191             Костяная Мария Олеговна  9.096308e+09           3.0   \n",
       "12577   КДЦ 4           Бородай Евгений Борисович  9.166246e+09           2.0   \n",
       "12582  ГП 191         Холдоенко Анна Владимировна  9.175081e+09           3.0   \n",
       "\n",
       "      last_call_date               last_call_result  \\\n",
       "3         2022-08-02             Разговор состоялся   \n",
       "6         2022-08-02             Разговор состоялся   \n",
       "10        2022-08-02             Разговор состоялся   \n",
       "13        2022-08-02             Разговор состоялся   \n",
       "15        2022-08-02             Разговор состоялся   \n",
       "...              ...                            ...   \n",
       "12572     2022-08-31  Перенос звонка на другой день   \n",
       "12573     2022-08-29  Перенос звонка на другой день   \n",
       "12576     2022-08-31                     Нет ответа   \n",
       "12577     2022-08-24  Перенос звонка на другой день   \n",
       "12582     2022-08-30  Перенос звонка на другой день   \n",
       "\n",
       "                     last_talk_result problem   month  group  operator_absence  \n",
       "3      Будет в Москве в другом месяце     NaN  august    NaN               NaN  \n",
       "6      Будет в Москве в другом месяце     NaN  august    NaN               NaN  \n",
       "10     Будет в Москве в другом месяце     NaN  august    NaN               NaN  \n",
       "13     Будет в Москве в другом месяце     NaN  august    NaN               1.0  \n",
       "15     Будет в Москве в другом месяце     NaN  august    NaN               NaN  \n",
       "...                               ...     ...     ...    ...               ...  \n",
       "12572                             NaN     NaN  august    NaN               NaN  \n",
       "12573                             NaN     NaN  august    NaN               1.0  \n",
       "12576                             NaN     NaN  august    NaN               NaN  \n",
       "12577                             NaN     NaN  august    NaN               NaN  \n",
       "12582                             NaN     NaN  august    NaN               NaN  \n",
       "\n",
       "[4409 rows x 16 columns]"
      ]
     },
     "execution_count": 490,
     "metadata": {},
     "output_type": "execute_result"
    }
   ],
   "source": [
    "actual_patients[\n",
    "    (actual_patients.month == 'august')\n",
    "    &\n",
    "    (actual_patients.last_call_date < dt.date(2022, 9, 2))\n",
    "]"
   ]
  },
  {
   "cell_type": "code",
   "execution_count": 491,
   "id": "e958fd0c",
   "metadata": {},
   "outputs": [
    {
     "name": "stderr",
     "output_type": "stream",
     "text": [
      "C:\\Users\\murad_satabaev\\AppData\\Local\\Temp\\ipykernel_5084\\1560472559.py:10: SettingWithCopyWarning: \n",
      "A value is trying to be set on a copy of a slice from a DataFrame.\n",
      "Try using .loc[row_indexer,col_indexer] = value instead\n",
      "\n",
      "See the caveats in the documentation: https://pandas.pydata.org/pandas-docs/stable/user_guide/indexing.html#returning-a-view-versus-a-copy\n",
      "  august_patients['priority'] = 3\n"
     ]
    },
    {
     "data": {
      "text/plain": [
       "2364"
      ]
     },
     "execution_count": 491,
     "metadata": {},
     "output_type": "execute_result"
    }
   ],
   "source": [
    "august_patients = \\\n",
    "actual_patients[\n",
    "    (actual_patients.month == 'august')\n",
    "    &\n",
    "    (actual_patients.last_call_result != 'Перенос звонка на другой день')\n",
    "    &\n",
    "    (actual_patients.last_call_date < dt.date(2022, 9, 2))\n",
    "]\n",
    "\n",
    "august_patients['priority'] = 3\n",
    "august_patients.shape[0]"
   ]
  },
  {
   "cell_type": "code",
   "execution_count": 492,
   "id": "73f4c37a",
   "metadata": {},
   "outputs": [
    {
     "data": {
      "text/plain": [
       "datetime.date(2022, 9, 1)"
      ]
     },
     "execution_count": 492,
     "metadata": {},
     "output_type": "execute_result"
    }
   ],
   "source": [
    "august_patients.last_call_date.unique()[-1]"
   ]
  },
  {
   "cell_type": "code",
   "execution_count": null,
   "id": "e1f28647",
   "metadata": {},
   "outputs": [],
   "source": []
  },
  {
   "cell_type": "code",
   "execution_count": null,
   "id": "58d7449f",
   "metadata": {},
   "outputs": [],
   "source": []
  },
  {
   "cell_type": "code",
   "execution_count": 493,
   "id": "b14559dd",
   "metadata": {},
   "outputs": [
    {
     "name": "stdout",
     "output_type": "stream",
     "text": [
      "0\n"
     ]
    }
   ],
   "source": [
    "tomorrow_record_patients_set = set()\n",
    "for column in today_emias_data.columns[22:98:2]:\n",
    "    tomorrow_record_patients_set = \\\n",
    "    tomorrow_record_patients_set | set(today_emias_data[today_emias_data[f'{column}'] == tomorrow_y_m_d]\\\n",
    "                                   .emiasid.astype(str).unique())\n",
    "\n",
    "print(len(tomorrow_record_patients_set))"
   ]
  },
  {
   "cell_type": "code",
   "execution_count": 494,
   "id": "f2a71070",
   "metadata": {},
   "outputs": [
    {
     "name": "stdout",
     "output_type": "stream",
     "text": [
      "0\n"
     ]
    }
   ],
   "source": [
    "tomorrow_record_patients = patients_current_statuses[(patients_current_statuses.emiasid.isin(tomorrow_record_patients_set))\n",
    "& (~(patients_current_statuses.status.isin({'Ни разу не звонили'}))) & \n",
    "(patients_current_statuses.last_call_result != 'Перенос звонка на другой день')]\n",
    "print(tomorrow_record_patients.shape[0])"
   ]
  },
  {
   "cell_type": "code",
   "execution_count": 495,
   "id": "0706e183",
   "metadata": {
    "scrolled": true
   },
   "outputs": [],
   "source": [
    "tomorrow_record_patients['priority'] = 4"
   ]
  },
  {
   "cell_type": "code",
   "execution_count": 496,
   "id": "c633a96b",
   "metadata": {},
   "outputs": [
    {
     "data": {
      "text/plain": [
       "Series([], Name: status, dtype: int64)"
      ]
     },
     "execution_count": 496,
     "metadata": {},
     "output_type": "execute_result"
    }
   ],
   "source": [
    "tomorrow_record_patients.status.value_counts()"
   ]
  },
  {
   "cell_type": "code",
   "execution_count": 497,
   "id": "f410c568",
   "metadata": {},
   "outputs": [],
   "source": [
    "tomorrow_record_patients['status'] = 'Напомнить'"
   ]
  },
  {
   "cell_type": "code",
   "execution_count": 498,
   "id": "412845c2",
   "metadata": {},
   "outputs": [
    {
     "name": "stderr",
     "output_type": "stream",
     "text": [
      "C:\\Users\\murad_satabaev\\AppData\\Local\\Temp\\ipykernel_5084\\1793606296.py:17: SettingWithCopyWarning: \n",
      "A value is trying to be set on a copy of a slice from a DataFrame.\n",
      "Try using .loc[row_indexer,col_indexer] = value instead\n",
      "\n",
      "See the caveats in the documentation: https://pandas.pydata.org/pandas-docs/stable/user_guide/indexing.html#returning-a-view-versus-a-copy\n",
      "  second_stage_patients['priority'] = 5\n"
     ]
    },
    {
     "data": {
      "text/plain": [
       "27686"
      ]
     },
     "execution_count": 498,
     "metadata": {},
     "output_type": "execute_result"
    }
   ],
   "source": [
    "second_stage_patients = \\\n",
    "actual_patients[\n",
    "    (actual_patients.status.isin({'Разговор состоялся', 'Не дозвонились', 'Другой врач в этой МО'\n",
    "                                'Запишется самостоятельно', 'Не нравится МО', 'Не нравится врач'}))\n",
    "    &\n",
    "    (~(actual_patients.emiasid.isin(call_back_on_date_patients.emiasid)))\n",
    "    &\n",
    "    (~(actual_patients.last_call_date.isin(\n",
    "        {\n",
    "        dt.date(2022, 9, 13),\n",
    "        dt.date(2022, 9, 14),\n",
    "        dt.date(2022, 9, 15)\n",
    "        }\n",
    "    )))\n",
    "]\n",
    "\n",
    "second_stage_patients['priority'] = 5\n",
    "\n",
    "second_stage_patients.shape[0]"
   ]
  },
  {
   "cell_type": "code",
   "execution_count": null,
   "id": "b9d51e2e",
   "metadata": {},
   "outputs": [],
   "source": []
  },
  {
   "cell_type": "code",
   "execution_count": null,
   "id": "859d2a5f",
   "metadata": {},
   "outputs": [],
   "source": []
  },
  {
   "cell_type": "code",
   "execution_count": 403,
   "id": "df705990",
   "metadata": {},
   "outputs": [
    {
     "data": {
      "text/plain": [
       "9809"
      ]
     },
     "execution_count": 403,
     "metadata": {},
     "output_type": "execute_result"
    }
   ],
   "source": [
    "final_actual_patients_for_task_ = pd.concat([\n",
    "    call_back_on_date_patients,\n",
    "    first_stage_patients,\n",
    "#     august_patients,\n",
    "#     second_stage_patients,\n",
    "#     tomorrow_record_patients\n",
    "]) \\\n",
    ".sort_values(['priority']).reset_index(drop=True)\n",
    "\n",
    "final_actual_patients_for_task_.shape[0]"
   ]
  },
  {
   "cell_type": "code",
   "execution_count": null,
   "id": "0da22817",
   "metadata": {},
   "outputs": [],
   "source": []
  },
  {
   "cell_type": "code",
   "execution_count": 404,
   "id": "79ccaaa8",
   "metadata": {},
   "outputs": [
    {
     "data": {
      "text/plain": [
       "9775"
      ]
     },
     "execution_count": 404,
     "metadata": {},
     "output_type": "execute_result"
    }
   ],
   "source": [
    "final_actual_patients_for_task = final_actual_patients_for_task_.drop_duplicates(subset=['phone_number'], keep='first')\n",
    "final_actual_patients_for_task.shape[0]"
   ]
  },
  {
   "cell_type": "code",
   "execution_count": 405,
   "id": "d65c3e02",
   "metadata": {},
   "outputs": [
    {
     "data": {
      "text/plain": [
       "9775"
      ]
     },
     "execution_count": 405,
     "metadata": {},
     "output_type": "execute_result"
    }
   ],
   "source": [
    "final_actual_patients_for_task = final_actual_patients_for_task.drop_duplicates(subset=['emiasid'], keep='first')\n",
    "final_actual_patients_for_task.shape[0]"
   ]
  },
  {
   "cell_type": "code",
   "execution_count": null,
   "id": "115c4048",
   "metadata": {},
   "outputs": [],
   "source": []
  },
  {
   "cell_type": "code",
   "execution_count": 406,
   "id": "50448630",
   "metadata": {},
   "outputs": [
    {
     "data": {
      "text/html": [
       "<div>\n",
       "<style scoped>\n",
       "    .dataframe tbody tr th:only-of-type {\n",
       "        vertical-align: middle;\n",
       "    }\n",
       "\n",
       "    .dataframe tbody tr th {\n",
       "        vertical-align: top;\n",
       "    }\n",
       "\n",
       "    .dataframe thead th {\n",
       "        text-align: right;\n",
       "    }\n",
       "</style>\n",
       "<table border=\"1\" class=\"dataframe\">\n",
       "  <thead>\n",
       "    <tr style=\"text-align: right;\">\n",
       "      <th></th>\n",
       "      <th>emiasid</th>\n",
       "      <th>operator_login</th>\n",
       "      <th>status</th>\n",
       "      <th>old_comment</th>\n",
       "      <th>next_call_date</th>\n",
       "      <th>mo</th>\n",
       "      <th>doctor_fio</th>\n",
       "      <th>phone_number</th>\n",
       "      <th>calls_amount</th>\n",
       "      <th>last_call_date</th>\n",
       "      <th>last_call_result</th>\n",
       "      <th>last_talk_result</th>\n",
       "      <th>problem</th>\n",
       "      <th>month</th>\n",
       "      <th>group</th>\n",
       "      <th>operator_absence</th>\n",
       "      <th>priority</th>\n",
       "    </tr>\n",
       "  </thead>\n",
       "  <tbody>\n",
       "    <tr>\n",
       "      <th>0</th>\n",
       "      <td>1126204316</td>\n",
       "      <td>Помощник 7</td>\n",
       "      <td>Ни разу не звонили</td>\n",
       "      <td>NaN</td>\n",
       "      <td>NaT</td>\n",
       "      <td>ГП 166</td>\n",
       "      <td>Ризвонов Максуджон Мавлонович</td>\n",
       "      <td>9.857766e+09</td>\n",
       "      <td>NaN</td>\n",
       "      <td>NaT</td>\n",
       "      <td>NaN</td>\n",
       "      <td>NaN</td>\n",
       "      <td>NaN</td>\n",
       "      <td>september</td>\n",
       "      <td>11.0</td>\n",
       "      <td>1.0</td>\n",
       "      <td>1</td>\n",
       "    </tr>\n",
       "    <tr>\n",
       "      <th>1</th>\n",
       "      <td>17444838</td>\n",
       "      <td>pomoshnik_pdn50</td>\n",
       "      <td>Ни разу не звонили</td>\n",
       "      <td>NaN</td>\n",
       "      <td>NaT</td>\n",
       "      <td>ГП 166</td>\n",
       "      <td>Житлова Юлия Сергеевна</td>\n",
       "      <td>9.154611e+09</td>\n",
       "      <td>NaN</td>\n",
       "      <td>NaT</td>\n",
       "      <td>NaN</td>\n",
       "      <td>NaN</td>\n",
       "      <td>NaN</td>\n",
       "      <td>september</td>\n",
       "      <td>11.0</td>\n",
       "      <td>NaN</td>\n",
       "      <td>1</td>\n",
       "    </tr>\n",
       "    <tr>\n",
       "      <th>2</th>\n",
       "      <td>17445496</td>\n",
       "      <td>Помощник 8</td>\n",
       "      <td>Ни разу не звонили</td>\n",
       "      <td>NaN</td>\n",
       "      <td>NaT</td>\n",
       "      <td>ГП 166</td>\n",
       "      <td>Ковыршина Екатерина Павловна</td>\n",
       "      <td>9.166623e+09</td>\n",
       "      <td>NaN</td>\n",
       "      <td>NaT</td>\n",
       "      <td>NaN</td>\n",
       "      <td>NaN</td>\n",
       "      <td>NaN</td>\n",
       "      <td>september</td>\n",
       "      <td>13.0</td>\n",
       "      <td>1.0</td>\n",
       "      <td>1</td>\n",
       "    </tr>\n",
       "  </tbody>\n",
       "</table>\n",
       "</div>"
      ],
      "text/plain": [
       "      emiasid   operator_login              status old_comment next_call_date  \\\n",
       "0  1126204316       Помощник 7  Ни разу не звонили         NaN            NaT   \n",
       "1    17444838  pomoshnik_pdn50  Ни разу не звонили         NaN            NaT   \n",
       "2    17445496       Помощник 8  Ни разу не звонили         NaN            NaT   \n",
       "\n",
       "       mo                     doctor_fio  phone_number  calls_amount  \\\n",
       "0  ГП 166  Ризвонов Максуджон Мавлонович  9.857766e+09           NaN   \n",
       "1  ГП 166         Житлова Юлия Сергеевна  9.154611e+09           NaN   \n",
       "2  ГП 166   Ковыршина Екатерина Павловна  9.166623e+09           NaN   \n",
       "\n",
       "  last_call_date last_call_result last_talk_result problem      month  group  \\\n",
       "0            NaT              NaN              NaN     NaN  september   11.0   \n",
       "1            NaT              NaN              NaN     NaN  september   11.0   \n",
       "2            NaT              NaN              NaN     NaN  september   13.0   \n",
       "\n",
       "   operator_absence  priority  \n",
       "0               1.0         1  \n",
       "1               NaN         1  \n",
       "2               1.0         1  "
      ]
     },
     "execution_count": 406,
     "metadata": {},
     "output_type": "execute_result"
    }
   ],
   "source": [
    "final_actual_patients_for_task.head(3)"
   ]
  },
  {
   "cell_type": "code",
   "execution_count": 499,
   "id": "1c7ac415",
   "metadata": {
    "scrolled": true
   },
   "outputs": [],
   "source": [
    "final_actual_patients_for_task = \\\n",
    "final_actual_patients_for_task[['emiasid', 'status', 'old_comment', 'operator_login', 'mo', 'doctor_fio', 'priority', 'calls_amount',\n",
    "                                'last_call_date', 'month']]"
   ]
  },
  {
   "cell_type": "code",
   "execution_count": 500,
   "id": "94460c1d",
   "metadata": {},
   "outputs": [
    {
     "name": "stderr",
     "output_type": "stream",
     "text": [
      "C:\\Users\\murad_satabaev\\AppData\\Local\\Temp\\ipykernel_5084\\2998909243.py:1: FutureWarning: The default value of regex will change from True to False in a future version.\n",
      "  final_actual_patients_for_task['emiasid'] = final_actual_patients_for_task['emiasid'].astype(str).str.replace('\\.0', '')\n"
     ]
    }
   ],
   "source": [
    "final_actual_patients_for_task['emiasid'] = final_actual_patients_for_task['emiasid'].astype(str).str.replace('\\.0', '')"
   ]
  },
  {
   "cell_type": "code",
   "execution_count": 501,
   "id": "9bcb7f84",
   "metadata": {},
   "outputs": [],
   "source": [
    "initial_assistant_to_patient_distribution_in_today_task = \\\n",
    "final_actual_patients_for_task.copy()"
   ]
  },
  {
   "cell_type": "code",
   "execution_count": 502,
   "id": "9b46607c",
   "metadata": {},
   "outputs": [
    {
     "data": {
      "text/plain": [
       "2066"
      ]
     },
     "execution_count": 502,
     "metadata": {},
     "output_type": "execute_result"
    }
   ],
   "source": [
    "initial_assistant_to_patient_distribution_in_today_task.old_comment.nunique()"
   ]
  },
  {
   "cell_type": "code",
   "execution_count": 503,
   "id": "e38063ad",
   "metadata": {
    "scrolled": false
   },
   "outputs": [
    {
     "data": {
      "text/html": [
       "<div>\n",
       "<style scoped>\n",
       "    .dataframe tbody tr th:only-of-type {\n",
       "        vertical-align: middle;\n",
       "    }\n",
       "\n",
       "    .dataframe tbody tr th {\n",
       "        vertical-align: top;\n",
       "    }\n",
       "\n",
       "    .dataframe thead th {\n",
       "        text-align: right;\n",
       "    }\n",
       "</style>\n",
       "<table border=\"1\" class=\"dataframe\">\n",
       "  <thead>\n",
       "    <tr style=\"text-align: right;\">\n",
       "      <th></th>\n",
       "      <th></th>\n",
       "      <th>emiasid</th>\n",
       "    </tr>\n",
       "    <tr>\n",
       "      <th>mo</th>\n",
       "      <th>operator_login</th>\n",
       "      <th></th>\n",
       "    </tr>\n",
       "  </thead>\n",
       "  <tbody>\n",
       "    <tr>\n",
       "      <th rowspan=\"6\" valign=\"top\">ГП 107</th>\n",
       "      <th>pomoshnik_pdn130</th>\n",
       "      <td>11</td>\n",
       "    </tr>\n",
       "    <tr>\n",
       "      <th>pomoshnik_pdn109</th>\n",
       "      <td>12</td>\n",
       "    </tr>\n",
       "    <tr>\n",
       "      <th>pomoshnik_pdn43</th>\n",
       "      <td>22</td>\n",
       "    </tr>\n",
       "    <tr>\n",
       "      <th>pomoshnik_pdn129</th>\n",
       "      <td>37</td>\n",
       "    </tr>\n",
       "    <tr>\n",
       "      <th>pomoshnik_pdn185</th>\n",
       "      <td>39</td>\n",
       "    </tr>\n",
       "    <tr>\n",
       "      <th>pomoshnik_pdn148</th>\n",
       "      <td>44</td>\n",
       "    </tr>\n",
       "    <tr>\n",
       "      <th rowspan=\"4\" valign=\"top\">ГП 109</th>\n",
       "      <th>pomoshnik_pdn95</th>\n",
       "      <td>1</td>\n",
       "    </tr>\n",
       "    <tr>\n",
       "      <th>pomoshnik_pdn155</th>\n",
       "      <td>10</td>\n",
       "    </tr>\n",
       "    <tr>\n",
       "      <th>pomoshnik_pdn168</th>\n",
       "      <td>30</td>\n",
       "    </tr>\n",
       "    <tr>\n",
       "      <th>pomoshnik_pdn134</th>\n",
       "      <td>34</td>\n",
       "    </tr>\n",
       "    <tr>\n",
       "      <th rowspan=\"5\" valign=\"top\">ГП 11</th>\n",
       "      <th>Помощник 7</th>\n",
       "      <td>1</td>\n",
       "    </tr>\n",
       "    <tr>\n",
       "      <th>pomoshnik_pdn32</th>\n",
       "      <td>13</td>\n",
       "    </tr>\n",
       "    <tr>\n",
       "      <th>pomoshnik_pdn184</th>\n",
       "      <td>17</td>\n",
       "    </tr>\n",
       "    <tr>\n",
       "      <th>pomoshnik_pdn147</th>\n",
       "      <td>62</td>\n",
       "    </tr>\n",
       "    <tr>\n",
       "      <th>pomoshnik_pdn146</th>\n",
       "      <td>80</td>\n",
       "    </tr>\n",
       "    <tr>\n",
       "      <th rowspan=\"5\" valign=\"top\">ГП 134</th>\n",
       "      <th>pomoshnik_pdn7</th>\n",
       "      <td>13</td>\n",
       "    </tr>\n",
       "    <tr>\n",
       "      <th>pomoshnik_pdn75</th>\n",
       "      <td>24</td>\n",
       "    </tr>\n",
       "    <tr>\n",
       "      <th>pomoshnik_pdn89</th>\n",
       "      <td>35</td>\n",
       "    </tr>\n",
       "    <tr>\n",
       "      <th>pomoshnik_pdn93</th>\n",
       "      <td>54</td>\n",
       "    </tr>\n",
       "    <tr>\n",
       "      <th>pomoshnik_pdn63</th>\n",
       "      <td>59</td>\n",
       "    </tr>\n",
       "  </tbody>\n",
       "</table>\n",
       "</div>"
      ],
      "text/plain": [
       "                         emiasid\n",
       "mo     operator_login           \n",
       "ГП 107 pomoshnik_pdn130       11\n",
       "       pomoshnik_pdn109       12\n",
       "       pomoshnik_pdn43        22\n",
       "       pomoshnik_pdn129       37\n",
       "       pomoshnik_pdn185       39\n",
       "       pomoshnik_pdn148       44\n",
       "ГП 109 pomoshnik_pdn95         1\n",
       "       pomoshnik_pdn155       10\n",
       "       pomoshnik_pdn168       30\n",
       "       pomoshnik_pdn134       34\n",
       "ГП 11  Помощник 7              1\n",
       "       pomoshnik_pdn32        13\n",
       "       pomoshnik_pdn184       17\n",
       "       pomoshnik_pdn147       62\n",
       "       pomoshnik_pdn146       80\n",
       "ГП 134 pomoshnik_pdn7         13\n",
       "       pomoshnik_pdn75        24\n",
       "       pomoshnik_pdn89        35\n",
       "       pomoshnik_pdn93        54\n",
       "       pomoshnik_pdn63        59"
      ]
     },
     "execution_count": 503,
     "metadata": {},
     "output_type": "execute_result"
    }
   ],
   "source": [
    "initial_assistant_to_patient_distribution_in_today_task.groupby(['mo', 'operator_login']).agg({'emiasid': 'count'}).sort_values(\n",
    "    ['mo', 'emiasid']).head(20)"
   ]
  },
  {
   "cell_type": "code",
   "execution_count": null,
   "id": "aede78a4",
   "metadata": {},
   "outputs": [],
   "source": []
  },
  {
   "cell_type": "code",
   "execution_count": 412,
   "id": "d00cd287",
   "metadata": {},
   "outputs": [
    {
     "data": {
      "text/plain": [
       "{'pomoshnik_pdn131', 'pomoshnik_pdn82'}"
      ]
     },
     "execution_count": 412,
     "metadata": {},
     "output_type": "execute_result"
    }
   ],
   "source": [
    "set(present_assistants.login.unique()) - \\\n",
    "(set(initial_assistant_to_patient_distribution_in_today_task.operator_login.unique()) - {np.nan})"
   ]
  },
  {
   "cell_type": "code",
   "execution_count": 413,
   "id": "44cb2103",
   "metadata": {},
   "outputs": [],
   "source": [
    "# initial_assistant_to_patient_distribution_in_today_task.to_excel('initial_assistant_to_patient_distribution_in_today_task.xlsx')"
   ]
  },
  {
   "cell_type": "code",
   "execution_count": 414,
   "id": "15af79c4",
   "metadata": {},
   "outputs": [],
   "source": [
    "task_amount = 300"
   ]
  },
  {
   "cell_type": "code",
   "execution_count": 415,
   "id": "482dbfa9",
   "metadata": {},
   "outputs": [
    {
     "name": "stdout",
     "output_type": "stream",
     "text": [
      "CPU times: total: 1.3 s\n",
      "Wall time: 1.28 s\n"
     ]
    },
    {
     "data": {
      "text/plain": [
       "9214"
      ]
     },
     "execution_count": 415,
     "metadata": {},
     "output_type": "execute_result"
    }
   ],
   "source": [
    "%%time\n",
    "\n",
    "initial_task_for_today = pd.DataFrame()\n",
    "for operator_login in set(initial_assistant_to_patient_distribution_in_today_task.operator_login):\n",
    "    initial_assistant_to_patient_distribution_in_today_task_for_operator_login = \\\n",
    "    initial_assistant_to_patient_distribution_in_today_task[initial_assistant_to_patient_distribution_in_today_task \\\n",
    "                                                            .operator_login\n",
    "         == operator_login].sort_values(by=['priority', 'last_call_date', 'calls_amount'])\n",
    "    call_back_number_for_operator_login = initial_assistant_to_patient_distribution_in_today_task_for_operator_login[\n",
    "        initial_assistant_to_patient_distribution_in_today_task_for_operator_login.status.isin({\n",
    "            'Перезвонить сегодня', 'Перенос звонка на другой день'})].shape[0]\n",
    "\n",
    "    initial_task_for_today = pd.concat(\n",
    "        [initial_task_for_today, \n",
    "\n",
    "         \n",
    "         initial_assistant_to_patient_distribution_in_today_task[\n",
    "             (initial_assistant_to_patient_distribution_in_today_task.operator_login==operator_login)\n",
    "         ].head(task_amount),\n",
    "        \n",
    "       \n",
    "        ]).reset_index(drop=True)\n",
    "\n",
    "initial_task_for_today.shape[0]"
   ]
  },
  {
   "cell_type": "code",
   "execution_count": 416,
   "id": "8a64cb4a",
   "metadata": {},
   "outputs": [
    {
     "data": {
      "text/html": [
       "<div>\n",
       "<style scoped>\n",
       "    .dataframe tbody tr th:only-of-type {\n",
       "        vertical-align: middle;\n",
       "    }\n",
       "\n",
       "    .dataframe tbody tr th {\n",
       "        vertical-align: top;\n",
       "    }\n",
       "\n",
       "    .dataframe thead th {\n",
       "        text-align: right;\n",
       "    }\n",
       "</style>\n",
       "<table border=\"1\" class=\"dataframe\">\n",
       "  <thead>\n",
       "    <tr style=\"text-align: right;\">\n",
       "      <th></th>\n",
       "      <th></th>\n",
       "      <th>emiasid</th>\n",
       "    </tr>\n",
       "    <tr>\n",
       "      <th>mo</th>\n",
       "      <th>operator_login</th>\n",
       "      <th></th>\n",
       "    </tr>\n",
       "  </thead>\n",
       "  <tbody>\n",
       "    <tr>\n",
       "      <th>ГП 19</th>\n",
       "      <th>pomoshnik_pdn246</th>\n",
       "      <td>1</td>\n",
       "    </tr>\n",
       "    <tr>\n",
       "      <th>ГП 69</th>\n",
       "      <th>pomoshnik_pdn264</th>\n",
       "      <td>1</td>\n",
       "    </tr>\n",
       "    <tr>\n",
       "      <th>ГП 218</th>\n",
       "      <th>pomoshnik_pdn134</th>\n",
       "      <td>1</td>\n",
       "    </tr>\n",
       "    <tr>\n",
       "      <th>ГП 212</th>\n",
       "      <th>Помощник 5</th>\n",
       "      <td>1</td>\n",
       "    </tr>\n",
       "    <tr>\n",
       "      <th rowspan=\"2\" valign=\"top\">ГП 9</th>\n",
       "      <th>pomoshnik_pdn10</th>\n",
       "      <td>1</td>\n",
       "    </tr>\n",
       "    <tr>\n",
       "      <th>Помощник 12</th>\n",
       "      <td>1</td>\n",
       "    </tr>\n",
       "    <tr>\n",
       "      <th>ГП 209</th>\n",
       "      <th>pomoshnik_pdn32</th>\n",
       "      <td>1</td>\n",
       "    </tr>\n",
       "    <tr>\n",
       "      <th>ГП 220</th>\n",
       "      <th>pomoshnik_pdn10</th>\n",
       "      <td>1</td>\n",
       "    </tr>\n",
       "    <tr>\n",
       "      <th rowspan=\"2\" valign=\"top\">ГП 64</th>\n",
       "      <th>pomoshnik_pdn158</th>\n",
       "      <td>1</td>\n",
       "    </tr>\n",
       "    <tr>\n",
       "      <th>pomoshnik_pdn152</th>\n",
       "      <td>1</td>\n",
       "    </tr>\n",
       "  </tbody>\n",
       "</table>\n",
       "</div>"
      ],
      "text/plain": [
       "                         emiasid\n",
       "mo     operator_login           \n",
       "ГП 19  pomoshnik_pdn246        1\n",
       "ГП 69  pomoshnik_pdn264        1\n",
       "ГП 218 pomoshnik_pdn134        1\n",
       "ГП 212 Помощник 5              1\n",
       "ГП 9   pomoshnik_pdn10         1\n",
       "       Помощник 12             1\n",
       "ГП 209 pomoshnik_pdn32         1\n",
       "ГП 220 pomoshnik_pdn10         1\n",
       "ГП 64  pomoshnik_pdn158        1\n",
       "       pomoshnik_pdn152        1"
      ]
     },
     "execution_count": 416,
     "metadata": {},
     "output_type": "execute_result"
    }
   ],
   "source": [
    "initial_task_for_today \\\n",
    ".groupby(['mo', 'operator_login']).agg({'emiasid': 'count'}).sort_values(['mo', 'emiasid'])\\\n",
    ".sort_values(by='emiasid', ascending=True).head(10)"
   ]
  },
  {
   "cell_type": "code",
   "execution_count": 417,
   "id": "4624e462",
   "metadata": {},
   "outputs": [
    {
     "data": {
      "text/html": [
       "<div>\n",
       "<style scoped>\n",
       "    .dataframe tbody tr th:only-of-type {\n",
       "        vertical-align: middle;\n",
       "    }\n",
       "\n",
       "    .dataframe tbody tr th {\n",
       "        vertical-align: top;\n",
       "    }\n",
       "\n",
       "    .dataframe thead th {\n",
       "        text-align: right;\n",
       "    }\n",
       "</style>\n",
       "<table border=\"1\" class=\"dataframe\">\n",
       "  <thead>\n",
       "    <tr style=\"text-align: right;\">\n",
       "      <th></th>\n",
       "      <th></th>\n",
       "      <th>emiasid</th>\n",
       "    </tr>\n",
       "    <tr>\n",
       "      <th>mo</th>\n",
       "      <th>operator_login</th>\n",
       "      <th></th>\n",
       "    </tr>\n",
       "  </thead>\n",
       "  <tbody>\n",
       "    <tr>\n",
       "      <th>ГП 214</th>\n",
       "      <th>pomoshnik_pdn156</th>\n",
       "      <td>300</td>\n",
       "    </tr>\n",
       "    <tr>\n",
       "      <th>ГП 23</th>\n",
       "      <th>pomoshnik_pdn14</th>\n",
       "      <td>300</td>\n",
       "    </tr>\n",
       "    <tr>\n",
       "      <th>ГП 166</th>\n",
       "      <th>Помощник 8</th>\n",
       "      <td>300</td>\n",
       "    </tr>\n",
       "    <tr>\n",
       "      <th>ГП 191</th>\n",
       "      <th>pomoshnik_pdn13</th>\n",
       "      <td>300</td>\n",
       "    </tr>\n",
       "    <tr>\n",
       "      <th>ГП 166</th>\n",
       "      <th>Помощник 7</th>\n",
       "      <td>299</td>\n",
       "    </tr>\n",
       "    <tr>\n",
       "      <th>ГП 2</th>\n",
       "      <th>pomoshnik_pdn83</th>\n",
       "      <td>295</td>\n",
       "    </tr>\n",
       "    <tr>\n",
       "      <th>ГП 23</th>\n",
       "      <th>pomoshnik_pdn10</th>\n",
       "      <td>294</td>\n",
       "    </tr>\n",
       "    <tr>\n",
       "      <th>ГП 191</th>\n",
       "      <th>pomoshnik_pdn52</th>\n",
       "      <td>285</td>\n",
       "    </tr>\n",
       "    <tr>\n",
       "      <th>ГП 45</th>\n",
       "      <th>pomoshnik_pdn307</th>\n",
       "      <td>249</td>\n",
       "    </tr>\n",
       "    <tr>\n",
       "      <th>ГП 214</th>\n",
       "      <th>pomoshnik_pdn65</th>\n",
       "      <td>225</td>\n",
       "    </tr>\n",
       "  </tbody>\n",
       "</table>\n",
       "</div>"
      ],
      "text/plain": [
       "                         emiasid\n",
       "mo     operator_login           \n",
       "ГП 214 pomoshnik_pdn156      300\n",
       "ГП 23  pomoshnik_pdn14       300\n",
       "ГП 166 Помощник 8            300\n",
       "ГП 191 pomoshnik_pdn13       300\n",
       "ГП 166 Помощник 7            299\n",
       "ГП 2   pomoshnik_pdn83       295\n",
       "ГП 23  pomoshnik_pdn10       294\n",
       "ГП 191 pomoshnik_pdn52       285\n",
       "ГП 45  pomoshnik_pdn307      249\n",
       "ГП 214 pomoshnik_pdn65       225"
      ]
     },
     "execution_count": 417,
     "metadata": {},
     "output_type": "execute_result"
    }
   ],
   "source": [
    "initial_task_for_today \\\n",
    ".groupby(['mo', 'operator_login']).agg({'emiasid': 'count'}).sort_values(['mo', 'emiasid'])\\\n",
    ".sort_values(by='emiasid', ascending=False).head(10)"
   ]
  },
  {
   "cell_type": "code",
   "execution_count": 418,
   "id": "76c5884f",
   "metadata": {},
   "outputs": [],
   "source": [
    "rename_mo = \\\n",
    "{'ГБУЗ Г МОСКВЫ ГП № 170 ДЗМ': 'ГП 170', ' ГП 6 ДЗМ': 'ГП 6', 'ГБУЗ КДЦ 6 ДЗМ':'КДЦ 6', \n",
    "'ГБУЗ \"ГП № 134 ДЗМ\"': 'ГП 134', 'КДЦ 4': 'КДЦ 4', 'ГБУЗ ДКЦ 1 ДЗМ': 'ДКЦ 1', 'ГБУЗ ГП 23 ДЗМ': 'ГП 23',\n",
    "'ГБУЗ ГП 109 ДЗМ': 'ГП 109', 'ГБУЗ ГП 11 ДЗМ': 'ГП 11', 'ГБУЗ ГП 64 ДЗМ': 'ГП 64', 'ГБУЗ ГП 191 ДЗМ': 'ГП 191', \n",
    "'ГБУЗ ГП 220 ДЗМ': 'ГП 220', 'ГБУЗ \"ГП № 218 ДЗМ\"': 'ГП 218',  'ГБУЗ ГП 107 ДЗМ': 'ГП 107', \n",
    "'ГБУЗ \"ГП № 22 ДЗМ\"': 'ГП 22', 'ГБУЗ ДЦ 5 ДЗМ': 'ДЦ 5', 'ГБУЗ ГП 210 ДЗМ': 'ГП 210', 'ГБУЗ ГП 214 ДЗМ': 'ГП 214', \n",
    "'ГБУЗ ГП 2 ДЗМ': 'ГП 2', 'ГБУЗ КДП 121 ДЗМ': 'КДП 121', 'ГБУЗ ГП 66 ДЗМ': 'ГП 66',  'ГБУЗ ДЦ 3 ДЗМ ': 'ДЦ 3',\n",
    "'ГБУЗ ГП 36 ДЗМ': 'ГП 36',  'ГБУЗ ГП 62 ДЗМ ': 'ГП 62', \n",
    "'ГБУЗ \"ГП № 52 ДЗМ\"': 'ГП 52', 'ГБУЗ \"ГП 67 ДЗМ\"': 'ГП 67', 'ГБУЗ ГП 68 ДЗМ': 'ГП 68', 'ГБУЗ ГП 175 ДЗМ': 'ГП 175',\n",
    "'ГБУЗ ГП № 209 ДЗМ': 'ГП 209',  'ГБУЗ ГП 212 ДЗМ': 'ГП 212', 'ГБУЗ ГП 19 ДЗМ': 'ГП 19', \n",
    "'ГБУЗ ГП №166 ДЗМ': 'ГП 166', 'ГБУЗ ГП 9 ДЗМ': 'ГП 9', 'ГБУЗ ГП 69 ДЗМ': 'ГП 69',\n",
    "'ГБУЗ \"ГП № 3 ДЗМ\"': 'ГП 3', 'ГБУЗ ГП 5 ДЗМ': 'ГП 5', 'ГБУЗ ГП 46 ДЗМ': 'ГП 46', 'ГБУЗ ГП №8 ДЗМ': 'ГП 8', \n",
    "'ГБУЗ \"ГП № 45 ДЗМ\"': 'ГП 45'}"
   ]
  },
  {
   "cell_type": "code",
   "execution_count": 419,
   "id": "d8c1906d",
   "metadata": {},
   "outputs": [],
   "source": [
    "mo_list = set(rename_mo.values())"
   ]
  },
  {
   "cell_type": "code",
   "execution_count": 420,
   "id": "8f4c0206",
   "metadata": {
    "scrolled": true
   },
   "outputs": [],
   "source": [
    "new_doctor_patients = \\\n",
    "initial_assistant_to_patient_distribution_in_today_task[(initial_assistant_to_patient_distribution_in_today_task.mo.isin(mo_list)) & \n",
    "                    (~initial_assistant_to_patient_distribution_in_today_task.doctor_fio.isin(doctors_list))].reset_index(drop=True)"
   ]
  },
  {
   "cell_type": "code",
   "execution_count": 421,
   "id": "69649df2",
   "metadata": {},
   "outputs": [],
   "source": [
    "initial_task_for_today_present_assistants = \\\n",
    "initial_task_for_today[~initial_task_for_today.operator_login.isin(absent_assistants.login)]"
   ]
  },
  {
   "cell_type": "code",
   "execution_count": 422,
   "id": "3dc5953a",
   "metadata": {},
   "outputs": [
    {
     "data": {
      "text/plain": [
       "3329"
      ]
     },
     "execution_count": 422,
     "metadata": {},
     "output_type": "execute_result"
    }
   ],
   "source": [
    "initial_task_for_today[initial_task_for_today.operator_login.isin(absent_assistants.login)].shape[0]"
   ]
  },
  {
   "cell_type": "code",
   "execution_count": 423,
   "id": "249761c8",
   "metadata": {},
   "outputs": [
    {
     "data": {
      "text/plain": [
       "5885"
      ]
     },
     "execution_count": 423,
     "metadata": {},
     "output_type": "execute_result"
    }
   ],
   "source": [
    "initial_task_for_today_present_assistants.shape[0]"
   ]
  },
  {
   "cell_type": "code",
   "execution_count": 424,
   "id": "3067e938",
   "metadata": {},
   "outputs": [
    {
     "data": {
      "text/html": [
       "<div>\n",
       "<style scoped>\n",
       "    .dataframe tbody tr th:only-of-type {\n",
       "        vertical-align: middle;\n",
       "    }\n",
       "\n",
       "    .dataframe tbody tr th {\n",
       "        vertical-align: top;\n",
       "    }\n",
       "\n",
       "    .dataframe thead th {\n",
       "        text-align: right;\n",
       "    }\n",
       "</style>\n",
       "<table border=\"1\" class=\"dataframe\">\n",
       "  <thead>\n",
       "    <tr style=\"text-align: right;\">\n",
       "      <th></th>\n",
       "      <th>emiasid</th>\n",
       "    </tr>\n",
       "    <tr>\n",
       "      <th>operator_login</th>\n",
       "      <th></th>\n",
       "    </tr>\n",
       "  </thead>\n",
       "  <tbody>\n",
       "    <tr>\n",
       "      <th>pomoshnik_pdn83</th>\n",
       "      <td>295</td>\n",
       "    </tr>\n",
       "    <tr>\n",
       "      <th>pomoshnik_pdn52</th>\n",
       "      <td>285</td>\n",
       "    </tr>\n",
       "    <tr>\n",
       "      <th>pomoshnik_pdn307</th>\n",
       "      <td>249</td>\n",
       "    </tr>\n",
       "    <tr>\n",
       "      <th>pomoshnik_pdn65</th>\n",
       "      <td>225</td>\n",
       "    </tr>\n",
       "    <tr>\n",
       "      <th>pomoshnik_pdn11</th>\n",
       "      <td>200</td>\n",
       "    </tr>\n",
       "    <tr>\n",
       "      <th>...</th>\n",
       "      <td>...</td>\n",
       "    </tr>\n",
       "    <tr>\n",
       "      <th>pomoshnik_pdn57</th>\n",
       "      <td>2</td>\n",
       "    </tr>\n",
       "    <tr>\n",
       "      <th>pomoshnik_pdn98</th>\n",
       "      <td>2</td>\n",
       "    </tr>\n",
       "    <tr>\n",
       "      <th>pomoshnik_pdn264</th>\n",
       "      <td>1</td>\n",
       "    </tr>\n",
       "    <tr>\n",
       "      <th>pomoshnik_pdn217</th>\n",
       "      <td>1</td>\n",
       "    </tr>\n",
       "    <tr>\n",
       "      <th>pomoshnik_pdn151</th>\n",
       "      <td>1</td>\n",
       "    </tr>\n",
       "  </tbody>\n",
       "</table>\n",
       "<p>166 rows × 1 columns</p>\n",
       "</div>"
      ],
      "text/plain": [
       "                  emiasid\n",
       "operator_login           \n",
       "pomoshnik_pdn83       295\n",
       "pomoshnik_pdn52       285\n",
       "pomoshnik_pdn307      249\n",
       "pomoshnik_pdn65       225\n",
       "pomoshnik_pdn11       200\n",
       "...                   ...\n",
       "pomoshnik_pdn57         2\n",
       "pomoshnik_pdn98         2\n",
       "pomoshnik_pdn264        1\n",
       "pomoshnik_pdn217        1\n",
       "pomoshnik_pdn151        1\n",
       "\n",
       "[166 rows x 1 columns]"
      ]
     },
     "execution_count": 424,
     "metadata": {},
     "output_type": "execute_result"
    }
   ],
   "source": [
    "initial_task_for_today_present_assistants.groupby('operator_login').agg({'emiasid': 'count'}).sort_values('emiasid', ascending=False)"
   ]
  },
  {
   "cell_type": "code",
   "execution_count": 425,
   "id": "5984cf9c",
   "metadata": {},
   "outputs": [],
   "source": [
    "initial_task_for_today_absent_assistants =  \\\n",
    "initial_task_for_today[initial_task_for_today.operator_login.isin(absent_assistants.login)] \\\n",
    "[['emiasid', 'status', 'old_comment', 'mo', 'priority', 'month']]"
   ]
  },
  {
   "cell_type": "code",
   "execution_count": 426,
   "id": "e05971cb",
   "metadata": {},
   "outputs": [],
   "source": [
    "additional_task_for_present_assistants = \\\n",
    "pd.concat([\n",
    "#     new_doctor_patients,\n",
    "    initial_task_for_today_absent_assistants\n",
    "]).reset_index(drop=True)"
   ]
  },
  {
   "cell_type": "code",
   "execution_count": 427,
   "id": "90ff9e79",
   "metadata": {},
   "outputs": [],
   "source": [
    "additional_task_for_present_assistants_by_mo = \\\n",
    "additional_task_for_present_assistants.groupby(['mo']).agg({'emiasid': 'count'}).sort_values(by=['mo', 'emiasid'])"
   ]
  },
  {
   "cell_type": "code",
   "execution_count": 428,
   "id": "d4bb3a4b",
   "metadata": {},
   "outputs": [],
   "source": [
    "distribution_count = initial_task_for_today_present_assistants.groupby(['mo']) \\\n",
    ".agg({'emiasid': 'count', 'operator_login': 'nunique'}) \\\n",
    ".sort_values(by=['mo', 'emiasid'])"
   ]
  },
  {
   "cell_type": "code",
   "execution_count": 429,
   "id": "6cffe7fc",
   "metadata": {},
   "outputs": [],
   "source": [
    "distribution_count['total_delta'] = distribution_count['operator_login'] * task_amount - distribution_count['emiasid']"
   ]
  },
  {
   "cell_type": "code",
   "execution_count": 430,
   "id": "e2b43718",
   "metadata": {},
   "outputs": [],
   "source": [
    "distribution_count = distribution_count[distribution_count.total_delta > 0]"
   ]
  },
  {
   "cell_type": "code",
   "execution_count": 431,
   "id": "4e0a6b6d",
   "metadata": {},
   "outputs": [
    {
     "data": {
      "text/html": [
       "<div>\n",
       "<style scoped>\n",
       "    .dataframe tbody tr th:only-of-type {\n",
       "        vertical-align: middle;\n",
       "    }\n",
       "\n",
       "    .dataframe tbody tr th {\n",
       "        vertical-align: top;\n",
       "    }\n",
       "\n",
       "    .dataframe thead th {\n",
       "        text-align: right;\n",
       "    }\n",
       "</style>\n",
       "<table border=\"1\" class=\"dataframe\">\n",
       "  <thead>\n",
       "    <tr style=\"text-align: right;\">\n",
       "      <th></th>\n",
       "      <th>emiasid</th>\n",
       "      <th>status</th>\n",
       "      <th>old_comment</th>\n",
       "      <th>mo</th>\n",
       "      <th>priority</th>\n",
       "      <th>month</th>\n",
       "    </tr>\n",
       "  </thead>\n",
       "  <tbody>\n",
       "    <tr>\n",
       "      <th>0</th>\n",
       "      <td>18774748</td>\n",
       "      <td>Перенос звонка на другой день</td>\n",
       "      <td>перезвонить, записать на исследования</td>\n",
       "      <td>ГП 22</td>\n",
       "      <td>2</td>\n",
       "      <td>september</td>\n",
       "    </tr>\n",
       "    <tr>\n",
       "      <th>1</th>\n",
       "      <td>16206328</td>\n",
       "      <td>Перенос звонка на другой день</td>\n",
       "      <td>перезвонить, записать на исследования</td>\n",
       "      <td>ГП 22</td>\n",
       "      <td>2</td>\n",
       "      <td>september</td>\n",
       "    </tr>\n",
       "    <tr>\n",
       "      <th>2</th>\n",
       "      <td>2246478282</td>\n",
       "      <td>Запишется самостоятельно</td>\n",
       "      <td>перезвонить, записать к терапевту</td>\n",
       "      <td>ГП 22</td>\n",
       "      <td>2</td>\n",
       "      <td>august</td>\n",
       "    </tr>\n",
       "    <tr>\n",
       "      <th>3</th>\n",
       "      <td>26788623</td>\n",
       "      <td>Перенос звонка на другой день</td>\n",
       "      <td>перезвонить</td>\n",
       "      <td>ГП 22</td>\n",
       "      <td>2</td>\n",
       "      <td>september</td>\n",
       "    </tr>\n",
       "    <tr>\n",
       "      <th>4</th>\n",
       "      <td>17420053</td>\n",
       "      <td>Запишется самостоятельно</td>\n",
       "      <td>перезвонить , кп</td>\n",
       "      <td>ГП 22</td>\n",
       "      <td>2</td>\n",
       "      <td>september</td>\n",
       "    </tr>\n",
       "    <tr>\n",
       "      <th>...</th>\n",
       "      <td>...</td>\n",
       "      <td>...</td>\n",
       "      <td>...</td>\n",
       "      <td>...</td>\n",
       "      <td>...</td>\n",
       "      <td>...</td>\n",
       "    </tr>\n",
       "    <tr>\n",
       "      <th>3324</th>\n",
       "      <td>16562715</td>\n",
       "      <td>Запишется самостоятельно</td>\n",
       "      <td>перезвонить, записать к терапевту</td>\n",
       "      <td>ГП 66</td>\n",
       "      <td>2</td>\n",
       "      <td>august</td>\n",
       "    </tr>\n",
       "    <tr>\n",
       "      <th>3325</th>\n",
       "      <td>173711791</td>\n",
       "      <td>Будет в Москве в другом месяце</td>\n",
       "      <td>перезвонить, записать к офтальмологу, кровь сд...</td>\n",
       "      <td>ГП 66</td>\n",
       "      <td>2</td>\n",
       "      <td>august</td>\n",
       "    </tr>\n",
       "    <tr>\n",
       "      <th>3326</th>\n",
       "      <td>394621841</td>\n",
       "      <td>Перенос звонка на другой день</td>\n",
       "      <td>перезвонить, контроль записи на исследования</td>\n",
       "      <td>ГП 66</td>\n",
       "      <td>2</td>\n",
       "      <td>september</td>\n",
       "    </tr>\n",
       "    <tr>\n",
       "      <th>3327</th>\n",
       "      <td>16586660</td>\n",
       "      <td>Перенос звонка на другой день</td>\n",
       "      <td>перезвонить, записать к терапевту, нет слотов,...</td>\n",
       "      <td>ГП 66</td>\n",
       "      <td>2</td>\n",
       "      <td>september</td>\n",
       "    </tr>\n",
       "    <tr>\n",
       "      <th>3328</th>\n",
       "      <td>10933647</td>\n",
       "      <td>Перенос звонка на другой день</td>\n",
       "      <td>нет слотов , актив 10348 на эхо на 26.09, расс...</td>\n",
       "      <td>ГП 66</td>\n",
       "      <td>2</td>\n",
       "      <td>september</td>\n",
       "    </tr>\n",
       "  </tbody>\n",
       "</table>\n",
       "<p>3329 rows × 6 columns</p>\n",
       "</div>"
      ],
      "text/plain": [
       "         emiasid                          status  \\\n",
       "0       18774748   Перенос звонка на другой день   \n",
       "1       16206328   Перенос звонка на другой день   \n",
       "2     2246478282        Запишется самостоятельно   \n",
       "3       26788623   Перенос звонка на другой день   \n",
       "4       17420053        Запишется самостоятельно   \n",
       "...          ...                             ...   \n",
       "3324    16562715        Запишется самостоятельно   \n",
       "3325   173711791  Будет в Москве в другом месяце   \n",
       "3326   394621841   Перенос звонка на другой день   \n",
       "3327    16586660   Перенос звонка на другой день   \n",
       "3328    10933647   Перенос звонка на другой день   \n",
       "\n",
       "                                            old_comment     mo  priority  \\\n",
       "0                 перезвонить, записать на исследования  ГП 22         2   \n",
       "1                 перезвонить, записать на исследования  ГП 22         2   \n",
       "2                     перезвонить, записать к терапевту  ГП 22         2   \n",
       "3                                           перезвонить  ГП 22         2   \n",
       "4                                      перезвонить , кп  ГП 22         2   \n",
       "...                                                 ...    ...       ...   \n",
       "3324                  перезвонить, записать к терапевту  ГП 66         2   \n",
       "3325  перезвонить, записать к офтальмологу, кровь сд...  ГП 66         2   \n",
       "3326       перезвонить, контроль записи на исследования  ГП 66         2   \n",
       "3327  перезвонить, записать к терапевту, нет слотов,...  ГП 66         2   \n",
       "3328  нет слотов , актив 10348 на эхо на 26.09, расс...  ГП 66         2   \n",
       "\n",
       "          month  \n",
       "0     september  \n",
       "1     september  \n",
       "2        august  \n",
       "3     september  \n",
       "4     september  \n",
       "...         ...  \n",
       "3324     august  \n",
       "3325     august  \n",
       "3326  september  \n",
       "3327  september  \n",
       "3328  september  \n",
       "\n",
       "[3329 rows x 6 columns]"
      ]
     },
     "execution_count": 431,
     "metadata": {},
     "output_type": "execute_result"
    }
   ],
   "source": [
    "additional_task_for_present_assistants"
   ]
  },
  {
   "cell_type": "code",
   "execution_count": 432,
   "id": "3fc05a8b",
   "metadata": {},
   "outputs": [],
   "source": [
    "final_task_predistribution = \\\n",
    "pd.concat([initial_task_for_today_present_assistants, additional_task_for_present_assistants]).reset_index(drop=True)"
   ]
  },
  {
   "cell_type": "code",
   "execution_count": 433,
   "id": "e111fbba",
   "metadata": {},
   "outputs": [
    {
     "data": {
      "text/plain": [
       "3329"
      ]
     },
     "execution_count": 433,
     "metadata": {},
     "output_type": "execute_result"
    }
   ],
   "source": [
    "empty_login_patients_amount_before = final_task_predistribution[final_task_predistribution.operator_login.isna()].shape[0]\n",
    "empty_login_patients_amount_before"
   ]
  },
  {
   "cell_type": "code",
   "execution_count": 434,
   "id": "650e69ab",
   "metadata": {},
   "outputs": [
    {
     "name": "stdout",
     "output_type": "stream",
     "text": [
      "CPU times: total: 41.4 s\n",
      "Wall time: 41.4 s\n"
     ]
    }
   ],
   "source": [
    "%%time\n",
    "\n",
    "for mo in distribution_count.index:\n",
    "    \n",
    "    while final_task_predistribution[final_task_predistribution.mo == mo].groupby('operator_login') \\\n",
    "    .agg({'emiasid': 'count'}).min()['emiasid'] < task_amount and \\\n",
    "    final_task_predistribution[(final_task_predistribution.operator_login.isna()) & (final_task_predistribution.mo == mo)] \\\n",
    "    .shape[0] > 0:\n",
    "        \n",
    "        miminal_in_mo_assistant_emiasid_amount = final_task_predistribution[final_task_predistribution.mo == mo] \\\n",
    "        .groupby('operator_login').agg({'emiasid': 'count'}).min()['emiasid']\n",
    "\n",
    "        minimal_in_mo_emiasid_amount_login = final_task_predistribution[final_task_predistribution.mo == mo] \\\n",
    "        .groupby('operator_login').agg({'emiasid': 'count'}).sort_values(by='emiasid').index[0]\n",
    "        \n",
    "        \n",
    "        empty_login_in_mo_index = final_task_predistribution[\n",
    "            (final_task_predistribution.operator_login.isna()) & (final_task_predistribution.mo == mo)\n",
    "        ].index[0]\n",
    "        \n",
    "        final_task_predistribution = \\\n",
    "        final_task_predistribution.sort_values(by=['priority', 'last_call_date', 'calls_amount'])\n",
    "\n",
    "        final_task_predistribution.loc[empty_login_in_mo_index, 'operator_login'] = minimal_in_mo_emiasid_amount_login\n"
   ]
  },
  {
   "cell_type": "code",
   "execution_count": 435,
   "id": "0f2c344a",
   "metadata": {},
   "outputs": [
    {
     "data": {
      "text/plain": [
       "241"
      ]
     },
     "execution_count": 435,
     "metadata": {},
     "output_type": "execute_result"
    }
   ],
   "source": [
    "empty_login_patients_amount_after = final_task_predistribution[final_task_predistribution.operator_login.isna()].shape[0]\n",
    "empty_login_patients_amount_after"
   ]
  },
  {
   "cell_type": "code",
   "execution_count": 436,
   "id": "b2b0e146",
   "metadata": {},
   "outputs": [],
   "source": [
    "check_table = distribution_count.merge(additional_task_for_present_assistants_by_mo,left_index=True, right_index=True) \\\n",
    "[['total_delta', 'emiasid_y']]"
   ]
  },
  {
   "cell_type": "code",
   "execution_count": 437,
   "id": "9680ffa0",
   "metadata": {},
   "outputs": [],
   "source": [
    "check_table.loc[check_table['total_delta'] > check_table['emiasid_y'], 'real_addition'] = \\\n",
    "check_table.loc[check_table['total_delta'] > check_table['emiasid_y'], 'emiasid_y']\n",
    "\n",
    "check_table.loc[check_table['total_delta'] <= check_table['emiasid_y'], 'real_addition'] = \\\n",
    "check_table.loc[check_table['total_delta'] <= check_table['emiasid_y'], 'total_delta']"
   ]
  },
  {
   "cell_type": "code",
   "execution_count": 438,
   "id": "1fe8f17d",
   "metadata": {},
   "outputs": [
    {
     "data": {
      "text/plain": [
       "3088.0"
      ]
     },
     "execution_count": 438,
     "metadata": {},
     "output_type": "execute_result"
    }
   ],
   "source": [
    "real_change_of_emty_login_patients_amount = check_table.real_addition.sum()\n",
    "real_change_of_emty_login_patients_amount"
   ]
  },
  {
   "cell_type": "code",
   "execution_count": 439,
   "id": "63ec6182",
   "metadata": {},
   "outputs": [
    {
     "data": {
      "text/plain": [
       "True"
      ]
     },
     "execution_count": 439,
     "metadata": {},
     "output_type": "execute_result"
    }
   ],
   "source": [
    "empty_login_patients_amount_before - empty_login_patients_amount_after == real_change_of_emty_login_patients_amount"
   ]
  },
  {
   "cell_type": "code",
   "execution_count": 440,
   "id": "942e3c5e",
   "metadata": {},
   "outputs": [],
   "source": [
    "final_task_distribution = final_task_predistribution[~final_task_predistribution.operator_login.isna()] \\\n",
    ".copy().reset_index(drop=True)"
   ]
  },
  {
   "cell_type": "code",
   "execution_count": 441,
   "id": "f26194b6",
   "metadata": {},
   "outputs": [
    {
     "data": {
      "text/plain": [
       "8973"
      ]
     },
     "execution_count": 441,
     "metadata": {},
     "output_type": "execute_result"
    }
   ],
   "source": [
    "final_task_distribution.shape[0]"
   ]
  },
  {
   "cell_type": "code",
   "execution_count": 442,
   "id": "2c6be748",
   "metadata": {},
   "outputs": [
    {
     "data": {
      "text/plain": [
       "Index(['emiasid', 'status', 'old_comment', 'operator_login', 'mo',\n",
       "       'doctor_fio', 'priority', 'calls_amount', 'last_call_date', 'month'],\n",
       "      dtype='object')"
      ]
     },
     "execution_count": 442,
     "metadata": {},
     "output_type": "execute_result"
    }
   ],
   "source": [
    "final_task_distribution.columns"
   ]
  },
  {
   "cell_type": "code",
   "execution_count": 443,
   "id": "057ecfc2",
   "metadata": {},
   "outputs": [
    {
     "data": {
      "text/plain": [
       "Ни разу не звонили                4638\n",
       "Перенос звонка на другой день     3921\n",
       "Запишется самостоятельно           284\n",
       "Будет в Москве в другом месяце     100\n",
       "Не дозвонились                      19\n",
       "Отказ                                4\n",
       "Разговор состоялся                   3\n",
       "Перезвонить сегодня                  2\n",
       "Живет не в Москве                    1\n",
       "Госпитализирован                     1\n",
       "Name: status, dtype: int64"
      ]
     },
     "execution_count": 443,
     "metadata": {},
     "output_type": "execute_result"
    }
   ],
   "source": [
    "final_task_distribution.status.value_counts()"
   ]
  },
  {
   "cell_type": "code",
   "execution_count": 444,
   "id": "ba065c68",
   "metadata": {},
   "outputs": [
    {
     "data": {
      "text/plain": [
       "8973"
      ]
     },
     "execution_count": 444,
     "metadata": {},
     "output_type": "execute_result"
    }
   ],
   "source": [
    "final_task_distribution.shape[0]"
   ]
  },
  {
   "cell_type": "code",
   "execution_count": 445,
   "id": "820f1e31",
   "metadata": {},
   "outputs": [
    {
     "data": {
      "text/plain": [
       "Index(['emiasid', 'status', 'old_comment', 'operator_login', 'mo',\n",
       "       'doctor_fio', 'priority', 'calls_amount', 'last_call_date', 'month'],\n",
       "      dtype='object')"
      ]
     },
     "execution_count": 445,
     "metadata": {},
     "output_type": "execute_result"
    }
   ],
   "source": [
    "final_task_distribution.columns"
   ]
  },
  {
   "cell_type": "code",
   "execution_count": 446,
   "id": "2eef0d77",
   "metadata": {},
   "outputs": [
    {
     "data": {
      "text/html": [
       "<div>\n",
       "<style scoped>\n",
       "    .dataframe tbody tr th:only-of-type {\n",
       "        vertical-align: middle;\n",
       "    }\n",
       "\n",
       "    .dataframe tbody tr th {\n",
       "        vertical-align: top;\n",
       "    }\n",
       "\n",
       "    .dataframe thead th {\n",
       "        text-align: right;\n",
       "    }\n",
       "</style>\n",
       "<table border=\"1\" class=\"dataframe\">\n",
       "  <thead>\n",
       "    <tr style=\"text-align: right;\">\n",
       "      <th></th>\n",
       "      <th>emiasid</th>\n",
       "      <th>status</th>\n",
       "      <th>old_comment</th>\n",
       "      <th>operator_login</th>\n",
       "      <th>mo</th>\n",
       "      <th>doctor_fio</th>\n",
       "      <th>priority</th>\n",
       "      <th>calls_amount</th>\n",
       "      <th>last_call_date</th>\n",
       "      <th>month</th>\n",
       "    </tr>\n",
       "  </thead>\n",
       "  <tbody>\n",
       "    <tr>\n",
       "      <th>0</th>\n",
       "      <td>29969042</td>\n",
       "      <td>Ни разу не звонили</td>\n",
       "      <td>NaN</td>\n",
       "      <td>pomoshnik_pdn6</td>\n",
       "      <td>ГП 23</td>\n",
       "      <td>Скотникова Мария Александровна</td>\n",
       "      <td>1</td>\n",
       "      <td>NaN</td>\n",
       "      <td>NaT</td>\n",
       "      <td>september</td>\n",
       "    </tr>\n",
       "  </tbody>\n",
       "</table>\n",
       "</div>"
      ],
      "text/plain": [
       "    emiasid              status old_comment  operator_login     mo  \\\n",
       "0  29969042  Ни разу не звонили         NaN  pomoshnik_pdn6  ГП 23   \n",
       "\n",
       "                       doctor_fio  priority  calls_amount last_call_date  \\\n",
       "0  Скотникова Мария Александровна         1           NaN            NaT   \n",
       "\n",
       "       month  \n",
       "0  september  "
      ]
     },
     "execution_count": 446,
     "metadata": {},
     "output_type": "execute_result"
    }
   ],
   "source": [
    "final_task_distribution.head(1)"
   ]
  },
  {
   "cell_type": "code",
   "execution_count": 447,
   "id": "ce21385c",
   "metadata": {},
   "outputs": [
    {
     "data": {
      "text/html": [
       "<div>\n",
       "<style scoped>\n",
       "    .dataframe tbody tr th:only-of-type {\n",
       "        vertical-align: middle;\n",
       "    }\n",
       "\n",
       "    .dataframe tbody tr th {\n",
       "        vertical-align: top;\n",
       "    }\n",
       "\n",
       "    .dataframe thead th {\n",
       "        text-align: right;\n",
       "    }\n",
       "</style>\n",
       "<table border=\"1\" class=\"dataframe\">\n",
       "  <thead>\n",
       "    <tr style=\"text-align: right;\">\n",
       "      <th></th>\n",
       "      <th>emiasid</th>\n",
       "      <th>operator_login</th>\n",
       "      <th>status</th>\n",
       "      <th>old_comment</th>\n",
       "      <th>next_call_date</th>\n",
       "      <th>mo</th>\n",
       "      <th>doctor_fio</th>\n",
       "      <th>phone_number</th>\n",
       "      <th>calls_amount</th>\n",
       "      <th>last_call_date</th>\n",
       "      <th>last_call_result</th>\n",
       "      <th>last_talk_result</th>\n",
       "      <th>problem</th>\n",
       "      <th>month</th>\n",
       "      <th>group</th>\n",
       "      <th>operator_absence</th>\n",
       "      <th>priority</th>\n",
       "    </tr>\n",
       "  </thead>\n",
       "  <tbody>\n",
       "    <tr>\n",
       "      <th>5380</th>\n",
       "      <td>18937181</td>\n",
       "      <td>pomoshnik_pdn24</td>\n",
       "      <td>Разговор состоялся</td>\n",
       "      <td>NaN</td>\n",
       "      <td>NaT</td>\n",
       "      <td>КДЦ 4</td>\n",
       "      <td>Лосев Антон Сергеевич</td>\n",
       "      <td>9.852178e+09</td>\n",
       "      <td>2.0</td>\n",
       "      <td>2022-08-22</td>\n",
       "      <td>Разговор состоялся</td>\n",
       "      <td>NaN</td>\n",
       "      <td>NaN</td>\n",
       "      <td>august</td>\n",
       "      <td>NaN</td>\n",
       "      <td>NaN</td>\n",
       "      <td>5</td>\n",
       "    </tr>\n",
       "  </tbody>\n",
       "</table>\n",
       "</div>"
      ],
      "text/plain": [
       "       emiasid   operator_login              status old_comment  \\\n",
       "5380  18937181  pomoshnik_pdn24  Разговор состоялся         NaN   \n",
       "\n",
       "     next_call_date     mo             doctor_fio  phone_number  calls_amount  \\\n",
       "5380            NaT  КДЦ 4  Лосев Антон Сергеевич  9.852178e+09           2.0   \n",
       "\n",
       "     last_call_date    last_call_result last_talk_result problem   month  \\\n",
       "5380     2022-08-22  Разговор состоялся              NaN     NaN  august   \n",
       "\n",
       "      group  operator_absence  priority  \n",
       "5380    NaN               NaN         5  "
      ]
     },
     "execution_count": 447,
     "metadata": {},
     "output_type": "execute_result"
    }
   ],
   "source": [
    "second_stage_patients.head(1)"
   ]
  },
  {
   "cell_type": "code",
   "execution_count": 448,
   "id": "fd4936ce",
   "metadata": {},
   "outputs": [],
   "source": [
    "second_stage_patients = second_stage_patients[['emiasid', 'status', 'old_comment', 'operator_login', 'mo', 'priority',\n",
    "       'calls_amount', 'last_call_date', 'month']]"
   ]
  },
  {
   "cell_type": "code",
   "execution_count": 449,
   "id": "7695ccf5",
   "metadata": {},
   "outputs": [],
   "source": [
    "tomorrow_record_patients = tomorrow_record_patients[['emiasid', 'status', 'old_comment', 'operator_login', 'mo', 'priority',\n",
    "       'calls_amount', 'last_call_date', 'month']]"
   ]
  },
  {
   "cell_type": "code",
   "execution_count": null,
   "id": "1f39310e",
   "metadata": {},
   "outputs": [],
   "source": []
  },
  {
   "cell_type": "code",
   "execution_count": 450,
   "id": "00800d80",
   "metadata": {},
   "outputs": [
    {
     "data": {
      "text/html": [
       "<div>\n",
       "<style scoped>\n",
       "    .dataframe tbody tr th:only-of-type {\n",
       "        vertical-align: middle;\n",
       "    }\n",
       "\n",
       "    .dataframe tbody tr th {\n",
       "        vertical-align: top;\n",
       "    }\n",
       "\n",
       "    .dataframe thead th {\n",
       "        text-align: right;\n",
       "    }\n",
       "</style>\n",
       "<table border=\"1\" class=\"dataframe\">\n",
       "  <thead>\n",
       "    <tr style=\"text-align: right;\">\n",
       "      <th></th>\n",
       "      <th>emiasid</th>\n",
       "      <th>status</th>\n",
       "      <th>old_comment</th>\n",
       "      <th>operator_login</th>\n",
       "      <th>mo</th>\n",
       "      <th>priority</th>\n",
       "      <th>calls_amount</th>\n",
       "      <th>last_call_date</th>\n",
       "      <th>month</th>\n",
       "    </tr>\n",
       "  </thead>\n",
       "  <tbody>\n",
       "  </tbody>\n",
       "</table>\n",
       "</div>"
      ],
      "text/plain": [
       "Empty DataFrame\n",
       "Columns: [emiasid, status, old_comment, operator_login, mo, priority, calls_amount, last_call_date, month]\n",
       "Index: []"
      ]
     },
     "execution_count": 450,
     "metadata": {},
     "output_type": "execute_result"
    }
   ],
   "source": [
    "tomorrow_record_patients"
   ]
  },
  {
   "cell_type": "code",
   "execution_count": 451,
   "id": "89d5f68b",
   "metadata": {},
   "outputs": [
    {
     "data": {
      "text/plain": [
       "39057"
      ]
     },
     "execution_count": 451,
     "metadata": {},
     "output_type": "execute_result"
    }
   ],
   "source": [
    "final_actual_patients_for_task_ = pd.concat([\n",
    "    final_task_distribution,\n",
    "    august_patients,\n",
    "    second_stage_patients,\n",
    "    tomorrow_record_patients\n",
    "]) \\\n",
    ".sort_values(['priority']).reset_index(drop=True)\n",
    "\n",
    "final_actual_patients_for_task_.shape[0]"
   ]
  },
  {
   "cell_type": "code",
   "execution_count": 452,
   "id": "cb2565d7",
   "metadata": {},
   "outputs": [],
   "source": [
    "# final_actual_patients_for_task = final_actual_patients_for_task_.drop_duplicates(subset=['phone_number'], keep='first')\n",
    "# final_actual_patients_for_task_.shape[0]"
   ]
  },
  {
   "cell_type": "code",
   "execution_count": 453,
   "id": "bec2fef3",
   "metadata": {},
   "outputs": [
    {
     "data": {
      "text/plain": [
       "39007"
      ]
     },
     "execution_count": 453,
     "metadata": {},
     "output_type": "execute_result"
    }
   ],
   "source": [
    "final_actual_patients_for_task_ = final_actual_patients_for_task_.drop_duplicates(subset=['emiasid'], keep='first')\n",
    "final_actual_patients_for_task_.shape[0]"
   ]
  },
  {
   "cell_type": "code",
   "execution_count": null,
   "id": "8c318de5",
   "metadata": {},
   "outputs": [],
   "source": []
  },
  {
   "cell_type": "code",
   "execution_count": 454,
   "id": "70f3bac6",
   "metadata": {},
   "outputs": [
    {
     "data": {
      "text/html": [
       "<div>\n",
       "<style scoped>\n",
       "    .dataframe tbody tr th:only-of-type {\n",
       "        vertical-align: middle;\n",
       "    }\n",
       "\n",
       "    .dataframe tbody tr th {\n",
       "        vertical-align: top;\n",
       "    }\n",
       "\n",
       "    .dataframe thead th {\n",
       "        text-align: right;\n",
       "    }\n",
       "</style>\n",
       "<table border=\"1\" class=\"dataframe\">\n",
       "  <thead>\n",
       "    <tr style=\"text-align: right;\">\n",
       "      <th></th>\n",
       "      <th>emiasid</th>\n",
       "      <th>status</th>\n",
       "      <th>old_comment</th>\n",
       "      <th>operator_login</th>\n",
       "      <th>mo</th>\n",
       "      <th>doctor_fio</th>\n",
       "      <th>priority</th>\n",
       "      <th>calls_amount</th>\n",
       "      <th>last_call_date</th>\n",
       "      <th>month</th>\n",
       "      <th>next_call_date</th>\n",
       "      <th>phone_number</th>\n",
       "      <th>last_call_result</th>\n",
       "      <th>last_talk_result</th>\n",
       "      <th>problem</th>\n",
       "      <th>group</th>\n",
       "      <th>operator_absence</th>\n",
       "    </tr>\n",
       "  </thead>\n",
       "  <tbody>\n",
       "    <tr>\n",
       "      <th>0</th>\n",
       "      <td>29969042</td>\n",
       "      <td>Ни разу не звонили</td>\n",
       "      <td>NaN</td>\n",
       "      <td>pomoshnik_pdn6</td>\n",
       "      <td>ГП 23</td>\n",
       "      <td>Скотникова Мария Александровна</td>\n",
       "      <td>1</td>\n",
       "      <td>NaN</td>\n",
       "      <td>NaT</td>\n",
       "      <td>september</td>\n",
       "      <td>NaN</td>\n",
       "      <td>NaN</td>\n",
       "      <td>NaN</td>\n",
       "      <td>NaN</td>\n",
       "      <td>NaN</td>\n",
       "      <td>NaN</td>\n",
       "      <td>NaN</td>\n",
       "    </tr>\n",
       "    <tr>\n",
       "      <th>1</th>\n",
       "      <td>18454756</td>\n",
       "      <td>Ни разу не звонили</td>\n",
       "      <td>NaN</td>\n",
       "      <td>pomoshnik_pdn46</td>\n",
       "      <td>ГП 214</td>\n",
       "      <td>NaN</td>\n",
       "      <td>1</td>\n",
       "      <td>NaN</td>\n",
       "      <td>NaN</td>\n",
       "      <td>september</td>\n",
       "      <td>NaN</td>\n",
       "      <td>NaN</td>\n",
       "      <td>NaN</td>\n",
       "      <td>NaN</td>\n",
       "      <td>NaN</td>\n",
       "      <td>NaN</td>\n",
       "      <td>NaN</td>\n",
       "    </tr>\n",
       "    <tr>\n",
       "      <th>2</th>\n",
       "      <td>1844336741</td>\n",
       "      <td>Ни разу не звонили</td>\n",
       "      <td>NaN</td>\n",
       "      <td>pomoshnik_pdn163</td>\n",
       "      <td>ГП 214</td>\n",
       "      <td>NaN</td>\n",
       "      <td>1</td>\n",
       "      <td>NaN</td>\n",
       "      <td>NaN</td>\n",
       "      <td>september</td>\n",
       "      <td>NaN</td>\n",
       "      <td>NaN</td>\n",
       "      <td>NaN</td>\n",
       "      <td>NaN</td>\n",
       "      <td>NaN</td>\n",
       "      <td>NaN</td>\n",
       "      <td>NaN</td>\n",
       "    </tr>\n",
       "  </tbody>\n",
       "</table>\n",
       "</div>"
      ],
      "text/plain": [
       "      emiasid              status old_comment    operator_login      mo  \\\n",
       "0    29969042  Ни разу не звонили         NaN    pomoshnik_pdn6   ГП 23   \n",
       "1    18454756  Ни разу не звонили         NaN   pomoshnik_pdn46  ГП 214   \n",
       "2  1844336741  Ни разу не звонили         NaN  pomoshnik_pdn163  ГП 214   \n",
       "\n",
       "                       doctor_fio  priority  calls_amount last_call_date  \\\n",
       "0  Скотникова Мария Александровна         1           NaN            NaT   \n",
       "1                             NaN         1           NaN            NaN   \n",
       "2                             NaN         1           NaN            NaN   \n",
       "\n",
       "       month next_call_date  phone_number last_call_result last_talk_result  \\\n",
       "0  september            NaN           NaN              NaN              NaN   \n",
       "1  september            NaN           NaN              NaN              NaN   \n",
       "2  september            NaN           NaN              NaN              NaN   \n",
       "\n",
       "  problem  group  operator_absence  \n",
       "0     NaN    NaN               NaN  \n",
       "1     NaN    NaN               NaN  \n",
       "2     NaN    NaN               NaN  "
      ]
     },
     "execution_count": 454,
     "metadata": {},
     "output_type": "execute_result"
    }
   ],
   "source": [
    "final_actual_patients_for_task_.head(3)"
   ]
  },
  {
   "cell_type": "code",
   "execution_count": 455,
   "id": "1113bf33",
   "metadata": {
    "scrolled": true
   },
   "outputs": [],
   "source": [
    "final_actual_patients_for_task_ = \\\n",
    "final_actual_patients_for_task_[['emiasid', 'status', 'old_comment', 'operator_login', 'mo', 'priority', 'calls_amount',\n",
    "                                'last_call_date', 'month']]"
   ]
  },
  {
   "cell_type": "code",
   "execution_count": 456,
   "id": "67399dd3",
   "metadata": {},
   "outputs": [
    {
     "name": "stderr",
     "output_type": "stream",
     "text": [
      "C:\\Users\\murad_satabaev\\AppData\\Local\\Temp\\ipykernel_5084\\309388853.py:1: FutureWarning: The default value of regex will change from True to False in a future version.\n",
      "  final_actual_patients_for_task_['emiasid'] = final_actual_patients_for_task_['emiasid'].astype(str).str.replace('\\.0', '')\n"
     ]
    }
   ],
   "source": [
    "final_actual_patients_for_task_['emiasid'] = final_actual_patients_for_task_['emiasid'].astype(str).str.replace('\\.0', '')"
   ]
  },
  {
   "cell_type": "code",
   "execution_count": 457,
   "id": "4070212d",
   "metadata": {},
   "outputs": [],
   "source": [
    "initial_assistant_to_patient_distribution_in_today_task = \\\n",
    "final_actual_patients_for_task_.copy()"
   ]
  },
  {
   "cell_type": "code",
   "execution_count": 458,
   "id": "b351a0f9",
   "metadata": {},
   "outputs": [
    {
     "data": {
      "text/plain": [
       "2810"
      ]
     },
     "execution_count": 458,
     "metadata": {},
     "output_type": "execute_result"
    }
   ],
   "source": [
    "initial_assistant_to_patient_distribution_in_today_task.old_comment.nunique()"
   ]
  },
  {
   "cell_type": "code",
   "execution_count": 459,
   "id": "5d021cb7",
   "metadata": {},
   "outputs": [
    {
     "data": {
      "text/html": [
       "<div>\n",
       "<style scoped>\n",
       "    .dataframe tbody tr th:only-of-type {\n",
       "        vertical-align: middle;\n",
       "    }\n",
       "\n",
       "    .dataframe tbody tr th {\n",
       "        vertical-align: top;\n",
       "    }\n",
       "\n",
       "    .dataframe thead th {\n",
       "        text-align: right;\n",
       "    }\n",
       "</style>\n",
       "<table border=\"1\" class=\"dataframe\">\n",
       "  <thead>\n",
       "    <tr style=\"text-align: right;\">\n",
       "      <th></th>\n",
       "      <th></th>\n",
       "      <th>emiasid</th>\n",
       "    </tr>\n",
       "    <tr>\n",
       "      <th>mo</th>\n",
       "      <th>operator_login</th>\n",
       "      <th></th>\n",
       "    </tr>\n",
       "  </thead>\n",
       "  <tbody>\n",
       "    <tr>\n",
       "      <th rowspan=\"7\" valign=\"top\">ГП 107</th>\n",
       "      <th>pomoshnik_pdn9</th>\n",
       "      <td>1</td>\n",
       "    </tr>\n",
       "    <tr>\n",
       "      <th>pomoshnik_pdn130</th>\n",
       "      <td>52</td>\n",
       "    </tr>\n",
       "    <tr>\n",
       "      <th>pomoshnik_pdn148</th>\n",
       "      <td>214</td>\n",
       "    </tr>\n",
       "    <tr>\n",
       "      <th>pomoshnik_pdn43</th>\n",
       "      <td>243</td>\n",
       "    </tr>\n",
       "    <tr>\n",
       "      <th>pomoshnik_pdn129</th>\n",
       "      <td>258</td>\n",
       "    </tr>\n",
       "    <tr>\n",
       "      <th>pomoshnik_pdn109</th>\n",
       "      <td>272</td>\n",
       "    </tr>\n",
       "    <tr>\n",
       "      <th>pomoshnik_pdn185</th>\n",
       "      <td>287</td>\n",
       "    </tr>\n",
       "    <tr>\n",
       "      <th rowspan=\"5\" valign=\"top\">ГП 109</th>\n",
       "      <th>pomoshnik_pdn80</th>\n",
       "      <td>1</td>\n",
       "    </tr>\n",
       "    <tr>\n",
       "      <th>pomoshnik_pdn95</th>\n",
       "      <td>11</td>\n",
       "    </tr>\n",
       "    <tr>\n",
       "      <th>pomoshnik_pdn155</th>\n",
       "      <td>35</td>\n",
       "    </tr>\n",
       "    <tr>\n",
       "      <th>pomoshnik_pdn134</th>\n",
       "      <td>188</td>\n",
       "    </tr>\n",
       "    <tr>\n",
       "      <th>pomoshnik_pdn168</th>\n",
       "      <td>205</td>\n",
       "    </tr>\n",
       "    <tr>\n",
       "      <th rowspan=\"4\" valign=\"top\">ГП 11</th>\n",
       "      <th>pomoshnik_pdn146</th>\n",
       "      <td>111</td>\n",
       "    </tr>\n",
       "    <tr>\n",
       "      <th>pomoshnik_pdn32</th>\n",
       "      <td>160</td>\n",
       "    </tr>\n",
       "    <tr>\n",
       "      <th>pomoshnik_pdn184</th>\n",
       "      <td>304</td>\n",
       "    </tr>\n",
       "    <tr>\n",
       "      <th>pomoshnik_pdn147</th>\n",
       "      <td>358</td>\n",
       "    </tr>\n",
       "    <tr>\n",
       "      <th rowspan=\"4\" valign=\"top\">ГП 134</th>\n",
       "      <th>pomoshnik_pdn249</th>\n",
       "      <td>1</td>\n",
       "    </tr>\n",
       "    <tr>\n",
       "      <th>pomoshnik_pdn57</th>\n",
       "      <td>1</td>\n",
       "    </tr>\n",
       "    <tr>\n",
       "      <th>pomoshnik_pdn93</th>\n",
       "      <td>233</td>\n",
       "    </tr>\n",
       "    <tr>\n",
       "      <th>pomoshnik_pdn63</th>\n",
       "      <td>235</td>\n",
       "    </tr>\n",
       "  </tbody>\n",
       "</table>\n",
       "</div>"
      ],
      "text/plain": [
       "                         emiasid\n",
       "mo     operator_login           \n",
       "ГП 107 pomoshnik_pdn9          1\n",
       "       pomoshnik_pdn130       52\n",
       "       pomoshnik_pdn148      214\n",
       "       pomoshnik_pdn43       243\n",
       "       pomoshnik_pdn129      258\n",
       "       pomoshnik_pdn109      272\n",
       "       pomoshnik_pdn185      287\n",
       "ГП 109 pomoshnik_pdn80         1\n",
       "       pomoshnik_pdn95        11\n",
       "       pomoshnik_pdn155       35\n",
       "       pomoshnik_pdn134      188\n",
       "       pomoshnik_pdn168      205\n",
       "ГП 11  pomoshnik_pdn146      111\n",
       "       pomoshnik_pdn32       160\n",
       "       pomoshnik_pdn184      304\n",
       "       pomoshnik_pdn147      358\n",
       "ГП 134 pomoshnik_pdn249        1\n",
       "       pomoshnik_pdn57         1\n",
       "       pomoshnik_pdn93       233\n",
       "       pomoshnik_pdn63       235"
      ]
     },
     "execution_count": 459,
     "metadata": {},
     "output_type": "execute_result"
    }
   ],
   "source": [
    "initial_assistant_to_patient_distribution_in_today_task.groupby(['mo', 'operator_login']).agg({'emiasid': 'count'}).sort_values(\n",
    "    ['mo', 'emiasid']).head(20)"
   ]
  },
  {
   "cell_type": "code",
   "execution_count": 460,
   "id": "c8dd9d33",
   "metadata": {},
   "outputs": [],
   "source": [
    "# initial_assistant_to_patient_distribution_in_today_task.to_excel('initial_assistant_to_patient_distribution_in_today_task.xlsx')"
   ]
  },
  {
   "cell_type": "code",
   "execution_count": 461,
   "id": "3612bc26",
   "metadata": {},
   "outputs": [
    {
     "data": {
      "text/plain": [
       "{'pomoshnik_pdn131'}"
      ]
     },
     "execution_count": 461,
     "metadata": {},
     "output_type": "execute_result"
    }
   ],
   "source": [
    "set(present_assistants.login.unique()) - \\\n",
    "(set(initial_assistant_to_patient_distribution_in_today_task.operator_login.unique()) - {np.nan})"
   ]
  },
  {
   "cell_type": "code",
   "execution_count": 462,
   "id": "c494f678",
   "metadata": {},
   "outputs": [],
   "source": [
    "task_amount = 120"
   ]
  },
  {
   "cell_type": "code",
   "execution_count": 463,
   "id": "e2edd3ec",
   "metadata": {},
   "outputs": [
    {
     "name": "stdout",
     "output_type": "stream",
     "text": [
      "CPU times: total: 2.45 s\n",
      "Wall time: 2.45 s\n"
     ]
    },
    {
     "data": {
      "text/plain": [
       "21748"
      ]
     },
     "execution_count": 463,
     "metadata": {},
     "output_type": "execute_result"
    }
   ],
   "source": [
    "%%time\n",
    "\n",
    "initial_task_for_today = pd.DataFrame()\n",
    "for operator_login in set(initial_assistant_to_patient_distribution_in_today_task.operator_login):\n",
    "    initial_assistant_to_patient_distribution_in_today_task_for_operator_login = \\\n",
    "    initial_assistant_to_patient_distribution_in_today_task[initial_assistant_to_patient_distribution_in_today_task \\\n",
    "                                                            .operator_login\n",
    "         == operator_login].sort_values(by=['priority', 'last_call_date', 'calls_amount'])\n",
    "    call_back_number_for_operator_login = initial_assistant_to_patient_distribution_in_today_task_for_operator_login[\n",
    "        initial_assistant_to_patient_distribution_in_today_task_for_operator_login.status.isin({\n",
    "            'Перезвонить сегодня', 'Перенос звонка на другой день'})].shape[0]\n",
    "\n",
    "    initial_task_for_today = pd.concat(\n",
    "        [initial_task_for_today, \n",
    "\n",
    "         \n",
    "         initial_assistant_to_patient_distribution_in_today_task[\n",
    "             (initial_assistant_to_patient_distribution_in_today_task.operator_login==operator_login)\n",
    "         ].head(task_amount),\n",
    "        \n",
    "       \n",
    "        ]).reset_index(drop=True)\n",
    "\n",
    "initial_task_for_today.shape[0]"
   ]
  },
  {
   "cell_type": "code",
   "execution_count": 464,
   "id": "06a09bd5",
   "metadata": {},
   "outputs": [
    {
     "data": {
      "text/html": [
       "<div>\n",
       "<style scoped>\n",
       "    .dataframe tbody tr th:only-of-type {\n",
       "        vertical-align: middle;\n",
       "    }\n",
       "\n",
       "    .dataframe tbody tr th {\n",
       "        vertical-align: top;\n",
       "    }\n",
       "\n",
       "    .dataframe thead th {\n",
       "        text-align: right;\n",
       "    }\n",
       "</style>\n",
       "<table border=\"1\" class=\"dataframe\">\n",
       "  <thead>\n",
       "    <tr style=\"text-align: right;\">\n",
       "      <th></th>\n",
       "      <th></th>\n",
       "      <th>emiasid</th>\n",
       "    </tr>\n",
       "    <tr>\n",
       "      <th>mo</th>\n",
       "      <th>operator_login</th>\n",
       "      <th></th>\n",
       "    </tr>\n",
       "  </thead>\n",
       "  <tbody>\n",
       "    <tr>\n",
       "      <th>ГП 107</th>\n",
       "      <th>pomoshnik_pdn9</th>\n",
       "      <td>1</td>\n",
       "    </tr>\n",
       "    <tr>\n",
       "      <th>ДЦ 5</th>\n",
       "      <th>pomoshnik_pdn185</th>\n",
       "      <td>1</td>\n",
       "    </tr>\n",
       "    <tr>\n",
       "      <th rowspan=\"2\" valign=\"top\">ГП 209</th>\n",
       "      <th>pomoshnik_pdn268</th>\n",
       "      <td>1</td>\n",
       "    </tr>\n",
       "    <tr>\n",
       "      <th>pomoshnik_pdn32</th>\n",
       "      <td>1</td>\n",
       "    </tr>\n",
       "    <tr>\n",
       "      <th>ГП 218</th>\n",
       "      <th>pomoshnik_pdn134</th>\n",
       "      <td>1</td>\n",
       "    </tr>\n",
       "    <tr>\n",
       "      <th>ГП 66</th>\n",
       "      <th>pomoshnik_pdn57</th>\n",
       "      <td>1</td>\n",
       "    </tr>\n",
       "    <tr>\n",
       "      <th>ДКЦ 1</th>\n",
       "      <th>pomoshnik_pdn29</th>\n",
       "      <td>1</td>\n",
       "    </tr>\n",
       "    <tr>\n",
       "      <th>ГП 170</th>\n",
       "      <th>pomoshnik_pdn151</th>\n",
       "      <td>1</td>\n",
       "    </tr>\n",
       "    <tr>\n",
       "      <th>ГП 45</th>\n",
       "      <th>pomoshnik_pdn208</th>\n",
       "      <td>1</td>\n",
       "    </tr>\n",
       "    <tr>\n",
       "      <th>ГП 166</th>\n",
       "      <th>pomoshnik_pdn85</th>\n",
       "      <td>1</td>\n",
       "    </tr>\n",
       "  </tbody>\n",
       "</table>\n",
       "</div>"
      ],
      "text/plain": [
       "                         emiasid\n",
       "mo     operator_login           \n",
       "ГП 107 pomoshnik_pdn9          1\n",
       "ДЦ 5   pomoshnik_pdn185        1\n",
       "ГП 209 pomoshnik_pdn268        1\n",
       "       pomoshnik_pdn32         1\n",
       "ГП 218 pomoshnik_pdn134        1\n",
       "ГП 66  pomoshnik_pdn57         1\n",
       "ДКЦ 1  pomoshnik_pdn29         1\n",
       "ГП 170 pomoshnik_pdn151        1\n",
       "ГП 45  pomoshnik_pdn208        1\n",
       "ГП 166 pomoshnik_pdn85         1"
      ]
     },
     "execution_count": 464,
     "metadata": {},
     "output_type": "execute_result"
    }
   ],
   "source": [
    "initial_task_for_today \\\n",
    ".groupby(['mo', 'operator_login']).agg({'emiasid': 'count'}).sort_values(['mo', 'emiasid'])\\\n",
    ".sort_values(by='emiasid', ascending=True).head(10)"
   ]
  },
  {
   "cell_type": "code",
   "execution_count": 465,
   "id": "9dbdcc0b",
   "metadata": {},
   "outputs": [
    {
     "data": {
      "text/html": [
       "<div>\n",
       "<style scoped>\n",
       "    .dataframe tbody tr th:only-of-type {\n",
       "        vertical-align: middle;\n",
       "    }\n",
       "\n",
       "    .dataframe tbody tr th {\n",
       "        vertical-align: top;\n",
       "    }\n",
       "\n",
       "    .dataframe thead th {\n",
       "        text-align: right;\n",
       "    }\n",
       "</style>\n",
       "<table border=\"1\" class=\"dataframe\">\n",
       "  <thead>\n",
       "    <tr style=\"text-align: right;\">\n",
       "      <th></th>\n",
       "      <th></th>\n",
       "      <th>emiasid</th>\n",
       "    </tr>\n",
       "    <tr>\n",
       "      <th>mo</th>\n",
       "      <th>operator_login</th>\n",
       "      <th></th>\n",
       "    </tr>\n",
       "  </thead>\n",
       "  <tbody>\n",
       "    <tr>\n",
       "      <th>ГП 45</th>\n",
       "      <th>pomoshnik_pdn307</th>\n",
       "      <td>120</td>\n",
       "    </tr>\n",
       "    <tr>\n",
       "      <th>ГП 64</th>\n",
       "      <th>pomoshnik_pdn79</th>\n",
       "      <td>120</td>\n",
       "    </tr>\n",
       "    <tr>\n",
       "      <th rowspan=\"2\" valign=\"top\">ГП 52</th>\n",
       "      <th>pomoshnik_pdn197</th>\n",
       "      <td>120</td>\n",
       "    </tr>\n",
       "    <tr>\n",
       "      <th>pomoshnik_pdn220</th>\n",
       "      <td>120</td>\n",
       "    </tr>\n",
       "    <tr>\n",
       "      <th rowspan=\"4\" valign=\"top\">ГП 62</th>\n",
       "      <th>pomoshnik_pdn106</th>\n",
       "      <td>120</td>\n",
       "    </tr>\n",
       "    <tr>\n",
       "      <th>pomoshnik_pdn107</th>\n",
       "      <td>120</td>\n",
       "    </tr>\n",
       "    <tr>\n",
       "      <th>pomoshnik_pdn108</th>\n",
       "      <td>120</td>\n",
       "    </tr>\n",
       "    <tr>\n",
       "      <th>pomoshnik_pdn267</th>\n",
       "      <td>120</td>\n",
       "    </tr>\n",
       "    <tr>\n",
       "      <th rowspan=\"2\" valign=\"top\">ГП 64</th>\n",
       "      <th>pomoshnik_pdn45</th>\n",
       "      <td>120</td>\n",
       "    </tr>\n",
       "    <tr>\n",
       "      <th>pomoshnik_pdn47</th>\n",
       "      <td>120</td>\n",
       "    </tr>\n",
       "  </tbody>\n",
       "</table>\n",
       "</div>"
      ],
      "text/plain": [
       "                        emiasid\n",
       "mo    operator_login           \n",
       "ГП 45 pomoshnik_pdn307      120\n",
       "ГП 64 pomoshnik_pdn79       120\n",
       "ГП 52 pomoshnik_pdn197      120\n",
       "      pomoshnik_pdn220      120\n",
       "ГП 62 pomoshnik_pdn106      120\n",
       "      pomoshnik_pdn107      120\n",
       "      pomoshnik_pdn108      120\n",
       "      pomoshnik_pdn267      120\n",
       "ГП 64 pomoshnik_pdn45       120\n",
       "      pomoshnik_pdn47       120"
      ]
     },
     "execution_count": 465,
     "metadata": {},
     "output_type": "execute_result"
    }
   ],
   "source": [
    "initial_task_for_today \\\n",
    ".groupby(['mo', 'operator_login']).agg({'emiasid': 'count'}).sort_values(['mo', 'emiasid'])\\\n",
    ".sort_values(by='emiasid', ascending=False).head(10)"
   ]
  },
  {
   "cell_type": "code",
   "execution_count": 466,
   "id": "d3217940",
   "metadata": {},
   "outputs": [],
   "source": [
    "rename_mo = \\\n",
    "{'ГБУЗ Г МОСКВЫ ГП № 170 ДЗМ': 'ГП 170', ' ГП 6 ДЗМ': 'ГП 6', 'ГБУЗ КДЦ 6 ДЗМ':'КДЦ 6', \n",
    "             'ГБУЗ \"ГП № 134 ДЗМ\"': 'ГП 134', 'КДЦ 4': 'КДЦ 4', 'ГБУЗ ДКЦ 1 ДЗМ': 'ДКЦ 1', 'ГБУЗ ГП 23 ДЗМ': 'ГП 23',\n",
    "             'ГБУЗ ГП 109 ДЗМ': 'ГП 109', 'ГБУЗ ГП 11 ДЗМ': 'ГП 11', 'ГБУЗ ГП 64 ДЗМ': 'ГП 64', 'ГБУЗ ГП 191 ДЗМ': 'ГП 191', \n",
    "             'ГБУЗ ГП 220 ДЗМ': 'ГП 220', 'ГБУЗ \"ГП № 218 ДЗМ\"': 'ГП 218',  'ГБУЗ ГП 107 ДЗМ': 'ГП 107', \n",
    "             'ГБУЗ \"ГП № 22 ДЗМ\"': 'ГП 22', 'ГБУЗ ДЦ 5 ДЗМ': 'ДЦ 5', 'ГБУЗ ГП 210 ДЗМ': 'ГП 210', 'ГБУЗ ГП 214 ДЗМ': 'ГП 214', \n",
    "             'ГБУЗ ГП 2 ДЗМ': 'ГП 2', 'ГБУЗ КДП 121 ДЗМ': 'КДП 121', 'ГБУЗ ГП 66 ДЗМ': 'ГП 66',  'ГБУЗ ДЦ 3 ДЗМ ': 'ДЦ 3',\n",
    "             'ГБУЗ ГП 36 ДЗМ': 'ГП 36',  'ГБУЗ ГП 62 ДЗМ ': 'ГП 62', \n",
    "            'ГБУЗ \"ГП № 52 ДЗМ\"': 'ГП 52', 'ГБУЗ \"ГП 67 ДЗМ\"': 'ГП 67', 'ГБУЗ ГП 68 ДЗМ': 'ГП 68', 'ГБУЗ ГП 175 ДЗМ': 'ГП 175',\n",
    "'ГБУЗ ГП № 209 ДЗМ': 'ГП 209',  'ГБУЗ ГП 212 ДЗМ': 'ГП 212', 'ГБУЗ ГП 19 ДЗМ': 'ГП 19', \n",
    "'ГБУЗ ГП №166 ДЗМ': 'ГП 166', 'ГБУЗ ГП 9 ДЗМ': 'ГП 9', 'ГБУЗ ГП 69 ДЗМ': 'ГП 69',\n",
    "'ГБУЗ \"ГП № 3 ДЗМ\"': 'ГП 3', 'ГБУЗ ГП 5 ДЗМ': 'ГП 5', 'ГБУЗ ГП 46 ДЗМ': 'ГП 46', 'ГБУЗ ГП №8 ДЗМ': 'ГП 8', \n",
    "'ГБУЗ \"ГП № 45 ДЗМ\"': 'ГП 45'}"
   ]
  },
  {
   "cell_type": "code",
   "execution_count": 467,
   "id": "35636e07",
   "metadata": {},
   "outputs": [],
   "source": [
    "mo_list = set(rename_mo.values())"
   ]
  },
  {
   "cell_type": "code",
   "execution_count": 468,
   "id": "d30754e9",
   "metadata": {
    "scrolled": true
   },
   "outputs": [],
   "source": [
    "# new_doctor_patients = \\\n",
    "# initial_assistant_to_patient_distribution_in_today_task[(initial_assistant_to_patient_distribution_in_today_task.mo.isin(mo_list)) & \n",
    "#                     (~initial_assistant_to_patient_distribution_in_today_task.doctor_fio.isin(doctors_list))].reset_index(drop=True)\n",
    "# new_doctor_patients = new_doctor_patients[~new_doctor_patients.emiasid.isin(calls_data.emiasid)]"
   ]
  },
  {
   "cell_type": "code",
   "execution_count": 469,
   "id": "f69cdfa1",
   "metadata": {},
   "outputs": [],
   "source": [
    "initial_task_for_today_present_assistants = \\\n",
    "initial_task_for_today[~initial_task_for_today.operator_login.isin(absent_assistants.login)]"
   ]
  },
  {
   "cell_type": "code",
   "execution_count": 470,
   "id": "44f87058",
   "metadata": {},
   "outputs": [
    {
     "data": {
      "text/plain": [
       "3988"
      ]
     },
     "execution_count": 470,
     "metadata": {},
     "output_type": "execute_result"
    }
   ],
   "source": [
    "initial_task_for_today[initial_task_for_today.operator_login.isin(absent_assistants.login)].shape[0]"
   ]
  },
  {
   "cell_type": "code",
   "execution_count": 471,
   "id": "cae7022e",
   "metadata": {},
   "outputs": [
    {
     "data": {
      "text/plain": [
       "17760"
      ]
     },
     "execution_count": 471,
     "metadata": {},
     "output_type": "execute_result"
    }
   ],
   "source": [
    "initial_task_for_today_present_assistants.shape[0]"
   ]
  },
  {
   "cell_type": "code",
   "execution_count": 472,
   "id": "fda2c029",
   "metadata": {},
   "outputs": [
    {
     "data": {
      "text/html": [
       "<div>\n",
       "<style scoped>\n",
       "    .dataframe tbody tr th:only-of-type {\n",
       "        vertical-align: middle;\n",
       "    }\n",
       "\n",
       "    .dataframe tbody tr th {\n",
       "        vertical-align: top;\n",
       "    }\n",
       "\n",
       "    .dataframe thead th {\n",
       "        text-align: right;\n",
       "    }\n",
       "</style>\n",
       "<table border=\"1\" class=\"dataframe\">\n",
       "  <thead>\n",
       "    <tr style=\"text-align: right;\">\n",
       "      <th></th>\n",
       "      <th>emiasid</th>\n",
       "    </tr>\n",
       "    <tr>\n",
       "      <th>operator_login</th>\n",
       "      <th></th>\n",
       "    </tr>\n",
       "  </thead>\n",
       "  <tbody>\n",
       "    <tr>\n",
       "      <th>pomoshnik_pdn100</th>\n",
       "      <td>120</td>\n",
       "    </tr>\n",
       "    <tr>\n",
       "      <th>pomoshnik_pdn39</th>\n",
       "      <td>120</td>\n",
       "    </tr>\n",
       "    <tr>\n",
       "      <th>pomoshnik_pdn309</th>\n",
       "      <td>120</td>\n",
       "    </tr>\n",
       "    <tr>\n",
       "      <th>pomoshnik_pdn31</th>\n",
       "      <td>120</td>\n",
       "    </tr>\n",
       "    <tr>\n",
       "      <th>pomoshnik_pdn32</th>\n",
       "      <td>120</td>\n",
       "    </tr>\n",
       "    <tr>\n",
       "      <th>...</th>\n",
       "      <td>...</td>\n",
       "    </tr>\n",
       "    <tr>\n",
       "      <th>pomoshnik_pdn242</th>\n",
       "      <td>16</td>\n",
       "    </tr>\n",
       "    <tr>\n",
       "      <th>pomoshnik_pdn240</th>\n",
       "      <td>13</td>\n",
       "    </tr>\n",
       "    <tr>\n",
       "      <th>pomoshnik_pdn200</th>\n",
       "      <td>9</td>\n",
       "    </tr>\n",
       "    <tr>\n",
       "      <th>pomoshnik_pdn82</th>\n",
       "      <td>7</td>\n",
       "    </tr>\n",
       "    <tr>\n",
       "      <th>pomoshnik_pdn151</th>\n",
       "      <td>1</td>\n",
       "    </tr>\n",
       "  </tbody>\n",
       "</table>\n",
       "<p>167 rows × 1 columns</p>\n",
       "</div>"
      ],
      "text/plain": [
       "                  emiasid\n",
       "operator_login           \n",
       "pomoshnik_pdn100      120\n",
       "pomoshnik_pdn39       120\n",
       "pomoshnik_pdn309      120\n",
       "pomoshnik_pdn31       120\n",
       "pomoshnik_pdn32       120\n",
       "...                   ...\n",
       "pomoshnik_pdn242       16\n",
       "pomoshnik_pdn240       13\n",
       "pomoshnik_pdn200        9\n",
       "pomoshnik_pdn82         7\n",
       "pomoshnik_pdn151        1\n",
       "\n",
       "[167 rows x 1 columns]"
      ]
     },
     "execution_count": 472,
     "metadata": {},
     "output_type": "execute_result"
    }
   ],
   "source": [
    "initial_task_for_today_present_assistants.groupby('operator_login').agg({'emiasid': 'count'}).sort_values('emiasid', ascending=False)"
   ]
  },
  {
   "cell_type": "code",
   "execution_count": 473,
   "id": "958f7cff",
   "metadata": {},
   "outputs": [],
   "source": [
    "initial_task_for_today_absent_assistants =  \\\n",
    "initial_task_for_today[initial_task_for_today.operator_login.isin(absent_assistants.login)] \\\n",
    "[['emiasid', 'status', 'old_comment', 'mo', 'priority', 'month']]"
   ]
  },
  {
   "cell_type": "code",
   "execution_count": 474,
   "id": "0eaccfe4",
   "metadata": {},
   "outputs": [],
   "source": [
    "additional_task_for_present_assistants = \\\n",
    "pd.concat([\n",
    "#     new_doctor_patients,\n",
    "    initial_task_for_today_absent_assistants\n",
    "]).reset_index(drop=True)"
   ]
  },
  {
   "cell_type": "code",
   "execution_count": 475,
   "id": "3558cddb",
   "metadata": {},
   "outputs": [],
   "source": [
    "additional_task_for_present_assistants_by_mo = \\\n",
    "additional_task_for_present_assistants.groupby(['mo']).agg({'emiasid': 'count'}).sort_values(by=['mo', 'emiasid'])"
   ]
  },
  {
   "cell_type": "code",
   "execution_count": 476,
   "id": "c05b566b",
   "metadata": {},
   "outputs": [],
   "source": [
    "distribution_count = initial_task_for_today_present_assistants.groupby(['mo']) \\\n",
    ".agg({'emiasid': 'count', 'operator_login': 'nunique'}) \\\n",
    ".sort_values(by=['mo', 'emiasid'])"
   ]
  },
  {
   "cell_type": "code",
   "execution_count": 477,
   "id": "451357eb",
   "metadata": {},
   "outputs": [],
   "source": [
    "distribution_count['total_delta'] = distribution_count['operator_login'] * task_amount - distribution_count['emiasid']"
   ]
  },
  {
   "cell_type": "code",
   "execution_count": 478,
   "id": "f428e6a7",
   "metadata": {},
   "outputs": [],
   "source": [
    "distribution_count = distribution_count[distribution_count.total_delta > 0]"
   ]
  },
  {
   "cell_type": "code",
   "execution_count": 479,
   "id": "62d9772a",
   "metadata": {},
   "outputs": [
    {
     "data": {
      "text/html": [
       "<div>\n",
       "<style scoped>\n",
       "    .dataframe tbody tr th:only-of-type {\n",
       "        vertical-align: middle;\n",
       "    }\n",
       "\n",
       "    .dataframe tbody tr th {\n",
       "        vertical-align: top;\n",
       "    }\n",
       "\n",
       "    .dataframe thead th {\n",
       "        text-align: right;\n",
       "    }\n",
       "</style>\n",
       "<table border=\"1\" class=\"dataframe\">\n",
       "  <thead>\n",
       "    <tr style=\"text-align: right;\">\n",
       "      <th></th>\n",
       "      <th>emiasid</th>\n",
       "      <th>status</th>\n",
       "      <th>old_comment</th>\n",
       "      <th>mo</th>\n",
       "      <th>priority</th>\n",
       "      <th>month</th>\n",
       "    </tr>\n",
       "  </thead>\n",
       "  <tbody>\n",
       "    <tr>\n",
       "      <th>0</th>\n",
       "      <td>19994950</td>\n",
       "      <td>Не дозвонились</td>\n",
       "      <td>NaN</td>\n",
       "      <td>ГП 52</td>\n",
       "      <td>5</td>\n",
       "      <td>september</td>\n",
       "    </tr>\n",
       "    <tr>\n",
       "      <th>1</th>\n",
       "      <td>19223589</td>\n",
       "      <td>Не дозвонились</td>\n",
       "      <td>NaN</td>\n",
       "      <td>ГП 52</td>\n",
       "      <td>5</td>\n",
       "      <td>september</td>\n",
       "    </tr>\n",
       "    <tr>\n",
       "      <th>2</th>\n",
       "      <td>2241234545</td>\n",
       "      <td>Не дозвонились</td>\n",
       "      <td>NaN</td>\n",
       "      <td>ГП 52</td>\n",
       "      <td>5</td>\n",
       "      <td>september</td>\n",
       "    </tr>\n",
       "    <tr>\n",
       "      <th>3</th>\n",
       "      <td>18475127</td>\n",
       "      <td>Не дозвонились</td>\n",
       "      <td>NaN</td>\n",
       "      <td>ГП 52</td>\n",
       "      <td>5</td>\n",
       "      <td>september</td>\n",
       "    </tr>\n",
       "    <tr>\n",
       "      <th>4</th>\n",
       "      <td>2239931529</td>\n",
       "      <td>Не дозвонились</td>\n",
       "      <td>NaN</td>\n",
       "      <td>ГП 52</td>\n",
       "      <td>5</td>\n",
       "      <td>september</td>\n",
       "    </tr>\n",
       "    <tr>\n",
       "      <th>...</th>\n",
       "      <td>...</td>\n",
       "      <td>...</td>\n",
       "      <td>...</td>\n",
       "      <td>...</td>\n",
       "      <td>...</td>\n",
       "      <td>...</td>\n",
       "    </tr>\n",
       "    <tr>\n",
       "      <th>3983</th>\n",
       "      <td>2246680300</td>\n",
       "      <td>Разговор состоялся</td>\n",
       "      <td>NaN</td>\n",
       "      <td>ГП 66</td>\n",
       "      <td>5</td>\n",
       "      <td>august</td>\n",
       "    </tr>\n",
       "    <tr>\n",
       "      <th>3984</th>\n",
       "      <td>28444862</td>\n",
       "      <td>Разговор состоялся</td>\n",
       "      <td>всё прошла, ДН не закрыто</td>\n",
       "      <td>ГП 66</td>\n",
       "      <td>5</td>\n",
       "      <td>august</td>\n",
       "    </tr>\n",
       "    <tr>\n",
       "      <th>3985</th>\n",
       "      <td>18685932</td>\n",
       "      <td>Не дозвонились</td>\n",
       "      <td>NaN</td>\n",
       "      <td>ГП 66</td>\n",
       "      <td>5</td>\n",
       "      <td>september</td>\n",
       "    </tr>\n",
       "    <tr>\n",
       "      <th>3986</th>\n",
       "      <td>23962465</td>\n",
       "      <td>Не дозвонились</td>\n",
       "      <td>NaN</td>\n",
       "      <td>ГП 66</td>\n",
       "      <td>5</td>\n",
       "      <td>september</td>\n",
       "    </tr>\n",
       "    <tr>\n",
       "      <th>3987</th>\n",
       "      <td>21036756</td>\n",
       "      <td>Не дозвонились</td>\n",
       "      <td>NaN</td>\n",
       "      <td>ГП 66</td>\n",
       "      <td>5</td>\n",
       "      <td>september</td>\n",
       "    </tr>\n",
       "  </tbody>\n",
       "</table>\n",
       "<p>3988 rows × 6 columns</p>\n",
       "</div>"
      ],
      "text/plain": [
       "         emiasid              status                old_comment     mo  \\\n",
       "0       19994950      Не дозвонились                        NaN  ГП 52   \n",
       "1       19223589      Не дозвонились                        NaN  ГП 52   \n",
       "2     2241234545      Не дозвонились                        NaN  ГП 52   \n",
       "3       18475127      Не дозвонились                        NaN  ГП 52   \n",
       "4     2239931529      Не дозвонились                        NaN  ГП 52   \n",
       "...          ...                 ...                        ...    ...   \n",
       "3983  2246680300  Разговор состоялся                        NaN  ГП 66   \n",
       "3984    28444862  Разговор состоялся  всё прошла, ДН не закрыто  ГП 66   \n",
       "3985    18685932      Не дозвонились                        NaN  ГП 66   \n",
       "3986    23962465      Не дозвонились                        NaN  ГП 66   \n",
       "3987    21036756      Не дозвонились                        NaN  ГП 66   \n",
       "\n",
       "      priority      month  \n",
       "0            5  september  \n",
       "1            5  september  \n",
       "2            5  september  \n",
       "3            5  september  \n",
       "4            5  september  \n",
       "...        ...        ...  \n",
       "3983         5     august  \n",
       "3984         5     august  \n",
       "3985         5  september  \n",
       "3986         5  september  \n",
       "3987         5  september  \n",
       "\n",
       "[3988 rows x 6 columns]"
      ]
     },
     "execution_count": 479,
     "metadata": {},
     "output_type": "execute_result"
    }
   ],
   "source": [
    "additional_task_for_present_assistants"
   ]
  },
  {
   "cell_type": "code",
   "execution_count": 480,
   "id": "99ef9048",
   "metadata": {},
   "outputs": [],
   "source": [
    "final_task_predistribution = \\\n",
    "pd.concat([initial_task_for_today_present_assistants, additional_task_for_present_assistants]).reset_index(drop=True)"
   ]
  },
  {
   "cell_type": "code",
   "execution_count": 481,
   "id": "81d9a641",
   "metadata": {},
   "outputs": [
    {
     "data": {
      "text/plain": [
       "3988"
      ]
     },
     "execution_count": 481,
     "metadata": {},
     "output_type": "execute_result"
    }
   ],
   "source": [
    "empty_login_patients_amount_before = final_task_predistribution[final_task_predistribution.operator_login.isna()].shape[0]\n",
    "empty_login_patients_amount_before"
   ]
  },
  {
   "cell_type": "code",
   "execution_count": 482,
   "id": "fe87034e",
   "metadata": {},
   "outputs": [
    {
     "name": "stdout",
     "output_type": "stream",
     "text": [
      "CPU times: total: 29 s\n",
      "Wall time: 29.1 s\n"
     ]
    }
   ],
   "source": [
    "%%time\n",
    "\n",
    "for mo in distribution_count.index:\n",
    "    \n",
    "    while final_task_predistribution[final_task_predistribution.mo == mo].groupby('operator_login') \\\n",
    "    .agg({'emiasid': 'count'}).min()['emiasid'] < task_amount and \\\n",
    "    final_task_predistribution[(final_task_predistribution.operator_login.isna()) & (final_task_predistribution.mo == mo)] \\\n",
    "    .shape[0] > 0:\n",
    "        \n",
    "        miminal_in_mo_assistant_emiasid_amount = final_task_predistribution[final_task_predistribution.mo == mo] \\\n",
    "        .groupby('operator_login').agg({'emiasid': 'count'}).min()['emiasid']\n",
    "\n",
    "        minimal_in_mo_emiasid_amount_login = final_task_predistribution[final_task_predistribution.mo == mo] \\\n",
    "        .groupby('operator_login').agg({'emiasid': 'count'}).sort_values(by='emiasid').index[0]\n",
    "        \n",
    "        \n",
    "        empty_login_in_mo_index = final_task_predistribution[\n",
    "            (final_task_predistribution.operator_login.isna()) & (final_task_predistribution.mo == mo)\n",
    "        ].index[0]\n",
    "        \n",
    "        final_task_predistribution = \\\n",
    "        final_task_predistribution.sort_values(by=['priority', 'last_call_date', 'calls_amount'])\n",
    "\n",
    "        final_task_predistribution.loc[empty_login_in_mo_index, 'operator_login'] = minimal_in_mo_emiasid_amount_login\n"
   ]
  },
  {
   "cell_type": "code",
   "execution_count": 483,
   "id": "4209d63d",
   "metadata": {
    "scrolled": true
   },
   "outputs": [
    {
     "data": {
      "text/plain": [
       "2618"
      ]
     },
     "execution_count": 483,
     "metadata": {},
     "output_type": "execute_result"
    }
   ],
   "source": [
    "empty_login_patients_amount_after = final_task_predistribution[final_task_predistribution.operator_login.isna()].shape[0]\n",
    "empty_login_patients_amount_after"
   ]
  },
  {
   "cell_type": "code",
   "execution_count": null,
   "id": "9342ca81",
   "metadata": {},
   "outputs": [],
   "source": []
  },
  {
   "cell_type": "code",
   "execution_count": 484,
   "id": "d33b5bd7",
   "metadata": {},
   "outputs": [],
   "source": [
    "final_task_distribution = final_task_predistribution[~final_task_predistribution.operator_login.isna()] \\\n",
    ".copy().reset_index(drop=True)"
   ]
  },
  {
   "cell_type": "code",
   "execution_count": null,
   "id": "2340c321",
   "metadata": {},
   "outputs": [],
   "source": []
  },
  {
   "cell_type": "code",
   "execution_count": 485,
   "id": "46647b30",
   "metadata": {},
   "outputs": [
    {
     "data": {
      "text/plain": [
       "Не дозвонились                    10415\n",
       "Перенос звонка на другой день      3612\n",
       "Ни разу не звонили                 2875\n",
       "Разговор состоялся                 1412\n",
       "Будет в Москве в другом месяце      508\n",
       "Запишется самостоятельно            249\n",
       "Не нравится врач                     26\n",
       "Не нравится МО                       10\n",
       "Отсутствует номер                     8\n",
       "Живет не в Москве                     7\n",
       "Отказ                                 4\n",
       "Госпитализирован                      2\n",
       "Перезвонить сегодня                   2\n",
       "Name: status, dtype: int64"
      ]
     },
     "execution_count": 485,
     "metadata": {},
     "output_type": "execute_result"
    }
   ],
   "source": [
    "final_task_distribution.status.value_counts()"
   ]
  },
  {
   "cell_type": "code",
   "execution_count": 248,
   "id": "d5719af3",
   "metadata": {},
   "outputs": [
    {
     "data": {
      "text/plain": [
       "pomoshnik_pdn168    120\n",
       "pomoshnik_pdn129    120\n",
       "pomoshnik_pdn27     120\n",
       "pomoshnik_pdn85     120\n",
       "pomoshnik_pdn9      120\n",
       "                   ... \n",
       "pomoshnik_pdn265     20\n",
       "pomoshnik_pdn173     16\n",
       "pomoshnik_pdn200     13\n",
       "pomoshnik_pdn131      3\n",
       "pomoshnik_pdn151      1\n",
       "Name: operator_login, Length: 168, dtype: int64"
      ]
     },
     "execution_count": 248,
     "metadata": {},
     "output_type": "execute_result"
    }
   ],
   "source": [
    "final_task_distribution.operator_login.value_counts()"
   ]
  },
  {
   "cell_type": "code",
   "execution_count": null,
   "id": "67c3c229",
   "metadata": {},
   "outputs": [],
   "source": []
  },
  {
   "cell_type": "code",
   "execution_count": null,
   "id": "3d09b874",
   "metadata": {},
   "outputs": [],
   "source": []
  },
  {
   "cell_type": "code",
   "execution_count": null,
   "id": "55a83166",
   "metadata": {},
   "outputs": [],
   "source": []
  },
  {
   "cell_type": "code",
   "execution_count": 249,
   "id": "388b26be",
   "metadata": {},
   "outputs": [],
   "source": [
    "final_task_distribution = final_task_distribution.rename(columns={'login': 'operator_login'})"
   ]
  },
  {
   "cell_type": "code",
   "execution_count": 250,
   "id": "caf2d1c9",
   "metadata": {},
   "outputs": [],
   "source": [
    "final_task_distribution = final_task_distribution.rename(columns={'last_comment': 'old_comment'})"
   ]
  },
  {
   "cell_type": "code",
   "execution_count": 251,
   "id": "03cb6de6",
   "metadata": {},
   "outputs": [
    {
     "data": {
      "text/plain": [
       "18434"
      ]
     },
     "execution_count": 251,
     "metadata": {},
     "output_type": "execute_result"
    }
   ],
   "source": [
    "final_task_distribution.shape[0]"
   ]
  },
  {
   "cell_type": "code",
   "execution_count": 261,
   "id": "ac380ee3",
   "metadata": {},
   "outputs": [
    {
     "data": {
      "text/plain": [
       "2474"
      ]
     },
     "execution_count": 261,
     "metadata": {},
     "output_type": "execute_result"
    }
   ],
   "source": [
    "final_task_distribution.groupby('operator_login').agg({'emiasid': 'count'}).sort_values(by=['emiasid']).head(35).emiasid.sum()"
   ]
  },
  {
   "cell_type": "code",
   "execution_count": 253,
   "id": "5cbc1d18",
   "metadata": {},
   "outputs": [],
   "source": [
    "final_task_distribution['emiasid'] = final_task_distribution['emiasid']"
   ]
  },
  {
   "cell_type": "code",
   "execution_count": 254,
   "id": "f534cbc4",
   "metadata": {},
   "outputs": [
    {
     "data": {
      "text/plain": [
       "18434"
      ]
     },
     "execution_count": 254,
     "metadata": {},
     "output_type": "execute_result"
    }
   ],
   "source": [
    "final_task_distribution = final_task_distribution.drop_duplicates(subset=['emiasid'], keep='first')\n",
    "final_task_distribution.shape[0]"
   ]
  },
  {
   "cell_type": "code",
   "execution_count": 255,
   "id": "1ec0e2c7",
   "metadata": {},
   "outputs": [
    {
     "data": {
      "text/plain": [
       "Не дозвонились                    9110\n",
       "Перенос звонка на другой день     4650\n",
       "Ни разу не звонили                2199\n",
       "Разговор состоялся                1315\n",
       "Будет в Москве в другом месяце     380\n",
       "Перезвонить сегодня                367\n",
       "Запишется самостоятельно           361\n",
       "Не нравится врач                    17\n",
       "Отсутствует номер                    9\n",
       "Отказ                                8\n",
       "Не нравится МО                       8\n",
       "Госпитализирован                     5\n",
       "Живет не в Москве                    4\n",
       "Пациент отрицает диагноз             1\n",
       "Name: status, dtype: int64"
      ]
     },
     "execution_count": 255,
     "metadata": {},
     "output_type": "execute_result"
    }
   ],
   "source": [
    "final_task_distribution.status.value_counts()"
   ]
  },
  {
   "cell_type": "code",
   "execution_count": 256,
   "id": "9267676b",
   "metadata": {},
   "outputs": [
    {
     "data": {
      "text/plain": [
       "2022-09-07    4711\n",
       "2022-09-06    1987\n",
       "2022-09-02    1868\n",
       "2022-09-08    1809\n",
       "2022-09-05    1207\n",
       "2022-09-12     890\n",
       "2022-09-09     875\n",
       "2022-09-15     579\n",
       "2022-09-13     328\n",
       "2022-09-14     312\n",
       "2022-08-16      33\n",
       "2022-09-01      26\n",
       "2022-08-15      21\n",
       "2022-08-31      20\n",
       "2022-08-12      16\n",
       "2022-08-09      15\n",
       "2022-08-05      15\n",
       "2022-08-04      15\n",
       "2022-08-03      12\n",
       "2022-08-17      12\n",
       "2022-08-18      11\n",
       "2022-08-23      11\n",
       "2022-08-10      10\n",
       "2022-08-11       9\n",
       "2022-08-19       7\n",
       "2022-08-08       5\n",
       "2022-08-22       5\n",
       "2022-08-24       5\n",
       "2022-08-26       5\n",
       "2022-08-25       3\n",
       "2022-08-29       2\n",
       "2022-08-30       1\n",
       "Name: last_call_date, dtype: int64"
      ]
     },
     "execution_count": 256,
     "metadata": {},
     "output_type": "execute_result"
    }
   ],
   "source": [
    "final_task_distribution.last_call_date.value_counts()"
   ]
  },
  {
   "cell_type": "code",
   "execution_count": null,
   "id": "494e7fec",
   "metadata": {},
   "outputs": [],
   "source": [
    "final_task_distribution[final_task_distribution.month == 'august']\\\n",
    ".to_excel(rf'august_task_for_today_{today_y_m_d}.xlsx', index=False)"
   ]
  },
  {
   "cell_type": "code",
   "execution_count": null,
   "id": "29d90f94",
   "metadata": {},
   "outputs": [],
   "source": [
    "final_task_distribution[final_task_distribution.month == 'september']\\\n",
    ".to_excel(rf'september_task_for_today_{today_y_m_d}.xlsx', index=False)"
   ]
  },
  {
   "cell_type": "code",
   "execution_count": null,
   "id": "6ba20cdb",
   "metadata": {},
   "outputs": [],
   "source": [
    "final_task_distribution.to_excel(rf'full_task_for_today_{today_y_m_d}.xlsx', index=False)"
   ]
  },
  {
   "cell_type": "code",
   "execution_count": null,
   "id": "058aa7ae",
   "metadata": {},
   "outputs": [],
   "source": [
    "tomorrow_record_patients[tomorrow_record_patients.emiasid.isin(final_task_distribution.emiasid)]"
   ]
  },
  {
   "cell_type": "code",
   "execution_count": null,
   "id": "060af593",
   "metadata": {},
   "outputs": [],
   "source": []
  }
 ],
 "metadata": {
  "kernelspec": {
   "display_name": "Python 3 (ipykernel)",
   "language": "python",
   "name": "python3"
  },
  "language_info": {
   "codemirror_mode": {
    "name": "ipython",
    "version": 3
   },
   "file_extension": ".py",
   "mimetype": "text/x-python",
   "name": "python",
   "nbconvert_exporter": "python",
   "pygments_lexer": "ipython3",
   "version": "3.10.4"
  }
 },
 "nbformat": 4,
 "nbformat_minor": 5
}
