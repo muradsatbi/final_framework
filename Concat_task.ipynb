{
 "cells": [
  {
   "cell_type": "code",
   "execution_count": 29,
   "id": "fa0f41b8",
   "metadata": {},
   "outputs": [],
   "source": [
    "import os\n",
    "import shutil\n",
    "import pandas as pd\n",
    "import datetime as dt\n",
    "import numpy as np\n",
    "import re\n",
    "import datetime"
   ]
  },
  {
   "cell_type": "code",
   "execution_count": 30,
   "id": "086bdb77",
   "metadata": {},
   "outputs": [],
   "source": [
    "task_path = r'Z:\\pdn\\data\\task'"
   ]
  },
  {
   "cell_type": "code",
   "execution_count": 31,
   "id": "eb72e264",
   "metadata": {},
   "outputs": [],
   "source": [
    "def get_filenames(path: str, patterns: list, exclude_keys: list):\n",
    "    \n",
    "    print(patterns)\n",
    "    \n",
    "    all_files = os.listdir(path)\n",
    "    out = all_files.copy()\n",
    "    for pattern in patterns:\n",
    "        for file in all_files:\n",
    "            if pattern not in file:\n",
    "                out.remove(file)\n",
    "        all_files = out.copy()\n",
    "    \n",
    "    for key in exclude_keys:\n",
    "        for file in all_files:\n",
    "            if key in file:\n",
    "                out.remove(file)  \n",
    "        all_files = out.copy()\n",
    "    \n",
    "    out = [os.path.join(path, f) for f in out]\n",
    "    return out"
   ]
  },
  {
   "cell_type": "code",
   "execution_count": 32,
   "id": "cd40d829",
   "metadata": {},
   "outputs": [],
   "source": [
    "def get_concated_task(\n",
    "        task_path: str,\n",
    "        date: datetime.datetime,\n",
    "        patterns: list = ['part'],\n",
    "        exclude_keys: list = ['~$']\n",
    "):\n",
    "    # Загружает emias_data за указанную дату\n",
    "    # исключает из списка загружаемых таблиц те,\n",
    "    # в названии которых есть элемент из exclude_types\n",
    "    # возвращает конкатенацию всех файлов, если concat == True\n",
    "    # иначе возвращает словарь, в котором месяц/тип  таблицы является ключём\n",
    "\n",
    "    file_list = get_filenames(task_path, patterns = [date.strftime('%Y%m%d'), *patterns], exclude_keys=exclude_keys)\n",
    "\n",
    "    print(file_list)\n",
    "                \n",
    "    df = pd.DataFrame()\n",
    "    for path in file_list:\n",
    "        if df.empty:\n",
    "            df = pd.read_excel(path)\n",
    "        else:\n",
    "            df = pd.concat([df, pd.read_excel(path)])\n",
    "    \n",
    "    return df\n",
    "        "
   ]
  },
  {
   "cell_type": "code",
   "execution_count": 33,
   "id": "5b7f6ea0",
   "metadata": {},
   "outputs": [],
   "source": [
    "def create_task_file(month, date, df, task_path):\n",
    "    '''Выгрузка ПОСЛЕДНЕЙ ВЕРСИИ задания из папки paths.TASK_SUBFOLDER_LOADS в\n",
    "    объект DataFrame'''\n",
    "    date_ymd = date.strftime('%Y%m%d')\n",
    "\n",
    "    file_name = f'{month}_{date_ymd}_v20.xlsx'\n",
    "    df.to_excel(file_name, index=False)\n",
    "    return file_name"
   ]
  },
  {
   "cell_type": "code",
   "execution_count": 34,
   "id": "b58468b7",
   "metadata": {},
   "outputs": [],
   "source": [
    "def main_giga_func(\n",
    "    months: list, \n",
    "    date = datetime.datetime.today(), \n",
    "    task_path = task_path,\n",
    "    concat=True\n",
    "):\n",
    "    \n",
    "    giga_task = []\n",
    "    for month in months:\n",
    "        task = get_concated_task(\n",
    "            task_path=task_path,\n",
    "            date=date,\n",
    "            patterns = ['part', month]\n",
    "        )\n",
    "        file_name = create_task_file(month, date, task, task_path=task_path)  \n",
    "        shutil.move(\n",
    "            os.path.join(os.getcwd(), file_name),\n",
    "            os.path.join(task_path, file_name)\n",
    "        ) \n",
    "        \n",
    "        giga_task.append(task)\n",
    "    \n",
    "    if concat:\n",
    "        giga_task = pd.concat(giga_task)\n",
    "        file_name = create_task_file('fulltask', date, giga_task, task_path=task_path)\n",
    "        shutil.move(\n",
    "            os.path.join(os.getcwd(), file_name),\n",
    "            os.path.join(task_path, file_name)\n",
    "        )"
   ]
  },
  {
   "cell_type": "code",
   "execution_count": 35,
   "id": "764b3e05",
   "metadata": {},
   "outputs": [
    {
     "name": "stdout",
     "output_type": "stream",
     "text": [
      "['20220920', 'part', 'september']\n",
      "['Z:\\\\pdn\\\\data\\\\task\\\\september_20220920_part_1.xlsx', 'Z:\\\\pdn\\\\data\\\\task\\\\september_20220920_part_2.xlsx']\n",
      "['20220920', 'part', 'august']\n",
      "['Z:\\\\pdn\\\\data\\\\task\\\\august_20220920_part_1.xlsx', 'Z:\\\\pdn\\\\data\\\\task\\\\august_20220920_part_2.xlsx']\n"
     ]
    }
   ],
   "source": [
    "main_giga_func(months=['september', 'august'])"
   ]
  },
  {
   "cell_type": "code",
   "execution_count": 36,
   "id": "5ffcbb6e",
   "metadata": {},
   "outputs": [
    {
     "data": {
      "text/plain": [
       "datetime.datetime(2022, 9, 20, 11, 35, 25, 840976)"
      ]
     },
     "execution_count": 36,
     "metadata": {},
     "output_type": "execute_result"
    }
   ],
   "source": [
    "datetime.datetime.now()"
   ]
  },
  {
   "cell_type": "code",
   "execution_count": null,
   "id": "8e5dcebe",
   "metadata": {},
   "outputs": [],
   "source": []
  },
  {
   "cell_type": "code",
   "execution_count": null,
   "id": "c3b76464",
   "metadata": {},
   "outputs": [],
   "source": []
  },
  {
   "cell_type": "code",
   "execution_count": null,
   "id": "275d8e9b",
   "metadata": {},
   "outputs": [],
   "source": []
  },
  {
   "cell_type": "code",
   "execution_count": null,
   "id": "24d1b522",
   "metadata": {},
   "outputs": [],
   "source": []
  },
  {
   "cell_type": "code",
   "execution_count": null,
   "id": "31895f02",
   "metadata": {},
   "outputs": [],
   "source": []
  },
  {
   "cell_type": "code",
   "execution_count": null,
   "id": "e128ac0d",
   "metadata": {},
   "outputs": [],
   "source": []
  }
 ],
 "metadata": {
  "kernelspec": {
   "display_name": "Python 3 (ipykernel)",
   "language": "python",
   "name": "python3"
  },
  "language_info": {
   "codemirror_mode": {
    "name": "ipython",
    "version": 3
   },
   "file_extension": ".py",
   "mimetype": "text/x-python",
   "name": "python",
   "nbconvert_exporter": "python",
   "pygments_lexer": "ipython3",
   "version": "3.10.6"
  }
 },
 "nbformat": 4,
 "nbformat_minor": 5
}
