{
 "cells": [
  {
   "cell_type": "code",
   "execution_count": 13,
   "id": "079827aa",
   "metadata": {},
   "outputs": [],
   "source": [
    "import datetime as dt\n",
    "import os\n",
    "import pandas as pd\n",
    "import numpy as np"
   ]
  },
  {
   "cell_type": "code",
   "execution_count": 14,
   "id": "c33680c9",
   "metadata": {},
   "outputs": [
    {
     "name": "stdout",
     "output_type": "stream",
     "text": [
      "2022_09_20\n"
     ]
    }
   ],
   "source": [
    "today = pd.Timestamp(dt.datetime.today().date())\n",
    "today_ymd = today.strftime('%Y%m%d')\n",
    "today_y_m_d = today.strftime('%Y_%m_%d')\n",
    "\n",
    "yesterday = today - dt.timedelta(days=1)\n",
    "yesterday_ymd = yesterday.strftime('%Y%m%d')\n",
    "yesterday_y_m_d = yesterday.strftime('%Y-%m-%d')\n",
    "\n",
    "tomorrow = today + dt.timedelta(days=1)\n",
    "tomorrow_ymd = tomorrow.strftime('%Y%m%d')\n",
    "tomorrow_y_m_d = tomorrow.strftime('%Y-%m-%d')\n",
    "\n",
    "print(today_y_m_d)"
   ]
  },
  {
   "cell_type": "code",
   "execution_count": 15,
   "id": "88dbe66f",
   "metadata": {},
   "outputs": [],
   "source": [
    "cycle = 1\n",
    "date_now = pd.Timestamp.today()\n",
    "# - timedelta(days=1)\n",
    "if cycle in [1, 2]:\n",
    "        task_for_call = list(range(1, 34))\n",
    "else:\n",
    "    task_for_call = list(range(1, 13)) + list(range(14, 20)) + [22, 23, 24, 25]\n",
    "ther_exclude_dates_june = [str(val)[:10] for val in pd.date_range('2022-01-01', '2022-06-07')]\n",
    "ther_exclude_dates_july = [str(val)[:10] for val in pd.date_range('2022-01-01', '2022-07-04')]\n",
    "ther_exclude_dates_august = [str(val)[:10] for val in pd.date_range('2022-01-01', '2022-08-01')]\n",
    "date_ymd = date_now.strftime('%Y%m%d')\n",
    "yesterday_date_ = date_now - dt.timedelta(days=1)"
   ]
  },
  {
   "cell_type": "code",
   "execution_count": 16,
   "id": "1dd22792",
   "metadata": {},
   "outputs": [
    {
     "name": "stdout",
     "output_type": "stream",
     "text": [
      "C:\\\\Users\\murad_satabaev\\Documents\\GitHub\\final_framework\\merged_statuses\n"
     ]
    }
   ],
   "source": [
    "# путь файла с текущими статусами пациентов\n",
    "patients_current_statuses_path = r'\\Users\\murad_satabaev\\Documents\\GitHub\\final_framework\\merged_statuses'\n",
    "patients_current_statuses_path = patients_current_statuses_path.split('\\\\')\n",
    "patients_current_statuses_path = os.path.join('C:\\\\', r'\\\\', *patients_current_statuses_path)\n",
    "print(patients_current_statuses_path)"
   ]
  },
  {
   "cell_type": "code",
   "execution_count": 17,
   "id": "7e38cdff",
   "metadata": {},
   "outputs": [],
   "source": [
    "import sys\n",
    "path_to_pdn = r\"C:\\Users\\murad_satabaev\\Documents\\GitHub\\pdn___\" # сюда внутри кавычек вставляем путь, где ледит репозиторий пдн\n",
    "sys.path.insert(0, path_to_pdn)"
   ]
  },
  {
   "cell_type": "code",
   "execution_count": 18,
   "id": "ae1886b1",
   "metadata": {},
   "outputs": [],
   "source": [
    "from pdn.projects.emias_data import get_emias_data\n",
    "from pdn.reading.read_files import get_group_name_df"
   ]
  },
  {
   "cell_type": "code",
   "execution_count": 19,
   "id": "62751767",
   "metadata": {},
   "outputs": [],
   "source": [
    "import sys\n",
    "path_to_pdn = r\"C:\\Users\\murad_satabaev\\Documents\\GitHub\\pdn_\" # сюда внутри кавычек вставляем путь, где ледит репозиторий пдн\n",
    "sys.path.insert(0, path_to_pdn)"
   ]
  },
  {
   "cell_type": "code",
   "execution_count": 20,
   "id": "37ad7751",
   "metadata": {},
   "outputs": [],
   "source": [
    "from pdn.projects.emias_data import get_emias_id_and_task_num_and_uschedule_visit"
   ]
  },
  {
   "cell_type": "code",
   "execution_count": 21,
   "id": "fbbd18b7",
   "metadata": {},
   "outputs": [],
   "source": [
    "from pdn.projects.emias_data import get_status_rec_rcp_procedure_and_doc"
   ]
  },
  {
   "cell_type": "code",
   "execution_count": 22,
   "id": "e42f64af",
   "metadata": {},
   "outputs": [],
   "source": [
    "# cловарь \"номер_dat\": \"месяц\", в который мы добавляем список месяцев, которые сейчас в работе\n",
    "\n",
    "dat_month = dict()\n",
    "\n",
    "# dat_month['may'] = '3196'\n",
    "# dat_month['june'] = '3437'\n",
    "# dat_month['july'] = '3582'\n",
    "dat_month['august'] = 3833\n",
    "# dat_month['august_additional'] = '3940'\n",
    "dat_month['september'] = 4059"
   ]
  },
  {
   "cell_type": "code",
   "execution_count": 23,
   "id": "0a516c71",
   "metadata": {},
   "outputs": [],
   "source": [
    "group_names = get_group_name_df()"
   ]
  },
  {
   "cell_type": "code",
   "execution_count": 24,
   "id": "b908e0c4",
   "metadata": {},
   "outputs": [
    {
     "data": {
      "text/plain": [
       "Timestamp('2022-09-20 12:03:52.668215')"
      ]
     },
     "execution_count": 24,
     "metadata": {},
     "output_type": "execute_result"
    }
   ],
   "source": [
    "date_now"
   ]
  },
  {
   "cell_type": "code",
   "execution_count": 26,
   "id": "b80850ab",
   "metadata": {
    "scrolled": true
   },
   "outputs": [
    {
     "name": "stderr",
     "output_type": "stream",
     "text": [
      "C:\\Users\\murad_satabaev\\Documents\\GitHub\\pdn___\\pdn\\data_preprocess\\preprocess_emias_data.py:16: FutureWarning: The default value of regex will change from True to False in a future version.\n",
      "  melt_data['variable'] = melt_data['variable'].str.replace('_sdel|_zapis', '')\n",
      "C:\\Users\\murad_satabaev\\Documents\\GitHub\\pdn___\\pdn\\data_preprocess\\preprocess_emias_data.py:16: FutureWarning: The default value of regex will change from True to False in a future version.\n",
      "  melt_data['variable'] = melt_data['variable'].str.replace('_sdel|_zapis', '')\n",
      "C:\\Users\\murad_satabaev\\Documents\\GitHub\\pdn___\\pdn\\data_preprocess\\preprocess_emias_data.py:16: FutureWarning: The default value of regex will change from True to False in a future version.\n",
      "  melt_data['variable'] = melt_data['variable'].str.replace('_sdel|_zapis', '')\n",
      "C:\\Users\\murad_satabaev\\Documents\\GitHub\\pdn___\\pdn\\projects\\emias_data.py:197: FutureWarning: The default value of regex will change from True to False in a future version.\n",
      "  data_attr_by_pat[col] = data_attr_by_pat[col].astype(str).str.replace('1.0', value_)\n",
      "C:\\Users\\murad_satabaev\\Documents\\GitHub\\pdn___\\pdn\\projects\\emias_data.py:198: FutureWarning: The default value of regex will change from True to False in a future version.\n",
      "  data_attr_by_pat[col] = data_attr_by_pat[col].astype(str).str.replace('0.0', '')\n",
      "<timed exec>:31: FutureWarning: The default value of regex will change from True to False in a future version.\n",
      "<timed exec>:32: FutureWarning: The default value of regex will change from True to False in a future version.\n",
      "<timed exec>:37: FutureWarning: The default value of regex will change from True to False in a future version.\n",
      "C:\\Users\\murad_satabaev\\Documents\\GitHub\\pdn___\\pdn\\data_preprocess\\preprocess_emias_data.py:16: FutureWarning: The default value of regex will change from True to False in a future version.\n",
      "  melt_data['variable'] = melt_data['variable'].str.replace('_sdel|_zapis', '')\n",
      "C:\\Users\\murad_satabaev\\Documents\\GitHub\\pdn___\\pdn\\data_preprocess\\preprocess_emias_data.py:16: FutureWarning: The default value of regex will change from True to False in a future version.\n",
      "  melt_data['variable'] = melt_data['variable'].str.replace('_sdel|_zapis', '')\n",
      "C:\\Users\\murad_satabaev\\Documents\\GitHub\\pdn___\\pdn\\data_preprocess\\preprocess_emias_data.py:16: FutureWarning: The default value of regex will change from True to False in a future version.\n",
      "  melt_data['variable'] = melt_data['variable'].str.replace('_sdel|_zapis', '')\n",
      "C:\\Users\\murad_satabaev\\Documents\\GitHub\\pdn___\\pdn\\projects\\emias_data.py:197: FutureWarning: The default value of regex will change from True to False in a future version.\n",
      "  data_attr_by_pat[col] = data_attr_by_pat[col].astype(str).str.replace('1.0', value_)\n",
      "C:\\Users\\murad_satabaev\\Documents\\GitHub\\pdn___\\pdn\\projects\\emias_data.py:198: FutureWarning: The default value of regex will change from True to False in a future version.\n",
      "  data_attr_by_pat[col] = data_attr_by_pat[col].astype(str).str.replace('0.0', '')\n",
      "<timed exec>:31: FutureWarning: The default value of regex will change from True to False in a future version.\n",
      "<timed exec>:32: FutureWarning: The default value of regex will change from True to False in a future version.\n",
      "<timed exec>:37: FutureWarning: The default value of regex will change from True to False in a future version.\n"
     ]
    },
    {
     "name": "stdout",
     "output_type": "stream",
     "text": [
      "CPU times: total: 10min 47s\n",
      "Wall time: 10min 57s\n"
     ]
    }
   ],
   "source": [
    "%%time\n",
    "for month, dat in dat_month.items():\n",
    "    \n",
    "    # пациенты и группы\n",
    "    emias_data = get_emias_data(date_now, dat)\n",
    "    for col in [\n",
    "        'kont_priyom_terapevt_zapis',\n",
    "        'kont_priyom_terapevt_sdel',\n",
    "        'kont_priyom_terapevt_sdel_hron_plan'\n",
    "    ]:\n",
    "        emias_data.loc[emias_data[col].isin(ther_exclude_dates_august), [col]] = np.nan\n",
    "    attrs_emias_data = emias_data.merge(\n",
    "        get_emias_id_and_task_num_and_uschedule_visit(\n",
    "            emias_data,\n",
    "            date_now\n",
    "        ),\n",
    "        how='left'\n",
    "    ).merge(\n",
    "        get_status_rec_rcp_procedure_and_doc(\n",
    "            get_emias_data(date_now, dat),\n",
    "            date_now\n",
    "        ),\n",
    "        how='left'\n",
    "    )\n",
    "    \n",
    "    \n",
    "    to_merge = attrs_emias_data[['emiasid', 'group', 'procedure_rec_status']].merge(group_names, on=['group'])\n",
    "    \n",
    "    patients_current_statuses = pd.read_excel(\n",
    "        os.path.join(patients_current_statuses_path, rf'{month}_patients_current_statuses_with_calls_info_{today_y_m_d}.xlsx'))\n",
    "    \n",
    "    to_merge['emiasid'] = to_merge['emiasid'].astype(str).str.replace('\\.0', '')\n",
    "    patients_current_statuses['emiasid'] = patients_current_statuses['emiasid'].astype(str).str.replace('\\.0', '')\n",
    "    \n",
    "    patients_current_statuses_merged_with_groups = patients_current_statuses.merge(to_merge, on=['emiasid'], how='left')\n",
    "    \n",
    "    patients_current_statuses_merged_with_groups['emiasid'] = \\\n",
    "    patients_current_statuses_merged_with_groups['emiasid'].astype(str).str.replace('\\.0', '') \n",
    "    \n",
    "        \n",
    "    patients_current_statuses_merged_with_groups.to_excel(os.path.join(\n",
    "        patients_current_statuses_path, \n",
    "                     rf'{month}_patients_current_statuses_with_groups_{today_y_m_d}.xlsx'), index=False)"
   ]
  },
  {
   "cell_type": "code",
   "execution_count": null,
   "id": "4a54a4bb",
   "metadata": {},
   "outputs": [],
   "source": []
  }
 ],
 "metadata": {
  "kernelspec": {
   "display_name": "Python 3 (ipykernel)",
   "language": "python",
   "name": "python3"
  },
  "language_info": {
   "codemirror_mode": {
    "name": "ipython",
    "version": 3
   },
   "file_extension": ".py",
   "mimetype": "text/x-python",
   "name": "python",
   "nbconvert_exporter": "python",
   "pygments_lexer": "ipython3",
   "version": "3.10.4"
  }
 },
 "nbformat": 4,
 "nbformat_minor": 5
}
