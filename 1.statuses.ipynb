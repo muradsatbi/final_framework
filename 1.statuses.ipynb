{
 "cells": [
  {
   "cell_type": "code",
   "execution_count": 1,
   "id": "87fbec0b",
   "metadata": {},
   "outputs": [],
   "source": [
    "import os\n",
    "import pandas as pd\n",
    "import datetime as dt\n",
    "import numpy as np\n",
    "import re"
   ]
  },
  {
   "cell_type": "code",
   "execution_count": 2,
   "id": "76cf34f5",
   "metadata": {},
   "outputs": [],
   "source": [
    "# путь папки с ЕМИАС данными\n",
    "emias_data_path = r'\\\\t999\\Сетевой диск\\pdn\\data\\emias_data\\xlsx'\n",
    "emias_data_path = emias_data_path.split('\\\\')\n",
    "emias_data_path = os.path.join(r'\\\\', *emias_data_path)"
   ]
  },
  {
   "cell_type": "code",
   "execution_count": 3,
   "id": "ec51e0dc",
   "metadata": {},
   "outputs": [],
   "source": [
    "# путь папки с данными по звонкам\n",
    "calls_data_path = r'\\\\t999\\Сетевой диск\\pdn\\data\\from_call_program'\n",
    "calls_data_path = calls_data_path.split('\\\\')\n",
    "calls_data_path = os.path.join(r'\\\\', *calls_data_path)"
   ]
  },
  {
   "cell_type": "code",
   "execution_count": 4,
   "id": "d65121e4",
   "metadata": {},
   "outputs": [],
   "source": [
    "# путь папки с данными по пациентам, которые говорят, что все прошли\n",
    "all_done_patients_data_path = r''\n",
    "all_done_patients_data_path = all_done_patients_data_path.split('\\\\')\n",
    "all_done_patients_data_path = os.path.join(r'\\\\', *all_done_patients_data_path)"
   ]
  },
  {
   "cell_type": "code",
   "execution_count": 5,
   "id": "6e5a2828",
   "metadata": {},
   "outputs": [
    {
     "name": "stdout",
     "output_type": "stream",
     "text": [
      "\\\\t999\\Сетевой диск\\pdn\\data\\assistant_to_doctor_distribution_path\\september_patient_to_assistant_distribution.xlsx\n"
     ]
    }
   ],
   "source": [
    "# путь папки с раскреплением\n",
    "assistant_to_doctor_distribution_path = \\\n",
    "r'\\\\t999\\Сетевой диск\\pdn\\data\\assistant_to_doctor_distribution_path'\n",
    "assistant_to_doctor_distribution_path = \\\n",
    "assistant_to_doctor_distribution_path.split('\\\\')\n",
    "assistant_to_doctor_distribution_path = \\\n",
    "os.path.join(r'\\\\', *assistant_to_doctor_distribution_path)\n",
    "assistant_to_doctor_distribution_path = [os.path.join(assistant_to_doctor_distribution_path, filename) for filename \n",
    "                                         in os.listdir(assistant_to_doctor_distribution_path) if '~' not in filename]\n",
    "assistant_to_doctor_distribution_path.sort(key=lambda x: os.path.getctime(x))\n",
    "assistant_to_doctor_distribution_path = assistant_to_doctor_distribution_path[-1]\n",
    "print(assistant_to_doctor_distribution_path)"
   ]
  },
  {
   "cell_type": "code",
   "execution_count": 6,
   "id": "caa478c4",
   "metadata": {},
   "outputs": [
    {
     "name": "stdout",
     "output_type": "stream",
     "text": [
      "C:\\Users\\murad_satabaev\\Documents\\GitHub\\final_framework\\pre_statuses_path\n"
     ]
    }
   ],
   "source": [
    "# путь файла с текущими статусами пациентов\n",
    "patients_current_pre_statuses_path = r'\\Users\\murad_satabaev\\Documents\\GitHub\\final_framework\\pre_statuses_path'\n",
    "patients_current_pre_statuses_path = patients_current_pre_statuses_path.split('\\\\')\n",
    "patients_current_pre_statuses_path = os.path.join('C:\\\\', *patients_current_pre_statuses_path)\n",
    "print(patients_current_pre_statuses_path)"
   ]
  },
  {
   "cell_type": "code",
   "execution_count": 7,
   "id": "a58028c5",
   "metadata": {},
   "outputs": [
    {
     "name": "stdout",
     "output_type": "stream",
     "text": [
      "C:\\\\Users\\murad_satabaev\\Documents\\GitHub\\final_framework\\current_statuses_path\n"
     ]
    }
   ],
   "source": [
    "# путь файла с текущими статусами пациентов\n",
    "patients_current_statuses_path = r'\\Users\\murad_satabaev\\Documents\\GitHub\\final_framework\\current_statuses_path'\n",
    "patients_current_statuses_path = patients_current_statuses_path.split('\\\\')\n",
    "patients_current_statuses_path = os.path.join('C:\\\\',r'\\\\', *patients_current_statuses_path)\n",
    "print(patients_current_statuses_path)"
   ]
  },
  {
   "cell_type": "code",
   "execution_count": null,
   "id": "e63fdca9",
   "metadata": {},
   "outputs": [],
   "source": []
  },
  {
   "cell_type": "code",
   "execution_count": 8,
   "id": "098d916e",
   "metadata": {},
   "outputs": [],
   "source": [
    "# cловарь \"номер_dat\": \"месяц\", в который мы добавляем список месяцев, которые сейчас в работе\n",
    "\n",
    "dat_month = dict()\n",
    "\n",
    "# dat_month['may'] = '3196'\n",
    "# dat_month['june'] = '3437'\n",
    "# dat_month['july'] = '3582'\n",
    "dat_month['august'] = '3833'\n",
    "dat_month['august_additional'] = '3940'\n",
    "dat_month['september'] = '4059'"
   ]
  },
  {
   "cell_type": "code",
   "execution_count": null,
   "id": "1a48471a",
   "metadata": {},
   "outputs": [],
   "source": []
  },
  {
   "cell_type": "code",
   "execution_count": 9,
   "id": "b133c96a",
   "metadata": {},
   "outputs": [],
   "source": [
    "today = pd.Timestamp(dt.datetime.today().date())\n",
    "\n",
    "today_ymd = today.strftime('%Y%m%d')\n",
    "today_y_m_d = today.strftime('%Y_%m_%d')\n",
    "\n",
    "yesterday = today - dt.timedelta(days=1)\n",
    "\n",
    "yesterday_ymd = yesterday.strftime('%Y%m%d')\n",
    "yesterday_y_m_d = yesterday.strftime('%Y_%m_%d')"
   ]
  },
  {
   "cell_type": "code",
   "execution_count": 10,
   "id": "182caffc",
   "metadata": {},
   "outputs": [],
   "source": [
    "column_names = {'Emiasid': 'emiasid', 'Emiasid ': 'emiasid' , 'emiasid ': 'emiasid', 'EMIAS_ID': 'emiasid', 'МО': 'mo', \n",
    "                'МУ': 'mu', 'Логин оператора': 'login', 'Дата и время звонка': 'call_date', 'Результат звонка': 'call_result',\n",
    "                'Результат звонка ': 'call_result', 'Разговор состоялся': 'talk_result', 'Комменатрий': 'comment', \n",
    "                'Дата и время переноса': 'next_call_date', 'Контактный телефон': 'phone_number', 'ФИО врача': 'doctor_fio', \n",
    "                'ФИО помощника врача': 'assistant_fio', 'Логин помощника врача': 'login', 'Зал №': 'hall_number',\n",
    "                'Логин naumen': 'login', 'МО закрепления': 'mo', 'Отсутствует на рабочем месте': 'absence'}"
   ]
  },
  {
   "cell_type": "code",
   "execution_count": 11,
   "id": "a5e2eb3b",
   "metadata": {},
   "outputs": [],
   "source": [
    "rename_mo_till_august = {'ГБУЗ Г МОСКВЫ ГП № 170 ДЗМ': 'ГП 170', ' ГП 6 ДЗМ': 'ГП 6', 'ГБУЗ КДЦ 6 ДЗМ':'КДЦ 6', \n",
    "             'ГБУЗ \"ГП № 134 ДЗМ\"': 'ГП 134', 'КДЦ 4': 'КДЦ 4', 'ГБУЗ ДКЦ 1 ДЗМ': 'ДКЦ 1', 'ГБУЗ ГП 23 ДЗМ': 'ГП 23',\n",
    "             'ГБУЗ ГП 109 ДЗМ': 'ГП 109', 'ГБУЗ ГП 11 ДЗМ': 'ГП 11', 'ГБУЗ ГП 64 ДЗМ': 'ГП 64', 'ГБУЗ ГП 191 ДЗМ': 'ГП 191', \n",
    "             'ГБУЗ ГП 220 ДЗМ': 'ГП 220', 'ГБУЗ \"ГП № 218 ДЗМ\"': 'ГП 218',  'ГБУЗ ГП 107 ДЗМ': 'ГП 107', \n",
    "             'ГБУЗ \"ГП № 22 ДЗМ\"': 'ГП 22', 'ГБУЗ ДЦ 5 ДЗМ': 'ДЦ 5', 'ГБУЗ ГП 210 ДЗМ': 'ГП 210', 'ГБУЗ ГП 214 ДЗМ': 'ГП 214', \n",
    "             'ГБУЗ ГП 2 ДЗМ': 'ГП 2', 'ГБУЗ КДП 121 ДЗМ': 'КДП 121', 'ГБУЗ ГП 66 ДЗМ': 'ГП 66',  'ГБУЗ ДЦ 3 ДЗМ ': 'ДЦ 3',\n",
    "             'ГБУЗ ГП 36 ДЗМ': 'ГП 36',  'ГБУЗ ГП 62 ДЗМ ': 'ГП 62'}"
   ]
  },
  {
   "cell_type": "code",
   "execution_count": 12,
   "id": "d080b636",
   "metadata": {},
   "outputs": [],
   "source": [
    "rename_mo_from_september = \\\n",
    "{'ГБУЗ Г МОСКВЫ ГП № 170 ДЗМ': 'ГП 170', ' ГП 6 ДЗМ': 'ГП 6', 'ГБУЗ КДЦ 6 ДЗМ':'КДЦ 6', \n",
    "'ГБУЗ \"ГП № 134 ДЗМ\"': 'ГП 134', 'КДЦ 4': 'КДЦ 4', 'ГБУЗ ДКЦ 1 ДЗМ': 'ДКЦ 1', 'ГБУЗ ГП 23 ДЗМ': 'ГП 23',\n",
    "'ГБУЗ ГП 109 ДЗМ': 'ГП 109', 'ГБУЗ ГП 11 ДЗМ': 'ГП 11', 'ГБУЗ ГП 64 ДЗМ': 'ГП 64', 'ГБУЗ ГП 191 ДЗМ': 'ГП 191', \n",
    "'ГБУЗ ГП 220 ДЗМ': 'ГП 220', 'ГБУЗ \"ГП № 218 ДЗМ\"': 'ГП 218',  'ГБУЗ ГП 107 ДЗМ': 'ГП 107', \n",
    "'ГБУЗ \"ГП № 22 ДЗМ\"': 'ГП 22', 'ГБУЗ ДЦ 5 ДЗМ': 'ДЦ 5', 'ГБУЗ ГП 210 ДЗМ': 'ГП 210', 'ГБУЗ ГП 214 ДЗМ': 'ГП 214', \n",
    "'ГБУЗ ГП 2 ДЗМ': 'ГП 2', 'ГБУЗ КДП 121 ДЗМ': 'КДП 121', 'ГБУЗ ГП 66 ДЗМ': 'ГП 66',  'ГБУЗ ДЦ 3 ДЗМ ': 'ДЦ 3',\n",
    "'ГБУЗ ГП 36 ДЗМ': 'ГП 36',  'ГБУЗ ГП 62 ДЗМ ': 'ГП 62', \n",
    "'ГБУЗ \"ГП № 52 ДЗМ\"': 'ГП 52', 'ГБУЗ \"ГП 67 ДЗМ\"': 'ГП 67', 'ГБУЗ ГП 68 ДЗМ': 'ГП 68', 'ГБУЗ ГП 175 ДЗМ': 'ГП 175',\n",
    "'ГБУЗ ГП № 209 ДЗМ': 'ГП 209',  'ГБУЗ ГП 212 ДЗМ': 'ГП 212', 'ГБУЗ ГП 19 ДЗМ': 'ГП 19', \n",
    "'ГБУЗ ГП №166 ДЗМ': 'ГП 166', 'ГБУЗ ГП 9 ДЗМ': 'ГП 9', 'ГБУЗ ГП 69 ДЗМ': 'ГП 69',\n",
    "'ГБУЗ \"ГП № 3 ДЗМ\"': 'ГП 3', 'ГБУЗ ГП 5 ДЗМ': 'ГП 5', 'ГБУЗ ГП 46 ДЗМ': 'ГП 46', 'ГБУЗ ГП №8 ДЗМ': 'ГП 8', \n",
    "'ГБУЗ \"ГП № 45 ДЗМ\"': 'ГП 45'}"
   ]
  },
  {
   "cell_type": "code",
   "execution_count": 13,
   "id": "37feebdb",
   "metadata": {},
   "outputs": [],
   "source": [
    "# current_mo = set(rename_mo.values())\n",
    "# current_mo.add(np.NaN)"
   ]
  },
  {
   "cell_type": "code",
   "execution_count": 14,
   "id": "b01a09dd",
   "metadata": {},
   "outputs": [],
   "source": [
    "wrong_numbers = {'0', '0000000000', '1111111111', '3262916916', '1234567899', '1236547890', '3690550657', '1234567890',\n",
    "'0007618491', '1659656596', '9999999999', '3333333333', '7777777777', '9031234567', '1953128522', '2222222222', '3952040835',\n",
    "'4444444448', '9000000000', '7777777777', '7777777777', '574923569', '5555555555', '9999999999', '8925590827', '0007618491',\n",
    "'7956407387', '8499610042', '8915009734', '6055810490', '7684505664', '7906769830', '8977580682', '7261584599', '7916400945', \n",
    "'7685214169', '6857635080', '7495345379', '8925765856', '7686025722', '7916690366', '7857693311', '6898930759', '9151111111', \n",
    "'7967158198', '7791009236', '7985212770','7916574778', '6255060964', '7035080044', '7700001124', '7991789900', '8199694805', \n",
    "'7774419688', '7499126055', '7916940129', '7985145961', '7928047830', '7686660162', '7257172424', '8123456789', '7175173773', \n",
    "'6853125028', '0007618491', 'nan'}\n",
    "\n"
   ]
  },
  {
   "cell_type": "code",
   "execution_count": 15,
   "id": "c78dfbd3",
   "metadata": {},
   "outputs": [],
   "source": [
    "def find_phone_number(text):\n",
    "    \"\"\"Функция ищет номера телефонов в строке, фильтрует дефектные и возвращает один с приоритетом на мобильный\"\"\"\n",
    "    import re\n",
    "    defect_pattern = re.compile(r\"\"\"7[^94]\\d{9}|0{7,}|1{7,}|2{7,}|3{7,}|4{7,}|5{7,}|6{7,}|7{7,}|8{7,}|9{7,}\"\"\")\n",
    "    text = str(text)\n",
    "    text = ['7' + re.sub(r'\\D', '', x)[-10:] for x in re.split(r'[,;]', text)]\n",
    "    text = list(filter(lambda x: len(x) == 11, text))\n",
    "    text = list(filter(lambda x: False if re.search(defect_pattern, x) else True, text))\n",
    "    text = sorted(text, reverse=True)\n",
    "    text = ','.join(text)\n",
    "    text = re.search(r'(9\\d{9}|4\\d{9})', text)\n",
    "    if text:\n",
    "        text = text.group()\n",
    "    return text"
   ]
  },
  {
   "cell_type": "code",
   "execution_count": 22,
   "id": "bea0668a",
   "metadata": {
    "scrolled": true
   },
   "outputs": [
    {
     "name": "stdout",
     "output_type": "stream",
     "text": [
      "done\n",
      "\n"
     ]
    },
    {
     "name": "stderr",
     "output_type": "stream",
     "text": [
      "<timed exec>:36: FutureWarning: The default value of regex will change from True to False in a future version.\n",
      "<timed exec>:38: FutureWarning: The default value of regex will change from True to False in a future version.\n"
     ]
    },
    {
     "name": "stdout",
     "output_type": "stream",
     "text": [
      "DAT_3833_выгрузка_списков_на_обзвон_помощниками_2022-08-01.xlsx  обработан\n",
      "done\n",
      "\n"
     ]
    },
    {
     "name": "stderr",
     "output_type": "stream",
     "text": [
      "<timed exec>:36: FutureWarning: The default value of regex will change from True to False in a future version.\n",
      "<timed exec>:38: FutureWarning: The default value of regex will change from True to False in a future version.\n"
     ]
    },
    {
     "name": "stdout",
     "output_type": "stream",
     "text": [
      "DAT_3833_выгрузка_списков_на_обзвон_помощниками_2022-08-02.xlsx  обработан\n",
      "done\n",
      "\n"
     ]
    },
    {
     "name": "stderr",
     "output_type": "stream",
     "text": [
      "<timed exec>:36: FutureWarning: The default value of regex will change from True to False in a future version.\n",
      "<timed exec>:38: FutureWarning: The default value of regex will change from True to False in a future version.\n"
     ]
    },
    {
     "name": "stdout",
     "output_type": "stream",
     "text": [
      "DAT_3833_выгрузка_списков_на_обзвон_помощниками_2022-08-03.xlsx  обработан\n",
      "done\n",
      "\n"
     ]
    },
    {
     "name": "stderr",
     "output_type": "stream",
     "text": [
      "<timed exec>:36: FutureWarning: The default value of regex will change from True to False in a future version.\n",
      "<timed exec>:38: FutureWarning: The default value of regex will change from True to False in a future version.\n"
     ]
    },
    {
     "name": "stdout",
     "output_type": "stream",
     "text": [
      "DAT_3833_выгрузка_списков_на_обзвон_помощниками_2022-08-04.xlsx  обработан\n",
      "done\n",
      "\n"
     ]
    },
    {
     "name": "stderr",
     "output_type": "stream",
     "text": [
      "<timed exec>:36: FutureWarning: The default value of regex will change from True to False in a future version.\n",
      "<timed exec>:38: FutureWarning: The default value of regex will change from True to False in a future version.\n"
     ]
    },
    {
     "name": "stdout",
     "output_type": "stream",
     "text": [
      "DAT_3833_выгрузка_списков_на_обзвон_помощниками_2022-08-05.xlsx  обработан\n",
      "done\n",
      "\n"
     ]
    },
    {
     "name": "stderr",
     "output_type": "stream",
     "text": [
      "<timed exec>:36: FutureWarning: The default value of regex will change from True to False in a future version.\n",
      "<timed exec>:38: FutureWarning: The default value of regex will change from True to False in a future version.\n"
     ]
    },
    {
     "name": "stdout",
     "output_type": "stream",
     "text": [
      "DAT_3833_выгрузка_списков_на_обзвон_помощниками_2022-08-08.xlsx  обработан\n",
      "done\n",
      "\n"
     ]
    },
    {
     "name": "stderr",
     "output_type": "stream",
     "text": [
      "<timed exec>:36: FutureWarning: The default value of regex will change from True to False in a future version.\n",
      "<timed exec>:38: FutureWarning: The default value of regex will change from True to False in a future version.\n"
     ]
    },
    {
     "name": "stdout",
     "output_type": "stream",
     "text": [
      "DAT_3833_выгрузка_списков_на_обзвон_помощниками_2022-08-09.xlsx  обработан\n",
      "done\n",
      "\n"
     ]
    },
    {
     "name": "stderr",
     "output_type": "stream",
     "text": [
      "<timed exec>:36: FutureWarning: The default value of regex will change from True to False in a future version.\n",
      "<timed exec>:38: FutureWarning: The default value of regex will change from True to False in a future version.\n"
     ]
    },
    {
     "name": "stdout",
     "output_type": "stream",
     "text": [
      "DAT_3833_выгрузка_списков_на_обзвон_помощниками_2022-08-10.xlsx  обработан\n",
      "done\n",
      "\n"
     ]
    },
    {
     "name": "stderr",
     "output_type": "stream",
     "text": [
      "<timed exec>:36: FutureWarning: The default value of regex will change from True to False in a future version.\n",
      "<timed exec>:38: FutureWarning: The default value of regex will change from True to False in a future version.\n"
     ]
    },
    {
     "name": "stdout",
     "output_type": "stream",
     "text": [
      "DAT_3833_выгрузка_списков_на_обзвон_помощниками_2022-08-11.xlsx  обработан\n",
      "done\n",
      "\n"
     ]
    },
    {
     "name": "stderr",
     "output_type": "stream",
     "text": [
      "<timed exec>:36: FutureWarning: The default value of regex will change from True to False in a future version.\n",
      "<timed exec>:38: FutureWarning: The default value of regex will change from True to False in a future version.\n"
     ]
    },
    {
     "name": "stdout",
     "output_type": "stream",
     "text": [
      "DAT_3833_выгрузка_списков_на_обзвон_помощниками_2022-08-12.xlsx  обработан\n",
      "done\n",
      "\n"
     ]
    },
    {
     "name": "stderr",
     "output_type": "stream",
     "text": [
      "<timed exec>:36: FutureWarning: The default value of regex will change from True to False in a future version.\n",
      "<timed exec>:38: FutureWarning: The default value of regex will change from True to False in a future version.\n"
     ]
    },
    {
     "name": "stdout",
     "output_type": "stream",
     "text": [
      "DAT_3833_выгрузка_списков_на_обзвон_помощниками_2022-08-15.xlsx  обработан\n",
      "done\n",
      "\n"
     ]
    },
    {
     "name": "stderr",
     "output_type": "stream",
     "text": [
      "<timed exec>:36: FutureWarning: The default value of regex will change from True to False in a future version.\n",
      "<timed exec>:38: FutureWarning: The default value of regex will change from True to False in a future version.\n"
     ]
    },
    {
     "name": "stdout",
     "output_type": "stream",
     "text": [
      "DAT_3833_выгрузка_списков_на_обзвон_помощниками_2022-08-16.xlsx  обработан\n",
      "done\n",
      "\n"
     ]
    },
    {
     "name": "stderr",
     "output_type": "stream",
     "text": [
      "<timed exec>:36: FutureWarning: The default value of regex will change from True to False in a future version.\n",
      "<timed exec>:38: FutureWarning: The default value of regex will change from True to False in a future version.\n"
     ]
    },
    {
     "name": "stdout",
     "output_type": "stream",
     "text": [
      "DAT_3833_выгрузка_списков_на_обзвон_помощниками_2022-08-17.xlsx  обработан\n",
      "done\n",
      "\n"
     ]
    },
    {
     "name": "stderr",
     "output_type": "stream",
     "text": [
      "<timed exec>:36: FutureWarning: The default value of regex will change from True to False in a future version.\n",
      "<timed exec>:38: FutureWarning: The default value of regex will change from True to False in a future version.\n"
     ]
    },
    {
     "name": "stdout",
     "output_type": "stream",
     "text": [
      "DAT_3833_выгрузка_списков_на_обзвон_помощниками_2022-08-18.xlsx  обработан\n",
      "done\n",
      "\n"
     ]
    },
    {
     "name": "stderr",
     "output_type": "stream",
     "text": [
      "<timed exec>:36: FutureWarning: The default value of regex will change from True to False in a future version.\n",
      "<timed exec>:38: FutureWarning: The default value of regex will change from True to False in a future version.\n"
     ]
    },
    {
     "name": "stdout",
     "output_type": "stream",
     "text": [
      "DAT_3833_выгрузка_списков_на_обзвон_помощниками_2022-08-19.xlsx  обработан\n",
      "done\n",
      "\n"
     ]
    },
    {
     "name": "stderr",
     "output_type": "stream",
     "text": [
      "<timed exec>:36: FutureWarning: The default value of regex will change from True to False in a future version.\n",
      "<timed exec>:38: FutureWarning: The default value of regex will change from True to False in a future version.\n"
     ]
    },
    {
     "name": "stdout",
     "output_type": "stream",
     "text": [
      "DAT_3833_выгрузка_списков_на_обзвон_помощниками_2022-08-22.xlsx  обработан\n",
      "done\n",
      "\n"
     ]
    },
    {
     "name": "stderr",
     "output_type": "stream",
     "text": [
      "<timed exec>:36: FutureWarning: The default value of regex will change from True to False in a future version.\n",
      "<timed exec>:38: FutureWarning: The default value of regex will change from True to False in a future version.\n"
     ]
    },
    {
     "name": "stdout",
     "output_type": "stream",
     "text": [
      "DAT_3833_выгрузка_списков_на_обзвон_помощниками_2022-08-23.xlsx  обработан\n",
      "done\n",
      "\n"
     ]
    },
    {
     "name": "stderr",
     "output_type": "stream",
     "text": [
      "<timed exec>:36: FutureWarning: The default value of regex will change from True to False in a future version.\n",
      "<timed exec>:38: FutureWarning: The default value of regex will change from True to False in a future version.\n"
     ]
    },
    {
     "name": "stdout",
     "output_type": "stream",
     "text": [
      "DAT_3833_выгрузка_списков_на_обзвон_помощниками_2022-08-24.xlsx  обработан\n",
      "done\n",
      "\n"
     ]
    },
    {
     "name": "stderr",
     "output_type": "stream",
     "text": [
      "<timed exec>:36: FutureWarning: The default value of regex will change from True to False in a future version.\n",
      "<timed exec>:38: FutureWarning: The default value of regex will change from True to False in a future version.\n"
     ]
    },
    {
     "name": "stdout",
     "output_type": "stream",
     "text": [
      "DAT_3833_выгрузка_списков_на_обзвон_помощниками_2022-08-25.xlsx  обработан\n",
      "done\n",
      "\n"
     ]
    },
    {
     "name": "stderr",
     "output_type": "stream",
     "text": [
      "<timed exec>:36: FutureWarning: The default value of regex will change from True to False in a future version.\n",
      "<timed exec>:38: FutureWarning: The default value of regex will change from True to False in a future version.\n"
     ]
    },
    {
     "name": "stdout",
     "output_type": "stream",
     "text": [
      "DAT_3833_выгрузка_списков_на_обзвон_помощниками_2022-08-26.xlsx  обработан\n",
      "done\n",
      "\n"
     ]
    },
    {
     "name": "stderr",
     "output_type": "stream",
     "text": [
      "<timed exec>:36: FutureWarning: The default value of regex will change from True to False in a future version.\n",
      "<timed exec>:38: FutureWarning: The default value of regex will change from True to False in a future version.\n"
     ]
    },
    {
     "name": "stdout",
     "output_type": "stream",
     "text": [
      "DAT_3833_выгрузка_списков_на_обзвон_помощниками_2022-08-27.xlsx  обработан\n",
      "done\n",
      "\n"
     ]
    },
    {
     "name": "stderr",
     "output_type": "stream",
     "text": [
      "<timed exec>:36: FutureWarning: The default value of regex will change from True to False in a future version.\n",
      "<timed exec>:38: FutureWarning: The default value of regex will change from True to False in a future version.\n"
     ]
    },
    {
     "name": "stdout",
     "output_type": "stream",
     "text": [
      "DAT_3833_выгрузка_списков_на_обзвон_помощниками_2022-08-28.xlsx  обработан\n",
      "done\n",
      "\n"
     ]
    },
    {
     "name": "stderr",
     "output_type": "stream",
     "text": [
      "<timed exec>:36: FutureWarning: The default value of regex will change from True to False in a future version.\n",
      "<timed exec>:38: FutureWarning: The default value of regex will change from True to False in a future version.\n"
     ]
    },
    {
     "name": "stdout",
     "output_type": "stream",
     "text": [
      "DAT_3833_выгрузка_списков_на_обзвон_помощниками_2022-08-29.xlsx  обработан\n",
      "done\n",
      "\n"
     ]
    },
    {
     "name": "stderr",
     "output_type": "stream",
     "text": [
      "<timed exec>:36: FutureWarning: The default value of regex will change from True to False in a future version.\n",
      "<timed exec>:38: FutureWarning: The default value of regex will change from True to False in a future version.\n"
     ]
    },
    {
     "name": "stdout",
     "output_type": "stream",
     "text": [
      "DAT_3833_выгрузка_списков_на_обзвон_помощниками_2022-08-30.xlsx  обработан\n",
      "done\n",
      "\n"
     ]
    },
    {
     "name": "stderr",
     "output_type": "stream",
     "text": [
      "<timed exec>:36: FutureWarning: The default value of regex will change from True to False in a future version.\n",
      "<timed exec>:38: FutureWarning: The default value of regex will change from True to False in a future version.\n"
     ]
    },
    {
     "name": "stdout",
     "output_type": "stream",
     "text": [
      "DAT_3833_выгрузка_списков_на_обзвон_помощниками_2022-08-31.xlsx  обработан\n",
      "done\n",
      "\n"
     ]
    },
    {
     "name": "stderr",
     "output_type": "stream",
     "text": [
      "<timed exec>:36: FutureWarning: The default value of regex will change from True to False in a future version.\n",
      "<timed exec>:38: FutureWarning: The default value of regex will change from True to False in a future version.\n"
     ]
    },
    {
     "name": "stdout",
     "output_type": "stream",
     "text": [
      "DAT_3833_выгрузка_списков_на_обзвон_помощниками_2022-09-01.xlsx  обработан\n",
      "done\n",
      "\n"
     ]
    },
    {
     "name": "stderr",
     "output_type": "stream",
     "text": [
      "<timed exec>:36: FutureWarning: The default value of regex will change from True to False in a future version.\n",
      "<timed exec>:38: FutureWarning: The default value of regex will change from True to False in a future version.\n"
     ]
    },
    {
     "name": "stdout",
     "output_type": "stream",
     "text": [
      "DAT_3833_выгрузка_списков_на_обзвон_помощниками_2022-09-02.xlsx  обработан\n",
      "done\n",
      "\n"
     ]
    },
    {
     "name": "stderr",
     "output_type": "stream",
     "text": [
      "<timed exec>:36: FutureWarning: The default value of regex will change from True to False in a future version.\n",
      "<timed exec>:38: FutureWarning: The default value of regex will change from True to False in a future version.\n"
     ]
    },
    {
     "name": "stdout",
     "output_type": "stream",
     "text": [
      "DAT_3833_выгрузка_списков_на_обзвон_помощниками_2022-09-03.xlsx  обработан\n",
      "done\n",
      "\n"
     ]
    },
    {
     "name": "stderr",
     "output_type": "stream",
     "text": [
      "<timed exec>:36: FutureWarning: The default value of regex will change from True to False in a future version.\n",
      "<timed exec>:38: FutureWarning: The default value of regex will change from True to False in a future version.\n"
     ]
    },
    {
     "name": "stdout",
     "output_type": "stream",
     "text": [
      "DAT_3833_выгрузка_списков_на_обзвон_помощниками_2022-09-04.xlsx  обработан\n",
      "done\n",
      "\n"
     ]
    },
    {
     "name": "stderr",
     "output_type": "stream",
     "text": [
      "<timed exec>:36: FutureWarning: The default value of regex will change from True to False in a future version.\n",
      "<timed exec>:38: FutureWarning: The default value of regex will change from True to False in a future version.\n"
     ]
    },
    {
     "name": "stdout",
     "output_type": "stream",
     "text": [
      "DAT_3833_выгрузка_списков_на_обзвон_помощниками_2022-09-05.xlsx  обработан\n",
      "done\n",
      "\n"
     ]
    },
    {
     "name": "stderr",
     "output_type": "stream",
     "text": [
      "<timed exec>:36: FutureWarning: The default value of regex will change from True to False in a future version.\n",
      "<timed exec>:38: FutureWarning: The default value of regex will change from True to False in a future version.\n"
     ]
    },
    {
     "name": "stdout",
     "output_type": "stream",
     "text": [
      "DAT_3833_выгрузка_списков_на_обзвон_помощниками_2022-09-06.xlsx  обработан\n",
      "done\n",
      "\n"
     ]
    },
    {
     "name": "stderr",
     "output_type": "stream",
     "text": [
      "<timed exec>:36: FutureWarning: The default value of regex will change from True to False in a future version.\n",
      "<timed exec>:38: FutureWarning: The default value of regex will change from True to False in a future version.\n"
     ]
    },
    {
     "name": "stdout",
     "output_type": "stream",
     "text": [
      "DAT_3833_выгрузка_списков_на_обзвон_помощниками_2022-09-07.xlsx  обработан\n",
      "done\n",
      "\n"
     ]
    },
    {
     "name": "stderr",
     "output_type": "stream",
     "text": [
      "<timed exec>:36: FutureWarning: The default value of regex will change from True to False in a future version.\n",
      "<timed exec>:38: FutureWarning: The default value of regex will change from True to False in a future version.\n"
     ]
    },
    {
     "name": "stdout",
     "output_type": "stream",
     "text": [
      "DAT_3833_выгрузка_списков_на_обзвон_помощниками_2022-09-08.xlsx  обработан\n",
      "done\n",
      "\n"
     ]
    },
    {
     "name": "stderr",
     "output_type": "stream",
     "text": [
      "<timed exec>:36: FutureWarning: The default value of regex will change from True to False in a future version.\n",
      "<timed exec>:38: FutureWarning: The default value of regex will change from True to False in a future version.\n"
     ]
    },
    {
     "name": "stdout",
     "output_type": "stream",
     "text": [
      "DAT_3833_выгрузка_списков_на_обзвон_помощниками_2022-09-09.xlsx  обработан\n",
      "done\n",
      "\n"
     ]
    },
    {
     "name": "stderr",
     "output_type": "stream",
     "text": [
      "<timed exec>:36: FutureWarning: The default value of regex will change from True to False in a future version.\n",
      "<timed exec>:38: FutureWarning: The default value of regex will change from True to False in a future version.\n"
     ]
    },
    {
     "name": "stdout",
     "output_type": "stream",
     "text": [
      "DAT_3833_выгрузка_списков_на_обзвон_помощниками_2022-09-12.xlsx  обработан\n",
      "done\n",
      "\n"
     ]
    },
    {
     "name": "stderr",
     "output_type": "stream",
     "text": [
      "<timed exec>:36: FutureWarning: The default value of regex will change from True to False in a future version.\n",
      "<timed exec>:38: FutureWarning: The default value of regex will change from True to False in a future version.\n"
     ]
    },
    {
     "name": "stdout",
     "output_type": "stream",
     "text": [
      "DAT_3833_выгрузка_списков_на_обзвон_помощниками_2022-09-13.xlsx  обработан\n",
      "done\n",
      "\n"
     ]
    },
    {
     "name": "stderr",
     "output_type": "stream",
     "text": [
      "<timed exec>:36: FutureWarning: The default value of regex will change from True to False in a future version.\n",
      "<timed exec>:38: FutureWarning: The default value of regex will change from True to False in a future version.\n"
     ]
    },
    {
     "name": "stdout",
     "output_type": "stream",
     "text": [
      "DAT_3833_выгрузка_списков_на_обзвон_помощниками_2022-09-14.xlsx  обработан\n",
      "done\n",
      "\n"
     ]
    },
    {
     "name": "stderr",
     "output_type": "stream",
     "text": [
      "<timed exec>:36: FutureWarning: The default value of regex will change from True to False in a future version.\n",
      "<timed exec>:38: FutureWarning: The default value of regex will change from True to False in a future version.\n"
     ]
    },
    {
     "name": "stdout",
     "output_type": "stream",
     "text": [
      "DAT_3833_выгрузка_списков_на_обзвон_помощниками_2022-09-15.xlsx  обработан\n",
      "этот месяц окончен\n",
      "\n",
      "done\n",
      "\n",
      "DAT_3940_выгрузка_списков_на_обзвон_помощниками_2022-08-16.xlsx  обработан\n"
     ]
    },
    {
     "name": "stderr",
     "output_type": "stream",
     "text": [
      "<timed exec>:36: FutureWarning: The default value of regex will change from True to False in a future version.\n",
      "<timed exec>:38: FutureWarning: The default value of regex will change from True to False in a future version.\n"
     ]
    },
    {
     "name": "stdout",
     "output_type": "stream",
     "text": [
      "done\n",
      "\n",
      "DAT_3940_выгрузка_списков_на_обзвон_помощниками_2022-08-17.xlsx  обработан\n"
     ]
    },
    {
     "name": "stderr",
     "output_type": "stream",
     "text": [
      "<timed exec>:36: FutureWarning: The default value of regex will change from True to False in a future version.\n",
      "<timed exec>:38: FutureWarning: The default value of regex will change from True to False in a future version.\n"
     ]
    },
    {
     "name": "stdout",
     "output_type": "stream",
     "text": [
      "done\n",
      "\n",
      "DAT_3940_выгрузка_списков_на_обзвон_помощниками_2022-08-18.xlsx  обработан\n"
     ]
    },
    {
     "name": "stderr",
     "output_type": "stream",
     "text": [
      "<timed exec>:36: FutureWarning: The default value of regex will change from True to False in a future version.\n",
      "<timed exec>:38: FutureWarning: The default value of regex will change from True to False in a future version.\n"
     ]
    },
    {
     "name": "stdout",
     "output_type": "stream",
     "text": [
      "done\n",
      "\n",
      "DAT_3940_выгрузка_списков_на_обзвон_помощниками_2022-08-19.xlsx  обработан\n"
     ]
    },
    {
     "name": "stderr",
     "output_type": "stream",
     "text": [
      "<timed exec>:36: FutureWarning: The default value of regex will change from True to False in a future version.\n",
      "<timed exec>:38: FutureWarning: The default value of regex will change from True to False in a future version.\n"
     ]
    },
    {
     "name": "stdout",
     "output_type": "stream",
     "text": [
      "done\n",
      "\n",
      "DAT_3940_выгрузка_списков_на_обзвон_помощниками_2022-08-22.xlsx  обработан\n"
     ]
    },
    {
     "name": "stderr",
     "output_type": "stream",
     "text": [
      "<timed exec>:36: FutureWarning: The default value of regex will change from True to False in a future version.\n",
      "<timed exec>:38: FutureWarning: The default value of regex will change from True to False in a future version.\n"
     ]
    },
    {
     "name": "stdout",
     "output_type": "stream",
     "text": [
      "done\n",
      "\n",
      "DAT_3940_выгрузка_списков_на_обзвон_помощниками_2022-08-23.xlsx  обработан\n"
     ]
    },
    {
     "name": "stderr",
     "output_type": "stream",
     "text": [
      "<timed exec>:36: FutureWarning: The default value of regex will change from True to False in a future version.\n",
      "<timed exec>:38: FutureWarning: The default value of regex will change from True to False in a future version.\n"
     ]
    },
    {
     "name": "stdout",
     "output_type": "stream",
     "text": [
      "done\n",
      "\n",
      "DAT_3940_выгрузка_списков_на_обзвон_помощниками_2022-08-24.xlsx  обработан\n"
     ]
    },
    {
     "name": "stderr",
     "output_type": "stream",
     "text": [
      "<timed exec>:36: FutureWarning: The default value of regex will change from True to False in a future version.\n",
      "<timed exec>:38: FutureWarning: The default value of regex will change from True to False in a future version.\n"
     ]
    },
    {
     "name": "stdout",
     "output_type": "stream",
     "text": [
      "done\n",
      "\n",
      "DAT_3940_выгрузка_списков_на_обзвон_помощниками_2022-08-25.xlsx  обработан\n"
     ]
    },
    {
     "name": "stderr",
     "output_type": "stream",
     "text": [
      "<timed exec>:36: FutureWarning: The default value of regex will change from True to False in a future version.\n",
      "<timed exec>:38: FutureWarning: The default value of regex will change from True to False in a future version.\n"
     ]
    },
    {
     "name": "stdout",
     "output_type": "stream",
     "text": [
      "done\n",
      "\n",
      "DAT_3940_выгрузка_списков_на_обзвон_помощниками_2022-08-26.xlsx  обработан\n"
     ]
    },
    {
     "name": "stderr",
     "output_type": "stream",
     "text": [
      "<timed exec>:36: FutureWarning: The default value of regex will change from True to False in a future version.\n",
      "<timed exec>:38: FutureWarning: The default value of regex will change from True to False in a future version.\n"
     ]
    },
    {
     "name": "stdout",
     "output_type": "stream",
     "text": [
      "done\n",
      "\n",
      "DAT_3940_выгрузка_списков_на_обзвон_помощниками_2022-08-27.xlsx  обработан\n"
     ]
    },
    {
     "name": "stderr",
     "output_type": "stream",
     "text": [
      "<timed exec>:36: FutureWarning: The default value of regex will change from True to False in a future version.\n",
      "<timed exec>:38: FutureWarning: The default value of regex will change from True to False in a future version.\n"
     ]
    },
    {
     "name": "stdout",
     "output_type": "stream",
     "text": [
      "done\n",
      "\n",
      "DAT_3940_выгрузка_списков_на_обзвон_помощниками_2022-08-28.xlsx  обработан\n"
     ]
    },
    {
     "name": "stderr",
     "output_type": "stream",
     "text": [
      "<timed exec>:36: FutureWarning: The default value of regex will change from True to False in a future version.\n",
      "<timed exec>:38: FutureWarning: The default value of regex will change from True to False in a future version.\n"
     ]
    },
    {
     "name": "stdout",
     "output_type": "stream",
     "text": [
      "done\n",
      "\n",
      "DAT_3940_выгрузка_списков_на_обзвон_помощниками_2022-08-29.xlsx  обработан\n"
     ]
    },
    {
     "name": "stderr",
     "output_type": "stream",
     "text": [
      "<timed exec>:36: FutureWarning: The default value of regex will change from True to False in a future version.\n",
      "<timed exec>:38: FutureWarning: The default value of regex will change from True to False in a future version.\n"
     ]
    },
    {
     "name": "stdout",
     "output_type": "stream",
     "text": [
      "done\n",
      "\n",
      "DAT_3940_выгрузка_списков_на_обзвон_помощниками_2022-08-30.xlsx  обработан\n"
     ]
    },
    {
     "name": "stderr",
     "output_type": "stream",
     "text": [
      "<timed exec>:36: FutureWarning: The default value of regex will change from True to False in a future version.\n",
      "<timed exec>:38: FutureWarning: The default value of regex will change from True to False in a future version.\n"
     ]
    },
    {
     "name": "stdout",
     "output_type": "stream",
     "text": [
      "done\n",
      "\n",
      "DAT_3940_выгрузка_списков_на_обзвон_помощниками_2022-08-31.xlsx  обработан\n"
     ]
    },
    {
     "name": "stderr",
     "output_type": "stream",
     "text": [
      "<timed exec>:36: FutureWarning: The default value of regex will change from True to False in a future version.\n",
      "<timed exec>:38: FutureWarning: The default value of regex will change from True to False in a future version.\n"
     ]
    },
    {
     "name": "stdout",
     "output_type": "stream",
     "text": [
      "done\n",
      "\n",
      "DAT_3940_выгрузка_списков_на_обзвон_помощниками_2022-09-01.xlsx  обработан\n"
     ]
    },
    {
     "name": "stderr",
     "output_type": "stream",
     "text": [
      "<timed exec>:36: FutureWarning: The default value of regex will change from True to False in a future version.\n",
      "<timed exec>:38: FutureWarning: The default value of regex will change from True to False in a future version.\n"
     ]
    },
    {
     "name": "stdout",
     "output_type": "stream",
     "text": [
      "done\n",
      "\n",
      "DAT_3940_выгрузка_списков_на_обзвон_помощниками_2022-09-02.xlsx  обработан\n"
     ]
    },
    {
     "name": "stderr",
     "output_type": "stream",
     "text": [
      "<timed exec>:36: FutureWarning: The default value of regex will change from True to False in a future version.\n",
      "<timed exec>:38: FutureWarning: The default value of regex will change from True to False in a future version.\n"
     ]
    },
    {
     "name": "stdout",
     "output_type": "stream",
     "text": [
      "done\n",
      "\n",
      "DAT_3940_выгрузка_списков_на_обзвон_помощниками_2022-09-03.xlsx  обработан\n"
     ]
    },
    {
     "name": "stderr",
     "output_type": "stream",
     "text": [
      "<timed exec>:36: FutureWarning: The default value of regex will change from True to False in a future version.\n",
      "<timed exec>:38: FutureWarning: The default value of regex will change from True to False in a future version.\n"
     ]
    },
    {
     "name": "stdout",
     "output_type": "stream",
     "text": [
      "done\n",
      "\n",
      "DAT_3940_выгрузка_списков_на_обзвон_помощниками_2022-09-04.xlsx  обработан\n"
     ]
    },
    {
     "name": "stderr",
     "output_type": "stream",
     "text": [
      "<timed exec>:36: FutureWarning: The default value of regex will change from True to False in a future version.\n",
      "<timed exec>:38: FutureWarning: The default value of regex will change from True to False in a future version.\n"
     ]
    },
    {
     "name": "stdout",
     "output_type": "stream",
     "text": [
      "done\n",
      "\n",
      "DAT_3940_выгрузка_списков_на_обзвон_помощниками_2022-09-05.xlsx  обработан\n"
     ]
    },
    {
     "name": "stderr",
     "output_type": "stream",
     "text": [
      "<timed exec>:36: FutureWarning: The default value of regex will change from True to False in a future version.\n",
      "<timed exec>:38: FutureWarning: The default value of regex will change from True to False in a future version.\n"
     ]
    },
    {
     "name": "stdout",
     "output_type": "stream",
     "text": [
      "done\n",
      "\n",
      "DAT_3940_выгрузка_списков_на_обзвон_помощниками_2022-09-06.xlsx  обработан\n"
     ]
    },
    {
     "name": "stderr",
     "output_type": "stream",
     "text": [
      "<timed exec>:36: FutureWarning: The default value of regex will change from True to False in a future version.\n",
      "<timed exec>:38: FutureWarning: The default value of regex will change from True to False in a future version.\n"
     ]
    },
    {
     "name": "stdout",
     "output_type": "stream",
     "text": [
      "done\n",
      "\n",
      "DAT_3940_выгрузка_списков_на_обзвон_помощниками_2022-09-07.xlsx  обработан\n"
     ]
    },
    {
     "name": "stderr",
     "output_type": "stream",
     "text": [
      "<timed exec>:36: FutureWarning: The default value of regex will change from True to False in a future version.\n",
      "<timed exec>:38: FutureWarning: The default value of regex will change from True to False in a future version.\n"
     ]
    },
    {
     "name": "stdout",
     "output_type": "stream",
     "text": [
      "done\n",
      "\n",
      "DAT_3940_выгрузка_списков_на_обзвон_помощниками_2022-09-08.xlsx  обработан\n"
     ]
    },
    {
     "name": "stderr",
     "output_type": "stream",
     "text": [
      "<timed exec>:36: FutureWarning: The default value of regex will change from True to False in a future version.\n",
      "<timed exec>:38: FutureWarning: The default value of regex will change from True to False in a future version.\n"
     ]
    },
    {
     "name": "stdout",
     "output_type": "stream",
     "text": [
      "done\n",
      "\n",
      "DAT_3940_выгрузка_списков_на_обзвон_помощниками_2022-09-09.xlsx  обработан\n"
     ]
    },
    {
     "name": "stderr",
     "output_type": "stream",
     "text": [
      "<timed exec>:36: FutureWarning: The default value of regex will change from True to False in a future version.\n",
      "<timed exec>:38: FutureWarning: The default value of regex will change from True to False in a future version.\n"
     ]
    },
    {
     "name": "stdout",
     "output_type": "stream",
     "text": [
      "done\n",
      "\n",
      "DAT_3940_выгрузка_списков_на_обзвон_помощниками_2022-09-12.xlsx  обработан\n"
     ]
    },
    {
     "name": "stderr",
     "output_type": "stream",
     "text": [
      "<timed exec>:36: FutureWarning: The default value of regex will change from True to False in a future version.\n",
      "<timed exec>:38: FutureWarning: The default value of regex will change from True to False in a future version.\n"
     ]
    },
    {
     "name": "stdout",
     "output_type": "stream",
     "text": [
      "done\n",
      "\n",
      "DAT_3940_выгрузка_списков_на_обзвон_помощниками_2022-09-13.xlsx  обработан\n"
     ]
    },
    {
     "name": "stderr",
     "output_type": "stream",
     "text": [
      "<timed exec>:36: FutureWarning: The default value of regex will change from True to False in a future version.\n",
      "<timed exec>:38: FutureWarning: The default value of regex will change from True to False in a future version.\n"
     ]
    },
    {
     "name": "stdout",
     "output_type": "stream",
     "text": [
      "done\n",
      "\n",
      "DAT_3940_выгрузка_списков_на_обзвон_помощниками_2022-09-14.xlsx  обработан\n"
     ]
    },
    {
     "name": "stderr",
     "output_type": "stream",
     "text": [
      "<timed exec>:36: FutureWarning: The default value of regex will change from True to False in a future version.\n",
      "<timed exec>:38: FutureWarning: The default value of regex will change from True to False in a future version.\n"
     ]
    },
    {
     "name": "stdout",
     "output_type": "stream",
     "text": [
      "done\n",
      "\n",
      "DAT_3940_выгрузка_списков_на_обзвон_помощниками_2022-09-15.xlsx  обработан\n"
     ]
    },
    {
     "name": "stderr",
     "output_type": "stream",
     "text": [
      "<timed exec>:36: FutureWarning: The default value of regex will change from True to False in a future version.\n",
      "<timed exec>:38: FutureWarning: The default value of regex will change from True to False in a future version.\n"
     ]
    },
    {
     "name": "stdout",
     "output_type": "stream",
     "text": [
      "этот месяц окончен\n",
      "\n",
      "done\n",
      "\n",
      "DAT_4059_выгрузка_списков_на_обзвон_помощниками_2022-09-02.xlsx  обработан\n"
     ]
    },
    {
     "name": "stderr",
     "output_type": "stream",
     "text": [
      "<timed exec>:36: FutureWarning: The default value of regex will change from True to False in a future version.\n",
      "<timed exec>:38: FutureWarning: The default value of regex will change from True to False in a future version.\n"
     ]
    },
    {
     "name": "stdout",
     "output_type": "stream",
     "text": [
      "done\n",
      "\n"
     ]
    },
    {
     "name": "stderr",
     "output_type": "stream",
     "text": [
      "<timed exec>:36: FutureWarning: The default value of regex will change from True to False in a future version.\n",
      "<timed exec>:38: FutureWarning: The default value of regex will change from True to False in a future version.\n"
     ]
    },
    {
     "name": "stdout",
     "output_type": "stream",
     "text": [
      "DAT_4059_выгрузка_списков_на_обзвон_помощниками_2022-09-05.xlsx  обработан\n",
      "done\n",
      "\n"
     ]
    },
    {
     "name": "stderr",
     "output_type": "stream",
     "text": [
      "<timed exec>:36: FutureWarning: The default value of regex will change from True to False in a future version.\n",
      "<timed exec>:38: FutureWarning: The default value of regex will change from True to False in a future version.\n"
     ]
    },
    {
     "name": "stdout",
     "output_type": "stream",
     "text": [
      "DAT_4059_выгрузка_списков_на_обзвон_помощниками_2022-09-06.xlsx  обработан\n",
      "done\n",
      "\n"
     ]
    },
    {
     "name": "stderr",
     "output_type": "stream",
     "text": [
      "<timed exec>:36: FutureWarning: The default value of regex will change from True to False in a future version.\n",
      "<timed exec>:38: FutureWarning: The default value of regex will change from True to False in a future version.\n"
     ]
    },
    {
     "name": "stdout",
     "output_type": "stream",
     "text": [
      "DAT_4059_выгрузка_списков_на_обзвон_помощниками_2022-09-07.xlsx  обработан\n",
      "done\n",
      "\n"
     ]
    },
    {
     "name": "stderr",
     "output_type": "stream",
     "text": [
      "<timed exec>:36: FutureWarning: The default value of regex will change from True to False in a future version.\n",
      "<timed exec>:38: FutureWarning: The default value of regex will change from True to False in a future version.\n"
     ]
    },
    {
     "name": "stdout",
     "output_type": "stream",
     "text": [
      "DAT_4059_выгрузка_списков_на_обзвон_помощниками_2022-09-08.xlsx  обработан\n",
      "done\n",
      "\n"
     ]
    },
    {
     "name": "stderr",
     "output_type": "stream",
     "text": [
      "<timed exec>:36: FutureWarning: The default value of regex will change from True to False in a future version.\n",
      "<timed exec>:38: FutureWarning: The default value of regex will change from True to False in a future version.\n"
     ]
    },
    {
     "name": "stdout",
     "output_type": "stream",
     "text": [
      "DAT_4059_выгрузка_списков_на_обзвон_помощниками_2022-09-09.xlsx  обработан\n",
      "done\n",
      "\n"
     ]
    },
    {
     "name": "stderr",
     "output_type": "stream",
     "text": [
      "<timed exec>:36: FutureWarning: The default value of regex will change from True to False in a future version.\n",
      "<timed exec>:38: FutureWarning: The default value of regex will change from True to False in a future version.\n"
     ]
    },
    {
     "name": "stdout",
     "output_type": "stream",
     "text": [
      "DAT_4059_выгрузка_списков_на_обзвон_помощниками_2022-09-12.xlsx  обработан\n",
      "done\n",
      "\n"
     ]
    },
    {
     "name": "stderr",
     "output_type": "stream",
     "text": [
      "<timed exec>:36: FutureWarning: The default value of regex will change from True to False in a future version.\n",
      "<timed exec>:38: FutureWarning: The default value of regex will change from True to False in a future version.\n"
     ]
    },
    {
     "name": "stdout",
     "output_type": "stream",
     "text": [
      "DAT_4059_выгрузка_списков_на_обзвон_помощниками_2022-09-13.xlsx  обработан\n",
      "done\n",
      "\n"
     ]
    },
    {
     "name": "stderr",
     "output_type": "stream",
     "text": [
      "<timed exec>:36: FutureWarning: The default value of regex will change from True to False in a future version.\n",
      "<timed exec>:38: FutureWarning: The default value of regex will change from True to False in a future version.\n"
     ]
    },
    {
     "name": "stdout",
     "output_type": "stream",
     "text": [
      "DAT_4059_выгрузка_списков_на_обзвон_помощниками_2022-09-14.xlsx  обработан\n",
      "done\n",
      "\n"
     ]
    },
    {
     "name": "stderr",
     "output_type": "stream",
     "text": [
      "<timed exec>:36: FutureWarning: The default value of regex will change from True to False in a future version.\n",
      "<timed exec>:38: FutureWarning: The default value of regex will change from True to False in a future version.\n"
     ]
    },
    {
     "name": "stdout",
     "output_type": "stream",
     "text": [
      "DAT_4059_выгрузка_списков_на_обзвон_помощниками_2022-09-15.xlsx  обработан\n",
      "этот месяц окончен\n",
      "\n",
      "Конец\n",
      "CPU times: total: 49min 49s\n",
      "Wall time: 49min 58s\n"
     ]
    }
   ],
   "source": [
    "%%time\n",
    "# Блок,который собирает к данному числу данные из ЕМИАС по emiasid и статусам \"Умер\", \"Госпитализирован\", \"Смена МО\"\n",
    "# \"Некорректный номер\"\n",
    "# тут ничего менять не нужно, нужно изменить словарь dat_month и добавить туда новые вводные либо отключить старые\n",
    "\n",
    "for month, dat_number in dat_month.items():\n",
    "    \n",
    "    distinct_month_patients = pd.DataFrame(columns=['emiasid', 'date', 'status', 'phone'])\n",
    "    distinct_month_patients_current_statuses_path = os.path.join(patients_current_pre_statuses_path, \n",
    "                                                                 rf'_{month}_patients_current_statuses_{today_y_m_d}.xlsx')\n",
    "\n",
    "    \n",
    "    for patients_emias_data_file in os.listdir(emias_data_path):\n",
    "                \n",
    "        \n",
    "        if dat_number in patients_emias_data_file and '.xlsx' in patients_emias_data_file and \\\n",
    "        not '~$' in patients_emias_data_file:\n",
    "            \n",
    "            if 'august' in month:\n",
    "                rename_mo = rename_mo_till_august.copy()\n",
    "            elif 'september' in month:\n",
    "                rename_mo = rename_mo_from_september.copy()\n",
    "            current_mo = set(rename_mo.values())\n",
    "            current_mo.add(np.NaN)\n",
    "            \n",
    "            \n",
    "            patients_emias_data = \\\n",
    "            pd.read_excel(os.path.join(emias_data_path, patients_emias_data_file), \n",
    "                                                usecols=['mo', 'emiasid', 'phone', 'doctor_fio', 'diagnoz_hospital', 'Умер'])\n",
    "            \n",
    "            patients_emias_data['mo'] = patients_emias_data['mo'].apply(lambda x: rename_mo[x] if x in set(rename_mo.keys())\n",
    "                                                                       else x)\n",
    "            print('done')\n",
    "            print()\n",
    "            \n",
    "            patients_emias_data = patients_emias_data.rename(columns={'Умер': 'died'})\n",
    "            patients_emias_data['emiasid'] = patients_emias_data['emiasid'].astype(str).str.replace('\\.0', '')\n",
    "            patients_emias_data = patients_emias_data.sort_values(by='emiasid').reset_index(drop=True)\n",
    "            patients_emias_data['phone'] = patients_emias_data['phone'].astype(str).str.replace('\\.0', '')\n",
    "            \n",
    "            \n",
    "            \n",
    "#             if patients_emias_data[~patients_emias_data.emiasid.isin(distinct_month_patients.emiasid)].shape[0] != 0:\n",
    "                \n",
    "#                 distinct_month_patients = pd.concat([distinct_month_patients, patients_emias_data[~patients_emias_data \\\n",
    "#                 .emiasid.isin(distinct_month_patients.emiasid)][['emiasid', 'doctor_fio', 'mo', 'phone']]])\n",
    "                \n",
    "#                 distinct_month_patients = distinct_month_patients.sort_values(by='emiasid').reset_index(drop=True)\n",
    "\n",
    "#                 distinct_month_patients['date'] = distinct_month_patients['date'].fillna(dt.date.fromtimestamp(os.path \\\n",
    "#                 .getctime(os.path.join(emias_data_path,patients_emias_data_file))))\n",
    "                \n",
    "#                 distinct_month_patients['status'] = distinct_month_patients['status'].fillna('без статуса')\n",
    "\n",
    "            \n",
    "            distinct_month_patients = pd.concat([distinct_month_patients, patients_emias_data[['emiasid', 'doctor_fio', \n",
    "            'mo', 'phone']]]).drop_duplicates(subset='emiasid', keep='last')\n",
    "                   \n",
    "\n",
    "            died_patients = set(patients_emias_data[patients_emias_data.died == 'да'].emiasid)\n",
    "            died_patients.add('22748553')\n",
    "            died_patients.add('18525757')\n",
    "            died_patients.add('17279632')\n",
    "            died_patients.add('219042416')\n",
    "            died_patients.add('21039599')\n",
    "            died_patients.add('808987316')\n",
    "            died_patients.add('23903336')\n",
    "            died_patients.add('18525757')\n",
    "            died_patients.add('30000009075623')\n",
    "            died_patients.add('30868901')\n",
    "            \n",
    "            wrong_number_patients = set(patients_emias_data[patients_emias_data.phone.isin(wrong_numbers)].emiasid)\n",
    "            \n",
    "            hospitalized_patients = set(patients_emias_data[~patients_emias_data.diagnoz_hospital.isna()].emiasid)\n",
    "            \n",
    "            condition_for_died_patients = (distinct_month_patients.emiasid.isin(died_patients) &\n",
    "            (distinct_month_patients.status != 'Умер'))\n",
    "            distinct_month_patients.loc[condition_for_died_patients, 'date'] = dt.date.fromtimestamp(\n",
    "                    os.path.getctime(os.path.join(emias_data_path,patients_emias_data_file)))\n",
    "            distinct_month_patients.loc[condition_for_died_patients, 'status'] = 'Умер'\n",
    "            \n",
    "\n",
    "            condition_for_hospitalization = (distinct_month_patients.emiasid.isin(hospitalized_patients) &\n",
    "            (distinct_month_patients.status != 'Умер'))\n",
    "            distinct_month_patients.loc[condition_for_hospitalization, 'date'] = dt.date.fromtimestamp(\n",
    "                    os.path.getctime(os.path.join(emias_data_path,patients_emias_data_file)))\n",
    "            distinct_month_patients.loc[condition_for_hospitalization, 'status'] = 'Госпитализирован'\n",
    "            \n",
    "            \n",
    "            common_patients_emias_data = set(patients_emias_data.emiasid) & set(distinct_month_patients.emiasid)\n",
    "            \n",
    "            \n",
    "            \n",
    "\n",
    "\n",
    "#             distinct_month_patients = distinct_month_patients.rename(columns={'doctor_fio': 'old_doctor_fio', 'mo':'old_mo',\n",
    "#                                                                              'phone'}) \\\n",
    "#             .merge(patients_emias_data[['emiasid', 'doctor_fio', 'mo']], on='emiasid', how='left' \\\n",
    "#             .rename(columns={'doctor_fio': 'new_doctor_fio', 'mo':'new_mo'}))\n",
    "            \n",
    "#             distinct_month_patients.loc[~distinct_month_patients['new_doctor_fio'].isna(), 'doctor_fio'] = \\\n",
    "#             distinct_month_patients.loc[~distinct_month_patients['new_doctor_fio'].isna(), 'new_doctor_fio']\n",
    "#             distinct_month_patients.loc[distinct_month_patients['new_doctor_fio'].isna(), 'doctor_fio'] = \\\n",
    "#             distinct_month_patients.loc[distinct_month_patients['new_doctor_fio'].isna(), 'old_doctor_fio']\n",
    "            \n",
    "#             distinct_month_patients.loc[~distinct_month_patients['new_mo'].isna(), 'mo'] = \\\n",
    "#             distinct_month_patients.loc[~distinct_month_patients['new_mo'].isna(), 'new_mo']\n",
    "#             distinct_month_patients.loc[distinct_month_patients['new_mo'].isna(), 'mo'] = \\\n",
    "#             distinct_month_patients.loc[distinct_month_patients['new_mo'].isna(), 'old_mo']\n",
    "            \n",
    "            \n",
    "#             distinct_month_patients = distinct_month_patients.drop(columns=['old_doctor_fio', 'new_doctor_fio', 'old_mo',\n",
    "#                                                                            'new_mo'])\n",
    "            \n",
    "            \n",
    "            \n",
    "            distinct_month_patients.loc[~distinct_month_patients.mo.isin(current_mo) & \n",
    "                                distinct_month_patients.emiasid.isin(common_patients_emias_data), 'date'] = \\\n",
    "            dt.date.fromtimestamp(os.path.getctime(os.path.join(emias_data_path,patients_emias_data_file)))\n",
    "            \n",
    "            distinct_month_patients.loc[~distinct_month_patients.mo.isin(current_mo) & \n",
    "                                distinct_month_patients.emiasid.isin(common_patients_emias_data), 'doctor_fio'] = 'Смена МО'\n",
    "            distinct_month_patients.loc[~distinct_month_patients.mo.isin(current_mo) & \n",
    "                                distinct_month_patients.emiasid.isin(common_patients_emias_data), 'status'] = 'Смена МО'\n",
    "            \n",
    "            \n",
    "            \n",
    "\n",
    "            print(patients_emias_data_file, ' обработан')\n",
    "    \n",
    "    \n",
    "\n",
    "    distinct_month_patients['phone_1'] = distinct_month_patients['phone'].apply(find_phone_number)\n",
    "    condition_for_wrong_number = ((distinct_month_patients.phone_1.isna()) | (distinct_month_patients.phone.isin(\n",
    "    wrong_numbers))) & (~distinct_month_patients.status.isin({'Умер', 'Госпитализирован', 'Смена МО'}))\n",
    "                                 \n",
    "    \n",
    "    distinct_month_patients.loc[condition_for_wrong_number, 'status'] = 'Отсутствует номер'     \n",
    "    distinct_month_patients = \\\n",
    "    distinct_month_patients[['emiasid' , 'date', 'status', 'doctor_fio', 'mo', 'phone_1']] \\\n",
    "    .rename(columns={'phone_1': 'phone_number'})\n",
    "    \n",
    "    \n",
    "    distinct_month_patients.to_excel(distinct_month_patients_current_statuses_path, index=False)\n",
    "    \n",
    "    print('этот месяц окончен')\n",
    "    print()\n",
    "\n",
    "print('Конец')"
   ]
  },
  {
   "cell_type": "code",
   "execution_count": null,
   "id": "6fe4c97f",
   "metadata": {},
   "outputs": [],
   "source": []
  },
  {
   "cell_type": "code",
   "execution_count": 23,
   "id": "4bcdfba3",
   "metadata": {},
   "outputs": [],
   "source": [
    "calls_data_path = rf'calls_data_20220802_today.xlsx'"
   ]
  },
  {
   "cell_type": "code",
   "execution_count": 24,
   "id": "9f1c8691",
   "metadata": {},
   "outputs": [],
   "source": [
    "calls_data_reading = pd.read_excel(calls_data_path)\n",
    "calls_data_reading = calls_data_reading.rename(columns=column_names)"
   ]
  },
  {
   "cell_type": "code",
   "execution_count": 25,
   "id": "c201fc54",
   "metadata": {},
   "outputs": [
    {
     "name": "stderr",
     "output_type": "stream",
     "text": [
      "C:\\Users\\murad_satabaev\\AppData\\Local\\Temp\\ipykernel_5748\\3755439718.py:3: FutureWarning: The default value of regex will change from True to False in a future version.\n",
      "  calls_data_reading['emiasid'] = calls_data_reading['emiasid'].astype(str).str.replace('\\.0', '')\n"
     ]
    }
   ],
   "source": [
    "calls_data_reading['call_date'] = calls_data_reading['call_date'].apply(lambda x: pd.to_datetime(x, dayfirst=True,\n",
    "                                                                                                errors='coerce').date())\n",
    "calls_data_reading['emiasid'] = calls_data_reading['emiasid'].astype(str).str.replace('\\.0', '')"
   ]
  },
  {
   "cell_type": "code",
   "execution_count": 26,
   "id": "e5d26796",
   "metadata": {},
   "outputs": [
    {
     "name": "stderr",
     "output_type": "stream",
     "text": [
      "C:\\Users\\murad_satabaev\\AppData\\Local\\Temp\\ipykernel_5748\\234812645.py:2: FutureWarning: The default value of regex will change from True to False in a future version.\n",
      "  august_to_september_patients['emiasid'] = august_to_september_patients['emiasid'].astype(str).str.replace('\\.0', '')\n"
     ]
    }
   ],
   "source": [
    "august_to_september_patients = pd.read_excel('all_august_to_september_emiasid.xlsx')\n",
    "august_to_september_patients['emiasid'] = august_to_september_patients['emiasid'].astype(str).str.replace('\\.0', '')"
   ]
  },
  {
   "cell_type": "code",
   "execution_count": null,
   "id": "5b8a442b",
   "metadata": {},
   "outputs": [],
   "source": []
  },
  {
   "cell_type": "code",
   "execution_count": null,
   "id": "d8c936ad",
   "metadata": {},
   "outputs": [],
   "source": []
  },
  {
   "cell_type": "code",
   "execution_count": 27,
   "id": "b8a04cad",
   "metadata": {
    "scrolled": false
   },
   "outputs": [
    {
     "name": "stdout",
     "output_type": "stream",
     "text": [
      "august\n",
      "2022-08-02\n"
     ]
    },
    {
     "name": "stderr",
     "output_type": "stream",
     "text": [
      "<timed exec>:16: FutureWarning: The default value of regex will change from True to False in a future version.\n",
      "<timed exec>:26: FutureWarning: The default value of regex will change from True to False in a future version.\n",
      "<timed exec>:469: FutureWarning: The default value of regex will change from True to False in a future version.\n"
     ]
    },
    {
     "name": "stdout",
     "output_type": "stream",
     "text": [
      "august_additional\n",
      "2022-08-02\n"
     ]
    },
    {
     "name": "stderr",
     "output_type": "stream",
     "text": [
      "<timed exec>:16: FutureWarning: The default value of regex will change from True to False in a future version.\n",
      "<timed exec>:26: FutureWarning: The default value of regex will change from True to False in a future version.\n",
      "<timed exec>:469: FutureWarning: The default value of regex will change from True to False in a future version.\n"
     ]
    },
    {
     "name": "stdout",
     "output_type": "stream",
     "text": [
      "september\n",
      "2022-09-02\n"
     ]
    },
    {
     "name": "stderr",
     "output_type": "stream",
     "text": [
      "<timed exec>:16: FutureWarning: The default value of regex will change from True to False in a future version.\n",
      "<timed exec>:26: FutureWarning: The default value of regex will change from True to False in a future version.\n",
      "<timed exec>:469: FutureWarning: The default value of regex will change from True to False in a future version.\n"
     ]
    },
    {
     "name": "stdout",
     "output_type": "stream",
     "text": [
      "CPU times: total: 59 s\n",
      "Wall time: 1min 4s\n"
     ]
    }
   ],
   "source": [
    "%%time\n",
    "\n",
    "august_patients_current_statuses = pd.DataFrame()\n",
    "september_patients_current_statuses = pd.DataFrame()\n",
    "\n",
    "for month, dat_number in dat_month.items():\n",
    "    \n",
    "    if 'september' in month:\n",
    "        calls_data = calls_data_reading[calls_data_reading.call_date >= dt.date(2022, 9, 2)].reset_index(drop=True).copy()\n",
    "    else:\n",
    "        calls_data = calls_data_reading.copy()\n",
    "    \n",
    "#     calls_data = calls_data_reading[calls_data_reading.call_date >= dt.date(2022, 9, 2)].reset_index(drop=True).copy()\n",
    "    \n",
    "    print(month)\n",
    "    print(calls_data.call_date.unique()[0])\n",
    "    \n",
    "    calls_data['emiasid'] = calls_data['emiasid'].astype(str).str.replace('\\.0', '')\n",
    "    \n",
    "    calls_data = calls_data[['mo', 'mu', 'emiasid', 'phone_number', 'login', 'call_date', 'call_result', 'talk_result', \n",
    "                         'next_call_date', 'comment']]\n",
    "    \n",
    "    month_patients_data_reading = pd.read_excel(os.path.join(patients_current_pre_statuses_path,\n",
    "                                                             rf'_{month}_patients_current_statuses_{today_y_m_d}.xlsx'))\n",
    "    month_patients_data = month_patients_data_reading.copy()\n",
    "\n",
    "\n",
    "    month_patients_data['emiasid'] = month_patients_data['emiasid'].astype(str).str.replace('\\.0', '')\n",
    "    month_patients_data['date'] = month_patients_data['date'].apply(lambda x: pd.to_datetime(x).date())\n",
    "#     month_patients_data['next_call_date'] = month_patients_data['next_call_date'] \\\n",
    "#     .apply(lambda x: pd.to_datetime(x).date())\n",
    "\n",
    "    month_patients_medical_attachment_info = month_patients_data[['emiasid', 'doctor_fio', 'mo', 'phone_number']]    \n",
    "    month_patients_data = month_patients_data[['emiasid', 'date', 'status']] \n",
    "\n",
    "    month_patients_calls_data = calls_data[calls_data.emiasid.isin(month_patients_data.emiasid)] \\\n",
    "    .reset_index(drop=True)\n",
    "\n",
    "\n",
    "    # 'Исключить из задания'\n",
    "\n",
    "\n",
    "    # 'Патронаж'\n",
    "    month_patron_patients = month_patients_calls_data[\n",
    "    month_patients_calls_data.talk_result == 'Патронажный пациент'] \\\n",
    "    .drop_duplicates(subset='emiasid')[['emiasid', 'call_date', 'talk_result', 'comment', \n",
    "    'next_call_date']].rename(columns={'call_date': 'date', 'talk_result': 'status', \n",
    "    'comment': 'old_comment'})\n",
    "    month_patron_patients['status'] = month_patron_patients['status'] \\\n",
    "    .apply(lambda x: 'Патронаж')\n",
    "    condition_for_month_patron = (month_patients_data.emiasid.isin(month_patron_patients.emiasid) &\n",
    "    (~month_patients_data.status.isin({'Умер', 'Госпитализирован', 'Смена МО'})))\n",
    "    month_patients_data = pd.concat([month_patients_data.drop(index=month_patients_data[\n",
    "        condition_for_month_patron].index), month_patron_patients[month_patron_patients.emiasid.isin(\n",
    "        month_patients_data[condition_for_month_patron].emiasid)]])\n",
    "    month_patients_data = month_patients_data.reset_index(drop=True)\n",
    "\n",
    "\n",
    "\n",
    "    # 'Некорректный номер'\n",
    "    month_wrong_number_patients = month_patients_calls_data[month_patients_calls_data.call_result == 'Номер не существует'] \\\n",
    "    .drop_duplicates(subset='emiasid')[['emiasid', 'call_date', 'call_result', 'comment', 'next_call_date']] \\\n",
    "    .rename(columns={'call_date': 'date', 'call_result': 'status', 'comment': 'old_comment'})\n",
    "    month_wrong_number_patients['status'] = 'Некорректный номер'\n",
    "    condition_for_month_wrong_number = (month_patients_data.emiasid.isin(month_wrong_number_patients.emiasid) &\n",
    "    (~month_patients_data.status.isin({'Умер', 'Госпитализирован', 'Смена МО', 'Патронаж'}) ))\n",
    "    month_patients_data = pd.concat(\n",
    "        [month_patients_data.drop(index=month_patients_data[condition_for_month_wrong_number].index), \n",
    "         month_wrong_number_patients[month_wrong_number_patients.emiasid.isin(month_patients_data[\n",
    "        condition_for_month_wrong_number].emiasid)]])\n",
    "    month_patients_data = month_patients_data.reset_index(drop=True)\n",
    "\n",
    "\n",
    "\n",
    "    # 'Наблюдается в частной, федеральной или ведомственной мед организации'\n",
    "    month_another_mo_patients = month_patients_calls_data[\n",
    "        month_patients_calls_data.talk_result == 'Наблюдается в частной, федеральной или ведомственной мед организации'] \\\n",
    "    .drop_duplicates(subset='emiasid')[['emiasid', 'call_date', 'talk_result', 'comment', 'next_call_date']] \\\n",
    "    .rename(columns={'call_date': 'date', 'talk_result': 'status', 'comment': 'old_comment'})\n",
    "    month_another_mo_patients['status'] = month_another_mo_patients['status'].apply(lambda x: 'Иная МО')\n",
    "    condition_for_month_another_mo = (month_patients_data.emiasid.isin(month_another_mo_patients.emiasid)\n",
    "    & (~month_patients_data.status.isin({'Умер', 'Госпитализирован', 'Смена МО', 'Патронаж', 'Некорректный номер',\n",
    "                                       'Отсутствует номер'})))\n",
    "    month_patients_data = pd.concat([month_patients_data.drop(index=month_patients_data[\n",
    "    condition_for_month_another_mo].index), month_another_mo_patients[\n",
    "    month_another_mo_patients.emiasid.isin(month_patients_data[\n",
    "    condition_for_month_another_mo].emiasid)]])\n",
    "    month_patients_data = month_patients_data.reset_index(drop=True)\n",
    "\n",
    "\n",
    "\n",
    "    # 'Живет не в Москве'\n",
    "    month_another_city_patients = month_patients_calls_data[\n",
    "        month_patients_calls_data.talk_result == 'Живет не в Москве (России)'] \\\n",
    "    .drop_duplicates(subset='emiasid')[['emiasid', 'call_date', 'talk_result', 'comment', 'next_call_date']] \\\n",
    "    .rename(columns={'call_date': 'date', 'talk_result': 'status', 'comment': 'old_comment'})\n",
    "    month_another_city_patients['status'] = month_another_city_patients['status'].apply(lambda x: 'Живет не в Москве')\n",
    "    condition_for_month_another_city = (month_patients_data.emiasid.isin(month_another_city_patients.emiasid) &\n",
    "    (~month_patients_data.status.isin({'Умер', 'Госпитализирован', 'Смена МО', 'Патронаж', 'Некорректный номер', 'Иная МО',\n",
    "                                       'Отсутствует номер'})))\n",
    "    month_patients_data = pd.concat([month_patients_data.drop(index=month_patients_data[\n",
    "        condition_for_month_another_city].index), month_another_city_patients[\n",
    "        month_another_city_patients.emiasid.isin(month_patients_data[condition_for_month_another_city] \\\n",
    "    .emiasid)]])\n",
    "    month_patients_data = month_patients_data.reset_index(drop=True)\n",
    "\n",
    "\n",
    "    # 'Будет в Москве в другом месяце'\n",
    "    month_return_another_month_patients = month_patients_calls_data[\n",
    "        month_patients_calls_data.talk_result == 'Будет в Москве в другом месяце'] \\\n",
    "    .drop_duplicates(subset='emiasid')[['emiasid', 'call_date', 'talk_result', 'comment', 'next_call_date']] \\\n",
    "    .rename(columns={'call_date': 'date', 'talk_result': 'status', 'comment': 'old_comment'})\n",
    "    month_return_another_month_patients['status'] = month_return_another_month_patients['status'] \\\n",
    "    .apply(lambda x: 'Будет в Москве в другом месяце')\n",
    "    condition_for_month_return_another_month = (month_patients_data.emiasid.isin(\n",
    "        month_return_another_month_patients.emiasid) & (~month_patients_data.status.isin({\n",
    "        'Умер', 'Госпитализирован', 'Смена МО', 'Патронаж', 'Некорректный номер', 'Иная МО', 'Живет не в Москве',\n",
    "                                       'Отсутствует номер'})))\n",
    "    month_patients_data = pd.concat([month_patients_data.drop(index=month_patients_data[\n",
    "        condition_for_month_return_another_month].index), \n",
    "    month_return_another_month_patients[month_return_another_month_patients.emiasid.isin(\n",
    "        month_patients_data[condition_for_month_return_another_month].emiasid)]])\n",
    "    month_patients_data = month_patients_data.reset_index(drop=True)\n",
    "\n",
    "\n",
    "\n",
    "    # 'Пациент отрицает диагноз'\n",
    "    month_reject_diagnosis_patients = month_patients_calls_data[\n",
    "        month_patients_calls_data.talk_result == 'Нет такого диагноза у пациента'] \\\n",
    "    .drop_duplicates(subset='emiasid')[['emiasid', 'call_date', 'talk_result', 'comment', 'next_call_date']] \\\n",
    "    .rename(columns={'call_date': 'date', 'talk_result': 'status', 'comment': 'old_comment'})\n",
    "    month_reject_diagnosis_patients['status'] = month_reject_diagnosis_patients['status'] \\\n",
    "    .apply(lambda x: 'Пациент отрицает диагноз')\n",
    "    condition_for_month_diagnosis_rejection = (month_patients_data.emiasid.isin(\n",
    "        month_reject_diagnosis_patients.emiasid) & (~month_patients_data.status.isin({'Умер', 'Госпитализирован', 'Смена МО', \n",
    "    'Патронаж', 'Некорректный номер', 'Иная МО', 'Живет не в Москве', 'Будет в Москве в другом месяце',\n",
    "                                       'Отсутствует номер'})))\n",
    "    month_patients_data = pd.concat([month_patients_data.drop(index=month_patients_data[\n",
    "        condition_for_month_diagnosis_rejection].index), \n",
    "    month_reject_diagnosis_patients[month_reject_diagnosis_patients.emiasid.isin(month_patients_data[\n",
    "        condition_for_month_diagnosis_rejection].emiasid)]])\n",
    "    month_patients_data = month_patients_data.reset_index(drop=True)\n",
    "\n",
    "\n",
    "    # 'Cнят с ДН'\n",
    "    month_not_in_dn_patients = month_patients_calls_data[\n",
    "        month_patients_calls_data.talk_result == 'Диагноз ранее был, но с ДН снят'] \\\n",
    "    .drop_duplicates(subset='emiasid')[['emiasid', 'call_date', 'talk_result', 'comment', 'next_call_date']] \\\n",
    "    .rename(columns={'call_date': 'date', 'talk_result': 'status', 'comment': 'old_comment'})\n",
    "    month_not_in_dn_patients['status'] = month_not_in_dn_patients['status'] \\\n",
    "    .apply(lambda x: 'Cнят с ДН')\n",
    "    condition_for_month_not_in_dn = (month_patients_data.emiasid.isin(month_not_in_dn_patients.emiasid) &\n",
    "    (~month_patients_data.status.isin({'Умер', 'Госпитализирован', 'Смена МО', 'Патронаж', 'Некорректный номер', \n",
    "    'Иная МО', 'Живет не в Москве', 'Будет в Москве в другом месяце', 'Пациент отрицает диагноз'})))\n",
    "    month_patients_data = pd.concat([month_patients_data.drop(index=month_patients_data[\n",
    "        condition_for_month_not_in_dn].index), \n",
    "    month_not_in_dn_patients[month_not_in_dn_patients.emiasid.isin(month_patients_data[\n",
    "        condition_for_month_not_in_dn].emiasid)]])\n",
    "    month_patients_data = month_patients_data.reset_index(drop=True)\n",
    "\n",
    "\n",
    "    #  На третий цикл \n",
    "\n",
    "    \n",
    "    # 'Запишется самостоятельно' .lower()\n",
    "    month_patients_calls_data_2 = month_patients_calls_data.copy()\n",
    "    \n",
    "    \n",
    "    month_patients_calls_data_2['talk_result'] = month_patients_calls_data_2['comment'].apply(lambda x: \n",
    "    'Запишется самостоятельно' if ('сам' in str(x).lower() and 'зап' in str(x).lower()) else x) \n",
    "    \n",
    "    \n",
    "    month_patients_calls_data_2.loc[month_patients_calls_data_2.talk_result == 'Запишется самостоятельно',\n",
    "    'call_result'] = 'Запишется самостоятельно'\n",
    "    month_self_record = month_patients_calls_data_2[month_patients_calls_data_2.call_result == \\\n",
    "    'Запишется самостоятельно'].drop_duplicates(subset='emiasid', keep='last')[['emiasid', 'call_date', \n",
    "    'call_result', 'comment', 'next_call_date']].rename(columns={'call_date': 'date', \n",
    "    'call_result': 'status', 'comment': 'old_comment'})\n",
    "    condition_for_month_self_record = (month_patients_data.emiasid.isin(month_self_record.emiasid) &\n",
    "    (~month_patients_data.status .isin({'Умер', 'Госпитализирован', 'Смена МО', 'Патронаж', 'Некорректный номер', \n",
    "    'Иная МО', 'Живет не в Москве', 'Будет в Москве в другом месяце', 'Пациент отрицает диагноз', 'Cнят с ДН',\n",
    "                                       'Отсутствует номер'})))\n",
    "    month_patients_data.loc[condition_for_month_self_record, 'status'] = 'Запишется самостоятельно'\n",
    "    month_self_record_2 = month_patients_data[month_patients_data.status == 'Запишется самостоятельно'] \\\n",
    "    .sort_values(by='emiasid').reset_index(drop=True)[['emiasid', 'date', 'status']].merge(\n",
    "    month_patients_calls_data_2[month_patients_calls_data_2.emiasid.isin(month_patients_data[\n",
    "        condition_for_month_self_record].emiasid)].sort_values(by='call_date') \\\n",
    "        .drop_duplicates(subset='emiasid', keep='last').sort_values(by='emiasid') \\\n",
    "        .reset_index(drop=True)[['emiasid', 'call_date', 'call_result', 'comment', 'next_call_date']], \n",
    "        on='emiasid')\n",
    "#     month_self_record_2.loc[((month_self_record_2.call_result.isin({'Разговор состоялся', \n",
    "#     'Запишется самостоятельно', 'Нет ответа', 'Не дозвонились', 'Занято', 'Сброс', \n",
    "#     'Перенос звонка на другой день'})) & \n",
    "#     month_self_record_2.next_call_date.isna()), 'next_call_date'] = month_self_record_2.loc[((\n",
    "#     month_self_record_2.call_result.isin({'Разговор состоялся', 'Запишется самостоятельно', 'Нет ответа', \n",
    "#     'Не дозвонились', 'Занято', 'Сброс', 'Перенос звонка на другой день'})) & \n",
    "#     month_self_record_2.next_call_date.isna()), 'call_date'] + dt.timedelta(days=3)\n",
    "#     month_self_record_2.loc[(month_self_record_2.call_result.isin({'Перезвонить сегодня'})), \n",
    "#     'next_call_date'] = month_self_record_2.loc[(month_self_record_2.call_result.isin({\n",
    "#         'Перезвонить сегодня'})), 'call_date']\n",
    "    month_self_record_final_patients = month_self_record_2[['emiasid', 'date', 'status', 'comment', \n",
    "    'next_call_date']].rename(columns={'comment': 'old_comment'})\n",
    "    month_patients_data = pd.concat([month_patients_data.drop(index=month_patients_data[\n",
    "        condition_for_month_self_record].index), \n",
    "    month_self_record_final_patients[month_self_record_final_patients.emiasid.isin(month_patients_data[\n",
    "        condition_for_month_self_record].emiasid)]]).sort_values('date').reset_index(drop=True)\n",
    "\n",
    "\n",
    "\n",
    "\n",
    "\n",
    "    #  На следуюший цикл\n",
    "\n",
    "\n",
    "\n",
    "    # 'Госпитализирован'\n",
    "    month_hospitalized_patients = \\\n",
    "    month_patients_calls_data[month_patients_calls_data.call_result == 'Госпитализирован'] \\\n",
    "    .drop_duplicates(subset='emiasid')[['emiasid', 'call_date', 'call_result', 'comment', 'next_call_date']] \\\n",
    "    .rename(columns={'call_date': 'date', 'call_result': 'status', 'comment': 'old_comment'})\n",
    "\n",
    "    condition_for_month_hospitalized_patients = (month_patients_data.emiasid.isin(\n",
    "        month_hospitalized_patients.emiasid) & (~month_patients_data.status.isin({'Умер', 'Смена МО'})))\n",
    "    month_patients_data.loc[condition_for_month_hospitalized_patients, 'status'] = 'Госпитализирован'\n",
    "    month_patients_data = pd.concat(\n",
    "        [month_patients_data.drop(index=month_patients_data[condition_for_month_hospitalized_patients].index), \n",
    "         month_hospitalized_patients[month_hospitalized_patients.emiasid.isin(month_patients_data[\n",
    "        condition_for_month_hospitalized_patients].emiasid)]])\n",
    "    month_patients_data = month_patients_data.reset_index(drop=True)\n",
    "\n",
    "\n",
    "\n",
    "    # 'Отказ'\n",
    "    month_rejected_patients = month_patients_calls_data[month_patients_calls_data.call_result == \\\n",
    "    'Отказ'].drop_duplicates(subset='emiasid')[['emiasid', 'call_date', 'call_result', 'comment', \n",
    "    'next_call_date']].rename(columns={'call_date': 'date', 'call_result': 'status', \n",
    "    'comment': 'old_comment'})\n",
    "    condition_for_month_rejected_patients = (month_patients_data.emiasid.isin(month_rejected_patients.emiasid) &\n",
    "    (~month_patients_data.status.isin({'Умер', 'Госпитализирован', 'Смена МО', 'Патронаж', 'Некорректный номер', \n",
    "    'Иная МО', 'Живет не в Москве', 'Будет в Москве в другом месяце', 'Отсутствует номер', 'Пациент отрицает диагноз',\n",
    "                                       'Cнят с ДН',    'Запишется самостоятельно'}) ))\n",
    "    month_patients_data = pd.concat(\n",
    "        [month_patients_data.drop(index=month_patients_data[condition_for_month_rejected_patients].index), \n",
    "         month_rejected_patients[month_rejected_patients.emiasid.isin(month_patients_data\n",
    "        [condition_for_month_rejected_patients].emiasid)]])\n",
    "    month_patients_data = month_patients_data.reset_index(drop=True)\n",
    "\n",
    "\n",
    "\n",
    "    # 'Не нравится поликлиника и (или) все ее врачи'\n",
    "    month_patients_calls_data_2 = month_patients_calls_data.copy()\n",
    "    month_patients_calls_data_2.loc[month_patients_calls_data_2.talk_result == \\\n",
    "    'Не нравится поликлиника и (или) все ее врачи', 'call_result'] = 'Не нравится МО'\n",
    "    month_mo_dislike = month_patients_calls_data_2[month_patients_calls_data_2.call_result == \\\n",
    "    'Не нравится МО'].drop_duplicates(subset='emiasid', keep='last')[['emiasid', 'call_date', \n",
    "    'call_result', 'comment', 'next_call_date']].rename(columns={'call_date': 'date', \n",
    "    'call_result': 'status', 'comment': 'old_comment'})\n",
    "    condition_for_month_mo_dislike = (month_patients_data.emiasid.isin(month_mo_dislike.emiasid) &\n",
    "    (~month_patients_data.status.isin({'Умер', 'Госпитализирован', 'Смена МО', 'Патронаж', 'Некорректный номер', \n",
    "    'Иная МО', 'Живет не в Москве', 'Будет в Москве в другом месяце', 'Пациент отрицает диагноз', 'Cнят с ДН',\n",
    "    'Запишется самостоятельно', 'Отсутствует номер', 'Отказ'})))\n",
    "    month_patients_data.loc[condition_for_month_mo_dislike, 'status'] = 'Не нравится МО'\n",
    "    month_mo_dislike_2 = month_patients_data[month_patients_data.status == 'Не нравится МО'] \\\n",
    "    .sort_values(by='emiasid').reset_index(drop=True)[['emiasid', 'date', 'status']] \\\n",
    "    .merge(month_patients_calls_data_2[month_patients_calls_data_2.emiasid.isin(\n",
    "        month_patients_data[condition_for_month_mo_dislike].emiasid)] \\\n",
    "    .sort_values(by='call_date').drop_duplicates(subset='emiasid', keep='last') \\\n",
    "        .sort_values(by='emiasid').reset_index(drop=True)[['emiasid', 'call_date', 'call_result', \n",
    "        'comment', 'next_call_date']], on='emiasid')\n",
    "    month_mo_dislike_2.loc[((month_mo_dislike_2.call_result.isin({'Разговор состоялся', 'Нет ответа', \n",
    "    'Не дозвонились', 'Занято', 'Сброс', 'Перенос звонка на другой день'})) & \n",
    "    month_mo_dislike_2.next_call_date.isna()), 'next_call_date'] = \\\n",
    "    month_mo_dislike_2.loc[((month_mo_dislike_2.call_result.isin({'Разговор состоялся', 'Нет ответа', \n",
    "    'Не дозвонились', 'Занято', 'Отсутствует номер', 'Сброс', 'Перенос звонка на другой день'})) & \n",
    "    month_mo_dislike_2.next_call_date.isna()), 'call_date'] + dt.timedelta(days=7)\n",
    "    month_mo_dislike_2.loc[(month_mo_dislike_2.call_result.isin({'Перезвонить сегодня'})), \n",
    "    'next_call_date'] = month_mo_dislike_2.loc[(month_mo_dislike_2.call_result.isin({\n",
    "        'Перезвонить сегодня'})), 'call_date']\n",
    "    month_mo_dislike_2_final_patients = month_mo_dislike_2[['emiasid', 'date', 'status', 'comment', \n",
    "    'next_call_date']].rename(columns={'comment': 'old_comment'})\n",
    "    month_patients_data = pd.concat([month_patients_data.drop(index=month_patients_data[\n",
    "        condition_for_month_mo_dislike].index), month_mo_dislike_2_final_patients[\n",
    "        month_mo_dislike_2_final_patients.emiasid.isin(month_patients_data[\n",
    "        condition_for_month_mo_dislike].emiasid)]]).sort_values('date').reset_index(drop=True)\n",
    "\n",
    "\n",
    "\n",
    "    # 'Не нравится врач'\n",
    "    month_patients_calls_data_2 = month_patients_calls_data.copy()\n",
    "    month_patients_calls_data_2.loc[month_patients_calls_data_2.talk_result == \\\n",
    "    'Не хочет наблюдаться у данного участкового врача', 'call_result'] = 'Не нравится врач'\n",
    "    month_doctor_dislike = month_patients_calls_data_2[month_patients_calls_data_2.call_result == \\\n",
    "    'Не нравится врач'].drop_duplicates(subset='emiasid', keep='last')[['emiasid', 'call_date', \n",
    "    'call_result', 'comment', 'next_call_date']].rename(columns={'call_date': 'date', \n",
    "    'call_result': 'status', 'comment': 'old_comment'})\n",
    "    condition_for_month_doctor_dislike = (month_patients_data.emiasid.isin(month_doctor_dislike.emiasid) &\n",
    "    (~month_patients_data.status.isin({'Умер', 'Госпитализирован', 'Смена МО', 'Патронаж', 'Некорректный номер', \n",
    "    'Иная МО', 'Живет не в Москве', 'Будет в Москве в другом месяце', 'Пациент отрицает диагноз', 'Cнят с ДН',\n",
    "    'Запишется самостоятельно', 'Отказ', 'Отсутствует номер', 'Не нравится МО'})))\n",
    "    month_patients_data.loc[condition_for_month_doctor_dislike, 'status'] = 'Не нравится врач'\n",
    "    month_doctor_dislike_2 = month_patients_data[month_patients_data.status == 'Не нравится врач'] \\\n",
    "    .sort_values(by='emiasid').reset_index(drop=True)[['emiasid', 'date', 'status']].merge(\n",
    "    month_patients_calls_data_2[month_patients_calls_data_2.emiasid.isin(month_patients_data[\n",
    "    condition_for_month_doctor_dislike].emiasid)].sort_values(by='call_date') \\\n",
    "        .drop_duplicates(subset='emiasid', keep='last').sort_values(by='emiasid') \\\n",
    "    .reset_index(drop=True)[['emiasid', 'call_date', 'call_result', 'comment', 'next_call_date']], \n",
    "        on='emiasid')\n",
    "    month_doctor_dislike_2.loc[((month_doctor_dislike_2.call_result.isin({'Разговор состоялся', \n",
    "    'Нет ответа', 'Не дозвонились', 'Занято', 'Сброс', 'Перенос звонка на другой день'})) & \n",
    "    month_doctor_dislike_2.next_call_date.isna()), 'next_call_date'] = month_doctor_dislike_2.loc[((\n",
    "        month_doctor_dislike_2.call_result.isin({'Разговор состоялся', 'Нет ответа', \n",
    "    'Не дозвонились', 'Занято', 'Сброс', 'Перенос звонка на другой день'})) & \n",
    "        month_doctor_dislike_2.next_call_date.isna()), 'call_date'] + dt.timedelta(days=7)\n",
    "    month_doctor_dislike_2.loc[(month_doctor_dislike_2.call_result.isin({'Перезвонить сегодня'})), \n",
    "    'next_call_date'] = month_doctor_dislike_2.loc[(month_doctor_dislike_2.call_result.isin({\n",
    "        'Перезвонить сегодня'})), 'call_date']\n",
    "    month_doctor_dislike_2_final_patients = month_doctor_dislike_2[['emiasid', 'date', 'status', \n",
    "    'comment', 'next_call_date']].rename(columns={'comment': 'old_comment'})\n",
    "    month_patients_data = pd.concat([month_patients_data.drop(index=month_patients_data[\n",
    "    condition_for_month_doctor_dislike].index), month_doctor_dislike_2_final_patients[\n",
    "        month_doctor_dislike_2_final_patients.emiasid.isin(month_patients_data[\n",
    "    condition_for_month_doctor_dislike].emiasid)]]).sort_values('date').reset_index(drop=True)\n",
    "\n",
    "    # 'Другой врач в этой МО'\n",
    "    month_patients_calls_data_2 = month_patients_calls_data.copy()\n",
    "    month_patients_calls_data_2.loc[month_patients_calls_data_2.talk_result == \\\n",
    "    'Лечащий врач другой специалист в этой поликлинике', 'call_result'] = 'Другой врач в этой МО'\n",
    "    month_another_doctor = month_patients_calls_data_2[month_patients_calls_data_2.call_result == \\\n",
    "    'Другой врач в этой МО'].drop_duplicates(subset='emiasid', keep='last')[['emiasid', 'call_date', \n",
    "    'call_result', 'comment', 'next_call_date']].rename(columns={'call_date': 'date', \n",
    "    'call_result': 'status', 'comment': 'old_comment'})\n",
    "    condition_for_month_another_doctor = (month_patients_data.emiasid.isin(month_another_doctor.emiasid) &\n",
    "    (~month_patients_data.status.isin({'Умер', 'Госпитализирован', 'Смена МО', 'Патронаж', 'Некорректный номер', \n",
    "    'Иная МО', 'Живет не в Москве', 'Будет в Москве в другом месяце', 'Пациент отрицает диагноз', 'Cнят с ДН',\n",
    "    'Запишется самостоятельно', 'Отказ', 'Отсутствует номер', 'Не нравится МО'})))\n",
    "    month_patients_data.loc[condition_for_month_another_doctor, 'status'] = 'Другой врач в этой МО'\n",
    "    month_another_doctor_2 = month_patients_data[month_patients_data.status == 'Другой врач в этой МО'] \\\n",
    "    .sort_values(by='emiasid').reset_index(drop=True)[['emiasid', 'date', 'status']].merge(\n",
    "    month_patients_calls_data_2[month_patients_calls_data_2.emiasid.isin(month_patients_data[\n",
    "    condition_for_month_another_doctor].emiasid)].sort_values(by='call_date').drop_duplicates(subset= \\\n",
    "    'emiasid', keep='last').sort_values(by='emiasid').reset_index(drop=True)[['emiasid', 'call_date', \n",
    "    'call_result', 'comment', 'next_call_date']], on='emiasid')\n",
    "    month_another_doctor_2.loc[((month_doctor_dislike_2.call_result.isin({'Разговор состоялся', \n",
    "    'Нет ответа', 'Не дозвонились', 'Занято', 'Сброс', 'Перенос звонка на другой день'})) & \n",
    "    month_another_doctor_2.next_call_date.isna()), 'next_call_date'] = \\\n",
    "    month_another_doctor_2.loc[((month_doctor_dislike_2.call_result.isin({'Разговор состоялся', \n",
    "    'Нет ответа', 'Не дозвонились', 'Занято', 'Сброс', 'Перенос звонка на другой день'})) & \n",
    "    month_another_doctor_2.next_call_date.isna()), 'call_date'] + dt.timedelta(days=7)\n",
    "    month_another_doctor_2.loc[(month_another_doctor_2.call_result.isin({'Перезвонить сегодня'})), \n",
    "    'next_call_date'] = month_another_doctor_2.loc[(month_another_doctor_2.call_result.isin({\n",
    "        'Перезвонить сегодня'})), 'call_date']\n",
    "    month_another_doctor_2_final_patients = month_another_doctor_2[['emiasid', 'date', 'status', \n",
    "    'comment', 'next_call_date']].rename(columns={'comment': 'old_comment'})\n",
    "    month_patients_data = pd.concat([month_patients_data.drop(index=month_patients_data[\n",
    "        condition_for_month_another_doctor].index), month_another_doctor_2_final_patients[\n",
    "        month_another_doctor_2_final_patients.emiasid.isin(month_patients_data[\n",
    "        condition_for_month_another_doctor].emiasid)]]).sort_values('date').reset_index(drop=True)\n",
    "\n",
    "    # 'Перенос звонка на другой день', 'Не дозвонились', 'Перезвонить сегодня'\n",
    "\n",
    "    month_patients_calls_data_2 = month_patients_calls_data.copy()\n",
    "    month_patients_calls_data_2 = month_patients_calls_data_2[~month_patients_calls_data_2.emiasid.isin(\n",
    "    month_patients_data[month_patients_data.status.isin({'Умер', 'Госпитализирован', 'Смена МО', 'Патронаж', \n",
    "    'Некорректный номер', 'Отсутствует номер', 'Иная МО', 'Живет не в Москве', 'Будет в Москве в другом месяце', 'Пациент отрицает диагноз', \n",
    "    'Cнят с ДН', 'Запишется самостоятельно', 'Отказ', 'Не нравится МО', 'Другой врач в этой МО', 'Не нравится врач'})].emiasid)]\n",
    "\n",
    "    month_patients_calls_data_2 = month_patients_calls_data_2.sort_values(by='call_date') \\\n",
    "    .drop_duplicates(subset='emiasid', keep='last')\n",
    "    month_patients_calls_data_2.loc[month_patients_calls_data_2.call_result.isin({'operator_rejected', 'Не дозвонились', \n",
    "    'Нет ответа', 'Занято', 'Сброс'}), 'call_result'] = 'Не дозвонились'\n",
    "    month_misscall_patients = month_patients_calls_data_2[month_patients_calls_data_2.call_result == \\\n",
    "    'Не дозвонились']\n",
    "    month_misscall_patients = month_misscall_patients[['emiasid', 'call_date', 'call_result', 'comment', \n",
    "    'next_call_date']].rename(columns={'call_date': 'date', 'call_result': 'status', \n",
    "    'comment': 'old_comment'})\n",
    "\n",
    "    month_another_day = month_patients_calls_data_2[month_patients_calls_data_2.call_result == \\\n",
    "                                                    'Перенос звонка на другой день']\n",
    "    month_another_day = month_another_day[['emiasid', 'call_date', 'call_result', 'comment', \n",
    "    'next_call_date']].rename(columns={'call_date': 'date', 'call_result': 'status', \n",
    "    'comment': 'old_comment'})\n",
    "\n",
    "#     month_another_day.loc[month_another_day.next_call_date.isna(), 'next_call_date'] = \\\n",
    "#     month_another_day.loc[month_another_day.next_call_date.isna(), 'date'] + dt.timedelta(days=3)\n",
    "\n",
    "    month_same_day = month_patients_calls_data_2[month_patients_calls_data_2.call_result == \\\n",
    "                                                 'Перезвонить сегодня']\n",
    "    month_same_day = month_same_day[['emiasid', 'call_date', 'call_result', 'comment', \n",
    "    'next_call_date']].rename(columns={'call_date': 'date', 'call_result': 'status', \n",
    "    'comment': 'old_comment'})\n",
    "    month_same_day.loc[month_same_day.next_call_date.isna(), 'next_call_date'] = \\\n",
    "    month_same_day.loc[month_same_day.next_call_date.isna(), 'date']\n",
    "\n",
    "\n",
    "    month_patients_data = pd.concat([month_patients_data.drop(index=month_patients_data[\n",
    "        month_patients_data.emiasid.isin(month_misscall_patients.emiasid)].index), month_misscall_patients[\n",
    "        month_misscall_patients.emiasid.isin(month_patients_data[month_patients_data.emiasid.isin(\n",
    "            month_misscall_patients.emiasid)].emiasid)]]).sort_values('date').reset_index(drop=True)\n",
    "    month_patients_data = pd.concat([month_patients_data.drop(index=month_patients_data[\n",
    "        month_patients_data.emiasid.isin(month_another_day.emiasid)].index), month_another_day[\n",
    "        month_another_day.emiasid.isin(month_patients_data[month_patients_data.emiasid.isin(\n",
    "            month_another_day.emiasid)].emiasid)]]).sort_values('date').reset_index(drop=True)\n",
    "    month_patients_data = pd.concat([month_patients_data.drop(index=month_patients_data[\n",
    "        month_patients_data.emiasid.isin(month_same_day.emiasid)].index), month_same_day[\n",
    "        month_same_day.emiasid.isin(month_patients_data[month_patients_data.emiasid.isin(\n",
    "        month_same_day.emiasid)].emiasid)]]).sort_values('date').reset_index(drop=True)\n",
    "\n",
    "    # 'Разговор состоялся'\n",
    "    talken_patients = month_patients_calls_data_2[(month_patients_calls_data_2.call_result == 'Разговор состоялся') & \n",
    "    (month_patients_calls_data_2.talk_result.isna()) & (~month_patients_calls_data_2.emiasid.isin(\n",
    "    month_patients_data[month_patients_data.status.isin({'Умер', 'Госпитализирован', 'Смена МО', 'Патронаж', \n",
    "    'Некорректный номер', 'Отсутствует номер', 'Иная МО', 'Живет не в Москве', 'Будет в Москве в другом месяце', 'Пациент отрицает диагноз', \n",
    "    'Cнят с ДН', 'Запишется самостоятельно', 'Отказ', 'Не нравится МО', 'Другой врач в этой МО', 'Не нравится врач',\n",
    "    'Не дозвонились', 'Перенос звонка на другой день', 'Перезвонить сегодня'})].emiasid))].drop_duplicates(subset='emiasid', \n",
    "    keep='last').reset_index(drop=True)\n",
    "    talken_patients = talken_patients[['emiasid', 'call_date', 'call_result', 'comment', 'next_call_date']].rename(\n",
    "    columns={'call_date':'date', 'call_result': 'status', 'comment': 'old_comment'})\n",
    "    month_patients_data = pd.concat([month_patients_data.drop(index=month_patients_data[\n",
    "        month_patients_data.emiasid.isin(talken_patients.emiasid)].index), talken_patients[\n",
    "        talken_patients.emiasid.isin(month_patients_data[month_patients_data.emiasid.isin(\n",
    "        talken_patients.emiasid)].emiasid)]]).sort_values('date').reset_index(drop=True)\n",
    "\n",
    "#     # 'Ни разу не дозвонились'\n",
    "#     month_misscall_patients_calls = month_patients_calls_data[month_patients_calls_data.emiasid.isin(\n",
    "#         month_misscall_patients.emiasid)]\n",
    "#     month_at_least_one_succesful_call_patients = set(month_misscall_patients_calls[month_misscall_patients_calls \\\n",
    "#         .call_result.isin({\n",
    "#         'Перезвонить сегодня', 'Записан на приём',\n",
    "#         'Перенос звонка на другой день', 'Разговор состоялся'\n",
    "#     })].emiasid)\n",
    "#     totally_misscall_patients = month_misscall_patients[~month_misscall_patients.emiasid \\\n",
    "#     .isin(month_at_least_one_succesful_call_patients)]\n",
    "#     totally_misscall_patients = month_misscall_patients_calls[month_misscall_patients_calls.emiasid.isin(\n",
    "#         totally_misscall_patients.emiasid)].drop_duplicates(subset='emiasid', keep='last') \\\n",
    "#     .reset_index(drop=True)[['emiasid', 'call_date', 'call_result', 'comment', 'next_call_date']].rename(\n",
    "#     columns={'call_date':'date', 'call_result': 'status', 'comment': 'old_comment'})\n",
    "#     totally_misscall_patients['status'] = 'Ни разу не дозвонились'\n",
    "#     month_patients_data = pd.concat([month_patients_data.drop(index=month_patients_data[\n",
    "#     month_patients_data.emiasid.isin(totally_misscall_patients.emiasid)].index), totally_misscall_patients[\n",
    "#     totally_misscall_patients.emiasid.isin(month_patients_data[month_patients_data.emiasid.isin(\n",
    "#     totally_misscall_patients.emiasid)].emiasid)]]).sort_values('date').reset_index(drop=True)\n",
    "\n",
    "    # 'Ни разу не звонили'\n",
    "    month_patients_data.loc[(~month_patients_data.emiasid.isin(month_patients_calls_data.emiasid)) & \n",
    "                            (~month_patients_data.status.isin({'Умер', 'Госпитализирован', 'Смена МО', 'Некорректный номер',\n",
    "                                                              'Отсутствует номер'})),\n",
    "                            'status'] = 'Ни разу не звонили'\n",
    "\n",
    "    # 'без статуса ==>> Разговор состоялся'\n",
    "    no_status_patients = month_patients_data[month_patients_data.status == 'без статуса'] \\\n",
    "    .reset_index(drop=True)\n",
    "    no_status_patients_calls = month_patients_calls_data[month_patients_calls_data.emiasid.isin(\n",
    "        no_status_patients.emiasid)].drop_duplicates(subset='emiasid', keep='last').reset_index(drop=True)\n",
    "    no_status_patients = no_status_patients_calls[['emiasid', 'call_date', 'call_result', 'comment', \n",
    "    'next_call_date']].rename(columns={'call_date':'date', 'call_result': 'status', \n",
    "    'comment': 'old_comment'})\n",
    "    no_status_patients['status'] = 'Разговор состоялся'\n",
    "    month_patients_data = pd.concat([month_patients_data.drop(index=month_patients_data[\n",
    "    month_patients_data.emiasid.isin(no_status_patients.emiasid)].index), no_status_patients[\n",
    "    no_status_patients.emiasid.isin(month_patients_data[month_patients_data.emiasid.isin(\n",
    "    no_status_patients.emiasid)].emiasid)]]).sort_values('date').reset_index(drop=True)\n",
    "\n",
    "\n",
    "\n",
    "\n",
    "    # 'завершение'\n",
    "    month_patients_data = month_patients_data.merge(month_patients_medical_attachment_info, on='emiasid')\n",
    "    month_patients_data['date'] = month_patients_data['date'].apply(lambda x: pd.to_datetime(x).date())\n",
    "\n",
    "    month_patients_data = month_patients_data.rename(columns={'phone_1': 'phone_number'})\n",
    "    month_patients_data['emiasid'] = month_patients_data['emiasid'].astype(str).str.replace('\\.0', '')\n",
    "    month_patients_data['phone_number'] = month_patients_data['phone_number'].apply(lambda x: str(x).replace('.0', '')\n",
    "                                                                                    if not pd.isna(x) else x)\n",
    "    \n",
    "    month_patients_data = month_patients_data[['emiasid', 'status', 'doctor_fio', 'mo', 'phone_number']]\n",
    "    \n",
    "    \n",
    "    if 'august' in month:\n",
    "        august_patients_current_statuses = pd.concat([august_patients_current_statuses, month_patients_data]) \\\n",
    "        .reset_index(drop=True)\n",
    "    elif 'september' in month:\n",
    "        september_patients_current_statuses = pd.concat([september_patients_current_statuses, month_patients_data]) \\\n",
    "        .reset_index(drop=True) \n",
    "        \n",
    "august_patients_current_statuses = august_patients_current_statuses[\n",
    "    august_patients_current_statuses.emiasid.isin(august_to_september_patients.emiasid)\n",
    "]\n",
    "        \n",
    "august_patients_current_statuses.to_excel(\n",
    "os.path.join(patients_current_statuses_path, rf'august_patients_current_statuses_{today_y_m_d}.xlsx') , index=False)\n",
    "\n",
    "september_patients_current_statuses.to_excel(\n",
    "os.path.join(patients_current_statuses_path, rf'september_patients_current_statuses_{today_y_m_d}.xlsx') , index=False)"
   ]
  },
  {
   "cell_type": "code",
   "execution_count": null,
   "id": "d911f627",
   "metadata": {},
   "outputs": [],
   "source": []
  }
 ],
 "metadata": {
  "kernelspec": {
   "display_name": "Python 3 (ipykernel)",
   "language": "python",
   "name": "python3"
  },
  "language_info": {
   "codemirror_mode": {
    "name": "ipython",
    "version": 3
   },
   "file_extension": ".py",
   "mimetype": "text/x-python",
   "name": "python",
   "nbconvert_exporter": "python",
   "pygments_lexer": "ipython3",
   "version": "3.10.4"
  }
 },
 "nbformat": 4,
 "nbformat_minor": 5
}
