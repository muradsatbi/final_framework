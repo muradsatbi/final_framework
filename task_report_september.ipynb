{
 "cells": [
  {
   "cell_type": "code",
   "execution_count": 1,
   "id": "b79cae78",
   "metadata": {},
   "outputs": [],
   "source": [
    "import pandas as pd\n",
    "from datetime import timedelta\n",
    "import shutil\n",
    "import xlwings\n",
    "import os\n",
    "\n",
    "date_now = pd.Timestamp.today()\n",
    "date_ymd = date_now.strftime('%Y%m%d')\n",
    "task_aug = pd.read_excel(os.path.join(r'\\\\t999\\Сетевой диск\\pdn\\data\\task', f'fulltask_{date_ymd}_v20.xlsx'))"
   ]
  },
  {
   "cell_type": "code",
   "execution_count": 2,
   "id": "03128ddf",
   "metadata": {},
   "outputs": [],
   "source": [
    "task_report = pd.pivot_table(\n",
    "    task_aug[['operator_login', 'emiasid']], \n",
    "    index='operator_login', \n",
    "    values='emiasid', \n",
    "    aggfunc='count'\n",
    ").reset_index().merge(\n",
    "    task_aug[['operator_login', 'mo']],\n",
    "    on='operator_login',\n",
    "    how='left'\n",
    ")[['mo', 'operator_login', 'emiasid']].drop_duplicates(subset='operator_login').sort_values('mo')"
   ]
  },
  {
   "cell_type": "code",
   "execution_count": 3,
   "id": "7a854548",
   "metadata": {},
   "outputs": [
    {
     "name": "stdout",
     "output_type": "stream",
     "text": [
      "Сохранен task_reports\\Задание_20220923.xlsx\n"
     ]
    }
   ],
   "source": [
    "try:\n",
    "    file_save_path = shutil.copy('Шаблон_задание.xlsx', \n",
    "                os.path.join(f'task_reports', f'Задание_{date_ymd}.xlsx'))\n",
    "    excel_app = xlwings.App(visible=False)\n",
    "    wb = excel_app.books.open(file_save_path)\n",
    "    sheet = wb.sheets['Лист1']\n",
    "\n",
    "    sheet.range('B4').options(header = 0,index = False).value = task_report\n",
    "    sheet.range(f'{4+task_report.shape[0]}:2000').clear()\n",
    "    wb.save()\n",
    "    wb.close()\n",
    "    excel_app.quit()\n",
    "\n",
    "    print('Сохранен', file_save_path)\n",
    "except:\n",
    "    print('Ошибка при сохранении задания!!!')\n",
    "    wb.save()\n",
    "    wb.close()\n",
    "    excel_app.quit()"
   ]
  },
  {
   "cell_type": "code",
   "execution_count": null,
   "id": "f806bf07",
   "metadata": {},
   "outputs": [],
   "source": []
  }
 ],
 "metadata": {
  "kernelspec": {
   "display_name": "Python 3 (ipykernel)",
   "language": "python",
   "name": "python3"
  },
  "language_info": {
   "codemirror_mode": {
    "name": "ipython",
    "version": 3
   },
   "file_extension": ".py",
   "mimetype": "text/x-python",
   "name": "python",
   "nbconvert_exporter": "python",
   "pygments_lexer": "ipython3",
   "version": "3.9.12"
  }
 },
 "nbformat": 4,
 "nbformat_minor": 5
}
