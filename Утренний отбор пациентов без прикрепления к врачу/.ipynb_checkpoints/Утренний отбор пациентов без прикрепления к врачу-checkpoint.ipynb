{
 "cells": [
  {
   "cell_type": "code",
   "execution_count": 1,
   "id": "6186f60d",
   "metadata": {},
   "outputs": [],
   "source": [
    "import os\n",
    "import pandas as pd\n",
    "import datetime as dt\n",
    "import shutil"
   ]
  },
  {
   "cell_type": "code",
   "execution_count": 2,
   "id": "42a25a96",
   "metadata": {},
   "outputs": [],
   "source": [
    "# получим директорию папки \"Загрузки\" в системе\n",
    "from pathlib import Path\n",
    "downloads_path = str(Path.home() / \"Downloads\")"
   ]
  },
  {
   "cell_type": "code",
   "execution_count": 3,
   "id": "80bcd0d7",
   "metadata": {},
   "outputs": [],
   "source": [
    "# конечная папка для выгрузки ЕМИАС данных\n",
    "# вставляем между кавычек путь к этой папке на своем компьютере\n",
    "data_emias_xlsx_path = r'\\\\t999\\Сетевой диск\\pdn\\data\\emias_data\\xlsx'"
   ]
  },
  {
   "cell_type": "code",
   "execution_count": 4,
   "id": "188fb7ad",
   "metadata": {},
   "outputs": [],
   "source": [
    "data_emias_xlsx_path = data_emias_xlsx_path.split('\\\\')\n",
    "data_emias_xlsx_path = os.path.join(r'\\\\', *data_emias_xlsx_path)"
   ]
  },
  {
   "cell_type": "code",
   "execution_count": 5,
   "id": "45e56772",
   "metadata": {},
   "outputs": [],
   "source": [
    "today = dt.datetime.today().date()\n",
    "\n",
    "for file in os.listdir(downloads_path):\n",
    "    if '.xlsx' in file:\n",
    "        initial_file_path = os.path.join(downloads_path, file)\n",
    "        if 'DAT' in  file and today.strftime('%Y-%m-%d') in file:\n",
    "            final_file_path = os.path.join(data_emias_xlsx_path, f'{file[:58]}.xlsx')\n",
    "            shutil.move(initial_file_path, final_file_path)"
   ]
  },
  {
   "cell_type": "code",
   "execution_count": null,
   "id": "6d93bbd6",
   "metadata": {},
   "outputs": [],
   "source": []
  },
  {
   "cell_type": "code",
   "execution_count": null,
   "id": "58e719a9",
   "metadata": {},
   "outputs": [],
   "source": []
  },
  {
   "cell_type": "code",
   "execution_count": 6,
   "id": "50522005",
   "metadata": {},
   "outputs": [],
   "source": [
    "import sys\n",
    "path_to_pdn = r\"C:\\Users\\murad_satabaev\\Documents\\GitHub\\pdn_\" # сюда внутри кавычек вставляем путь, где ледит репозиторий пдн\n",
    "sys.path.insert(0, path_to_pdn)"
   ]
  },
  {
   "cell_type": "code",
   "execution_count": 7,
   "id": "780f9374",
   "metadata": {},
   "outputs": [],
   "source": [
    "import os\n",
    "import zipfile\n",
    "import datetime\n",
    "import numpy as np\n",
    "import pandas as pd\n",
    "from shutil import make_archive\n",
    "from pdn.utils.utils import get_filenames\n",
    "from pdn.configs.paths import EMIAS_SUBFOLDER_LOADS"
   ]
  },
  {
   "cell_type": "code",
   "execution_count": 8,
   "id": "1801a9ed",
   "metadata": {},
   "outputs": [],
   "source": [
    "# cловарь \"номер_dat\": \"месяц\", в который мы добавляем список актуальных месяцев\n",
    "dat_month = dict()\n",
    "dat_month['may'] = '3196'\n",
    "dat_month['june'] = '3437'\n",
    "dat_month['july'] = '3582'"
   ]
  },
  {
   "cell_type": "code",
   "execution_count": 9,
   "id": "94186015",
   "metadata": {},
   "outputs": [
    {
     "name": "stdout",
     "output_type": "stream",
     "text": [
      "2022-07-28\n"
     ]
    }
   ],
   "source": [
    "# задаем дату, за которую нужно проверить файлы, и ставим ее в нужный формат строки\n",
    "# date_ = datetime.date(2022, 7, 14)\n",
    "date_ = datetime.datetime.today().date()\n",
    "date_ymd = date_.strftime('%Y-%m-%d')\n",
    "date_y_m_d = date_.strftime('%Y_%m_%d')\n",
    "print(date_ymd)"
   ]
  },
  {
   "cell_type": "code",
   "execution_count": 10,
   "id": "dc02a883",
   "metadata": {},
   "outputs": [
    {
     "data": {
      "text/plain": [
       "datetime.date(2022, 7, 28)"
      ]
     },
     "execution_count": 10,
     "metadata": {},
     "output_type": "execute_result"
    }
   ],
   "source": [
    "# конечно, было бы хорошо заменить ввод даты на автоматическое считывание сегодняшней даты, но это будет реализовано после \n",
    "# того, как система в общем придет в динамическое спокойствие и весь код будет прописан\n",
    "datetime.datetime.now().date()\n",
    "# этот кусок кода вставить в переменную date_\n",
    "# пока он не нужен, не обращать на него внимания"
   ]
  },
  {
   "cell_type": "code",
   "execution_count": 11,
   "id": "1dc6744f",
   "metadata": {},
   "outputs": [
    {
     "name": "stdout",
     "output_type": "stream",
     "text": [
      "\\\\t999\\Сетевой диск\\pdn\\data\\emias_data\\xlsx\\DAT_3437_выгрузка_списков_на_обзвон_помощниками_2022-07-28.xlsx \\\\t999\\Сетевой диск\\pdn\\data\\emias_data\\xlsx\\DAT_3582_выгрузка_списков_на_обзвон_помощниками_2022-07-28.xlsx\n"
     ]
    }
   ],
   "source": [
    "# получаем список файлов в папке EMIAS_SUBFOLDER_LOADS, в названии которых есть date_ymd\n",
    "file_list = get_filenames(EMIAS_SUBFOLDER_LOADS, date_ymd)\n",
    "print(*file_list)"
   ]
  },
  {
   "cell_type": "code",
   "execution_count": 12,
   "id": "2f05f8e6",
   "metadata": {},
   "outputs": [],
   "source": [
    "# зададим путь папки для сохранения папок с файлами - для этого на место пути тут просто скопируйте свой путь из адроесной\n",
    "# строки и вставьте\n",
    "path = r'C:\\Users\\murad_satabaev\\Documents\\GitHub\\final_framework\\Утренний отбор пациентов без прикрепления к врачу'\n",
    "splitted_root_path = path.split('\\\\')\n",
    "root_path = os.path.join(splitted_root_path[0], os.sep, *splitted_root_path[1:])"
   ]
  },
  {
   "cell_type": "code",
   "execution_count": 13,
   "id": "b26c2d98",
   "metadata": {},
   "outputs": [],
   "source": [
    "# если в системе нет папки с нужной датой, то данная ячейка создает ее и добавляет ее к пути\n",
    "export_path = os.path.join(root_path, date_.strftime('%Y%m%d'))\n",
    "\n",
    "if not os.path.isdir(export_path):\n",
    "    os.mkdir(os.path.join(root_path, date_.strftime('%Y%m%d')))"
   ]
  },
  {
   "cell_type": "code",
   "execution_count": 14,
   "id": "fb8083fe",
   "metadata": {},
   "outputs": [],
   "source": [
    "# зададим список поликлиник, по которым нужно проверять наличие пациентов без прикрепления\n",
    "mo_to_check_set = set()\n",
    "mo_to_check_list = ['ГБУЗ \"ГП № 134 ДЗМ\"', 'ГБУЗ \"ГП № 218 ДЗМ\"', 'ГБУЗ \"ГП № 22 ДЗМ\"', 'ГБУЗ ГП № 191 ДЗМ', \n",
    "                   'ГБУЗ ГП № 220 ДЗМ','ГБУЗ ДКЦ 1 ДЗМ', 'КДЦ 4']\n",
    "for mo in mo_to_check_list: \n",
    "    mo_to_check_set.add(mo.replace('ГБУЗ', '').replace('№', '').replace('ДЗМ', '').replace('\"', '').replace('\"', '') \\\n",
    "    .strip().replace('  ', ' ').replace(' ', '_'))\n",
    "mo_to_check_set.add(np.NaN)"
   ]
  },
  {
   "cell_type": "code",
   "execution_count": 15,
   "id": "b85ef5a2",
   "metadata": {},
   "outputs": [
    {
     "data": {
      "text/plain": [
       "'C:\\\\Users\\\\murad_satabaev\\\\Documents\\\\GitHub\\\\final_framework\\\\Утренний отбор пациентов без прикрепления к врачу\\\\20220728'"
      ]
     },
     "execution_count": 15,
     "metadata": {},
     "output_type": "execute_result"
    }
   ],
   "source": [
    "export_path"
   ]
  },
  {
   "cell_type": "code",
   "execution_count": 16,
   "id": "b87175a7",
   "metadata": {
    "scrolled": true
   },
   "outputs": [
    {
     "data": {
      "text/plain": [
       "{nan, 'ГП_134', 'ГП_191', 'ГП_218', 'ГП_22', 'ГП_220', 'ДКЦ_1', 'КДЦ_4'}"
      ]
     },
     "execution_count": 16,
     "metadata": {},
     "output_type": "execute_result"
    }
   ],
   "source": [
    "mo_to_check_set"
   ]
  },
  {
   "cell_type": "code",
   "execution_count": 17,
   "id": "ba96b2e5",
   "metadata": {
    "scrolled": true
   },
   "outputs": [],
   "source": [
    "# последний этап - формирование файлов по месяцамам и МО\n",
    "for file_path in file_list:\n",
    "        for month, dat  in dat_month.items():\n",
    "            if dat in file_path:                \n",
    "                \n",
    "                df = pd.read_excel(file_path)\n",
    "                df = df.rename(columns={'Умер': 'dead'})\n",
    "                df[['emiasid', 'Pol_number']] = df[['emiasid', 'Pol_number']].astype(str)\n",
    "                df = df[(df.dead == 'нет') & (df.doctor_fio.isna())]             \n",
    "                \n",
    "                mo_set = set(df.mo.unique())\n",
    "                mo_dict = dict()\n",
    "                for mo in mo_set:\n",
    "                    if not pd.isna(mo):\n",
    "                        mo_dict[mo] = mo.replace('ГБУЗ', '').replace('№', '').replace('ДЗМ', '').replace('\"', '') \\\n",
    "                        .replace('\"', '').strip().replace('  ', ' ').replace(' ', '_')\n",
    "                    else:\n",
    "                        mo_dict[mo] = mo               \n",
    "                for key, value in mo_dict.items():\n",
    "                    if value in mo_to_check_set:\n",
    "                        if pd.isna(value) and set(df.mo.isna()):\n",
    "                            df[df.mo.isna()].to_excel(os.path.join(export_path, f\"Пустое_mo_{month}_пустые_doctor_fio.xlsx\"),\n",
    "                                index=False)\n",
    "                        else:\n",
    "                            df[df.mo == key].to_excel(os.path.join(export_path, f\"{value}_{month}_пустые_doctor_fio.xlsx\"),\n",
    "                                index=False)"
   ]
  },
  {
   "cell_type": "code",
   "execution_count": 18,
   "id": "472eded6",
   "metadata": {},
   "outputs": [],
   "source": [
    "########################################################################################################################"
   ]
  },
  {
   "cell_type": "code",
   "execution_count": 19,
   "id": "10924868",
   "metadata": {},
   "outputs": [],
   "source": [
    "########################################################################################################################"
   ]
  },
  {
   "cell_type": "code",
   "execution_count": 20,
   "id": "ae48544c",
   "metadata": {},
   "outputs": [
    {
     "data": {
      "text/plain": [
       "['20220627',\n",
       " '20220628',\n",
       " '20220629',\n",
       " '20220630',\n",
       " '20220701',\n",
       " '20220704',\n",
       " '20220705',\n",
       " '20220706',\n",
       " '20220707',\n",
       " '20220708',\n",
       " '20220711',\n",
       " '20220712',\n",
       " '20220713',\n",
       " '20220714',\n",
       " '20220715',\n",
       " '20220718',\n",
       " '20220719',\n",
       " '20220720',\n",
       " '20220721',\n",
       " '20220722',\n",
       " '20220725',\n",
       " '20220726',\n",
       " '20220727',\n",
       " '20220728']"
      ]
     },
     "execution_count": 20,
     "metadata": {},
     "output_type": "execute_result"
    }
   ],
   "source": [
    "folder_list = [file for file in os.listdir(root_path) if os.path.isdir(file) and '.' not in file]\n",
    "folder_list.sort()\n",
    "folder_list"
   ]
  },
  {
   "cell_type": "code",
   "execution_count": 21,
   "id": "db6e2ff7",
   "metadata": {},
   "outputs": [],
   "source": [
    "try:\n",
    "    folder_day_before = folder_list[-2]\n",
    "    day_before_files = set(os.listdir(os.path.join(root_path, folder_day_before)))\n",
    "    day_before_files\n",
    "except IndexError:\n",
    "    exit()"
   ]
  },
  {
   "cell_type": "code",
   "execution_count": 23,
   "id": "4cbe4942",
   "metadata": {},
   "outputs": [
    {
     "data": {
      "text/plain": [
       "{'ГП_134_june_пустые_doctor_fio.xlsx',\n",
       " 'ГП_191_june_пустые_doctor_fio.xlsx',\n",
       " 'ГП_218_june_пустые_doctor_fio.xlsx',\n",
       " 'ГП_22_july_пустые_doctor_fio.xlsx',\n",
       " 'ГП_22_june_пустые_doctor_fio.xlsx',\n",
       " 'Пустое_mo_july_пустые_doctor_fio.xlsx',\n",
       " 'Пустое_mo_june_пустые_doctor_fio.xlsx'}"
      ]
     },
     "execution_count": 23,
     "metadata": {},
     "output_type": "execute_result"
    }
   ],
   "source": [
    "day_before_files"
   ]
  },
  {
   "cell_type": "code",
   "execution_count": 24,
   "id": "d81e9665",
   "metadata": {
    "scrolled": false
   },
   "outputs": [
    {
     "data": {
      "text/plain": [
       "{'ГП_134_july_пустые_doctor_fio.xlsx',\n",
       " 'ГП_134_june_пустые_doctor_fio.xlsx',\n",
       " 'ГП_218_june_пустые_doctor_fio.xlsx',\n",
       " 'ГП_22_july_пустые_doctor_fio.xlsx',\n",
       " 'ГП_22_june_пустые_doctor_fio.xlsx',\n",
       " 'Пустое_mo_july_пустые_doctor_fio.xlsx',\n",
       " 'Пустое_mo_june_пустые_doctor_fio.xlsx'}"
      ]
     },
     "execution_count": 24,
     "metadata": {},
     "output_type": "execute_result"
    }
   ],
   "source": [
    "folder_today = folder_list[-1]\n",
    "today_files = set(os.listdir(os.path.join(root_path, folder_today)))\n",
    "today_files"
   ]
  },
  {
   "cell_type": "code",
   "execution_count": 25,
   "id": "f4577298",
   "metadata": {
    "scrolled": true
   },
   "outputs": [
    {
     "data": {
      "text/plain": [
       "{'ГП_134_june_пустые_doctor_fio.xlsx',\n",
       " 'ГП_218_june_пустые_doctor_fio.xlsx',\n",
       " 'ГП_22_july_пустые_doctor_fio.xlsx',\n",
       " 'ГП_22_june_пустые_doctor_fio.xlsx',\n",
       " 'Пустое_mo_july_пустые_doctor_fio.xlsx',\n",
       " 'Пустое_mo_june_пустые_doctor_fio.xlsx'}"
      ]
     },
     "execution_count": 25,
     "metadata": {},
     "output_type": "execute_result"
    }
   ],
   "source": [
    "common_files = day_before_files & today_files\n",
    "common_files"
   ]
  },
  {
   "cell_type": "code",
   "execution_count": 38,
   "id": "b990981d",
   "metadata": {
    "scrolled": true
   },
   "outputs": [
    {
     "name": "stderr",
     "output_type": "stream",
     "text": [
      "C:\\Users\\murad_satabaev\\AppData\\Local\\Temp\\ipykernel_2728\\609313566.py:3: FutureWarning: The default value of regex will change from True to False in a future version.\n",
      "  day_before.emiasid = day_before.emiasid.astype(str).str.replace('\\.0', '')\n",
      "C:\\Users\\murad_satabaev\\AppData\\Local\\Temp\\ipykernel_2728\\609313566.py:5: FutureWarning: The default value of regex will change from True to False in a future version.\n",
      "  today.emiasid = today.emiasid.astype(str).str.replace('\\.0', '')\n",
      "C:\\Users\\murad_satabaev\\AppData\\Local\\Temp\\ipykernel_2728\\609313566.py:3: FutureWarning: The default value of regex will change from True to False in a future version.\n",
      "  day_before.emiasid = day_before.emiasid.astype(str).str.replace('\\.0', '')\n",
      "C:\\Users\\murad_satabaev\\AppData\\Local\\Temp\\ipykernel_2728\\609313566.py:5: FutureWarning: The default value of regex will change from True to False in a future version.\n",
      "  today.emiasid = today.emiasid.astype(str).str.replace('\\.0', '')\n"
     ]
    },
    {
     "name": "stdout",
     "output_type": "stream",
     "text": [
      "['10339217', '10535239', '10540904', '16067111', '19117873', '19282444', '19438187', '21717547', '23566795', '24341852', '24407314', '25396045', '485786366', '5110105778036', '856047116']\n",
      "['10843927', '16364660', '16514683', '17680985', '17880259', '18261049', '18740541', '18923460', '18929279', '19237120', '19421234', '19614734', '19857864', '20295522', '21425141', '21737605', '21793951', '22203118', '22235328', '2239811526', '2245545876', '22622305', '22722255', '24509969', '24665652', '26350890', '26510838', '28335005', '28530471', '28730438', '30000000731114', '30012854', '30832076', '30902822']\n",
      "\n",
      "\n",
      "\n",
      "['10130411', '10159365', '10784804', '1113562991', '16017874', '16272279', '16654461', '16788541', '1745666141', '17717452', '17883473', '18049916', '18052739', '18410671', '18506733', '18641893', '18668361', '20242487', '20257320', '20292966', '20954076', '21465871', '21471978', '22009728', '2213995816', '22206293', '22326904', '2239798269', '2242666392', '22566857', '22624107', '23946119', '24674335', '28161356', '29808253', '30000008541851', '30376365', '30597779', '30864918', '31085894', '31193298', '425049991', '4460215683036', '814547941']\n",
      "['10141733', '10157401', '10402037', '10601245', '10721943', '10805937', '16151838', '16162485', '16234165', '16458069', '16551212', '17012498', '17395394', '17563981', '17978180', '18071479', '183681828036', '18424326', '18795267', '18960176', '19964589', '20385440', '20491435', '20558863', '21706412', '2242488437', '2242686377', '2243674700', '22782608', '22813422', '2465905093036', '25740827', '257470423036', '29128583', '30000005105057', '30000007818124', '30000007883400', '30000008868069', '30126139', '388894141']\n",
      "\n",
      "\n",
      "\n"
     ]
    },
    {
     "name": "stderr",
     "output_type": "stream",
     "text": [
      "C:\\Users\\murad_satabaev\\AppData\\Local\\Temp\\ipykernel_2728\\609313566.py:3: FutureWarning: The default value of regex will change from True to False in a future version.\n",
      "  day_before.emiasid = day_before.emiasid.astype(str).str.replace('\\.0', '')\n",
      "C:\\Users\\murad_satabaev\\AppData\\Local\\Temp\\ipykernel_2728\\609313566.py:5: FutureWarning: The default value of regex will change from True to False in a future version.\n",
      "  today.emiasid = today.emiasid.astype(str).str.replace('\\.0', '')\n",
      "C:\\Users\\murad_satabaev\\AppData\\Local\\Temp\\ipykernel_2728\\609313566.py:3: FutureWarning: The default value of regex will change from True to False in a future version.\n",
      "  day_before.emiasid = day_before.emiasid.astype(str).str.replace('\\.0', '')\n"
     ]
    },
    {
     "name": "stdout",
     "output_type": "stream",
     "text": [
      "['10398201', '10738334', '122210838036', '1223588541', '15993754', '16000940', '16471529', '16788892', '17572561', '17654858', '17700620', '17776166', '18261542', '18462034', '18670085', '19333454', '19882733', '20087963', '20247160', '21080245', '2238330759', '2239476576', '2241251863', '2241770750', '2243286592', '2243347951', '22551450', '22562310', '22667888', '24026524', '24781685', '25470650', '28350123', '28747314', '28928622', '30000000059117', '30000000429937', '30000000653421', '30000010751664', '475816191', '899189366']\n",
      "['10241351', '10441751', '10476901', '1183481316', '12030494473036', '16474145', '17343108', '18257067', '18543367298036', '20578297', '21344943', '21734797', '22195348', '2239514711', '2241897565', '2242802585', '24148007', '24156425', '24972240', '25671184', '29555175', '30000000755682', '30000010862685', '31342643', '633622116']\n",
      "\n",
      "\n",
      "\n",
      "['10843091', '16201198', '16266092', '16444851', '16480113', '16500816', '16883489', '17183828', '17537584', '17727035', '18277748', '19422313', '19983513', '20109703', '20571875', '20762013', '21213859', '24236215', '24433409', '24646786', '24924863', '25618813', '25977704', '26280559', '28204013', '29916799', '30000008167759', '30000010725601', '30191243', '30461506', '30465213', '30542090', '6393741713036', '693894166']\n",
      "['1373183191', '16448001', '16518438', '16551319', '16580068', '16641268', '16641299', '16759806', '16794437', '17297943', '17371130', '17543116', '17605353', '18264075', '18306431', '18371232', '18642579', '18937847', '19691271', '20269665', '20516178', '20560738', '20726297', '21017564', '21256223', '21717745', '22444427', '26031375', '26509340', '28855744', '28960158', '29725943', '30000009982674', '30186345', '30533312', '4782082973036']\n",
      "\n",
      "\n",
      "\n",
      "['16649591', '2239320511', '25435982', '28897761', '29864912']\n",
      "['16649591', '2239320511', '25435982', '28897761', '29864912']\n",
      "\n",
      "\n",
      "\n",
      "['22004160', '482167091']\n",
      "['22004160', '482167091']\n",
      "\n",
      "\n",
      "\n"
     ]
    },
    {
     "name": "stderr",
     "output_type": "stream",
     "text": [
      "C:\\Users\\murad_satabaev\\AppData\\Local\\Temp\\ipykernel_2728\\609313566.py:5: FutureWarning: The default value of regex will change from True to False in a future version.\n",
      "  today.emiasid = today.emiasid.astype(str).str.replace('\\.0', '')\n",
      "C:\\Users\\murad_satabaev\\AppData\\Local\\Temp\\ipykernel_2728\\609313566.py:3: FutureWarning: The default value of regex will change from True to False in a future version.\n",
      "  day_before.emiasid = day_before.emiasid.astype(str).str.replace('\\.0', '')\n",
      "C:\\Users\\murad_satabaev\\AppData\\Local\\Temp\\ipykernel_2728\\609313566.py:5: FutureWarning: The default value of regex will change from True to False in a future version.\n",
      "  today.emiasid = today.emiasid.astype(str).str.replace('\\.0', '')\n",
      "C:\\Users\\murad_satabaev\\AppData\\Local\\Temp\\ipykernel_2728\\609313566.py:3: FutureWarning: The default value of regex will change from True to False in a future version.\n",
      "  day_before.emiasid = day_before.emiasid.astype(str).str.replace('\\.0', '')\n",
      "C:\\Users\\murad_satabaev\\AppData\\Local\\Temp\\ipykernel_2728\\609313566.py:5: FutureWarning: The default value of regex will change from True to False in a future version.\n",
      "  today.emiasid = today.emiasid.astype(str).str.replace('\\.0', '')\n"
     ]
    }
   ],
   "source": [
    "for file_name in common_files:\n",
    "    day_before = pd.read_excel(os.path.join(root_path, folder_day_before, file_name))\n",
    "    day_before.emiasid = day_before.emiasid.astype(str).str.replace('\\.0', '')\n",
    "    today = pd.read_excel(os.path.join(root_path, folder_today, file_name))\n",
    "    today.emiasid = today.emiasid.astype(str).str.replace('\\.0', '')\n",
    "    result = today[today.emiasid.isin(day_before.emiasid)]\n",
    "    result[['emiasid', 'Pol_number']] = result[['emiasid', 'Pol_number']].astype(str)\n",
    "    if result.shape[0] > 0:\n",
    "        result.to_excel(os.path.join(root_path, f'{file_name[:-5]}_{date_y_m_d}{file_name[-5:]}'), index=False)"
   ]
  },
  {
   "cell_type": "code",
   "execution_count": 27,
   "id": "ab777f2a",
   "metadata": {},
   "outputs": [],
   "source": [
    "# exit()"
   ]
  }
 ],
 "metadata": {
  "kernelspec": {
   "display_name": "Python 3 (ipykernel)",
   "language": "python",
   "name": "python3"
  },
  "language_info": {
   "codemirror_mode": {
    "name": "ipython",
    "version": 3
   },
   "file_extension": ".py",
   "mimetype": "text/x-python",
   "name": "python",
   "nbconvert_exporter": "python",
   "pygments_lexer": "ipython3",
   "version": "3.10.4"
  }
 },
 "nbformat": 4,
 "nbformat_minor": 5
}
