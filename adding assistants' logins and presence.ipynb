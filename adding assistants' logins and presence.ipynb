{
 "cells": [
  {
   "cell_type": "code",
   "execution_count": 1,
   "id": "ffd41bc3",
   "metadata": {},
   "outputs": [],
   "source": [
    "import os\n",
    "import pandas as pd\n",
    "import datetime as dt\n",
    "import numpy as np\n",
    "import re\n",
    "from pathlib import Path"
   ]
  },
  {
   "cell_type": "code",
   "execution_count": 2,
   "id": "3678b95e",
   "metadata": {},
   "outputs": [
    {
     "name": "stdout",
     "output_type": "stream",
     "text": [
      "2022_09_22\n"
     ]
    }
   ],
   "source": [
    "today = pd.Timestamp(dt.datetime.today().date())\n",
    "today_ymd = today.strftime('%Y%m%d')\n",
    "today_y_m_d = today.strftime('%Y_%m_%d')\n",
    "\n",
    "yesterday = today - dt.timedelta(days=1)\n",
    "yesterday_ymd = yesterday.strftime('%Y%m%d')\n",
    "yesterday_y_m_d = yesterday.strftime('%Y_%m_%d')\n",
    "\n",
    "tomorrow = today + dt.timedelta(days=1)\n",
    "tomorrow_ymd = tomorrow.strftime('%Y%m%d')\n",
    "tomorrow_y_m_d = tomorrow.strftime('%Y_%m_%d')\n",
    "\n",
    "print(today_y_m_d)"
   ]
  },
  {
   "cell_type": "code",
   "execution_count": 3,
   "id": "bbe9a34f",
   "metadata": {},
   "outputs": [],
   "source": [
    "column_names = {'Emiasid': 'emiasid', 'Emiasid ': 'emiasid' , 'emiasid ': 'emiasid', 'EMIAS_ID': 'emiasid', 'МО': 'mo', \n",
    "                'МУ': 'mu', 'Логин оператора': 'operator_login', 'Дата и время звонка': 'call_date', \n",
    "                'Результат звонка': 'call_result', 'Результат звонка ': 'call_result', 'Разговор состоялся': 'talk_result', \n",
    "                'Комменатрий': 'comment', 'Дата и время переноса': 'next_call_date', 'Контактный телефон': 'phone_number', \n",
    "                'ФИО врача': 'doctor_fio', 'ФИО помощника врача': 'assistant_fio', 'Логин помощника врача': 'operator_login',\n",
    "                'Зал №': 'hall_number', 'Логин naumen': 'operator_login', 'МО закрепления': 'mo', \n",
    "                'Отсутствует на рабочем месте': 'absence', 'login': 'operator_login', 'procedure_rec_status': 'group_procedure',\n",
    "                'patient_group': 'group_name'}"
   ]
  },
  {
   "cell_type": "code",
   "execution_count": 4,
   "id": "aa095ae2",
   "metadata": {},
   "outputs": [
    {
     "name": "stdout",
     "output_type": "stream",
     "text": [
      "C:\\\\Users\\VAIO\\Documents\\GitHub\\final_framework\\merged_statuses\n"
     ]
    }
   ],
   "source": [
    "# путь файла с текущими статусами пациентов\n",
    "patients_current_statuses_path = os.path.join(Path.home(), r'Documents\\GitHub\\final_framework\\merged_statuses')\n",
    "patients_current_statuses_path = patients_current_statuses_path.split('\\\\')\n",
    "patients_current_statuses_path = os.path.join('C:\\\\', r'\\\\', *patients_current_statuses_path)\n",
    "print(patients_current_statuses_path)"
   ]
  },
  {
   "cell_type": "code",
   "execution_count": 5,
   "id": "d3cfac9f",
   "metadata": {},
   "outputs": [
    {
     "name": "stdout",
     "output_type": "stream",
     "text": [
      "\\\\t999\\Сетевой диск\\pdn\\data\\assistant_to_doctor_distribution_path\n"
     ]
    }
   ],
   "source": [
    "# путь папки с раскреплением\n",
    "assistant_to_doctor_distribution_path = \\\n",
    "r'\\\\t999\\Сетевой диск\\pdn\\data\\assistant_to_doctor_distribution_path'\n",
    "assistant_to_doctor_distribution_path = \\\n",
    "assistant_to_doctor_distribution_path.split('\\\\')\n",
    "assistant_to_doctor_distribution_path = \\\n",
    "os.path.join(r'\\\\', *assistant_to_doctor_distribution_path)\n",
    "print(assistant_to_doctor_distribution_path)"
   ]
  },
  {
   "cell_type": "code",
   "execution_count": null,
   "id": "7dcc81b3",
   "metadata": {},
   "outputs": [],
   "source": []
  },
  {
   "cell_type": "code",
   "execution_count": 6,
   "id": "ba443b23",
   "metadata": {},
   "outputs": [],
   "source": [
    "monthes = {'august', 'september'}"
   ]
  },
  {
   "cell_type": "code",
   "execution_count": 7,
   "id": "738da300",
   "metadata": {},
   "outputs": [],
   "source": [
    "doctor_fio_list = pd.DataFrame()"
   ]
  },
  {
   "cell_type": "code",
   "execution_count": 8,
   "id": "6f34e2ec",
   "metadata": {},
   "outputs": [
    {
     "name": "stderr",
     "output_type": "stream",
     "text": [
      "<timed exec>:20: FutureWarning: The default value of regex will change from True to False in a future version.\n"
     ]
    },
    {
     "name": "stdout",
     "output_type": "stream",
     "text": [
      "here\n"
     ]
    },
    {
     "name": "stderr",
     "output_type": "stream",
     "text": [
      "<timed exec>:20: FutureWarning: The default value of regex will change from True to False in a future version.\n",
      "<timed exec>:31: FutureWarning: The default value of regex will change from True to False in a future version.\n"
     ]
    },
    {
     "name": "stdout",
     "output_type": "stream",
     "text": [
      "here\n",
      "CPU times: total: 53.7 s\n",
      "Wall time: 54 s\n"
     ]
    }
   ],
   "source": [
    "%%time\n",
    "for month in monthes:\n",
    "    \n",
    "    \n",
    "    assistant_to_doctor_distribution_path_ = \\\n",
    "    os.path.join(assistant_to_doctor_distribution_path, f'{month}_patient_to_assistant_distribution.xlsx')\n",
    "    \n",
    "    \n",
    "    assistant_to_doctor_distribution = pd.read_excel(assistant_to_doctor_distribution_path_).rename(\n",
    "    columns=column_names)\n",
    "    \n",
    "    doctor_fio_list = pd.concat([doctor_fio_list, assistant_to_doctor_distribution[['doctor_fio']]]).drop_duplicates()\n",
    "    \n",
    "    patients_current_statuses_reading = pd.read_excel(\n",
    "        os.path.join(patients_current_statuses_path, rf'{month}_patients_current_statuses_with_problems_{today_y_m_d}.xlsx'))\n",
    "\n",
    "\n",
    "    patients_current_statuses = patients_current_statuses_reading.rename(columns=column_names).copy()\n",
    "    \n",
    "\n",
    "    patients_current_statuses['emiasid'] = patients_current_statuses['emiasid'].astype(str).str.replace('\\.0', '')\n",
    "    \n",
    "\n",
    "    if 'august' in month:\n",
    "        patients_current_statuses_merged = \\\n",
    "        patients_current_statuses.merge(assistant_to_doctor_distribution, on=['mo', 'doctor_fio'], how='left')\n",
    "    else:\n",
    "        assistant_to_doctor_distribution = \\\n",
    "        assistant_to_doctor_distribution.rename(columns={'mo': 'initial_mo', 'doctor_fio': 'initial_doctor_fio'})\n",
    "        \n",
    "        assistant_to_doctor_distribution['emiasid'] = \\\n",
    "        assistant_to_doctor_distribution['emiasid'].astype(str).str.replace('\\.0', '')\n",
    "        \n",
    "        patients_current_statuses_merged = \\\n",
    "        patients_current_statuses.merge(assistant_to_doctor_distribution, on=['emiasid'], how='left')\n",
    "        \n",
    "        patients_current_statuses_merged.loc[\n",
    "            (patients_current_statuses_merged.mo != patients_current_statuses_merged.initial_mo),\n",
    "                                      'problem'] = 'Смена МО на другую нашу'\n",
    "        \n",
    "    patients_current_statuses_merged.loc[patients_current_statuses_merged.problem.isin(\n",
    "    {'Смена МО на другую нашу', 'Смена МО', 'Нет прикрепления к МО'}), 'operator_login'] = np.nan\n",
    "    \n",
    "    \n",
    "    patients_current_statuses_merged = patients_current_statuses_merged[[\n",
    "        'emiasid', 'status', 'old_comment', 'next_call_date', \n",
    "        'operator_login',\n",
    "        'mo', 'doctor_fio', \n",
    "        'calls_amount', 'last_call_date',  'last_call_result', 'last_talk_result',  \n",
    "        'month', 'problem',\n",
    "        'group', 'group_procedure', 'group_name'\n",
    "    ]]\n",
    "    \n",
    "    print('here')  \n",
    "    \n",
    "    if 'september' in month:\n",
    "        september_patients_current_statuses_merged = patients_current_statuses_merged.copy()\n",
    "    elif 'august' in month:\n",
    "        august_patients_current_statuses_merged = patients_current_statuses_merged.copy()\n",
    "    \n",
    "    \n",
    "#     patients_current_statuses_merged.to_excel(\n",
    "#         os.path.join('C:\\\\', 'Users', 'murad_satabaev', 'Documents', 'GitHub',\n",
    "#         'final_framework', 'merged_statuses', \n",
    "#                      f'{month}_patients_current_statuses_with_operators_info_{today_y_m_d}.xlsx'), index=False)"
   ]
  },
  {
   "cell_type": "code",
   "execution_count": null,
   "id": "023fa63a",
   "metadata": {},
   "outputs": [],
   "source": []
  },
  {
   "cell_type": "code",
   "execution_count": 9,
   "id": "09e50e0f",
   "metadata": {},
   "outputs": [
    {
     "data": {
      "text/plain": [
       "doctor_fio    1540\n",
       "dtype: int64"
      ]
     },
     "execution_count": 9,
     "metadata": {},
     "output_type": "execute_result"
    }
   ],
   "source": [
    "doctor_fio_list.nunique()"
   ]
  },
  {
   "cell_type": "code",
   "execution_count": 10,
   "id": "eb7e078a",
   "metadata": {},
   "outputs": [],
   "source": [
    "doctor_fio_list.to_excel('doctor_fio_list.xlsx', index=False)"
   ]
  },
  {
   "cell_type": "code",
   "execution_count": null,
   "id": "c659c77b",
   "metadata": {},
   "outputs": [],
   "source": []
  },
  {
   "cell_type": "code",
   "execution_count": 15,
   "id": "d2e69f67",
   "metadata": {},
   "outputs": [
    {
     "name": "stdout",
     "output_type": "stream",
     "text": [
      "2022-09-22 15:53:04.715392\n",
      "217\n"
     ]
    }
   ],
   "source": [
    "import gspread\n",
    "from gspread_dataframe import get_as_dataframe\n",
    "gc = gspread.service_account(filename='google_sheets_credentials.json') \n",
    "url = 'https://docs.google.com/spreadsheets/d/1TXjbk9tRDMCjEyyiuK5OIgT8xwlHQ2V1PX2zaVnxPXY/edit#gid=0'\n",
    "sh = gc.open_by_url(url)\n",
    "ws = sh.get_worksheet(0)\n",
    "def search_row(ws, desired_value):\n",
    "    row_number = 0\n",
    "    for row in ws.get_all_values():\n",
    "        row_number += 1\n",
    "        for value in row:\n",
    "            if value == desired_value:\n",
    "                return row_number\n",
    "            \n",
    "skiprows = search_row(ws, 'ФИО помощника врача') - 1\n",
    "\n",
    "assistants_presence_reading = get_as_dataframe(ws, evaluate_formulas=True, skiprows=skiprows)\n",
    "assistants_presence_reading = assistants_presence_reading.loc[~(assistants_presence_reading['Зал №'] == 'Зал №'), \n",
    "    ['Зал №', 'МО закрепления', 'ФИО помощника врача', 'Логин naumen', 'Отсутствует на рабочем месте']] \\\n",
    "        .dropna(how='all', axis=0)\n",
    "\n",
    "\n",
    "print(dt.datetime.now())\n",
    "print(assistants_presence_reading.shape[0])\n",
    "\n",
    "assistants_presence = assistants_presence_reading.rename(columns=column_names).copy()[['operator_login', 'absence']]"
   ]
  },
  {
   "cell_type": "code",
   "execution_count": 16,
   "id": "b711fab7",
   "metadata": {},
   "outputs": [],
   "source": [
    "august_patients_current_statuses_merged_ = \\\n",
    "august_patients_current_statuses_merged.merge(assistants_presence, on='operator_login', how='left')\n",
    "august_patients_current_statuses_merged_.absence = \\\n",
    "august_patients_current_statuses_merged_.absence.fillna(0)"
   ]
  },
  {
   "cell_type": "code",
   "execution_count": 17,
   "id": "b7955efa",
   "metadata": {},
   "outputs": [],
   "source": [
    "september_patients_current_statuses_merged_ = \\\n",
    "september_patients_current_statuses_merged.merge(assistants_presence, on='operator_login', how='left')\n",
    "september_patients_current_statuses_merged_.absence = \\\n",
    "september_patients_current_statuses_merged_.absence.fillna(0)"
   ]
  },
  {
   "cell_type": "code",
   "execution_count": null,
   "id": "529a5cce",
   "metadata": {},
   "outputs": [],
   "source": []
  },
  {
   "cell_type": "code",
   "execution_count": 18,
   "id": "d3c243b2",
   "metadata": {},
   "outputs": [],
   "source": [
    "total_patients_current_statuses_merged = \\\n",
    "pd.concat([august_patients_current_statuses_merged_, september_patients_current_statuses_merged_]).reset_index(drop=True)"
   ]
  },
  {
   "cell_type": "code",
   "execution_count": 21,
   "id": "69ee04b5",
   "metadata": {},
   "outputs": [
    {
     "name": "stdout",
     "output_type": "stream",
     "text": [
      "CPU times: total: 12.9 s\n",
      "Wall time: 12.9 s\n"
     ]
    },
    {
     "name": "stderr",
     "output_type": "stream",
     "text": [
      "<timed exec>:8: FutureWarning: The default value of regex will change from True to False in a future version.\n"
     ]
    }
   ],
   "source": [
    "%%time\n",
    "total_patients_current_statuses_merged['last_call_date'] = \\\n",
    "total_patients_current_statuses_merged['last_call_date'].apply(lambda x: pd.to_datetime(x, dayfirst=True).date())\n",
    "\n",
    "total_patients_current_statuses_merged['next_call_date'] = \\\n",
    "total_patients_current_statuses_merged['next_call_date'].apply(lambda x: pd.to_datetime(x, dayfirst=True).date())\n",
    "\n",
    "total_patients_current_statuses_merged['emiasid'] = \\\n",
    "total_patients_current_statuses_merged['emiasid'].astype(str).str.replace('\\.0', '')"
   ]
  },
  {
   "cell_type": "code",
   "execution_count": 24,
   "id": "25a4c5d1",
   "metadata": {},
   "outputs": [],
   "source": [
    "total_patients_current_statuses_merged.to_excel(\n",
    "        os.path.join(os.path.join(patients_current_statuses_path,\n",
    "                                  f'total_patients_current_statuses_merged_with_logins_{today_y_m_d}.xlsx')), index=False)"
   ]
  },
  {
   "cell_type": "code",
   "execution_count": null,
   "id": "14dd860c",
   "metadata": {},
   "outputs": [],
   "source": []
  }
 ],
 "metadata": {
  "kernelspec": {
   "display_name": "Python 3 (ipykernel)",
   "language": "python",
   "name": "python3"
  },
  "language_info": {
   "codemirror_mode": {
    "name": "ipython",
    "version": 3
   },
   "file_extension": ".py",
   "mimetype": "text/x-python",
   "name": "python",
   "nbconvert_exporter": "python",
   "pygments_lexer": "ipython3",
   "version": "3.9.12"
  }
 },
 "nbformat": 4,
 "nbformat_minor": 5
}
