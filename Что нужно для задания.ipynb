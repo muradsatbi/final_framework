{
 "cells": [
  {
   "cell_type": "markdown",
   "id": "0df9bea6",
   "metadata": {},
   "source": [
    "* собирать емиас дату в актуальную"
   ]
  },
  {
   "cell_type": "markdown",
   "id": "5bfb807b",
   "metadata": {},
   "source": [
    "* расположить все этапы статусов в том порядке, в котором вечером и утром получается актуальная информация"
   ]
  },
  {
   "cell_type": "markdown",
   "id": "df408bb1",
   "metadata": {},
   "source": [
    "* собрать все в один или два скрипта в этом порядке"
   ]
  },
  {
   "cell_type": "markdown",
   "id": "f4e1bd11",
   "metadata": {},
   "source": [
    "задание дается на логин помощника\n",
    "значит, нужно собрать все емиасы по логину помощника\n",
    "после этого нам нужно знать, есть ли он в сегодняшней выгрузке\n",
    "после - проверить есть ли корректный номер в емиасе\n",
    "после - есть ли прикрепление к доктору и мо в емиасе\n",
    "после - проверить, соответствует ли прикрепление мо и доктора распределению Вани\n",
    "после - статус\n",
    "после - группа\n",
    "* на выход дать два файла - август и сентябрь с 4 колонками: емиас, логин, статус, комментарий\n",
    "добавить есть ли пв на смене в таблицу\n",
    "* добавить колонку врач не из списка\n",
    "* добавить в проблемы битый номер\n",
    "* формирование проблем привязать к сегодняшней емиас_дате"
   ]
  },
  {
   "cell_type": "code",
   "execution_count": null,
   "id": "9bbc7344",
   "metadata": {},
   "outputs": [],
   "source": []
  }
 ],
 "metadata": {
  "kernelspec": {
   "display_name": "Python 3 (ipykernel)",
   "language": "python",
   "name": "python3"
  },
  "language_info": {
   "codemirror_mode": {
    "name": "ipython",
    "version": 3
   },
   "file_extension": ".py",
   "mimetype": "text/x-python",
   "name": "python",
   "nbconvert_exporter": "python",
   "pygments_lexer": "ipython3",
   "version": "3.10.4"
  }
 },
 "nbformat": 4,
 "nbformat_minor": 5
}
