{
 "cells": [
  {
   "cell_type": "markdown",
   "id": "2df06fbb",
   "metadata": {},
   "source": [
    "задание дается на логин помощника\n",
    "значит, нужно собрать все емиасы по логину помощника\n",
    "после этого нам нужно знать, есть ли он в сегодняшней выгрузке\n",
    "после - проверить есть ли корректный номер в емиасе\n",
    "после - есть ли прикрепление к доктору и мо в емиасе\n",
    "после - проверить, соответствует ли прикрепление мо и доктора распределению Вани\n",
    "после - статус\n",
    "* после - группа"
   ]
  }
 ],
 "metadata": {
  "kernelspec": {
   "display_name": "Python 3 (ipykernel)",
   "language": "python",
   "name": "python3"
  },
  "language_info": {
   "codemirror_mode": {
    "name": "ipython",
    "version": 3
   },
   "file_extension": ".py",
   "mimetype": "text/x-python",
   "name": "python",
   "nbconvert_exporter": "python",
   "pygments_lexer": "ipython3",
   "version": "3.10.4"
  }
 },
 "nbformat": 4,
 "nbformat_minor": 5
}
