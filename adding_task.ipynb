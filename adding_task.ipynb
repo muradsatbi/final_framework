{
 "cells": [
  {
   "cell_type": "code",
   "execution_count": 1,
   "id": "25603c18",
   "metadata": {},
   "outputs": [],
   "source": [
    "import os\n",
    "import pandas as pd\n",
    "import datetime as dt\n",
    "import numpy as np\n",
    "import re"
   ]
  },
  {
   "cell_type": "code",
   "execution_count": 2,
   "id": "eebe2874",
   "metadata": {},
   "outputs": [
    {
     "name": "stdout",
     "output_type": "stream",
     "text": [
      "2022_09_20\n"
     ]
    }
   ],
   "source": [
    "today = pd.Timestamp(dt.datetime.today().date())\n",
    "today_ymd = today.strftime('%Y%m%d')\n",
    "today_y_m_d = today.strftime('%Y_%m_%d')\n",
    "\n",
    "yesterday = today - dt.timedelta(days=1)\n",
    "yesterday_ymd = yesterday.strftime('%Y%m%d')\n",
    "yesterday_y_m_d = yesterday.strftime('%Y-%m-%d')\n",
    "\n",
    "tomorrow = today + dt.timedelta(days=1)\n",
    "tomorrow_ymd = tomorrow.strftime('%Y%m%d')\n",
    "tomorrow_y_m_d = tomorrow.strftime('%Y-%m-%d')\n",
    "\n",
    "print(today_y_m_d)"
   ]
  },
  {
   "cell_type": "code",
   "execution_count": 6,
   "id": "682e3264",
   "metadata": {},
   "outputs": [],
   "source": [
    "today_full_task = pd.read_excel(os.path.join(r'\\\\t999', 'Сетевой диск', 'pdn', 'data','task',f'fulltask_{today_ymd}_v20.xlsx'))"
   ]
  },
  {
   "cell_type": "code",
   "execution_count": 12,
   "id": "4342c789",
   "metadata": {},
   "outputs": [],
   "source": [
    "today_total_patients_statuses = pd.read_excel(os.path.join(\n",
    "    r'C:\\\\', 'Users', 'murad_satabaev', 'Documents', 'GitHub', 'final_framework', 'merged_statuses', \n",
    "    f'total_patients_current_statuses_merged_with_logins_{today_y_m_d}.xlsx'))"
   ]
  },
  {
   "cell_type": "code",
   "execution_count": 13,
   "id": "2536c972",
   "metadata": {},
   "outputs": [
    {
     "name": "stderr",
     "output_type": "stream",
     "text": [
      "C:\\Users\\murad_satabaev\\AppData\\Local\\Temp\\ipykernel_9220\\3723432478.py:1: FutureWarning: The default value of regex will change from True to False in a future version.\n",
      "  today_full_task['emiasid'] = today_full_task['emiasid'].astype(str).str.replace('\\.0', '')\n",
      "C:\\Users\\murad_satabaev\\AppData\\Local\\Temp\\ipykernel_9220\\3723432478.py:2: FutureWarning: The default value of regex will change from True to False in a future version.\n",
      "  today_total_patients_statuses['emiasid'] = today_total_patients_statuses['emiasid'].astype(str).str.replace('\\.0', '')\n"
     ]
    }
   ],
   "source": [
    "today_full_task['emiasid'] = today_full_task['emiasid'].astype(str).str.replace('\\.0', '')\n",
    "today_total_patients_statuses['emiasid'] = today_total_patients_statuses['emiasid'].astype(str).str.replace('\\.0', '')"
   ]
  },
  {
   "cell_type": "code",
   "execution_count": 15,
   "id": "e7a125a8",
   "metadata": {},
   "outputs": [
    {
     "data": {
      "text/plain": [
       "14996"
      ]
     },
     "execution_count": 15,
     "metadata": {},
     "output_type": "execute_result"
    }
   ],
   "source": [
    "today_full_task.shape[0]"
   ]
  },
  {
   "cell_type": "code",
   "execution_count": 16,
   "id": "b4750a84",
   "metadata": {},
   "outputs": [
    {
     "data": {
      "text/plain": [
       "14996"
      ]
     },
     "execution_count": 16,
     "metadata": {},
     "output_type": "execute_result"
    }
   ],
   "source": [
    "today_full_task.drop_duplicates(subset='emiasid').shape[0]"
   ]
  },
  {
   "cell_type": "code",
   "execution_count": 17,
   "id": "9ce64976",
   "metadata": {
    "scrolled": true
   },
   "outputs": [
    {
     "data": {
      "text/plain": [
       "15074"
      ]
     },
     "execution_count": 17,
     "metadata": {},
     "output_type": "execute_result"
    }
   ],
   "source": [
    "today_total_patients_statuses[today_total_patients_statuses.emiasid.isin(today_full_task.emiasid)].shape[0]"
   ]
  },
  {
   "cell_type": "code",
   "execution_count": 18,
   "id": "07fe74f3",
   "metadata": {},
   "outputs": [
    {
     "data": {
      "text/plain": [
       "94310"
      ]
     },
     "execution_count": 18,
     "metadata": {},
     "output_type": "execute_result"
    }
   ],
   "source": [
    "not_in_today_task = \\\n",
    "today_total_patients_statuses[~today_total_patients_statuses.emiasid.isin(today_full_task.emiasid)]\n",
    "not_in_today_task.shape[0]"
   ]
  },
  {
   "cell_type": "code",
   "execution_count": 19,
   "id": "b5af9003",
   "metadata": {},
   "outputs": [],
   "source": [
    "not_in_today_task.to_excel('not_in_today_task.xlsx', index=False)"
   ]
  },
  {
   "cell_type": "code",
   "execution_count": 22,
   "id": "87588417",
   "metadata": {},
   "outputs": [
    {
     "data": {
      "text/html": [
       "<div>\n",
       "<style scoped>\n",
       "    .dataframe tbody tr th:only-of-type {\n",
       "        vertical-align: middle;\n",
       "    }\n",
       "\n",
       "    .dataframe tbody tr th {\n",
       "        vertical-align: top;\n",
       "    }\n",
       "\n",
       "    .dataframe thead th {\n",
       "        text-align: right;\n",
       "    }\n",
       "</style>\n",
       "<table border=\"1\" class=\"dataframe\">\n",
       "  <thead>\n",
       "    <tr style=\"text-align: right;\">\n",
       "      <th></th>\n",
       "      <th>emiasid</th>\n",
       "    </tr>\n",
       "    <tr>\n",
       "      <th>operator_login</th>\n",
       "      <th></th>\n",
       "    </tr>\n",
       "  </thead>\n",
       "  <tbody>\n",
       "    <tr>\n",
       "      <th>pomoshnik_pdn151_n2</th>\n",
       "      <td>6</td>\n",
       "    </tr>\n",
       "    <tr>\n",
       "      <th>pomoshnik_pdn131_n2</th>\n",
       "      <td>27</td>\n",
       "    </tr>\n",
       "    <tr>\n",
       "      <th>pomoshnik_pdn130_n2</th>\n",
       "      <td>54</td>\n",
       "    </tr>\n",
       "    <tr>\n",
       "      <th>pomoshnik_pdn155_n2</th>\n",
       "      <td>60</td>\n",
       "    </tr>\n",
       "    <tr>\n",
       "      <th>pomoshnik_pdn180_n2</th>\n",
       "      <td>66</td>\n",
       "    </tr>\n",
       "    <tr>\n",
       "      <th>pomoshnik_pdn271_n2</th>\n",
       "      <td>89</td>\n",
       "    </tr>\n",
       "    <tr>\n",
       "      <th>pomoshnik_pdn307_n2</th>\n",
       "      <td>90</td>\n",
       "    </tr>\n",
       "    <tr>\n",
       "      <th>pomoshnik_pdn309_n2</th>\n",
       "      <td>90</td>\n",
       "    </tr>\n",
       "    <tr>\n",
       "      <th>pomoshnik_pdn30_n2</th>\n",
       "      <td>90</td>\n",
       "    </tr>\n",
       "    <tr>\n",
       "      <th>pomoshnik_pdn31_n2</th>\n",
       "      <td>90</td>\n",
       "    </tr>\n",
       "  </tbody>\n",
       "</table>\n",
       "</div>"
      ],
      "text/plain": [
       "                     emiasid\n",
       "operator_login              \n",
       "pomoshnik_pdn151_n2        6\n",
       "pomoshnik_pdn131_n2       27\n",
       "pomoshnik_pdn130_n2       54\n",
       "pomoshnik_pdn155_n2       60\n",
       "pomoshnik_pdn180_n2       66\n",
       "pomoshnik_pdn271_n2       89\n",
       "pomoshnik_pdn307_n2       90\n",
       "pomoshnik_pdn309_n2       90\n",
       "pomoshnik_pdn30_n2        90\n",
       "pomoshnik_pdn31_n2        90"
      ]
     },
     "execution_count": 22,
     "metadata": {},
     "output_type": "execute_result"
    }
   ],
   "source": [
    "today_full_task.groupby('operator_login').agg({'emiasid': 'count'}).sort_values(by='emiasid').head(10)"
   ]
  },
  {
   "cell_type": "code",
   "execution_count": null,
   "id": "c7940268",
   "metadata": {},
   "outputs": [],
   "source": []
  }
 ],
 "metadata": {
  "kernelspec": {
   "display_name": "Python 3 (ipykernel)",
   "language": "python",
   "name": "python3"
  },
  "language_info": {
   "codemirror_mode": {
    "name": "ipython",
    "version": 3
   },
   "file_extension": ".py",
   "mimetype": "text/x-python",
   "name": "python",
   "nbconvert_exporter": "python",
   "pygments_lexer": "ipython3",
   "version": "3.10.4"
  }
 },
 "nbformat": 4,
 "nbformat_minor": 5
}
