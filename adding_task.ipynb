{
 "cells": [
  {
   "cell_type": "code",
   "execution_count": 1,
   "id": "25603c18",
   "metadata": {},
   "outputs": [],
   "source": [
    "import os\n",
    "import pandas as pd\n",
    "import datetime as dt\n",
    "import numpy as np\n",
    "import re\n",
    "from pathlib import Path"
   ]
  },
  {
   "cell_type": "code",
   "execution_count": 2,
   "id": "eebe2874",
   "metadata": {},
   "outputs": [
    {
     "name": "stdout",
     "output_type": "stream",
     "text": [
      "2022_09_23\n"
     ]
    }
   ],
   "source": [
    "today = pd.Timestamp(dt.datetime.today().date())\n",
    "today_ymd = today.strftime('%Y%m%d')\n",
    "today_y_m_d = today.strftime('%Y_%m_%d')\n",
    "\n",
    "yesterday = today - dt.timedelta(days=1)\n",
    "yesterday_ymd = yesterday.strftime('%Y%m%d')\n",
    "yesterday_y_m_d = yesterday.strftime('%Y_%m_%d')\n",
    "\n",
    "tomorrow = today + dt.timedelta(days=1)\n",
    "tomorrow_ymd = tomorrow.strftime('%Y%m%d')\n",
    "tomorrow_y_m_d = tomorrow.strftime('%Y_%m_%d')\n",
    "\n",
    "print(today_y_m_d)"
   ]
  },
  {
   "cell_type": "code",
   "execution_count": 3,
   "id": "682e3264",
   "metadata": {},
   "outputs": [],
   "source": [
    "today_full_task = pd.read_excel(os.path.join(r'\\\\t999', 'Сетевой диск', 'pdn', 'data','task',f'fulltask_{today_ymd}_v20.xlsx'))"
   ]
  },
  {
   "cell_type": "code",
   "execution_count": 4,
   "id": "4342c789",
   "metadata": {},
   "outputs": [],
   "source": [
    "today_total_patients_statuses = \\\n",
    "pd.read_excel(os.path.join(Path.home(), 'Documents', 'GitHub', 'final_framework', 'merged_statuses', \n",
    "                           f'total_patients_current_statuses_merged_with_logins_{today_y_m_d}.xlsx'))"
   ]
  },
  {
   "cell_type": "code",
   "execution_count": null,
   "id": "8f31654e",
   "metadata": {},
   "outputs": [],
   "source": []
  },
  {
   "cell_type": "code",
   "execution_count": 5,
   "id": "2536c972",
   "metadata": {},
   "outputs": [
    {
     "name": "stderr",
     "output_type": "stream",
     "text": [
      "C:\\Users\\VAIO\\AppData\\Local\\Temp\\ipykernel_10660\\3723432478.py:1: FutureWarning: The default value of regex will change from True to False in a future version.\n",
      "  today_full_task['emiasid'] = today_full_task['emiasid'].astype(str).str.replace('\\.0', '')\n",
      "C:\\Users\\VAIO\\AppData\\Local\\Temp\\ipykernel_10660\\3723432478.py:2: FutureWarning: The default value of regex will change from True to False in a future version.\n",
      "  today_total_patients_statuses['emiasid'] = today_total_patients_statuses['emiasid'].astype(str).str.replace('\\.0', '')\n"
     ]
    }
   ],
   "source": [
    "today_full_task['emiasid'] = today_full_task['emiasid'].astype(str).str.replace('\\.0', '')\n",
    "today_total_patients_statuses['emiasid'] = today_total_patients_statuses['emiasid'].astype(str).str.replace('\\.0', '')"
   ]
  },
  {
   "cell_type": "code",
   "execution_count": 6,
   "id": "e7a125a8",
   "metadata": {},
   "outputs": [
    {
     "data": {
      "text/plain": [
       "13705"
      ]
     },
     "execution_count": 6,
     "metadata": {},
     "output_type": "execute_result"
    }
   ],
   "source": [
    "today_full_task.shape[0]"
   ]
  },
  {
   "cell_type": "code",
   "execution_count": 7,
   "id": "b4750a84",
   "metadata": {},
   "outputs": [
    {
     "data": {
      "text/plain": [
       "13705"
      ]
     },
     "execution_count": 7,
     "metadata": {},
     "output_type": "execute_result"
    }
   ],
   "source": [
    "today_full_task.drop_duplicates(subset='emiasid').shape[0]"
   ]
  },
  {
   "cell_type": "code",
   "execution_count": null,
   "id": "5e1dd719",
   "metadata": {},
   "outputs": [],
   "source": []
  },
  {
   "cell_type": "code",
   "execution_count": 8,
   "id": "9ce64976",
   "metadata": {
    "scrolled": true
   },
   "outputs": [],
   "source": [
    "today_total_patients_statuses.loc[\n",
    "    today_total_patients_statuses.emiasid.isin(today_full_task.emiasid), 'is_in_today_task'] = 'есть'\n",
    "today_total_patients_statuses.is_in_today_task = today_total_patients_statuses.is_in_today_task.fillna('нет')"
   ]
  },
  {
   "cell_type": "code",
   "execution_count": 9,
   "id": "c402ee22",
   "metadata": {},
   "outputs": [],
   "source": [
    "before_1 = pd.read_excel('fulltask_20220920_v20.xlsx')\n",
    "before_2 = pd.read_excel('fulltask_20220921_v20.xlsx')\n",
    "before_3 = pd.read_excel('fulltask_20220922_v20.xlsx')"
   ]
  },
  {
   "cell_type": "code",
   "execution_count": 10,
   "id": "132c578c",
   "metadata": {},
   "outputs": [
    {
     "name": "stderr",
     "output_type": "stream",
     "text": [
      "C:\\Users\\VAIO\\AppData\\Local\\Temp\\ipykernel_10660\\24782371.py:1: FutureWarning: The default value of regex will change from True to False in a future version.\n",
      "  before_1['emiasid'] = before_1['emiasid'].astype(str).str.replace('\\.0', '')\n",
      "C:\\Users\\VAIO\\AppData\\Local\\Temp\\ipykernel_10660\\24782371.py:2: FutureWarning: The default value of regex will change from True to False in a future version.\n",
      "  before_2['emiasid'] = before_2['emiasid'].astype(str).str.replace('\\.0', '')\n",
      "C:\\Users\\VAIO\\AppData\\Local\\Temp\\ipykernel_10660\\24782371.py:3: FutureWarning: The default value of regex will change from True to False in a future version.\n",
      "  before_3['emiasid'] = before_3['emiasid'].astype(str).str.replace('\\.0', '')\n"
     ]
    }
   ],
   "source": [
    "before_1['emiasid'] = before_1['emiasid'].astype(str).str.replace('\\.0', '')\n",
    "before_2['emiasid'] = before_2['emiasid'].astype(str).str.replace('\\.0', '')\n",
    "before_3['emiasid'] = before_3['emiasid'].astype(str).str.replace('\\.0', '')"
   ]
  },
  {
   "cell_type": "code",
   "execution_count": 11,
   "id": "051fa513",
   "metadata": {},
   "outputs": [],
   "source": [
    "exclude_emiases = set(before_2['emiasid'].unique()) | set(before_3['emiasid'].unique()) | set(before_1['emiasid'].unique())"
   ]
  },
  {
   "cell_type": "code",
   "execution_count": 12,
   "id": "a26776a6",
   "metadata": {},
   "outputs": [],
   "source": [
    "today_total_patients_statuses.loc[\n",
    "    today_total_patients_statuses.emiasid.isin(exclude_emiases), 'is_in_tasks_before'] = 'есть'\n",
    "today_total_patients_statuses.is_in_tasks_before = today_total_patients_statuses.is_in_tasks_before.fillna('нет')"
   ]
  },
  {
   "cell_type": "code",
   "execution_count": null,
   "id": "885bfc7c",
   "metadata": {},
   "outputs": [],
   "source": []
  },
  {
   "cell_type": "code",
   "execution_count": 13,
   "id": "8b22fb1b",
   "metadata": {},
   "outputs": [],
   "source": [
    "today_total_patients_statuses.to_excel('patients_current_statuses_for_task_analysis.xlsx', index=False)"
   ]
  },
  {
   "cell_type": "code",
   "execution_count": 14,
   "id": "87588417",
   "metadata": {},
   "outputs": [
    {
     "data": {
      "text/html": [
       "<div>\n",
       "<style scoped>\n",
       "    .dataframe tbody tr th:only-of-type {\n",
       "        vertical-align: middle;\n",
       "    }\n",
       "\n",
       "    .dataframe tbody tr th {\n",
       "        vertical-align: top;\n",
       "    }\n",
       "\n",
       "    .dataframe thead th {\n",
       "        text-align: right;\n",
       "    }\n",
       "</style>\n",
       "<table border=\"1\" class=\"dataframe\">\n",
       "  <thead>\n",
       "    <tr style=\"text-align: right;\">\n",
       "      <th></th>\n",
       "      <th>emiasid</th>\n",
       "    </tr>\n",
       "    <tr>\n",
       "      <th>operator_login</th>\n",
       "      <th></th>\n",
       "    </tr>\n",
       "  </thead>\n",
       "  <tbody>\n",
       "    <tr>\n",
       "      <th>pomoshnik_pdn151_n2</th>\n",
       "      <td>2</td>\n",
       "    </tr>\n",
       "    <tr>\n",
       "      <th>pomoshnik_pdn200_n2</th>\n",
       "      <td>38</td>\n",
       "    </tr>\n",
       "    <tr>\n",
       "      <th>pomoshnik_pdn199_n2</th>\n",
       "      <td>39</td>\n",
       "    </tr>\n",
       "    <tr>\n",
       "      <th>pomoshnik_pdn240_n2</th>\n",
       "      <td>42</td>\n",
       "    </tr>\n",
       "    <tr>\n",
       "      <th>pomoshnik_pdn90_n2</th>\n",
       "      <td>45</td>\n",
       "    </tr>\n",
       "    <tr>\n",
       "      <th>pomoshnik_pdn265_n2</th>\n",
       "      <td>48</td>\n",
       "    </tr>\n",
       "    <tr>\n",
       "      <th>pomoshnik_pdn188_n2</th>\n",
       "      <td>49</td>\n",
       "    </tr>\n",
       "    <tr>\n",
       "      <th>pomoshnik_pdn85_n2</th>\n",
       "      <td>49</td>\n",
       "    </tr>\n",
       "    <tr>\n",
       "      <th>pomoshnik_pdn191_n2</th>\n",
       "      <td>57</td>\n",
       "    </tr>\n",
       "    <tr>\n",
       "      <th>pomoshnik_pdn241_n2</th>\n",
       "      <td>59</td>\n",
       "    </tr>\n",
       "  </tbody>\n",
       "</table>\n",
       "</div>"
      ],
      "text/plain": [
       "                     emiasid\n",
       "operator_login              \n",
       "pomoshnik_pdn151_n2        2\n",
       "pomoshnik_pdn200_n2       38\n",
       "pomoshnik_pdn199_n2       39\n",
       "pomoshnik_pdn240_n2       42\n",
       "pomoshnik_pdn90_n2        45\n",
       "pomoshnik_pdn265_n2       48\n",
       "pomoshnik_pdn188_n2       49\n",
       "pomoshnik_pdn85_n2        49\n",
       "pomoshnik_pdn191_n2       57\n",
       "pomoshnik_pdn241_n2       59"
      ]
     },
     "execution_count": 14,
     "metadata": {},
     "output_type": "execute_result"
    }
   ],
   "source": [
    "today_full_task.groupby('operator_login').agg({'emiasid': 'count'}).sort_values(by='emiasid').head(10)"
   ]
  },
  {
   "cell_type": "code",
   "execution_count": 15,
   "id": "04d62f1b",
   "metadata": {},
   "outputs": [
    {
     "data": {
      "text/html": [
       "<div>\n",
       "<style scoped>\n",
       "    .dataframe tbody tr th:only-of-type {\n",
       "        vertical-align: middle;\n",
       "    }\n",
       "\n",
       "    .dataframe tbody tr th {\n",
       "        vertical-align: top;\n",
       "    }\n",
       "\n",
       "    .dataframe thead th {\n",
       "        text-align: right;\n",
       "    }\n",
       "</style>\n",
       "<table border=\"1\" class=\"dataframe\">\n",
       "  <thead>\n",
       "    <tr style=\"text-align: right;\">\n",
       "      <th></th>\n",
       "      <th>emiasid</th>\n",
       "    </tr>\n",
       "    <tr>\n",
       "      <th>operator_login</th>\n",
       "      <th></th>\n",
       "    </tr>\n",
       "  </thead>\n",
       "  <tbody>\n",
       "    <tr>\n",
       "      <th>pomoshnik_pdn101_n2</th>\n",
       "      <td>90</td>\n",
       "    </tr>\n",
       "    <tr>\n",
       "      <th>pomoshnik_pdn49_n2</th>\n",
       "      <td>90</td>\n",
       "    </tr>\n",
       "    <tr>\n",
       "      <th>pomoshnik_pdn47_n2</th>\n",
       "      <td>90</td>\n",
       "    </tr>\n",
       "    <tr>\n",
       "      <th>pomoshnik_pdn45_n2</th>\n",
       "      <td>90</td>\n",
       "    </tr>\n",
       "    <tr>\n",
       "      <th>pomoshnik_pdn43_n2</th>\n",
       "      <td>90</td>\n",
       "    </tr>\n",
       "    <tr>\n",
       "      <th>pomoshnik_pdn41_n2</th>\n",
       "      <td>90</td>\n",
       "    </tr>\n",
       "    <tr>\n",
       "      <th>pomoshnik_pdn40_n2</th>\n",
       "      <td>90</td>\n",
       "    </tr>\n",
       "    <tr>\n",
       "      <th>pomoshnik_pdn39_n2</th>\n",
       "      <td>90</td>\n",
       "    </tr>\n",
       "    <tr>\n",
       "      <th>pomoshnik_pdn38_n2</th>\n",
       "      <td>90</td>\n",
       "    </tr>\n",
       "    <tr>\n",
       "      <th>pomoshnik_pdn37_n2</th>\n",
       "      <td>90</td>\n",
       "    </tr>\n",
       "  </tbody>\n",
       "</table>\n",
       "</div>"
      ],
      "text/plain": [
       "                     emiasid\n",
       "operator_login              \n",
       "pomoshnik_pdn101_n2       90\n",
       "pomoshnik_pdn49_n2        90\n",
       "pomoshnik_pdn47_n2        90\n",
       "pomoshnik_pdn45_n2        90\n",
       "pomoshnik_pdn43_n2        90\n",
       "pomoshnik_pdn41_n2        90\n",
       "pomoshnik_pdn40_n2        90\n",
       "pomoshnik_pdn39_n2        90\n",
       "pomoshnik_pdn38_n2        90\n",
       "pomoshnik_pdn37_n2        90"
      ]
     },
     "execution_count": 15,
     "metadata": {},
     "output_type": "execute_result"
    }
   ],
   "source": [
    "today_full_task.groupby('operator_login').agg({'emiasid': 'count'}).sort_values(by='emiasid', ascending=False).head(10)"
   ]
  },
  {
   "cell_type": "code",
   "execution_count": null,
   "id": "bd592009",
   "metadata": {},
   "outputs": [],
   "source": []
  }
 ],
 "metadata": {
  "kernelspec": {
   "display_name": "Python 3 (ipykernel)",
   "language": "python",
   "name": "python3"
  },
  "language_info": {
   "codemirror_mode": {
    "name": "ipython",
    "version": 3
   },
   "file_extension": ".py",
   "mimetype": "text/x-python",
   "name": "python",
   "nbconvert_exporter": "python",
   "pygments_lexer": "ipython3",
   "version": "3.9.12"
  }
 },
 "nbformat": 4,
 "nbformat_minor": 5
}
