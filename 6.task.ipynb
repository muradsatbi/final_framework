{
 "cells": [
  {
   "cell_type": "code",
   "execution_count": 1,
   "id": "46b622c0",
   "metadata": {},
   "outputs": [],
   "source": [
    "import os\n",
    "import pandas as pd\n",
    "import datetime as dt\n",
    "import numpy as np\n",
    "import re"
   ]
  },
  {
   "cell_type": "code",
   "execution_count": 2,
   "id": "fe673d61",
   "metadata": {},
   "outputs": [],
   "source": [
    "column_names = {'Emiasid': 'emiasid', 'Emiasid ': 'emiasid' , 'emiasid ': 'emiasid', 'EMIAS_ID': 'emiasid', 'МО': 'mo', \n",
    "                'МУ': 'mu', 'Логин оператора': 'operator_login', 'Дата и время звонка': 'call_date', \n",
    "                'Результат звонка': 'call_result', 'Результат звонка ': 'call_result', 'Разговор состоялся': 'talk_result', \n",
    "                'Комменатрий': 'comment', 'Дата и время переноса': 'next_call_date', 'Контактный телефон': 'phone_number', \n",
    "                'ФИО врача': 'doctor_fio', 'ФИО помощника врача': 'assistant_fio', 'Логин помощника врача': 'operator_login',\n",
    "                'Зал №': 'hall_number', 'Логин naumen': 'operator_login', 'МО закрепления': 'mo', \n",
    "                'Отсутствует на рабочем месте': 'absence', 'login': 'operator_login', 'procedure_rec_status': 'group_procedure',\n",
    "                'patient_group': 'group_name'}"
   ]
  },
  {
   "cell_type": "code",
   "execution_count": 3,
   "id": "2775ffd9",
   "metadata": {},
   "outputs": [
    {
     "name": "stdout",
     "output_type": "stream",
     "text": [
      "2022_09_21\n"
     ]
    }
   ],
   "source": [
    "today = pd.Timestamp(dt.datetime.today().date())\n",
    "today_ymd = today.strftime('%Y%m%d')\n",
    "today_y_m_d = today.strftime('%Y_%m_%d')\n",
    "\n",
    "yesterday = today - dt.timedelta(days=1)\n",
    "yesterday_ymd = yesterday.strftime('%Y%m%d')\n",
    "yesterday_y_m_d = yesterday.strftime('%Y-%m-%d')\n",
    "\n",
    "tomorrow = today + dt.timedelta(days=1)\n",
    "tomorrow_ymd = tomorrow.strftime('%Y%m%d')\n",
    "tomorrow_y_m_d = tomorrow.strftime('%Y-%m-%d')\n",
    "\n",
    "print(today_y_m_d)"
   ]
  },
  {
   "cell_type": "code",
   "execution_count": null,
   "id": "5a018e64",
   "metadata": {},
   "outputs": [],
   "source": []
  },
  {
   "cell_type": "code",
   "execution_count": 4,
   "id": "ad9e64be",
   "metadata": {},
   "outputs": [
    {
     "name": "stdout",
     "output_type": "stream",
     "text": [
      "C:\\\\Users\\murad_satabaev\\Documents\\GitHub\\final_framework\\merged_statuses\\total_patients_current_statuses_merged_with_logins_2022_09_21.xlsx\n"
     ]
    }
   ],
   "source": [
    "# путь файла с текущими статусами пациентов\n",
    "patients_current_statuses_path = \\\n",
    "r'\\Users\\murad_satabaev\\Documents\\GitHub\\final_framework\\merged_statuses'\n",
    "\n",
    "patients_current_statuses_path = patients_current_statuses_path.split('\\\\')\n",
    "patients_current_statuses_data = os.path.join('C:\\\\', r'\\\\', *patients_current_statuses_path,\n",
    "                                             f'total_patients_current_statuses_merged_with_logins_{today_y_m_d}.xlsx')\n",
    "print(patients_current_statuses_data)"
   ]
  },
  {
   "cell_type": "code",
   "execution_count": null,
   "id": "51866654",
   "metadata": {},
   "outputs": [],
   "source": []
  },
  {
   "cell_type": "code",
   "execution_count": 5,
   "id": "e5ed60c6",
   "metadata": {},
   "outputs": [
    {
     "name": "stdout",
     "output_type": "stream",
     "text": [
      "\\\\t999\\Сетевой диск\\pdn\\data\\emias_data\\xlsx\n"
     ]
    }
   ],
   "source": [
    "# путь файла с сегодняшними \n",
    "emias_data_path = r'\\\\t999\\Сетевой диск\\pdn\\data\\emias_data\\xlsx'\n",
    "emias_data_path = emias_data_path.split('\\\\')\n",
    "emias_data_path = os.path.join(r'\\\\', *emias_data_path)\n",
    "print(emias_data_path)"
   ]
  },
  {
   "cell_type": "code",
   "execution_count": null,
   "id": "486ef970",
   "metadata": {},
   "outputs": [],
   "source": []
  },
  {
   "cell_type": "code",
   "execution_count": 6,
   "id": "2cccbb11",
   "metadata": {},
   "outputs": [
    {
     "name": "stdout",
     "output_type": "stream",
     "text": [
      "\\\\t999\\Сетевой диск\\pdn\\data\\emias_data\\xlsx\\DAT_4059_выгрузка_списков_на_обзвон_помощниками_2022-09-21.xlsx\n"
     ]
    }
   ],
   "source": [
    "today_emias_data_path = [os.path.join(emias_data_path, filename) for filename in os.listdir(emias_data_path) if '4059' \n",
    "                         in filename and '~' not in filename and today.strftime('%Y-%m-%d') in filename][0]\n",
    "print(today_emias_data_path)"
   ]
  },
  {
   "cell_type": "code",
   "execution_count": null,
   "id": "756c9df2",
   "metadata": {},
   "outputs": [],
   "source": []
  },
  {
   "cell_type": "code",
   "execution_count": 7,
   "id": "0281f145",
   "metadata": {},
   "outputs": [],
   "source": [
    "# чтение всех файлов по отдельности, чтобы не тратить время на повторное чтение файла, который уже прочитан"
   ]
  },
  {
   "cell_type": "code",
   "execution_count": 8,
   "id": "c7667db9",
   "metadata": {},
   "outputs": [
    {
     "data": {
      "text/plain": [
       "97170"
      ]
     },
     "execution_count": 8,
     "metadata": {},
     "output_type": "execute_result"
    }
   ],
   "source": [
    "today_emias_data_reading = pd.read_excel(today_emias_data_path)\n",
    "today_emias_data_reading.shape[0]"
   ]
  },
  {
   "cell_type": "code",
   "execution_count": null,
   "id": "ef42d90b",
   "metadata": {},
   "outputs": [],
   "source": []
  },
  {
   "cell_type": "code",
   "execution_count": 9,
   "id": "073f584d",
   "metadata": {},
   "outputs": [
    {
     "data": {
      "text/plain": [
       "109384"
      ]
     },
     "execution_count": 9,
     "metadata": {},
     "output_type": "execute_result"
    }
   ],
   "source": [
    "patients_current_statuses_reading = pd.read_excel(patients_current_statuses_data)\n",
    "patients_current_statuses_reading.shape[0]"
   ]
  },
  {
   "cell_type": "code",
   "execution_count": null,
   "id": "2fbf907a",
   "metadata": {},
   "outputs": [],
   "source": []
  },
  {
   "cell_type": "code",
   "execution_count": null,
   "id": "9c6273b1",
   "metadata": {},
   "outputs": [],
   "source": []
  },
  {
   "cell_type": "code",
   "execution_count": null,
   "id": "512a7164",
   "metadata": {},
   "outputs": [],
   "source": []
  },
  {
   "cell_type": "code",
   "execution_count": 10,
   "id": "5ba235b9",
   "metadata": {
    "scrolled": true
   },
   "outputs": [
    {
     "name": "stdout",
     "output_type": "stream",
     "text": [
      "2022-09-21 09:19:06.328894\n",
      "217\n"
     ]
    }
   ],
   "source": [
    "import gspread\n",
    "from gspread_dataframe import get_as_dataframe\n",
    "gc = gspread.service_account(filename='google_sheets_credentials.json') \n",
    "url = 'https://docs.google.com/spreadsheets/d/1TXjbk9tRDMCjEyyiuK5OIgT8xwlHQ2V1PX2zaVnxPXY/edit#gid=0'\n",
    "sh = gc.open_by_url(url)\n",
    "ws = sh.get_worksheet(0)\n",
    "def search_row(ws, desired_value):\n",
    "    row_number = 0\n",
    "    for row in ws.get_all_values():\n",
    "        row_number += 1\n",
    "        for value in row:\n",
    "            if value == desired_value:\n",
    "                return row_number\n",
    "            \n",
    "skiprows = search_row(ws, 'ФИО помощника врача') - 1\n",
    "\n",
    "assistants_presence_reading = get_as_dataframe(ws, evaluate_formulas=True, skiprows=skiprows)\n",
    "assistants_presence_reading = assistants_presence_reading.loc[~(assistants_presence_reading['Зал №'] == 'Зал №'), \n",
    "    ['Зал №', 'МО закрепления', 'ФИО помощника врача', 'Логин naumen', 'Отсутствует на рабочем месте']] \\\n",
    "        .dropna(how='all', axis=0)\n",
    "\n",
    "\n",
    "print(dt.datetime.now())\n",
    "print(assistants_presence_reading.shape[0])\n",
    "\n",
    "assistants_presence = assistants_presence_reading.rename(columns=column_names).copy()"
   ]
  },
  {
   "cell_type": "code",
   "execution_count": 11,
   "id": "62ef8a60",
   "metadata": {
    "scrolled": true
   },
   "outputs": [
    {
     "name": "stdout",
     "output_type": "stream",
     "text": [
      "\n",
      "В сумме количество отсуствующих и присутствующих равны общему количеству помощников\n",
      "\n"
     ]
    }
   ],
   "source": [
    "if assistants_presence[assistants_presence.absence.isna()].operator_login.nunique() + \\\n",
    "assistants_presence[assistants_presence.absence == 1].operator_login.nunique() == assistants_presence.operator_login.nunique():\n",
    "    print('\\nВ сумме количество отсуствующих и присутствующих равны общему количеству помощников\\n')\n",
    "else:\n",
    "    print(5 * '\\nПРОВЕРЬТЕ ТАБЛИЦУ ОТСУТСТВУЮЩИХ И ПРИСУТСТВУЮЩИХ\\n!!!\\n')"
   ]
  },
  {
   "cell_type": "code",
   "execution_count": 12,
   "id": "a4934b67",
   "metadata": {},
   "outputs": [
    {
     "name": "stdout",
     "output_type": "stream",
     "text": [
      "164\n",
      "53\n"
     ]
    }
   ],
   "source": [
    "present_assistants = assistants_presence[assistants_presence.absence.isna()]\n",
    "print(present_assistants.shape[0])\n",
    "absent_assistants = assistants_presence[~assistants_presence.absence.isna()]\n",
    "print(absent_assistants.shape[0])"
   ]
  },
  {
   "cell_type": "code",
   "execution_count": null,
   "id": "197a2065",
   "metadata": {},
   "outputs": [],
   "source": []
  },
  {
   "cell_type": "code",
   "execution_count": null,
   "id": "2739fb1d",
   "metadata": {},
   "outputs": [],
   "source": []
  },
  {
   "cell_type": "code",
   "execution_count": null,
   "id": "4b8afc6b",
   "metadata": {},
   "outputs": [],
   "source": []
  },
  {
   "cell_type": "code",
   "execution_count": null,
   "id": "849d2c5f",
   "metadata": {},
   "outputs": [],
   "source": []
  },
  {
   "cell_type": "code",
   "execution_count": 13,
   "id": "a6d5b879",
   "metadata": {},
   "outputs": [],
   "source": [
    "patients_current_statuses = patients_current_statuses_reading.rename(columns=column_names).copy()"
   ]
  },
  {
   "cell_type": "code",
   "execution_count": 14,
   "id": "efa1d87b",
   "metadata": {},
   "outputs": [],
   "source": [
    "today_emias_data = today_emias_data_reading.rename(columns=column_names)"
   ]
  },
  {
   "cell_type": "code",
   "execution_count": 15,
   "id": "0cb16a0b",
   "metadata": {},
   "outputs": [
    {
     "name": "stderr",
     "output_type": "stream",
     "text": [
      "C:\\Users\\murad_satabaev\\AppData\\Local\\Temp\\ipykernel_7380\\1251941699.py:2: FutureWarning: The default value of regex will change from True to False in a future version.\n",
      "  patients_current_statuses['emiasid'] = patients_current_statuses['emiasid'].astype(str).str.replace('\\.0', '')\n"
     ]
    }
   ],
   "source": [
    "patients_current_statuses = patients_current_statuses_reading.rename(columns=column_names).copy()\n",
    "patients_current_statuses['emiasid'] = patients_current_statuses['emiasid'].astype(str).str.replace('\\.0', '')\n",
    "patients_current_statuses['next_call_date'] = patients_current_statuses['next_call_date'] \\\n",
    ".apply(lambda x: pd.to_datetime(x, dayfirst=True).date())\n",
    "patients_current_statuses['last_call_date'] = patients_current_statuses['last_call_date'] \\\n",
    ".apply(lambda x: pd.to_datetime(x, dayfirst=True).date())"
   ]
  },
  {
   "cell_type": "code",
   "execution_count": null,
   "id": "7944daaf",
   "metadata": {},
   "outputs": [],
   "source": []
  },
  {
   "cell_type": "code",
   "execution_count": null,
   "id": "c82383ed",
   "metadata": {},
   "outputs": [],
   "source": []
  },
  {
   "cell_type": "code",
   "execution_count": null,
   "id": "65de920b",
   "metadata": {},
   "outputs": [],
   "source": []
  },
  {
   "cell_type": "code",
   "execution_count": null,
   "id": "86656396",
   "metadata": {},
   "outputs": [],
   "source": [
    "# Переведем все типы данных емиасайди, телефоны и прочие числовые данные в строки"
   ]
  },
  {
   "cell_type": "code",
   "execution_count": 16,
   "id": "6c79f091",
   "metadata": {
    "scrolled": true
   },
   "outputs": [
    {
     "name": "stderr",
     "output_type": "stream",
     "text": [
      "C:\\Users\\murad_satabaev\\AppData\\Local\\Temp\\ipykernel_7380\\3971369908.py:1: FutureWarning: The default value of regex will change from True to False in a future version.\n",
      "  today_emias_data['emiasid'] = today_emias_data['emiasid'].astype(str).str.replace('\\.0', '')\n",
      "C:\\Users\\murad_satabaev\\AppData\\Local\\Temp\\ipykernel_7380\\3971369908.py:2: FutureWarning: The default value of regex will change from True to False in a future version.\n",
      "  today_emias_data['phone'] = today_emias_data['phone'].astype(str).str.replace('\\.0', '')\n"
     ]
    }
   ],
   "source": [
    "today_emias_data['emiasid'] = today_emias_data['emiasid'].astype(str).str.replace('\\.0', '')\n",
    "today_emias_data['phone'] = today_emias_data['phone'].astype(str).str.replace('\\.0', '')"
   ]
  },
  {
   "cell_type": "code",
   "execution_count": null,
   "id": "7c5391ec",
   "metadata": {},
   "outputs": [],
   "source": []
  },
  {
   "cell_type": "code",
   "execution_count": null,
   "id": "ca2712ee",
   "metadata": {},
   "outputs": [],
   "source": []
  },
  {
   "cell_type": "code",
   "execution_count": 17,
   "id": "7d6edfb7",
   "metadata": {},
   "outputs": [
    {
     "name": "stdout",
     "output_type": "stream",
     "text": [
      "\\\\t999\\Сетевой диск\\pdn\\data\\assistant_to_doctor_distribution_path\n"
     ]
    }
   ],
   "source": [
    "# путь папки с раскреплением\n",
    "assistant_to_doctor_distribution_path = \\\n",
    "r'\\\\t999\\Сетевой диск\\pdn\\data\\assistant_to_doctor_distribution_path'\n",
    "assistant_to_doctor_distribution_path = \\\n",
    "assistant_to_doctor_distribution_path.split('\\\\')\n",
    "assistant_to_doctor_distribution_path = \\\n",
    "os.path.join(r'\\\\', *assistant_to_doctor_distribution_path)\n",
    "print(assistant_to_doctor_distribution_path)"
   ]
  },
  {
   "cell_type": "code",
   "execution_count": 18,
   "id": "1185502d",
   "metadata": {},
   "outputs": [
    {
     "name": "stdout",
     "output_type": "stream",
     "text": [
      "\\\\t999\\Сетевой диск\\pdn\\data\\assistant_to_doctor_distribution_path\\september_patient_to_assistant_distribution.xlsx\n"
     ]
    }
   ],
   "source": [
    "september_assistant_to_doctor_distribution_path = [os.path.join(assistant_to_doctor_distribution_path, filename) for filename \n",
    "                                         in os.listdir(assistant_to_doctor_distribution_path) if '~' not in filename\n",
    "                                        and 'september' in filename]\n",
    "september_assistant_to_doctor_distribution_path.sort(key=lambda x: os.path.getctime(x))\n",
    "september_assistant_to_doctor_distribution_path = september_assistant_to_doctor_distribution_path[-1]\n",
    "print(september_assistant_to_doctor_distribution_path)"
   ]
  },
  {
   "cell_type": "code",
   "execution_count": 19,
   "id": "4396de10",
   "metadata": {},
   "outputs": [],
   "source": [
    "september_assistant_to_doctor_distribution = pd.read_excel(september_assistant_to_doctor_distribution_path, \n",
    "                                    usecols=['login', 'emiasid', 'mo', 'doctor_fio'])[['emiasid', 'login', 'mo', 'doctor_fio']]"
   ]
  },
  {
   "cell_type": "code",
   "execution_count": 20,
   "id": "1038115e",
   "metadata": {},
   "outputs": [],
   "source": [
    "doctors_list = set(september_assistant_to_doctor_distribution.doctor_fio.unique())\n",
    "doctors_list.add(np.NaN)"
   ]
  },
  {
   "cell_type": "code",
   "execution_count": null,
   "id": "6c0d6480",
   "metadata": {},
   "outputs": [],
   "source": []
  },
  {
   "cell_type": "code",
   "execution_count": null,
   "id": "c592b782",
   "metadata": {},
   "outputs": [],
   "source": []
  },
  {
   "cell_type": "code",
   "execution_count": 21,
   "id": "d3c1d470",
   "metadata": {},
   "outputs": [
    {
     "data": {
      "text/plain": [
       "321"
      ]
     },
     "execution_count": 21,
     "metadata": {},
     "output_type": "execute_result"
    }
   ],
   "source": [
    "def find_phone_number(text):\n",
    "    \"\"\"Функция ищет номера телефонов в строке, фильтрует дефектные и возвращает один с приоритетом на мобильный\"\"\"\n",
    "    import re\n",
    "    defect_pattern = re.compile(r\"\"\"7[^94]\\d{9}|0{7,}|1{7,}|2{7,}|3{7,}|4{7,}|5{7,}|6{7,}|7{7,}|8{7,}|9{7,}\"\"\")\n",
    "    text = str(text)\n",
    "    text = ['7' + re.sub(r'\\D', '', x)[-10:] for x in re.split(r'[,;]', text)]\n",
    "    text = list(filter(lambda x: len(x) == 11, text))\n",
    "    text = list(filter(lambda x: False if re.search(defect_pattern, x) else True, text))\n",
    "    text = sorted(text, reverse=True)\n",
    "    text = ','.join(text)\n",
    "    text = re.search(r'(9\\d{9}|4\\d{9})', text)\n",
    "    if text:\n",
    "        text = text.group()\n",
    "    return text\n",
    "\n",
    "today_emias_data['phone_1'] = today_emias_data['phone'].apply(find_phone_number)\n",
    "today_emias_data[today_emias_data['phone_1'].isna()].shape[0]"
   ]
  },
  {
   "cell_type": "code",
   "execution_count": 22,
   "id": "290c160b",
   "metadata": {
    "scrolled": false
   },
   "outputs": [
    {
     "data": {
      "text/plain": [
       "97170"
      ]
     },
     "execution_count": 22,
     "metadata": {},
     "output_type": "execute_result"
    }
   ],
   "source": [
    "today_emias_data.shape[0]"
   ]
  },
  {
   "cell_type": "code",
   "execution_count": 23,
   "id": "c21484f7",
   "metadata": {},
   "outputs": [
    {
     "data": {
      "text/plain": [
       "109384"
      ]
     },
     "execution_count": 23,
     "metadata": {},
     "output_type": "execute_result"
    }
   ],
   "source": []
  },
  {
   "cell_type": "code",
   "execution_count": 27,
   "id": "8dec207b",
   "metadata": {},
   "outputs": [
    {
     "data": {
      "text/plain": [
       "Index(['Unnamed: 0', 'emiasid', 'status', 'old_comment', 'next_call_date',\n",
       "       'operator_login', 'mo', 'doctor_fio', 'calls_amount', 'last_call_date',\n",
       "       'last_call_result', 'last_talk_result', 'month', 'problem', 'group',\n",
       "       'group_procedure', 'group_name', 'absence', 'is_in_today_task'],\n",
       "      dtype='object')"
      ]
     },
     "execution_count": 27,
     "metadata": {},
     "output_type": "execute_result"
    }
   ],
   "source": [
    "patients_current_statuses.columns"
   ]
  },
  {
   "cell_type": "code",
   "execution_count": 24,
   "id": "2948f88d",
   "metadata": {},
   "outputs": [],
   "source": [
    "exception = pd.read_excel('exception.xlsx')"
   ]
  },
  {
   "cell_type": "code",
   "execution_count": 25,
   "id": "a7e4e2c1",
   "metadata": {},
   "outputs": [
    {
     "name": "stderr",
     "output_type": "stream",
     "text": [
      "C:\\Users\\murad_satabaev\\AppData\\Local\\Temp\\ipykernel_7380\\4054622638.py:2: FutureWarning: The default value of regex will change from True to False in a future version.\n",
      "  exception['emiasid'] = exception['emiasid'].astype(str).str.replace('\\.0', '')\n"
     ]
    }
   ],
   "source": [
    "exception = exception.rename(columns=column_names)\n",
    "exception['emiasid'] = exception['emiasid'].astype(str).str.replace('\\.0', '')"
   ]
  },
  {
   "cell_type": "code",
   "execution_count": 26,
   "id": "5e2d70d7",
   "metadata": {},
   "outputs": [
    {
     "data": {
      "text/plain": [
       "372"
      ]
     },
     "execution_count": 26,
     "metadata": {},
     "output_type": "execute_result"
    }
   ],
   "source": [
    "exception.shape[0]"
   ]
  },
  {
   "cell_type": "code",
   "execution_count": null,
   "id": "7758b694",
   "metadata": {},
   "outputs": [],
   "source": [
    "patients_current_statuses.problem.unique()"
   ]
  },
  {
   "cell_type": "code",
   "execution_count": 157,
   "id": "fa38a124",
   "metadata": {},
   "outputs": [
    {
     "data": {
      "text/plain": [
       "92973"
      ]
     },
     "execution_count": 157,
     "metadata": {},
     "output_type": "execute_result"
    }
   ],
   "source": [
    "actual_patients = \\\n",
    "patients_current_statuses[\n",
    "    (~(patients_current_statuses.problem.isin({\n",
    "    'Нет в сегодняшней выгрузке', 'Нет прикрепления к МО', 'Отсутствует номер', 'Смена МО', 'Смена МО на другую нашу'\n",
    "    })))\n",
    "    &\n",
    "    (~(patients_current_statuses.emiasid.isin(exception.emiasid)))\n",
    "    &\n",
    "    (patients_current_statuses.is_in_today_task == 'нет')\n",
    "]\n",
    "\n",
    "actual_patients.shape[0]"
   ]
  },
  {
   "cell_type": "code",
   "execution_count": 29,
   "id": "833dd1ee",
   "metadata": {},
   "outputs": [
    {
     "data": {
      "text/plain": [
       "109384"
      ]
     },
     "execution_count": 29,
     "metadata": {},
     "output_type": "execute_result"
    }
   ],
   "source": [
    "patients_current_statuses.shape[0]"
   ]
  },
  {
   "cell_type": "code",
   "execution_count": 30,
   "id": "d4b3468e",
   "metadata": {},
   "outputs": [
    {
     "data": {
      "text/plain": [
       "92973"
      ]
     },
     "execution_count": 30,
     "metadata": {},
     "output_type": "execute_result"
    }
   ],
   "source": [
    "actual_patients.shape[0]"
   ]
  },
  {
   "cell_type": "code",
   "execution_count": 31,
   "id": "d749569c",
   "metadata": {},
   "outputs": [
    {
     "data": {
      "text/plain": [
       "Не дозвонились                    35641\n",
       "Перенос звонка на другой день     27097\n",
       "Будет в Москве в другом месяце     9942\n",
       "Разговор состоялся                 8127\n",
       "Ни разу не звонили                 3668\n",
       "Запишется самостоятельно           2674\n",
       "Перезвонить сегодня                1504\n",
       "Отказ                              1004\n",
       "Пациент отрицает диагноз            958\n",
       "Отсутствует номер                   601\n",
       "Иная МО                             531\n",
       "Госпитализирован                    435\n",
       "Живет не в Москве                   289\n",
       "Патронаж                            228\n",
       "Некорректный номер                  121\n",
       "Не нравится врач                     66\n",
       "Другой врач в МО                     36\n",
       "Онкология                            23\n",
       "Снят с ДН                            17\n",
       "Не нравится МО                       10\n",
       "Умер                                  1\n",
       "Name: status, dtype: int64"
      ]
     },
     "execution_count": 31,
     "metadata": {},
     "output_type": "execute_result"
    }
   ],
   "source": [
    "actual_patients.status.value_counts()"
   ]
  },
  {
   "cell_type": "code",
   "execution_count": 32,
   "id": "fe5d24cb",
   "metadata": {},
   "outputs": [
    {
     "data": {
      "text/plain": [
       "90944"
      ]
     },
     "execution_count": 32,
     "metadata": {},
     "output_type": "execute_result"
    }
   ],
   "source": [
    "actual_patients.operator_login.count()"
   ]
  },
  {
   "cell_type": "code",
   "execution_count": 33,
   "id": "cb7ca117",
   "metadata": {},
   "outputs": [],
   "source": [
    "actual_patients.loc[actual_patients.problem == 'Новый врач', 'operator_login'] = np.nan"
   ]
  },
  {
   "cell_type": "code",
   "execution_count": 34,
   "id": "e2834762",
   "metadata": {},
   "outputs": [
    {
     "data": {
      "text/plain": [
       "82778"
      ]
     },
     "execution_count": 34,
     "metadata": {},
     "output_type": "execute_result"
    }
   ],
   "source": [
    "actual_patients.operator_login.count()"
   ]
  },
  {
   "cell_type": "code",
   "execution_count": null,
   "id": "ac537157",
   "metadata": {},
   "outputs": [],
   "source": []
  },
  {
   "cell_type": "code",
   "execution_count": null,
   "id": "ff0b6b19",
   "metadata": {},
   "outputs": [],
   "source": []
  },
  {
   "cell_type": "code",
   "execution_count": null,
   "id": "60d7cf61",
   "metadata": {},
   "outputs": [],
   "source": []
  },
  {
   "cell_type": "code",
   "execution_count": null,
   "id": "34f4383c",
   "metadata": {},
   "outputs": [],
   "source": []
  },
  {
   "cell_type": "code",
   "execution_count": 35,
   "id": "545abe63",
   "metadata": {},
   "outputs": [
    {
     "name": "stderr",
     "output_type": "stream",
     "text": [
      "C:\\Users\\murad_satabaev\\AppData\\Local\\Temp\\ipykernel_7380\\3473140784.py:8: SettingWithCopyWarning: \n",
      "A value is trying to be set on a copy of a slice from a DataFrame.\n",
      "Try using .loc[row_indexer,col_indexer] = value instead\n",
      "\n",
      "See the caveats in the documentation: https://pandas.pydata.org/pandas-docs/stable/user_guide/indexing.html#returning-a-view-versus-a-copy\n",
      "  first_stage_patients['priority'] = 2\n"
     ]
    },
    {
     "data": {
      "text/plain": [
       "11"
      ]
     },
     "execution_count": 35,
     "metadata": {},
     "output_type": "execute_result"
    }
   ],
   "source": [
    "first_stage_patients = \\\n",
    "actual_patients[\n",
    "    (actual_patients.status == 'Ни разу не звонили')\n",
    "    &\n",
    "    (actual_patients.month == 'september')\n",
    "]\n",
    "\n",
    "first_stage_patients['priority'] = 2\n",
    "first_stage_patients.shape[0]"
   ]
  },
  {
   "cell_type": "code",
   "execution_count": 37,
   "id": "81c728ea",
   "metadata": {},
   "outputs": [
    {
     "name": "stderr",
     "output_type": "stream",
     "text": [
      "C:\\Users\\murad_satabaev\\AppData\\Local\\Temp\\ipykernel_7380\\3383705759.py:11: SettingWithCopyWarning: \n",
      "A value is trying to be set on a copy of a slice from a DataFrame.\n",
      "Try using .loc[row_indexer,col_indexer] = value instead\n",
      "\n",
      "See the caveats in the documentation: https://pandas.pydata.org/pandas-docs/stable/user_guide/indexing.html#returning-a-view-versus-a-copy\n",
      "  call_back_on_date_patients['priority'] = 1\n"
     ]
    },
    {
     "data": {
      "text/plain": [
       "4503"
      ]
     },
     "execution_count": 37,
     "metadata": {},
     "output_type": "execute_result"
    }
   ],
   "source": [
    "call_back_on_date_patients = \\\n",
    "actual_patients[\n",
    "    (actual_patients.next_call_date.isin({\n",
    "        dt.date(2022, 9, 16),\n",
    "        dt.date(2022, 9, 19),\n",
    "        dt.date(2022, 9, 20),\n",
    "        dt.date(2022, 9, 21)\n",
    "    }))\n",
    "]\n",
    "\n",
    "call_back_on_date_patients['priority'] = 1\n",
    "call_back_on_date_patients.shape[0]"
   ]
  },
  {
   "cell_type": "code",
   "execution_count": null,
   "id": "901cde61",
   "metadata": {},
   "outputs": [],
   "source": [
    "actual_patients[\n",
    "    (actual_patients.month == 'august')\n",
    "    &\n",
    "    (actual_patients.last_call_date < dt.date(2022, 9, 2))\n",
    "].shape[0]"
   ]
  },
  {
   "cell_type": "code",
   "execution_count": null,
   "id": "e85e0b55",
   "metadata": {},
   "outputs": [],
   "source": [
    "actual_patients.last_call_result.unique()"
   ]
  },
  {
   "cell_type": "code",
   "execution_count": 42,
   "id": "e958fd0c",
   "metadata": {},
   "outputs": [
    {
     "data": {
      "text/plain": [
       "800"
      ]
     },
     "execution_count": 42,
     "metadata": {},
     "output_type": "execute_result"
    }
   ],
   "source": [
    "august_patients = \\\n",
    "actual_patients[\n",
    "    (actual_patients.month == 'august')\n",
    "    &\n",
    "    (actual_patients.last_call_result != 'Перенос звонка на другой день')\n",
    "    &\n",
    "    (actual_patients.last_call_date < dt.date(2022, 9, 2))\n",
    "]\n",
    "\n",
    "august_patients = august_patients.head(800)\n",
    "\n",
    "august_patients['priority'] = 3\n",
    "august_patients.shape[0]"
   ]
  },
  {
   "cell_type": "code",
   "execution_count": 43,
   "id": "73f4c37a",
   "metadata": {},
   "outputs": [
    {
     "data": {
      "text/plain": [
       "datetime.date(2022, 8, 26)"
      ]
     },
     "execution_count": 43,
     "metadata": {},
     "output_type": "execute_result"
    }
   ],
   "source": [
    "august_patients.last_call_date.unique()[-1]"
   ]
  },
  {
   "cell_type": "code",
   "execution_count": null,
   "id": "e1f28647",
   "metadata": {},
   "outputs": [],
   "source": []
  },
  {
   "cell_type": "code",
   "execution_count": null,
   "id": "58d7449f",
   "metadata": {},
   "outputs": [],
   "source": []
  },
  {
   "cell_type": "code",
   "execution_count": 44,
   "id": "b14559dd",
   "metadata": {},
   "outputs": [
    {
     "name": "stdout",
     "output_type": "stream",
     "text": [
      "4407\n"
     ]
    }
   ],
   "source": [
    "tomorrow_record_patients_set = set()\n",
    "for column in today_emias_data.columns[22:98:2]:\n",
    "    tomorrow_record_patients_set = \\\n",
    "    tomorrow_record_patients_set | set(today_emias_data[today_emias_data[f'{column}'] == tomorrow_y_m_d]\\\n",
    "                                   .emiasid.astype(str).unique())\n",
    "\n",
    "print(len(tomorrow_record_patients_set))"
   ]
  },
  {
   "cell_type": "code",
   "execution_count": 45,
   "id": "f2a71070",
   "metadata": {},
   "outputs": [
    {
     "name": "stdout",
     "output_type": "stream",
     "text": [
      "1890\n"
     ]
    }
   ],
   "source": [
    "tomorrow_record_patients = patients_current_statuses[(patients_current_statuses.emiasid.isin(tomorrow_record_patients_set))\n",
    "& (~(patients_current_statuses.status.isin({'Ни разу не звонили', 'Онкология', 'Смена МО', 'Отсутствует номер', \n",
    "                                           'Пациент отрицает диагноз', 'Отказ', 'Госпитализирован',\n",
    "                                           'Будет в Москве в другом месяце', 'Некорректный номер', 'Патронаж',\n",
    "                                           'Снят с ДН'}))) & \n",
    "(patients_current_statuses.last_call_result != 'Перенос звонка на другой день')]\n",
    "print(tomorrow_record_patients.shape[0])"
   ]
  },
  {
   "cell_type": "code",
   "execution_count": 46,
   "id": "0706e183",
   "metadata": {
    "scrolled": true
   },
   "outputs": [
    {
     "name": "stderr",
     "output_type": "stream",
     "text": [
      "C:\\Users\\murad_satabaev\\AppData\\Local\\Temp\\ipykernel_7380\\1903791372.py:1: SettingWithCopyWarning: \n",
      "A value is trying to be set on a copy of a slice from a DataFrame.\n",
      "Try using .loc[row_indexer,col_indexer] = value instead\n",
      "\n",
      "See the caveats in the documentation: https://pandas.pydata.org/pandas-docs/stable/user_guide/indexing.html#returning-a-view-versus-a-copy\n",
      "  tomorrow_record_patients['priority'] = 4\n"
     ]
    }
   ],
   "source": [
    "tomorrow_record_patients['priority'] = 4"
   ]
  },
  {
   "cell_type": "code",
   "execution_count": 47,
   "id": "aa1d2093",
   "metadata": {},
   "outputs": [
    {
     "data": {
      "text/plain": [
       "Не дозвонились                   1181\n",
       "Разговор состоялся                576\n",
       "Перезвонить сегодня                65\n",
       "Запишется самостоятельно           47\n",
       "Перенос звонка на другой день      14\n",
       "Иная МО                             2\n",
       "Не нравится МО                      2\n",
       "Живет не в Москве                   1\n",
       "Не нравится врач                    1\n",
       "Другой врач в МО                    1\n",
       "Name: status, dtype: int64"
      ]
     },
     "execution_count": 47,
     "metadata": {},
     "output_type": "execute_result"
    }
   ],
   "source": [
    "tomorrow_record_patients.status.value_counts()"
   ]
  },
  {
   "cell_type": "code",
   "execution_count": 48,
   "id": "f410c568",
   "metadata": {},
   "outputs": [
    {
     "name": "stderr",
     "output_type": "stream",
     "text": [
      "C:\\Users\\murad_satabaev\\AppData\\Local\\Temp\\ipykernel_7380\\672541353.py:1: SettingWithCopyWarning: \n",
      "A value is trying to be set on a copy of a slice from a DataFrame.\n",
      "Try using .loc[row_indexer,col_indexer] = value instead\n",
      "\n",
      "See the caveats in the documentation: https://pandas.pydata.org/pandas-docs/stable/user_guide/indexing.html#returning-a-view-versus-a-copy\n",
      "  tomorrow_record_patients['status'] = 'Напомнить'\n"
     ]
    }
   ],
   "source": [
    "tomorrow_record_patients['status'] = 'Напомнить'"
   ]
  },
  {
   "cell_type": "code",
   "execution_count": 107,
   "id": "412845c2",
   "metadata": {},
   "outputs": [
    {
     "name": "stderr",
     "output_type": "stream",
     "text": [
      "C:\\Users\\murad_satabaev\\AppData\\Local\\Temp\\ipykernel_7380\\3179676984.py:15: SettingWithCopyWarning: \n",
      "A value is trying to be set on a copy of a slice from a DataFrame.\n",
      "Try using .loc[row_indexer,col_indexer] = value instead\n",
      "\n",
      "See the caveats in the documentation: https://pandas.pydata.org/pandas-docs/stable/user_guide/indexing.html#returning-a-view-versus-a-copy\n",
      "  second_stage_patients['priority'] = 5\n"
     ]
    },
    {
     "data": {
      "text/plain": [
       "32207"
      ]
     },
     "execution_count": 107,
     "metadata": {},
     "output_type": "execute_result"
    }
   ],
   "source": [
    "second_stage_patients = \\\n",
    "actual_patients[\n",
    "    (actual_patients.status.isin({'Не дозвонились', 'Запишется самостоятельно', 'Не нравится МО', 'Другой врач в МО',\n",
    "                                 'Не нравится врач'}))\n",
    "    &\n",
    "    (~(actual_patients.emiasid.isin(call_back_on_date_patients.emiasid)))\n",
    "    &\n",
    "    (~(actual_patients.last_call_date.isin(\n",
    "        {\n",
    "        dt.date(2022, 9, 19)\n",
    "        }\n",
    "    )))\n",
    "]\n",
    "\n",
    "second_stage_patients['priority'] = 5\n",
    "\n",
    "second_stage_patients.shape[0]"
   ]
  },
  {
   "cell_type": "code",
   "execution_count": null,
   "id": "b9d51e2e",
   "metadata": {},
   "outputs": [],
   "source": []
  },
  {
   "cell_type": "code",
   "execution_count": null,
   "id": "859d2a5f",
   "metadata": {},
   "outputs": [],
   "source": []
  },
  {
   "cell_type": "code",
   "execution_count": 108,
   "id": "df705990",
   "metadata": {},
   "outputs": [
    {
     "data": {
      "text/plain": [
       "39411"
      ]
     },
     "execution_count": 108,
     "metadata": {},
     "output_type": "execute_result"
    }
   ],
   "source": [
    "final_actual_patients_for_task_ = pd.concat([\n",
    "    call_back_on_date_patients,\n",
    "    first_stage_patients,\n",
    "    august_patients,\n",
    "    second_stage_patients,\n",
    "    tomorrow_record_patients\n",
    "]) \\\n",
    ".sort_values(['priority']).reset_index(drop=True)\n",
    "\n",
    "final_actual_patients_for_task_.shape[0]"
   ]
  },
  {
   "cell_type": "code",
   "execution_count": null,
   "id": "0da22817",
   "metadata": {},
   "outputs": [],
   "source": []
  },
  {
   "cell_type": "code",
   "execution_count": 109,
   "id": "79ccaaa8",
   "metadata": {},
   "outputs": [],
   "source": [
    "# final_actual_patients_for_task = final_actual_patients_for_task_.drop_duplicates(subset=['phone_number'], keep='first')\n",
    "# final_actual_patients_for_task.shape[0]"
   ]
  },
  {
   "cell_type": "code",
   "execution_count": 110,
   "id": "d65c3e02",
   "metadata": {},
   "outputs": [
    {
     "data": {
      "text/plain": [
       "38547"
      ]
     },
     "execution_count": 110,
     "metadata": {},
     "output_type": "execute_result"
    }
   ],
   "source": [
    "final_actual_patients_for_task = final_actual_patients_for_task_.drop_duplicates(subset=['emiasid'], keep='first')\n",
    "final_actual_patients_for_task.shape[0]"
   ]
  },
  {
   "cell_type": "code",
   "execution_count": null,
   "id": "115c4048",
   "metadata": {},
   "outputs": [],
   "source": []
  },
  {
   "cell_type": "code",
   "execution_count": 111,
   "id": "50448630",
   "metadata": {},
   "outputs": [
    {
     "data": {
      "text/html": [
       "<div>\n",
       "<style scoped>\n",
       "    .dataframe tbody tr th:only-of-type {\n",
       "        vertical-align: middle;\n",
       "    }\n",
       "\n",
       "    .dataframe tbody tr th {\n",
       "        vertical-align: top;\n",
       "    }\n",
       "\n",
       "    .dataframe thead th {\n",
       "        text-align: right;\n",
       "    }\n",
       "</style>\n",
       "<table border=\"1\" class=\"dataframe\">\n",
       "  <thead>\n",
       "    <tr style=\"text-align: right;\">\n",
       "      <th></th>\n",
       "      <th>Unnamed: 0</th>\n",
       "      <th>emiasid</th>\n",
       "      <th>status</th>\n",
       "      <th>old_comment</th>\n",
       "      <th>next_call_date</th>\n",
       "      <th>operator_login</th>\n",
       "      <th>mo</th>\n",
       "      <th>doctor_fio</th>\n",
       "      <th>calls_amount</th>\n",
       "      <th>last_call_date</th>\n",
       "      <th>last_call_result</th>\n",
       "      <th>last_talk_result</th>\n",
       "      <th>month</th>\n",
       "      <th>problem</th>\n",
       "      <th>group</th>\n",
       "      <th>group_procedure</th>\n",
       "      <th>group_name</th>\n",
       "      <th>absence</th>\n",
       "      <th>is_in_today_task</th>\n",
       "      <th>priority</th>\n",
       "    </tr>\n",
       "  </thead>\n",
       "  <tbody>\n",
       "    <tr>\n",
       "      <th>0</th>\n",
       "      <td>24</td>\n",
       "      <td>10253534</td>\n",
       "      <td>Перенос звонка на другой день</td>\n",
       "      <td>NaN</td>\n",
       "      <td>2022-09-21</td>\n",
       "      <td>pomoshnik_pdn172</td>\n",
       "      <td>ДЦ 5</td>\n",
       "      <td>Желудкова Лидия Николаевна</td>\n",
       "      <td>6</td>\n",
       "      <td>2022-09-19</td>\n",
       "      <td>Перенос звонка на другой день</td>\n",
       "      <td>NaN</td>\n",
       "      <td>august</td>\n",
       "      <td>NaN</td>\n",
       "      <td>13.0</td>\n",
       "      <td>выполненная запись</td>\n",
       "      <td>Записать на прием</td>\n",
       "      <td>0</td>\n",
       "      <td>нет</td>\n",
       "      <td>1</td>\n",
       "    </tr>\n",
       "    <tr>\n",
       "      <th>1</th>\n",
       "      <td>79261</td>\n",
       "      <td>2245166168</td>\n",
       "      <td>Перенос звонка на другой день</td>\n",
       "      <td>перезвонить</td>\n",
       "      <td>2022-09-21</td>\n",
       "      <td>pomoshnik_pdn240</td>\n",
       "      <td>ГП 68</td>\n",
       "      <td>Юрга Надежда Христофоровна</td>\n",
       "      <td>2</td>\n",
       "      <td>2022-09-12</td>\n",
       "      <td>Перенос звонка на другой день</td>\n",
       "      <td>NaN</td>\n",
       "      <td>september</td>\n",
       "      <td>NaN</td>\n",
       "      <td>10.0</td>\n",
       "      <td>надо записать</td>\n",
       "      <td>Записать на прием - Записать на исследования -...</td>\n",
       "      <td>0</td>\n",
       "      <td>нет</td>\n",
       "      <td>1</td>\n",
       "    </tr>\n",
       "    <tr>\n",
       "      <th>2</th>\n",
       "      <td>79278</td>\n",
       "      <td>2245179714</td>\n",
       "      <td>Перенос звонка на другой день</td>\n",
       "      <td>Нет слотов, 13380</td>\n",
       "      <td>2022-09-20</td>\n",
       "      <td>pomoshnik_pdn93</td>\n",
       "      <td>ГП 134</td>\n",
       "      <td>Бердышева Евгения Вячеславовна</td>\n",
       "      <td>1</td>\n",
       "      <td>2022-09-09</td>\n",
       "      <td>Перенос звонка на другой день</td>\n",
       "      <td>NaN</td>\n",
       "      <td>september</td>\n",
       "      <td>NaN</td>\n",
       "      <td>4.0</td>\n",
       "      <td>в будущем</td>\n",
       "      <td>Записать на прием</td>\n",
       "      <td>1</td>\n",
       "      <td>нет</td>\n",
       "      <td>1</td>\n",
       "    </tr>\n",
       "  </tbody>\n",
       "</table>\n",
       "</div>"
      ],
      "text/plain": [
       "   Unnamed: 0     emiasid                         status        old_comment  \\\n",
       "0          24    10253534  Перенос звонка на другой день                NaN   \n",
       "1       79261  2245166168  Перенос звонка на другой день        перезвонить   \n",
       "2       79278  2245179714  Перенос звонка на другой день  Нет слотов, 13380   \n",
       "\n",
       "  next_call_date    operator_login      mo                      doctor_fio  \\\n",
       "0     2022-09-21  pomoshnik_pdn172    ДЦ 5      Желудкова Лидия Николаевна   \n",
       "1     2022-09-21  pomoshnik_pdn240   ГП 68      Юрга Надежда Христофоровна   \n",
       "2     2022-09-20   pomoshnik_pdn93  ГП 134  Бердышева Евгения Вячеславовна   \n",
       "\n",
       "   calls_amount last_call_date               last_call_result  \\\n",
       "0             6     2022-09-19  Перенос звонка на другой день   \n",
       "1             2     2022-09-12  Перенос звонка на другой день   \n",
       "2             1     2022-09-09  Перенос звонка на другой день   \n",
       "\n",
       "  last_talk_result      month problem  group     group_procedure  \\\n",
       "0              NaN     august     NaN   13.0  выполненная запись   \n",
       "1              NaN  september     NaN   10.0       надо записать   \n",
       "2              NaN  september     NaN    4.0           в будущем   \n",
       "\n",
       "                                          group_name  absence  \\\n",
       "0                                  Записать на прием        0   \n",
       "1  Записать на прием - Записать на исследования -...        0   \n",
       "2                                  Записать на прием        1   \n",
       "\n",
       "  is_in_today_task  priority  \n",
       "0              нет         1  \n",
       "1              нет         1  \n",
       "2              нет         1  "
      ]
     },
     "execution_count": 111,
     "metadata": {},
     "output_type": "execute_result"
    }
   ],
   "source": [
    "final_actual_patients_for_task.head(3)"
   ]
  },
  {
   "cell_type": "code",
   "execution_count": 112,
   "id": "1c7ac415",
   "metadata": {
    "scrolled": true
   },
   "outputs": [],
   "source": [
    "final_actual_patients_for_task = \\\n",
    "final_actual_patients_for_task[['emiasid', 'status', 'old_comment', 'operator_login', 'mo', 'doctor_fio', 'priority', 'calls_amount',\n",
    "                                'last_call_date', 'month']]"
   ]
  },
  {
   "cell_type": "code",
   "execution_count": 113,
   "id": "94460c1d",
   "metadata": {},
   "outputs": [
    {
     "name": "stderr",
     "output_type": "stream",
     "text": [
      "C:\\Users\\murad_satabaev\\AppData\\Local\\Temp\\ipykernel_7380\\2998909243.py:1: FutureWarning: The default value of regex will change from True to False in a future version.\n",
      "  final_actual_patients_for_task['emiasid'] = final_actual_patients_for_task['emiasid'].astype(str).str.replace('\\.0', '')\n"
     ]
    }
   ],
   "source": [
    "final_actual_patients_for_task['emiasid'] = final_actual_patients_for_task['emiasid'].astype(str).str.replace('\\.0', '')"
   ]
  },
  {
   "cell_type": "code",
   "execution_count": 114,
   "id": "9bcb7f84",
   "metadata": {},
   "outputs": [],
   "source": [
    "initial_assistant_to_patient_distribution_in_today_task = \\\n",
    "final_actual_patients_for_task.copy()"
   ]
  },
  {
   "cell_type": "code",
   "execution_count": 115,
   "id": "9b46607c",
   "metadata": {},
   "outputs": [
    {
     "data": {
      "text/plain": [
       "4159"
      ]
     },
     "execution_count": 115,
     "metadata": {},
     "output_type": "execute_result"
    }
   ],
   "source": [
    "initial_assistant_to_patient_distribution_in_today_task.old_comment.nunique()"
   ]
  },
  {
   "cell_type": "code",
   "execution_count": 116,
   "id": "e38063ad",
   "metadata": {
    "scrolled": false
   },
   "outputs": [
    {
     "data": {
      "text/html": [
       "<div>\n",
       "<style scoped>\n",
       "    .dataframe tbody tr th:only-of-type {\n",
       "        vertical-align: middle;\n",
       "    }\n",
       "\n",
       "    .dataframe tbody tr th {\n",
       "        vertical-align: top;\n",
       "    }\n",
       "\n",
       "    .dataframe thead th {\n",
       "        text-align: right;\n",
       "    }\n",
       "</style>\n",
       "<table border=\"1\" class=\"dataframe\">\n",
       "  <thead>\n",
       "    <tr style=\"text-align: right;\">\n",
       "      <th></th>\n",
       "      <th></th>\n",
       "      <th>emiasid</th>\n",
       "    </tr>\n",
       "    <tr>\n",
       "      <th>mo</th>\n",
       "      <th>operator_login</th>\n",
       "      <th></th>\n",
       "    </tr>\n",
       "  </thead>\n",
       "  <tbody>\n",
       "    <tr>\n",
       "      <th rowspan=\"7\" valign=\"top\">ГП 107</th>\n",
       "      <th>pomoshnik_pdn131</th>\n",
       "      <td>1</td>\n",
       "    </tr>\n",
       "    <tr>\n",
       "      <th>pomoshnik_pdn130</th>\n",
       "      <td>30</td>\n",
       "    </tr>\n",
       "    <tr>\n",
       "      <th>pomoshnik_pdn148</th>\n",
       "      <td>163</td>\n",
       "    </tr>\n",
       "    <tr>\n",
       "      <th>pomoshnik_pdn43</th>\n",
       "      <td>172</td>\n",
       "    </tr>\n",
       "    <tr>\n",
       "      <th>pomoshnik_pdn109</th>\n",
       "      <td>179</td>\n",
       "    </tr>\n",
       "    <tr>\n",
       "      <th>pomoshnik_pdn129</th>\n",
       "      <td>221</td>\n",
       "    </tr>\n",
       "    <tr>\n",
       "      <th>pomoshnik_pdn185</th>\n",
       "      <td>228</td>\n",
       "    </tr>\n",
       "    <tr>\n",
       "      <th rowspan=\"3\" valign=\"top\">ГП 109</th>\n",
       "      <th>pomoshnik_pdn155</th>\n",
       "      <td>5</td>\n",
       "    </tr>\n",
       "    <tr>\n",
       "      <th>pomoshnik_pdn134</th>\n",
       "      <td>132</td>\n",
       "    </tr>\n",
       "    <tr>\n",
       "      <th>pomoshnik_pdn168</th>\n",
       "      <td>148</td>\n",
       "    </tr>\n",
       "    <tr>\n",
       "      <th rowspan=\"4\" valign=\"top\">ГП 11</th>\n",
       "      <th>pomoshnik_pdn32</th>\n",
       "      <td>54</td>\n",
       "    </tr>\n",
       "    <tr>\n",
       "      <th>pomoshnik_pdn146</th>\n",
       "      <td>155</td>\n",
       "    </tr>\n",
       "    <tr>\n",
       "      <th>pomoshnik_pdn147</th>\n",
       "      <td>253</td>\n",
       "    </tr>\n",
       "    <tr>\n",
       "      <th>pomoshnik_pdn184</th>\n",
       "      <td>285</td>\n",
       "    </tr>\n",
       "    <tr>\n",
       "      <th rowspan=\"5\" valign=\"top\">ГП 134</th>\n",
       "      <th>pomoshnik_pdn89</th>\n",
       "      <td>236</td>\n",
       "    </tr>\n",
       "    <tr>\n",
       "      <th>pomoshnik_pdn7</th>\n",
       "      <td>273</td>\n",
       "    </tr>\n",
       "    <tr>\n",
       "      <th>pomoshnik_pdn93</th>\n",
       "      <td>298</td>\n",
       "    </tr>\n",
       "    <tr>\n",
       "      <th>pomoshnik_pdn75</th>\n",
       "      <td>319</td>\n",
       "    </tr>\n",
       "    <tr>\n",
       "      <th>Помощник 3</th>\n",
       "      <td>364</td>\n",
       "    </tr>\n",
       "    <tr>\n",
       "      <th>ГП 166</th>\n",
       "      <th>pomoshnik_pdn209</th>\n",
       "      <td>33</td>\n",
       "    </tr>\n",
       "  </tbody>\n",
       "</table>\n",
       "</div>"
      ],
      "text/plain": [
       "                         emiasid\n",
       "mo     operator_login           \n",
       "ГП 107 pomoshnik_pdn131        1\n",
       "       pomoshnik_pdn130       30\n",
       "       pomoshnik_pdn148      163\n",
       "       pomoshnik_pdn43       172\n",
       "       pomoshnik_pdn109      179\n",
       "       pomoshnik_pdn129      221\n",
       "       pomoshnik_pdn185      228\n",
       "ГП 109 pomoshnik_pdn155        5\n",
       "       pomoshnik_pdn134      132\n",
       "       pomoshnik_pdn168      148\n",
       "ГП 11  pomoshnik_pdn32        54\n",
       "       pomoshnik_pdn146      155\n",
       "       pomoshnik_pdn147      253\n",
       "       pomoshnik_pdn184      285\n",
       "ГП 134 pomoshnik_pdn89       236\n",
       "       pomoshnik_pdn7        273\n",
       "       pomoshnik_pdn93       298\n",
       "       pomoshnik_pdn75       319\n",
       "       Помощник 3            364\n",
       "ГП 166 pomoshnik_pdn209       33"
      ]
     },
     "execution_count": 116,
     "metadata": {},
     "output_type": "execute_result"
    }
   ],
   "source": [
    "initial_assistant_to_patient_distribution_in_today_task.groupby(['mo', 'operator_login']).agg({'emiasid': 'count'}).sort_values(\n",
    "    ['mo', 'emiasid']).head(20)"
   ]
  },
  {
   "cell_type": "code",
   "execution_count": null,
   "id": "f9ead447",
   "metadata": {},
   "outputs": [],
   "source": []
  },
  {
   "cell_type": "code",
   "execution_count": 117,
   "id": "ef11b196",
   "metadata": {},
   "outputs": [
    {
     "data": {
      "text/plain": [
       "{'pomoshnik_pdn151', 'pomoshnik_pdn99', 'Помощник 10'}"
      ]
     },
     "execution_count": 117,
     "metadata": {},
     "output_type": "execute_result"
    }
   ],
   "source": [
    "set(present_assistants.operator_login.unique()) - \\\n",
    "(set(initial_assistant_to_patient_distribution_in_today_task.operator_login.unique()) - {np.nan})"
   ]
  },
  {
   "cell_type": "code",
   "execution_count": 118,
   "id": "44cb2103",
   "metadata": {},
   "outputs": [],
   "source": [
    "# initial_assistant_to_patient_distribution_in_today_task.to_excel('initial_assistant_to_patient_distribution_in_today_task.xlsx')"
   ]
  },
  {
   "cell_type": "code",
   "execution_count": 119,
   "id": "15af79c4",
   "metadata": {},
   "outputs": [],
   "source": [
    "task_amount = 90"
   ]
  },
  {
   "cell_type": "code",
   "execution_count": 120,
   "id": "482dbfa9",
   "metadata": {},
   "outputs": [
    {
     "name": "stdout",
     "output_type": "stream",
     "text": [
      "CPU times: total: 2.58 s\n",
      "Wall time: 2.57 s\n"
     ]
    },
    {
     "data": {
      "text/plain": [
       "17547"
      ]
     },
     "execution_count": 120,
     "metadata": {},
     "output_type": "execute_result"
    }
   ],
   "source": [
    "%%time\n",
    "\n",
    "initial_task_for_today = pd.DataFrame()\n",
    "for operator_login in set(initial_assistant_to_patient_distribution_in_today_task.operator_login):\n",
    "    initial_assistant_to_patient_distribution_in_today_task_for_operator_login = \\\n",
    "    initial_assistant_to_patient_distribution_in_today_task[initial_assistant_to_patient_distribution_in_today_task \\\n",
    "                                                            .operator_login\n",
    "         == operator_login].sort_values(by=['priority', 'calls_amount', 'last_call_date'])\n",
    "    call_back_number_for_operator_login = initial_assistant_to_patient_distribution_in_today_task_for_operator_login[\n",
    "        initial_assistant_to_patient_distribution_in_today_task_for_operator_login.status.isin({\n",
    "            'Перезвонить сегодня', 'Перенос звонка на другой день'})].shape[0]\n",
    "\n",
    "    initial_task_for_today = pd.concat(\n",
    "        [initial_task_for_today, \n",
    "\n",
    "         \n",
    "         initial_assistant_to_patient_distribution_in_today_task[\n",
    "             (initial_assistant_to_patient_distribution_in_today_task.operator_login==operator_login)\n",
    "         ].head(task_amount),\n",
    "        \n",
    "       \n",
    "        ]).reset_index(drop=True)\n",
    "\n",
    "initial_task_for_today.shape[0]"
   ]
  },
  {
   "cell_type": "code",
   "execution_count": 121,
   "id": "8a64cb4a",
   "metadata": {},
   "outputs": [
    {
     "data": {
      "text/html": [
       "<div>\n",
       "<style scoped>\n",
       "    .dataframe tbody tr th:only-of-type {\n",
       "        vertical-align: middle;\n",
       "    }\n",
       "\n",
       "    .dataframe tbody tr th {\n",
       "        vertical-align: top;\n",
       "    }\n",
       "\n",
       "    .dataframe thead th {\n",
       "        text-align: right;\n",
       "    }\n",
       "</style>\n",
       "<table border=\"1\" class=\"dataframe\">\n",
       "  <thead>\n",
       "    <tr style=\"text-align: right;\">\n",
       "      <th></th>\n",
       "      <th></th>\n",
       "      <th>emiasid</th>\n",
       "    </tr>\n",
       "    <tr>\n",
       "      <th>mo</th>\n",
       "      <th>operator_login</th>\n",
       "      <th></th>\n",
       "    </tr>\n",
       "  </thead>\n",
       "  <tbody>\n",
       "    <tr>\n",
       "      <th>ГП 107</th>\n",
       "      <th>pomoshnik_pdn131</th>\n",
       "      <td>1</td>\n",
       "    </tr>\n",
       "    <tr>\n",
       "      <th>ГП 9</th>\n",
       "      <th>pomoshnik_pdn25</th>\n",
       "      <td>1</td>\n",
       "    </tr>\n",
       "    <tr>\n",
       "      <th>ГП 52</th>\n",
       "      <th>pomoshnik_pdn103</th>\n",
       "      <td>2</td>\n",
       "    </tr>\n",
       "    <tr>\n",
       "      <th>ГП 109</th>\n",
       "      <th>pomoshnik_pdn155</th>\n",
       "      <td>5</td>\n",
       "    </tr>\n",
       "    <tr>\n",
       "      <th>ГП 23</th>\n",
       "      <th>pomoshnik_pdn104</th>\n",
       "      <td>5</td>\n",
       "    </tr>\n",
       "    <tr>\n",
       "      <th>ГП 66</th>\n",
       "      <th>pomoshnik_pdn54</th>\n",
       "      <td>7</td>\n",
       "    </tr>\n",
       "    <tr>\n",
       "      <th>ГП 45</th>\n",
       "      <th>pomoshnik_pdn82</th>\n",
       "      <td>9</td>\n",
       "    </tr>\n",
       "    <tr>\n",
       "      <th>КДЦ 6</th>\n",
       "      <th>pomoshnik_pdn60</th>\n",
       "      <td>15</td>\n",
       "    </tr>\n",
       "    <tr>\n",
       "      <th>ГП 9</th>\n",
       "      <th>pomoshnik_pdn243</th>\n",
       "      <td>29</td>\n",
       "    </tr>\n",
       "    <tr>\n",
       "      <th>ГП 107</th>\n",
       "      <th>pomoshnik_pdn130</th>\n",
       "      <td>30</td>\n",
       "    </tr>\n",
       "  </tbody>\n",
       "</table>\n",
       "</div>"
      ],
      "text/plain": [
       "                         emiasid\n",
       "mo     operator_login           \n",
       "ГП 107 pomoshnik_pdn131        1\n",
       "ГП 9   pomoshnik_pdn25         1\n",
       "ГП 52  pomoshnik_pdn103        2\n",
       "ГП 109 pomoshnik_pdn155        5\n",
       "ГП 23  pomoshnik_pdn104        5\n",
       "ГП 66  pomoshnik_pdn54         7\n",
       "ГП 45  pomoshnik_pdn82         9\n",
       "КДЦ 6  pomoshnik_pdn60        15\n",
       "ГП 9   pomoshnik_pdn243       29\n",
       "ГП 107 pomoshnik_pdn130       30"
      ]
     },
     "execution_count": 121,
     "metadata": {},
     "output_type": "execute_result"
    }
   ],
   "source": [
    "initial_task_for_today \\\n",
    ".groupby(['mo', 'operator_login']).agg({'emiasid': 'count'}).sort_values(['mo', 'emiasid'])\\\n",
    ".sort_values(by='emiasid', ascending=True).head(10)"
   ]
  },
  {
   "cell_type": "code",
   "execution_count": 122,
   "id": "4624e462",
   "metadata": {},
   "outputs": [
    {
     "data": {
      "text/html": [
       "<div>\n",
       "<style scoped>\n",
       "    .dataframe tbody tr th:only-of-type {\n",
       "        vertical-align: middle;\n",
       "    }\n",
       "\n",
       "    .dataframe tbody tr th {\n",
       "        vertical-align: top;\n",
       "    }\n",
       "\n",
       "    .dataframe thead th {\n",
       "        text-align: right;\n",
       "    }\n",
       "</style>\n",
       "<table border=\"1\" class=\"dataframe\">\n",
       "  <thead>\n",
       "    <tr style=\"text-align: right;\">\n",
       "      <th></th>\n",
       "      <th></th>\n",
       "      <th>emiasid</th>\n",
       "    </tr>\n",
       "    <tr>\n",
       "      <th>mo</th>\n",
       "      <th>operator_login</th>\n",
       "      <th></th>\n",
       "    </tr>\n",
       "  </thead>\n",
       "  <tbody>\n",
       "    <tr>\n",
       "      <th>ГП 45</th>\n",
       "      <th>pomoshnik_pdn293</th>\n",
       "      <td>90</td>\n",
       "    </tr>\n",
       "    <tr>\n",
       "      <th>ГП 64</th>\n",
       "      <th>pomoshnik_pdn79</th>\n",
       "      <td>90</td>\n",
       "    </tr>\n",
       "    <tr>\n",
       "      <th>ГП 6</th>\n",
       "      <th>pomoshnik_pdn182</th>\n",
       "      <td>90</td>\n",
       "    </tr>\n",
       "    <tr>\n",
       "      <th rowspan=\"4\" valign=\"top\">ГП 62</th>\n",
       "      <th>pomoshnik_pdn107</th>\n",
       "      <td>90</td>\n",
       "    </tr>\n",
       "    <tr>\n",
       "      <th>pomoshnik_pdn108</th>\n",
       "      <td>90</td>\n",
       "    </tr>\n",
       "    <tr>\n",
       "      <th>pomoshnik_pdn267</th>\n",
       "      <td>90</td>\n",
       "    </tr>\n",
       "    <tr>\n",
       "      <th>Помощник 4</th>\n",
       "      <td>90</td>\n",
       "    </tr>\n",
       "    <tr>\n",
       "      <th rowspan=\"3\" valign=\"top\">ГП 64</th>\n",
       "      <th>pomoshnik_pdn105</th>\n",
       "      <td>90</td>\n",
       "    </tr>\n",
       "    <tr>\n",
       "      <th>pomoshnik_pdn17</th>\n",
       "      <td>90</td>\n",
       "    </tr>\n",
       "    <tr>\n",
       "      <th>pomoshnik_pdn45</th>\n",
       "      <td>90</td>\n",
       "    </tr>\n",
       "  </tbody>\n",
       "</table>\n",
       "</div>"
      ],
      "text/plain": [
       "                        emiasid\n",
       "mo    operator_login           \n",
       "ГП 45 pomoshnik_pdn293       90\n",
       "ГП 64 pomoshnik_pdn79        90\n",
       "ГП 6  pomoshnik_pdn182       90\n",
       "ГП 62 pomoshnik_pdn107       90\n",
       "      pomoshnik_pdn108       90\n",
       "      pomoshnik_pdn267       90\n",
       "      Помощник 4             90\n",
       "ГП 64 pomoshnik_pdn105       90\n",
       "      pomoshnik_pdn17        90\n",
       "      pomoshnik_pdn45        90"
      ]
     },
     "execution_count": 122,
     "metadata": {},
     "output_type": "execute_result"
    }
   ],
   "source": [
    "initial_task_for_today \\\n",
    ".groupby(['mo', 'operator_login']).agg({'emiasid': 'count'}).sort_values(['mo', 'emiasid'])\\\n",
    ".sort_values(by='emiasid', ascending=False).head(10)"
   ]
  },
  {
   "cell_type": "code",
   "execution_count": 123,
   "id": "76c5884f",
   "metadata": {},
   "outputs": [],
   "source": [
    "rename_mo = \\\n",
    "{'ГБУЗ Г МОСКВЫ ГП № 170 ДЗМ': 'ГП 170', ' ГП 6 ДЗМ': 'ГП 6', 'ГБУЗ КДЦ 6 ДЗМ':'КДЦ 6', \n",
    "'ГБУЗ \"ГП № 134 ДЗМ\"': 'ГП 134', 'КДЦ 4': 'КДЦ 4', 'ГБУЗ ДКЦ 1 ДЗМ': 'ДКЦ 1', 'ГБУЗ ГП 23 ДЗМ': 'ГП 23',\n",
    "'ГБУЗ ГП 109 ДЗМ': 'ГП 109', 'ГБУЗ ГП 11 ДЗМ': 'ГП 11', 'ГБУЗ ГП 64 ДЗМ': 'ГП 64', 'ГБУЗ ГП 191 ДЗМ': 'ГП 191', \n",
    "'ГБУЗ ГП 220 ДЗМ': 'ГП 220', 'ГБУЗ \"ГП № 218 ДЗМ\"': 'ГП 218',  'ГБУЗ ГП 107 ДЗМ': 'ГП 107', \n",
    "'ГБУЗ \"ГП № 22 ДЗМ\"': 'ГП 22', 'ГБУЗ ДЦ 5 ДЗМ': 'ДЦ 5', 'ГБУЗ ГП 210 ДЗМ': 'ГП 210', 'ГБУЗ ГП 214 ДЗМ': 'ГП 214', \n",
    "'ГБУЗ ГП 2 ДЗМ': 'ГП 2', 'ГБУЗ КДП 121 ДЗМ': 'КДП 121', 'ГБУЗ ГП 66 ДЗМ': 'ГП 66',  'ГБУЗ ДЦ 3 ДЗМ ': 'ДЦ 3',\n",
    "'ГБУЗ ГП 36 ДЗМ': 'ГП 36',  'ГБУЗ ГП 62 ДЗМ ': 'ГП 62', \n",
    "'ГБУЗ \"ГП № 52 ДЗМ\"': 'ГП 52', 'ГБУЗ \"ГП 67 ДЗМ\"': 'ГП 67', 'ГБУЗ ГП 68 ДЗМ': 'ГП 68', 'ГБУЗ ГП 175 ДЗМ': 'ГП 175',\n",
    "'ГБУЗ ГП № 209 ДЗМ': 'ГП 209',  'ГБУЗ ГП 212 ДЗМ': 'ГП 212', 'ГБУЗ ГП 19 ДЗМ': 'ГП 19', \n",
    "'ГБУЗ ГП №166 ДЗМ': 'ГП 166', 'ГБУЗ ГП 9 ДЗМ': 'ГП 9', 'ГБУЗ ГП 69 ДЗМ': 'ГП 69',\n",
    "'ГБУЗ \"ГП № 3 ДЗМ\"': 'ГП 3', 'ГБУЗ ГП 5 ДЗМ': 'ГП 5', 'ГБУЗ ГП 46 ДЗМ': 'ГП 46', 'ГБУЗ ГП №8 ДЗМ': 'ГП 8', \n",
    "'ГБУЗ \"ГП № 45 ДЗМ\"': 'ГП 45'}"
   ]
  },
  {
   "cell_type": "code",
   "execution_count": 124,
   "id": "d8c1906d",
   "metadata": {},
   "outputs": [],
   "source": [
    "mo_list = set(rename_mo.values())"
   ]
  },
  {
   "cell_type": "code",
   "execution_count": 125,
   "id": "69649df2",
   "metadata": {},
   "outputs": [],
   "source": [
    "initial_task_for_today_present_assistants = \\\n",
    "initial_task_for_today[~initial_task_for_today.operator_login.isin(absent_assistants.operator_login)]"
   ]
  },
  {
   "cell_type": "code",
   "execution_count": 126,
   "id": "3dc5953a",
   "metadata": {},
   "outputs": [
    {
     "data": {
      "text/plain": [
       "4575"
      ]
     },
     "execution_count": 126,
     "metadata": {},
     "output_type": "execute_result"
    }
   ],
   "source": [
    "initial_task_for_today[initial_task_for_today.operator_login.isin(absent_assistants.operator_login)].shape[0]"
   ]
  },
  {
   "cell_type": "code",
   "execution_count": 127,
   "id": "249761c8",
   "metadata": {},
   "outputs": [
    {
     "data": {
      "text/plain": [
       "12972"
      ]
     },
     "execution_count": 127,
     "metadata": {},
     "output_type": "execute_result"
    }
   ],
   "source": [
    "initial_task_for_today_present_assistants.shape[0]"
   ]
  },
  {
   "cell_type": "code",
   "execution_count": 128,
   "id": "3067e938",
   "metadata": {},
   "outputs": [
    {
     "data": {
      "text/html": [
       "<div>\n",
       "<style scoped>\n",
       "    .dataframe tbody tr th:only-of-type {\n",
       "        vertical-align: middle;\n",
       "    }\n",
       "\n",
       "    .dataframe tbody tr th {\n",
       "        vertical-align: top;\n",
       "    }\n",
       "\n",
       "    .dataframe thead th {\n",
       "        text-align: right;\n",
       "    }\n",
       "</style>\n",
       "<table border=\"1\" class=\"dataframe\">\n",
       "  <thead>\n",
       "    <tr style=\"text-align: right;\">\n",
       "      <th></th>\n",
       "      <th>emiasid</th>\n",
       "    </tr>\n",
       "    <tr>\n",
       "      <th>operator_login</th>\n",
       "      <th></th>\n",
       "    </tr>\n",
       "  </thead>\n",
       "  <tbody>\n",
       "    <tr>\n",
       "      <th>pomoshnik_pdn101</th>\n",
       "      <td>90</td>\n",
       "    </tr>\n",
       "    <tr>\n",
       "      <th>pomoshnik_pdn29</th>\n",
       "      <td>90</td>\n",
       "    </tr>\n",
       "    <tr>\n",
       "      <th>pomoshnik_pdn45</th>\n",
       "      <td>90</td>\n",
       "    </tr>\n",
       "    <tr>\n",
       "      <th>pomoshnik_pdn43</th>\n",
       "      <td>90</td>\n",
       "    </tr>\n",
       "    <tr>\n",
       "      <th>pomoshnik_pdn41</th>\n",
       "      <td>90</td>\n",
       "    </tr>\n",
       "    <tr>\n",
       "      <th>...</th>\n",
       "      <td>...</td>\n",
       "    </tr>\n",
       "    <tr>\n",
       "      <th>pomoshnik_pdn155</th>\n",
       "      <td>5</td>\n",
       "    </tr>\n",
       "    <tr>\n",
       "      <th>pomoshnik_pdn104</th>\n",
       "      <td>5</td>\n",
       "    </tr>\n",
       "    <tr>\n",
       "      <th>pomoshnik_pdn103</th>\n",
       "      <td>2</td>\n",
       "    </tr>\n",
       "    <tr>\n",
       "      <th>pomoshnik_pdn25</th>\n",
       "      <td>1</td>\n",
       "    </tr>\n",
       "    <tr>\n",
       "      <th>pomoshnik_pdn131</th>\n",
       "      <td>1</td>\n",
       "    </tr>\n",
       "  </tbody>\n",
       "</table>\n",
       "<p>162 rows × 1 columns</p>\n",
       "</div>"
      ],
      "text/plain": [
       "                  emiasid\n",
       "operator_login           \n",
       "pomoshnik_pdn101       90\n",
       "pomoshnik_pdn29        90\n",
       "pomoshnik_pdn45        90\n",
       "pomoshnik_pdn43        90\n",
       "pomoshnik_pdn41        90\n",
       "...                   ...\n",
       "pomoshnik_pdn155        5\n",
       "pomoshnik_pdn104        5\n",
       "pomoshnik_pdn103        2\n",
       "pomoshnik_pdn25         1\n",
       "pomoshnik_pdn131        1\n",
       "\n",
       "[162 rows x 1 columns]"
      ]
     },
     "execution_count": 128,
     "metadata": {},
     "output_type": "execute_result"
    }
   ],
   "source": [
    "initial_task_for_today_present_assistants.groupby('operator_login').agg({'emiasid': 'count'}).sort_values('emiasid', ascending=False)"
   ]
  },
  {
   "cell_type": "code",
   "execution_count": 129,
   "id": "5984cf9c",
   "metadata": {},
   "outputs": [],
   "source": [
    "initial_task_for_today_absent_assistants =  \\\n",
    "initial_task_for_today[initial_task_for_today.operator_login.isin(absent_assistants.operator_login)] \\\n",
    "[['emiasid', 'status', 'old_comment', 'mo', 'priority', 'month']]"
   ]
  },
  {
   "cell_type": "code",
   "execution_count": 130,
   "id": "30312a3e",
   "metadata": {},
   "outputs": [
    {
     "data": {
      "text/plain": [
       "Index(['emiasid', 'status', 'old_comment', 'mo', 'priority', 'month'], dtype='object')"
      ]
     },
     "execution_count": 130,
     "metadata": {},
     "output_type": "execute_result"
    }
   ],
   "source": [
    "initial_task_for_today_absent_assistants.columns"
   ]
  },
  {
   "cell_type": "code",
   "execution_count": 131,
   "id": "a75a442c",
   "metadata": {},
   "outputs": [],
   "source": [
    "new_doctor_patients = actual_patients[actual_patients.problem == 'Новый врач']"
   ]
  },
  {
   "cell_type": "code",
   "execution_count": 132,
   "id": "1d32593c",
   "metadata": {},
   "outputs": [
    {
     "name": "stderr",
     "output_type": "stream",
     "text": [
      "C:\\Users\\murad_satabaev\\AppData\\Local\\Temp\\ipykernel_7380\\1491646637.py:1: SettingWithCopyWarning: \n",
      "A value is trying to be set on a copy of a slice from a DataFrame.\n",
      "Try using .loc[row_indexer,col_indexer] = value instead\n",
      "\n",
      "See the caveats in the documentation: https://pandas.pydata.org/pandas-docs/stable/user_guide/indexing.html#returning-a-view-versus-a-copy\n",
      "  new_doctor_patients['priority'] = 6\n"
     ]
    }
   ],
   "source": [
    "new_doctor_patients['priority'] = 6"
   ]
  },
  {
   "cell_type": "code",
   "execution_count": 133,
   "id": "1cf7018e",
   "metadata": {},
   "outputs": [
    {
     "data": {
      "text/plain": [
       "9357"
      ]
     },
     "execution_count": 133,
     "metadata": {},
     "output_type": "execute_result"
    }
   ],
   "source": [
    "new_doctor_patients = new_doctor_patients[['emiasid', 'status', 'old_comment', 'mo', 'priority', 'month']]\n",
    "new_doctor_patients.shape[0]"
   ]
  },
  {
   "cell_type": "code",
   "execution_count": 134,
   "id": "e05971cb",
   "metadata": {},
   "outputs": [
    {
     "data": {
      "text/plain": [
       "13932"
      ]
     },
     "execution_count": 134,
     "metadata": {},
     "output_type": "execute_result"
    }
   ],
   "source": [
    "additional_task_for_present_assistants = \\\n",
    "pd.concat([\n",
    "    new_doctor_patients,\n",
    "    initial_task_for_today_absent_assistants\n",
    "]).reset_index(drop=True)\n",
    "additional_task_for_present_assistants.shape[0]"
   ]
  },
  {
   "cell_type": "code",
   "execution_count": 135,
   "id": "90ff9e79",
   "metadata": {},
   "outputs": [],
   "source": [
    "additional_task_for_present_assistants_by_mo = \\\n",
    "additional_task_for_present_assistants.groupby(['mo']).agg({'emiasid': 'count'}).sort_values(by=['mo', 'emiasid'])"
   ]
  },
  {
   "cell_type": "code",
   "execution_count": 136,
   "id": "d4bb3a4b",
   "metadata": {},
   "outputs": [],
   "source": [
    "distribution_count = initial_task_for_today_present_assistants.groupby(['mo']) \\\n",
    ".agg({'emiasid': 'count', 'operator_login': 'nunique'}) \\\n",
    ".sort_values(by=['mo', 'emiasid'])"
   ]
  },
  {
   "cell_type": "code",
   "execution_count": 137,
   "id": "6cffe7fc",
   "metadata": {},
   "outputs": [],
   "source": [
    "distribution_count['total_delta'] = distribution_count['operator_login'] * task_amount - distribution_count['emiasid']"
   ]
  },
  {
   "cell_type": "code",
   "execution_count": 138,
   "id": "e2b43718",
   "metadata": {},
   "outputs": [],
   "source": [
    "distribution_count = distribution_count[distribution_count.total_delta > 0]"
   ]
  },
  {
   "cell_type": "code",
   "execution_count": 139,
   "id": "4e0a6b6d",
   "metadata": {},
   "outputs": [
    {
     "data": {
      "text/html": [
       "<div>\n",
       "<style scoped>\n",
       "    .dataframe tbody tr th:only-of-type {\n",
       "        vertical-align: middle;\n",
       "    }\n",
       "\n",
       "    .dataframe tbody tr th {\n",
       "        vertical-align: top;\n",
       "    }\n",
       "\n",
       "    .dataframe thead th {\n",
       "        text-align: right;\n",
       "    }\n",
       "</style>\n",
       "<table border=\"1\" class=\"dataframe\">\n",
       "  <thead>\n",
       "    <tr style=\"text-align: right;\">\n",
       "      <th></th>\n",
       "      <th>emiasid</th>\n",
       "      <th>status</th>\n",
       "      <th>old_comment</th>\n",
       "      <th>mo</th>\n",
       "      <th>priority</th>\n",
       "      <th>month</th>\n",
       "    </tr>\n",
       "  </thead>\n",
       "  <tbody>\n",
       "    <tr>\n",
       "      <th>0</th>\n",
       "      <td>21346047</td>\n",
       "      <td>Ни разу не звонили</td>\n",
       "      <td>Не в Москве, сентябрь</td>\n",
       "      <td>ГП 19</td>\n",
       "      <td>6</td>\n",
       "      <td>august</td>\n",
       "    </tr>\n",
       "    <tr>\n",
       "      <th>1</th>\n",
       "      <td>1943222591</td>\n",
       "      <td>Ни разу не звонили</td>\n",
       "      <td>не в Москве, сентябрь</td>\n",
       "      <td>ГП 11</td>\n",
       "      <td>6</td>\n",
       "      <td>august</td>\n",
       "    </tr>\n",
       "    <tr>\n",
       "      <th>2</th>\n",
       "      <td>10809670</td>\n",
       "      <td>Не дозвонились</td>\n",
       "      <td>Не в москве, сентябрь</td>\n",
       "      <td>ГП 170</td>\n",
       "      <td>6</td>\n",
       "      <td>august</td>\n",
       "    </tr>\n",
       "    <tr>\n",
       "      <th>3</th>\n",
       "      <td>19125318</td>\n",
       "      <td>Ни разу не звонили</td>\n",
       "      <td>не в москве , сентябрь</td>\n",
       "      <td>ГП 23</td>\n",
       "      <td>6</td>\n",
       "      <td>august</td>\n",
       "    </tr>\n",
       "    <tr>\n",
       "      <th>4</th>\n",
       "      <td>16536830</td>\n",
       "      <td>Разговор состоялся</td>\n",
       "      <td>NaN</td>\n",
       "      <td>ГП 170</td>\n",
       "      <td>6</td>\n",
       "      <td>august</td>\n",
       "    </tr>\n",
       "    <tr>\n",
       "      <th>...</th>\n",
       "      <td>...</td>\n",
       "      <td>...</td>\n",
       "      <td>...</td>\n",
       "      <td>...</td>\n",
       "      <td>...</td>\n",
       "      <td>...</td>\n",
       "    </tr>\n",
       "    <tr>\n",
       "      <th>13927</th>\n",
       "      <td>10784961</td>\n",
       "      <td>Напомнить</td>\n",
       "      <td>NaN</td>\n",
       "      <td>ГП 23</td>\n",
       "      <td>4</td>\n",
       "      <td>september</td>\n",
       "    </tr>\n",
       "    <tr>\n",
       "      <th>13928</th>\n",
       "      <td>10945571</td>\n",
       "      <td>Напомнить</td>\n",
       "      <td>NaN</td>\n",
       "      <td>ГП 23</td>\n",
       "      <td>4</td>\n",
       "      <td>september</td>\n",
       "    </tr>\n",
       "    <tr>\n",
       "      <th>13929</th>\n",
       "      <td>16154509</td>\n",
       "      <td>Напомнить</td>\n",
       "      <td>NaN</td>\n",
       "      <td>ГП 23</td>\n",
       "      <td>4</td>\n",
       "      <td>september</td>\n",
       "    </tr>\n",
       "    <tr>\n",
       "      <th>13930</th>\n",
       "      <td>21184970</td>\n",
       "      <td>Напомнить</td>\n",
       "      <td>NaN</td>\n",
       "      <td>ГП 23</td>\n",
       "      <td>4</td>\n",
       "      <td>september</td>\n",
       "    </tr>\n",
       "    <tr>\n",
       "      <th>13931</th>\n",
       "      <td>24017151</td>\n",
       "      <td>Напомнить</td>\n",
       "      <td>NaN</td>\n",
       "      <td>ГП 23</td>\n",
       "      <td>4</td>\n",
       "      <td>september</td>\n",
       "    </tr>\n",
       "  </tbody>\n",
       "</table>\n",
       "<p>13932 rows × 6 columns</p>\n",
       "</div>"
      ],
      "text/plain": [
       "          emiasid              status             old_comment      mo  \\\n",
       "0        21346047  Ни разу не звонили   Не в Москве, сентябрь   ГП 19   \n",
       "1      1943222591  Ни разу не звонили   не в Москве, сентябрь   ГП 11   \n",
       "2        10809670      Не дозвонились   Не в москве, сентябрь  ГП 170   \n",
       "3        19125318  Ни разу не звонили  не в москве , сентябрь   ГП 23   \n",
       "4        16536830  Разговор состоялся                     NaN  ГП 170   \n",
       "...           ...                 ...                     ...     ...   \n",
       "13927    10784961           Напомнить                     NaN   ГП 23   \n",
       "13928    10945571           Напомнить                     NaN   ГП 23   \n",
       "13929    16154509           Напомнить                     NaN   ГП 23   \n",
       "13930    21184970           Напомнить                     NaN   ГП 23   \n",
       "13931    24017151           Напомнить                     NaN   ГП 23   \n",
       "\n",
       "       priority      month  \n",
       "0             6     august  \n",
       "1             6     august  \n",
       "2             6     august  \n",
       "3             6     august  \n",
       "4             6     august  \n",
       "...         ...        ...  \n",
       "13927         4  september  \n",
       "13928         4  september  \n",
       "13929         4  september  \n",
       "13930         4  september  \n",
       "13931         4  september  \n",
       "\n",
       "[13932 rows x 6 columns]"
      ]
     },
     "execution_count": 139,
     "metadata": {},
     "output_type": "execute_result"
    }
   ],
   "source": [
    "additional_task_for_present_assistants"
   ]
  },
  {
   "cell_type": "code",
   "execution_count": 140,
   "id": "3fc05a8b",
   "metadata": {},
   "outputs": [],
   "source": [
    "final_task_predistribution = \\\n",
    "pd.concat([initial_task_for_today_present_assistants, additional_task_for_present_assistants]).reset_index(drop=True)"
   ]
  },
  {
   "cell_type": "code",
   "execution_count": 141,
   "id": "e111fbba",
   "metadata": {},
   "outputs": [
    {
     "data": {
      "text/plain": [
       "13932"
      ]
     },
     "execution_count": 141,
     "metadata": {},
     "output_type": "execute_result"
    }
   ],
   "source": [
    "empty_login_patients_amount_before = final_task_predistribution[final_task_predistribution.operator_login.isna()].shape[0]\n",
    "empty_login_patients_amount_before"
   ]
  },
  {
   "cell_type": "code",
   "execution_count": 142,
   "id": "650e69ab",
   "metadata": {},
   "outputs": [
    {
     "name": "stdout",
     "output_type": "stream",
     "text": [
      "CPU times: total: 45.5 s\n",
      "Wall time: 45.7 s\n"
     ]
    }
   ],
   "source": [
    "%%time\n",
    "\n",
    "for mo in distribution_count.index:\n",
    "    \n",
    "    while final_task_predistribution[final_task_predistribution.mo == mo].groupby('operator_login') \\\n",
    "    .agg({'emiasid': 'count'}).min()['emiasid'] < task_amount and \\\n",
    "    final_task_predistribution[(final_task_predistribution.operator_login.isna()) & (final_task_predistribution.mo == mo)] \\\n",
    "    .shape[0] > 0:\n",
    "        \n",
    "        miminal_in_mo_assistant_emiasid_amount = final_task_predistribution[final_task_predistribution.mo == mo] \\\n",
    "        .groupby('operator_login').agg({'emiasid': 'count'}).min()['emiasid']\n",
    "\n",
    "        minimal_in_mo_emiasid_amount_login = final_task_predistribution[final_task_predistribution.mo == mo] \\\n",
    "        .groupby('operator_login').agg({'emiasid': 'count'}).sort_values(by='emiasid').index[0]\n",
    "        \n",
    "        \n",
    "        empty_login_in_mo_index = final_task_predistribution[\n",
    "            (final_task_predistribution.operator_login.isna()) & (final_task_predistribution.mo == mo)\n",
    "        ].index[0]\n",
    "        \n",
    "        final_task_predistribution = \\\n",
    "        final_task_predistribution.sort_values(by=['priority', 'calls_amount', 'last_call_date'])\n",
    "\n",
    "        final_task_predistribution.loc[empty_login_in_mo_index, 'operator_login'] = minimal_in_mo_emiasid_amount_login\n"
   ]
  },
  {
   "cell_type": "code",
   "execution_count": 143,
   "id": "0f2c344a",
   "metadata": {},
   "outputs": [
    {
     "data": {
      "text/plain": [
       "12332"
      ]
     },
     "execution_count": 143,
     "metadata": {},
     "output_type": "execute_result"
    }
   ],
   "source": [
    "empty_login_patients_amount_after = final_task_predistribution[final_task_predistribution.operator_login.isna()].shape[0]\n",
    "empty_login_patients_amount_after"
   ]
  },
  {
   "cell_type": "code",
   "execution_count": 144,
   "id": "b2b0e146",
   "metadata": {},
   "outputs": [],
   "source": [
    "check_table = distribution_count.merge(additional_task_for_present_assistants_by_mo,left_index=True, right_index=True) \\\n",
    "[['total_delta', 'emiasid_y']]"
   ]
  },
  {
   "cell_type": "code",
   "execution_count": 145,
   "id": "9680ffa0",
   "metadata": {},
   "outputs": [],
   "source": [
    "check_table.loc[check_table['total_delta'] > check_table['emiasid_y'], 'real_addition'] = \\\n",
    "check_table.loc[check_table['total_delta'] > check_table['emiasid_y'], 'emiasid_y']\n",
    "\n",
    "check_table.loc[check_table['total_delta'] <= check_table['emiasid_y'], 'real_addition'] = \\\n",
    "check_table.loc[check_table['total_delta'] <= check_table['emiasid_y'], 'total_delta']"
   ]
  },
  {
   "cell_type": "code",
   "execution_count": 146,
   "id": "1fe8f17d",
   "metadata": {},
   "outputs": [
    {
     "data": {
      "text/plain": [
       "1600.0"
      ]
     },
     "execution_count": 146,
     "metadata": {},
     "output_type": "execute_result"
    }
   ],
   "source": [
    "real_change_of_emty_login_patients_amount = check_table.real_addition.sum()\n",
    "real_change_of_emty_login_patients_amount"
   ]
  },
  {
   "cell_type": "code",
   "execution_count": 147,
   "id": "63ec6182",
   "metadata": {},
   "outputs": [
    {
     "data": {
      "text/plain": [
       "True"
      ]
     },
     "execution_count": 147,
     "metadata": {},
     "output_type": "execute_result"
    }
   ],
   "source": [
    "empty_login_patients_amount_before - empty_login_patients_amount_after == real_change_of_emty_login_patients_amount"
   ]
  },
  {
   "cell_type": "code",
   "execution_count": 148,
   "id": "942e3c5e",
   "metadata": {},
   "outputs": [],
   "source": [
    "final_task_distribution = final_task_predistribution[~final_task_predistribution.operator_login.isna()] \\\n",
    ".copy().reset_index(drop=True)"
   ]
  },
  {
   "cell_type": "code",
   "execution_count": 149,
   "id": "f26194b6",
   "metadata": {},
   "outputs": [
    {
     "data": {
      "text/plain": [
       "14572"
      ]
     },
     "execution_count": 149,
     "metadata": {},
     "output_type": "execute_result"
    }
   ],
   "source": [
    "final_task_distribution.shape[0]"
   ]
  },
  {
   "cell_type": "code",
   "execution_count": 150,
   "id": "057ecfc2",
   "metadata": {},
   "outputs": [
    {
     "data": {
      "text/plain": [
       "Не дозвонились                    8575\n",
       "Перенос звонка на другой день     2747\n",
       "Напомнить                         1582\n",
       "Запишется самостоятельно          1150\n",
       "Ни разу не звонили                 309\n",
       "Будет в Москве в другом месяце      58\n",
       "Разговор состоялся                  41\n",
       "Отсутствует номер                   32\n",
       "Не нравится врач                    19\n",
       "Перезвонить сегодня                 19\n",
       "Другой врач в МО                    13\n",
       "Не нравится МО                       6\n",
       "Госпитализирован                     5\n",
       "Пациент отрицает диагноз             5\n",
       "Иная МО                              4\n",
       "Отказ                                4\n",
       "Патронаж                             2\n",
       "Онкология                            1\n",
       "Name: status, dtype: int64"
      ]
     },
     "execution_count": 150,
     "metadata": {},
     "output_type": "execute_result"
    }
   ],
   "source": [
    "final_task_distribution.status.value_counts()"
   ]
  },
  {
   "cell_type": "code",
   "execution_count": 151,
   "id": "ba065c68",
   "metadata": {},
   "outputs": [
    {
     "data": {
      "text/plain": [
       "14572"
      ]
     },
     "execution_count": 151,
     "metadata": {},
     "output_type": "execute_result"
    }
   ],
   "source": [
    "final_task_distribution.shape[0]"
   ]
  },
  {
   "cell_type": "code",
   "execution_count": null,
   "id": "1f39310e",
   "metadata": {},
   "outputs": [],
   "source": []
  },
  {
   "cell_type": "code",
   "execution_count": null,
   "id": "2330ea9f",
   "metadata": {},
   "outputs": [],
   "source": []
  },
  {
   "cell_type": "code",
   "execution_count": null,
   "id": "0168e629",
   "metadata": {},
   "outputs": [],
   "source": [
    "final_task_distribution.columns"
   ]
  },
  {
   "cell_type": "code",
   "execution_count": null,
   "id": "ac380ee3",
   "metadata": {},
   "outputs": [],
   "source": [
    "final_task_distribution.groupby('operator_login').agg({'emiasid': 'count'}).sort_values(by=['emiasid'], ascending=False).head(30)"
   ]
  },
  {
   "cell_type": "code",
   "execution_count": null,
   "id": "5cbc1d18",
   "metadata": {},
   "outputs": [],
   "source": [
    "final_task_distribution['emiasid'] = final_task_distribution['emiasid']"
   ]
  },
  {
   "cell_type": "code",
   "execution_count": null,
   "id": "17140f8b",
   "metadata": {},
   "outputs": [],
   "source": [
    "final_task_distribution = final_task_distribution.drop_duplicates(subset=['emiasid'], keep='first')\n",
    "final_task_distribution.shape[0]"
   ]
  },
  {
   "cell_type": "code",
   "execution_count": null,
   "id": "eb16b922",
   "metadata": {},
   "outputs": [],
   "source": [
    "final_task_distribution.status.value_counts()"
   ]
  },
  {
   "cell_type": "code",
   "execution_count": null,
   "id": "349da337",
   "metadata": {},
   "outputs": [],
   "source": [
    "final_task_distribution.last_call_date.value_counts()"
   ]
  },
  {
   "cell_type": "code",
   "execution_count": null,
   "id": "d5f67b49",
   "metadata": {},
   "outputs": [],
   "source": [
    "final_task_distribution = final_task_distribution.drop_duplicates(subset=['emiasid'], keep='first')\n",
    "final_task_distribution.shape[0]"
   ]
  },
  {
   "cell_type": "code",
   "execution_count": null,
   "id": "dad560c1",
   "metadata": {},
   "outputs": [],
   "source": [
    "final_task_distribution.operator_login = final_task_distribution.operator_login.apply(lambda x: x + '_n2')"
   ]
  },
  {
   "cell_type": "code",
   "execution_count": 152,
   "id": "59b22bd5",
   "metadata": {},
   "outputs": [
    {
     "data": {
      "text/plain": [
       "pomoshnik_pdn62     90\n",
       "pomoshnik_pdn247    90\n",
       "pomoshnik_pdn20     90\n",
       "pomoshnik_pdn147    90\n",
       "pomoshnik_pdn38     90\n",
       "                    ..\n",
       "Помощник 4          90\n",
       "pomoshnik_pdn180    90\n",
       "pomoshnik_pdn91     90\n",
       "pomoshnik_pdn199    86\n",
       "pomoshnik_pdn265    86\n",
       "Name: operator_login, Length: 162, dtype: int64"
      ]
     },
     "execution_count": 152,
     "metadata": {},
     "output_type": "execute_result"
    }
   ],
   "source": [
    "final_task_distribution.operator_login.value_counts()"
   ]
  },
  {
   "cell_type": "code",
   "execution_count": 153,
   "id": "494e7fec",
   "metadata": {},
   "outputs": [],
   "source": [
    "final_task_distribution[final_task_distribution.month == 'august']\\\n",
    ".to_excel(rf'august_task_for_today_{today_y_m_d}.xlsx', index=False)"
   ]
  },
  {
   "cell_type": "code",
   "execution_count": 154,
   "id": "29d90f94",
   "metadata": {},
   "outputs": [],
   "source": [
    "final_task_distribution[final_task_distribution.month == 'september']\\\n",
    ".to_excel(rf'september_task_for_today_{today_y_m_d}.xlsx', index=False)"
   ]
  },
  {
   "cell_type": "code",
   "execution_count": null,
   "id": "413e3589",
   "metadata": {},
   "outputs": [],
   "source": []
  },
  {
   "cell_type": "code",
   "execution_count": 155,
   "id": "6ba20cdb",
   "metadata": {},
   "outputs": [],
   "source": [
    "final_task_distribution.to_excel(rf'full_task_for_today_{today_y_m_d}.xlsx', index=False)"
   ]
  },
  {
   "cell_type": "code",
   "execution_count": null,
   "id": "058aa7ae",
   "metadata": {},
   "outputs": [],
   "source": [
    "tomorrow_record_patients[tomorrow_record_patients.emiasid.isin(final_task_distribution.emiasid)]"
   ]
  },
  {
   "cell_type": "code",
   "execution_count": null,
   "id": "3882bb4b",
   "metadata": {},
   "outputs": [],
   "source": [
    "final_task_distribution."
   ]
  }
 ],
 "metadata": {
  "kernelspec": {
   "display_name": "Python 3 (ipykernel)",
   "language": "python",
   "name": "python3"
  },
  "language_info": {
   "codemirror_mode": {
    "name": "ipython",
    "version": 3
   },
   "file_extension": ".py",
   "mimetype": "text/x-python",
   "name": "python",
   "nbconvert_exporter": "python",
   "pygments_lexer": "ipython3",
   "version": "3.10.4"
  }
 },
 "nbformat": 4,
 "nbformat_minor": 5
}
