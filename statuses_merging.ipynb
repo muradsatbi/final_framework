{
 "cells": [
  {
   "cell_type": "code",
   "execution_count": 1,
   "id": "ffd41bc3",
   "metadata": {},
   "outputs": [],
   "source": [
    "import os\n",
    "import pandas as pd\n",
    "import datetime as dt\n",
    "import numpy as np\n",
    "import re"
   ]
  },
  {
   "cell_type": "code",
   "execution_count": 2,
   "id": "3678b95e",
   "metadata": {},
   "outputs": [
    {
     "name": "stdout",
     "output_type": "stream",
     "text": [
      "2022_09_08\n"
     ]
    }
   ],
   "source": [
    "today = pd.Timestamp(dt.datetime.today().date())\n",
    "today_ymd = today.strftime('%Y%m%d')\n",
    "today_y_m_d = today.strftime('%Y_%m_%d')\n",
    "\n",
    "yesterday = today - dt.timedelta(days=1)\n",
    "yesterday_ymd = yesterday.strftime('%Y%m%d')\n",
    "yesterday_y_m_d = yesterday.strftime('%Y-%m-%d')\n",
    "\n",
    "tomorrow = today + dt.timedelta(days=1)\n",
    "tomorrow_ymd = tomorrow.strftime('%Y%m%d')\n",
    "tomorrow_y_m_d = tomorrow.strftime('%Y-%m-%d')\n",
    "\n",
    "print(today_y_m_d)"
   ]
  },
  {
   "cell_type": "code",
   "execution_count": 3,
   "id": "bbe9a34f",
   "metadata": {},
   "outputs": [],
   "source": [
    "column_names = {'Emiasid': 'emiasid', 'Emiasid ': 'emiasid' , 'emiasid ': 'emiasid', 'EMIAS_ID': 'emiasid', 'МО': 'mo', \n",
    "                'МУ': 'mu', 'Логин оператора': 'login', 'Дата и время звонка': 'call_date', 'Результат звонка': 'call_result',\n",
    "                'Результат звонка ': 'call_result', 'Разговор состоялся': 'talk_result', 'Комменатрий': 'comment', \n",
    "                'Дата и время переноса': 'next_call_date', 'Контактный телефон': 'phone_number', 'ФИО врача': 'doctor_fio', \n",
    "                'ФИО помощника врача': 'assistant_fio', 'Логин помощника врача': 'login', 'Зал №': 'hall_number',\n",
    "                'Логин naumen': 'login', 'МО закрепления': 'mo', 'Отсутствует на рабочем месте': 'absence'}"
   ]
  },
  {
   "cell_type": "code",
   "execution_count": 23,
   "id": "501cb151",
   "metadata": {},
   "outputs": [],
   "source": [
    "# путь папки с данными по звонкам\n",
    "calls_data_path = r'\\Users\\murad_satabaev\\Documents\\all_tasks_in_one_place'\n",
    "calls_data_path = calls_data_path.split('\\\\')\n",
    "calls_data_path = os.path.join('C:\\\\', r'\\\\', *calls_data_path)"
   ]
  },
  {
   "cell_type": "code",
   "execution_count": 24,
   "id": "aa095ae2",
   "metadata": {},
   "outputs": [
    {
     "name": "stdout",
     "output_type": "stream",
     "text": [
      "\\\\t999\\Сетевой диск\\pdn\\data\\patients_current_statuses_path\n"
     ]
    }
   ],
   "source": [
    "# путь файла с текущими статусами пациентов\n",
    "patients_current_statuses_path = r'\\\\t999\\Сетевой диск\\pdn\\data\\patients_current_statuses_path'\n",
    "patients_current_statuses_path = patients_current_statuses_path.split('\\\\')\n",
    "patients_current_statuses_path = os.path.join(r'\\\\', *patients_current_statuses_path)\n",
    "print(patients_current_statuses_path)"
   ]
  },
  {
   "cell_type": "code",
   "execution_count": 25,
   "id": "8d361945",
   "metadata": {},
   "outputs": [],
   "source": [
    "calls_data_path = os.path.join(calls_data_path, 'calls_data_20220902_today.xlsx')"
   ]
  },
  {
   "cell_type": "code",
   "execution_count": 44,
   "id": "8edfeadd",
   "metadata": {},
   "outputs": [
    {
     "data": {
      "text/plain": [
       "62643"
      ]
     },
     "execution_count": 44,
     "metadata": {},
     "output_type": "execute_result"
    }
   ],
   "source": [
    "calls_data_reading = pd.read_excel(calls_data_path)\n",
    "calls_data_reading.shape[0]"
   ]
  },
  {
   "cell_type": "code",
   "execution_count": 45,
   "id": "9f1a80bc",
   "metadata": {},
   "outputs": [],
   "source": [
    "calls_data_reading = calls_data_reading.rename(columns=column_names)"
   ]
  },
  {
   "cell_type": "code",
   "execution_count": 47,
   "id": "dfffadd4",
   "metadata": {},
   "outputs": [
    {
     "name": "stderr",
     "output_type": "stream",
     "text": [
      "C:\\Users\\murad_satabaev\\AppData\\Local\\Temp\\ipykernel_7136\\406665173.py:1: FutureWarning: The default value of regex will change from True to False in a future version.\n",
      "  calls_data_reading['emiasid'] = calls_data_reading['emiasid'].astype(str).str.replace('\\.0', '')\n"
     ]
    }
   ],
   "source": [
    "calls_data_reading['emiasid'] = calls_data_reading['emiasid'].astype(str).str.replace('\\.0', '')\n",
    "calls_data_reading['call_date'] = calls_data_reading['call_date'].apply(lambda x: pd.to_datetime(x, dayfirst=True).date())\n",
    "calls_data_reading['next_call_date'] = \\\n",
    "calls_data_reading['next_call_date'].apply(lambda x: pd.to_datetime(x, dayfirst=True, errors='coerce').date())"
   ]
  },
  {
   "cell_type": "code",
   "execution_count": null,
   "id": "b6a91edd",
   "metadata": {},
   "outputs": [],
   "source": []
  },
  {
   "cell_type": "code",
   "execution_count": null,
   "id": "d4642f21",
   "metadata": {},
   "outputs": [],
   "source": []
  },
  {
   "cell_type": "code",
   "execution_count": 48,
   "id": "3e3b0c35",
   "metadata": {},
   "outputs": [],
   "source": [
    "monthes = {'august', 'september'}"
   ]
  },
  {
   "cell_type": "code",
   "execution_count": 49,
   "id": "63bf033c",
   "metadata": {},
   "outputs": [
    {
     "name": "stderr",
     "output_type": "stream",
     "text": [
      "C:\\Users\\murad_satabaev\\AppData\\Local\\Temp\\ipykernel_7136\\2959715948.py:22: FutureWarning: The default value of regex will change from True to False in a future version.\n",
      "  last_calls_data['emiasid'] = last_calls_data['emiasid'].astype(str).str.replace('\\.0', '')\n",
      "C:\\Users\\murad_satabaev\\AppData\\Local\\Temp\\ipykernel_7136\\2959715948.py:34: FutureWarning: The default value of regex will change from True to False in a future version.\n",
      "  patients_current_statuses['emiasid'] = patients_current_statuses['emiasid'].astype(str).str.replace('\\.0', '')\n",
      "C:\\Users\\murad_satabaev\\AppData\\Local\\Temp\\ipykernel_7136\\2959715948.py:22: FutureWarning: The default value of regex will change from True to False in a future version.\n",
      "  last_calls_data['emiasid'] = last_calls_data['emiasid'].astype(str).str.replace('\\.0', '')\n",
      "C:\\Users\\murad_satabaev\\AppData\\Local\\Temp\\ipykernel_7136\\2959715948.py:34: FutureWarning: The default value of regex will change from True to False in a future version.\n",
      "  patients_current_statuses['emiasid'] = patients_current_statuses['emiasid'].astype(str).str.replace('\\.0', '')\n"
     ]
    }
   ],
   "source": [
    "for month in monthes:\n",
    "    \n",
    "    \n",
    "    if 'september' in month:\n",
    "        calls_data = calls_data_reading[calls_data_reading.call_date >= dt.date(2022, 9, 2)].reset_index(drop=True).copy()\n",
    "    else:\n",
    "        calls_data = calls_data_reading.copy()\n",
    "        \n",
    "    \n",
    "    emiasid_touches = \\\n",
    "    calls_data.groupby('emiasid').agg({'call_date': 'count'}).rename(columns={'call_date': 'calls_amount'}).reset_index()\n",
    "    \n",
    "    last_calls_data = \\\n",
    "    calls_data.sort_values(by='call_date').drop_duplicates(subset=['emiasid'], keep='last').reset_index(drop=True)\n",
    "    \n",
    "    last_calls_data = last_calls_data[['emiasid', 'call_date', 'call_result', 'talk_result', 'next_call_date', 'comment']]\n",
    "    \n",
    "    last_calls_data = last_calls_data.rename(\n",
    "        columns={'comment': 'old_comment', 'call_date': 'last_call_date', 'call_result': 'last_call_result',\n",
    "                'talk_result': 'last_talk_result'})\n",
    "    \n",
    "    last_calls_data['emiasid'] = last_calls_data['emiasid'].astype(str).str.replace('\\.0', '')\n",
    "    last_calls_data['last_call_date'] = last_calls_data['last_call_date'].apply(lambda x: pd.to_datetime(x, dayfirst=True).date())\n",
    "    last_calls_data['next_call_date'] = \\\n",
    "    last_calls_data['next_call_date'].apply(lambda x: pd.to_datetime(x, dayfirst=True).date())\n",
    "    \n",
    "    \n",
    "    patients_current_statuses_reading = pd.read_excel(\n",
    "        os.path.join(patients_current_statuses_path, rf'{month}_patients_current_statuses_{today_y_m_d}.xlsx'))\n",
    "    \n",
    "    \n",
    "    patients_current_statuses = patients_current_statuses_reading.rename(columns=column_names).copy()\n",
    "    \n",
    "    patients_current_statuses['emiasid'] = patients_current_statuses['emiasid'].astype(str).str.replace('\\.0', '')\n",
    "    patients_current_statuses['date'] = \\\n",
    "    patients_current_statuses['date'].apply(lambda x: pd.to_datetime(x, dayfirst=True).date())\n",
    "    \n",
    "    patients_current_statuses_merged = patients_current_statuses.merge(emiasid_touches, on=['emiasid'], how='left')\n",
    "    patients_current_statuses_merged = patients_current_statuses_merged.merge(last_calls_data, on=['emiasid'], how='left')\n",
    "    patients_current_statuses_merged.to_excel(\n",
    "        os.path.join('C:\\\\', 'Users', 'murad_satabaev', 'Documents', 'all_tasks_in_one_place',\n",
    "        'patients_current_statuses_merged', f'{month}_patients_current_statuses_merged_{today_y_m_d}.xlsx'), index=False)"
   ]
  },
  {
   "cell_type": "code",
   "execution_count": null,
   "id": "83795bad",
   "metadata": {},
   "outputs": [],
   "source": []
  }
 ],
 "metadata": {
  "kernelspec": {
   "display_name": "Python 3 (ipykernel)",
   "language": "python",
   "name": "python3"
  },
  "language_info": {
   "codemirror_mode": {
    "name": "ipython",
    "version": 3
   },
   "file_extension": ".py",
   "mimetype": "text/x-python",
   "name": "python",
   "nbconvert_exporter": "python",
   "pygments_lexer": "ipython3",
   "version": "3.10.4"
  }
 },
 "nbformat": 4,
 "nbformat_minor": 5
}
