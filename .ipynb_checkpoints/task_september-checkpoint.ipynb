{
 "cells": [
  {
   "cell_type": "code",
   "execution_count": 1,
   "id": "46b622c0",
   "metadata": {},
   "outputs": [],
   "source": [
    "import os\n",
    "import pandas as pd\n",
    "import datetime as dt\n",
    "import numpy as np\n",
    "import re"
   ]
  },
  {
   "cell_type": "code",
   "execution_count": 2,
   "id": "fe673d61",
   "metadata": {},
   "outputs": [],
   "source": [
    "column_names = {'Emiasid': 'emiasid', 'Emiasid ': 'emiasid' , 'emiasid ': 'emiasid', 'EMIAS_ID': 'emiasid', 'МО': 'mo', \n",
    "                'МУ': 'mu', 'Логин оператора': 'login', 'Дата и время звонка': 'call_date', 'Результат звонка': 'call_result',\n",
    "                'Результат звонка ': 'call_result', 'Разговор состоялся': 'talk_result', 'Комменатрий': 'comment', \n",
    "                'Дата и время переноса': 'next_call_date', 'Контактный телефон': 'phone_number', 'ФИО врача': 'doctor_fio', \n",
    "                'ФИО помощника врача': 'assistant_fio', 'Логин помощника врача': 'login', 'Зал №': 'hall_number',\n",
    "                'Логин naumen': 'login', 'МО закрепления': 'mo', 'Отсутствует на рабочем месте': 'absence'}"
   ]
  },
  {
   "cell_type": "code",
   "execution_count": 3,
   "id": "2775ffd9",
   "metadata": {},
   "outputs": [
    {
     "name": "stdout",
     "output_type": "stream",
     "text": [
      "2022_09_12\n"
     ]
    }
   ],
   "source": [
    "today = pd.Timestamp(dt.datetime.today().date())\n",
    "today_ymd = today.strftime('%Y%m%d')\n",
    "today_y_m_d = today.strftime('%Y_%m_%d')\n",
    "\n",
    "yesterday = today - dt.timedelta(days=1)\n",
    "yesterday_ymd = yesterday.strftime('%Y%m%d')\n",
    "yesterday_y_m_d = yesterday.strftime('%Y-%m-%d')\n",
    "\n",
    "tomorrow = today + dt.timedelta(days=1)\n",
    "tomorrow_ymd = tomorrow.strftime('%Y%m%d')\n",
    "tomorrow_y_m_d = tomorrow.strftime('%Y-%m-%d')\n",
    "\n",
    "print(today_y_m_d)"
   ]
  },
  {
   "cell_type": "code",
   "execution_count": null,
   "id": "5a018e64",
   "metadata": {},
   "outputs": [],
   "source": []
  },
  {
   "cell_type": "code",
   "execution_count": 4,
   "id": "72d22ff7",
   "metadata": {},
   "outputs": [
    {
     "name": "stdout",
     "output_type": "stream",
     "text": [
      "\\\\t999\\Сетевой диск\\pdn\\data\\patients_current_statuses_path\n"
     ]
    }
   ],
   "source": [
    "# путь файла с текущими статусами пациентов\n",
    "patients_current_statuses_path = r'\\\\t999\\Сетевой диск\\pdn\\data\\patients_current_statuses_path'\n",
    "patients_current_statuses_path = patients_current_statuses_path.split('\\\\')\n",
    "patients_current_statuses_path = os.path.join(r'\\\\', *patients_current_statuses_path)\n",
    "print(patients_current_statuses_path)"
   ]
  },
  {
   "cell_type": "code",
   "execution_count": null,
   "id": "51866654",
   "metadata": {},
   "outputs": [],
   "source": []
  },
  {
   "cell_type": "code",
   "execution_count": 5,
   "id": "e5ed60c6",
   "metadata": {},
   "outputs": [
    {
     "name": "stdout",
     "output_type": "stream",
     "text": [
      "\\\\t999\\Сетевой диск\\pdn\\data\\emias_data\\xlsx\n"
     ]
    }
   ],
   "source": [
    "# путь файла с сегодняшними \n",
    "emias_data_path = r'\\\\t999\\Сетевой диск\\pdn\\data\\emias_data\\xlsx'\n",
    "emias_data_path = emias_data_path.split('\\\\')\n",
    "emias_data_path = os.path.join(r'\\\\', *emias_data_path)\n",
    "print(emias_data_path)"
   ]
  },
  {
   "cell_type": "code",
   "execution_count": 6,
   "id": "54bfc3eb",
   "metadata": {},
   "outputs": [],
   "source": [
    "# # путь папки с данными по звонкам\n",
    "# calls_data_path = r'\\\\t999\\Сетевой диск\\pdn\\data\\from_call_program'\n",
    "# calls_data_path = calls_data_path.split('\\\\')\n",
    "# calls_data_path = os.path.join(r'\\\\', *calls_data_path)\n",
    "# print(calls_data_path)"
   ]
  },
  {
   "cell_type": "code",
   "execution_count": 7,
   "id": "1df01ec5",
   "metadata": {},
   "outputs": [
    {
     "name": "stdout",
     "output_type": "stream",
     "text": [
      "\\\\t999\\Сетевой диск\\pdn\\data\\assistant_to_doctor_distribution_path\\september_patient_to_assistant_distribution.xlsx\n"
     ]
    }
   ],
   "source": [
    "# путь папки с раскреплением\n",
    "assistant_to_doctor_distribution_path = \\\n",
    "r'\\\\t999\\Сетевой диск\\pdn\\data\\assistant_to_doctor_distribution_path'\n",
    "assistant_to_doctor_distribution_path = \\\n",
    "assistant_to_doctor_distribution_path.split('\\\\')\n",
    "assistant_to_doctor_distribution_path = \\\n",
    "os.path.join(r'\\\\', *assistant_to_doctor_distribution_path)\n",
    "assistant_to_doctor_distribution_path = [os.path.join(assistant_to_doctor_distribution_path, filename) for filename \n",
    "                                         in os.listdir(assistant_to_doctor_distribution_path) if '~' not in filename\n",
    "                                        and 'september' in filename]\n",
    "assistant_to_doctor_distribution_path.sort(key=lambda x: os.path.getctime(x))\n",
    "assistant_to_doctor_distribution_path = assistant_to_doctor_distribution_path[-1]\n",
    "print(assistant_to_doctor_distribution_path)"
   ]
  },
  {
   "cell_type": "code",
   "execution_count": null,
   "id": "979a31ee",
   "metadata": {},
   "outputs": [],
   "source": []
  },
  {
   "cell_type": "code",
   "execution_count": 8,
   "id": "d52fc408",
   "metadata": {},
   "outputs": [],
   "source": [
    "# cловарь \"номер_dat\": \"месяц\", в который мы добавляем список месяцев, которые сейчас в работе\n",
    "\n",
    "dat_month = dict()\n",
    "\n",
    "# dat_month['may'] = '3196'\n",
    "# dat_month['june'] = '3437'\n",
    "# dat_month['july'] = '3582'\n",
    "# dat_month['august'] = '3833'\n",
    "# dat_month['august_additional'] = '3940'"
   ]
  },
  {
   "cell_type": "code",
   "execution_count": null,
   "id": "ea516cdb",
   "metadata": {},
   "outputs": [],
   "source": []
  },
  {
   "cell_type": "code",
   "execution_count": 9,
   "id": "6bc17477",
   "metadata": {},
   "outputs": [],
   "source": [
    "# patients_current_statuses_data = [os.path.join(patients_current_statuses_path, filename) for filename in \n",
    "#                                  os.listdir(patients_current_statuses_path) if today_y_m_d in filename and\n",
    "#                                  'september' in filename][0]\n",
    "# print(patients_current_statuses_data)"
   ]
  },
  {
   "cell_type": "code",
   "execution_count": 10,
   "id": "5d9a6a08",
   "metadata": {},
   "outputs": [
    {
     "name": "stdout",
     "output_type": "stream",
     "text": [
      "\\\\t999\\Сетевой диск\\pdn\\data\\patients_current_statuses_path\\september_patients_current_statuses_2022_09_12.xlsx\n"
     ]
    }
   ],
   "source": [
    "# путь файла с текущими статусами пациентов\n",
    "patients_current_statuses_path = \\\n",
    "r'\\\\t999\\Сетевой диск\\pdn\\data\\patients_current_statuses_path'\n",
    "\n",
    "patients_current_statuses_path = patients_current_statuses_path.split('\\\\')\n",
    "patients_current_statuses_data = os.path.join(r'\\\\', *patients_current_statuses_path, \n",
    "                                              f'september_patients_current_statuses_{today_y_m_d}.xlsx')\n",
    "print(patients_current_statuses_data)"
   ]
  },
  {
   "cell_type": "code",
   "execution_count": null,
   "id": "486ef970",
   "metadata": {},
   "outputs": [],
   "source": []
  },
  {
   "cell_type": "code",
   "execution_count": 11,
   "id": "2cccbb11",
   "metadata": {},
   "outputs": [
    {
     "name": "stdout",
     "output_type": "stream",
     "text": [
      "\\\\t999\\Сетевой диск\\pdn\\data\\emias_data\\xlsx\\DAT_4059_выгрузка_списков_на_обзвон_помощниками_2022-09-12.xlsx\n"
     ]
    }
   ],
   "source": [
    "today_emias_data_path = [os.path.join(emias_data_path, filename) for filename in os.listdir(emias_data_path) if '4059' \n",
    "                         in filename and '~' not in filename and today.strftime('%Y-%m-%d') in filename][0]\n",
    "print(today_emias_data_path)"
   ]
  },
  {
   "cell_type": "code",
   "execution_count": 12,
   "id": "47996d16",
   "metadata": {},
   "outputs": [],
   "source": [
    "# today_additional_emias_data_path = [os.path.join(emias_data_path, filename) for filename in os.listdir(emias_data_path) if \n",
    "#                                     '3940' in filename and '~' not in filename and today.strftime('%Y-%m-%d') in filename][0]\n",
    "# print(today_additional_emias_data_path)"
   ]
  },
  {
   "cell_type": "code",
   "execution_count": null,
   "id": "756c9df2",
   "metadata": {},
   "outputs": [],
   "source": []
  },
  {
   "cell_type": "code",
   "execution_count": 13,
   "id": "d93871ce",
   "metadata": {},
   "outputs": [],
   "source": [
    "if dt.datetime.now().hour > 16:\n",
    "    day_we_need = today_ymd\n",
    "elif today.day_name()  == 'Monday':\n",
    "    day_we_need = (today - dt.timedelta(3)).strftime('%Y%m%d')\n",
    "else:\n",
    "    day_we_need = yesterday_ymd"
   ]
  },
  {
   "cell_type": "code",
   "execution_count": 14,
   "id": "e6f60d33",
   "metadata": {
    "scrolled": true
   },
   "outputs": [],
   "source": [
    "# calls_data_path = [os.path.join(calls_data_path, filename) for filename in os.listdir(calls_data_path) if '.xlsx' in filename \n",
    "#                    and '~' not in filename and 'calls_data' in filename and day_we_need in filename][0]"
   ]
  },
  {
   "cell_type": "code",
   "execution_count": 15,
   "id": "1573caca",
   "metadata": {},
   "outputs": [
    {
     "name": "stdout",
     "output_type": "stream",
     "text": [
      "C:\\\\Users\\murad_satabaev\\Documents\\all_tasks_in_one_place\\calls_data_20220902_today.xlsx\n"
     ]
    }
   ],
   "source": [
    "calls_data_path = r'Users\\murad_satabaev\\Documents\\all_tasks_in_one_place\\calls_data_20220902_today.xlsx'\n",
    "calls_data_path = calls_data_path.split('\\\\')\n",
    "calls_data_path = os.path.join(r'C:\\\\', r'\\\\', *calls_data_path)\n",
    "print(calls_data_path)"
   ]
  },
  {
   "cell_type": "code",
   "execution_count": 16,
   "id": "78331a0c",
   "metadata": {},
   "outputs": [],
   "source": [
    "# # путь файла с текущими статусами пациентов\n",
    "# patients_current_statuses_path = \\\n",
    "# r'Users\\murad_satabaev\\Documents\\all_tasks_in_one_place\\patients_current_statuses_merged'\n",
    "\n",
    "# patients_current_statuses_path = patients_current_statuses_path.split('\\\\')\n",
    "# patients_current_statuses_data = os.path.join('C:\\\\', *patients_current_statuses_path, \n",
    "#                                               f'september_patients_current_statuses_merged_with_groups_{today_y_m_d}.xlsx')\n",
    "# print(patients_current_statuses_data)"
   ]
  },
  {
   "cell_type": "code",
   "execution_count": null,
   "id": "e3c43b40",
   "metadata": {},
   "outputs": [],
   "source": []
  },
  {
   "cell_type": "code",
   "execution_count": 17,
   "id": "0281f145",
   "metadata": {},
   "outputs": [],
   "source": [
    "# чтение всех файлов по отдельности, чтобы не тратить время на повторное чтение файла, который уже прочитан"
   ]
  },
  {
   "cell_type": "code",
   "execution_count": 18,
   "id": "073f584d",
   "metadata": {},
   "outputs": [
    {
     "data": {
      "text/plain": [
       "97286"
      ]
     },
     "execution_count": 18,
     "metadata": {},
     "output_type": "execute_result"
    }
   ],
   "source": [
    "patients_current_statuses_reading = pd.read_excel(patients_current_statuses_data)\n",
    "patients_current_statuses_reading.shape[0]"
   ]
  },
  {
   "cell_type": "code",
   "execution_count": 19,
   "id": "c7667db9",
   "metadata": {},
   "outputs": [
    {
     "data": {
      "text/plain": [
       "97248"
      ]
     },
     "execution_count": 19,
     "metadata": {},
     "output_type": "execute_result"
    }
   ],
   "source": [
    "today_emias_data_reading = pd.read_excel(today_emias_data_path)\n",
    "today_emias_data_reading.shape[0]"
   ]
  },
  {
   "cell_type": "code",
   "execution_count": 20,
   "id": "79708691",
   "metadata": {},
   "outputs": [
    {
     "data": {
      "text/plain": [
       "77050"
      ]
     },
     "execution_count": 20,
     "metadata": {},
     "output_type": "execute_result"
    }
   ],
   "source": [
    "calls_data_reading = pd.read_excel(calls_data_path)\n",
    "calls_data_reading.shape[0]"
   ]
  },
  {
   "cell_type": "code",
   "execution_count": null,
   "id": "84d75d78",
   "metadata": {},
   "outputs": [],
   "source": []
  },
  {
   "cell_type": "code",
   "execution_count": null,
   "id": "5679d1b7",
   "metadata": {},
   "outputs": [],
   "source": []
  },
  {
   "cell_type": "code",
   "execution_count": 21,
   "id": "75c02627",
   "metadata": {},
   "outputs": [
    {
     "name": "stdout",
     "output_type": "stream",
     "text": [
      "\\\\t999\\Сетевой диск\\pdn\\data\\assistant_to_doctor_distribution_path\\august_patient_to_assistant_distribution.xlsx\n"
     ]
    }
   ],
   "source": [
    "# путь папки с раскреплением\n",
    "august_assistant_to_doctor_distribution_path = \\\n",
    "r'\\\\t999\\Сетевой диск\\pdn\\data\\assistant_to_doctor_distribution_path'\n",
    "august_assistant_to_doctor_distribution_path = \\\n",
    "august_assistant_to_doctor_distribution_path.split('\\\\')\n",
    "august_assistant_to_doctor_distribution_path = \\\n",
    "os.path.join(r'\\\\', *august_assistant_to_doctor_distribution_path)\n",
    "august_assistant_to_doctor_distribution_path = \\\n",
    "[os.path.join(august_assistant_to_doctor_distribution_path, filename) for filename \n",
    "                                         in os.listdir(august_assistant_to_doctor_distribution_path) if '~' not in filename\n",
    "                                        and 'august' in filename]\n",
    "august_assistant_to_doctor_distribution_path.sort(key=lambda x: os.path.getctime(x))\n",
    "august_assistant_to_doctor_distribution_path = august_assistant_to_doctor_distribution_path[-1]\n",
    "print(august_assistant_to_doctor_distribution_path)"
   ]
  },
  {
   "cell_type": "code",
   "execution_count": null,
   "id": "9c6273b1",
   "metadata": {},
   "outputs": [],
   "source": []
  },
  {
   "cell_type": "code",
   "execution_count": null,
   "id": "512a7164",
   "metadata": {},
   "outputs": [],
   "source": []
  },
  {
   "cell_type": "code",
   "execution_count": 22,
   "id": "9926fd54",
   "metadata": {},
   "outputs": [],
   "source": [
    "for_record_august = pd.read_excel('записать_на_прием_август.xlsx')"
   ]
  },
  {
   "cell_type": "code",
   "execution_count": 23,
   "id": "9f5c2699",
   "metadata": {},
   "outputs": [],
   "source": [
    "call_back_on_date_august = pd.read_excel(\"переносы звонка на дату.xlsx\")"
   ]
  },
  {
   "cell_type": "code",
   "execution_count": 24,
   "id": "90c366d3",
   "metadata": {},
   "outputs": [],
   "source": [
    "august_assistant_to_doctor_distribution = pd.read_excel(august_assistant_to_doctor_distribution_path)"
   ]
  },
  {
   "cell_type": "code",
   "execution_count": 25,
   "id": "64f92900",
   "metadata": {},
   "outputs": [
    {
     "data": {
      "text/plain": [
       "160"
      ]
     },
     "execution_count": 25,
     "metadata": {},
     "output_type": "execute_result"
    }
   ],
   "source": [
    "for_record_august.shape[0]"
   ]
  },
  {
   "cell_type": "code",
   "execution_count": 26,
   "id": "98367967",
   "metadata": {},
   "outputs": [],
   "source": [
    "for_record_august['priority'] = 2"
   ]
  },
  {
   "cell_type": "code",
   "execution_count": 27,
   "id": "a55d5817",
   "metadata": {},
   "outputs": [
    {
     "data": {
      "text/plain": [
       "570"
      ]
     },
     "execution_count": 27,
     "metadata": {},
     "output_type": "execute_result"
    }
   ],
   "source": [
    "call_back_on_date_august.shape[0]"
   ]
  },
  {
   "cell_type": "code",
   "execution_count": 28,
   "id": "a2b3facb",
   "metadata": {},
   "outputs": [],
   "source": [
    "call_back_on_date_august['priority'] = 1"
   ]
  },
  {
   "cell_type": "code",
   "execution_count": 29,
   "id": "c48ef522",
   "metadata": {
    "scrolled": true
   },
   "outputs": [
    {
     "name": "stderr",
     "output_type": "stream",
     "text": [
      "C:\\Users\\murad_satabaev\\AppData\\Local\\Temp\\ipykernel_6464\\1682074888.py:1: FutureWarning: The default value of regex will change from True to False in a future version.\n",
      "  for_record_august['emiasid'] = for_record_august['emiasid'].astype(str).str.replace('\\.0', '')\n",
      "C:\\Users\\murad_satabaev\\AppData\\Local\\Temp\\ipykernel_6464\\1682074888.py:2: FutureWarning: The default value of regex will change from True to False in a future version.\n",
      "  call_back_on_date_august['emiasid'] = call_back_on_date_august['emiasid'].astype(str).str.replace('\\.0', '')\n"
     ]
    }
   ],
   "source": [
    "for_record_august['emiasid'] = for_record_august['emiasid'].astype(str).str.replace('\\.0', '')\n",
    "call_back_on_date_august['emiasid'] = call_back_on_date_august['emiasid'].astype(str).str.replace('\\.0', '')\n",
    "for_record_august['next_call_date'] = \\\n",
    "for_record_august['next_call_date'].apply(lambda x: pd.to_datetime(x, dayfirst=True).date())\n",
    "call_back_on_date_august['next_call_date'] = \\\n",
    "call_back_on_date_august['next_call_date'].apply(lambda x: pd.to_datetime(x, dayfirst=True).date())"
   ]
  },
  {
   "cell_type": "code",
   "execution_count": 30,
   "id": "38c91322",
   "metadata": {},
   "outputs": [
    {
     "data": {
      "text/plain": [
       "730"
      ]
     },
     "execution_count": 30,
     "metadata": {},
     "output_type": "execute_result"
    }
   ],
   "source": [
    "august_task = pd.concat(\n",
    "    [for_record_august, \n",
    "     call_back_on_date_august.merge(august_assistant_to_doctor_distribution, on=['doctor_fio', 'mo'], how='left')\n",
    "    ])\n",
    "august_task.shape[0]"
   ]
  },
  {
   "cell_type": "code",
   "execution_count": 31,
   "id": "2899662f",
   "metadata": {},
   "outputs": [],
   "source": [
    "initial_assistant_to_patient_distribution_in_today_task_aug =\\\n",
    "august_task.copy()\n",
    "# .merge(august_assistant_to_doctor_distribution, on=['doctor_fio', 'mo'], how='left')"
   ]
  },
  {
   "cell_type": "code",
   "execution_count": 32,
   "id": "4ed50d17",
   "metadata": {},
   "outputs": [
    {
     "data": {
      "text/plain": [
       "730"
      ]
     },
     "execution_count": 32,
     "metadata": {},
     "output_type": "execute_result"
    }
   ],
   "source": [
    "initial_assistant_to_patient_distribution_in_today_task_aug.shape[0]"
   ]
  },
  {
   "cell_type": "code",
   "execution_count": null,
   "id": "56f04809",
   "metadata": {},
   "outputs": [],
   "source": []
  },
  {
   "cell_type": "code",
   "execution_count": null,
   "id": "27b069a9",
   "metadata": {},
   "outputs": [],
   "source": []
  },
  {
   "cell_type": "code",
   "execution_count": null,
   "id": "4d3e1991",
   "metadata": {},
   "outputs": [],
   "source": [
    "# today_additional_emias_data_reading = pd.read_excel(today_additional_emias_data_path)\n",
    "# today_additional_emias_data_reading.shape[0]"
   ]
  },
  {
   "cell_type": "code",
   "execution_count": null,
   "id": "0aa54a7c",
   "metadata": {},
   "outputs": [],
   "source": []
  },
  {
   "cell_type": "code",
   "execution_count": null,
   "id": "e2f209b8",
   "metadata": {},
   "outputs": [],
   "source": []
  },
  {
   "cell_type": "code",
   "execution_count": null,
   "id": "9070c5bd",
   "metadata": {},
   "outputs": [],
   "source": []
  },
  {
   "cell_type": "code",
   "execution_count": null,
   "id": "11f7cda4",
   "metadata": {},
   "outputs": [],
   "source": []
  },
  {
   "cell_type": "code",
   "execution_count": null,
   "id": "90b952d0",
   "metadata": {},
   "outputs": [],
   "source": [
    "stop()"
   ]
  },
  {
   "cell_type": "code",
   "execution_count": 34,
   "id": "5ba235b9",
   "metadata": {
    "scrolled": true
   },
   "outputs": [
    {
     "name": "stdout",
     "output_type": "stream",
     "text": [
      "2022-09-12 09:14:17.274910\n",
      "217\n"
     ]
    }
   ],
   "source": [
    "import gspread\n",
    "from gspread_dataframe import get_as_dataframe\n",
    "gc = gspread.service_account(filename='google_sheets_credentials.json') \n",
    "url = 'https://docs.google.com/spreadsheets/d/1TXjbk9tRDMCjEyyiuK5OIgT8xwlHQ2V1PX2zaVnxPXY/edit#gid=0'\n",
    "sh = gc.open_by_url(url)\n",
    "ws = sh.get_worksheet(0)\n",
    "def search_row(ws, desired_value):\n",
    "    row_number = 0\n",
    "    for row in ws.get_all_values():\n",
    "        row_number += 1\n",
    "        for value in row:\n",
    "            if value == desired_value:\n",
    "                return row_number\n",
    "            \n",
    "skiprows = search_row(ws, 'ФИО помощника врача') - 1\n",
    "\n",
    "assistants_presence_reading = get_as_dataframe(ws, evaluate_formulas=True, skiprows=skiprows)\n",
    "assistants_presence_reading = assistants_presence_reading.loc[~(assistants_presence_reading['Зал №'] == 'Зал №'), \n",
    "    ['Зал №', 'МО закрепления', 'ФИО помощника врача', 'Логин naumen', 'Отсутствует на рабочем месте']] \\\n",
    "        .dropna(how='all', axis=0)\n",
    "\n",
    "\n",
    "print(dt.datetime.now())\n",
    "print(assistants_presence_reading.shape[0])\n",
    "\n",
    "assistants_presence = assistants_presence_reading.rename(columns=column_names).copy()"
   ]
  },
  {
   "cell_type": "code",
   "execution_count": 35,
   "id": "2dbe017c",
   "metadata": {},
   "outputs": [
    {
     "name": "stdout",
     "output_type": "stream",
     "text": [
      "2022-09-12 09:14:47.220494\n"
     ]
    }
   ],
   "source": [
    "assistant_to_doctor_distribution_reading = pd.read_excel(assistant_to_doctor_distribution_path)\n",
    "assistant_to_doctor_distribution_reading.shape[0]\n",
    "\n",
    "print(dt.datetime.now())"
   ]
  },
  {
   "cell_type": "code",
   "execution_count": 36,
   "id": "14c45676",
   "metadata": {},
   "outputs": [
    {
     "name": "stdout",
     "output_type": "stream",
     "text": [
      "2022-09-12 09:14:47.282657\n"
     ]
    }
   ],
   "source": [
    "assistant_to_doctor_distribution = assistant_to_doctor_distribution_reading.rename(columns=column_names).copy()[\n",
    "    ['emiasid', 'mo', 'doctor_fio', 'assistant_fio', 'login']]\n",
    "\n",
    "print(dt.datetime.now())"
   ]
  },
  {
   "cell_type": "code",
   "execution_count": null,
   "id": "5f712490",
   "metadata": {},
   "outputs": [],
   "source": [
    "stop()"
   ]
  },
  {
   "cell_type": "code",
   "execution_count": null,
   "id": "ad9647b7",
   "metadata": {},
   "outputs": [],
   "source": []
  },
  {
   "cell_type": "code",
   "execution_count": null,
   "id": "4b8afc6b",
   "metadata": {},
   "outputs": [],
   "source": []
  },
  {
   "cell_type": "code",
   "execution_count": null,
   "id": "849d2c5f",
   "metadata": {},
   "outputs": [],
   "source": []
  },
  {
   "cell_type": "code",
   "execution_count": null,
   "id": "a6d5b879",
   "metadata": {},
   "outputs": [],
   "source": []
  },
  {
   "cell_type": "code",
   "execution_count": null,
   "id": "d5a00c57",
   "metadata": {},
   "outputs": [],
   "source": [
    "# assistants_presence[assistants_presence.login == '']"
   ]
  },
  {
   "cell_type": "code",
   "execution_count": null,
   "id": "1f26db63",
   "metadata": {},
   "outputs": [],
   "source": [
    "# today_emias_data.to_excel('today_emias_data.xlsx', index=False)"
   ]
  },
  {
   "cell_type": "code",
   "execution_count": null,
   "id": "18c9ea2b",
   "metadata": {},
   "outputs": [],
   "source": [
    "# Создание копий всех важных датафрэймов для того, чтобы работать с ними, а не с теми, которые читали"
   ]
  },
  {
   "cell_type": "code",
   "execution_count": 37,
   "id": "efa1d87b",
   "metadata": {},
   "outputs": [],
   "source": [
    "patients_current_statuses = patients_current_statuses_reading.rename(columns=column_names).copy()\n",
    "# [\n",
    "#     ['emiasid', 'date', 'status', 'old_comment', 'next_call_date', 'doctor_fio', 'mo', 'calls_amount', 'last_comment']]\n",
    "\n",
    "today_emias_data = today_emias_data_reading.rename(columns=column_names)\n",
    "# pd.concat([today_emias_data_reading, today_additional_emias_data_reading]).reset_index(drop=True).rename(columns=column_names)\n",
    "\n",
    "\n",
    "\n",
    "calls_data = calls_data_reading.rename(columns=column_names).copy()"
   ]
  },
  {
   "cell_type": "code",
   "execution_count": 38,
   "id": "32a4a780",
   "metadata": {},
   "outputs": [
    {
     "data": {
      "text/plain": [
       "Index(['emiasid', 'mo', 'doctor_fio', 'status', 'date', '_operator_login',\n",
       "       'next_call_date', 'old_comment', 'last_call_date'],\n",
       "      dtype='object')"
      ]
     },
     "execution_count": 38,
     "metadata": {},
     "output_type": "execute_result"
    }
   ],
   "source": [
    "patients_current_statuses.columns"
   ]
  },
  {
   "cell_type": "code",
   "execution_count": 39,
   "id": "0cb16a0b",
   "metadata": {},
   "outputs": [
    {
     "name": "stderr",
     "output_type": "stream",
     "text": [
      "C:\\Users\\murad_satabaev\\AppData\\Local\\Temp\\ipykernel_6464\\3766944686.py:2: FutureWarning: The default value of regex will change from True to False in a future version.\n",
      "  patients_current_statuses['emiasid'] = patients_current_statuses['emiasid'].astype(str).str.replace('\\.0', '')\n"
     ]
    }
   ],
   "source": [
    "patients_current_statuses = patients_current_statuses_reading.rename(columns=column_names).copy()\n",
    "patients_current_statuses['emiasid'] = patients_current_statuses['emiasid'].astype(str).str.replace('\\.0', '')\n",
    "patients_current_statuses['date'] = patients_current_statuses['date'].apply(lambda x: pd.to_datetime(x, dayfirst=True).date())\n",
    "patients_current_statuses['next_call_date'] = patients_current_statuses['next_call_date'] \\\n",
    ".apply(lambda x: pd.to_datetime(x, dayfirst=True).date())"
   ]
  },
  {
   "cell_type": "code",
   "execution_count": null,
   "id": "5559f76b",
   "metadata": {},
   "outputs": [],
   "source": [
    "# from pdn.data_preprocess.data_attrs import get_pats_attr\n",
    "# from pdn.projects.emias_data import get_emias_id_and_task_num_and_uschedule_visit"
   ]
  },
  {
   "cell_type": "code",
   "execution_count": null,
   "id": "1e9b2b6a",
   "metadata": {},
   "outputs": [],
   "source": [
    "# groups = get_emias_id_and_task_num_and_uschedule_visit(today_emias_data)"
   ]
  },
  {
   "cell_type": "code",
   "execution_count": null,
   "id": "65de920b",
   "metadata": {},
   "outputs": [],
   "source": []
  },
  {
   "cell_type": "code",
   "execution_count": null,
   "id": "86656396",
   "metadata": {},
   "outputs": [],
   "source": [
    "# Переведем все типы данных емиасайди, телефоны и прочие числовые данные в строки"
   ]
  },
  {
   "cell_type": "code",
   "execution_count": 40,
   "id": "6c79f091",
   "metadata": {
    "scrolled": true
   },
   "outputs": [
    {
     "name": "stderr",
     "output_type": "stream",
     "text": [
      "C:\\Users\\murad_satabaev\\AppData\\Local\\Temp\\ipykernel_6464\\1335832652.py:1: FutureWarning: The default value of regex will change from True to False in a future version.\n",
      "  patients_current_statuses['emiasid'] = patients_current_statuses['emiasid'].astype(str).str.replace('\\.0', '')\n",
      "C:\\Users\\murad_satabaev\\AppData\\Local\\Temp\\ipykernel_6464\\1335832652.py:2: FutureWarning: The default value of regex will change from True to False in a future version.\n",
      "  today_emias_data['emiasid'] = today_emias_data['emiasid'].astype(str).str.replace('\\.0', '')\n"
     ]
    }
   ],
   "source": [
    "patients_current_statuses['emiasid'] = patients_current_statuses['emiasid'].astype(str).str.replace('\\.0', '')\n",
    "today_emias_data['emiasid'] = today_emias_data['emiasid'].astype(str).str.replace('\\.0', '')\n"
   ]
  },
  {
   "cell_type": "code",
   "execution_count": 41,
   "id": "08f23e1b",
   "metadata": {},
   "outputs": [],
   "source": [
    "patients_current_statuses['date'] = patients_current_statuses['date'].apply(lambda x: pd.to_datetime(x, dayfirst=True).date())\n",
    "patients_current_statuses['next_call_date'] = patients_current_statuses['next_call_date'] \\\n",
    ".apply(lambda x: pd.to_datetime(x, dayfirst=True).date())"
   ]
  },
  {
   "cell_type": "code",
   "execution_count": 42,
   "id": "534f8962",
   "metadata": {},
   "outputs": [
    {
     "name": "stderr",
     "output_type": "stream",
     "text": [
      "C:\\Users\\murad_satabaev\\AppData\\Local\\Temp\\ipykernel_6464\\2792494202.py:1: FutureWarning: The default value of regex will change from True to False in a future version.\n",
      "  calls_data['emiasid'] = calls_data['emiasid'].astype(str).str.replace('\\.0', '')\n",
      "C:\\Users\\murad_satabaev\\AppData\\Local\\Temp\\ipykernel_6464\\2792494202.py:3: FutureWarning: The default value of regex will change from True to False in a future version.\n",
      "  calls_data['emiasid'] = calls_data['emiasid'].astype(str).str.replace('\\.0', '')\n"
     ]
    }
   ],
   "source": [
    "calls_data['emiasid'] = calls_data['emiasid'].astype(str).str.replace('\\.0', '')\n",
    "calls_data['call_date'] = calls_data['call_date'].apply(lambda x: pd.to_datetime(x, dayfirst=True).date())\n",
    "calls_data['emiasid'] = calls_data['emiasid'].astype(str).str.replace('\\.0', '')\n",
    "# calls_data['next_call_date'] = calls_data['next_call_date'].apply(lambda x: pd.to_datetime(x).date())"
   ]
  },
  {
   "cell_type": "code",
   "execution_count": 43,
   "id": "7c5391ec",
   "metadata": {},
   "outputs": [
    {
     "name": "stderr",
     "output_type": "stream",
     "text": [
      "C:\\Users\\murad_satabaev\\AppData\\Local\\Temp\\ipykernel_6464\\3250649731.py:1: FutureWarning: The default value of regex will change from True to False in a future version.\n",
      "  today_emias_data['phone'] = today_emias_data['phone'].astype(str).str.replace('\\.0', '')\n"
     ]
    }
   ],
   "source": [
    "today_emias_data['phone'] = today_emias_data['phone'].astype(str).str.replace('\\.0', '')"
   ]
  },
  {
   "cell_type": "code",
   "execution_count": null,
   "id": "c592b782",
   "metadata": {},
   "outputs": [],
   "source": []
  },
  {
   "cell_type": "code",
   "execution_count": 44,
   "id": "d3c1d470",
   "metadata": {},
   "outputs": [
    {
     "data": {
      "text/plain": [
       "320"
      ]
     },
     "execution_count": 44,
     "metadata": {},
     "output_type": "execute_result"
    }
   ],
   "source": [
    "def find_phone_number(text):\n",
    "    \"\"\"Функция ищет номера телефонов в строке, фильтрует дефектные и возвращает один с приоритетом на мобильный\"\"\"\n",
    "    import re\n",
    "    defect_pattern = re.compile(r\"\"\"7[^94]\\d{9}|0{7,}|1{7,}|2{7,}|3{7,}|4{7,}|5{7,}|6{7,}|7{7,}|8{7,}|9{7,}\"\"\")\n",
    "    text = str(text)\n",
    "    text = ['7' + re.sub(r'\\D', '', x)[-10:] for x in re.split(r'[,;]', text)]\n",
    "    text = list(filter(lambda x: len(x) == 11, text))\n",
    "    text = list(filter(lambda x: False if re.search(defect_pattern, x) else True, text))\n",
    "    text = sorted(text, reverse=True)\n",
    "    text = ','.join(text)\n",
    "    text = re.search(r'(9\\d{9}|4\\d{9})', text)\n",
    "    if text:\n",
    "        text = text.group()\n",
    "    return text\n",
    "\n",
    "today_emias_data['phone_1'] = today_emias_data['phone'].apply(find_phone_number)\n",
    "today_emias_data[today_emias_data['phone_1'].isna()].shape[0]"
   ]
  },
  {
   "cell_type": "code",
   "execution_count": 45,
   "id": "290c160b",
   "metadata": {
    "scrolled": false
   },
   "outputs": [
    {
     "data": {
      "text/plain": [
       "97248"
      ]
     },
     "execution_count": 45,
     "metadata": {},
     "output_type": "execute_result"
    }
   ],
   "source": [
    "today_emias_data.shape[0]"
   ]
  },
  {
   "cell_type": "code",
   "execution_count": 46,
   "id": "c21484f7",
   "metadata": {},
   "outputs": [
    {
     "data": {
      "text/plain": [
       "97286"
      ]
     },
     "execution_count": 46,
     "metadata": {},
     "output_type": "execute_result"
    }
   ],
   "source": [
    "patients_current_statuses.shape[0]"
   ]
  },
  {
   "cell_type": "code",
   "execution_count": 47,
   "id": "28216400",
   "metadata": {},
   "outputs": [],
   "source": [
    "# first_touch_patients = patients_current_statuses[patients_current_statuses.status == 'Ни разу не звонили']\n",
    "# first_touch_patients.shape[0]"
   ]
  },
  {
   "cell_type": "code",
   "execution_count": null,
   "id": "ab31d98d",
   "metadata": {},
   "outputs": [],
   "source": [
    "# first_touch_patients[first_touch_patients.emiasid.isin(\n",
    "#     today_emias_data[~(today_emias_data.doctor_fio.isna())].emiasid)].shape[0]"
   ]
  },
  {
   "cell_type": "code",
   "execution_count": null,
   "id": "43a87ef0",
   "metadata": {
    "scrolled": true
   },
   "outputs": [],
   "source": [
    "# first_touch_patients[first_touch_patients.emiasid.isin(\n",
    "#     today_emias_data[~(today_emias_data.mo.isna())].emiasid)].shape[0]"
   ]
  },
  {
   "cell_type": "code",
   "execution_count": null,
   "id": "2e876fc2",
   "metadata": {},
   "outputs": [],
   "source": [
    "# first_touch_patients[first_touch_patients.emiasid.isin(\n",
    "#     today_emias_data[(today_emias_data.phone_1.isna())].emiasid)].shape[0]"
   ]
  },
  {
   "cell_type": "code",
   "execution_count": null,
   "id": "e6e0b5a2",
   "metadata": {},
   "outputs": [],
   "source": [
    "# first_stage_patients_for_task = first_touch_patients[first_touch_patients.emiasid.isin(\n",
    "#     today_emias_data[\n",
    "#     ~((today_emias_data.doctor_fio.isna())\n",
    "#      | \n",
    "#      (today_emias_data.phone_1.isna())\n",
    "# #      |\n",
    "# #      (~((today_emias_data['kont_priyom_terapevt_sdel_hron_plan'].isna()) | \n",
    "# #       (today_emias_data['kont_priyom_terapevt_sdel_hron_plan'] == ' ')))\n",
    "#     )\n",
    "# ].emiasid\n",
    "# )].reset_index(drop=True)"
   ]
  },
  {
   "cell_type": "code",
   "execution_count": null,
   "id": "e3e923d6",
   "metadata": {},
   "outputs": [],
   "source": [
    "# first_stage_patients_for_task.shape[0]"
   ]
  },
  {
   "cell_type": "code",
   "execution_count": null,
   "id": "7da96f1b",
   "metadata": {},
   "outputs": [],
   "source": []
  },
  {
   "cell_type": "code",
   "execution_count": 48,
   "id": "b90d09ba",
   "metadata": {},
   "outputs": [
    {
     "name": "stdout",
     "output_type": "stream",
     "text": [
      "95317\n"
     ]
    }
   ],
   "source": [
    "# уберем пациентов без прикрепления к врачу и тех, кого нет в сегодняшней выгрузке\n",
    "patients_current_statuses = \\\n",
    "patients_current_statuses[patients_current_statuses.emiasid.isin(\n",
    "today_emias_data[\n",
    "    ~((today_emias_data.doctor_fio.isna())\n",
    "     | \n",
    "     (today_emias_data.phone_1.isna())\n",
    "#      |\n",
    "#      (~((today_emias_data['kont_priyom_terapevt_sdel_hron_plan'].isna()) | \n",
    "#       (today_emias_data['kont_priyom_terapevt_sdel_hron_plan'] == ' ')))\n",
    "    )\n",
    "].emiasid\n",
    "    \n",
    ")]\n",
    "print(patients_current_statuses.shape[0])"
   ]
  },
  {
   "cell_type": "code",
   "execution_count": 49,
   "id": "a0cb2768",
   "metadata": {},
   "outputs": [
    {
     "data": {
      "text/plain": [
       "Index(['emiasid', 'mo', 'doctor_fio', 'status', 'date', '_operator_login',\n",
       "       'next_call_date', 'old_comment', 'last_call_date'],\n",
       "      dtype='object')"
      ]
     },
     "execution_count": 49,
     "metadata": {},
     "output_type": "execute_result"
    }
   ],
   "source": [
    "patients_current_statuses.columns"
   ]
  },
  {
   "cell_type": "code",
   "execution_count": 50,
   "id": "18300748",
   "metadata": {},
   "outputs": [],
   "source": [
    "patients_current_statuses = patients_current_statuses[['emiasid', 'date', 'status', 'next_call_date', 'old_comment']]"
   ]
  },
  {
   "cell_type": "code",
   "execution_count": 51,
   "id": "e8a62a10",
   "metadata": {},
   "outputs": [],
   "source": [
    "patients_current_statuses = patients_current_statuses.merge(today_emias_data[['emiasid', 'phone']], on=['emiasid'], how='left')"
   ]
  },
  {
   "cell_type": "code",
   "execution_count": 52,
   "id": "9d533857",
   "metadata": {},
   "outputs": [
    {
     "data": {
      "text/html": [
       "<div>\n",
       "<style scoped>\n",
       "    .dataframe tbody tr th:only-of-type {\n",
       "        vertical-align: middle;\n",
       "    }\n",
       "\n",
       "    .dataframe tbody tr th {\n",
       "        vertical-align: top;\n",
       "    }\n",
       "\n",
       "    .dataframe thead th {\n",
       "        text-align: right;\n",
       "    }\n",
       "</style>\n",
       "<table border=\"1\" class=\"dataframe\">\n",
       "  <thead>\n",
       "    <tr style=\"text-align: right;\">\n",
       "      <th></th>\n",
       "      <th>emiasid</th>\n",
       "      <th>date</th>\n",
       "      <th>status</th>\n",
       "      <th>next_call_date</th>\n",
       "      <th>old_comment</th>\n",
       "      <th>phone</th>\n",
       "    </tr>\n",
       "  </thead>\n",
       "  <tbody>\n",
       "    <tr>\n",
       "      <th>0</th>\n",
       "      <td>24480108</td>\n",
       "      <td>2022-09-08</td>\n",
       "      <td>Перенос звонка на другой день</td>\n",
       "      <td>2022-09-22</td>\n",
       "      <td>NaN</td>\n",
       "      <td>9686251465</td>\n",
       "    </tr>\n",
       "    <tr>\n",
       "      <th>1</th>\n",
       "      <td>18726588</td>\n",
       "      <td>2022-09-06</td>\n",
       "      <td>Не дозвонились</td>\n",
       "      <td>NaT</td>\n",
       "      <td>NaN</td>\n",
       "      <td>9036265047</td>\n",
       "    </tr>\n",
       "    <tr>\n",
       "      <th>2</th>\n",
       "      <td>10337957</td>\n",
       "      <td>2022-09-09</td>\n",
       "      <td>Ни разу не звонили</td>\n",
       "      <td>NaT</td>\n",
       "      <td>NaN</td>\n",
       "      <td>9067788965</td>\n",
       "    </tr>\n",
       "  </tbody>\n",
       "</table>\n",
       "</div>"
      ],
      "text/plain": [
       "    emiasid        date                         status next_call_date  \\\n",
       "0  24480108  2022-09-08  Перенос звонка на другой день     2022-09-22   \n",
       "1  18726588  2022-09-06                 Не дозвонились            NaT   \n",
       "2  10337957  2022-09-09             Ни разу не звонили            NaT   \n",
       "\n",
       "  old_comment       phone  \n",
       "0         NaN  9686251465  \n",
       "1         NaN  9036265047  \n",
       "2         NaN  9067788965  "
      ]
     },
     "execution_count": 52,
     "metadata": {},
     "output_type": "execute_result"
    }
   ],
   "source": [
    "patients_current_statuses.head(3)"
   ]
  },
  {
   "cell_type": "code",
   "execution_count": 53,
   "id": "ef6d86b8",
   "metadata": {},
   "outputs": [
    {
     "data": {
      "text/plain": [
       "27944"
      ]
     },
     "execution_count": 53,
     "metadata": {},
     "output_type": "execute_result"
    }
   ],
   "source": [
    "patients_current_statuses[patients_current_statuses.status == 'Ни разу не звонили'].shape[0]"
   ]
  },
  {
   "cell_type": "code",
   "execution_count": null,
   "id": "fabe75f5",
   "metadata": {},
   "outputs": [],
   "source": []
  },
  {
   "cell_type": "code",
   "execution_count": null,
   "id": "d7097d2d",
   "metadata": {},
   "outputs": [],
   "source": []
  },
  {
   "cell_type": "code",
   "execution_count": null,
   "id": "47907546",
   "metadata": {},
   "outputs": [],
   "source": []
  },
  {
   "cell_type": "code",
   "execution_count": null,
   "id": "ac537157",
   "metadata": {},
   "outputs": [],
   "source": []
  },
  {
   "cell_type": "code",
   "execution_count": null,
   "id": "e6617fa5",
   "metadata": {},
   "outputs": [],
   "source": [
    "stop()"
   ]
  },
  {
   "cell_type": "code",
   "execution_count": 54,
   "id": "5b1dbe08",
   "metadata": {},
   "outputs": [
    {
     "name": "stdout",
     "output_type": "stream",
     "text": [
      "\n",
      "КОЛИЧЕСТВО ПОМОЩНИКОВ В РАСКРЕПЛЕНИИ И \"НА СМЕНЕ\" РАЗНОЕ !!!\n",
      "!!!\n",
      "\n",
      "КОЛИЧЕСТВО ПОМОЩНИКОВ В РАСКРЕПЛЕНИИ И \"НА СМЕНЕ\" РАЗНОЕ !!!\n",
      "!!!\n",
      "\n",
      "КОЛИЧЕСТВО ПОМОЩНИКОВ В РАСКРЕПЛЕНИИ И \"НА СМЕНЕ\" РАЗНОЕ !!!\n",
      "!!!\n",
      "\n",
      "КОЛИЧЕСТВО ПОМОЩНИКОВ В РАСКРЕПЛЕНИИ И \"НА СМЕНЕ\" РАЗНОЕ !!!\n",
      "!!!\n",
      "\n",
      "КОЛИЧЕСТВО ПОМОЩНИКОВ В РАСКРЕПЛЕНИИ И \"НА СМЕНЕ\" РАЗНОЕ !!!\n",
      "!!!\n",
      "\n"
     ]
    }
   ],
   "source": [
    "if assistant_to_doctor_distribution[assistant_to_doctor_distribution.login.isin(assistants_presence.login)].login.nunique() != \\\n",
    "assistants_presence[assistants_presence.login.isin(assistants_presence.login)].login.nunique():\n",
    "    print(5 * '\\nКОЛИЧЕСТВО ПОМОЩНИКОВ В РАСКРЕПЛЕНИИ И \"НА СМЕНЕ\" РАЗНОЕ !!!\\n!!!\\n')\n",
    "else:\n",
    "    print('\\nКоличество помощников в раскреплении \"на смене\" соответсвтует\\n')"
   ]
  },
  {
   "cell_type": "code",
   "execution_count": 55,
   "id": "6445d3c6",
   "metadata": {
    "scrolled": true
   },
   "outputs": [
    {
     "name": "stdout",
     "output_type": "stream",
     "text": [
      "\n",
      "В сумме количество отсуствующих и присутствующих равны общему количеству помощников\n",
      "\n"
     ]
    }
   ],
   "source": [
    "if assistants_presence[assistants_presence.absence.isna()].login.nunique() + \\\n",
    "assistants_presence[assistants_presence.absence == 1].login.nunique() == assistants_presence.login.nunique():\n",
    "    print('\\nВ сумме количество отсуствующих и присутствующих равны общему количеству помощников\\n')\n",
    "else:\n",
    "    print(5 * '\\nПРОВЕРЬТЕ ТАБЛИЦУ ОТСУТСТВУЮЩИХ И ПРИСУТСТВУЮЩИХ\\n!!!\\n')"
   ]
  },
  {
   "cell_type": "code",
   "execution_count": 56,
   "id": "6aa39c45",
   "metadata": {},
   "outputs": [
    {
     "name": "stdout",
     "output_type": "stream",
     "text": [
      "163\n",
      "54\n"
     ]
    }
   ],
   "source": [
    "present_assistants = assistants_presence[assistants_presence.absence.isna()]\n",
    "print(present_assistants.shape[0])\n",
    "absent_assistants = assistants_presence[~assistants_presence.absence.isna()]\n",
    "print(absent_assistants.shape[0])"
   ]
  },
  {
   "cell_type": "code",
   "execution_count": null,
   "id": "cc094c8c",
   "metadata": {},
   "outputs": [],
   "source": []
  },
  {
   "cell_type": "code",
   "execution_count": 57,
   "id": "bf8c115c",
   "metadata": {},
   "outputs": [],
   "source": [
    "doctors_list = set(assistant_to_doctor_distribution.doctor_fio.unique())\n",
    "doctors_list.add(np.NaN)"
   ]
  },
  {
   "cell_type": "code",
   "execution_count": 58,
   "id": "2c9e8773",
   "metadata": {},
   "outputs": [],
   "source": [
    "# assistants_presence[assistants_presence.login == 'pomoshnik_pdn302']"
   ]
  },
  {
   "cell_type": "code",
   "execution_count": 59,
   "id": "250fe3a4",
   "metadata": {},
   "outputs": [],
   "source": [
    "# present_assistants[present_assistants.login == 'pomoshnik_pdn302']"
   ]
  },
  {
   "cell_type": "code",
   "execution_count": 60,
   "id": "20e36f51",
   "metadata": {},
   "outputs": [],
   "source": [
    "# assistant_to_doctor_distribution[assistant_to_doctor_distribution.login == 'pomoshnik_pdn302']"
   ]
  },
  {
   "cell_type": "code",
   "execution_count": null,
   "id": "f647485e",
   "metadata": {},
   "outputs": [],
   "source": [
    "stop()"
   ]
  },
  {
   "cell_type": "code",
   "execution_count": null,
   "id": "3a736769",
   "metadata": {},
   "outputs": [],
   "source": []
  },
  {
   "cell_type": "code",
   "execution_count": null,
   "id": "ff0b6b19",
   "metadata": {},
   "outputs": [],
   "source": []
  },
  {
   "cell_type": "code",
   "execution_count": null,
   "id": "60d7cf61",
   "metadata": {},
   "outputs": [],
   "source": []
  },
  {
   "cell_type": "code",
   "execution_count": null,
   "id": "42e96b9f",
   "metadata": {},
   "outputs": [],
   "source": []
  },
  {
   "cell_type": "code",
   "execution_count": null,
   "id": "01a3a2bb",
   "metadata": {},
   "outputs": [],
   "source": [
    "# actual_patients_for_task = patients_current_statuses[patients_current_statuses.group.isin({\n",
    "#     11., 25., 22., 19.,  3., 17.,  9.,  6., 14., 21.,  8.,    15., \n",
    "#     5., 23., 13., 20., 16., 18.,  4., 12.,  7.,  2.,     10. })].copy()\n",
    "# actual_patients_for_task.shape[0]"
   ]
  },
  {
   "cell_type": "code",
   "execution_count": 61,
   "id": "602b2502",
   "metadata": {},
   "outputs": [
    {
     "data": {
      "text/plain": [
       "1065"
      ]
     },
     "execution_count": 61,
     "metadata": {},
     "output_type": "execute_result"
    }
   ],
   "source": [
    "patients_current_statuses.old_comment.nunique()"
   ]
  },
  {
   "cell_type": "code",
   "execution_count": 62,
   "id": "bb2524a2",
   "metadata": {},
   "outputs": [
    {
     "data": {
      "text/plain": [
       "95317"
      ]
     },
     "execution_count": 62,
     "metadata": {},
     "output_type": "execute_result"
    }
   ],
   "source": [
    "actual_patients_for_task = patients_current_statuses.copy()\n",
    "actual_patients_for_task.shape[0]"
   ]
  },
  {
   "cell_type": "code",
   "execution_count": 63,
   "id": "b029c14a",
   "metadata": {},
   "outputs": [
    {
     "data": {
      "text/plain": [
       "27944"
      ]
     },
     "execution_count": 63,
     "metadata": {},
     "output_type": "execute_result"
    }
   ],
   "source": [
    "first_stage_patients_for_task = \\\n",
    "actual_patients_for_task[actual_patients_for_task.status == 'Ни разу не звонили']\n",
    "\n",
    "first_stage_patients_for_task.shape[0]"
   ]
  },
  {
   "cell_type": "code",
   "execution_count": 64,
   "id": "71c1b22e",
   "metadata": {},
   "outputs": [
    {
     "data": {
      "text/plain": [
       "27944"
      ]
     },
     "execution_count": 64,
     "metadata": {},
     "output_type": "execute_result"
    }
   ],
   "source": [
    "first_stage_patients_for_task = first_stage_patients_for_task.reset_index(drop=True)\n",
    "first_stage_patients_for_task['priority'] = 3\n",
    "first_stage_patients_for_task.shape[0]"
   ]
  },
  {
   "cell_type": "code",
   "execution_count": 65,
   "id": "372ad410",
   "metadata": {},
   "outputs": [],
   "source": [
    "# first_stage_patients_for_task[first_stage_patients_for_task.emiasid == '']"
   ]
  },
  {
   "cell_type": "code",
   "execution_count": null,
   "id": "52c405ef",
   "metadata": {},
   "outputs": [],
   "source": [
    "# actual_patients_for_task = actual_patients_for_task[actual_patients_for_task.calls_amount <= 10]\n",
    "# actual_patients_for_task.shape[0]"
   ]
  },
  {
   "cell_type": "code",
   "execution_count": null,
   "id": "18591491",
   "metadata": {},
   "outputs": [],
   "source": [
    "# actual_patients_for_task = \\\n",
    "# actual_patients_for_task[actual_patients_for_task.last_call_date < '2022-08-30']\n",
    "# actual_patients_for_task.shape[0]"
   ]
  },
  {
   "cell_type": "code",
   "execution_count": null,
   "id": "a4d42d90",
   "metadata": {},
   "outputs": [],
   "source": []
  },
  {
   "cell_type": "code",
   "execution_count": null,
   "id": "f89b420e",
   "metadata": {},
   "outputs": [],
   "source": [
    "# if today.day_name() == 'Monday':\n",
    "    \n",
    "#     last_friday = (today - dt.timedelta(3)).date()\n",
    "    \n",
    "#     call_back_today_patients = patients_current_statuses[ \n",
    "#     (patients_current_statuses.status == 'Перезвонить сегодня') & \n",
    "#     (patients_current_statuses.next_call_date == last_friday)]  \n",
    "    \n",
    "#     call_back_on_date_patients = patients_current_statuses[\n",
    "#     (patients_current_statuses.status == 'Перенос звонка на другой день') \n",
    "#     & patients_current_statuses.next_call_date.isin(\n",
    "#     [x.date() for x in pd.date_range((today - dt.timedelta(2)).date(), today)])]\n",
    "    \n",
    "# else:\n",
    "    \n",
    "#     call_back_today_patients = patients_current_statuses[\n",
    "#     (patients_current_statuses.status == 'Перезвонить сегодня') & \n",
    "#     (patients_current_statuses.next_call_date == yesterday)]\n",
    "    \n",
    "#     call_back_on_date_patients = patients_current_statuses[\n",
    "#     (patients_current_statuses.status == 'Перенос звонка на другой день') & \n",
    "#     (patients_current_statuses.next_call_date == today)]"
   ]
  },
  {
   "cell_type": "code",
   "execution_count": 66,
   "id": "f93f0f86",
   "metadata": {},
   "outputs": [
    {
     "data": {
      "text/plain": [
       "2022-09-19    3148\n",
       "2022-09-16    3051\n",
       "2022-09-12    2361\n",
       "2022-09-20    2061\n",
       "2022-09-15    1914\n",
       "2022-09-21    1480\n",
       "2022-09-14    1274\n",
       "2022-09-22    1192\n",
       "2022-09-13    1057\n",
       "2022-09-23     984\n",
       "2022-09-09     149\n",
       "2022-09-08      45\n",
       "2022-09-17      28\n",
       "2022-09-05      16\n",
       "2022-09-06      15\n",
       "2022-09-07      14\n",
       "2022-09-18       9\n",
       "2022-09-10       8\n",
       "2022-08-31       6\n",
       "2022-09-02       6\n",
       "2022-08-30       4\n",
       "2022-09-01       4\n",
       "2022-08-25       3\n",
       "2022-08-24       3\n",
       "2022-08-26       3\n",
       "2022-08-29       3\n",
       "2022-08-22       2\n",
       "2002-09-30       1\n",
       "2021-09-17       1\n",
       "2020-09-23       1\n",
       "2020-09-14       1\n",
       "2002-09-19       1\n",
       "Name: next_call_date, dtype: int64"
      ]
     },
     "execution_count": 66,
     "metadata": {},
     "output_type": "execute_result"
    }
   ],
   "source": [
    "actual_patients_for_task[actual_patients_for_task.status.isin({'Перенос звонка на другой день'})].next_call_date.value_counts()"
   ]
  },
  {
   "cell_type": "code",
   "execution_count": null,
   "id": "2ffa01c1",
   "metadata": {},
   "outputs": [],
   "source": [
    "# call_back_today_patients = call_back_today_patients.reset_index(drop=True)\n",
    "# call_back_today_patients['priority'] = '2' "
   ]
  },
  {
   "cell_type": "code",
   "execution_count": null,
   "id": "857d7a94",
   "metadata": {},
   "outputs": [],
   "source": [
    "# call_back_today_patients.shape[0]"
   ]
  },
  {
   "cell_type": "code",
   "execution_count": null,
   "id": "4580fe75",
   "metadata": {},
   "outputs": [],
   "source": [
    "# call_back_today_patients[call_back_today_patients.emiasid == '']"
   ]
  },
  {
   "cell_type": "code",
   "execution_count": null,
   "id": "6dd51363",
   "metadata": {},
   "outputs": [],
   "source": [
    "# call_back_on_date_patients = call_back_on_date_patients.reset_index(drop=True)\n",
    "# call_back_on_date_patients['priority'] = '2'"
   ]
  },
  {
   "cell_type": "code",
   "execution_count": null,
   "id": "e42c9087",
   "metadata": {},
   "outputs": [],
   "source": [
    "# call_back_on_date_patients.shape[0]"
   ]
  },
  {
   "cell_type": "code",
   "execution_count": null,
   "id": "56b9435d",
   "metadata": {},
   "outputs": [],
   "source": [
    "# call_back_on_date_patients[call_back_on_date_patients.emiasid == '']"
   ]
  },
  {
   "cell_type": "code",
   "execution_count": 67,
   "id": "a06f2432",
   "metadata": {},
   "outputs": [
    {
     "data": {
      "text/plain": [
       "2369"
      ]
     },
     "execution_count": 67,
     "metadata": {},
     "output_type": "execute_result"
    }
   ],
   "source": [
    "call_back_patients = \\\n",
    "actual_patients_for_task[\n",
    "    actual_patients_for_task.status.isin({'Перенос звонка на другой день'})\n",
    "    &\n",
    "    actual_patients_for_task.next_call_date.isin({\n",
    "        dt.date(2022, 9, 10),\n",
    "        dt.date(2022, 9, 11),\n",
    "        dt.date(2022, 9, 12)\n",
    "    })\n",
    "]\n",
    "call_back_patients.shape[0]"
   ]
  },
  {
   "cell_type": "code",
   "execution_count": 68,
   "id": "ee9a1f35",
   "metadata": {},
   "outputs": [
    {
     "name": "stderr",
     "output_type": "stream",
     "text": [
      "C:\\Users\\murad_satabaev\\AppData\\Local\\Temp\\ipykernel_6464\\1049234732.py:1: SettingWithCopyWarning: \n",
      "A value is trying to be set on a copy of a slice from a DataFrame.\n",
      "Try using .loc[row_indexer,col_indexer] = value instead\n",
      "\n",
      "See the caveats in the documentation: https://pandas.pydata.org/pandas-docs/stable/user_guide/indexing.html#returning-a-view-versus-a-copy\n",
      "  call_back_patients['priority'] = 1\n"
     ]
    }
   ],
   "source": [
    "call_back_patients['priority'] = 1"
   ]
  },
  {
   "cell_type": "code",
   "execution_count": 69,
   "id": "be42c808",
   "metadata": {},
   "outputs": [],
   "source": [
    "# # ИСПРАВИТЬ ДЛЯ ПОНЕДЕЛЬНИКА\n",
    "\n",
    "# call_backs_overdue = actual_patients_for_task[\n",
    "#     (actual_patients_for_task.status.isin({'Перезвонить сегодня'}) & (actual_patients_for_task.date < yesterday))\n",
    "#     |\n",
    "#     (actual_patients_for_task.status.isin({'Перенос звонка на другой день'}) &\n",
    "#     (actual_patients_for_task.next_call_date < today)\n",
    "#     )\n",
    "# ]\n",
    "\n",
    "# call_backs_overdue.shape[0]"
   ]
  },
  {
   "cell_type": "code",
   "execution_count": 70,
   "id": "975b83c5",
   "metadata": {},
   "outputs": [],
   "source": [
    "# call_backs_overdue.next_call_date.unique()"
   ]
  },
  {
   "cell_type": "code",
   "execution_count": 71,
   "id": "1694305e",
   "metadata": {},
   "outputs": [],
   "source": [
    "# third_stage_patients_for_task = actual_patients_for_task.copy()"
   ]
  },
  {
   "cell_type": "code",
   "execution_count": 72,
   "id": "d5827301",
   "metadata": {},
   "outputs": [],
   "source": [
    "# third_stage_patients_for_task = third_stage_patients_for_task[third_stage_patients_for_task.status.isin(\n",
    "#     ['Разговор состоялся',  'Запишется самостоятельно', 'Не нравится МО', \n",
    "#      'Не нравится врач', 'Другой врач в этой МО']\n",
    "# )]"
   ]
  },
  {
   "cell_type": "code",
   "execution_count": 73,
   "id": "09da6a91",
   "metadata": {},
   "outputs": [],
   "source": [
    "# third_stage_patients_for_task.shape[0]"
   ]
  },
  {
   "cell_type": "code",
   "execution_count": 74,
   "id": "3efd1d55",
   "metadata": {},
   "outputs": [],
   "source": [
    "# third_stage_patients_for_task.status.value_counts()"
   ]
  },
  {
   "cell_type": "code",
   "execution_count": 75,
   "id": "a89fee38",
   "metadata": {},
   "outputs": [],
   "source": [
    "# third_stage_patients_for_task.status.unique()"
   ]
  },
  {
   "cell_type": "code",
   "execution_count": 76,
   "id": "398239a7",
   "metadata": {},
   "outputs": [],
   "source": [
    "# third_stage_patients_for_task[third_stage_patients_for_task.emiasid.isin(calls_data.emiasid)]"
   ]
  },
  {
   "cell_type": "code",
   "execution_count": 77,
   "id": "1020e40f",
   "metadata": {},
   "outputs": [],
   "source": [
    "# third_stage_patients_for_task.shape[0]"
   ]
  },
  {
   "cell_type": "code",
   "execution_count": 78,
   "id": "bffe0597",
   "metadata": {},
   "outputs": [],
   "source": [
    "# third_stage_patients_for_task[third_stage_patients_for_task.emiasid == '']"
   ]
  },
  {
   "cell_type": "code",
   "execution_count": 79,
   "id": "abd5f902",
   "metadata": {},
   "outputs": [],
   "source": [
    "# third_stage_patients_for_task['priority'] = '3'"
   ]
  },
  {
   "cell_type": "code",
   "execution_count": 80,
   "id": "2ad79d9e",
   "metadata": {
    "scrolled": true
   },
   "outputs": [],
   "source": [
    "# call_backs_overdue['priority'] = '4'"
   ]
  },
  {
   "cell_type": "code",
   "execution_count": 81,
   "id": "5da9b346",
   "metadata": {},
   "outputs": [],
   "source": [
    "# misscall_patients = actual_patients_for_task[actual_patients_for_task.status == 'Не дозвонились']\n",
    "# misscall_patients.shape[0]"
   ]
  },
  {
   "cell_type": "code",
   "execution_count": 82,
   "id": "c3a00090",
   "metadata": {},
   "outputs": [],
   "source": [
    "# misscall_patients[misscall_patients.emiasid == '']"
   ]
  },
  {
   "cell_type": "code",
   "execution_count": 83,
   "id": "72afe530",
   "metadata": {},
   "outputs": [],
   "source": [
    "# misscall_patients['priority'] = '5'"
   ]
  },
  {
   "cell_type": "code",
   "execution_count": null,
   "id": "31bc69e0",
   "metadata": {},
   "outputs": [],
   "source": []
  },
  {
   "cell_type": "code",
   "execution_count": 84,
   "id": "687ab315",
   "metadata": {},
   "outputs": [],
   "source": [
    "# tomorrow_y_m_d"
   ]
  },
  {
   "cell_type": "code",
   "execution_count": null,
   "id": "9039a707",
   "metadata": {},
   "outputs": [],
   "source": []
  },
  {
   "cell_type": "code",
   "execution_count": 85,
   "id": "d3869393",
   "metadata": {
    "scrolled": false
   },
   "outputs": [],
   "source": [
    "# tomorrow_record_patients_set = set()\n",
    "# for column in today_emias_data.columns[22:98:2]:\n",
    "#     tomorrow_record_patients_set = \\\n",
    "#     tomorrow_record_patients_set | set(today_emias_data[today_emias_data[f'{column}'] == tomorrow_y_m_d]\\\n",
    "#                                    .emiasid.astype(str).unique())\n",
    "\n",
    "# print(len(tomorrow_record_patients_set))"
   ]
  },
  {
   "cell_type": "code",
   "execution_count": 86,
   "id": "49760829",
   "metadata": {
    "scrolled": true
   },
   "outputs": [],
   "source": [
    "# tomorrow_record_patients = patients_current_statuses[(patients_current_statuses.emiasid.isin(tomorrow_record_patients_set))\n",
    "# & (patients_current_statuses.status.isin({'Запишется самостоятельно', 'Разговор состоялся'})) &\n",
    "# (~patients_current_statuses.emiasid.isin(third_stage_patients_for_task.emiasid))]\n",
    "\n",
    "# print(tomorrow_record_patients.shape[0])"
   ]
  },
  {
   "cell_type": "code",
   "execution_count": 87,
   "id": "a6ae17e3",
   "metadata": {},
   "outputs": [],
   "source": [
    "# tomorrow_record_patients[tomorrow_record_patients.emiasid == '']"
   ]
  },
  {
   "cell_type": "code",
   "execution_count": 88,
   "id": "c56f6adb",
   "metadata": {},
   "outputs": [],
   "source": [
    "# tomorrow_record_patients['status'] = 'Напоминание о записи на завтра'"
   ]
  },
  {
   "cell_type": "code",
   "execution_count": 89,
   "id": "ad529280",
   "metadata": {},
   "outputs": [],
   "source": [
    "# tomorrow_record_patients['priority'] = '5'"
   ]
  },
  {
   "cell_type": "code",
   "execution_count": 90,
   "id": "e9ad1d93",
   "metadata": {},
   "outputs": [],
   "source": [
    "# df = first_stage_patients_for_task.merge(assistant_to_doctor_distribution[['emiasid', 'login', 'mo']], on=['emiasid'])"
   ]
  },
  {
   "cell_type": "code",
   "execution_count": 91,
   "id": "2fc14eca",
   "metadata": {},
   "outputs": [],
   "source": [
    "# df[df.login == 'pomoshnik_pdn295']"
   ]
  },
  {
   "cell_type": "code",
   "execution_count": 92,
   "id": "df705990",
   "metadata": {},
   "outputs": [],
   "source": [
    "final_actual_patients_for_task = pd.concat([\n",
    "    first_stage_patients_for_task,\n",
    "    call_back_patients\n",
    "#     call_back_today_patients,\n",
    "#     call_back_on_date_patients,\n",
    "#     third_stage_patients_for_task,\n",
    "#     misscall_patients,\n",
    "#     call_backs_overdue,\n",
    "#     tomorrow_record_patients\n",
    "]) \\\n",
    ".sort_values(['priority']).reset_index(drop=True)"
   ]
  },
  {
   "cell_type": "code",
   "execution_count": 93,
   "id": "0da22817",
   "metadata": {},
   "outputs": [
    {
     "data": {
      "text/plain": [
       "30313"
      ]
     },
     "execution_count": 93,
     "metadata": {},
     "output_type": "execute_result"
    }
   ],
   "source": [
    "final_actual_patients_for_task.shape[0]"
   ]
  },
  {
   "cell_type": "code",
   "execution_count": 94,
   "id": "79ccaaa8",
   "metadata": {},
   "outputs": [],
   "source": [
    "final_actual_patients_for_task = final_actual_patients_for_task.drop_duplicates(subset=['phone'], keep='first')"
   ]
  },
  {
   "cell_type": "code",
   "execution_count": 95,
   "id": "1c7ac415",
   "metadata": {
    "scrolled": true
   },
   "outputs": [
    {
     "data": {
      "text/plain": [
       "30272"
      ]
     },
     "execution_count": 95,
     "metadata": {},
     "output_type": "execute_result"
    }
   ],
   "source": [
    "final_actual_patients_for_task = final_actual_patients_for_task[['emiasid', 'date', 'status', 'old_comment',\n",
    "                                                                 'next_call_date', 'priority']]\n",
    "final_actual_patients_for_task.shape[0]"
   ]
  },
  {
   "cell_type": "code",
   "execution_count": 96,
   "id": "94460c1d",
   "metadata": {},
   "outputs": [
    {
     "name": "stderr",
     "output_type": "stream",
     "text": [
      "C:\\Users\\murad_satabaev\\AppData\\Local\\Temp\\ipykernel_6464\\2998909243.py:1: FutureWarning: The default value of regex will change from True to False in a future version.\n",
      "  final_actual_patients_for_task['emiasid'] = final_actual_patients_for_task['emiasid'].astype(str).str.replace('\\.0', '')\n"
     ]
    }
   ],
   "source": [
    "final_actual_patients_for_task['emiasid'] = final_actual_patients_for_task['emiasid'].astype(str).str.replace('\\.0', '')"
   ]
  },
  {
   "cell_type": "code",
   "execution_count": 97,
   "id": "7c7d564a",
   "metadata": {},
   "outputs": [
    {
     "name": "stderr",
     "output_type": "stream",
     "text": [
      "C:\\Users\\murad_satabaev\\AppData\\Local\\Temp\\ipykernel_6464\\3852239710.py:1: FutureWarning: The default value of regex will change from True to False in a future version.\n",
      "  assistant_to_doctor_distribution['emiasid'] = assistant_to_doctor_distribution['emiasid'].astype(str).str.replace('\\.0', '')\n"
     ]
    }
   ],
   "source": [
    "assistant_to_doctor_distribution['emiasid'] = assistant_to_doctor_distribution['emiasid'].astype(str).str.replace('\\.0', '')"
   ]
  },
  {
   "cell_type": "code",
   "execution_count": 98,
   "id": "9bcb7f84",
   "metadata": {},
   "outputs": [],
   "source": [
    "initial_assistant_to_patient_distribution_in_today_task_sep = \\\n",
    "final_actual_patients_for_task.merge(assistant_to_doctor_distribution[['emiasid', 'login', 'mo']], on=['emiasid']) \\\n",
    ".sort_values(by=['priority'])"
   ]
  },
  {
   "cell_type": "code",
   "execution_count": 99,
   "id": "48e9ec3e",
   "metadata": {},
   "outputs": [],
   "source": [
    "initial_assistant_to_patient_distribution_in_today_task = \\\n",
    "pd.concat([\n",
    "    initial_assistant_to_patient_distribution_in_today_task_aug, \n",
    "    initial_assistant_to_patient_distribution_in_today_task_sep]).reset_index(drop=True).sort_values(by=['priority'])"
   ]
  },
  {
   "cell_type": "code",
   "execution_count": 100,
   "id": "fda85473",
   "metadata": {},
   "outputs": [
    {
     "data": {
      "text/plain": [
       "31002"
      ]
     },
     "execution_count": 100,
     "metadata": {},
     "output_type": "execute_result"
    }
   ],
   "source": [
    "initial_assistant_to_patient_distribution_in_today_task.shape[0]"
   ]
  },
  {
   "cell_type": "code",
   "execution_count": 101,
   "id": "7fcf162f",
   "metadata": {},
   "outputs": [],
   "source": [
    "# initial_assistant_to_patient_distribution_in_today_task.to_excel('initial_assistant_to_patient_distribution_in_today_task.xlsx')"
   ]
  },
  {
   "cell_type": "code",
   "execution_count": 102,
   "id": "cafcfe2b",
   "metadata": {},
   "outputs": [],
   "source": [
    "# last_comments = \\\n",
    "# calls_data[['emiasid', 'comment']].drop_duplicates(subset=['emiasid'], keep='last').rename(columns={'comment': 'old_comment'})"
   ]
  },
  {
   "cell_type": "code",
   "execution_count": 103,
   "id": "382b5818",
   "metadata": {},
   "outputs": [],
   "source": [
    "# initial_assistant_to_patient_distribution_in_today_task = \\\n",
    "# initial_assistant_to_patient_distribution_in_today_task.merge(last_comments, on=['emiasid'], how='left')"
   ]
  },
  {
   "cell_type": "code",
   "execution_count": 104,
   "id": "bdc90f32",
   "metadata": {},
   "outputs": [
    {
     "data": {
      "text/plain": [
       "Ни разу не звонили               27903\n",
       "Перенос звонка на другой день     2986\n",
       "Разговор состоялся                  46\n",
       "Не дозвонились                      33\n",
       "Запишется самостоятельно            22\n",
       "Перезвонить сегодня                  5\n",
       "Отсутствует номер                    3\n",
       "Госпитализирован                     2\n",
       "Смена МО                             1\n",
       "Не нравится врач                     1\n",
       "Name: status, dtype: int64"
      ]
     },
     "execution_count": 104,
     "metadata": {},
     "output_type": "execute_result"
    }
   ],
   "source": [
    "initial_assistant_to_patient_distribution_in_today_task.status.value_counts()"
   ]
  },
  {
   "cell_type": "code",
   "execution_count": 105,
   "id": "9b46607c",
   "metadata": {},
   "outputs": [
    {
     "data": {
      "text/plain": [
       "425"
      ]
     },
     "execution_count": 105,
     "metadata": {},
     "output_type": "execute_result"
    }
   ],
   "source": [
    "initial_assistant_to_patient_distribution_in_today_task.old_comment.nunique()"
   ]
  },
  {
   "cell_type": "code",
   "execution_count": 107,
   "id": "e38063ad",
   "metadata": {},
   "outputs": [
    {
     "data": {
      "text/html": [
       "<div>\n",
       "<style scoped>\n",
       "    .dataframe tbody tr th:only-of-type {\n",
       "        vertical-align: middle;\n",
       "    }\n",
       "\n",
       "    .dataframe tbody tr th {\n",
       "        vertical-align: top;\n",
       "    }\n",
       "\n",
       "    .dataframe thead th {\n",
       "        text-align: right;\n",
       "    }\n",
       "</style>\n",
       "<table border=\"1\" class=\"dataframe\">\n",
       "  <thead>\n",
       "    <tr style=\"text-align: right;\">\n",
       "      <th></th>\n",
       "      <th></th>\n",
       "      <th>emiasid</th>\n",
       "    </tr>\n",
       "    <tr>\n",
       "      <th>mo</th>\n",
       "      <th>login</th>\n",
       "      <th></th>\n",
       "    </tr>\n",
       "  </thead>\n",
       "  <tbody>\n",
       "    <tr>\n",
       "      <th rowspan=\"10\" valign=\"top\">ГП 107</th>\n",
       "      <th>pomoshnik_pdn104</th>\n",
       "      <td>1</td>\n",
       "    </tr>\n",
       "    <tr>\n",
       "      <th>pomoshnik_pdn29</th>\n",
       "      <td>1</td>\n",
       "    </tr>\n",
       "    <tr>\n",
       "      <th>pomoshnik_pdn32</th>\n",
       "      <td>4</td>\n",
       "    </tr>\n",
       "    <tr>\n",
       "      <th>pomoshnik_pdn131</th>\n",
       "      <td>7</td>\n",
       "    </tr>\n",
       "    <tr>\n",
       "      <th>pomoshnik_pdn130</th>\n",
       "      <td>164</td>\n",
       "    </tr>\n",
       "    <tr>\n",
       "      <th>pomoshnik_pdn109</th>\n",
       "      <td>186</td>\n",
       "    </tr>\n",
       "    <tr>\n",
       "      <th>pomoshnik_pdn129</th>\n",
       "      <td>197</td>\n",
       "    </tr>\n",
       "    <tr>\n",
       "      <th>pomoshnik_pdn148</th>\n",
       "      <td>206</td>\n",
       "    </tr>\n",
       "    <tr>\n",
       "      <th>pomoshnik_pdn43</th>\n",
       "      <td>226</td>\n",
       "    </tr>\n",
       "    <tr>\n",
       "      <th>pomoshnik_pdn185</th>\n",
       "      <td>230</td>\n",
       "    </tr>\n",
       "    <tr>\n",
       "      <th rowspan=\"6\" valign=\"top\">ГП 109</th>\n",
       "      <th>pomoshnik_pdn104</th>\n",
       "      <td>1</td>\n",
       "    </tr>\n",
       "    <tr>\n",
       "      <th>pomoshnik_pdn91</th>\n",
       "      <td>1</td>\n",
       "    </tr>\n",
       "    <tr>\n",
       "      <th>pomoshnik_pdn14</th>\n",
       "      <td>5</td>\n",
       "    </tr>\n",
       "    <tr>\n",
       "      <th>pomoshnik_pdn155</th>\n",
       "      <td>42</td>\n",
       "    </tr>\n",
       "    <tr>\n",
       "      <th>pomoshnik_pdn168</th>\n",
       "      <td>47</td>\n",
       "    </tr>\n",
       "    <tr>\n",
       "      <th>pomoshnik_pdn134</th>\n",
       "      <td>60</td>\n",
       "    </tr>\n",
       "    <tr>\n",
       "      <th rowspan=\"4\" valign=\"top\">ГП 11</th>\n",
       "      <th>pomoshnik_pdn10</th>\n",
       "      <td>1</td>\n",
       "    </tr>\n",
       "    <tr>\n",
       "      <th>pomoshnik_pdn11</th>\n",
       "      <td>1</td>\n",
       "    </tr>\n",
       "    <tr>\n",
       "      <th>pomoshnik_pdn151</th>\n",
       "      <td>1</td>\n",
       "    </tr>\n",
       "    <tr>\n",
       "      <th>pomoshnik_pdn203</th>\n",
       "      <td>1</td>\n",
       "    </tr>\n",
       "  </tbody>\n",
       "</table>\n",
       "</div>"
      ],
      "text/plain": [
       "                         emiasid\n",
       "mo     login                    \n",
       "ГП 107 pomoshnik_pdn104        1\n",
       "       pomoshnik_pdn29         1\n",
       "       pomoshnik_pdn32         4\n",
       "       pomoshnik_pdn131        7\n",
       "       pomoshnik_pdn130      164\n",
       "       pomoshnik_pdn109      186\n",
       "       pomoshnik_pdn129      197\n",
       "       pomoshnik_pdn148      206\n",
       "       pomoshnik_pdn43       226\n",
       "       pomoshnik_pdn185      230\n",
       "ГП 109 pomoshnik_pdn104        1\n",
       "       pomoshnik_pdn91         1\n",
       "       pomoshnik_pdn14         5\n",
       "       pomoshnik_pdn155       42\n",
       "       pomoshnik_pdn168       47\n",
       "       pomoshnik_pdn134       60\n",
       "ГП 11  pomoshnik_pdn10         1\n",
       "       pomoshnik_pdn11         1\n",
       "       pomoshnik_pdn151        1\n",
       "       pomoshnik_pdn203        1"
      ]
     },
     "execution_count": 107,
     "metadata": {},
     "output_type": "execute_result"
    }
   ],
   "source": [
    "initial_assistant_to_patient_distribution_in_today_task.groupby(['mo', 'login']).agg({'emiasid': 'count'}).sort_values(\n",
    "    ['mo', 'emiasid']).head(20)"
   ]
  },
  {
   "cell_type": "code",
   "execution_count": 108,
   "id": "44cb2103",
   "metadata": {},
   "outputs": [],
   "source": [
    "initial_assistant_to_patient_distribution_in_today_task.to_excel('initial_assistant_to_patient_distribution_in_today_task.xlsx')"
   ]
  },
  {
   "cell_type": "code",
   "execution_count": 109,
   "id": "482dbfa9",
   "metadata": {},
   "outputs": [
    {
     "name": "stdout",
     "output_type": "stream",
     "text": [
      "CPU times: total: 2.47 s\n",
      "Wall time: 2.5 s\n"
     ]
    }
   ],
   "source": [
    "%%time\n",
    "\n",
    "initial_task_for_today = pd.DataFrame()\n",
    "for login in set(initial_assistant_to_patient_distribution_in_today_task.login):\n",
    "    initial_assistant_to_patient_distribution_in_today_task_for_login = \\\n",
    "    initial_assistant_to_patient_distribution_in_today_task[initial_assistant_to_patient_distribution_in_today_task.login\n",
    "         == login].sort_values(by=[ 'priority'])\n",
    "    call_back_number_for_login = initial_assistant_to_patient_distribution_in_today_task_for_login[\n",
    "        initial_assistant_to_patient_distribution_in_today_task_for_login.status.isin({\n",
    "            'Перезвонить сегодня', 'Перенос звонка на другой день'})].shape[0]\n",
    "\n",
    "    initial_task_for_today = pd.concat(\n",
    "        [initial_task_for_today, \n",
    "\n",
    "#          initial_assistant_to_patient_distribution_in_today_task[\n",
    "#              (initial_assistant_to_patient_distribution_in_today_task.login==login) \n",
    "#              & (initial_assistant_to_patient_distribution_in_today_task.mo.isin(still_big_task_mo_list))\n",
    "#          ].sort_values('priority').head((85 + call_back_number_for_login)),\n",
    "         \n",
    "         initial_assistant_to_patient_distribution_in_today_task[\n",
    "             (initial_assistant_to_patient_distribution_in_today_task.login==login)\n",
    "         ].head(90),\n",
    "        \n",
    "       \n",
    "        ]).reset_index(drop=True)"
   ]
  },
  {
   "cell_type": "code",
   "execution_count": 110,
   "id": "4624e462",
   "metadata": {},
   "outputs": [
    {
     "data": {
      "text/html": [
       "<div>\n",
       "<style scoped>\n",
       "    .dataframe tbody tr th:only-of-type {\n",
       "        vertical-align: middle;\n",
       "    }\n",
       "\n",
       "    .dataframe tbody tr th {\n",
       "        vertical-align: top;\n",
       "    }\n",
       "\n",
       "    .dataframe thead th {\n",
       "        text-align: right;\n",
       "    }\n",
       "</style>\n",
       "<table border=\"1\" class=\"dataframe\">\n",
       "  <thead>\n",
       "    <tr style=\"text-align: right;\">\n",
       "      <th></th>\n",
       "      <th></th>\n",
       "      <th>emiasid</th>\n",
       "    </tr>\n",
       "    <tr>\n",
       "      <th>mo</th>\n",
       "      <th>login</th>\n",
       "      <th></th>\n",
       "    </tr>\n",
       "  </thead>\n",
       "  <tbody>\n",
       "    <tr>\n",
       "      <th>ГП 107</th>\n",
       "      <th>pomoshnik_pdn29</th>\n",
       "      <td>1</td>\n",
       "    </tr>\n",
       "    <tr>\n",
       "      <th>ГП 210</th>\n",
       "      <th>pomoshnik_pdn119</th>\n",
       "      <td>1</td>\n",
       "    </tr>\n",
       "    <tr>\n",
       "      <th>КДП 121</th>\n",
       "      <th>pomoshnik_pdn163</th>\n",
       "      <td>1</td>\n",
       "    </tr>\n",
       "    <tr>\n",
       "      <th rowspan=\"2\" valign=\"top\">ГП 214</th>\n",
       "      <th>pomoshnik_pdn35</th>\n",
       "      <td>1</td>\n",
       "    </tr>\n",
       "    <tr>\n",
       "      <th>pomoshnik_pdn168</th>\n",
       "      <td>1</td>\n",
       "    </tr>\n",
       "    <tr>\n",
       "      <th>ГП 11</th>\n",
       "      <th>pomoshnik_pdn59</th>\n",
       "      <td>1</td>\n",
       "    </tr>\n",
       "    <tr>\n",
       "      <th>ГП 214</th>\n",
       "      <th>pomoshnik_pdn118</th>\n",
       "      <td>1</td>\n",
       "    </tr>\n",
       "    <tr>\n",
       "      <th rowspan=\"2\" valign=\"top\">ДЦ 5</th>\n",
       "      <th>pomoshnik_pdn65</th>\n",
       "      <td>1</td>\n",
       "    </tr>\n",
       "    <tr>\n",
       "      <th>pomoshnik_pdn92</th>\n",
       "      <td>1</td>\n",
       "    </tr>\n",
       "    <tr>\n",
       "      <th>ГП 11</th>\n",
       "      <th>pomoshnik_pdn203</th>\n",
       "      <td>1</td>\n",
       "    </tr>\n",
       "    <tr>\n",
       "      <th>ГП 218</th>\n",
       "      <th>pomoshnik_pdn24</th>\n",
       "      <td>1</td>\n",
       "    </tr>\n",
       "    <tr>\n",
       "      <th>ДЦ 3</th>\n",
       "      <th>pomoshnik_pdn155</th>\n",
       "      <td>1</td>\n",
       "    </tr>\n",
       "    <tr>\n",
       "      <th rowspan=\"2\" valign=\"top\">ГП 11</th>\n",
       "      <th>pomoshnik_pdn11</th>\n",
       "      <td>1</td>\n",
       "    </tr>\n",
       "    <tr>\n",
       "      <th>pomoshnik_pdn10</th>\n",
       "      <td>1</td>\n",
       "    </tr>\n",
       "    <tr>\n",
       "      <th rowspan=\"2\" valign=\"top\">ГП 218</th>\n",
       "      <th>pomoshnik_pdn168</th>\n",
       "      <td>1</td>\n",
       "    </tr>\n",
       "    <tr>\n",
       "      <th>pomoshnik_pdn15</th>\n",
       "      <td>1</td>\n",
       "    </tr>\n",
       "    <tr>\n",
       "      <th rowspan=\"3\" valign=\"top\">ДКЦ 1</th>\n",
       "      <th>pomoshnik_pdn155</th>\n",
       "      <td>1</td>\n",
       "    </tr>\n",
       "    <tr>\n",
       "      <th>pomoshnik_pdn156</th>\n",
       "      <td>1</td>\n",
       "    </tr>\n",
       "    <tr>\n",
       "      <th>pomoshnik_pdn65</th>\n",
       "      <td>1</td>\n",
       "    </tr>\n",
       "    <tr>\n",
       "      <th>ГП 220</th>\n",
       "      <th>pomoshnik_pdn24</th>\n",
       "      <td>1</td>\n",
       "    </tr>\n",
       "    <tr>\n",
       "      <th rowspan=\"2\" valign=\"top\">ГП 134</th>\n",
       "      <th>pomoshnik_pdn84</th>\n",
       "      <td>1</td>\n",
       "    </tr>\n",
       "    <tr>\n",
       "      <th>pomoshnik_pdn14</th>\n",
       "      <td>1</td>\n",
       "    </tr>\n",
       "    <tr>\n",
       "      <th>ГП 107</th>\n",
       "      <th>pomoshnik_pdn104</th>\n",
       "      <td>1</td>\n",
       "    </tr>\n",
       "    <tr>\n",
       "      <th rowspan=\"2\" valign=\"top\">ГП 170</th>\n",
       "      <th>pomoshnik_pdn151</th>\n",
       "      <td>1</td>\n",
       "    </tr>\n",
       "    <tr>\n",
       "      <th>pomoshnik_pdn285</th>\n",
       "      <td>1</td>\n",
       "    </tr>\n",
       "    <tr>\n",
       "      <th rowspan=\"2\" valign=\"top\">ГП 66</th>\n",
       "      <th>pomoshnik_pdn102</th>\n",
       "      <td>1</td>\n",
       "    </tr>\n",
       "    <tr>\n",
       "      <th>pomoshnik_pdn105</th>\n",
       "      <td>1</td>\n",
       "    </tr>\n",
       "    <tr>\n",
       "      <th>ГП 6</th>\n",
       "      <th>pomoshnik_pdn130</th>\n",
       "      <td>1</td>\n",
       "    </tr>\n",
       "    <tr>\n",
       "      <th rowspan=\"2\" valign=\"top\">ГП 210</th>\n",
       "      <th>pomoshnik_pdn49</th>\n",
       "      <td>1</td>\n",
       "    </tr>\n",
       "    <tr>\n",
       "      <th>pomoshnik_pdn54</th>\n",
       "      <td>1</td>\n",
       "    </tr>\n",
       "  </tbody>\n",
       "</table>\n",
       "</div>"
      ],
      "text/plain": [
       "                          emiasid\n",
       "mo      login                    \n",
       "ГП 107  pomoshnik_pdn29         1\n",
       "ГП 210  pomoshnik_pdn119        1\n",
       "КДП 121 pomoshnik_pdn163        1\n",
       "ГП 214  pomoshnik_pdn35         1\n",
       "        pomoshnik_pdn168        1\n",
       "ГП 11   pomoshnik_pdn59         1\n",
       "ГП 214  pomoshnik_pdn118        1\n",
       "ДЦ 5    pomoshnik_pdn65         1\n",
       "        pomoshnik_pdn92         1\n",
       "ГП 11   pomoshnik_pdn203        1\n",
       "ГП 218  pomoshnik_pdn24         1\n",
       "ДЦ 3    pomoshnik_pdn155        1\n",
       "ГП 11   pomoshnik_pdn11         1\n",
       "        pomoshnik_pdn10         1\n",
       "ГП 218  pomoshnik_pdn168        1\n",
       "        pomoshnik_pdn15         1\n",
       "ДКЦ 1   pomoshnik_pdn155        1\n",
       "        pomoshnik_pdn156        1\n",
       "        pomoshnik_pdn65         1\n",
       "ГП 220  pomoshnik_pdn24         1\n",
       "ГП 134  pomoshnik_pdn84         1\n",
       "        pomoshnik_pdn14         1\n",
       "ГП 107  pomoshnik_pdn104        1\n",
       "ГП 170  pomoshnik_pdn151        1\n",
       "        pomoshnik_pdn285        1\n",
       "ГП 66   pomoshnik_pdn102        1\n",
       "        pomoshnik_pdn105        1\n",
       "ГП 6    pomoshnik_pdn130        1\n",
       "ГП 210  pomoshnik_pdn49         1\n",
       "        pomoshnik_pdn54         1"
      ]
     },
     "execution_count": 110,
     "metadata": {},
     "output_type": "execute_result"
    }
   ],
   "source": [
    "initial_task_for_today \\\n",
    ".groupby(['mo', 'login']).agg({'emiasid': 'count'}).sort_values(['mo', 'emiasid'], ascending=False)\\\n",
    ".sort_values(by='emiasid').head(30)"
   ]
  },
  {
   "cell_type": "code",
   "execution_count": 111,
   "id": "76c5884f",
   "metadata": {},
   "outputs": [],
   "source": [
    "rename_mo = \\\n",
    "{'ГБУЗ Г МОСКВЫ ГП № 170 ДЗМ': 'ГП 170', ' ГП 6 ДЗМ': 'ГП 6', 'ГБУЗ КДЦ 6 ДЗМ':'КДЦ 6', \n",
    "             'ГБУЗ \"ГП № 134 ДЗМ\"': 'ГП 134', 'КДЦ 4': 'КДЦ 4', 'ГБУЗ ДКЦ 1 ДЗМ': 'ДКЦ 1', 'ГБУЗ ГП 23 ДЗМ': 'ГП 23',\n",
    "             'ГБУЗ ГП 109 ДЗМ': 'ГП 109', 'ГБУЗ ГП 11 ДЗМ': 'ГП 11', 'ГБУЗ ГП 64 ДЗМ': 'ГП 64', 'ГБУЗ ГП 191 ДЗМ': 'ГП 191', \n",
    "             'ГБУЗ ГП 220 ДЗМ': 'ГП 220', 'ГБУЗ \"ГП № 218 ДЗМ\"': 'ГП 218',  'ГБУЗ ГП 107 ДЗМ': 'ГП 107', \n",
    "             'ГБУЗ \"ГП № 22 ДЗМ\"': 'ГП 22', 'ГБУЗ ДЦ 5 ДЗМ': 'ДЦ 5', 'ГБУЗ ГП 210 ДЗМ': 'ГП 210', 'ГБУЗ ГП 214 ДЗМ': 'ГП 214', \n",
    "             'ГБУЗ ГП 2 ДЗМ': 'ГП 2', 'ГБУЗ КДП 121 ДЗМ': 'КДП 121', 'ГБУЗ ГП 66 ДЗМ': 'ГП 66',  'ГБУЗ ДЦ 3 ДЗМ ': 'ДЦ 3',\n",
    "             'ГБУЗ ГП 36 ДЗМ': 'ГП 36',  'ГБУЗ ГП 62 ДЗМ ': 'ГП 62', \n",
    "            'ГБУЗ \"ГП № 52 ДЗМ\"': 'ГП 52', 'ГБУЗ \"ГП 67 ДЗМ\"': 'ГП 67', 'ГБУЗ ГП 68 ДЗМ': 'ГП 68', 'ГБУЗ ГП 175 ДЗМ': 'ГП 175',\n",
    "'ГБУЗ ГП № 209 ДЗМ': 'ГП 209',  'ГБУЗ ГП 212 ДЗМ': 'ГП 212', 'ГБУЗ ГП 19 ДЗМ': 'ГП 19', \n",
    "'ГБУЗ ГП №166 ДЗМ': 'ГП 166', 'ГБУЗ ГП 9 ДЗМ': 'ГП 9', 'ГБУЗ ГП 69 ДЗМ': 'ГП 69',\n",
    "'ГБУЗ \"ГП № 3 ДЗМ\"': 'ГП 3', 'ГБУЗ ГП 5 ДЗМ': 'ГП 5', 'ГБУЗ ГП 46 ДЗМ': 'ГП 46', 'ГБУЗ ГП №8 ДЗМ': 'ГП 8', \n",
    "'ГБУЗ \"ГП № 45 ДЗМ\"': 'ГП 45'}"
   ]
  },
  {
   "cell_type": "code",
   "execution_count": 112,
   "id": "d8c1906d",
   "metadata": {},
   "outputs": [],
   "source": [
    "mo_list = set(rename_mo.values())"
   ]
  },
  {
   "cell_type": "code",
   "execution_count": 113,
   "id": "8f4c0206",
   "metadata": {
    "scrolled": true
   },
   "outputs": [],
   "source": [
    "# new_doctor_patients = \\\n",
    "# initial_assistant_to_patient_distribution_in_today_task[(initial_assistant_to_patient_distribution_in_today_task.mo.isin(mo_list)) & \n",
    "#                     (~initial_assistant_to_patient_distribution_in_today_task.doctor_fio.isin(doctors_list))].reset_index(drop=True)\n",
    "# new_doctor_patients = new_doctor_patients[~new_doctor_patients.emiasid.isin(calls_data.emiasid)]"
   ]
  },
  {
   "cell_type": "code",
   "execution_count": 114,
   "id": "bc25d220",
   "metadata": {},
   "outputs": [
    {
     "data": {
      "text/plain": [
       "13966"
      ]
     },
     "execution_count": 114,
     "metadata": {},
     "output_type": "execute_result"
    }
   ],
   "source": [
    "initial_task_for_today.shape[0]"
   ]
  },
  {
   "cell_type": "code",
   "execution_count": 115,
   "id": "69649df2",
   "metadata": {},
   "outputs": [],
   "source": [
    "initial_task_for_today_present_assistants = initial_task_for_today[~initial_task_for_today.login.isin(absent_assistants.login)]"
   ]
  },
  {
   "cell_type": "code",
   "execution_count": 116,
   "id": "3dc5953a",
   "metadata": {},
   "outputs": [
    {
     "data": {
      "text/plain": [
       "3514"
      ]
     },
     "execution_count": 116,
     "metadata": {},
     "output_type": "execute_result"
    }
   ],
   "source": [
    "initial_task_for_today[initial_task_for_today.login.isin(absent_assistants.login)].shape[0]"
   ]
  },
  {
   "cell_type": "code",
   "execution_count": 117,
   "id": "249761c8",
   "metadata": {},
   "outputs": [
    {
     "data": {
      "text/plain": [
       "10452"
      ]
     },
     "execution_count": 117,
     "metadata": {},
     "output_type": "execute_result"
    }
   ],
   "source": [
    "initial_task_for_today_present_assistants.shape[0]"
   ]
  },
  {
   "cell_type": "code",
   "execution_count": 118,
   "id": "3067e938",
   "metadata": {},
   "outputs": [
    {
     "data": {
      "text/html": [
       "<div>\n",
       "<style scoped>\n",
       "    .dataframe tbody tr th:only-of-type {\n",
       "        vertical-align: middle;\n",
       "    }\n",
       "\n",
       "    .dataframe tbody tr th {\n",
       "        vertical-align: top;\n",
       "    }\n",
       "\n",
       "    .dataframe thead th {\n",
       "        text-align: right;\n",
       "    }\n",
       "</style>\n",
       "<table border=\"1\" class=\"dataframe\">\n",
       "  <thead>\n",
       "    <tr style=\"text-align: right;\">\n",
       "      <th></th>\n",
       "      <th>emiasid</th>\n",
       "    </tr>\n",
       "    <tr>\n",
       "      <th>login</th>\n",
       "      <th></th>\n",
       "    </tr>\n",
       "  </thead>\n",
       "  <tbody>\n",
       "    <tr>\n",
       "      <th>pomoshnik_pdn100</th>\n",
       "      <td>90</td>\n",
       "    </tr>\n",
       "    <tr>\n",
       "      <th>pomoshnik_pdn47</th>\n",
       "      <td>90</td>\n",
       "    </tr>\n",
       "    <tr>\n",
       "      <th>pomoshnik_pdn43</th>\n",
       "      <td>90</td>\n",
       "    </tr>\n",
       "    <tr>\n",
       "      <th>pomoshnik_pdn42</th>\n",
       "      <td>90</td>\n",
       "    </tr>\n",
       "    <tr>\n",
       "      <th>pomoshnik_pdn41</th>\n",
       "      <td>90</td>\n",
       "    </tr>\n",
       "    <tr>\n",
       "      <th>...</th>\n",
       "      <td>...</td>\n",
       "    </tr>\n",
       "    <tr>\n",
       "      <th>pomoshnik_pdn268</th>\n",
       "      <td>6</td>\n",
       "    </tr>\n",
       "    <tr>\n",
       "      <th>pomoshnik_pdn64</th>\n",
       "      <td>6</td>\n",
       "    </tr>\n",
       "    <tr>\n",
       "      <th>pomoshnik_pdn57</th>\n",
       "      <td>5</td>\n",
       "    </tr>\n",
       "    <tr>\n",
       "      <th>pomoshnik_pdn240</th>\n",
       "      <td>4</td>\n",
       "    </tr>\n",
       "    <tr>\n",
       "      <th>pomoshnik_pdn122</th>\n",
       "      <td>4</td>\n",
       "    </tr>\n",
       "  </tbody>\n",
       "</table>\n",
       "<p>164 rows × 1 columns</p>\n",
       "</div>"
      ],
      "text/plain": [
       "                  emiasid\n",
       "login                    \n",
       "pomoshnik_pdn100       90\n",
       "pomoshnik_pdn47        90\n",
       "pomoshnik_pdn43        90\n",
       "pomoshnik_pdn42        90\n",
       "pomoshnik_pdn41        90\n",
       "...                   ...\n",
       "pomoshnik_pdn268        6\n",
       "pomoshnik_pdn64         6\n",
       "pomoshnik_pdn57         5\n",
       "pomoshnik_pdn240        4\n",
       "pomoshnik_pdn122        4\n",
       "\n",
       "[164 rows x 1 columns]"
      ]
     },
     "execution_count": 118,
     "metadata": {},
     "output_type": "execute_result"
    }
   ],
   "source": [
    "initial_task_for_today_present_assistants.groupby('login').agg({'emiasid': 'count'}).sort_values('emiasid', ascending=False)"
   ]
  },
  {
   "cell_type": "code",
   "execution_count": 119,
   "id": "5984cf9c",
   "metadata": {},
   "outputs": [],
   "source": [
    "initial_task_for_today_absent_assistants =  initial_task_for_today[initial_task_for_today.login.isin(absent_assistants.login)] \\\n",
    "[['emiasid', 'date', 'status', 'old_comment', 'next_call_date', 'mo', 'priority']]"
   ]
  },
  {
   "cell_type": "code",
   "execution_count": 120,
   "id": "e05971cb",
   "metadata": {},
   "outputs": [],
   "source": [
    "additional_task_for_present_assistants = \\\n",
    "pd.concat([\n",
    "#     new_doctor_patients,\n",
    "    initial_task_for_today_absent_assistants\n",
    "]).reset_index(drop=True)"
   ]
  },
  {
   "cell_type": "code",
   "execution_count": 121,
   "id": "90ff9e79",
   "metadata": {},
   "outputs": [],
   "source": [
    "additional_task_for_present_assistants_by_mo = \\\n",
    "additional_task_for_present_assistants.groupby(['mo']).agg({'emiasid': 'count'}).sort_values(by=['mo', 'emiasid'])"
   ]
  },
  {
   "cell_type": "code",
   "execution_count": 122,
   "id": "d4bb3a4b",
   "metadata": {},
   "outputs": [],
   "source": [
    "distribution_count = initial_task_for_today_present_assistants.groupby(['mo']).agg({'emiasid': 'count', 'login': 'nunique'}) \\\n",
    ".sort_values(by=['mo', 'emiasid'])"
   ]
  },
  {
   "cell_type": "code",
   "execution_count": 123,
   "id": "6cffe7fc",
   "metadata": {},
   "outputs": [],
   "source": [
    "distribution_count['total_delta'] = distribution_count['login'] * 90 - distribution_count['emiasid']"
   ]
  },
  {
   "cell_type": "code",
   "execution_count": 124,
   "id": "e2b43718",
   "metadata": {},
   "outputs": [],
   "source": [
    "distribution_count = distribution_count[distribution_count.total_delta > 0]"
   ]
  },
  {
   "cell_type": "code",
   "execution_count": 125,
   "id": "4e0a6b6d",
   "metadata": {},
   "outputs": [
    {
     "data": {
      "text/html": [
       "<div>\n",
       "<style scoped>\n",
       "    .dataframe tbody tr th:only-of-type {\n",
       "        vertical-align: middle;\n",
       "    }\n",
       "\n",
       "    .dataframe tbody tr th {\n",
       "        vertical-align: top;\n",
       "    }\n",
       "\n",
       "    .dataframe thead th {\n",
       "        text-align: right;\n",
       "    }\n",
       "</style>\n",
       "<table border=\"1\" class=\"dataframe\">\n",
       "  <thead>\n",
       "    <tr style=\"text-align: right;\">\n",
       "      <th></th>\n",
       "      <th>emiasid</th>\n",
       "      <th>date</th>\n",
       "      <th>status</th>\n",
       "      <th>old_comment</th>\n",
       "      <th>next_call_date</th>\n",
       "      <th>mo</th>\n",
       "      <th>priority</th>\n",
       "    </tr>\n",
       "  </thead>\n",
       "  <tbody>\n",
       "    <tr>\n",
       "      <th>0</th>\n",
       "      <td>17964068</td>\n",
       "      <td>2022-09-06</td>\n",
       "      <td>Перенос звонка на другой день</td>\n",
       "      <td>NaN</td>\n",
       "      <td>2022-09-12</td>\n",
       "      <td>ГП 191</td>\n",
       "      <td>1</td>\n",
       "    </tr>\n",
       "    <tr>\n",
       "      <th>1</th>\n",
       "      <td>20760137</td>\n",
       "      <td>2022-09-07</td>\n",
       "      <td>Перенос звонка на другой день</td>\n",
       "      <td>NaN</td>\n",
       "      <td>2022-09-12</td>\n",
       "      <td>ГП 191</td>\n",
       "      <td>1</td>\n",
       "    </tr>\n",
       "    <tr>\n",
       "      <th>2</th>\n",
       "      <td>18937089</td>\n",
       "      <td>2022-09-07</td>\n",
       "      <td>Перенос звонка на другой день</td>\n",
       "      <td>NaN</td>\n",
       "      <td>2022-09-12</td>\n",
       "      <td>ГП 191</td>\n",
       "      <td>1</td>\n",
       "    </tr>\n",
       "    <tr>\n",
       "      <th>3</th>\n",
       "      <td>19660098</td>\n",
       "      <td>2022-09-02</td>\n",
       "      <td>Перенос звонка на другой день</td>\n",
       "      <td>NaN</td>\n",
       "      <td>2022-09-12</td>\n",
       "      <td>ГП 191</td>\n",
       "      <td>1</td>\n",
       "    </tr>\n",
       "    <tr>\n",
       "      <th>4</th>\n",
       "      <td>19328512</td>\n",
       "      <td>2022-09-07</td>\n",
       "      <td>Перенос звонка на другой день</td>\n",
       "      <td>NaN</td>\n",
       "      <td>2022-09-12</td>\n",
       "      <td>ГП 191</td>\n",
       "      <td>1</td>\n",
       "    </tr>\n",
       "    <tr>\n",
       "      <th>...</th>\n",
       "      <td>...</td>\n",
       "      <td>...</td>\n",
       "      <td>...</td>\n",
       "      <td>...</td>\n",
       "      <td>...</td>\n",
       "      <td>...</td>\n",
       "      <td>...</td>\n",
       "    </tr>\n",
       "    <tr>\n",
       "      <th>3509</th>\n",
       "      <td>30000007812151</td>\n",
       "      <td>2022-09-09</td>\n",
       "      <td>Ни разу не звонили</td>\n",
       "      <td>NaN</td>\n",
       "      <td>NaT</td>\n",
       "      <td>ГП 45</td>\n",
       "      <td>3</td>\n",
       "    </tr>\n",
       "    <tr>\n",
       "      <th>3510</th>\n",
       "      <td>30000007761049</td>\n",
       "      <td>2022-09-09</td>\n",
       "      <td>Ни разу не звонили</td>\n",
       "      <td>NaN</td>\n",
       "      <td>NaT</td>\n",
       "      <td>ГП 45</td>\n",
       "      <td>3</td>\n",
       "    </tr>\n",
       "    <tr>\n",
       "      <th>3511</th>\n",
       "      <td>30000000824807</td>\n",
       "      <td>2022-09-09</td>\n",
       "      <td>Ни разу не звонили</td>\n",
       "      <td>NaN</td>\n",
       "      <td>NaT</td>\n",
       "      <td>ГП 45</td>\n",
       "      <td>3</td>\n",
       "    </tr>\n",
       "    <tr>\n",
       "      <th>3512</th>\n",
       "      <td>30000000556772</td>\n",
       "      <td>2022-09-09</td>\n",
       "      <td>Ни разу не звонили</td>\n",
       "      <td>NaN</td>\n",
       "      <td>NaT</td>\n",
       "      <td>ГП 45</td>\n",
       "      <td>3</td>\n",
       "    </tr>\n",
       "    <tr>\n",
       "      <th>3513</th>\n",
       "      <td>30000004070955</td>\n",
       "      <td>2022-09-09</td>\n",
       "      <td>Ни разу не звонили</td>\n",
       "      <td>NaN</td>\n",
       "      <td>NaT</td>\n",
       "      <td>ГП 45</td>\n",
       "      <td>3</td>\n",
       "    </tr>\n",
       "  </tbody>\n",
       "</table>\n",
       "<p>3514 rows × 7 columns</p>\n",
       "</div>"
      ],
      "text/plain": [
       "             emiasid        date                         status old_comment  \\\n",
       "0           17964068  2022-09-06  Перенос звонка на другой день         NaN   \n",
       "1           20760137  2022-09-07  Перенос звонка на другой день         NaN   \n",
       "2           18937089  2022-09-07  Перенос звонка на другой день         NaN   \n",
       "3           19660098  2022-09-02  Перенос звонка на другой день         NaN   \n",
       "4           19328512  2022-09-07  Перенос звонка на другой день         NaN   \n",
       "...              ...         ...                            ...         ...   \n",
       "3509  30000007812151  2022-09-09             Ни разу не звонили         NaN   \n",
       "3510  30000007761049  2022-09-09             Ни разу не звонили         NaN   \n",
       "3511  30000000824807  2022-09-09             Ни разу не звонили         NaN   \n",
       "3512  30000000556772  2022-09-09             Ни разу не звонили         NaN   \n",
       "3513  30000004070955  2022-09-09             Ни разу не звонили         NaN   \n",
       "\n",
       "     next_call_date      mo  priority  \n",
       "0        2022-09-12  ГП 191         1  \n",
       "1        2022-09-12  ГП 191         1  \n",
       "2        2022-09-12  ГП 191         1  \n",
       "3        2022-09-12  ГП 191         1  \n",
       "4        2022-09-12  ГП 191         1  \n",
       "...             ...     ...       ...  \n",
       "3509            NaT   ГП 45         3  \n",
       "3510            NaT   ГП 45         3  \n",
       "3511            NaT   ГП 45         3  \n",
       "3512            NaT   ГП 45         3  \n",
       "3513            NaT   ГП 45         3  \n",
       "\n",
       "[3514 rows x 7 columns]"
      ]
     },
     "execution_count": 125,
     "metadata": {},
     "output_type": "execute_result"
    }
   ],
   "source": [
    "additional_task_for_present_assistants"
   ]
  },
  {
   "cell_type": "code",
   "execution_count": 126,
   "id": "3fc05a8b",
   "metadata": {},
   "outputs": [],
   "source": [
    "final_task_predistribution = \\\n",
    "pd.concat([initial_task_for_today_present_assistants, additional_task_for_present_assistants]).reset_index(drop=True)"
   ]
  },
  {
   "cell_type": "code",
   "execution_count": 162,
   "id": "e111fbba",
   "metadata": {},
   "outputs": [
    {
     "data": {
      "text/plain": [
       "2468"
      ]
     },
     "execution_count": 162,
     "metadata": {},
     "output_type": "execute_result"
    }
   ],
   "source": [
    "empty_login_patients_amount_before = final_task_predistribution[final_task_predistribution.login.isna()].shape[0]\n",
    "empty_login_patients_amount_before"
   ]
  },
  {
   "cell_type": "code",
   "execution_count": 158,
   "id": "14ad774f",
   "metadata": {},
   "outputs": [],
   "source": [
    "final_task_predistribution.to_excel('task_today.xlsx', index=False)"
   ]
  },
  {
   "cell_type": "code",
   "execution_count": 159,
   "id": "4091bccb",
   "metadata": {},
   "outputs": [],
   "source": [
    "final_task_predistribution = pd.read_excel('task_today.xlsx')"
   ]
  },
  {
   "cell_type": "code",
   "execution_count": 160,
   "id": "650e69ab",
   "metadata": {},
   "outputs": [
    {
     "name": "stdout",
     "output_type": "stream",
     "text": [
      "CPU times: total: 4.25 s\n",
      "Wall time: 4.26 s\n"
     ]
    }
   ],
   "source": [
    "%%time\n",
    "\n",
    "for mo in distribution_count.index:\n",
    "    \n",
    "    while final_task_predistribution[final_task_predistribution.mo == mo].groupby('login') \\\n",
    "    .agg({'emiasid': 'count'}).min()['emiasid'] < 90 and \\\n",
    "    final_task_predistribution[(final_task_predistribution.login.isna()) & (final_task_predistribution.mo == mo)] \\\n",
    "    .shape[0] > 0:\n",
    "        \n",
    "        miminal_in_mo_assistant_emiasid_amount = final_task_predistribution[final_task_predistribution.mo == mo] \\\n",
    "        .groupby('login').agg({'emiasid': 'count'}).min()['emiasid']\n",
    "\n",
    "        minimal_in_mo_emiasid_amount_login = final_task_predistribution[final_task_predistribution.mo == mo] \\\n",
    "        .groupby('login').agg({'emiasid': 'count'}).sort_values(by='emiasid').index[0]\n",
    "        \n",
    "        \n",
    "        empty_login_in_mo_index = final_task_predistribution[\n",
    "            (final_task_predistribution.login.isna()) & (final_task_predistribution.mo == mo)\n",
    "        ].index[0]\n",
    "\n",
    "        final_task_predistribution.loc[empty_login_in_mo_index, 'login'] = minimal_in_mo_emiasid_amount_login\n"
   ]
  },
  {
   "cell_type": "code",
   "execution_count": 163,
   "id": "0f2c344a",
   "metadata": {},
   "outputs": [
    {
     "data": {
      "text/plain": [
       "2468"
      ]
     },
     "execution_count": 163,
     "metadata": {},
     "output_type": "execute_result"
    }
   ],
   "source": [
    "empty_login_patients_amount_after = final_task_predistribution[final_task_predistribution.login.isna()].shape[0]\n",
    "empty_login_patients_amount_after"
   ]
  },
  {
   "cell_type": "code",
   "execution_count": 164,
   "id": "b2b0e146",
   "metadata": {},
   "outputs": [],
   "source": [
    "check_table = distribution_count.merge(additional_task_for_present_assistants_by_mo,left_index=True, right_index=True) \\\n",
    "[['total_delta', 'emiasid_y']]"
   ]
  },
  {
   "cell_type": "code",
   "execution_count": 165,
   "id": "9680ffa0",
   "metadata": {},
   "outputs": [],
   "source": [
    "check_table.loc[check_table['total_delta'] > check_table['emiasid_y'], 'real_addition'] = \\\n",
    "check_table.loc[check_table['total_delta'] > check_table['emiasid_y'], 'emiasid_y']\n",
    "\n",
    "check_table.loc[check_table['total_delta'] <= check_table['emiasid_y'], 'real_addition'] = \\\n",
    "check_table.loc[check_table['total_delta'] <= check_table['emiasid_y'], 'total_delta']"
   ]
  },
  {
   "cell_type": "code",
   "execution_count": 166,
   "id": "1fe8f17d",
   "metadata": {},
   "outputs": [
    {
     "data": {
      "text/plain": [
       "2386.0"
      ]
     },
     "execution_count": 166,
     "metadata": {},
     "output_type": "execute_result"
    }
   ],
   "source": [
    "real_change_of_emty_login_patients_amount = check_table.real_addition.sum()\n",
    "real_change_of_emty_login_patients_amount"
   ]
  },
  {
   "cell_type": "code",
   "execution_count": 167,
   "id": "63ec6182",
   "metadata": {},
   "outputs": [
    {
     "data": {
      "text/plain": [
       "False"
      ]
     },
     "execution_count": 167,
     "metadata": {},
     "output_type": "execute_result"
    }
   ],
   "source": [
    "empty_login_patients_amount_before - empty_login_patients_amount_after == real_change_of_emty_login_patients_amount"
   ]
  },
  {
   "cell_type": "code",
   "execution_count": 168,
   "id": "942e3c5e",
   "metadata": {},
   "outputs": [],
   "source": [
    "final_task_distribution = final_task_predistribution[~final_task_predistribution.login.isna()] \\\n",
    ".copy().reset_index(drop=True)"
   ]
  },
  {
   "cell_type": "code",
   "execution_count": 169,
   "id": "f26194b6",
   "metadata": {},
   "outputs": [
    {
     "data": {
      "text/plain": [
       "11498"
      ]
     },
     "execution_count": 169,
     "metadata": {},
     "output_type": "execute_result"
    }
   ],
   "source": [
    "final_task_distribution.shape[0]"
   ]
  },
  {
   "cell_type": "code",
   "execution_count": 170,
   "id": "2c6be748",
   "metadata": {},
   "outputs": [
    {
     "data": {
      "text/plain": [
       "Index(['emiasid', 'mo', 'doctor_fio', 'status', 'date_statuses_changed',\n",
       "       'next_call_date', 'old_comment', 'call_date', 'login', 'priority',\n",
       "       'date', 'phone', 'Количество населения на ДН', 'ФИО помощника врача'],\n",
       "      dtype='object')"
      ]
     },
     "execution_count": 170,
     "metadata": {},
     "output_type": "execute_result"
    }
   ],
   "source": [
    "final_task_distribution.columns"
   ]
  },
  {
   "cell_type": "code",
   "execution_count": null,
   "id": "057ecfc2",
   "metadata": {},
   "outputs": [],
   "source": []
  },
  {
   "cell_type": "markdown",
   "id": "46be88eb",
   "metadata": {},
   "source": [
    "# ПРОВЕРКА"
   ]
  },
  {
   "cell_type": "code",
   "execution_count": 171,
   "id": "bc9c9f1f",
   "metadata": {},
   "outputs": [
    {
     "data": {
      "text/plain": [
       "54"
      ]
     },
     "execution_count": 171,
     "metadata": {},
     "output_type": "execute_result"
    }
   ],
   "source": [
    "assistants_presence[assistants_presence.absence == 1].shape[0]"
   ]
  },
  {
   "cell_type": "code",
   "execution_count": 172,
   "id": "6a40d41f",
   "metadata": {},
   "outputs": [
    {
     "data": {
      "text/plain": [
       "2468"
      ]
     },
     "execution_count": 172,
     "metadata": {},
     "output_type": "execute_result"
    }
   ],
   "source": [
    "empty_login_patients_amount_before"
   ]
  },
  {
   "cell_type": "code",
   "execution_count": 173,
   "id": "8e784d27",
   "metadata": {},
   "outputs": [
    {
     "data": {
      "text/plain": [
       "2468"
      ]
     },
     "execution_count": 173,
     "metadata": {},
     "output_type": "execute_result"
    }
   ],
   "source": [
    "empty_login_patients_amount_after"
   ]
  },
  {
   "cell_type": "code",
   "execution_count": 174,
   "id": "47d77050",
   "metadata": {},
   "outputs": [
    {
     "data": {
      "text/plain": [
       "2386.0"
      ]
     },
     "execution_count": 174,
     "metadata": {},
     "output_type": "execute_result"
    }
   ],
   "source": [
    "real_change_of_emty_login_patients_amount"
   ]
  },
  {
   "cell_type": "code",
   "execution_count": 175,
   "id": "b1b5c7a5",
   "metadata": {},
   "outputs": [
    {
     "data": {
      "text/plain": [
       "False"
      ]
     },
     "execution_count": 175,
     "metadata": {},
     "output_type": "execute_result"
    }
   ],
   "source": [
    "empty_login_patients_amount_before - empty_login_patients_amount_after == real_change_of_emty_login_patients_amount"
   ]
  },
  {
   "cell_type": "code",
   "execution_count": null,
   "id": "d91651fd",
   "metadata": {},
   "outputs": [],
   "source": []
  },
  {
   "cell_type": "code",
   "execution_count": 176,
   "id": "3993d6e6",
   "metadata": {},
   "outputs": [
    {
     "data": {
      "text/plain": [
       "13966"
      ]
     },
     "execution_count": 176,
     "metadata": {},
     "output_type": "execute_result"
    }
   ],
   "source": [
    "final_task_distribution.shape[0] + empty_login_patients_amount_after"
   ]
  },
  {
   "cell_type": "code",
   "execution_count": 177,
   "id": "19f45216",
   "metadata": {},
   "outputs": [
    {
     "data": {
      "text/plain": [
       "13966"
      ]
     },
     "execution_count": 177,
     "metadata": {},
     "output_type": "execute_result"
    }
   ],
   "source": [
    "initial_task_for_today.shape[0] \n",
    "# + new_doctor_patients.shape[0]"
   ]
  },
  {
   "cell_type": "code",
   "execution_count": null,
   "id": "1ab81f5f",
   "metadata": {},
   "outputs": [],
   "source": []
  },
  {
   "cell_type": "code",
   "execution_count": null,
   "id": "12aceefb",
   "metadata": {},
   "outputs": [],
   "source": []
  },
  {
   "cell_type": "code",
   "execution_count": 178,
   "id": "87b3572a",
   "metadata": {},
   "outputs": [
    {
     "data": {
      "text/plain": [
       "array([False])"
      ]
     },
     "execution_count": 178,
     "metadata": {},
     "output_type": "execute_result"
    }
   ],
   "source": [
    "final_task_distribution.emiasid.isin(\n",
    "    patients_current_statuses.emiasid).unique()"
   ]
  },
  {
   "cell_type": "code",
   "execution_count": 179,
   "id": "3b81703a",
   "metadata": {},
   "outputs": [
    {
     "data": {
      "text/plain": [
       "array([False])"
      ]
     },
     "execution_count": 179,
     "metadata": {},
     "output_type": "execute_result"
    }
   ],
   "source": [
    "final_task_distribution[final_task_distribution.status == 'Ни разу не звонили'].emiasid.isin(calls_data.emiasid).unique()"
   ]
  },
  {
   "cell_type": "code",
   "execution_count": 180,
   "id": "683ca7b6",
   "metadata": {},
   "outputs": [
    {
     "data": {
      "text/plain": [
       "array([False])"
      ]
     },
     "execution_count": 180,
     "metadata": {},
     "output_type": "execute_result"
    }
   ],
   "source": [
    "final_task_distribution[~(final_task_distribution.status == 'Ни разу не звонили')].emiasid.isin(calls_data.emiasid).unique()"
   ]
  },
  {
   "cell_type": "code",
   "execution_count": null,
   "id": "f781f651",
   "metadata": {},
   "outputs": [],
   "source": []
  },
  {
   "cell_type": "code",
   "execution_count": 181,
   "id": "4f1fd912",
   "metadata": {},
   "outputs": [
    {
     "ename": "NameError",
     "evalue": "name 'call_back_today_patients' is not defined",
     "output_type": "error",
     "traceback": [
      "\u001b[1;31m---------------------------------------------------------------------------\u001b[0m",
      "\u001b[1;31mNameError\u001b[0m                                 Traceback (most recent call last)",
      "Input \u001b[1;32mIn [181]\u001b[0m, in \u001b[0;36m<cell line: 1>\u001b[1;34m()\u001b[0m\n\u001b[1;32m----> 1\u001b[0m \u001b[43mcall_back_today_patients\u001b[49m\u001b[38;5;241m.\u001b[39mshape[\u001b[38;5;241m0\u001b[39m]\n",
      "\u001b[1;31mNameError\u001b[0m: name 'call_back_today_patients' is not defined"
     ]
    }
   ],
   "source": [
    "call_back_today_patients.shape[0]"
   ]
  },
  {
   "cell_type": "code",
   "execution_count": 182,
   "id": "46d08db4",
   "metadata": {},
   "outputs": [],
   "source": [
    "# call_backs_overdue.shape[0]"
   ]
  },
  {
   "cell_type": "code",
   "execution_count": 183,
   "id": "14866cdf",
   "metadata": {},
   "outputs": [
    {
     "data": {
      "text/plain": [
       "4"
      ]
     },
     "execution_count": 183,
     "metadata": {},
     "output_type": "execute_result"
    }
   ],
   "source": [
    "final_task_distribution[final_task_distribution.status == 'Перезвонить сегодня'].shape[0]"
   ]
  },
  {
   "cell_type": "code",
   "execution_count": 184,
   "id": "1a7e5826",
   "metadata": {},
   "outputs": [
    {
     "data": {
      "text/plain": [
       "2663"
      ]
     },
     "execution_count": 184,
     "metadata": {},
     "output_type": "execute_result"
    }
   ],
   "source": [
    "final_task_distribution[final_task_distribution.status == 'Перенос звонка на другой день'].shape[0]"
   ]
  },
  {
   "cell_type": "code",
   "execution_count": 185,
   "id": "388b26be",
   "metadata": {},
   "outputs": [],
   "source": [
    "final_task_distribution = final_task_distribution.rename(columns={'login': 'operator_login'})"
   ]
  },
  {
   "cell_type": "code",
   "execution_count": 186,
   "id": "caf2d1c9",
   "metadata": {},
   "outputs": [],
   "source": [
    "final_task_distribution = final_task_distribution.rename(columns={'last_comment': 'old_comment'})"
   ]
  },
  {
   "cell_type": "code",
   "execution_count": 187,
   "id": "12e6cbbf",
   "metadata": {},
   "outputs": [],
   "source": [
    "final_task_distribution['next_call_date'] = today.date()"
   ]
  },
  {
   "cell_type": "code",
   "execution_count": 188,
   "id": "03cb6de6",
   "metadata": {},
   "outputs": [
    {
     "data": {
      "text/plain": [
       "11498"
      ]
     },
     "execution_count": 188,
     "metadata": {},
     "output_type": "execute_result"
    }
   ],
   "source": [
    "final_task_distribution.shape[0]"
   ]
  },
  {
   "cell_type": "code",
   "execution_count": 189,
   "id": "ce61b8aa",
   "metadata": {},
   "outputs": [
    {
     "data": {
      "text/html": [
       "<div>\n",
       "<style scoped>\n",
       "    .dataframe tbody tr th:only-of-type {\n",
       "        vertical-align: middle;\n",
       "    }\n",
       "\n",
       "    .dataframe tbody tr th {\n",
       "        vertical-align: top;\n",
       "    }\n",
       "\n",
       "    .dataframe thead th {\n",
       "        text-align: right;\n",
       "    }\n",
       "</style>\n",
       "<table border=\"1\" class=\"dataframe\">\n",
       "  <thead>\n",
       "    <tr style=\"text-align: right;\">\n",
       "      <th></th>\n",
       "      <th>emiasid</th>\n",
       "      <th>mo</th>\n",
       "      <th>doctor_fio</th>\n",
       "      <th>status</th>\n",
       "      <th>date_statuses_changed</th>\n",
       "      <th>next_call_date</th>\n",
       "      <th>old_comment</th>\n",
       "      <th>call_date</th>\n",
       "      <th>operator_login</th>\n",
       "      <th>priority</th>\n",
       "      <th>date</th>\n",
       "      <th>phone</th>\n",
       "      <th>Количество населения на ДН</th>\n",
       "      <th>ФИО помощника врача</th>\n",
       "    </tr>\n",
       "  </thead>\n",
       "  <tbody>\n",
       "    <tr>\n",
       "      <th>0</th>\n",
       "      <td>24630819</td>\n",
       "      <td>ДЦ 5</td>\n",
       "      <td>NaN</td>\n",
       "      <td>Перенос звонка на другой день</td>\n",
       "      <td>NaN</td>\n",
       "      <td>2022-09-12</td>\n",
       "      <td>NaN</td>\n",
       "      <td>NaN</td>\n",
       "      <td>pomoshnik_pdn172</td>\n",
       "      <td>1</td>\n",
       "      <td>2022-09-09</td>\n",
       "      <td>NaN</td>\n",
       "      <td>NaN</td>\n",
       "      <td>NaN</td>\n",
       "    </tr>\n",
       "    <tr>\n",
       "      <th>1</th>\n",
       "      <td>16940469</td>\n",
       "      <td>ДЦ 5</td>\n",
       "      <td>NaN</td>\n",
       "      <td>Перенос звонка на другой день</td>\n",
       "      <td>NaN</td>\n",
       "      <td>2022-09-12</td>\n",
       "      <td>NaN</td>\n",
       "      <td>NaN</td>\n",
       "      <td>pomoshnik_pdn172</td>\n",
       "      <td>1</td>\n",
       "      <td>2022-09-06</td>\n",
       "      <td>NaN</td>\n",
       "      <td>NaN</td>\n",
       "      <td>NaN</td>\n",
       "    </tr>\n",
       "    <tr>\n",
       "      <th>2</th>\n",
       "      <td>21733288</td>\n",
       "      <td>ДЦ 5</td>\n",
       "      <td>NaN</td>\n",
       "      <td>Перенос звонка на другой день</td>\n",
       "      <td>NaN</td>\n",
       "      <td>2022-09-12</td>\n",
       "      <td>NaN</td>\n",
       "      <td>NaN</td>\n",
       "      <td>pomoshnik_pdn172</td>\n",
       "      <td>1</td>\n",
       "      <td>2022-09-02</td>\n",
       "      <td>NaN</td>\n",
       "      <td>NaN</td>\n",
       "      <td>NaN</td>\n",
       "    </tr>\n",
       "    <tr>\n",
       "      <th>3</th>\n",
       "      <td>22018559</td>\n",
       "      <td>ДЦ 5</td>\n",
       "      <td>NaN</td>\n",
       "      <td>Перенос звонка на другой день</td>\n",
       "      <td>NaN</td>\n",
       "      <td>2022-09-12</td>\n",
       "      <td>NaN</td>\n",
       "      <td>NaN</td>\n",
       "      <td>pomoshnik_pdn172</td>\n",
       "      <td>1</td>\n",
       "      <td>2022-09-02</td>\n",
       "      <td>NaN</td>\n",
       "      <td>NaN</td>\n",
       "      <td>NaN</td>\n",
       "    </tr>\n",
       "    <tr>\n",
       "      <th>4</th>\n",
       "      <td>18961714</td>\n",
       "      <td>ДЦ 5</td>\n",
       "      <td>NaN</td>\n",
       "      <td>Перенос звонка на другой день</td>\n",
       "      <td>NaN</td>\n",
       "      <td>2022-09-12</td>\n",
       "      <td>NaN</td>\n",
       "      <td>NaN</td>\n",
       "      <td>pomoshnik_pdn172</td>\n",
       "      <td>1</td>\n",
       "      <td>2022-09-07</td>\n",
       "      <td>NaN</td>\n",
       "      <td>NaN</td>\n",
       "      <td>NaN</td>\n",
       "    </tr>\n",
       "    <tr>\n",
       "      <th>...</th>\n",
       "      <td>...</td>\n",
       "      <td>...</td>\n",
       "      <td>...</td>\n",
       "      <td>...</td>\n",
       "      <td>...</td>\n",
       "      <td>...</td>\n",
       "      <td>...</td>\n",
       "      <td>...</td>\n",
       "      <td>...</td>\n",
       "      <td>...</td>\n",
       "      <td>...</td>\n",
       "      <td>...</td>\n",
       "      <td>...</td>\n",
       "      <td>...</td>\n",
       "    </tr>\n",
       "    <tr>\n",
       "      <th>11493</th>\n",
       "      <td>30000000683167</td>\n",
       "      <td>КДП 121</td>\n",
       "      <td>NaN</td>\n",
       "      <td>Ни разу не звонили</td>\n",
       "      <td>NaN</td>\n",
       "      <td>2022-09-12</td>\n",
       "      <td>NaN</td>\n",
       "      <td>NaN</td>\n",
       "      <td>pomoshnik_pdn12</td>\n",
       "      <td>3</td>\n",
       "      <td>2022-09-09</td>\n",
       "      <td>NaN</td>\n",
       "      <td>NaN</td>\n",
       "      <td>NaN</td>\n",
       "    </tr>\n",
       "    <tr>\n",
       "      <th>11494</th>\n",
       "      <td>30000000741062</td>\n",
       "      <td>КДП 121</td>\n",
       "      <td>NaN</td>\n",
       "      <td>Ни разу не звонили</td>\n",
       "      <td>NaN</td>\n",
       "      <td>2022-09-12</td>\n",
       "      <td>NaN</td>\n",
       "      <td>NaN</td>\n",
       "      <td>pomoshnik_pdn122</td>\n",
       "      <td>3</td>\n",
       "      <td>2022-09-09</td>\n",
       "      <td>NaN</td>\n",
       "      <td>NaN</td>\n",
       "      <td>NaN</td>\n",
       "    </tr>\n",
       "    <tr>\n",
       "      <th>11495</th>\n",
       "      <td>30000008798935</td>\n",
       "      <td>КДП 121</td>\n",
       "      <td>NaN</td>\n",
       "      <td>Ни разу не звонили</td>\n",
       "      <td>NaN</td>\n",
       "      <td>2022-09-12</td>\n",
       "      <td>NaN</td>\n",
       "      <td>NaN</td>\n",
       "      <td>pomoshnik_pdn122</td>\n",
       "      <td>3</td>\n",
       "      <td>2022-09-09</td>\n",
       "      <td>NaN</td>\n",
       "      <td>NaN</td>\n",
       "      <td>NaN</td>\n",
       "    </tr>\n",
       "    <tr>\n",
       "      <th>11496</th>\n",
       "      <td>6176487933036</td>\n",
       "      <td>КДП 121</td>\n",
       "      <td>NaN</td>\n",
       "      <td>Ни разу не звонили</td>\n",
       "      <td>NaN</td>\n",
       "      <td>2022-09-12</td>\n",
       "      <td>NaN</td>\n",
       "      <td>NaN</td>\n",
       "      <td>pomoshnik_pdn179</td>\n",
       "      <td>3</td>\n",
       "      <td>2022-09-09</td>\n",
       "      <td>NaN</td>\n",
       "      <td>NaN</td>\n",
       "      <td>NaN</td>\n",
       "    </tr>\n",
       "    <tr>\n",
       "      <th>11497</th>\n",
       "      <td>30000007942605</td>\n",
       "      <td>КДП 121</td>\n",
       "      <td>NaN</td>\n",
       "      <td>Ни разу не звонили</td>\n",
       "      <td>NaN</td>\n",
       "      <td>2022-09-12</td>\n",
       "      <td>NaN</td>\n",
       "      <td>NaN</td>\n",
       "      <td>pomoshnik_pdn260</td>\n",
       "      <td>3</td>\n",
       "      <td>2022-09-09</td>\n",
       "      <td>NaN</td>\n",
       "      <td>NaN</td>\n",
       "      <td>NaN</td>\n",
       "    </tr>\n",
       "  </tbody>\n",
       "</table>\n",
       "<p>11498 rows × 14 columns</p>\n",
       "</div>"
      ],
      "text/plain": [
       "              emiasid       mo doctor_fio                         status  \\\n",
       "0            24630819     ДЦ 5        NaN  Перенос звонка на другой день   \n",
       "1            16940469     ДЦ 5        NaN  Перенос звонка на другой день   \n",
       "2            21733288     ДЦ 5        NaN  Перенос звонка на другой день   \n",
       "3            22018559     ДЦ 5        NaN  Перенос звонка на другой день   \n",
       "4            18961714     ДЦ 5        NaN  Перенос звонка на другой день   \n",
       "...               ...      ...        ...                            ...   \n",
       "11493  30000000683167  КДП 121        NaN             Ни разу не звонили   \n",
       "11494  30000000741062  КДП 121        NaN             Ни разу не звонили   \n",
       "11495  30000008798935  КДП 121        NaN             Ни разу не звонили   \n",
       "11496   6176487933036  КДП 121        NaN             Ни разу не звонили   \n",
       "11497  30000007942605  КДП 121        NaN             Ни разу не звонили   \n",
       "\n",
       "      date_statuses_changed next_call_date old_comment call_date  \\\n",
       "0                       NaN     2022-09-12         NaN       NaN   \n",
       "1                       NaN     2022-09-12         NaN       NaN   \n",
       "2                       NaN     2022-09-12         NaN       NaN   \n",
       "3                       NaN     2022-09-12         NaN       NaN   \n",
       "4                       NaN     2022-09-12         NaN       NaN   \n",
       "...                     ...            ...         ...       ...   \n",
       "11493                   NaN     2022-09-12         NaN       NaN   \n",
       "11494                   NaN     2022-09-12         NaN       NaN   \n",
       "11495                   NaN     2022-09-12         NaN       NaN   \n",
       "11496                   NaN     2022-09-12         NaN       NaN   \n",
       "11497                   NaN     2022-09-12         NaN       NaN   \n",
       "\n",
       "         operator_login  priority       date  phone  \\\n",
       "0      pomoshnik_pdn172         1 2022-09-09    NaN   \n",
       "1      pomoshnik_pdn172         1 2022-09-06    NaN   \n",
       "2      pomoshnik_pdn172         1 2022-09-02    NaN   \n",
       "3      pomoshnik_pdn172         1 2022-09-02    NaN   \n",
       "4      pomoshnik_pdn172         1 2022-09-07    NaN   \n",
       "...                 ...       ...        ...    ...   \n",
       "11493   pomoshnik_pdn12         3 2022-09-09    NaN   \n",
       "11494  pomoshnik_pdn122         3 2022-09-09    NaN   \n",
       "11495  pomoshnik_pdn122         3 2022-09-09    NaN   \n",
       "11496  pomoshnik_pdn179         3 2022-09-09    NaN   \n",
       "11497  pomoshnik_pdn260         3 2022-09-09    NaN   \n",
       "\n",
       "       Количество населения на ДН ФИО помощника врача  \n",
       "0                             NaN                 NaN  \n",
       "1                             NaN                 NaN  \n",
       "2                             NaN                 NaN  \n",
       "3                             NaN                 NaN  \n",
       "4                             NaN                 NaN  \n",
       "...                           ...                 ...  \n",
       "11493                         NaN                 NaN  \n",
       "11494                         NaN                 NaN  \n",
       "11495                         NaN                 NaN  \n",
       "11496                         NaN                 NaN  \n",
       "11497                         NaN                 NaN  \n",
       "\n",
       "[11498 rows x 14 columns]"
      ]
     },
     "execution_count": 189,
     "metadata": {},
     "output_type": "execute_result"
    }
   ],
   "source": [
    "final_task_distribution"
   ]
  },
  {
   "cell_type": "code",
   "execution_count": 190,
   "id": "ac380ee3",
   "metadata": {},
   "outputs": [
    {
     "data": {
      "text/html": [
       "<div>\n",
       "<style scoped>\n",
       "    .dataframe tbody tr th:only-of-type {\n",
       "        vertical-align: middle;\n",
       "    }\n",
       "\n",
       "    .dataframe tbody tr th {\n",
       "        vertical-align: top;\n",
       "    }\n",
       "\n",
       "    .dataframe thead th {\n",
       "        text-align: right;\n",
       "    }\n",
       "</style>\n",
       "<table border=\"1\" class=\"dataframe\">\n",
       "  <thead>\n",
       "    <tr style=\"text-align: right;\">\n",
       "      <th></th>\n",
       "      <th>emiasid</th>\n",
       "    </tr>\n",
       "    <tr>\n",
       "      <th>operator_login</th>\n",
       "      <th></th>\n",
       "    </tr>\n",
       "  </thead>\n",
       "  <tbody>\n",
       "    <tr>\n",
       "      <th>pomoshnik_pdn253</th>\n",
       "      <td>6</td>\n",
       "    </tr>\n",
       "    <tr>\n",
       "      <th>pomoshnik_pdn199</th>\n",
       "      <td>6</td>\n",
       "    </tr>\n",
       "    <tr>\n",
       "      <th>pomoshnik_pdn210</th>\n",
       "      <td>7</td>\n",
       "    </tr>\n",
       "    <tr>\n",
       "      <th>pomoshnik_pdn57</th>\n",
       "      <td>7</td>\n",
       "    </tr>\n",
       "    <tr>\n",
       "      <th>pomoshnik_pdn237</th>\n",
       "      <td>10</td>\n",
       "    </tr>\n",
       "    <tr>\n",
       "      <th>pomoshnik_pdn200</th>\n",
       "      <td>10</td>\n",
       "    </tr>\n",
       "    <tr>\n",
       "      <th>pomoshnik_pdn282</th>\n",
       "      <td>11</td>\n",
       "    </tr>\n",
       "    <tr>\n",
       "      <th>pomoshnik_pdn265</th>\n",
       "      <td>12</td>\n",
       "    </tr>\n",
       "    <tr>\n",
       "      <th>pomoshnik_pdn239</th>\n",
       "      <td>12</td>\n",
       "    </tr>\n",
       "    <tr>\n",
       "      <th>pomoshnik_pdn240</th>\n",
       "      <td>12</td>\n",
       "    </tr>\n",
       "    <tr>\n",
       "      <th>pomoshnik_pdn202</th>\n",
       "      <td>13</td>\n",
       "    </tr>\n",
       "    <tr>\n",
       "      <th>pomoshnik_pdn238</th>\n",
       "      <td>14</td>\n",
       "    </tr>\n",
       "    <tr>\n",
       "      <th>pomoshnik_pdn29</th>\n",
       "      <td>15</td>\n",
       "    </tr>\n",
       "    <tr>\n",
       "      <th>pomoshnik_pdn69</th>\n",
       "      <td>15</td>\n",
       "    </tr>\n",
       "    <tr>\n",
       "      <th>pomoshnik_pdn64</th>\n",
       "      <td>17</td>\n",
       "    </tr>\n",
       "    <tr>\n",
       "      <th>pomoshnik_pdn217</th>\n",
       "      <td>17</td>\n",
       "    </tr>\n",
       "    <tr>\n",
       "      <th>pomoshnik_pdn270</th>\n",
       "      <td>17</td>\n",
       "    </tr>\n",
       "    <tr>\n",
       "      <th>pomoshnik_pdn244</th>\n",
       "      <td>18</td>\n",
       "    </tr>\n",
       "    <tr>\n",
       "      <th>pomoshnik_pdn25</th>\n",
       "      <td>18</td>\n",
       "    </tr>\n",
       "    <tr>\n",
       "      <th>pomoshnik_pdn18</th>\n",
       "      <td>18</td>\n",
       "    </tr>\n",
       "    <tr>\n",
       "      <th>pomoshnik_pdn125</th>\n",
       "      <td>18</td>\n",
       "    </tr>\n",
       "    <tr>\n",
       "      <th>pomoshnik_pdn91</th>\n",
       "      <td>18</td>\n",
       "    </tr>\n",
       "    <tr>\n",
       "      <th>pomoshnik_pdn242</th>\n",
       "      <td>21</td>\n",
       "    </tr>\n",
       "    <tr>\n",
       "      <th>pomoshnik_pdn73</th>\n",
       "      <td>23</td>\n",
       "    </tr>\n",
       "    <tr>\n",
       "      <th>pomoshnik_pdn96</th>\n",
       "      <td>24</td>\n",
       "    </tr>\n",
       "    <tr>\n",
       "      <th>pomoshnik_pdn35</th>\n",
       "      <td>24</td>\n",
       "    </tr>\n",
       "    <tr>\n",
       "      <th>pomoshnik_pdn27</th>\n",
       "      <td>24</td>\n",
       "    </tr>\n",
       "    <tr>\n",
       "      <th>pomoshnik_pdn72</th>\n",
       "      <td>24</td>\n",
       "    </tr>\n",
       "    <tr>\n",
       "      <th>pomoshnik_pdn26</th>\n",
       "      <td>26</td>\n",
       "    </tr>\n",
       "    <tr>\n",
       "      <th>pomoshnik_pdn66</th>\n",
       "      <td>26</td>\n",
       "    </tr>\n",
       "  </tbody>\n",
       "</table>\n",
       "</div>"
      ],
      "text/plain": [
       "                  emiasid\n",
       "operator_login           \n",
       "pomoshnik_pdn253        6\n",
       "pomoshnik_pdn199        6\n",
       "pomoshnik_pdn210        7\n",
       "pomoshnik_pdn57         7\n",
       "pomoshnik_pdn237       10\n",
       "pomoshnik_pdn200       10\n",
       "pomoshnik_pdn282       11\n",
       "pomoshnik_pdn265       12\n",
       "pomoshnik_pdn239       12\n",
       "pomoshnik_pdn240       12\n",
       "pomoshnik_pdn202       13\n",
       "pomoshnik_pdn238       14\n",
       "pomoshnik_pdn29        15\n",
       "pomoshnik_pdn69        15\n",
       "pomoshnik_pdn64        17\n",
       "pomoshnik_pdn217       17\n",
       "pomoshnik_pdn270       17\n",
       "pomoshnik_pdn244       18\n",
       "pomoshnik_pdn25        18\n",
       "pomoshnik_pdn18        18\n",
       "pomoshnik_pdn125       18\n",
       "pomoshnik_pdn91        18\n",
       "pomoshnik_pdn242       21\n",
       "pomoshnik_pdn73        23\n",
       "pomoshnik_pdn96        24\n",
       "pomoshnik_pdn35        24\n",
       "pomoshnik_pdn27        24\n",
       "pomoshnik_pdn72        24\n",
       "pomoshnik_pdn26        26\n",
       "pomoshnik_pdn66        26"
      ]
     },
     "execution_count": 190,
     "metadata": {},
     "output_type": "execute_result"
    }
   ],
   "source": [
    "final_task_distribution.groupby('operator_login').agg({'emiasid': 'count'}).sort_values(by=['emiasid']).head(30)"
   ]
  },
  {
   "cell_type": "code",
   "execution_count": 191,
   "id": "cd29bc33",
   "metadata": {},
   "outputs": [
    {
     "data": {
      "text/plain": [
       "Index(['emiasid', 'mo', 'doctor_fio', 'status', 'date_statuses_changed',\n",
       "       'next_call_date', 'old_comment', 'call_date', 'operator_login',\n",
       "       'priority', 'date', 'phone', 'Количество населения на ДН',\n",
       "       'ФИО помощника врача'],\n",
       "      dtype='object')"
      ]
     },
     "execution_count": 191,
     "metadata": {},
     "output_type": "execute_result"
    }
   ],
   "source": [
    "final_task_distribution.columns"
   ]
  },
  {
   "cell_type": "code",
   "execution_count": 192,
   "id": "90d11955",
   "metadata": {},
   "outputs": [],
   "source": [
    "final_task_distribution.to_excel(rf'call_back__september_final_task_distribution_{today_y_m_d}.xlsx', index=False)"
   ]
  },
  {
   "cell_type": "code",
   "execution_count": 193,
   "id": "6ba20cdb",
   "metadata": {},
   "outputs": [],
   "source": [
    "final_task_distribution.to_excel(rf'september_final_task_distribution_{today_y_m_d}.xlsx', index=False)"
   ]
  },
  {
   "cell_type": "code",
   "execution_count": null,
   "id": "a5f6432a",
   "metadata": {},
   "outputs": [],
   "source": [
    "assistants_presence"
   ]
  },
  {
   "cell_type": "code",
   "execution_count": null,
   "id": "058aa7ae",
   "metadata": {},
   "outputs": [],
   "source": []
  }
 ],
 "metadata": {
  "kernelspec": {
   "display_name": "Python 3 (ipykernel)",
   "language": "python",
   "name": "python3"
  },
  "language_info": {
   "codemirror_mode": {
    "name": "ipython",
    "version": 3
   },
   "file_extension": ".py",
   "mimetype": "text/x-python",
   "name": "python",
   "nbconvert_exporter": "python",
   "pygments_lexer": "ipython3",
   "version": "3.10.4"
  }
 },
 "nbformat": 4,
 "nbformat_minor": 5
}
