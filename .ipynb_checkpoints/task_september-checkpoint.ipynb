{
 "cells": [
  {
   "cell_type": "code",
   "execution_count": 1,
   "id": "46b622c0",
   "metadata": {},
   "outputs": [],
   "source": [
    "import os\n",
    "import pandas as pd\n",
    "import datetime as dt\n",
    "import numpy as np\n",
    "import re"
   ]
  },
  {
   "cell_type": "code",
   "execution_count": 2,
   "id": "fe673d61",
   "metadata": {},
   "outputs": [],
   "source": [
    "column_names = {'Emiasid': 'emiasid', 'Emiasid ': 'emiasid' , 'emiasid ': 'emiasid', 'EMIAS_ID': 'emiasid', 'МО': 'mo', \n",
    "                'МУ': 'mu', 'Логин оператора': 'login', 'Дата и время звонка': 'call_date', 'Результат звонка': 'call_result',\n",
    "                'Результат звонка ': 'call_result', 'Разговор состоялся': 'talk_result', 'Комменатрий': 'comment', \n",
    "                'Дата и время переноса': 'next_call_date', 'Контактный телефон': 'phone_number', 'ФИО врача': 'doctor_fio', \n",
    "                'ФИО помощника врача': 'assistant_fio', 'Логин помощника врача': 'login', 'Зал №': 'hall_number',\n",
    "                'Логин naumen': 'login', 'МО закрепления': 'mo', 'Отсутствует на рабочем месте': 'absence'}"
   ]
  },
  {
   "cell_type": "code",
   "execution_count": 3,
   "id": "2775ffd9",
   "metadata": {},
   "outputs": [
    {
     "name": "stdout",
     "output_type": "stream",
     "text": [
      "2022_09_16\n"
     ]
    }
   ],
   "source": [
    "today = pd.Timestamp(dt.datetime.today().date())\n",
    "today_ymd = today.strftime('%Y%m%d')\n",
    "today_y_m_d = today.strftime('%Y_%m_%d')\n",
    "\n",
    "yesterday = today - dt.timedelta(days=1)\n",
    "yesterday_ymd = yesterday.strftime('%Y%m%d')\n",
    "yesterday_y_m_d = yesterday.strftime('%Y-%m-%d')\n",
    "\n",
    "tomorrow = today + dt.timedelta(days=1)\n",
    "tomorrow_ymd = tomorrow.strftime('%Y%m%d')\n",
    "tomorrow_y_m_d = tomorrow.strftime('%Y-%m-%d')\n",
    "\n",
    "print(today_y_m_d)"
   ]
  },
  {
   "cell_type": "code",
   "execution_count": null,
   "id": "5a018e64",
   "metadata": {},
   "outputs": [],
   "source": []
  },
  {
   "cell_type": "code",
   "execution_count": 4,
   "id": "ad9e64be",
   "metadata": {},
   "outputs": [
    {
     "name": "stdout",
     "output_type": "stream",
     "text": [
      "C:\\\\Users\\murad_satabaev\\Documents\\GitHub\\final_framework\\merged_statuses\\total_patients_current_statuses_merged_with_logins_2022_09_16.xlsx\n"
     ]
    }
   ],
   "source": [
    "# путь файла с текущими статусами пациентов\n",
    "patients_current_statuses_path = \\\n",
    "r'\\Users\\murad_satabaev\\Documents\\GitHub\\final_framework\\merged_statuses'\n",
    "\n",
    "patients_current_statuses_path = patients_current_statuses_path.split('\\\\')\n",
    "patients_current_statuses_data = os.path.join('C:\\\\', r'\\\\', *patients_current_statuses_path,\n",
    "                                             f'total_patients_current_statuses_merged_with_logins_{today_y_m_d}.xlsx')\n",
    "print(patients_current_statuses_data)"
   ]
  },
  {
   "cell_type": "code",
   "execution_count": null,
   "id": "51866654",
   "metadata": {},
   "outputs": [],
   "source": []
  },
  {
   "cell_type": "code",
   "execution_count": 5,
   "id": "e5ed60c6",
   "metadata": {},
   "outputs": [
    {
     "name": "stdout",
     "output_type": "stream",
     "text": [
      "\\\\t999\\Сетевой диск\\pdn\\data\\emias_data\\xlsx\n"
     ]
    }
   ],
   "source": [
    "# путь файла с сегодняшними \n",
    "emias_data_path = r'\\\\t999\\Сетевой диск\\pdn\\data\\emias_data\\xlsx'\n",
    "emias_data_path = emias_data_path.split('\\\\')\n",
    "emias_data_path = os.path.join(r'\\\\', *emias_data_path)\n",
    "print(emias_data_path)"
   ]
  },
  {
   "cell_type": "code",
   "execution_count": null,
   "id": "486ef970",
   "metadata": {},
   "outputs": [],
   "source": []
  },
  {
   "cell_type": "code",
   "execution_count": 6,
   "id": "2cccbb11",
   "metadata": {},
   "outputs": [
    {
     "name": "stdout",
     "output_type": "stream",
     "text": [
      "\\\\t999\\Сетевой диск\\pdn\\data\\emias_data\\xlsx\\DAT_4059_выгрузка_списков_на_обзвон_помощниками_2022-09-16.xlsx\n"
     ]
    }
   ],
   "source": [
    "today_emias_data_path = [os.path.join(emias_data_path, filename) for filename in os.listdir(emias_data_path) if '4059' \n",
    "                         in filename and '~' not in filename and today.strftime('%Y-%m-%d') in filename][0]\n",
    "print(today_emias_data_path)"
   ]
  },
  {
   "cell_type": "code",
   "execution_count": null,
   "id": "756c9df2",
   "metadata": {},
   "outputs": [],
   "source": []
  },
  {
   "cell_type": "code",
   "execution_count": 7,
   "id": "0281f145",
   "metadata": {},
   "outputs": [],
   "source": [
    "# чтение всех файлов по отдельности, чтобы не тратить время на повторное чтение файла, который уже прочитан"
   ]
  },
  {
   "cell_type": "code",
   "execution_count": 8,
   "id": "c7667db9",
   "metadata": {},
   "outputs": [
    {
     "data": {
      "text/plain": [
       "97319"
      ]
     },
     "execution_count": 8,
     "metadata": {},
     "output_type": "execute_result"
    }
   ],
   "source": [
    "today_emias_data_reading = pd.read_excel(today_emias_data_path)\n",
    "today_emias_data_reading.shape[0]"
   ]
  },
  {
   "cell_type": "code",
   "execution_count": null,
   "id": "ef42d90b",
   "metadata": {},
   "outputs": [],
   "source": []
  },
  {
   "cell_type": "code",
   "execution_count": 9,
   "id": "073f584d",
   "metadata": {},
   "outputs": [
    {
     "data": {
      "text/plain": [
       "109888"
      ]
     },
     "execution_count": 9,
     "metadata": {},
     "output_type": "execute_result"
    }
   ],
   "source": [
    "patients_current_statuses_reading = pd.read_excel(patients_current_statuses_data)\n",
    "patients_current_statuses_reading.shape[0]"
   ]
  },
  {
   "cell_type": "code",
   "execution_count": null,
   "id": "2fbf907a",
   "metadata": {},
   "outputs": [],
   "source": []
  },
  {
   "cell_type": "code",
   "execution_count": null,
   "id": "9c6273b1",
   "metadata": {},
   "outputs": [],
   "source": []
  },
  {
   "cell_type": "code",
   "execution_count": null,
   "id": "512a7164",
   "metadata": {},
   "outputs": [],
   "source": []
  },
  {
   "cell_type": "code",
   "execution_count": 27,
   "id": "5ba235b9",
   "metadata": {
    "scrolled": true
   },
   "outputs": [
    {
     "name": "stdout",
     "output_type": "stream",
     "text": [
      "2022-09-16 09:13:07.738639\n",
      "217\n"
     ]
    }
   ],
   "source": [
    "import gspread\n",
    "from gspread_dataframe import get_as_dataframe\n",
    "gc = gspread.service_account(filename='google_sheets_credentials.json') \n",
    "url = 'https://docs.google.com/spreadsheets/d/1TXjbk9tRDMCjEyyiuK5OIgT8xwlHQ2V1PX2zaVnxPXY/edit#gid=0'\n",
    "sh = gc.open_by_url(url)\n",
    "ws = sh.get_worksheet(0)\n",
    "def search_row(ws, desired_value):\n",
    "    row_number = 0\n",
    "    for row in ws.get_all_values():\n",
    "        row_number += 1\n",
    "        for value in row:\n",
    "            if value == desired_value:\n",
    "                return row_number\n",
    "            \n",
    "skiprows = search_row(ws, 'ФИО помощника врача') - 1\n",
    "\n",
    "assistants_presence_reading = get_as_dataframe(ws, evaluate_formulas=True, skiprows=skiprows)\n",
    "assistants_presence_reading = assistants_presence_reading.loc[~(assistants_presence_reading['Зал №'] == 'Зал №'), \n",
    "    ['Зал №', 'МО закрепления', 'ФИО помощника врача', 'Логин naumen', 'Отсутствует на рабочем месте']] \\\n",
    "        .dropna(how='all', axis=0)\n",
    "\n",
    "\n",
    "print(dt.datetime.now())\n",
    "print(assistants_presence_reading.shape[0])\n",
    "\n",
    "assistants_presence = assistants_presence_reading.rename(columns=column_names).copy()"
   ]
  },
  {
   "cell_type": "code",
   "execution_count": 28,
   "id": "62ef8a60",
   "metadata": {
    "scrolled": true
   },
   "outputs": [
    {
     "name": "stdout",
     "output_type": "stream",
     "text": [
      "\n",
      "В сумме количество отсуствующих и присутствующих равны общему количеству помощников\n",
      "\n"
     ]
    }
   ],
   "source": [
    "if assistants_presence[assistants_presence.absence.isna()].login.nunique() + \\\n",
    "assistants_presence[assistants_presence.absence == 1].login.nunique() == assistants_presence.login.nunique():\n",
    "    print('\\nВ сумме количество отсуствующих и присутствующих равны общему количеству помощников\\n')\n",
    "else:\n",
    "    print(5 * '\\nПРОВЕРЬТЕ ТАБЛИЦУ ОТСУТСТВУЮЩИХ И ПРИСУТСТВУЮЩИХ\\n!!!\\n')"
   ]
  },
  {
   "cell_type": "code",
   "execution_count": 29,
   "id": "a4934b67",
   "metadata": {},
   "outputs": [
    {
     "name": "stdout",
     "output_type": "stream",
     "text": [
      "164\n",
      "53\n"
     ]
    }
   ],
   "source": [
    "present_assistants = assistants_presence[assistants_presence.absence.isna()]\n",
    "print(present_assistants.shape[0])\n",
    "absent_assistants = assistants_presence[~assistants_presence.absence.isna()]\n",
    "print(absent_assistants.shape[0])"
   ]
  },
  {
   "cell_type": "code",
   "execution_count": null,
   "id": "197a2065",
   "metadata": {},
   "outputs": [],
   "source": []
  },
  {
   "cell_type": "code",
   "execution_count": null,
   "id": "2739fb1d",
   "metadata": {},
   "outputs": [],
   "source": []
  },
  {
   "cell_type": "code",
   "execution_count": null,
   "id": "4b8afc6b",
   "metadata": {},
   "outputs": [],
   "source": []
  },
  {
   "cell_type": "code",
   "execution_count": null,
   "id": "849d2c5f",
   "metadata": {},
   "outputs": [],
   "source": []
  },
  {
   "cell_type": "code",
   "execution_count": 30,
   "id": "a6d5b879",
   "metadata": {},
   "outputs": [],
   "source": [
    "patients_current_statuses = patients_current_statuses_reading.rename(columns=column_names).copy()"
   ]
  },
  {
   "cell_type": "code",
   "execution_count": 31,
   "id": "efa1d87b",
   "metadata": {},
   "outputs": [],
   "source": [
    "today_emias_data = today_emias_data_reading.rename(columns=column_names)"
   ]
  },
  {
   "cell_type": "code",
   "execution_count": 32,
   "id": "0cb16a0b",
   "metadata": {},
   "outputs": [
    {
     "name": "stderr",
     "output_type": "stream",
     "text": [
      "C:\\Users\\murad_satabaev\\AppData\\Local\\Temp\\ipykernel_6132\\1251941699.py:2: FutureWarning: The default value of regex will change from True to False in a future version.\n",
      "  patients_current_statuses['emiasid'] = patients_current_statuses['emiasid'].astype(str).str.replace('\\.0', '')\n"
     ]
    }
   ],
   "source": [
    "patients_current_statuses = patients_current_statuses_reading.rename(columns=column_names).copy()\n",
    "patients_current_statuses['emiasid'] = patients_current_statuses['emiasid'].astype(str).str.replace('\\.0', '')\n",
    "patients_current_statuses['next_call_date'] = patients_current_statuses['next_call_date'] \\\n",
    ".apply(lambda x: pd.to_datetime(x, dayfirst=True).date())\n",
    "patients_current_statuses['last_call_date'] = patients_current_statuses['last_call_date'] \\\n",
    ".apply(lambda x: pd.to_datetime(x, dayfirst=True).date())"
   ]
  },
  {
   "cell_type": "code",
   "execution_count": null,
   "id": "7944daaf",
   "metadata": {},
   "outputs": [],
   "source": []
  },
  {
   "cell_type": "code",
   "execution_count": null,
   "id": "c82383ed",
   "metadata": {},
   "outputs": [],
   "source": []
  },
  {
   "cell_type": "code",
   "execution_count": null,
   "id": "65de920b",
   "metadata": {},
   "outputs": [],
   "source": []
  },
  {
   "cell_type": "code",
   "execution_count": null,
   "id": "86656396",
   "metadata": {},
   "outputs": [],
   "source": [
    "# Переведем все типы данных емиасайди, телефоны и прочие числовые данные в строки"
   ]
  },
  {
   "cell_type": "code",
   "execution_count": 33,
   "id": "6c79f091",
   "metadata": {
    "scrolled": true
   },
   "outputs": [
    {
     "name": "stderr",
     "output_type": "stream",
     "text": [
      "C:\\Users\\murad_satabaev\\AppData\\Local\\Temp\\ipykernel_6132\\3971369908.py:1: FutureWarning: The default value of regex will change from True to False in a future version.\n",
      "  today_emias_data['emiasid'] = today_emias_data['emiasid'].astype(str).str.replace('\\.0', '')\n",
      "C:\\Users\\murad_satabaev\\AppData\\Local\\Temp\\ipykernel_6132\\3971369908.py:2: FutureWarning: The default value of regex will change from True to False in a future version.\n",
      "  today_emias_data['phone'] = today_emias_data['phone'].astype(str).str.replace('\\.0', '')\n"
     ]
    }
   ],
   "source": [
    "today_emias_data['emiasid'] = today_emias_data['emiasid'].astype(str).str.replace('\\.0', '')\n",
    "today_emias_data['phone'] = today_emias_data['phone'].astype(str).str.replace('\\.0', '')"
   ]
  },
  {
   "cell_type": "code",
   "execution_count": null,
   "id": "7c5391ec",
   "metadata": {},
   "outputs": [],
   "source": []
  },
  {
   "cell_type": "code",
   "execution_count": null,
   "id": "ca2712ee",
   "metadata": {},
   "outputs": [],
   "source": []
  },
  {
   "cell_type": "code",
   "execution_count": 34,
   "id": "7d6edfb7",
   "metadata": {},
   "outputs": [
    {
     "name": "stdout",
     "output_type": "stream",
     "text": [
      "\\\\t999\\Сетевой диск\\pdn\\data\\assistant_to_doctor_distribution_path\n"
     ]
    }
   ],
   "source": [
    "# путь папки с раскреплением\n",
    "assistant_to_doctor_distribution_path = \\\n",
    "r'\\\\t999\\Сетевой диск\\pdn\\data\\assistant_to_doctor_distribution_path'\n",
    "assistant_to_doctor_distribution_path = \\\n",
    "assistant_to_doctor_distribution_path.split('\\\\')\n",
    "assistant_to_doctor_distribution_path = \\\n",
    "os.path.join(r'\\\\', *assistant_to_doctor_distribution_path)\n",
    "print(assistant_to_doctor_distribution_path)"
   ]
  },
  {
   "cell_type": "code",
   "execution_count": 35,
   "id": "1185502d",
   "metadata": {},
   "outputs": [
    {
     "name": "stdout",
     "output_type": "stream",
     "text": [
      "\\\\t999\\Сетевой диск\\pdn\\data\\assistant_to_doctor_distribution_path\\september_patient_to_assistant_distribution.xlsx\n"
     ]
    }
   ],
   "source": [
    "september_assistant_to_doctor_distribution_path = [os.path.join(assistant_to_doctor_distribution_path, filename) for filename \n",
    "                                         in os.listdir(assistant_to_doctor_distribution_path) if '~' not in filename\n",
    "                                        and 'september' in filename]\n",
    "september_assistant_to_doctor_distribution_path.sort(key=lambda x: os.path.getctime(x))\n",
    "september_assistant_to_doctor_distribution_path = september_assistant_to_doctor_distribution_path[-1]\n",
    "print(september_assistant_to_doctor_distribution_path)"
   ]
  },
  {
   "cell_type": "code",
   "execution_count": 36,
   "id": "4396de10",
   "metadata": {},
   "outputs": [],
   "source": [
    "september_assistant_to_doctor_distribution = pd.read_excel(september_assistant_to_doctor_distribution_path, \n",
    "                                    usecols=['login', 'emiasid', 'mo', 'doctor_fio'])[['emiasid', 'login', 'mo', 'doctor_fio']]"
   ]
  },
  {
   "cell_type": "code",
   "execution_count": 37,
   "id": "1038115e",
   "metadata": {},
   "outputs": [],
   "source": [
    "doctors_list = set(september_assistant_to_doctor_distribution.doctor_fio.unique())\n",
    "doctors_list.add(np.NaN)"
   ]
  },
  {
   "cell_type": "code",
   "execution_count": null,
   "id": "6c0d6480",
   "metadata": {},
   "outputs": [],
   "source": []
  },
  {
   "cell_type": "code",
   "execution_count": null,
   "id": "c592b782",
   "metadata": {},
   "outputs": [],
   "source": []
  },
  {
   "cell_type": "code",
   "execution_count": 38,
   "id": "d3c1d470",
   "metadata": {},
   "outputs": [
    {
     "data": {
      "text/plain": [
       "877"
      ]
     },
     "execution_count": 38,
     "metadata": {},
     "output_type": "execute_result"
    }
   ],
   "source": [
    "def find_phone_number(text):\n",
    "    \"\"\"Функция ищет номера телефонов в строке, фильтрует дефектные и возвращает один с приоритетом на мобильный\"\"\"\n",
    "    import re\n",
    "    defect_pattern = re.compile(r\"\"\"7[^94]\\d{9}|0{7,}|1{7,}|2{7,}|3{7,}|4{7,}|5{7,}|6{7,}|7{7,}|8{7,}|9{7,}\"\"\")\n",
    "    text = str(text)\n",
    "    text = ['7' + re.sub(r'\\D', '', x)[-10:] for x in re.split(r'[,;]', text)]\n",
    "    text = list(filter(lambda x: len(x) == 11, text))\n",
    "    text = list(filter(lambda x: False if re.search(defect_pattern, x) else True, text))\n",
    "    text = sorted(text, reverse=True)\n",
    "    text = ','.join(text)\n",
    "    text = re.search(r'(9\\d{9}|4\\d{9})', text)\n",
    "    if text:\n",
    "        text = text.group()\n",
    "    return text\n",
    "\n",
    "today_emias_data['phone_1'] = today_emias_data['phone'].apply(find_phone_number)\n",
    "today_emias_data[today_emias_data['phone_1'].isna()].shape[0]"
   ]
  },
  {
   "cell_type": "code",
   "execution_count": 39,
   "id": "290c160b",
   "metadata": {
    "scrolled": false
   },
   "outputs": [
    {
     "data": {
      "text/plain": [
       "97319"
      ]
     },
     "execution_count": 39,
     "metadata": {},
     "output_type": "execute_result"
    }
   ],
   "source": [
    "today_emias_data.shape[0]"
   ]
  },
  {
   "cell_type": "code",
   "execution_count": 40,
   "id": "c21484f7",
   "metadata": {},
   "outputs": [
    {
     "data": {
      "text/plain": [
       "109888"
      ]
     },
     "execution_count": 40,
     "metadata": {},
     "output_type": "execute_result"
    }
   ],
   "source": [
    "patients_current_statuses.shape[0]"
   ]
  },
  {
   "cell_type": "code",
   "execution_count": null,
   "id": "8dec207b",
   "metadata": {},
   "outputs": [],
   "source": []
  },
  {
   "cell_type": "code",
   "execution_count": 41,
   "id": "2948f88d",
   "metadata": {},
   "outputs": [],
   "source": [
    "exception = pd.read_excel('exception.xlsx')"
   ]
  },
  {
   "cell_type": "code",
   "execution_count": 42,
   "id": "a7e4e2c1",
   "metadata": {},
   "outputs": [
    {
     "name": "stderr",
     "output_type": "stream",
     "text": [
      "C:\\Users\\murad_satabaev\\AppData\\Local\\Temp\\ipykernel_6132\\4054622638.py:2: FutureWarning: The default value of regex will change from True to False in a future version.\n",
      "  exception['emiasid'] = exception['emiasid'].astype(str).str.replace('\\.0', '')\n"
     ]
    }
   ],
   "source": [
    "exception = exception.rename(columns=column_names)\n",
    "exception['emiasid'] = exception['emiasid'].astype(str).str.replace('\\.0', '')"
   ]
  },
  {
   "cell_type": "code",
   "execution_count": 279,
   "id": "5e2d70d7",
   "metadata": {},
   "outputs": [
    {
     "data": {
      "text/plain": [
       "372"
      ]
     },
     "execution_count": 279,
     "metadata": {},
     "output_type": "execute_result"
    }
   ],
   "source": [
    "exception.shape[0]"
   ]
  },
  {
   "cell_type": "code",
   "execution_count": 43,
   "id": "7758b694",
   "metadata": {},
   "outputs": [
    {
     "data": {
      "text/plain": [
       "array([nan, 'Нет прикрепления к врачу', 'Нет в сегодняшней выгрузке',\n",
       "       'Отсутствует номер', 'Нет прикрепления к МО', 'Смена МО',\n",
       "       'Смена МО на другую нашу'], dtype=object)"
      ]
     },
     "execution_count": 43,
     "metadata": {},
     "output_type": "execute_result"
    }
   ],
   "source": [
    "patients_current_statuses.problem.unique()"
   ]
  },
  {
   "cell_type": "code",
   "execution_count": 156,
   "id": "fa38a124",
   "metadata": {},
   "outputs": [
    {
     "data": {
      "text/plain": [
       "107837"
      ]
     },
     "execution_count": 156,
     "metadata": {},
     "output_type": "execute_result"
    }
   ],
   "source": [
    "actual_patients = \\\n",
    "patients_current_statuses[\n",
    "    (~(patients_current_statuses.problem.isin({\n",
    "    'Нет в сегодняшней выгрузке', 'Нет прикрепления к МО', 'Отсутствует номер', 'Смена МО', 'Смена МО на другую нашу'\n",
    "    })))\n",
    "    &\n",
    "    (~(patients_current_statuses.emiasid.isin(exception.emiasid)))\n",
    "]\n",
    "\n",
    "actual_patients.shape[0]"
   ]
  },
  {
   "cell_type": "code",
   "execution_count": 157,
   "id": "833dd1ee",
   "metadata": {},
   "outputs": [
    {
     "data": {
      "text/plain": [
       "109888"
      ]
     },
     "execution_count": 157,
     "metadata": {},
     "output_type": "execute_result"
    }
   ],
   "source": [
    "patients_current_statuses.shape[0]"
   ]
  },
  {
   "cell_type": "code",
   "execution_count": 158,
   "id": "d4b3468e",
   "metadata": {},
   "outputs": [
    {
     "data": {
      "text/plain": [
       "107837"
      ]
     },
     "execution_count": 158,
     "metadata": {},
     "output_type": "execute_result"
    }
   ],
   "source": [
    "actual_patients.shape[0]"
   ]
  },
  {
   "cell_type": "code",
   "execution_count": 159,
   "id": "d749569c",
   "metadata": {},
   "outputs": [
    {
     "data": {
      "text/plain": [
       "Не дозвонились                    41232\n",
       "Перенос звонка на другой день     30806\n",
       "Будет в Москве в другом месяце    14408\n",
       "Разговор состоялся                 6762\n",
       "Ни разу не звонили                 5357\n",
       "Запишется самостоятельно           4372\n",
       "Перезвонить сегодня                1741\n",
       "Пациент отрицает диагноз            867\n",
       "Отказ                               676\n",
       "Иная МО                             469\n",
       "Госпитализирован                    354\n",
       "Живет не в Москве                   282\n",
       "Патронаж                            202\n",
       "Некорректный номер                  114\n",
       "Не нравится врач                     94\n",
       "Другой врач в этой МО                32\n",
       "Не нравится МО                       19\n",
       "Cнят с ДН                            13\n",
       "Отсутствует номер                    12\n",
       "Умер                                  3\n",
       "Name: status, dtype: int64"
      ]
     },
     "execution_count": 159,
     "metadata": {},
     "output_type": "execute_result"
    }
   ],
   "source": [
    "actual_patients.status.value_counts()"
   ]
  },
  {
   "cell_type": "code",
   "execution_count": null,
   "id": "cb7ca117",
   "metadata": {},
   "outputs": [],
   "source": []
  },
  {
   "cell_type": "code",
   "execution_count": null,
   "id": "e2834762",
   "metadata": {},
   "outputs": [],
   "source": []
  },
  {
   "cell_type": "code",
   "execution_count": null,
   "id": "ac537157",
   "metadata": {},
   "outputs": [],
   "source": []
  },
  {
   "cell_type": "code",
   "execution_count": null,
   "id": "ff0b6b19",
   "metadata": {},
   "outputs": [],
   "source": []
  },
  {
   "cell_type": "code",
   "execution_count": null,
   "id": "60d7cf61",
   "metadata": {},
   "outputs": [],
   "source": []
  },
  {
   "cell_type": "code",
   "execution_count": null,
   "id": "34f4383c",
   "metadata": {},
   "outputs": [],
   "source": []
  },
  {
   "cell_type": "code",
   "execution_count": 160,
   "id": "545abe63",
   "metadata": {},
   "outputs": [
    {
     "name": "stderr",
     "output_type": "stream",
     "text": [
      "C:\\Users\\murad_satabaev\\AppData\\Local\\Temp\\ipykernel_6132\\3421971818.py:4: SettingWithCopyWarning: \n",
      "A value is trying to be set on a copy of a slice from a DataFrame.\n",
      "Try using .loc[row_indexer,col_indexer] = value instead\n",
      "\n",
      "See the caveats in the documentation: https://pandas.pydata.org/pandas-docs/stable/user_guide/indexing.html#returning-a-view-versus-a-copy\n",
      "  first_stage_patients['priority'] = 2\n"
     ]
    },
    {
     "data": {
      "text/plain": [
       "5357"
      ]
     },
     "execution_count": 160,
     "metadata": {},
     "output_type": "execute_result"
    }
   ],
   "source": [
    "first_stage_patients = \\\n",
    "actual_patients[actual_patients.status == 'Ни разу не звонили']\n",
    "\n",
    "first_stage_patients['priority'] = 2\n",
    "first_stage_patients.shape[0]"
   ]
  },
  {
   "cell_type": "code",
   "execution_count": 161,
   "id": "81c728ea",
   "metadata": {},
   "outputs": [
    {
     "name": "stderr",
     "output_type": "stream",
     "text": [
      "C:\\Users\\murad_satabaev\\AppData\\Local\\Temp\\ipykernel_6132\\1933833767.py:10: SettingWithCopyWarning: \n",
      "A value is trying to be set on a copy of a slice from a DataFrame.\n",
      "Try using .loc[row_indexer,col_indexer] = value instead\n",
      "\n",
      "See the caveats in the documentation: https://pandas.pydata.org/pandas-docs/stable/user_guide/indexing.html#returning-a-view-versus-a-copy\n",
      "  call_back_on_date_patients['priority'] = 1\n"
     ]
    },
    {
     "data": {
      "text/plain": [
       "5864"
      ]
     },
     "execution_count": 161,
     "metadata": {},
     "output_type": "execute_result"
    }
   ],
   "source": [
    "call_back_on_date_patients = \\\n",
    "actual_patients[\n",
    "    (actual_patients.next_call_date.isin({\n",
    "        dt.date(2022, 9, 14),\n",
    "        dt.date(2022, 9, 15),\n",
    "        dt.date(2022, 9, 16)\n",
    "    }))\n",
    "]\n",
    "\n",
    "call_back_on_date_patients['priority'] = 1\n",
    "call_back_on_date_patients.shape[0]"
   ]
  },
  {
   "cell_type": "code",
   "execution_count": 162,
   "id": "901cde61",
   "metadata": {},
   "outputs": [
    {
     "data": {
      "text/plain": [
       "4112"
      ]
     },
     "execution_count": 162,
     "metadata": {},
     "output_type": "execute_result"
    }
   ],
   "source": [
    "actual_patients[\n",
    "    (actual_patients.month == 'august')\n",
    "    &\n",
    "    (actual_patients.last_call_date < dt.date(2022, 9, 2))\n",
    "].shape[0]"
   ]
  },
  {
   "cell_type": "code",
   "execution_count": 163,
   "id": "e85e0b55",
   "metadata": {},
   "outputs": [
    {
     "data": {
      "text/plain": [
       "array(['Разговор состоялся', 'Нет ответа', 'Не дозвонились',\n",
       "       'Перенос звонка на другой день', 'Перезвонить сегодня', 'Занято',\n",
       "       'Отказ', 'Сброс', 'Информация о ДН', 'operator_rejected',\n",
       "       'Госпитализирован', 'Номер не существует', nan], dtype=object)"
      ]
     },
     "execution_count": 163,
     "metadata": {},
     "output_type": "execute_result"
    }
   ],
   "source": [
    "actual_patients.last_call_result.unique()"
   ]
  },
  {
   "cell_type": "code",
   "execution_count": 164,
   "id": "e958fd0c",
   "metadata": {},
   "outputs": [
    {
     "name": "stderr",
     "output_type": "stream",
     "text": [
      "C:\\Users\\murad_satabaev\\AppData\\Local\\Temp\\ipykernel_6132\\1560472559.py:10: SettingWithCopyWarning: \n",
      "A value is trying to be set on a copy of a slice from a DataFrame.\n",
      "Try using .loc[row_indexer,col_indexer] = value instead\n",
      "\n",
      "See the caveats in the documentation: https://pandas.pydata.org/pandas-docs/stable/user_guide/indexing.html#returning-a-view-versus-a-copy\n",
      "  august_patients['priority'] = 3\n"
     ]
    },
    {
     "data": {
      "text/plain": [
       "2222"
      ]
     },
     "execution_count": 164,
     "metadata": {},
     "output_type": "execute_result"
    }
   ],
   "source": [
    "august_patients = \\\n",
    "actual_patients[\n",
    "    (actual_patients.month == 'august')\n",
    "    &\n",
    "    (actual_patients.last_call_result != 'Перенос звонка на другой день')\n",
    "    &\n",
    "    (actual_patients.last_call_date < dt.date(2022, 9, 2))\n",
    "]\n",
    "\n",
    "august_patients['priority'] = 3\n",
    "august_patients.shape[0]"
   ]
  },
  {
   "cell_type": "code",
   "execution_count": 165,
   "id": "73f4c37a",
   "metadata": {},
   "outputs": [
    {
     "data": {
      "text/plain": [
       "datetime.date(2022, 9, 1)"
      ]
     },
     "execution_count": 165,
     "metadata": {},
     "output_type": "execute_result"
    }
   ],
   "source": [
    "august_patients.last_call_date.unique()[-1]"
   ]
  },
  {
   "cell_type": "code",
   "execution_count": null,
   "id": "e1f28647",
   "metadata": {},
   "outputs": [],
   "source": []
  },
  {
   "cell_type": "code",
   "execution_count": null,
   "id": "58d7449f",
   "metadata": {},
   "outputs": [],
   "source": []
  },
  {
   "cell_type": "code",
   "execution_count": 166,
   "id": "b14559dd",
   "metadata": {},
   "outputs": [
    {
     "name": "stdout",
     "output_type": "stream",
     "text": [
      "553\n"
     ]
    }
   ],
   "source": [
    "tomorrow_record_patients_set = set()\n",
    "for column in today_emias_data.columns[22:98:2]:\n",
    "    tomorrow_record_patients_set = \\\n",
    "    tomorrow_record_patients_set | set(today_emias_data[today_emias_data[f'{column}'] == tomorrow_y_m_d]\\\n",
    "                                   .emiasid.astype(str).unique())\n",
    "\n",
    "print(len(tomorrow_record_patients_set))"
   ]
  },
  {
   "cell_type": "code",
   "execution_count": 167,
   "id": "f2a71070",
   "metadata": {},
   "outputs": [
    {
     "name": "stdout",
     "output_type": "stream",
     "text": [
      "261\n"
     ]
    }
   ],
   "source": [
    "tomorrow_record_patients = patients_current_statuses[(patients_current_statuses.emiasid.isin(tomorrow_record_patients_set))\n",
    "& (~(patients_current_statuses.status.isin({'Ни разу не звонили'}))) & \n",
    "(patients_current_statuses.last_call_result != 'Перенос звонка на другой день')]\n",
    "print(tomorrow_record_patients.shape[0])"
   ]
  },
  {
   "cell_type": "code",
   "execution_count": 168,
   "id": "0706e183",
   "metadata": {
    "scrolled": true
   },
   "outputs": [
    {
     "name": "stderr",
     "output_type": "stream",
     "text": [
      "C:\\Users\\murad_satabaev\\AppData\\Local\\Temp\\ipykernel_6132\\1903791372.py:1: SettingWithCopyWarning: \n",
      "A value is trying to be set on a copy of a slice from a DataFrame.\n",
      "Try using .loc[row_indexer,col_indexer] = value instead\n",
      "\n",
      "See the caveats in the documentation: https://pandas.pydata.org/pandas-docs/stable/user_guide/indexing.html#returning-a-view-versus-a-copy\n",
      "  tomorrow_record_patients['priority'] = 4\n"
     ]
    }
   ],
   "source": [
    "tomorrow_record_patients['priority'] = 4"
   ]
  },
  {
   "cell_type": "code",
   "execution_count": 169,
   "id": "aa1d2093",
   "metadata": {},
   "outputs": [
    {
     "data": {
      "text/plain": [
       "Не дозвонились                    152\n",
       "Разговор состоялся                 72\n",
       "Будет в Москве в другом месяце     12\n",
       "Запишется самостоятельно           12\n",
       "Перезвонить сегодня                 5\n",
       "Госпитализирован                    2\n",
       "Пациент отрицает диагноз            2\n",
       "Отказ                               1\n",
       "Живет не в Москве                   1\n",
       "Не нравится врач                    1\n",
       "Другой врач в этой МО               1\n",
       "Name: status, dtype: int64"
      ]
     },
     "execution_count": 169,
     "metadata": {},
     "output_type": "execute_result"
    }
   ],
   "source": [
    "tomorrow_record_patients.status.value_counts()"
   ]
  },
  {
   "cell_type": "code",
   "execution_count": 170,
   "id": "f410c568",
   "metadata": {},
   "outputs": [
    {
     "name": "stderr",
     "output_type": "stream",
     "text": [
      "C:\\Users\\murad_satabaev\\AppData\\Local\\Temp\\ipykernel_6132\\672541353.py:1: SettingWithCopyWarning: \n",
      "A value is trying to be set on a copy of a slice from a DataFrame.\n",
      "Try using .loc[row_indexer,col_indexer] = value instead\n",
      "\n",
      "See the caveats in the documentation: https://pandas.pydata.org/pandas-docs/stable/user_guide/indexing.html#returning-a-view-versus-a-copy\n",
      "  tomorrow_record_patients['status'] = 'Напомнить'\n"
     ]
    }
   ],
   "source": [
    "tomorrow_record_patients['status'] = 'Напомнить'"
   ]
  },
  {
   "cell_type": "code",
   "execution_count": 171,
   "id": "412845c2",
   "metadata": {},
   "outputs": [
    {
     "name": "stderr",
     "output_type": "stream",
     "text": [
      "C:\\Users\\murad_satabaev\\AppData\\Local\\Temp\\ipykernel_6132\\1793606296.py:17: SettingWithCopyWarning: \n",
      "A value is trying to be set on a copy of a slice from a DataFrame.\n",
      "Try using .loc[row_indexer,col_indexer] = value instead\n",
      "\n",
      "See the caveats in the documentation: https://pandas.pydata.org/pandas-docs/stable/user_guide/indexing.html#returning-a-view-versus-a-copy\n",
      "  second_stage_patients['priority'] = 5\n"
     ]
    },
    {
     "data": {
      "text/plain": [
       "27582"
      ]
     },
     "execution_count": 171,
     "metadata": {},
     "output_type": "execute_result"
    }
   ],
   "source": [
    "second_stage_patients = \\\n",
    "actual_patients[\n",
    "    (actual_patients.status.isin({'Разговор состоялся', 'Не дозвонились', 'Другой врач в этой МО'\n",
    "                                'Запишется самостоятельно', 'Не нравится МО', 'Не нравится врач'}))\n",
    "    &\n",
    "    (~(actual_patients.emiasid.isin(call_back_on_date_patients.emiasid)))\n",
    "    &\n",
    "    (~(actual_patients.last_call_date.isin(\n",
    "        {\n",
    "        dt.date(2022, 9, 13),\n",
    "        dt.date(2022, 9, 14),\n",
    "        dt.date(2022, 9, 15)\n",
    "        }\n",
    "    )))\n",
    "]\n",
    "\n",
    "second_stage_patients['priority'] = 5\n",
    "\n",
    "second_stage_patients.shape[0]"
   ]
  },
  {
   "cell_type": "code",
   "execution_count": null,
   "id": "b9d51e2e",
   "metadata": {},
   "outputs": [],
   "source": []
  },
  {
   "cell_type": "code",
   "execution_count": null,
   "id": "859d2a5f",
   "metadata": {},
   "outputs": [],
   "source": []
  },
  {
   "cell_type": "code",
   "execution_count": 172,
   "id": "df705990",
   "metadata": {},
   "outputs": [
    {
     "data": {
      "text/plain": [
       "11221"
      ]
     },
     "execution_count": 172,
     "metadata": {},
     "output_type": "execute_result"
    }
   ],
   "source": [
    "final_actual_patients_for_task_ = pd.concat([\n",
    "    call_back_on_date_patients,\n",
    "    first_stage_patients,\n",
    "#     august_patients,\n",
    "#     second_stage_patients,\n",
    "#     tomorrow_record_patients\n",
    "]) \\\n",
    ".sort_values(['priority']).reset_index(drop=True)\n",
    "\n",
    "final_actual_patients_for_task_.shape[0]"
   ]
  },
  {
   "cell_type": "code",
   "execution_count": null,
   "id": "0da22817",
   "metadata": {},
   "outputs": [],
   "source": []
  },
  {
   "cell_type": "code",
   "execution_count": 173,
   "id": "79ccaaa8",
   "metadata": {},
   "outputs": [
    {
     "data": {
      "text/plain": [
       "11183"
      ]
     },
     "execution_count": 173,
     "metadata": {},
     "output_type": "execute_result"
    }
   ],
   "source": [
    "final_actual_patients_for_task = final_actual_patients_for_task_.drop_duplicates(subset=['phone_number'], keep='first')\n",
    "final_actual_patients_for_task.shape[0]"
   ]
  },
  {
   "cell_type": "code",
   "execution_count": 174,
   "id": "d65c3e02",
   "metadata": {},
   "outputs": [
    {
     "data": {
      "text/plain": [
       "11183"
      ]
     },
     "execution_count": 174,
     "metadata": {},
     "output_type": "execute_result"
    }
   ],
   "source": [
    "final_actual_patients_for_task = final_actual_patients_for_task.drop_duplicates(subset=['emiasid'], keep='first')\n",
    "final_actual_patients_for_task.shape[0]"
   ]
  },
  {
   "cell_type": "code",
   "execution_count": null,
   "id": "115c4048",
   "metadata": {},
   "outputs": [],
   "source": []
  },
  {
   "cell_type": "code",
   "execution_count": 175,
   "id": "50448630",
   "metadata": {},
   "outputs": [
    {
     "data": {
      "text/html": [
       "<div>\n",
       "<style scoped>\n",
       "    .dataframe tbody tr th:only-of-type {\n",
       "        vertical-align: middle;\n",
       "    }\n",
       "\n",
       "    .dataframe tbody tr th {\n",
       "        vertical-align: top;\n",
       "    }\n",
       "\n",
       "    .dataframe thead th {\n",
       "        text-align: right;\n",
       "    }\n",
       "</style>\n",
       "<table border=\"1\" class=\"dataframe\">\n",
       "  <thead>\n",
       "    <tr style=\"text-align: right;\">\n",
       "      <th></th>\n",
       "      <th>emiasid</th>\n",
       "      <th>operator_login</th>\n",
       "      <th>status</th>\n",
       "      <th>old_comment</th>\n",
       "      <th>next_call_date</th>\n",
       "      <th>mo</th>\n",
       "      <th>doctor_fio</th>\n",
       "      <th>phone_number</th>\n",
       "      <th>calls_amount</th>\n",
       "      <th>last_call_date</th>\n",
       "      <th>last_call_result</th>\n",
       "      <th>last_talk_result</th>\n",
       "      <th>group</th>\n",
       "      <th>problem</th>\n",
       "      <th>month</th>\n",
       "      <th>operator_absence</th>\n",
       "      <th>priority</th>\n",
       "    </tr>\n",
       "  </thead>\n",
       "  <tbody>\n",
       "    <tr>\n",
       "      <th>0</th>\n",
       "      <td>30547944</td>\n",
       "      <td>NaN</td>\n",
       "      <td>Будет в Москве в другом месяце</td>\n",
       "      <td>перезвонить, 14 09 контр прием</td>\n",
       "      <td>2022-09-14</td>\n",
       "      <td>ГП 218</td>\n",
       "      <td>NaN</td>\n",
       "      <td>9.169243e+09</td>\n",
       "      <td>2.0</td>\n",
       "      <td>2022-09-13</td>\n",
       "      <td>Перенос звонка на другой день</td>\n",
       "      <td>NaN</td>\n",
       "      <td>21.0</td>\n",
       "      <td>NaN</td>\n",
       "      <td>august</td>\n",
       "      <td>NaN</td>\n",
       "      <td>1</td>\n",
       "    </tr>\n",
       "    <tr>\n",
       "      <th>1</th>\n",
       "      <td>2244575182</td>\n",
       "      <td>pomoshnik_pdn174</td>\n",
       "      <td>Перенос звонка на другой день</td>\n",
       "      <td>перезвонить</td>\n",
       "      <td>2022-09-16</td>\n",
       "      <td>ГП 22</td>\n",
       "      <td>Грошева Нина Александровна</td>\n",
       "      <td>9.629044e+09</td>\n",
       "      <td>1.0</td>\n",
       "      <td>2022-09-09</td>\n",
       "      <td>Перенос звонка на другой день</td>\n",
       "      <td>NaN</td>\n",
       "      <td>11.0</td>\n",
       "      <td>NaN</td>\n",
       "      <td>september</td>\n",
       "      <td>1.0</td>\n",
       "      <td>1</td>\n",
       "    </tr>\n",
       "    <tr>\n",
       "      <th>2</th>\n",
       "      <td>30000009674518</td>\n",
       "      <td>pomoshnik_pdn230</td>\n",
       "      <td>Перенос звонка на другой день</td>\n",
       "      <td>перезвонить, была занята</td>\n",
       "      <td>2022-09-16</td>\n",
       "      <td>ГП 212</td>\n",
       "      <td>Милокост Инна Геннадиевна</td>\n",
       "      <td>9.039125e+09</td>\n",
       "      <td>1.0</td>\n",
       "      <td>2022-09-09</td>\n",
       "      <td>Перенос звонка на другой день</td>\n",
       "      <td>NaN</td>\n",
       "      <td>11.0</td>\n",
       "      <td>NaN</td>\n",
       "      <td>september</td>\n",
       "      <td>NaN</td>\n",
       "      <td>1</td>\n",
       "    </tr>\n",
       "  </tbody>\n",
       "</table>\n",
       "</div>"
      ],
      "text/plain": [
       "          emiasid    operator_login                          status  \\\n",
       "0        30547944               NaN  Будет в Москве в другом месяце   \n",
       "1      2244575182  pomoshnik_pdn174   Перенос звонка на другой день   \n",
       "2  30000009674518  pomoshnik_pdn230   Перенос звонка на другой день   \n",
       "\n",
       "                      old_comment next_call_date      mo  \\\n",
       "0  перезвонить, 14 09 контр прием     2022-09-14  ГП 218   \n",
       "1                     перезвонить     2022-09-16   ГП 22   \n",
       "2        перезвонить, была занята     2022-09-16  ГП 212   \n",
       "\n",
       "                   doctor_fio  phone_number  calls_amount last_call_date  \\\n",
       "0                         NaN  9.169243e+09           2.0     2022-09-13   \n",
       "1  Грошева Нина Александровна  9.629044e+09           1.0     2022-09-09   \n",
       "2   Милокост Инна Геннадиевна  9.039125e+09           1.0     2022-09-09   \n",
       "\n",
       "                last_call_result last_talk_result  group problem      month  \\\n",
       "0  Перенос звонка на другой день              NaN   21.0     NaN     august   \n",
       "1  Перенос звонка на другой день              NaN   11.0     NaN  september   \n",
       "2  Перенос звонка на другой день              NaN   11.0     NaN  september   \n",
       "\n",
       "   operator_absence  priority  \n",
       "0               NaN         1  \n",
       "1               1.0         1  \n",
       "2               NaN         1  "
      ]
     },
     "execution_count": 175,
     "metadata": {},
     "output_type": "execute_result"
    }
   ],
   "source": [
    "final_actual_patients_for_task.head(3)"
   ]
  },
  {
   "cell_type": "code",
   "execution_count": 176,
   "id": "1c7ac415",
   "metadata": {
    "scrolled": true
   },
   "outputs": [],
   "source": [
    "final_actual_patients_for_task = \\\n",
    "final_actual_patients_for_task[['emiasid', 'status', 'old_comment', 'operator_login', 'mo', 'doctor_fio', 'priority', 'calls_amount',\n",
    "                                'last_call_date', 'month']]"
   ]
  },
  {
   "cell_type": "code",
   "execution_count": 177,
   "id": "94460c1d",
   "metadata": {},
   "outputs": [
    {
     "name": "stderr",
     "output_type": "stream",
     "text": [
      "C:\\Users\\murad_satabaev\\AppData\\Local\\Temp\\ipykernel_6132\\2998909243.py:1: FutureWarning: The default value of regex will change from True to False in a future version.\n",
      "  final_actual_patients_for_task['emiasid'] = final_actual_patients_for_task['emiasid'].astype(str).str.replace('\\.0', '')\n"
     ]
    }
   ],
   "source": [
    "final_actual_patients_for_task['emiasid'] = final_actual_patients_for_task['emiasid'].astype(str).str.replace('\\.0', '')"
   ]
  },
  {
   "cell_type": "code",
   "execution_count": 178,
   "id": "9bcb7f84",
   "metadata": {},
   "outputs": [],
   "source": [
    "initial_assistant_to_patient_distribution_in_today_task = \\\n",
    "final_actual_patients_for_task.copy()"
   ]
  },
  {
   "cell_type": "code",
   "execution_count": 179,
   "id": "9b46607c",
   "metadata": {},
   "outputs": [
    {
     "data": {
      "text/plain": [
       "2524"
      ]
     },
     "execution_count": 179,
     "metadata": {},
     "output_type": "execute_result"
    }
   ],
   "source": [
    "initial_assistant_to_patient_distribution_in_today_task.old_comment.nunique()"
   ]
  },
  {
   "cell_type": "code",
   "execution_count": 180,
   "id": "e38063ad",
   "metadata": {
    "scrolled": false
   },
   "outputs": [
    {
     "data": {
      "text/html": [
       "<div>\n",
       "<style scoped>\n",
       "    .dataframe tbody tr th:only-of-type {\n",
       "        vertical-align: middle;\n",
       "    }\n",
       "\n",
       "    .dataframe tbody tr th {\n",
       "        vertical-align: top;\n",
       "    }\n",
       "\n",
       "    .dataframe thead th {\n",
       "        text-align: right;\n",
       "    }\n",
       "</style>\n",
       "<table border=\"1\" class=\"dataframe\">\n",
       "  <thead>\n",
       "    <tr style=\"text-align: right;\">\n",
       "      <th></th>\n",
       "      <th></th>\n",
       "      <th>emiasid</th>\n",
       "    </tr>\n",
       "    <tr>\n",
       "      <th>mo</th>\n",
       "      <th>operator_login</th>\n",
       "      <th></th>\n",
       "    </tr>\n",
       "  </thead>\n",
       "  <tbody>\n",
       "    <tr>\n",
       "      <th rowspan=\"7\" valign=\"top\">ГП 107</th>\n",
       "      <th>pomoshnik_pdn131</th>\n",
       "      <td>3</td>\n",
       "    </tr>\n",
       "    <tr>\n",
       "      <th>pomoshnik_pdn130</th>\n",
       "      <td>20</td>\n",
       "    </tr>\n",
       "    <tr>\n",
       "      <th>pomoshnik_pdn109</th>\n",
       "      <td>31</td>\n",
       "    </tr>\n",
       "    <tr>\n",
       "      <th>pomoshnik_pdn43</th>\n",
       "      <td>31</td>\n",
       "    </tr>\n",
       "    <tr>\n",
       "      <th>pomoshnik_pdn185</th>\n",
       "      <td>41</td>\n",
       "    </tr>\n",
       "    <tr>\n",
       "      <th>pomoshnik_pdn129</th>\n",
       "      <td>45</td>\n",
       "    </tr>\n",
       "    <tr>\n",
       "      <th>pomoshnik_pdn148</th>\n",
       "      <td>46</td>\n",
       "    </tr>\n",
       "    <tr>\n",
       "      <th rowspan=\"3\" valign=\"top\">ГП 109</th>\n",
       "      <th>pomoshnik_pdn155</th>\n",
       "      <td>12</td>\n",
       "    </tr>\n",
       "    <tr>\n",
       "      <th>pomoshnik_pdn134</th>\n",
       "      <td>35</td>\n",
       "    </tr>\n",
       "    <tr>\n",
       "      <th>pomoshnik_pdn168</th>\n",
       "      <td>73</td>\n",
       "    </tr>\n",
       "    <tr>\n",
       "      <th rowspan=\"4\" valign=\"top\">ГП 11</th>\n",
       "      <th>pomoshnik_pdn32</th>\n",
       "      <td>14</td>\n",
       "    </tr>\n",
       "    <tr>\n",
       "      <th>pomoshnik_pdn184</th>\n",
       "      <td>18</td>\n",
       "    </tr>\n",
       "    <tr>\n",
       "      <th>pomoshnik_pdn147</th>\n",
       "      <td>76</td>\n",
       "    </tr>\n",
       "    <tr>\n",
       "      <th>pomoshnik_pdn146</th>\n",
       "      <td>83</td>\n",
       "    </tr>\n",
       "    <tr>\n",
       "      <th rowspan=\"5\" valign=\"top\">ГП 134</th>\n",
       "      <th>pomoshnik_pdn7</th>\n",
       "      <td>33</td>\n",
       "    </tr>\n",
       "    <tr>\n",
       "      <th>pomoshnik_pdn75</th>\n",
       "      <td>36</td>\n",
       "    </tr>\n",
       "    <tr>\n",
       "      <th>pomoshnik_pdn89</th>\n",
       "      <td>37</td>\n",
       "    </tr>\n",
       "    <tr>\n",
       "      <th>pomoshnik_pdn93</th>\n",
       "      <td>58</td>\n",
       "    </tr>\n",
       "    <tr>\n",
       "      <th>pomoshnik_pdn63</th>\n",
       "      <td>65</td>\n",
       "    </tr>\n",
       "    <tr>\n",
       "      <th>ГП 166</th>\n",
       "      <th>pomoshnik_pdn209</th>\n",
       "      <td>44</td>\n",
       "    </tr>\n",
       "  </tbody>\n",
       "</table>\n",
       "</div>"
      ],
      "text/plain": [
       "                         emiasid\n",
       "mo     operator_login           \n",
       "ГП 107 pomoshnik_pdn131        3\n",
       "       pomoshnik_pdn130       20\n",
       "       pomoshnik_pdn109       31\n",
       "       pomoshnik_pdn43        31\n",
       "       pomoshnik_pdn185       41\n",
       "       pomoshnik_pdn129       45\n",
       "       pomoshnik_pdn148       46\n",
       "ГП 109 pomoshnik_pdn155       12\n",
       "       pomoshnik_pdn134       35\n",
       "       pomoshnik_pdn168       73\n",
       "ГП 11  pomoshnik_pdn32        14\n",
       "       pomoshnik_pdn184       18\n",
       "       pomoshnik_pdn147       76\n",
       "       pomoshnik_pdn146       83\n",
       "ГП 134 pomoshnik_pdn7         33\n",
       "       pomoshnik_pdn75        36\n",
       "       pomoshnik_pdn89        37\n",
       "       pomoshnik_pdn93        58\n",
       "       pomoshnik_pdn63        65\n",
       "ГП 166 pomoshnik_pdn209       44"
      ]
     },
     "execution_count": 180,
     "metadata": {},
     "output_type": "execute_result"
    }
   ],
   "source": [
    "initial_assistant_to_patient_distribution_in_today_task.groupby(['mo', 'operator_login']).agg({'emiasid': 'count'}).sort_values(\n",
    "    ['mo', 'emiasid']).head(20)"
   ]
  },
  {
   "cell_type": "code",
   "execution_count": null,
   "id": "f9ead447",
   "metadata": {},
   "outputs": [],
   "source": []
  },
  {
   "cell_type": "code",
   "execution_count": 181,
   "id": "ef11b196",
   "metadata": {},
   "outputs": [
    {
     "data": {
      "text/plain": [
       "set()"
      ]
     },
     "execution_count": 181,
     "metadata": {},
     "output_type": "execute_result"
    }
   ],
   "source": [
    "set(present_assistants.login.unique()) - \\\n",
    "(set(initial_assistant_to_patient_distribution_in_today_task.operator_login.unique()) - {np.nan})"
   ]
  },
  {
   "cell_type": "code",
   "execution_count": 182,
   "id": "44cb2103",
   "metadata": {},
   "outputs": [],
   "source": [
    "# initial_assistant_to_patient_distribution_in_today_task.to_excel('initial_assistant_to_patient_distribution_in_today_task.xlsx')"
   ]
  },
  {
   "cell_type": "code",
   "execution_count": 183,
   "id": "15af79c4",
   "metadata": {},
   "outputs": [],
   "source": [
    "task_amount = 300"
   ]
  },
  {
   "cell_type": "code",
   "execution_count": 184,
   "id": "482dbfa9",
   "metadata": {},
   "outputs": [
    {
     "name": "stdout",
     "output_type": "stream",
     "text": [
      "CPU times: total: 1.28 s\n",
      "Wall time: 1.28 s\n"
     ]
    },
    {
     "data": {
      "text/plain": [
       "10526"
      ]
     },
     "execution_count": 184,
     "metadata": {},
     "output_type": "execute_result"
    }
   ],
   "source": [
    "%%time\n",
    "\n",
    "initial_task_for_today = pd.DataFrame()\n",
    "for operator_login in set(initial_assistant_to_patient_distribution_in_today_task.operator_login):\n",
    "    initial_assistant_to_patient_distribution_in_today_task_for_operator_login = \\\n",
    "    initial_assistant_to_patient_distribution_in_today_task[initial_assistant_to_patient_distribution_in_today_task \\\n",
    "                                                            .operator_login\n",
    "         == operator_login].sort_values(by=['priority', 'last_call_date', 'calls_amount'])\n",
    "    call_back_number_for_operator_login = initial_assistant_to_patient_distribution_in_today_task_for_operator_login[\n",
    "        initial_assistant_to_patient_distribution_in_today_task_for_operator_login.status.isin({\n",
    "            'Перезвонить сегодня', 'Перенос звонка на другой день'})].shape[0]\n",
    "\n",
    "    initial_task_for_today = pd.concat(\n",
    "        [initial_task_for_today, \n",
    "\n",
    "         \n",
    "         initial_assistant_to_patient_distribution_in_today_task[\n",
    "             (initial_assistant_to_patient_distribution_in_today_task.operator_login==operator_login)\n",
    "         ].head(task_amount),\n",
    "        \n",
    "       \n",
    "        ]).reset_index(drop=True)\n",
    "\n",
    "initial_task_for_today.shape[0]"
   ]
  },
  {
   "cell_type": "code",
   "execution_count": 185,
   "id": "8a64cb4a",
   "metadata": {},
   "outputs": [
    {
     "data": {
      "text/html": [
       "<div>\n",
       "<style scoped>\n",
       "    .dataframe tbody tr th:only-of-type {\n",
       "        vertical-align: middle;\n",
       "    }\n",
       "\n",
       "    .dataframe tbody tr th {\n",
       "        vertical-align: top;\n",
       "    }\n",
       "\n",
       "    .dataframe thead th {\n",
       "        text-align: right;\n",
       "    }\n",
       "</style>\n",
       "<table border=\"1\" class=\"dataframe\">\n",
       "  <thead>\n",
       "    <tr style=\"text-align: right;\">\n",
       "      <th></th>\n",
       "      <th></th>\n",
       "      <th>emiasid</th>\n",
       "    </tr>\n",
       "    <tr>\n",
       "      <th>mo</th>\n",
       "      <th>operator_login</th>\n",
       "      <th></th>\n",
       "    </tr>\n",
       "  </thead>\n",
       "  <tbody>\n",
       "    <tr>\n",
       "      <th>ГП 19</th>\n",
       "      <th>pomoshnik_pdn246</th>\n",
       "      <td>1</td>\n",
       "    </tr>\n",
       "    <tr>\n",
       "      <th>ГП 68</th>\n",
       "      <th>pomoshnik_pdn241</th>\n",
       "      <td>1</td>\n",
       "    </tr>\n",
       "    <tr>\n",
       "      <th>ГП 170</th>\n",
       "      <th>pomoshnik_pdn151</th>\n",
       "      <td>1</td>\n",
       "    </tr>\n",
       "    <tr>\n",
       "      <th>КДЦ 6</th>\n",
       "      <th>pomoshnik_pdn137</th>\n",
       "      <td>1</td>\n",
       "    </tr>\n",
       "    <tr>\n",
       "      <th>ГП 107</th>\n",
       "      <th>pomoshnik_pdn131</th>\n",
       "      <td>3</td>\n",
       "    </tr>\n",
       "    <tr>\n",
       "      <th>ГП 45</th>\n",
       "      <th>pomoshnik_pdn82</th>\n",
       "      <td>3</td>\n",
       "    </tr>\n",
       "    <tr>\n",
       "      <th>ГП 175</th>\n",
       "      <th>pomoshnik_pdn217</th>\n",
       "      <td>3</td>\n",
       "    </tr>\n",
       "    <tr>\n",
       "      <th>ДЦ 5</th>\n",
       "      <th>pomoshnik_pdn53</th>\n",
       "      <td>3</td>\n",
       "    </tr>\n",
       "    <tr>\n",
       "      <th>КДЦ 6</th>\n",
       "      <th>pomoshnik_pdn60</th>\n",
       "      <td>3</td>\n",
       "    </tr>\n",
       "    <tr>\n",
       "      <th>ГП 19</th>\n",
       "      <th>pomoshnik_pdn57</th>\n",
       "      <td>4</td>\n",
       "    </tr>\n",
       "  </tbody>\n",
       "</table>\n",
       "</div>"
      ],
      "text/plain": [
       "                         emiasid\n",
       "mo     operator_login           \n",
       "ГП 19  pomoshnik_pdn246        1\n",
       "ГП 68  pomoshnik_pdn241        1\n",
       "ГП 170 pomoshnik_pdn151        1\n",
       "КДЦ 6  pomoshnik_pdn137        1\n",
       "ГП 107 pomoshnik_pdn131        3\n",
       "ГП 45  pomoshnik_pdn82         3\n",
       "ГП 175 pomoshnik_pdn217        3\n",
       "ДЦ 5   pomoshnik_pdn53         3\n",
       "КДЦ 6  pomoshnik_pdn60         3\n",
       "ГП 19  pomoshnik_pdn57         4"
      ]
     },
     "execution_count": 185,
     "metadata": {},
     "output_type": "execute_result"
    }
   ],
   "source": [
    "initial_task_for_today \\\n",
    ".groupby(['mo', 'operator_login']).agg({'emiasid': 'count'}).sort_values(['mo', 'emiasid'])\\\n",
    ".sort_values(by='emiasid', ascending=True).head(10)"
   ]
  },
  {
   "cell_type": "code",
   "execution_count": 186,
   "id": "4624e462",
   "metadata": {},
   "outputs": [
    {
     "data": {
      "text/html": [
       "<div>\n",
       "<style scoped>\n",
       "    .dataframe tbody tr th:only-of-type {\n",
       "        vertical-align: middle;\n",
       "    }\n",
       "\n",
       "    .dataframe tbody tr th {\n",
       "        vertical-align: top;\n",
       "    }\n",
       "\n",
       "    .dataframe thead th {\n",
       "        text-align: right;\n",
       "    }\n",
       "</style>\n",
       "<table border=\"1\" class=\"dataframe\">\n",
       "  <thead>\n",
       "    <tr style=\"text-align: right;\">\n",
       "      <th></th>\n",
       "      <th></th>\n",
       "      <th>emiasid</th>\n",
       "    </tr>\n",
       "    <tr>\n",
       "      <th>mo</th>\n",
       "      <th>operator_login</th>\n",
       "      <th></th>\n",
       "    </tr>\n",
       "  </thead>\n",
       "  <tbody>\n",
       "    <tr>\n",
       "      <th>ГП 23</th>\n",
       "      <th>pomoshnik_pdn14</th>\n",
       "      <td>300</td>\n",
       "    </tr>\n",
       "    <tr>\n",
       "      <th>ГП 166</th>\n",
       "      <th>Помощник 7</th>\n",
       "      <td>300</td>\n",
       "    </tr>\n",
       "    <tr>\n",
       "      <th>ГП 214</th>\n",
       "      <th>pomoshnik_pdn156</th>\n",
       "      <td>300</td>\n",
       "    </tr>\n",
       "    <tr>\n",
       "      <th>ГП 2</th>\n",
       "      <th>pomoshnik_pdn83</th>\n",
       "      <td>300</td>\n",
       "    </tr>\n",
       "    <tr>\n",
       "      <th>ГП 191</th>\n",
       "      <th>pomoshnik_pdn13</th>\n",
       "      <td>300</td>\n",
       "    </tr>\n",
       "    <tr>\n",
       "      <th>ГП 23</th>\n",
       "      <th>pomoshnik_pdn10</th>\n",
       "      <td>300</td>\n",
       "    </tr>\n",
       "    <tr>\n",
       "      <th>ГП 166</th>\n",
       "      <th>Помощник 8</th>\n",
       "      <td>300</td>\n",
       "    </tr>\n",
       "    <tr>\n",
       "      <th>ГП 191</th>\n",
       "      <th>pomoshnik_pdn52</th>\n",
       "      <td>288</td>\n",
       "    </tr>\n",
       "    <tr>\n",
       "      <th>ГП 45</th>\n",
       "      <th>pomoshnik_pdn307</th>\n",
       "      <td>257</td>\n",
       "    </tr>\n",
       "    <tr>\n",
       "      <th>ГП 214</th>\n",
       "      <th>pomoshnik_pdn65</th>\n",
       "      <td>231</td>\n",
       "    </tr>\n",
       "  </tbody>\n",
       "</table>\n",
       "</div>"
      ],
      "text/plain": [
       "                         emiasid\n",
       "mo     operator_login           \n",
       "ГП 23  pomoshnik_pdn14       300\n",
       "ГП 166 Помощник 7            300\n",
       "ГП 214 pomoshnik_pdn156      300\n",
       "ГП 2   pomoshnik_pdn83       300\n",
       "ГП 191 pomoshnik_pdn13       300\n",
       "ГП 23  pomoshnik_pdn10       300\n",
       "ГП 166 Помощник 8            300\n",
       "ГП 191 pomoshnik_pdn52       288\n",
       "ГП 45  pomoshnik_pdn307      257\n",
       "ГП 214 pomoshnik_pdn65       231"
      ]
     },
     "execution_count": 186,
     "metadata": {},
     "output_type": "execute_result"
    }
   ],
   "source": [
    "initial_task_for_today \\\n",
    ".groupby(['mo', 'operator_login']).agg({'emiasid': 'count'}).sort_values(['mo', 'emiasid'])\\\n",
    ".sort_values(by='emiasid', ascending=False).head(10)"
   ]
  },
  {
   "cell_type": "code",
   "execution_count": 187,
   "id": "76c5884f",
   "metadata": {},
   "outputs": [],
   "source": [
    "rename_mo = \\\n",
    "{'ГБУЗ Г МОСКВЫ ГП № 170 ДЗМ': 'ГП 170', ' ГП 6 ДЗМ': 'ГП 6', 'ГБУЗ КДЦ 6 ДЗМ':'КДЦ 6', \n",
    "'ГБУЗ \"ГП № 134 ДЗМ\"': 'ГП 134', 'КДЦ 4': 'КДЦ 4', 'ГБУЗ ДКЦ 1 ДЗМ': 'ДКЦ 1', 'ГБУЗ ГП 23 ДЗМ': 'ГП 23',\n",
    "'ГБУЗ ГП 109 ДЗМ': 'ГП 109', 'ГБУЗ ГП 11 ДЗМ': 'ГП 11', 'ГБУЗ ГП 64 ДЗМ': 'ГП 64', 'ГБУЗ ГП 191 ДЗМ': 'ГП 191', \n",
    "'ГБУЗ ГП 220 ДЗМ': 'ГП 220', 'ГБУЗ \"ГП № 218 ДЗМ\"': 'ГП 218',  'ГБУЗ ГП 107 ДЗМ': 'ГП 107', \n",
    "'ГБУЗ \"ГП № 22 ДЗМ\"': 'ГП 22', 'ГБУЗ ДЦ 5 ДЗМ': 'ДЦ 5', 'ГБУЗ ГП 210 ДЗМ': 'ГП 210', 'ГБУЗ ГП 214 ДЗМ': 'ГП 214', \n",
    "'ГБУЗ ГП 2 ДЗМ': 'ГП 2', 'ГБУЗ КДП 121 ДЗМ': 'КДП 121', 'ГБУЗ ГП 66 ДЗМ': 'ГП 66',  'ГБУЗ ДЦ 3 ДЗМ ': 'ДЦ 3',\n",
    "'ГБУЗ ГП 36 ДЗМ': 'ГП 36',  'ГБУЗ ГП 62 ДЗМ ': 'ГП 62', \n",
    "'ГБУЗ \"ГП № 52 ДЗМ\"': 'ГП 52', 'ГБУЗ \"ГП 67 ДЗМ\"': 'ГП 67', 'ГБУЗ ГП 68 ДЗМ': 'ГП 68', 'ГБУЗ ГП 175 ДЗМ': 'ГП 175',\n",
    "'ГБУЗ ГП № 209 ДЗМ': 'ГП 209',  'ГБУЗ ГП 212 ДЗМ': 'ГП 212', 'ГБУЗ ГП 19 ДЗМ': 'ГП 19', \n",
    "'ГБУЗ ГП №166 ДЗМ': 'ГП 166', 'ГБУЗ ГП 9 ДЗМ': 'ГП 9', 'ГБУЗ ГП 69 ДЗМ': 'ГП 69',\n",
    "'ГБУЗ \"ГП № 3 ДЗМ\"': 'ГП 3', 'ГБУЗ ГП 5 ДЗМ': 'ГП 5', 'ГБУЗ ГП 46 ДЗМ': 'ГП 46', 'ГБУЗ ГП №8 ДЗМ': 'ГП 8', \n",
    "'ГБУЗ \"ГП № 45 ДЗМ\"': 'ГП 45'}"
   ]
  },
  {
   "cell_type": "code",
   "execution_count": 188,
   "id": "d8c1906d",
   "metadata": {},
   "outputs": [],
   "source": [
    "mo_list = set(rename_mo.values())"
   ]
  },
  {
   "cell_type": "code",
   "execution_count": 189,
   "id": "8f4c0206",
   "metadata": {
    "scrolled": true
   },
   "outputs": [],
   "source": [
    "new_doctor_patients = \\\n",
    "initial_assistant_to_patient_distribution_in_today_task[(initial_assistant_to_patient_distribution_in_today_task.mo.isin(mo_list)) & \n",
    "                    (~initial_assistant_to_patient_distribution_in_today_task.doctor_fio.isin(doctors_list))].reset_index(drop=True)"
   ]
  },
  {
   "cell_type": "code",
   "execution_count": 190,
   "id": "69649df2",
   "metadata": {},
   "outputs": [],
   "source": [
    "initial_task_for_today_present_assistants = \\\n",
    "initial_task_for_today[~initial_task_for_today.operator_login.isin(absent_assistants.login)]"
   ]
  },
  {
   "cell_type": "code",
   "execution_count": 191,
   "id": "3dc5953a",
   "metadata": {},
   "outputs": [
    {
     "data": {
      "text/plain": [
       "3191"
      ]
     },
     "execution_count": 191,
     "metadata": {},
     "output_type": "execute_result"
    }
   ],
   "source": [
    "initial_task_for_today[initial_task_for_today.operator_login.isin(absent_assistants.login)].shape[0]"
   ]
  },
  {
   "cell_type": "code",
   "execution_count": 192,
   "id": "249761c8",
   "metadata": {},
   "outputs": [
    {
     "data": {
      "text/plain": [
       "7335"
      ]
     },
     "execution_count": 192,
     "metadata": {},
     "output_type": "execute_result"
    }
   ],
   "source": [
    "initial_task_for_today_present_assistants.shape[0]"
   ]
  },
  {
   "cell_type": "code",
   "execution_count": 193,
   "id": "3067e938",
   "metadata": {},
   "outputs": [
    {
     "data": {
      "text/html": [
       "<div>\n",
       "<style scoped>\n",
       "    .dataframe tbody tr th:only-of-type {\n",
       "        vertical-align: middle;\n",
       "    }\n",
       "\n",
       "    .dataframe tbody tr th {\n",
       "        vertical-align: top;\n",
       "    }\n",
       "\n",
       "    .dataframe thead th {\n",
       "        text-align: right;\n",
       "    }\n",
       "</style>\n",
       "<table border=\"1\" class=\"dataframe\">\n",
       "  <thead>\n",
       "    <tr style=\"text-align: right;\">\n",
       "      <th></th>\n",
       "      <th>emiasid</th>\n",
       "    </tr>\n",
       "    <tr>\n",
       "      <th>operator_login</th>\n",
       "      <th></th>\n",
       "    </tr>\n",
       "  </thead>\n",
       "  <tbody>\n",
       "    <tr>\n",
       "      <th>pomoshnik_pdn83</th>\n",
       "      <td>300</td>\n",
       "    </tr>\n",
       "    <tr>\n",
       "      <th>pomoshnik_pdn156</th>\n",
       "      <td>300</td>\n",
       "    </tr>\n",
       "    <tr>\n",
       "      <th>pomoshnik_pdn52</th>\n",
       "      <td>288</td>\n",
       "    </tr>\n",
       "    <tr>\n",
       "      <th>pomoshnik_pdn307</th>\n",
       "      <td>257</td>\n",
       "    </tr>\n",
       "    <tr>\n",
       "      <th>pomoshnik_pdn65</th>\n",
       "      <td>231</td>\n",
       "    </tr>\n",
       "    <tr>\n",
       "      <th>...</th>\n",
       "      <td>...</td>\n",
       "    </tr>\n",
       "    <tr>\n",
       "      <th>pomoshnik_pdn57</th>\n",
       "      <td>4</td>\n",
       "    </tr>\n",
       "    <tr>\n",
       "      <th>pomoshnik_pdn131</th>\n",
       "      <td>3</td>\n",
       "    </tr>\n",
       "    <tr>\n",
       "      <th>pomoshnik_pdn217</th>\n",
       "      <td>3</td>\n",
       "    </tr>\n",
       "    <tr>\n",
       "      <th>pomoshnik_pdn82</th>\n",
       "      <td>3</td>\n",
       "    </tr>\n",
       "    <tr>\n",
       "      <th>pomoshnik_pdn151</th>\n",
       "      <td>1</td>\n",
       "    </tr>\n",
       "  </tbody>\n",
       "</table>\n",
       "<p>165 rows × 1 columns</p>\n",
       "</div>"
      ],
      "text/plain": [
       "                  emiasid\n",
       "operator_login           \n",
       "pomoshnik_pdn83       300\n",
       "pomoshnik_pdn156      300\n",
       "pomoshnik_pdn52       288\n",
       "pomoshnik_pdn307      257\n",
       "pomoshnik_pdn65       231\n",
       "...                   ...\n",
       "pomoshnik_pdn57         4\n",
       "pomoshnik_pdn131        3\n",
       "pomoshnik_pdn217        3\n",
       "pomoshnik_pdn82         3\n",
       "pomoshnik_pdn151        1\n",
       "\n",
       "[165 rows x 1 columns]"
      ]
     },
     "execution_count": 193,
     "metadata": {},
     "output_type": "execute_result"
    }
   ],
   "source": [
    "initial_task_for_today_present_assistants.groupby('operator_login').agg({'emiasid': 'count'}).sort_values('emiasid', ascending=False)"
   ]
  },
  {
   "cell_type": "code",
   "execution_count": 194,
   "id": "5984cf9c",
   "metadata": {},
   "outputs": [],
   "source": [
    "initial_task_for_today_absent_assistants =  \\\n",
    "initial_task_for_today[initial_task_for_today.operator_login.isin(absent_assistants.login)] \\\n",
    "[['emiasid', 'status', 'old_comment', 'mo', 'priority', 'month']]"
   ]
  },
  {
   "cell_type": "code",
   "execution_count": 195,
   "id": "e05971cb",
   "metadata": {},
   "outputs": [],
   "source": [
    "additional_task_for_present_assistants = \\\n",
    "pd.concat([\n",
    "#     new_doctor_patients,\n",
    "    initial_task_for_today_absent_assistants\n",
    "]).reset_index(drop=True)"
   ]
  },
  {
   "cell_type": "code",
   "execution_count": 196,
   "id": "90ff9e79",
   "metadata": {},
   "outputs": [],
   "source": [
    "additional_task_for_present_assistants_by_mo = \\\n",
    "additional_task_for_present_assistants.groupby(['mo']).agg({'emiasid': 'count'}).sort_values(by=['mo', 'emiasid'])"
   ]
  },
  {
   "cell_type": "code",
   "execution_count": 197,
   "id": "d4bb3a4b",
   "metadata": {},
   "outputs": [],
   "source": [
    "distribution_count = initial_task_for_today_present_assistants.groupby(['mo']) \\\n",
    ".agg({'emiasid': 'count', 'operator_login': 'nunique'}) \\\n",
    ".sort_values(by=['mo', 'emiasid'])"
   ]
  },
  {
   "cell_type": "code",
   "execution_count": 198,
   "id": "6cffe7fc",
   "metadata": {},
   "outputs": [],
   "source": [
    "distribution_count['total_delta'] = distribution_count['operator_login'] * task_amount - distribution_count['emiasid']"
   ]
  },
  {
   "cell_type": "code",
   "execution_count": 199,
   "id": "e2b43718",
   "metadata": {},
   "outputs": [],
   "source": [
    "distribution_count = distribution_count[distribution_count.total_delta > 0]"
   ]
  },
  {
   "cell_type": "code",
   "execution_count": 200,
   "id": "4e0a6b6d",
   "metadata": {},
   "outputs": [
    {
     "data": {
      "text/html": [
       "<div>\n",
       "<style scoped>\n",
       "    .dataframe tbody tr th:only-of-type {\n",
       "        vertical-align: middle;\n",
       "    }\n",
       "\n",
       "    .dataframe tbody tr th {\n",
       "        vertical-align: top;\n",
       "    }\n",
       "\n",
       "    .dataframe thead th {\n",
       "        text-align: right;\n",
       "    }\n",
       "</style>\n",
       "<table border=\"1\" class=\"dataframe\">\n",
       "  <thead>\n",
       "    <tr style=\"text-align: right;\">\n",
       "      <th></th>\n",
       "      <th>emiasid</th>\n",
       "      <th>status</th>\n",
       "      <th>old_comment</th>\n",
       "      <th>mo</th>\n",
       "      <th>priority</th>\n",
       "      <th>month</th>\n",
       "    </tr>\n",
       "  </thead>\n",
       "  <tbody>\n",
       "    <tr>\n",
       "      <th>0</th>\n",
       "      <td>19732861</td>\n",
       "      <td>Перенос звонка на другой день</td>\n",
       "      <td>NaN</td>\n",
       "      <td>ДЦ 5</td>\n",
       "      <td>1</td>\n",
       "      <td>september</td>\n",
       "    </tr>\n",
       "    <tr>\n",
       "      <th>1</th>\n",
       "      <td>29568397</td>\n",
       "      <td>Перенос звонка на другой день</td>\n",
       "      <td>перезвонить</td>\n",
       "      <td>ДЦ 5</td>\n",
       "      <td>1</td>\n",
       "      <td>september</td>\n",
       "    </tr>\n",
       "    <tr>\n",
       "      <th>2</th>\n",
       "      <td>12665314668036</td>\n",
       "      <td>Перенос звонка на другой день</td>\n",
       "      <td>нет слотов, актив 17745</td>\n",
       "      <td>ДЦ 5</td>\n",
       "      <td>1</td>\n",
       "      <td>september</td>\n",
       "    </tr>\n",
       "    <tr>\n",
       "      <th>3</th>\n",
       "      <td>19222665</td>\n",
       "      <td>Перенос звонка на другой день</td>\n",
       "      <td>перезвонить</td>\n",
       "      <td>ДЦ 5</td>\n",
       "      <td>1</td>\n",
       "      <td>september</td>\n",
       "    </tr>\n",
       "    <tr>\n",
       "      <th>4</th>\n",
       "      <td>30000007835971</td>\n",
       "      <td>Перенос звонка на другой день</td>\n",
       "      <td>перезвонить</td>\n",
       "      <td>ДЦ 5</td>\n",
       "      <td>1</td>\n",
       "      <td>september</td>\n",
       "    </tr>\n",
       "    <tr>\n",
       "      <th>...</th>\n",
       "      <td>...</td>\n",
       "      <td>...</td>\n",
       "      <td>...</td>\n",
       "      <td>...</td>\n",
       "      <td>...</td>\n",
       "      <td>...</td>\n",
       "    </tr>\n",
       "    <tr>\n",
       "      <th>3186</th>\n",
       "      <td>30000004609214</td>\n",
       "      <td>Будет в Москве в другом месяце</td>\n",
       "      <td>перезвонить</td>\n",
       "      <td>ДЦ 3</td>\n",
       "      <td>1</td>\n",
       "      <td>august</td>\n",
       "    </tr>\n",
       "    <tr>\n",
       "      <th>3187</th>\n",
       "      <td>20698427</td>\n",
       "      <td>Будет в Москве в другом месяце</td>\n",
       "      <td>Перезвонить</td>\n",
       "      <td>ДЦ 3</td>\n",
       "      <td>1</td>\n",
       "      <td>august</td>\n",
       "    </tr>\n",
       "    <tr>\n",
       "      <th>3188</th>\n",
       "      <td>30000009750609</td>\n",
       "      <td>Будет в Москве в другом месяце</td>\n",
       "      <td>Перезвонить</td>\n",
       "      <td>ДЦ 3</td>\n",
       "      <td>1</td>\n",
       "      <td>august</td>\n",
       "    </tr>\n",
       "    <tr>\n",
       "      <th>3189</th>\n",
       "      <td>20237995</td>\n",
       "      <td>Будет в Москве в другом месяце</td>\n",
       "      <td>Перезвонить</td>\n",
       "      <td>ДЦ 3</td>\n",
       "      <td>1</td>\n",
       "      <td>august</td>\n",
       "    </tr>\n",
       "    <tr>\n",
       "      <th>3190</th>\n",
       "      <td>22766112</td>\n",
       "      <td>Будет в Москве в другом месяце</td>\n",
       "      <td>перезвонить</td>\n",
       "      <td>ДЦ 3</td>\n",
       "      <td>1</td>\n",
       "      <td>august</td>\n",
       "    </tr>\n",
       "  </tbody>\n",
       "</table>\n",
       "<p>3191 rows × 6 columns</p>\n",
       "</div>"
      ],
      "text/plain": [
       "             emiasid                          status              old_comment  \\\n",
       "0           19732861   Перенос звонка на другой день                      NaN   \n",
       "1           29568397   Перенос звонка на другой день              перезвонить   \n",
       "2     12665314668036   Перенос звонка на другой день  нет слотов, актив 17745   \n",
       "3           19222665   Перенос звонка на другой день              перезвонить   \n",
       "4     30000007835971   Перенос звонка на другой день              перезвонить   \n",
       "...              ...                             ...                      ...   \n",
       "3186  30000004609214  Будет в Москве в другом месяце              перезвонить   \n",
       "3187        20698427  Будет в Москве в другом месяце              Перезвонить   \n",
       "3188  30000009750609  Будет в Москве в другом месяце              Перезвонить   \n",
       "3189        20237995  Будет в Москве в другом месяце              Перезвонить   \n",
       "3190        22766112  Будет в Москве в другом месяце              перезвонить   \n",
       "\n",
       "        mo  priority      month  \n",
       "0     ДЦ 5         1  september  \n",
       "1     ДЦ 5         1  september  \n",
       "2     ДЦ 5         1  september  \n",
       "3     ДЦ 5         1  september  \n",
       "4     ДЦ 5         1  september  \n",
       "...    ...       ...        ...  \n",
       "3186  ДЦ 3         1     august  \n",
       "3187  ДЦ 3         1     august  \n",
       "3188  ДЦ 3         1     august  \n",
       "3189  ДЦ 3         1     august  \n",
       "3190  ДЦ 3         1     august  \n",
       "\n",
       "[3191 rows x 6 columns]"
      ]
     },
     "execution_count": 200,
     "metadata": {},
     "output_type": "execute_result"
    }
   ],
   "source": [
    "additional_task_for_present_assistants"
   ]
  },
  {
   "cell_type": "code",
   "execution_count": 201,
   "id": "3fc05a8b",
   "metadata": {},
   "outputs": [],
   "source": [
    "final_task_predistribution = \\\n",
    "pd.concat([initial_task_for_today_present_assistants, additional_task_for_present_assistants]).reset_index(drop=True)"
   ]
  },
  {
   "cell_type": "code",
   "execution_count": 202,
   "id": "e111fbba",
   "metadata": {},
   "outputs": [
    {
     "data": {
      "text/plain": [
       "3191"
      ]
     },
     "execution_count": 202,
     "metadata": {},
     "output_type": "execute_result"
    }
   ],
   "source": [
    "empty_login_patients_amount_before = final_task_predistribution[final_task_predistribution.operator_login.isna()].shape[0]\n",
    "empty_login_patients_amount_before"
   ]
  },
  {
   "cell_type": "code",
   "execution_count": 203,
   "id": "650e69ab",
   "metadata": {},
   "outputs": [
    {
     "name": "stdout",
     "output_type": "stream",
     "text": [
      "CPU times: total: 43 s\n",
      "Wall time: 43.2 s\n"
     ]
    }
   ],
   "source": [
    "%%time\n",
    "\n",
    "for mo in distribution_count.index:\n",
    "    \n",
    "    while final_task_predistribution[final_task_predistribution.mo == mo].groupby('operator_login') \\\n",
    "    .agg({'emiasid': 'count'}).min()['emiasid'] < task_amount and \\\n",
    "    final_task_predistribution[(final_task_predistribution.operator_login.isna()) & (final_task_predistribution.mo == mo)] \\\n",
    "    .shape[0] > 0:\n",
    "        \n",
    "        miminal_in_mo_assistant_emiasid_amount = final_task_predistribution[final_task_predistribution.mo == mo] \\\n",
    "        .groupby('operator_login').agg({'emiasid': 'count'}).min()['emiasid']\n",
    "\n",
    "        minimal_in_mo_emiasid_amount_login = final_task_predistribution[final_task_predistribution.mo == mo] \\\n",
    "        .groupby('operator_login').agg({'emiasid': 'count'}).sort_values(by='emiasid').index[0]\n",
    "        \n",
    "        \n",
    "        empty_login_in_mo_index = final_task_predistribution[\n",
    "            (final_task_predistribution.operator_login.isna()) & (final_task_predistribution.mo == mo)\n",
    "        ].index[0]\n",
    "        \n",
    "        final_task_predistribution = \\\n",
    "        final_task_predistribution.sort_values(by=['priority', 'last_call_date', 'calls_amount'])\n",
    "\n",
    "        final_task_predistribution.loc[empty_login_in_mo_index, 'operator_login'] = minimal_in_mo_emiasid_amount_login\n"
   ]
  },
  {
   "cell_type": "code",
   "execution_count": 204,
   "id": "0f2c344a",
   "metadata": {},
   "outputs": [
    {
     "data": {
      "text/plain": [
       "274"
      ]
     },
     "execution_count": 204,
     "metadata": {},
     "output_type": "execute_result"
    }
   ],
   "source": [
    "empty_login_patients_amount_after = final_task_predistribution[final_task_predistribution.operator_login.isna()].shape[0]\n",
    "empty_login_patients_amount_after"
   ]
  },
  {
   "cell_type": "code",
   "execution_count": 205,
   "id": "b2b0e146",
   "metadata": {},
   "outputs": [],
   "source": [
    "check_table = distribution_count.merge(additional_task_for_present_assistants_by_mo,left_index=True, right_index=True) \\\n",
    "[['total_delta', 'emiasid_y']]"
   ]
  },
  {
   "cell_type": "code",
   "execution_count": 206,
   "id": "9680ffa0",
   "metadata": {},
   "outputs": [],
   "source": [
    "check_table.loc[check_table['total_delta'] > check_table['emiasid_y'], 'real_addition'] = \\\n",
    "check_table.loc[check_table['total_delta'] > check_table['emiasid_y'], 'emiasid_y']\n",
    "\n",
    "check_table.loc[check_table['total_delta'] <= check_table['emiasid_y'], 'real_addition'] = \\\n",
    "check_table.loc[check_table['total_delta'] <= check_table['emiasid_y'], 'total_delta']"
   ]
  },
  {
   "cell_type": "code",
   "execution_count": 207,
   "id": "1fe8f17d",
   "metadata": {},
   "outputs": [
    {
     "data": {
      "text/plain": [
       "2917.0"
      ]
     },
     "execution_count": 207,
     "metadata": {},
     "output_type": "execute_result"
    }
   ],
   "source": [
    "real_change_of_emty_login_patients_amount = check_table.real_addition.sum()\n",
    "real_change_of_emty_login_patients_amount"
   ]
  },
  {
   "cell_type": "code",
   "execution_count": 208,
   "id": "63ec6182",
   "metadata": {},
   "outputs": [
    {
     "data": {
      "text/plain": [
       "True"
      ]
     },
     "execution_count": 208,
     "metadata": {},
     "output_type": "execute_result"
    }
   ],
   "source": [
    "empty_login_patients_amount_before - empty_login_patients_amount_after == real_change_of_emty_login_patients_amount"
   ]
  },
  {
   "cell_type": "code",
   "execution_count": 209,
   "id": "942e3c5e",
   "metadata": {},
   "outputs": [],
   "source": [
    "final_task_distribution = final_task_predistribution[~final_task_predistribution.operator_login.isna()] \\\n",
    ".copy().reset_index(drop=True)"
   ]
  },
  {
   "cell_type": "code",
   "execution_count": 210,
   "id": "f26194b6",
   "metadata": {},
   "outputs": [
    {
     "data": {
      "text/plain": [
       "10252"
      ]
     },
     "execution_count": 210,
     "metadata": {},
     "output_type": "execute_result"
    }
   ],
   "source": [
    "final_task_distribution.shape[0]"
   ]
  },
  {
   "cell_type": "code",
   "execution_count": 211,
   "id": "2c6be748",
   "metadata": {},
   "outputs": [
    {
     "data": {
      "text/plain": [
       "Index(['emiasid', 'status', 'old_comment', 'operator_login', 'mo',\n",
       "       'doctor_fio', 'priority', 'calls_amount', 'last_call_date', 'month'],\n",
       "      dtype='object')"
      ]
     },
     "execution_count": 211,
     "metadata": {},
     "output_type": "execute_result"
    }
   ],
   "source": [
    "final_task_distribution.columns"
   ]
  },
  {
   "cell_type": "code",
   "execution_count": 212,
   "id": "057ecfc2",
   "metadata": {},
   "outputs": [
    {
     "data": {
      "text/plain": [
       "Перенос звонка на другой день     4744\n",
       "Ни разу не звонили                4505\n",
       "Перезвонить сегодня                371\n",
       "Запишется самостоятельно           356\n",
       "Будет в Москве в другом месяце     163\n",
       "Не дозвонились                      90\n",
       "Разговор состоялся                  11\n",
       "Отказ                                6\n",
       "Госпитализирован                     4\n",
       "Пациент отрицает диагноз             1\n",
       "Живет не в Москве                    1\n",
       "Name: status, dtype: int64"
      ]
     },
     "execution_count": 212,
     "metadata": {},
     "output_type": "execute_result"
    }
   ],
   "source": [
    "final_task_distribution.status.value_counts()"
   ]
  },
  {
   "cell_type": "code",
   "execution_count": 213,
   "id": "ba065c68",
   "metadata": {},
   "outputs": [
    {
     "data": {
      "text/plain": [
       "10252"
      ]
     },
     "execution_count": 213,
     "metadata": {},
     "output_type": "execute_result"
    }
   ],
   "source": [
    "final_task_distribution.shape[0]"
   ]
  },
  {
   "cell_type": "code",
   "execution_count": 214,
   "id": "820f1e31",
   "metadata": {},
   "outputs": [
    {
     "data": {
      "text/plain": [
       "Index(['emiasid', 'status', 'old_comment', 'operator_login', 'mo',\n",
       "       'doctor_fio', 'priority', 'calls_amount', 'last_call_date', 'month'],\n",
       "      dtype='object')"
      ]
     },
     "execution_count": 214,
     "metadata": {},
     "output_type": "execute_result"
    }
   ],
   "source": [
    "final_task_distribution.columns"
   ]
  },
  {
   "cell_type": "code",
   "execution_count": 215,
   "id": "2eef0d77",
   "metadata": {},
   "outputs": [
    {
     "data": {
      "text/html": [
       "<div>\n",
       "<style scoped>\n",
       "    .dataframe tbody tr th:only-of-type {\n",
       "        vertical-align: middle;\n",
       "    }\n",
       "\n",
       "    .dataframe tbody tr th {\n",
       "        vertical-align: top;\n",
       "    }\n",
       "\n",
       "    .dataframe thead th {\n",
       "        text-align: right;\n",
       "    }\n",
       "</style>\n",
       "<table border=\"1\" class=\"dataframe\">\n",
       "  <thead>\n",
       "    <tr style=\"text-align: right;\">\n",
       "      <th></th>\n",
       "      <th>emiasid</th>\n",
       "      <th>status</th>\n",
       "      <th>old_comment</th>\n",
       "      <th>operator_login</th>\n",
       "      <th>mo</th>\n",
       "      <th>doctor_fio</th>\n",
       "      <th>priority</th>\n",
       "      <th>calls_amount</th>\n",
       "      <th>last_call_date</th>\n",
       "      <th>month</th>\n",
       "    </tr>\n",
       "  </thead>\n",
       "  <tbody>\n",
       "    <tr>\n",
       "      <th>0</th>\n",
       "      <td>16911653</td>\n",
       "      <td>Перенос звонка на другой день</td>\n",
       "      <td>перезвонить , записать к терапевту</td>\n",
       "      <td>pomoshnik_pdn168</td>\n",
       "      <td>ГП 109</td>\n",
       "      <td>Сафиуллина Валерия Романовна</td>\n",
       "      <td>1</td>\n",
       "      <td>2.0</td>\n",
       "      <td>2022-08-31</td>\n",
       "      <td>august</td>\n",
       "    </tr>\n",
       "  </tbody>\n",
       "</table>\n",
       "</div>"
      ],
      "text/plain": [
       "    emiasid                         status  \\\n",
       "0  16911653  Перенос звонка на другой день   \n",
       "\n",
       "                          old_comment    operator_login      mo  \\\n",
       "0  перезвонить , записать к терапевту  pomoshnik_pdn168  ГП 109   \n",
       "\n",
       "                     doctor_fio  priority  calls_amount last_call_date   month  \n",
       "0  Сафиуллина Валерия Романовна         1           2.0     2022-08-31  august  "
      ]
     },
     "execution_count": 215,
     "metadata": {},
     "output_type": "execute_result"
    }
   ],
   "source": [
    "final_task_distribution.head(1)"
   ]
  },
  {
   "cell_type": "code",
   "execution_count": 216,
   "id": "ce21385c",
   "metadata": {},
   "outputs": [
    {
     "data": {
      "text/html": [
       "<div>\n",
       "<style scoped>\n",
       "    .dataframe tbody tr th:only-of-type {\n",
       "        vertical-align: middle;\n",
       "    }\n",
       "\n",
       "    .dataframe tbody tr th {\n",
       "        vertical-align: top;\n",
       "    }\n",
       "\n",
       "    .dataframe thead th {\n",
       "        text-align: right;\n",
       "    }\n",
       "</style>\n",
       "<table border=\"1\" class=\"dataframe\">\n",
       "  <thead>\n",
       "    <tr style=\"text-align: right;\">\n",
       "      <th></th>\n",
       "      <th>emiasid</th>\n",
       "      <th>operator_login</th>\n",
       "      <th>status</th>\n",
       "      <th>old_comment</th>\n",
       "      <th>next_call_date</th>\n",
       "      <th>mo</th>\n",
       "      <th>doctor_fio</th>\n",
       "      <th>phone_number</th>\n",
       "      <th>calls_amount</th>\n",
       "      <th>last_call_date</th>\n",
       "      <th>last_call_result</th>\n",
       "      <th>last_talk_result</th>\n",
       "      <th>group</th>\n",
       "      <th>problem</th>\n",
       "      <th>month</th>\n",
       "      <th>operator_absence</th>\n",
       "      <th>priority</th>\n",
       "    </tr>\n",
       "  </thead>\n",
       "  <tbody>\n",
       "    <tr>\n",
       "      <th>5380</th>\n",
       "      <td>18937181</td>\n",
       "      <td>pomoshnik_pdn24</td>\n",
       "      <td>Разговор состоялся</td>\n",
       "      <td>NaN</td>\n",
       "      <td>NaT</td>\n",
       "      <td>КДЦ 4</td>\n",
       "      <td>Лосев Антон Сергеевич</td>\n",
       "      <td>9.852178e+09</td>\n",
       "      <td>2.0</td>\n",
       "      <td>2022-08-22</td>\n",
       "      <td>Разговор состоялся</td>\n",
       "      <td>NaN</td>\n",
       "      <td>13.0</td>\n",
       "      <td>NaN</td>\n",
       "      <td>august</td>\n",
       "      <td>NaN</td>\n",
       "      <td>5</td>\n",
       "    </tr>\n",
       "  </tbody>\n",
       "</table>\n",
       "</div>"
      ],
      "text/plain": [
       "       emiasid   operator_login              status old_comment  \\\n",
       "5380  18937181  pomoshnik_pdn24  Разговор состоялся         NaN   \n",
       "\n",
       "     next_call_date     mo             doctor_fio  phone_number  calls_amount  \\\n",
       "5380            NaT  КДЦ 4  Лосев Антон Сергеевич  9.852178e+09           2.0   \n",
       "\n",
       "     last_call_date    last_call_result last_talk_result  group problem  \\\n",
       "5380     2022-08-22  Разговор состоялся              NaN   13.0     NaN   \n",
       "\n",
       "       month  operator_absence  priority  \n",
       "5380  august               NaN         5  "
      ]
     },
     "execution_count": 216,
     "metadata": {},
     "output_type": "execute_result"
    }
   ],
   "source": [
    "second_stage_patients.head(1)"
   ]
  },
  {
   "cell_type": "code",
   "execution_count": 217,
   "id": "fd4936ce",
   "metadata": {},
   "outputs": [],
   "source": [
    "second_stage_patients = second_stage_patients[['emiasid', 'status', 'old_comment', 'operator_login', 'mo', 'priority',\n",
    "       'calls_amount', 'last_call_date', 'month']]"
   ]
  },
  {
   "cell_type": "code",
   "execution_count": 218,
   "id": "7695ccf5",
   "metadata": {},
   "outputs": [],
   "source": [
    "tomorrow_record_patients = tomorrow_record_patients[['emiasid', 'status', 'old_comment', 'operator_login', 'mo', 'priority',\n",
    "       'calls_amount', 'last_call_date', 'month']]"
   ]
  },
  {
   "cell_type": "code",
   "execution_count": null,
   "id": "1f39310e",
   "metadata": {},
   "outputs": [],
   "source": []
  },
  {
   "cell_type": "code",
   "execution_count": 219,
   "id": "00800d80",
   "metadata": {},
   "outputs": [
    {
     "data": {
      "text/html": [
       "<div>\n",
       "<style scoped>\n",
       "    .dataframe tbody tr th:only-of-type {\n",
       "        vertical-align: middle;\n",
       "    }\n",
       "\n",
       "    .dataframe tbody tr th {\n",
       "        vertical-align: top;\n",
       "    }\n",
       "\n",
       "    .dataframe thead th {\n",
       "        text-align: right;\n",
       "    }\n",
       "</style>\n",
       "<table border=\"1\" class=\"dataframe\">\n",
       "  <thead>\n",
       "    <tr style=\"text-align: right;\">\n",
       "      <th></th>\n",
       "      <th>emiasid</th>\n",
       "      <th>status</th>\n",
       "      <th>old_comment</th>\n",
       "      <th>operator_login</th>\n",
       "      <th>mo</th>\n",
       "      <th>priority</th>\n",
       "      <th>calls_amount</th>\n",
       "      <th>last_call_date</th>\n",
       "      <th>month</th>\n",
       "    </tr>\n",
       "  </thead>\n",
       "  <tbody>\n",
       "    <tr>\n",
       "      <th>1938</th>\n",
       "      <td>19566964</td>\n",
       "      <td>Напомнить</td>\n",
       "      <td>NaN</td>\n",
       "      <td>pomoshnik_pdn66</td>\n",
       "      <td>ГП 22</td>\n",
       "      <td>4</td>\n",
       "      <td>6.0</td>\n",
       "      <td>2022-09-15</td>\n",
       "      <td>august</td>\n",
       "    </tr>\n",
       "    <tr>\n",
       "      <th>12895</th>\n",
       "      <td>15982363</td>\n",
       "      <td>Напомнить</td>\n",
       "      <td>NaN</td>\n",
       "      <td>pomoshnik_pdn77</td>\n",
       "      <td>ДКЦ 1</td>\n",
       "      <td>4</td>\n",
       "      <td>1.0</td>\n",
       "      <td>2022-09-02</td>\n",
       "      <td>september</td>\n",
       "    </tr>\n",
       "    <tr>\n",
       "      <th>13477</th>\n",
       "      <td>16773466</td>\n",
       "      <td>Напомнить</td>\n",
       "      <td>NaN</td>\n",
       "      <td>pomoshnik_pdn93</td>\n",
       "      <td>ГП 134</td>\n",
       "      <td>4</td>\n",
       "      <td>1.0</td>\n",
       "      <td>2022-09-02</td>\n",
       "      <td>september</td>\n",
       "    </tr>\n",
       "    <tr>\n",
       "      <th>14137</th>\n",
       "      <td>10320085</td>\n",
       "      <td>Напомнить</td>\n",
       "      <td>NaN</td>\n",
       "      <td>pomoshnik_pdn69</td>\n",
       "      <td>ГП 218</td>\n",
       "      <td>4</td>\n",
       "      <td>2.0</td>\n",
       "      <td>2022-09-13</td>\n",
       "      <td>september</td>\n",
       "    </tr>\n",
       "    <tr>\n",
       "      <th>14322</th>\n",
       "      <td>17539456</td>\n",
       "      <td>Напомнить</td>\n",
       "      <td>NaN</td>\n",
       "      <td>pomoshnik_pdn108</td>\n",
       "      <td>ГП 62</td>\n",
       "      <td>4</td>\n",
       "      <td>1.0</td>\n",
       "      <td>2022-09-02</td>\n",
       "      <td>september</td>\n",
       "    </tr>\n",
       "    <tr>\n",
       "      <th>...</th>\n",
       "      <td>...</td>\n",
       "      <td>...</td>\n",
       "      <td>...</td>\n",
       "      <td>...</td>\n",
       "      <td>...</td>\n",
       "      <td>...</td>\n",
       "      <td>...</td>\n",
       "      <td>...</td>\n",
       "      <td>...</td>\n",
       "    </tr>\n",
       "    <tr>\n",
       "      <th>108973</th>\n",
       "      <td>24638207</td>\n",
       "      <td>Напомнить</td>\n",
       "      <td>Запишется самостоятельно</td>\n",
       "      <td>pomoshnik_pdn66</td>\n",
       "      <td>ГП 22</td>\n",
       "      <td>4</td>\n",
       "      <td>2.0</td>\n",
       "      <td>2022-09-14</td>\n",
       "      <td>september</td>\n",
       "    </tr>\n",
       "    <tr>\n",
       "      <th>109123</th>\n",
       "      <td>25994509</td>\n",
       "      <td>Напомнить</td>\n",
       "      <td>Запишется самостоятельно</td>\n",
       "      <td>pomoshnik_pdn202</td>\n",
       "      <td>ГП 19</td>\n",
       "      <td>4</td>\n",
       "      <td>2.0</td>\n",
       "      <td>2022-09-14</td>\n",
       "      <td>september</td>\n",
       "    </tr>\n",
       "    <tr>\n",
       "      <th>109635</th>\n",
       "      <td>449927766</td>\n",
       "      <td>Напомнить</td>\n",
       "      <td>NaN</td>\n",
       "      <td>pomoshnik_pdn67</td>\n",
       "      <td>ГП 218</td>\n",
       "      <td>4</td>\n",
       "      <td>3.0</td>\n",
       "      <td>2022-09-15</td>\n",
       "      <td>september</td>\n",
       "    </tr>\n",
       "    <tr>\n",
       "      <th>109837</th>\n",
       "      <td>24207475</td>\n",
       "      <td>Напомнить</td>\n",
       "      <td>Кипова З. М.</td>\n",
       "      <td>pomoshnik_pdn109</td>\n",
       "      <td>ГП 107</td>\n",
       "      <td>4</td>\n",
       "      <td>1.0</td>\n",
       "      <td>2022-09-09</td>\n",
       "      <td>september</td>\n",
       "    </tr>\n",
       "    <tr>\n",
       "      <th>109884</th>\n",
       "      <td>30203527</td>\n",
       "      <td>Напомнить</td>\n",
       "      <td>Врач. Грушевская.В.А</td>\n",
       "      <td>pomoshnik_pdn277</td>\n",
       "      <td>ГП 218</td>\n",
       "      <td>4</td>\n",
       "      <td>1.0</td>\n",
       "      <td>2022-09-09</td>\n",
       "      <td>september</td>\n",
       "    </tr>\n",
       "  </tbody>\n",
       "</table>\n",
       "<p>261 rows × 9 columns</p>\n",
       "</div>"
      ],
      "text/plain": [
       "          emiasid     status               old_comment    operator_login  \\\n",
       "1938     19566964  Напомнить                       NaN   pomoshnik_pdn66   \n",
       "12895    15982363  Напомнить                       NaN   pomoshnik_pdn77   \n",
       "13477    16773466  Напомнить                       NaN   pomoshnik_pdn93   \n",
       "14137    10320085  Напомнить                       NaN   pomoshnik_pdn69   \n",
       "14322    17539456  Напомнить                       NaN  pomoshnik_pdn108   \n",
       "...           ...        ...                       ...               ...   \n",
       "108973   24638207  Напомнить  Запишется самостоятельно   pomoshnik_pdn66   \n",
       "109123   25994509  Напомнить  Запишется самостоятельно  pomoshnik_pdn202   \n",
       "109635  449927766  Напомнить                       NaN   pomoshnik_pdn67   \n",
       "109837   24207475  Напомнить              Кипова З. М.  pomoshnik_pdn109   \n",
       "109884   30203527  Напомнить      Врач. Грушевская.В.А  pomoshnik_pdn277   \n",
       "\n",
       "            mo  priority  calls_amount last_call_date      month  \n",
       "1938     ГП 22         4           6.0     2022-09-15     august  \n",
       "12895    ДКЦ 1         4           1.0     2022-09-02  september  \n",
       "13477   ГП 134         4           1.0     2022-09-02  september  \n",
       "14137   ГП 218         4           2.0     2022-09-13  september  \n",
       "14322    ГП 62         4           1.0     2022-09-02  september  \n",
       "...        ...       ...           ...            ...        ...  \n",
       "108973   ГП 22         4           2.0     2022-09-14  september  \n",
       "109123   ГП 19         4           2.0     2022-09-14  september  \n",
       "109635  ГП 218         4           3.0     2022-09-15  september  \n",
       "109837  ГП 107         4           1.0     2022-09-09  september  \n",
       "109884  ГП 218         4           1.0     2022-09-09  september  \n",
       "\n",
       "[261 rows x 9 columns]"
      ]
     },
     "execution_count": 219,
     "metadata": {},
     "output_type": "execute_result"
    }
   ],
   "source": [
    "tomorrow_record_patients"
   ]
  },
  {
   "cell_type": "code",
   "execution_count": 220,
   "id": "89d5f68b",
   "metadata": {},
   "outputs": [
    {
     "data": {
      "text/plain": [
       "40317"
      ]
     },
     "execution_count": 220,
     "metadata": {},
     "output_type": "execute_result"
    }
   ],
   "source": [
    "final_actual_patients_for_task_ = pd.concat([\n",
    "    final_task_distribution,\n",
    "    august_patients,\n",
    "    second_stage_patients,\n",
    "    tomorrow_record_patients\n",
    "]) \\\n",
    ".sort_values(['priority']).reset_index(drop=True)\n",
    "\n",
    "final_actual_patients_for_task_.shape[0]"
   ]
  },
  {
   "cell_type": "code",
   "execution_count": 221,
   "id": "cb2565d7",
   "metadata": {},
   "outputs": [],
   "source": [
    "# final_actual_patients_for_task = final_actual_patients_for_task_.drop_duplicates(subset=['phone_number'], keep='first')\n",
    "# final_actual_patients_for_task_.shape[0]"
   ]
  },
  {
   "cell_type": "code",
   "execution_count": 222,
   "id": "bec2fef3",
   "metadata": {},
   "outputs": [
    {
     "data": {
      "text/plain": [
       "40156"
      ]
     },
     "execution_count": 222,
     "metadata": {},
     "output_type": "execute_result"
    }
   ],
   "source": [
    "final_actual_patients_for_task_ = final_actual_patients_for_task_.drop_duplicates(subset=['emiasid'], keep='first')\n",
    "final_actual_patients_for_task_.shape[0]"
   ]
  },
  {
   "cell_type": "code",
   "execution_count": null,
   "id": "8c318de5",
   "metadata": {},
   "outputs": [],
   "source": []
  },
  {
   "cell_type": "code",
   "execution_count": 223,
   "id": "70f3bac6",
   "metadata": {},
   "outputs": [
    {
     "data": {
      "text/html": [
       "<div>\n",
       "<style scoped>\n",
       "    .dataframe tbody tr th:only-of-type {\n",
       "        vertical-align: middle;\n",
       "    }\n",
       "\n",
       "    .dataframe tbody tr th {\n",
       "        vertical-align: top;\n",
       "    }\n",
       "\n",
       "    .dataframe thead th {\n",
       "        text-align: right;\n",
       "    }\n",
       "</style>\n",
       "<table border=\"1\" class=\"dataframe\">\n",
       "  <thead>\n",
       "    <tr style=\"text-align: right;\">\n",
       "      <th></th>\n",
       "      <th>emiasid</th>\n",
       "      <th>status</th>\n",
       "      <th>old_comment</th>\n",
       "      <th>operator_login</th>\n",
       "      <th>mo</th>\n",
       "      <th>doctor_fio</th>\n",
       "      <th>priority</th>\n",
       "      <th>calls_amount</th>\n",
       "      <th>last_call_date</th>\n",
       "      <th>month</th>\n",
       "      <th>next_call_date</th>\n",
       "      <th>phone_number</th>\n",
       "      <th>last_call_result</th>\n",
       "      <th>last_talk_result</th>\n",
       "      <th>group</th>\n",
       "      <th>problem</th>\n",
       "      <th>operator_absence</th>\n",
       "    </tr>\n",
       "  </thead>\n",
       "  <tbody>\n",
       "    <tr>\n",
       "      <th>0</th>\n",
       "      <td>16911653</td>\n",
       "      <td>Перенос звонка на другой день</td>\n",
       "      <td>перезвонить , записать к терапевту</td>\n",
       "      <td>pomoshnik_pdn168</td>\n",
       "      <td>ГП 109</td>\n",
       "      <td>Сафиуллина Валерия Романовна</td>\n",
       "      <td>1</td>\n",
       "      <td>2.0</td>\n",
       "      <td>2022-08-31</td>\n",
       "      <td>august</td>\n",
       "      <td>NaN</td>\n",
       "      <td>NaN</td>\n",
       "      <td>NaN</td>\n",
       "      <td>NaN</td>\n",
       "      <td>NaN</td>\n",
       "      <td>NaN</td>\n",
       "      <td>NaN</td>\n",
       "    </tr>\n",
       "    <tr>\n",
       "      <th>1</th>\n",
       "      <td>18577640</td>\n",
       "      <td>Перенос звонка на другой день</td>\n",
       "      <td>NaN</td>\n",
       "      <td>pomoshnik_pdn25</td>\n",
       "      <td>ГП 9</td>\n",
       "      <td>Ильина Татьяна Александровна</td>\n",
       "      <td>1</td>\n",
       "      <td>2.0</td>\n",
       "      <td>2022-09-13</td>\n",
       "      <td>september</td>\n",
       "      <td>NaN</td>\n",
       "      <td>NaN</td>\n",
       "      <td>NaN</td>\n",
       "      <td>NaN</td>\n",
       "      <td>NaN</td>\n",
       "      <td>NaN</td>\n",
       "      <td>NaN</td>\n",
       "    </tr>\n",
       "    <tr>\n",
       "      <th>2</th>\n",
       "      <td>17897612</td>\n",
       "      <td>Перенос звонка на другой день</td>\n",
       "      <td>не хочет наблюдаться</td>\n",
       "      <td>pomoshnik_pdn217</td>\n",
       "      <td>ГП 175</td>\n",
       "      <td>Тихонов Константин Андреевич</td>\n",
       "      <td>1</td>\n",
       "      <td>2.0</td>\n",
       "      <td>2022-09-13</td>\n",
       "      <td>september</td>\n",
       "      <td>NaN</td>\n",
       "      <td>NaN</td>\n",
       "      <td>NaN</td>\n",
       "      <td>NaN</td>\n",
       "      <td>NaN</td>\n",
       "      <td>NaN</td>\n",
       "      <td>NaN</td>\n",
       "    </tr>\n",
       "  </tbody>\n",
       "</table>\n",
       "</div>"
      ],
      "text/plain": [
       "    emiasid                         status  \\\n",
       "0  16911653  Перенос звонка на другой день   \n",
       "1  18577640  Перенос звонка на другой день   \n",
       "2  17897612  Перенос звонка на другой день   \n",
       "\n",
       "                          old_comment    operator_login      mo  \\\n",
       "0  перезвонить , записать к терапевту  pomoshnik_pdn168  ГП 109   \n",
       "1                                 NaN   pomoshnik_pdn25    ГП 9   \n",
       "2                не хочет наблюдаться  pomoshnik_pdn217  ГП 175   \n",
       "\n",
       "                     doctor_fio  priority  calls_amount last_call_date  \\\n",
       "0  Сафиуллина Валерия Романовна         1           2.0     2022-08-31   \n",
       "1  Ильина Татьяна Александровна         1           2.0     2022-09-13   \n",
       "2  Тихонов Константин Андреевич         1           2.0     2022-09-13   \n",
       "\n",
       "       month next_call_date  phone_number last_call_result last_talk_result  \\\n",
       "0     august            NaN           NaN              NaN              NaN   \n",
       "1  september            NaN           NaN              NaN              NaN   \n",
       "2  september            NaN           NaN              NaN              NaN   \n",
       "\n",
       "   group problem  operator_absence  \n",
       "0    NaN     NaN               NaN  \n",
       "1    NaN     NaN               NaN  \n",
       "2    NaN     NaN               NaN  "
      ]
     },
     "execution_count": 223,
     "metadata": {},
     "output_type": "execute_result"
    }
   ],
   "source": [
    "final_actual_patients_for_task_.head(3)"
   ]
  },
  {
   "cell_type": "code",
   "execution_count": 224,
   "id": "1113bf33",
   "metadata": {
    "scrolled": true
   },
   "outputs": [],
   "source": [
    "final_actual_patients_for_task_ = \\\n",
    "final_actual_patients_for_task_[['emiasid', 'status', 'old_comment', 'operator_login', 'mo', 'priority', 'calls_amount',\n",
    "                                'last_call_date', 'month']]"
   ]
  },
  {
   "cell_type": "code",
   "execution_count": 225,
   "id": "67399dd3",
   "metadata": {},
   "outputs": [
    {
     "name": "stderr",
     "output_type": "stream",
     "text": [
      "C:\\Users\\murad_satabaev\\AppData\\Local\\Temp\\ipykernel_6132\\309388853.py:1: FutureWarning: The default value of regex will change from True to False in a future version.\n",
      "  final_actual_patients_for_task_['emiasid'] = final_actual_patients_for_task_['emiasid'].astype(str).str.replace('\\.0', '')\n"
     ]
    }
   ],
   "source": [
    "final_actual_patients_for_task_['emiasid'] = final_actual_patients_for_task_['emiasid'].astype(str).str.replace('\\.0', '')"
   ]
  },
  {
   "cell_type": "code",
   "execution_count": 226,
   "id": "4070212d",
   "metadata": {},
   "outputs": [],
   "source": [
    "initial_assistant_to_patient_distribution_in_today_task = \\\n",
    "final_actual_patients_for_task_.copy()"
   ]
  },
  {
   "cell_type": "code",
   "execution_count": 227,
   "id": "b351a0f9",
   "metadata": {},
   "outputs": [
    {
     "data": {
      "text/plain": [
       "3209"
      ]
     },
     "execution_count": 227,
     "metadata": {},
     "output_type": "execute_result"
    }
   ],
   "source": [
    "initial_assistant_to_patient_distribution_in_today_task.old_comment.nunique()"
   ]
  },
  {
   "cell_type": "code",
   "execution_count": 228,
   "id": "5d021cb7",
   "metadata": {},
   "outputs": [
    {
     "data": {
      "text/html": [
       "<div>\n",
       "<style scoped>\n",
       "    .dataframe tbody tr th:only-of-type {\n",
       "        vertical-align: middle;\n",
       "    }\n",
       "\n",
       "    .dataframe tbody tr th {\n",
       "        vertical-align: top;\n",
       "    }\n",
       "\n",
       "    .dataframe thead th {\n",
       "        text-align: right;\n",
       "    }\n",
       "</style>\n",
       "<table border=\"1\" class=\"dataframe\">\n",
       "  <thead>\n",
       "    <tr style=\"text-align: right;\">\n",
       "      <th></th>\n",
       "      <th></th>\n",
       "      <th>emiasid</th>\n",
       "    </tr>\n",
       "    <tr>\n",
       "      <th>mo</th>\n",
       "      <th>operator_login</th>\n",
       "      <th></th>\n",
       "    </tr>\n",
       "  </thead>\n",
       "  <tbody>\n",
       "    <tr>\n",
       "      <th rowspan=\"7\" valign=\"top\">ГП 107</th>\n",
       "      <th>pomoshnik_pdn131</th>\n",
       "      <td>3</td>\n",
       "    </tr>\n",
       "    <tr>\n",
       "      <th>pomoshnik_pdn130</th>\n",
       "      <td>61</td>\n",
       "    </tr>\n",
       "    <tr>\n",
       "      <th>pomoshnik_pdn148</th>\n",
       "      <td>217</td>\n",
       "    </tr>\n",
       "    <tr>\n",
       "      <th>pomoshnik_pdn43</th>\n",
       "      <td>256</td>\n",
       "    </tr>\n",
       "    <tr>\n",
       "      <th>pomoshnik_pdn129</th>\n",
       "      <td>269</td>\n",
       "    </tr>\n",
       "    <tr>\n",
       "      <th>pomoshnik_pdn185</th>\n",
       "      <td>290</td>\n",
       "    </tr>\n",
       "    <tr>\n",
       "      <th>pomoshnik_pdn109</th>\n",
       "      <td>292</td>\n",
       "    </tr>\n",
       "    <tr>\n",
       "      <th rowspan=\"3\" valign=\"top\">ГП 109</th>\n",
       "      <th>pomoshnik_pdn155</th>\n",
       "      <td>35</td>\n",
       "    </tr>\n",
       "    <tr>\n",
       "      <th>pomoshnik_pdn134</th>\n",
       "      <td>201</td>\n",
       "    </tr>\n",
       "    <tr>\n",
       "      <th>pomoshnik_pdn168</th>\n",
       "      <td>248</td>\n",
       "    </tr>\n",
       "    <tr>\n",
       "      <th rowspan=\"4\" valign=\"top\">ГП 11</th>\n",
       "      <th>pomoshnik_pdn32</th>\n",
       "      <td>75</td>\n",
       "    </tr>\n",
       "    <tr>\n",
       "      <th>pomoshnik_pdn146</th>\n",
       "      <td>207</td>\n",
       "    </tr>\n",
       "    <tr>\n",
       "      <th>pomoshnik_pdn184</th>\n",
       "      <td>304</td>\n",
       "    </tr>\n",
       "    <tr>\n",
       "      <th>pomoshnik_pdn147</th>\n",
       "      <td>364</td>\n",
       "    </tr>\n",
       "    <tr>\n",
       "      <th rowspan=\"5\" valign=\"top\">ГП 134</th>\n",
       "      <th>pomoshnik_pdn63</th>\n",
       "      <td>242</td>\n",
       "    </tr>\n",
       "    <tr>\n",
       "      <th>pomoshnik_pdn93</th>\n",
       "      <td>242</td>\n",
       "    </tr>\n",
       "    <tr>\n",
       "      <th>pomoshnik_pdn75</th>\n",
       "      <td>244</td>\n",
       "    </tr>\n",
       "    <tr>\n",
       "      <th>pomoshnik_pdn7</th>\n",
       "      <td>273</td>\n",
       "    </tr>\n",
       "    <tr>\n",
       "      <th>pomoshnik_pdn89</th>\n",
       "      <td>352</td>\n",
       "    </tr>\n",
       "    <tr>\n",
       "      <th>ГП 166</th>\n",
       "      <th>pomoshnik_pdn209</th>\n",
       "      <td>1</td>\n",
       "    </tr>\n",
       "  </tbody>\n",
       "</table>\n",
       "</div>"
      ],
      "text/plain": [
       "                         emiasid\n",
       "mo     operator_login           \n",
       "ГП 107 pomoshnik_pdn131        3\n",
       "       pomoshnik_pdn130       61\n",
       "       pomoshnik_pdn148      217\n",
       "       pomoshnik_pdn43       256\n",
       "       pomoshnik_pdn129      269\n",
       "       pomoshnik_pdn185      290\n",
       "       pomoshnik_pdn109      292\n",
       "ГП 109 pomoshnik_pdn155       35\n",
       "       pomoshnik_pdn134      201\n",
       "       pomoshnik_pdn168      248\n",
       "ГП 11  pomoshnik_pdn32        75\n",
       "       pomoshnik_pdn146      207\n",
       "       pomoshnik_pdn184      304\n",
       "       pomoshnik_pdn147      364\n",
       "ГП 134 pomoshnik_pdn63       242\n",
       "       pomoshnik_pdn93       242\n",
       "       pomoshnik_pdn75       244\n",
       "       pomoshnik_pdn7        273\n",
       "       pomoshnik_pdn89       352\n",
       "ГП 166 pomoshnik_pdn209        1"
      ]
     },
     "execution_count": 228,
     "metadata": {},
     "output_type": "execute_result"
    }
   ],
   "source": [
    "initial_assistant_to_patient_distribution_in_today_task.groupby(['mo', 'operator_login']).agg({'emiasid': 'count'}).sort_values(\n",
    "    ['mo', 'emiasid']).head(20)"
   ]
  },
  {
   "cell_type": "code",
   "execution_count": 229,
   "id": "c8dd9d33",
   "metadata": {},
   "outputs": [],
   "source": [
    "# initial_assistant_to_patient_distribution_in_today_task.to_excel('initial_assistant_to_patient_distribution_in_today_task.xlsx')"
   ]
  },
  {
   "cell_type": "code",
   "execution_count": 230,
   "id": "b5fa49fa",
   "metadata": {},
   "outputs": [
    {
     "data": {
      "text/plain": [
       "set()"
      ]
     },
     "execution_count": 230,
     "metadata": {},
     "output_type": "execute_result"
    }
   ],
   "source": [
    "set(present_assistants.login.unique()) - \\\n",
    "(set(initial_assistant_to_patient_distribution_in_today_task.operator_login.unique()) - {np.nan})"
   ]
  },
  {
   "cell_type": "code",
   "execution_count": 231,
   "id": "c494f678",
   "metadata": {},
   "outputs": [],
   "source": [
    "task_amount = 120"
   ]
  },
  {
   "cell_type": "code",
   "execution_count": 232,
   "id": "e2edd3ec",
   "metadata": {},
   "outputs": [
    {
     "name": "stdout",
     "output_type": "stream",
     "text": [
      "CPU times: total: 2.64 s\n",
      "Wall time: 2.63 s\n"
     ]
    },
    {
     "data": {
      "text/plain": [
       "22028"
      ]
     },
     "execution_count": 232,
     "metadata": {},
     "output_type": "execute_result"
    }
   ],
   "source": [
    "%%time\n",
    "\n",
    "initial_task_for_today = pd.DataFrame()\n",
    "for operator_login in set(initial_assistant_to_patient_distribution_in_today_task.operator_login):\n",
    "    initial_assistant_to_patient_distribution_in_today_task_for_operator_login = \\\n",
    "    initial_assistant_to_patient_distribution_in_today_task[initial_assistant_to_patient_distribution_in_today_task \\\n",
    "                                                            .operator_login\n",
    "         == operator_login].sort_values(by=['priority', 'last_call_date', 'calls_amount'])\n",
    "    call_back_number_for_operator_login = initial_assistant_to_patient_distribution_in_today_task_for_operator_login[\n",
    "        initial_assistant_to_patient_distribution_in_today_task_for_operator_login.status.isin({\n",
    "            'Перезвонить сегодня', 'Перенос звонка на другой день'})].shape[0]\n",
    "\n",
    "    initial_task_for_today = pd.concat(\n",
    "        [initial_task_for_today, \n",
    "\n",
    "         \n",
    "         initial_assistant_to_patient_distribution_in_today_task[\n",
    "             (initial_assistant_to_patient_distribution_in_today_task.operator_login==operator_login)\n",
    "         ].head(task_amount),\n",
    "        \n",
    "       \n",
    "        ]).reset_index(drop=True)\n",
    "\n",
    "initial_task_for_today.shape[0]"
   ]
  },
  {
   "cell_type": "code",
   "execution_count": 233,
   "id": "06a09bd5",
   "metadata": {},
   "outputs": [
    {
     "data": {
      "text/html": [
       "<div>\n",
       "<style scoped>\n",
       "    .dataframe tbody tr th:only-of-type {\n",
       "        vertical-align: middle;\n",
       "    }\n",
       "\n",
       "    .dataframe tbody tr th {\n",
       "        vertical-align: top;\n",
       "    }\n",
       "\n",
       "    .dataframe thead th {\n",
       "        text-align: right;\n",
       "    }\n",
       "</style>\n",
       "<table border=\"1\" class=\"dataframe\">\n",
       "  <thead>\n",
       "    <tr style=\"text-align: right;\">\n",
       "      <th></th>\n",
       "      <th></th>\n",
       "      <th>emiasid</th>\n",
       "    </tr>\n",
       "    <tr>\n",
       "      <th>mo</th>\n",
       "      <th>operator_login</th>\n",
       "      <th></th>\n",
       "    </tr>\n",
       "  </thead>\n",
       "  <tbody>\n",
       "    <tr>\n",
       "      <th>ГП 170</th>\n",
       "      <th>pomoshnik_pdn151</th>\n",
       "      <td>1</td>\n",
       "    </tr>\n",
       "    <tr>\n",
       "      <th rowspan=\"2\" valign=\"top\">ГП 166</th>\n",
       "      <th>Помощник 7</th>\n",
       "      <td>1</td>\n",
       "    </tr>\n",
       "    <tr>\n",
       "      <th>pomoshnik_pdn209</th>\n",
       "      <td>1</td>\n",
       "    </tr>\n",
       "    <tr>\n",
       "      <th>ГП 107</th>\n",
       "      <th>pomoshnik_pdn131</th>\n",
       "      <td>3</td>\n",
       "    </tr>\n",
       "    <tr>\n",
       "      <th>ДЦ 5</th>\n",
       "      <th>pomoshnik_pdn53</th>\n",
       "      <td>6</td>\n",
       "    </tr>\n",
       "    <tr>\n",
       "      <th>ДЦ 3</th>\n",
       "      <th>pomoshnik_pdn98</th>\n",
       "      <td>11</td>\n",
       "    </tr>\n",
       "    <tr>\n",
       "      <th>ГП 69</th>\n",
       "      <th>pomoshnik_pdn216</th>\n",
       "      <td>15</td>\n",
       "    </tr>\n",
       "    <tr>\n",
       "      <th>ГП 6</th>\n",
       "      <th>pomoshnik_pdn173</th>\n",
       "      <td>16</td>\n",
       "    </tr>\n",
       "    <tr>\n",
       "      <th rowspan=\"2\" valign=\"top\">ГП 68</th>\n",
       "      <th>pomoshnik_pdn240</th>\n",
       "      <td>18</td>\n",
       "    </tr>\n",
       "    <tr>\n",
       "      <th>pomoshnik_pdn242</th>\n",
       "      <td>20</td>\n",
       "    </tr>\n",
       "  </tbody>\n",
       "</table>\n",
       "</div>"
      ],
      "text/plain": [
       "                         emiasid\n",
       "mo     operator_login           \n",
       "ГП 170 pomoshnik_pdn151        1\n",
       "ГП 166 Помощник 7              1\n",
       "       pomoshnik_pdn209        1\n",
       "ГП 107 pomoshnik_pdn131        3\n",
       "ДЦ 5   pomoshnik_pdn53         6\n",
       "ДЦ 3   pomoshnik_pdn98        11\n",
       "ГП 69  pomoshnik_pdn216       15\n",
       "ГП 6   pomoshnik_pdn173       16\n",
       "ГП 68  pomoshnik_pdn240       18\n",
       "       pomoshnik_pdn242       20"
      ]
     },
     "execution_count": 233,
     "metadata": {},
     "output_type": "execute_result"
    }
   ],
   "source": [
    "initial_task_for_today \\\n",
    ".groupby(['mo', 'operator_login']).agg({'emiasid': 'count'}).sort_values(['mo', 'emiasid'])\\\n",
    ".sort_values(by='emiasid', ascending=True).head(10)"
   ]
  },
  {
   "cell_type": "code",
   "execution_count": 234,
   "id": "9dbdcc0b",
   "metadata": {},
   "outputs": [
    {
     "data": {
      "text/html": [
       "<div>\n",
       "<style scoped>\n",
       "    .dataframe tbody tr th:only-of-type {\n",
       "        vertical-align: middle;\n",
       "    }\n",
       "\n",
       "    .dataframe tbody tr th {\n",
       "        vertical-align: top;\n",
       "    }\n",
       "\n",
       "    .dataframe thead th {\n",
       "        text-align: right;\n",
       "    }\n",
       "</style>\n",
       "<table border=\"1\" class=\"dataframe\">\n",
       "  <thead>\n",
       "    <tr style=\"text-align: right;\">\n",
       "      <th></th>\n",
       "      <th></th>\n",
       "      <th>emiasid</th>\n",
       "    </tr>\n",
       "    <tr>\n",
       "      <th>mo</th>\n",
       "      <th>operator_login</th>\n",
       "      <th></th>\n",
       "    </tr>\n",
       "  </thead>\n",
       "  <tbody>\n",
       "    <tr>\n",
       "      <th>ГП 45</th>\n",
       "      <th>pomoshnik_pdn292</th>\n",
       "      <td>120</td>\n",
       "    </tr>\n",
       "    <tr>\n",
       "      <th>ГП 66</th>\n",
       "      <th>pomoshnik_pdn249</th>\n",
       "      <td>120</td>\n",
       "    </tr>\n",
       "    <tr>\n",
       "      <th rowspan=\"4\" valign=\"top\">ГП 64</th>\n",
       "      <th>pomoshnik_pdn45</th>\n",
       "      <td>120</td>\n",
       "    </tr>\n",
       "    <tr>\n",
       "      <th>pomoshnik_pdn47</th>\n",
       "      <td>120</td>\n",
       "    </tr>\n",
       "    <tr>\n",
       "      <th>pomoshnik_pdn79</th>\n",
       "      <td>120</td>\n",
       "    </tr>\n",
       "    <tr>\n",
       "      <th>pomoshnik_pdn80</th>\n",
       "      <td>120</td>\n",
       "    </tr>\n",
       "    <tr>\n",
       "      <th rowspan=\"4\" valign=\"top\">ГП 66</th>\n",
       "      <th>pomoshnik_pdn116</th>\n",
       "      <td>120</td>\n",
       "    </tr>\n",
       "    <tr>\n",
       "      <th>pomoshnik_pdn159</th>\n",
       "      <td>120</td>\n",
       "    </tr>\n",
       "    <tr>\n",
       "      <th>pomoshnik_pdn176</th>\n",
       "      <td>120</td>\n",
       "    </tr>\n",
       "    <tr>\n",
       "      <th>pomoshnik_pdn21</th>\n",
       "      <td>120</td>\n",
       "    </tr>\n",
       "  </tbody>\n",
       "</table>\n",
       "</div>"
      ],
      "text/plain": [
       "                        emiasid\n",
       "mo    operator_login           \n",
       "ГП 45 pomoshnik_pdn292      120\n",
       "ГП 66 pomoshnik_pdn249      120\n",
       "ГП 64 pomoshnik_pdn45       120\n",
       "      pomoshnik_pdn47       120\n",
       "      pomoshnik_pdn79       120\n",
       "      pomoshnik_pdn80       120\n",
       "ГП 66 pomoshnik_pdn116      120\n",
       "      pomoshnik_pdn159      120\n",
       "      pomoshnik_pdn176      120\n",
       "      pomoshnik_pdn21       120"
      ]
     },
     "execution_count": 234,
     "metadata": {},
     "output_type": "execute_result"
    }
   ],
   "source": [
    "initial_task_for_today \\\n",
    ".groupby(['mo', 'operator_login']).agg({'emiasid': 'count'}).sort_values(['mo', 'emiasid'])\\\n",
    ".sort_values(by='emiasid', ascending=False).head(10)"
   ]
  },
  {
   "cell_type": "code",
   "execution_count": 235,
   "id": "d3217940",
   "metadata": {},
   "outputs": [],
   "source": [
    "rename_mo = \\\n",
    "{'ГБУЗ Г МОСКВЫ ГП № 170 ДЗМ': 'ГП 170', ' ГП 6 ДЗМ': 'ГП 6', 'ГБУЗ КДЦ 6 ДЗМ':'КДЦ 6', \n",
    "             'ГБУЗ \"ГП № 134 ДЗМ\"': 'ГП 134', 'КДЦ 4': 'КДЦ 4', 'ГБУЗ ДКЦ 1 ДЗМ': 'ДКЦ 1', 'ГБУЗ ГП 23 ДЗМ': 'ГП 23',\n",
    "             'ГБУЗ ГП 109 ДЗМ': 'ГП 109', 'ГБУЗ ГП 11 ДЗМ': 'ГП 11', 'ГБУЗ ГП 64 ДЗМ': 'ГП 64', 'ГБУЗ ГП 191 ДЗМ': 'ГП 191', \n",
    "             'ГБУЗ ГП 220 ДЗМ': 'ГП 220', 'ГБУЗ \"ГП № 218 ДЗМ\"': 'ГП 218',  'ГБУЗ ГП 107 ДЗМ': 'ГП 107', \n",
    "             'ГБУЗ \"ГП № 22 ДЗМ\"': 'ГП 22', 'ГБУЗ ДЦ 5 ДЗМ': 'ДЦ 5', 'ГБУЗ ГП 210 ДЗМ': 'ГП 210', 'ГБУЗ ГП 214 ДЗМ': 'ГП 214', \n",
    "             'ГБУЗ ГП 2 ДЗМ': 'ГП 2', 'ГБУЗ КДП 121 ДЗМ': 'КДП 121', 'ГБУЗ ГП 66 ДЗМ': 'ГП 66',  'ГБУЗ ДЦ 3 ДЗМ ': 'ДЦ 3',\n",
    "             'ГБУЗ ГП 36 ДЗМ': 'ГП 36',  'ГБУЗ ГП 62 ДЗМ ': 'ГП 62', \n",
    "            'ГБУЗ \"ГП № 52 ДЗМ\"': 'ГП 52', 'ГБУЗ \"ГП 67 ДЗМ\"': 'ГП 67', 'ГБУЗ ГП 68 ДЗМ': 'ГП 68', 'ГБУЗ ГП 175 ДЗМ': 'ГП 175',\n",
    "'ГБУЗ ГП № 209 ДЗМ': 'ГП 209',  'ГБУЗ ГП 212 ДЗМ': 'ГП 212', 'ГБУЗ ГП 19 ДЗМ': 'ГП 19', \n",
    "'ГБУЗ ГП №166 ДЗМ': 'ГП 166', 'ГБУЗ ГП 9 ДЗМ': 'ГП 9', 'ГБУЗ ГП 69 ДЗМ': 'ГП 69',\n",
    "'ГБУЗ \"ГП № 3 ДЗМ\"': 'ГП 3', 'ГБУЗ ГП 5 ДЗМ': 'ГП 5', 'ГБУЗ ГП 46 ДЗМ': 'ГП 46', 'ГБУЗ ГП №8 ДЗМ': 'ГП 8', \n",
    "'ГБУЗ \"ГП № 45 ДЗМ\"': 'ГП 45'}"
   ]
  },
  {
   "cell_type": "code",
   "execution_count": 236,
   "id": "35636e07",
   "metadata": {},
   "outputs": [],
   "source": [
    "mo_list = set(rename_mo.values())"
   ]
  },
  {
   "cell_type": "code",
   "execution_count": 237,
   "id": "d30754e9",
   "metadata": {
    "scrolled": true
   },
   "outputs": [],
   "source": [
    "# new_doctor_patients = \\\n",
    "# initial_assistant_to_patient_distribution_in_today_task[(initial_assistant_to_patient_distribution_in_today_task.mo.isin(mo_list)) & \n",
    "#                     (~initial_assistant_to_patient_distribution_in_today_task.doctor_fio.isin(doctors_list))].reset_index(drop=True)\n",
    "# new_doctor_patients = new_doctor_patients[~new_doctor_patients.emiasid.isin(calls_data.emiasid)]"
   ]
  },
  {
   "cell_type": "code",
   "execution_count": 238,
   "id": "f69cdfa1",
   "metadata": {},
   "outputs": [],
   "source": [
    "initial_task_for_today_present_assistants = \\\n",
    "initial_task_for_today[~initial_task_for_today.operator_login.isin(absent_assistants.login)]"
   ]
  },
  {
   "cell_type": "code",
   "execution_count": 239,
   "id": "44f87058",
   "metadata": {},
   "outputs": [
    {
     "data": {
      "text/plain": [
       "4044"
      ]
     },
     "execution_count": 239,
     "metadata": {},
     "output_type": "execute_result"
    }
   ],
   "source": [
    "initial_task_for_today[initial_task_for_today.operator_login.isin(absent_assistants.login)].shape[0]"
   ]
  },
  {
   "cell_type": "code",
   "execution_count": 240,
   "id": "cae7022e",
   "metadata": {},
   "outputs": [
    {
     "data": {
      "text/plain": [
       "17984"
      ]
     },
     "execution_count": 240,
     "metadata": {},
     "output_type": "execute_result"
    }
   ],
   "source": [
    "initial_task_for_today_present_assistants.shape[0]"
   ]
  },
  {
   "cell_type": "code",
   "execution_count": 241,
   "id": "fda2c029",
   "metadata": {},
   "outputs": [
    {
     "data": {
      "text/html": [
       "<div>\n",
       "<style scoped>\n",
       "    .dataframe tbody tr th:only-of-type {\n",
       "        vertical-align: middle;\n",
       "    }\n",
       "\n",
       "    .dataframe tbody tr th {\n",
       "        vertical-align: top;\n",
       "    }\n",
       "\n",
       "    .dataframe thead th {\n",
       "        text-align: right;\n",
       "    }\n",
       "</style>\n",
       "<table border=\"1\" class=\"dataframe\">\n",
       "  <thead>\n",
       "    <tr style=\"text-align: right;\">\n",
       "      <th></th>\n",
       "      <th>emiasid</th>\n",
       "    </tr>\n",
       "    <tr>\n",
       "      <th>operator_login</th>\n",
       "      <th></th>\n",
       "    </tr>\n",
       "  </thead>\n",
       "  <tbody>\n",
       "    <tr>\n",
       "      <th>pomoshnik_pdn100</th>\n",
       "      <td>120</td>\n",
       "    </tr>\n",
       "    <tr>\n",
       "      <th>pomoshnik_pdn37</th>\n",
       "      <td>120</td>\n",
       "    </tr>\n",
       "    <tr>\n",
       "      <th>pomoshnik_pdn303</th>\n",
       "      <td>120</td>\n",
       "    </tr>\n",
       "    <tr>\n",
       "      <th>pomoshnik_pdn307</th>\n",
       "      <td>120</td>\n",
       "    </tr>\n",
       "    <tr>\n",
       "      <th>pomoshnik_pdn309</th>\n",
       "      <td>120</td>\n",
       "    </tr>\n",
       "    <tr>\n",
       "      <th>...</th>\n",
       "      <td>...</td>\n",
       "    </tr>\n",
       "    <tr>\n",
       "      <th>pomoshnik_pdn242</th>\n",
       "      <td>20</td>\n",
       "    </tr>\n",
       "    <tr>\n",
       "      <th>pomoshnik_pdn240</th>\n",
       "      <td>18</td>\n",
       "    </tr>\n",
       "    <tr>\n",
       "      <th>pomoshnik_pdn173</th>\n",
       "      <td>16</td>\n",
       "    </tr>\n",
       "    <tr>\n",
       "      <th>pomoshnik_pdn131</th>\n",
       "      <td>3</td>\n",
       "    </tr>\n",
       "    <tr>\n",
       "      <th>pomoshnik_pdn151</th>\n",
       "      <td>1</td>\n",
       "    </tr>\n",
       "  </tbody>\n",
       "</table>\n",
       "<p>165 rows × 1 columns</p>\n",
       "</div>"
      ],
      "text/plain": [
       "                  emiasid\n",
       "operator_login           \n",
       "pomoshnik_pdn100      120\n",
       "pomoshnik_pdn37       120\n",
       "pomoshnik_pdn303      120\n",
       "pomoshnik_pdn307      120\n",
       "pomoshnik_pdn309      120\n",
       "...                   ...\n",
       "pomoshnik_pdn242       20\n",
       "pomoshnik_pdn240       18\n",
       "pomoshnik_pdn173       16\n",
       "pomoshnik_pdn131        3\n",
       "pomoshnik_pdn151        1\n",
       "\n",
       "[165 rows x 1 columns]"
      ]
     },
     "execution_count": 241,
     "metadata": {},
     "output_type": "execute_result"
    }
   ],
   "source": [
    "initial_task_for_today_present_assistants.groupby('operator_login').agg({'emiasid': 'count'}).sort_values('emiasid', ascending=False)"
   ]
  },
  {
   "cell_type": "code",
   "execution_count": 242,
   "id": "958f7cff",
   "metadata": {},
   "outputs": [],
   "source": [
    "initial_task_for_today_absent_assistants =  \\\n",
    "initial_task_for_today[initial_task_for_today.operator_login.isin(absent_assistants.login)] \\\n",
    "[['emiasid', 'status', 'old_comment', 'mo', 'priority', 'month']]"
   ]
  },
  {
   "cell_type": "code",
   "execution_count": 243,
   "id": "0eaccfe4",
   "metadata": {},
   "outputs": [],
   "source": [
    "additional_task_for_present_assistants = \\\n",
    "pd.concat([\n",
    "#     new_doctor_patients,\n",
    "    initial_task_for_today_absent_assistants\n",
    "]).reset_index(drop=True)"
   ]
  },
  {
   "cell_type": "code",
   "execution_count": 244,
   "id": "3558cddb",
   "metadata": {},
   "outputs": [],
   "source": [
    "additional_task_for_present_assistants_by_mo = \\\n",
    "additional_task_for_present_assistants.groupby(['mo']).agg({'emiasid': 'count'}).sort_values(by=['mo', 'emiasid'])"
   ]
  },
  {
   "cell_type": "code",
   "execution_count": 245,
   "id": "c05b566b",
   "metadata": {},
   "outputs": [],
   "source": [
    "distribution_count = initial_task_for_today_present_assistants.groupby(['mo']) \\\n",
    ".agg({'emiasid': 'count', 'operator_login': 'nunique'}) \\\n",
    ".sort_values(by=['mo', 'emiasid'])"
   ]
  },
  {
   "cell_type": "code",
   "execution_count": 246,
   "id": "451357eb",
   "metadata": {},
   "outputs": [],
   "source": [
    "distribution_count['total_delta'] = distribution_count['operator_login'] * task_amount - distribution_count['emiasid']"
   ]
  },
  {
   "cell_type": "code",
   "execution_count": 247,
   "id": "f428e6a7",
   "metadata": {},
   "outputs": [],
   "source": [
    "distribution_count = distribution_count[distribution_count.total_delta > 0]"
   ]
  },
  {
   "cell_type": "code",
   "execution_count": 248,
   "id": "62d9772a",
   "metadata": {},
   "outputs": [
    {
     "data": {
      "text/html": [
       "<div>\n",
       "<style scoped>\n",
       "    .dataframe tbody tr th:only-of-type {\n",
       "        vertical-align: middle;\n",
       "    }\n",
       "\n",
       "    .dataframe tbody tr th {\n",
       "        vertical-align: top;\n",
       "    }\n",
       "\n",
       "    .dataframe thead th {\n",
       "        text-align: right;\n",
       "    }\n",
       "</style>\n",
       "<table border=\"1\" class=\"dataframe\">\n",
       "  <thead>\n",
       "    <tr style=\"text-align: right;\">\n",
       "      <th></th>\n",
       "      <th>emiasid</th>\n",
       "      <th>status</th>\n",
       "      <th>old_comment</th>\n",
       "      <th>mo</th>\n",
       "      <th>priority</th>\n",
       "      <th>month</th>\n",
       "    </tr>\n",
       "  </thead>\n",
       "  <tbody>\n",
       "    <tr>\n",
       "      <th>0</th>\n",
       "      <td>10823061</td>\n",
       "      <td>Будет в Москве в другом месяце</td>\n",
       "      <td>NaN</td>\n",
       "      <td>ДЦ 5</td>\n",
       "      <td>3</td>\n",
       "      <td>august</td>\n",
       "    </tr>\n",
       "    <tr>\n",
       "      <th>1</th>\n",
       "      <td>19053749</td>\n",
       "      <td>Будет в Москве в другом месяце</td>\n",
       "      <td>не в Москве,сентябрь</td>\n",
       "      <td>ДЦ 5</td>\n",
       "      <td>3</td>\n",
       "      <td>august</td>\n",
       "    </tr>\n",
       "    <tr>\n",
       "      <th>2</th>\n",
       "      <td>30000000643031</td>\n",
       "      <td>Запишется самостоятельно</td>\n",
       "      <td>NaN</td>\n",
       "      <td>ДЦ 5</td>\n",
       "      <td>3</td>\n",
       "      <td>august</td>\n",
       "    </tr>\n",
       "    <tr>\n",
       "      <th>3</th>\n",
       "      <td>19335604</td>\n",
       "      <td>Будет в Москве в другом месяце</td>\n",
       "      <td>не в Москве.будет в сентябре.</td>\n",
       "      <td>ДЦ 5</td>\n",
       "      <td>3</td>\n",
       "      <td>august</td>\n",
       "    </tr>\n",
       "    <tr>\n",
       "      <th>4</th>\n",
       "      <td>17686600</td>\n",
       "      <td>Будет в Москве в другом месяце</td>\n",
       "      <td>не в Москве , сентябрь</td>\n",
       "      <td>ДЦ 5</td>\n",
       "      <td>3</td>\n",
       "      <td>august</td>\n",
       "    </tr>\n",
       "    <tr>\n",
       "      <th>...</th>\n",
       "      <td>...</td>\n",
       "      <td>...</td>\n",
       "      <td>...</td>\n",
       "      <td>...</td>\n",
       "      <td>...</td>\n",
       "      <td>...</td>\n",
       "    </tr>\n",
       "    <tr>\n",
       "      <th>4039</th>\n",
       "      <td>21634808</td>\n",
       "      <td>Не дозвонились</td>\n",
       "      <td>NaN</td>\n",
       "      <td>ГП 22</td>\n",
       "      <td>5</td>\n",
       "      <td>september</td>\n",
       "    </tr>\n",
       "    <tr>\n",
       "      <th>4040</th>\n",
       "      <td>16042160</td>\n",
       "      <td>Не дозвонились</td>\n",
       "      <td>NaN</td>\n",
       "      <td>ГП 22</td>\n",
       "      <td>5</td>\n",
       "      <td>september</td>\n",
       "    </tr>\n",
       "    <tr>\n",
       "      <th>4041</th>\n",
       "      <td>10919276</td>\n",
       "      <td>Не дозвонились</td>\n",
       "      <td>NaN</td>\n",
       "      <td>ГП 22</td>\n",
       "      <td>5</td>\n",
       "      <td>september</td>\n",
       "    </tr>\n",
       "    <tr>\n",
       "      <th>4042</th>\n",
       "      <td>19036014</td>\n",
       "      <td>Не дозвонились</td>\n",
       "      <td>NaN</td>\n",
       "      <td>ГП 22</td>\n",
       "      <td>5</td>\n",
       "      <td>september</td>\n",
       "    </tr>\n",
       "    <tr>\n",
       "      <th>4043</th>\n",
       "      <td>20454968</td>\n",
       "      <td>Не дозвонились</td>\n",
       "      <td>NaN</td>\n",
       "      <td>ГП 22</td>\n",
       "      <td>5</td>\n",
       "      <td>september</td>\n",
       "    </tr>\n",
       "  </tbody>\n",
       "</table>\n",
       "<p>4044 rows × 6 columns</p>\n",
       "</div>"
      ],
      "text/plain": [
       "             emiasid                          status  \\\n",
       "0           10823061  Будет в Москве в другом месяце   \n",
       "1           19053749  Будет в Москве в другом месяце   \n",
       "2     30000000643031        Запишется самостоятельно   \n",
       "3           19335604  Будет в Москве в другом месяце   \n",
       "4           17686600  Будет в Москве в другом месяце   \n",
       "...              ...                             ...   \n",
       "4039        21634808                  Не дозвонились   \n",
       "4040        16042160                  Не дозвонились   \n",
       "4041        10919276                  Не дозвонились   \n",
       "4042        19036014                  Не дозвонились   \n",
       "4043        20454968                  Не дозвонились   \n",
       "\n",
       "                        old_comment     mo  priority      month  \n",
       "0                               NaN   ДЦ 5         3     august  \n",
       "1              не в Москве,сентябрь   ДЦ 5         3     august  \n",
       "2                               NaN   ДЦ 5         3     august  \n",
       "3     не в Москве.будет в сентябре.   ДЦ 5         3     august  \n",
       "4            не в Москве , сентябрь   ДЦ 5         3     august  \n",
       "...                             ...    ...       ...        ...  \n",
       "4039                            NaN  ГП 22         5  september  \n",
       "4040                            NaN  ГП 22         5  september  \n",
       "4041                            NaN  ГП 22         5  september  \n",
       "4042                            NaN  ГП 22         5  september  \n",
       "4043                            NaN  ГП 22         5  september  \n",
       "\n",
       "[4044 rows x 6 columns]"
      ]
     },
     "execution_count": 248,
     "metadata": {},
     "output_type": "execute_result"
    }
   ],
   "source": [
    "additional_task_for_present_assistants"
   ]
  },
  {
   "cell_type": "code",
   "execution_count": 249,
   "id": "99ef9048",
   "metadata": {},
   "outputs": [],
   "source": [
    "final_task_predistribution = \\\n",
    "pd.concat([initial_task_for_today_present_assistants, additional_task_for_present_assistants]).reset_index(drop=True)"
   ]
  },
  {
   "cell_type": "code",
   "execution_count": 250,
   "id": "81d9a641",
   "metadata": {},
   "outputs": [
    {
     "data": {
      "text/plain": [
       "4044"
      ]
     },
     "execution_count": 250,
     "metadata": {},
     "output_type": "execute_result"
    }
   ],
   "source": [
    "empty_login_patients_amount_before = final_task_predistribution[final_task_predistribution.operator_login.isna()].shape[0]\n",
    "empty_login_patients_amount_before"
   ]
  },
  {
   "cell_type": "code",
   "execution_count": 251,
   "id": "fe87034e",
   "metadata": {},
   "outputs": [
    {
     "name": "stdout",
     "output_type": "stream",
     "text": [
      "CPU times: total: 10.5 s\n",
      "Wall time: 10.7 s\n"
     ]
    }
   ],
   "source": [
    "%%time\n",
    "\n",
    "for mo in distribution_count.index:\n",
    "    \n",
    "    while final_task_predistribution[final_task_predistribution.mo == mo].groupby('operator_login') \\\n",
    "    .agg({'emiasid': 'count'}).min()['emiasid'] < task_amount and \\\n",
    "    final_task_predistribution[(final_task_predistribution.operator_login.isna()) & (final_task_predistribution.mo == mo)] \\\n",
    "    .shape[0] > 0:\n",
    "        \n",
    "        miminal_in_mo_assistant_emiasid_amount = final_task_predistribution[final_task_predistribution.mo == mo] \\\n",
    "        .groupby('operator_login').agg({'emiasid': 'count'}).min()['emiasid']\n",
    "\n",
    "        minimal_in_mo_emiasid_amount_login = final_task_predistribution[final_task_predistribution.mo == mo] \\\n",
    "        .groupby('operator_login').agg({'emiasid': 'count'}).sort_values(by='emiasid').index[0]\n",
    "        \n",
    "        \n",
    "        empty_login_in_mo_index = final_task_predistribution[\n",
    "            (final_task_predistribution.operator_login.isna()) & (final_task_predistribution.mo == mo)\n",
    "        ].index[0]\n",
    "        \n",
    "        final_task_predistribution = \\\n",
    "        final_task_predistribution.sort_values(by=['priority', 'last_call_date', 'calls_amount'])\n",
    "\n",
    "        final_task_predistribution.loc[empty_login_in_mo_index, 'operator_login'] = minimal_in_mo_emiasid_amount_login\n"
   ]
  },
  {
   "cell_type": "code",
   "execution_count": 252,
   "id": "4209d63d",
   "metadata": {
    "scrolled": true
   },
   "outputs": [
    {
     "data": {
      "text/plain": [
       "3562"
      ]
     },
     "execution_count": 252,
     "metadata": {},
     "output_type": "execute_result"
    }
   ],
   "source": [
    "empty_login_patients_amount_after = final_task_predistribution[final_task_predistribution.operator_login.isna()].shape[0]\n",
    "empty_login_patients_amount_after"
   ]
  },
  {
   "cell_type": "code",
   "execution_count": null,
   "id": "9342ca81",
   "metadata": {},
   "outputs": [],
   "source": []
  },
  {
   "cell_type": "code",
   "execution_count": 253,
   "id": "d33b5bd7",
   "metadata": {},
   "outputs": [],
   "source": [
    "final_task_distribution = final_task_predistribution[~final_task_predistribution.operator_login.isna()] \\\n",
    ".copy().reset_index(drop=True)"
   ]
  },
  {
   "cell_type": "code",
   "execution_count": null,
   "id": "ea769122",
   "metadata": {},
   "outputs": [],
   "source": []
  },
  {
   "cell_type": "code",
   "execution_count": 254,
   "id": "24fba38a",
   "metadata": {},
   "outputs": [
    {
     "data": {
      "text/plain": [
       "Не дозвонились                    8862\n",
       "Перенос звонка на другой день     4744\n",
       "Ни разу не звонили                2365\n",
       "Разговор состоялся                1168\n",
       "Перезвонить сегодня                371\n",
       "Запишется самостоятельно           356\n",
       "Будет в Москве в другом месяце     333\n",
       "Напомнить                          229\n",
       "Не нравится врач                    15\n",
       "Не нравится МО                       8\n",
       "Отказ                                6\n",
       "Госпитализирован                     5\n",
       "Живет не в Москве                    3\n",
       "Пациент отрицает диагноз             1\n",
       "Name: status, dtype: int64"
      ]
     },
     "execution_count": 254,
     "metadata": {},
     "output_type": "execute_result"
    }
   ],
   "source": [
    "final_task_distribution.status.value_counts()"
   ]
  },
  {
   "cell_type": "code",
   "execution_count": 255,
   "id": "269ffe72",
   "metadata": {},
   "outputs": [
    {
     "data": {
      "text/plain": [
       "pomoshnik_pdn168    120\n",
       "pomoshnik_pdn43     120\n",
       "pomoshnik_pdn212    120\n",
       "pomoshnik_pdn2      120\n",
       "pomoshnik_pdn177    120\n",
       "                   ... \n",
       "pomoshnik_pdn270     33\n",
       "pomoshnik_pdn265     25\n",
       "pomoshnik_pdn173     16\n",
       "pomoshnik_pdn131      3\n",
       "pomoshnik_pdn151      1\n",
       "Name: operator_login, Length: 165, dtype: int64"
      ]
     },
     "execution_count": 255,
     "metadata": {},
     "output_type": "execute_result"
    }
   ],
   "source": [
    "final_task_distribution.operator_login.value_counts()"
   ]
  },
  {
   "cell_type": "code",
   "execution_count": null,
   "id": "2330ea9f",
   "metadata": {},
   "outputs": [],
   "source": []
  },
  {
   "cell_type": "code",
   "execution_count": null,
   "id": "0168e629",
   "metadata": {},
   "outputs": [],
   "source": []
  },
  {
   "cell_type": "code",
   "execution_count": null,
   "id": "0a03da36",
   "metadata": {},
   "outputs": [],
   "source": []
  },
  {
   "cell_type": "code",
   "execution_count": 256,
   "id": "388b26be",
   "metadata": {},
   "outputs": [],
   "source": [
    "final_task_distribution = final_task_distribution.rename(columns={'login': 'operator_login'})"
   ]
  },
  {
   "cell_type": "code",
   "execution_count": 257,
   "id": "caf2d1c9",
   "metadata": {},
   "outputs": [],
   "source": [
    "final_task_distribution = final_task_distribution.rename(columns={'last_comment': 'old_comment'})"
   ]
  },
  {
   "cell_type": "code",
   "execution_count": 258,
   "id": "03cb6de6",
   "metadata": {},
   "outputs": [
    {
     "data": {
      "text/plain": [
       "18466"
      ]
     },
     "execution_count": 258,
     "metadata": {},
     "output_type": "execute_result"
    }
   ],
   "source": [
    "final_task_distribution.shape[0]"
   ]
  },
  {
   "cell_type": "code",
   "execution_count": 271,
   "id": "ac380ee3",
   "metadata": {},
   "outputs": [
    {
     "data": {
      "text/plain": [
       "emiasid    2266\n",
       "dtype: int64"
      ]
     },
     "execution_count": 271,
     "metadata": {},
     "output_type": "execute_result"
    }
   ],
   "source": [
    "final_task_distribution.groupby('operator_login').agg({'emiasid': 'count'}).sort_values(by=['emiasid']).head(30).sum()"
   ]
  },
  {
   "cell_type": "code",
   "execution_count": 272,
   "id": "5cbc1d18",
   "metadata": {},
   "outputs": [],
   "source": [
    "final_task_distribution['emiasid'] = final_task_distribution['emiasid']"
   ]
  },
  {
   "cell_type": "code",
   "execution_count": 273,
   "id": "17140f8b",
   "metadata": {},
   "outputs": [
    {
     "data": {
      "text/plain": [
       "18466"
      ]
     },
     "execution_count": 273,
     "metadata": {},
     "output_type": "execute_result"
    }
   ],
   "source": [
    "final_task_distribution = final_task_distribution.drop_duplicates(subset=['emiasid'], keep='first')\n",
    "final_task_distribution.shape[0]"
   ]
  },
  {
   "cell_type": "code",
   "execution_count": 274,
   "id": "eb16b922",
   "metadata": {},
   "outputs": [
    {
     "data": {
      "text/plain": [
       "Не дозвонились                    8862\n",
       "Перенос звонка на другой день     4744\n",
       "Ни разу не звонили                2365\n",
       "Разговор состоялся                1168\n",
       "Перезвонить сегодня                371\n",
       "Запишется самостоятельно           356\n",
       "Будет в Москве в другом месяце     333\n",
       "Напомнить                          229\n",
       "Не нравится врач                    15\n",
       "Не нравится МО                       8\n",
       "Отказ                                6\n",
       "Госпитализирован                     5\n",
       "Живет не в Москве                    3\n",
       "Пациент отрицает диагноз             1\n",
       "Name: status, dtype: int64"
      ]
     },
     "execution_count": 274,
     "metadata": {},
     "output_type": "execute_result"
    }
   ],
   "source": [
    "final_task_distribution.status.value_counts()"
   ]
  },
  {
   "cell_type": "code",
   "execution_count": 275,
   "id": "349da337",
   "metadata": {},
   "outputs": [
    {
     "data": {
      "text/plain": [
       "2022-09-07    4718\n",
       "2022-09-08    1876\n",
       "2022-09-02    1796\n",
       "2022-09-06    1760\n",
       "2022-09-05    1301\n",
       "2022-09-12     916\n",
       "2022-09-09     804\n",
       "2022-09-15     645\n",
       "2022-09-14     341\n",
       "2022-09-13     327\n",
       "2022-08-16      28\n",
       "2022-09-01      25\n",
       "2022-08-17      20\n",
       "2022-08-31      14\n",
       "2022-08-15      14\n",
       "2022-08-09      13\n",
       "2022-08-23      11\n",
       "2022-08-04      10\n",
       "2022-08-03       9\n",
       "2022-08-24       9\n",
       "2022-08-10       8\n",
       "2022-08-05       8\n",
       "2022-08-12       7\n",
       "2022-08-11       6\n",
       "2022-08-18       6\n",
       "2022-08-26       4\n",
       "2022-08-08       3\n",
       "2022-08-19       3\n",
       "2022-08-22       3\n",
       "2022-08-25       3\n",
       "2022-08-29       2\n",
       "2022-08-30       1\n",
       "Name: last_call_date, dtype: int64"
      ]
     },
     "execution_count": 275,
     "metadata": {},
     "output_type": "execute_result"
    }
   ],
   "source": [
    "final_task_distribution.last_call_date.value_counts()"
   ]
  },
  {
   "cell_type": "code",
   "execution_count": 276,
   "id": "494e7fec",
   "metadata": {},
   "outputs": [],
   "source": [
    "final_task_distribution[final_task_distribution.month == 'august']\\\n",
    ".to_excel(rf'august_task_for_today_{today_y_m_d}.xlsx', index=False)"
   ]
  },
  {
   "cell_type": "code",
   "execution_count": 277,
   "id": "29d90f94",
   "metadata": {},
   "outputs": [],
   "source": [
    "final_task_distribution[final_task_distribution.month == 'september']\\\n",
    ".to_excel(rf'september_task_for_today_{today_y_m_d}.xlsx', index=False)"
   ]
  },
  {
   "cell_type": "code",
   "execution_count": 278,
   "id": "6ba20cdb",
   "metadata": {},
   "outputs": [],
   "source": [
    "final_task_distribution.to_excel(rf'full_task_for_today_{today_y_m_d}.xlsx', index=False)"
   ]
  },
  {
   "cell_type": "code",
   "execution_count": null,
   "id": "058aa7ae",
   "metadata": {},
   "outputs": [],
   "source": [
    "tomorrow_record_patients[tomorrow_record_patients.emiasid.isin(final_task_distribution.emiasid)]"
   ]
  },
  {
   "cell_type": "code",
   "execution_count": null,
   "id": "3882bb4b",
   "metadata": {},
   "outputs": [],
   "source": [
    "final_task_distribution."
   ]
  }
 ],
 "metadata": {
  "kernelspec": {
   "display_name": "Python 3 (ipykernel)",
   "language": "python",
   "name": "python3"
  },
  "language_info": {
   "codemirror_mode": {
    "name": "ipython",
    "version": 3
   },
   "file_extension": ".py",
   "mimetype": "text/x-python",
   "name": "python",
   "nbconvert_exporter": "python",
   "pygments_lexer": "ipython3",
   "version": "3.9.12"
  }
 },
 "nbformat": 4,
 "nbformat_minor": 5
}
