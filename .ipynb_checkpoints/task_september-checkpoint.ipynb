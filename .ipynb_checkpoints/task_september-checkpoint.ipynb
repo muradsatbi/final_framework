{
 "cells": [
  {
   "cell_type": "code",
   "execution_count": 1,
   "id": "46b622c0",
   "metadata": {},
   "outputs": [],
   "source": [
    "import os\n",
    "import pandas as pd\n",
    "import datetime as dt\n",
    "import numpy as np\n",
    "import re"
   ]
  },
  {
   "cell_type": "code",
   "execution_count": 2,
   "id": "fe673d61",
   "metadata": {},
   "outputs": [],
   "source": [
    "column_names = {'Emiasid': 'emiasid', 'Emiasid ': 'emiasid' , 'emiasid ': 'emiasid', 'EMIAS_ID': 'emiasid', 'МО': 'mo', \n",
    "                'МУ': 'mu', 'Логин оператора': 'operator_login', 'Дата и время звонка': 'call_date', \n",
    "                'Результат звонка': 'call_result', 'Результат звонка ': 'call_result', 'Разговор состоялся': 'talk_result', \n",
    "                'Комменатрий': 'comment', 'Дата и время переноса': 'next_call_date', 'Контактный телефон': 'phone_number', \n",
    "                'ФИО врача': 'doctor_fio', 'ФИО помощника врача': 'assistant_fio', 'Логин помощника врача': 'operator_login',\n",
    "                'Зал №': 'hall_number', 'Логин naumen': 'operator_login', 'МО закрепления': 'mo', \n",
    "                'Отсутствует на рабочем месте': 'absence', 'login': 'operator_login'}"
   ]
  },
  {
   "cell_type": "code",
   "execution_count": 3,
   "id": "2775ffd9",
   "metadata": {},
   "outputs": [
    {
     "name": "stdout",
     "output_type": "stream",
     "text": [
      "2022_09_20\n"
     ]
    }
   ],
   "source": [
    "today = pd.Timestamp(dt.datetime.today().date())\n",
    "today_ymd = today.strftime('%Y%m%d')\n",
    "today_y_m_d = today.strftime('%Y_%m_%d')\n",
    "\n",
    "yesterday = today - dt.timedelta(days=1)\n",
    "yesterday_ymd = yesterday.strftime('%Y%m%d')\n",
    "yesterday_y_m_d = yesterday.strftime('%Y-%m-%d')\n",
    "\n",
    "tomorrow = today + dt.timedelta(days=1)\n",
    "tomorrow_ymd = tomorrow.strftime('%Y%m%d')\n",
    "tomorrow_y_m_d = tomorrow.strftime('%Y-%m-%d')\n",
    "\n",
    "print(today_y_m_d)"
   ]
  },
  {
   "cell_type": "code",
   "execution_count": null,
   "id": "5a018e64",
   "metadata": {},
   "outputs": [],
   "source": []
  },
  {
   "cell_type": "code",
   "execution_count": 4,
   "id": "ad9e64be",
   "metadata": {},
   "outputs": [
    {
     "name": "stdout",
     "output_type": "stream",
     "text": [
      "C:\\\\Users\\murad_satabaev\\Documents\\GitHub\\final_framework\\merged_statuses\\total_patients_current_statuses_merged_with_logins_2022_09_20.xlsx\n"
     ]
    }
   ],
   "source": [
    "# путь файла с текущими статусами пациентов\n",
    "patients_current_statuses_path = \\\n",
    "r'\\Users\\murad_satabaev\\Documents\\GitHub\\final_framework\\merged_statuses'\n",
    "\n",
    "patients_current_statuses_path = patients_current_statuses_path.split('\\\\')\n",
    "patients_current_statuses_data = os.path.join('C:\\\\', r'\\\\', *patients_current_statuses_path,\n",
    "                                             f'total_patients_current_statuses_merged_with_logins_{today_y_m_d}.xlsx')\n",
    "print(patients_current_statuses_data)"
   ]
  },
  {
   "cell_type": "code",
   "execution_count": null,
   "id": "51866654",
   "metadata": {},
   "outputs": [],
   "source": []
  },
  {
   "cell_type": "code",
   "execution_count": 5,
   "id": "e5ed60c6",
   "metadata": {},
   "outputs": [
    {
     "name": "stdout",
     "output_type": "stream",
     "text": [
      "\\\\t999\\Сетевой диск\\pdn\\data\\emias_data\\xlsx\n"
     ]
    }
   ],
   "source": [
    "# путь файла с сегодняшними \n",
    "emias_data_path = r'\\\\t999\\Сетевой диск\\pdn\\data\\emias_data\\xlsx'\n",
    "emias_data_path = emias_data_path.split('\\\\')\n",
    "emias_data_path = os.path.join(r'\\\\', *emias_data_path)\n",
    "print(emias_data_path)"
   ]
  },
  {
   "cell_type": "code",
   "execution_count": null,
   "id": "486ef970",
   "metadata": {},
   "outputs": [],
   "source": []
  },
  {
   "cell_type": "code",
   "execution_count": 6,
   "id": "2cccbb11",
   "metadata": {},
   "outputs": [
    {
     "name": "stdout",
     "output_type": "stream",
     "text": [
      "\\\\t999\\Сетевой диск\\pdn\\data\\emias_data\\xlsx\\DAT_4059_выгрузка_списков_на_обзвон_помощниками_2022-09-20.xlsx\n"
     ]
    }
   ],
   "source": [
    "today_emias_data_path = [os.path.join(emias_data_path, filename) for filename in os.listdir(emias_data_path) if '4059' \n",
    "                         in filename and '~' not in filename and today.strftime('%Y-%m-%d') in filename][0]\n",
    "print(today_emias_data_path)"
   ]
  },
  {
   "cell_type": "code",
   "execution_count": null,
   "id": "756c9df2",
   "metadata": {},
   "outputs": [],
   "source": []
  },
  {
   "cell_type": "code",
   "execution_count": 7,
   "id": "0281f145",
   "metadata": {},
   "outputs": [],
   "source": [
    "# чтение всех файлов по отдельности, чтобы не тратить время на повторное чтение файла, который уже прочитан"
   ]
  },
  {
   "cell_type": "code",
   "execution_count": 8,
   "id": "c7667db9",
   "metadata": {},
   "outputs": [
    {
     "data": {
      "text/plain": [
       "97303"
      ]
     },
     "execution_count": 8,
     "metadata": {},
     "output_type": "execute_result"
    }
   ],
   "source": [
    "today_emias_data_reading = pd.read_excel(today_emias_data_path)\n",
    "today_emias_data_reading.shape[0]"
   ]
  },
  {
   "cell_type": "code",
   "execution_count": null,
   "id": "ef42d90b",
   "metadata": {},
   "outputs": [],
   "source": []
  },
  {
   "cell_type": "code",
   "execution_count": 9,
   "id": "073f584d",
   "metadata": {},
   "outputs": [
    {
     "data": {
      "text/plain": [
       "109384"
      ]
     },
     "execution_count": 9,
     "metadata": {},
     "output_type": "execute_result"
    }
   ],
   "source": [
    "patients_current_statuses_reading = pd.read_excel(patients_current_statuses_data)\n",
    "patients_current_statuses_reading.shape[0]"
   ]
  },
  {
   "cell_type": "code",
   "execution_count": null,
   "id": "2fbf907a",
   "metadata": {},
   "outputs": [],
   "source": []
  },
  {
   "cell_type": "code",
   "execution_count": null,
   "id": "9c6273b1",
   "metadata": {},
   "outputs": [],
   "source": []
  },
  {
   "cell_type": "code",
   "execution_count": null,
   "id": "512a7164",
   "metadata": {},
   "outputs": [],
   "source": []
  },
  {
   "cell_type": "code",
   "execution_count": 10,
   "id": "5ba235b9",
   "metadata": {
    "scrolled": true
   },
   "outputs": [
    {
     "name": "stdout",
     "output_type": "stream",
     "text": [
      "2022-09-20 09:46:16.639860\n",
      "217\n"
     ]
    }
   ],
   "source": [
    "import gspread\n",
    "from gspread_dataframe import get_as_dataframe\n",
    "gc = gspread.service_account(filename='google_sheets_credentials.json') \n",
    "url = 'https://docs.google.com/spreadsheets/d/1TXjbk9tRDMCjEyyiuK5OIgT8xwlHQ2V1PX2zaVnxPXY/edit#gid=0'\n",
    "sh = gc.open_by_url(url)\n",
    "ws = sh.get_worksheet(0)\n",
    "def search_row(ws, desired_value):\n",
    "    row_number = 0\n",
    "    for row in ws.get_all_values():\n",
    "        row_number += 1\n",
    "        for value in row:\n",
    "            if value == desired_value:\n",
    "                return row_number\n",
    "            \n",
    "skiprows = search_row(ws, 'ФИО помощника врача') - 1\n",
    "\n",
    "assistants_presence_reading = get_as_dataframe(ws, evaluate_formulas=True, skiprows=skiprows)\n",
    "assistants_presence_reading = assistants_presence_reading.loc[~(assistants_presence_reading['Зал №'] == 'Зал №'), \n",
    "    ['Зал №', 'МО закрепления', 'ФИО помощника врача', 'Логин naumen', 'Отсутствует на рабочем месте']] \\\n",
    "        .dropna(how='all', axis=0)\n",
    "\n",
    "\n",
    "print(dt.datetime.now())\n",
    "print(assistants_presence_reading.shape[0])\n",
    "\n",
    "assistants_presence = assistants_presence_reading.rename(columns=column_names).copy()"
   ]
  },
  {
   "cell_type": "code",
   "execution_count": 11,
   "id": "62ef8a60",
   "metadata": {
    "scrolled": true
   },
   "outputs": [
    {
     "name": "stdout",
     "output_type": "stream",
     "text": [
      "\n",
      "В сумме количество отсуствующих и присутствующих равны общему количеству помощников\n",
      "\n"
     ]
    }
   ],
   "source": [
    "if assistants_presence[assistants_presence.absence.isna()].operator_login.nunique() + \\\n",
    "assistants_presence[assistants_presence.absence == 1].operator_login.nunique() == assistants_presence.operator_login.nunique():\n",
    "    print('\\nВ сумме количество отсуствующих и присутствующих равны общему количеству помощников\\n')\n",
    "else:\n",
    "    print(5 * '\\nПРОВЕРЬТЕ ТАБЛИЦУ ОТСУТСТВУЮЩИХ И ПРИСУТСТВУЮЩИХ\\n!!!\\n')"
   ]
  },
  {
   "cell_type": "code",
   "execution_count": 12,
   "id": "a4934b67",
   "metadata": {},
   "outputs": [
    {
     "name": "stdout",
     "output_type": "stream",
     "text": [
      "170\n",
      "47\n"
     ]
    }
   ],
   "source": [
    "present_assistants = assistants_presence[assistants_presence.absence.isna()]\n",
    "print(present_assistants.shape[0])\n",
    "absent_assistants = assistants_presence[~assistants_presence.absence.isna()]\n",
    "print(absent_assistants.shape[0])"
   ]
  },
  {
   "cell_type": "code",
   "execution_count": null,
   "id": "197a2065",
   "metadata": {},
   "outputs": [],
   "source": []
  },
  {
   "cell_type": "code",
   "execution_count": null,
   "id": "2739fb1d",
   "metadata": {},
   "outputs": [],
   "source": []
  },
  {
   "cell_type": "code",
   "execution_count": null,
   "id": "4b8afc6b",
   "metadata": {},
   "outputs": [],
   "source": []
  },
  {
   "cell_type": "code",
   "execution_count": null,
   "id": "849d2c5f",
   "metadata": {},
   "outputs": [],
   "source": []
  },
  {
   "cell_type": "code",
   "execution_count": 13,
   "id": "a6d5b879",
   "metadata": {},
   "outputs": [],
   "source": [
    "patients_current_statuses = patients_current_statuses_reading.rename(columns=column_names).copy()"
   ]
  },
  {
   "cell_type": "code",
   "execution_count": 14,
   "id": "efa1d87b",
   "metadata": {},
   "outputs": [],
   "source": [
    "today_emias_data = today_emias_data_reading.rename(columns=column_names)"
   ]
  },
  {
   "cell_type": "code",
   "execution_count": 15,
   "id": "0cb16a0b",
   "metadata": {},
   "outputs": [
    {
     "name": "stderr",
     "output_type": "stream",
     "text": [
      "C:\\Users\\murad_satabaev\\AppData\\Local\\Temp\\ipykernel_5940\\1251941699.py:2: FutureWarning: The default value of regex will change from True to False in a future version.\n",
      "  patients_current_statuses['emiasid'] = patients_current_statuses['emiasid'].astype(str).str.replace('\\.0', '')\n"
     ]
    }
   ],
   "source": [
    "patients_current_statuses = patients_current_statuses_reading.rename(columns=column_names).copy()\n",
    "patients_current_statuses['emiasid'] = patients_current_statuses['emiasid'].astype(str).str.replace('\\.0', '')\n",
    "patients_current_statuses['next_call_date'] = patients_current_statuses['next_call_date'] \\\n",
    ".apply(lambda x: pd.to_datetime(x, dayfirst=True).date())\n",
    "patients_current_statuses['last_call_date'] = patients_current_statuses['last_call_date'] \\\n",
    ".apply(lambda x: pd.to_datetime(x, dayfirst=True).date())"
   ]
  },
  {
   "cell_type": "code",
   "execution_count": null,
   "id": "7944daaf",
   "metadata": {},
   "outputs": [],
   "source": []
  },
  {
   "cell_type": "code",
   "execution_count": null,
   "id": "c82383ed",
   "metadata": {},
   "outputs": [],
   "source": []
  },
  {
   "cell_type": "code",
   "execution_count": null,
   "id": "65de920b",
   "metadata": {},
   "outputs": [],
   "source": []
  },
  {
   "cell_type": "code",
   "execution_count": 16,
   "id": "86656396",
   "metadata": {},
   "outputs": [],
   "source": [
    "# Переведем все типы данных емиасайди, телефоны и прочие числовые данные в строки"
   ]
  },
  {
   "cell_type": "code",
   "execution_count": 17,
   "id": "6c79f091",
   "metadata": {
    "scrolled": true
   },
   "outputs": [
    {
     "name": "stderr",
     "output_type": "stream",
     "text": [
      "C:\\Users\\murad_satabaev\\AppData\\Local\\Temp\\ipykernel_5940\\3971369908.py:1: FutureWarning: The default value of regex will change from True to False in a future version.\n",
      "  today_emias_data['emiasid'] = today_emias_data['emiasid'].astype(str).str.replace('\\.0', '')\n",
      "C:\\Users\\murad_satabaev\\AppData\\Local\\Temp\\ipykernel_5940\\3971369908.py:2: FutureWarning: The default value of regex will change from True to False in a future version.\n",
      "  today_emias_data['phone'] = today_emias_data['phone'].astype(str).str.replace('\\.0', '')\n"
     ]
    }
   ],
   "source": [
    "today_emias_data['emiasid'] = today_emias_data['emiasid'].astype(str).str.replace('\\.0', '')\n",
    "today_emias_data['phone'] = today_emias_data['phone'].astype(str).str.replace('\\.0', '')"
   ]
  },
  {
   "cell_type": "code",
   "execution_count": null,
   "id": "7c5391ec",
   "metadata": {},
   "outputs": [],
   "source": []
  },
  {
   "cell_type": "code",
   "execution_count": null,
   "id": "ca2712ee",
   "metadata": {},
   "outputs": [],
   "source": []
  },
  {
   "cell_type": "code",
   "execution_count": 18,
   "id": "7d6edfb7",
   "metadata": {},
   "outputs": [
    {
     "name": "stdout",
     "output_type": "stream",
     "text": [
      "\\\\t999\\Сетевой диск\\pdn\\data\\assistant_to_doctor_distribution_path\n"
     ]
    }
   ],
   "source": [
    "# путь папки с раскреплением\n",
    "assistant_to_doctor_distribution_path = \\\n",
    "r'\\\\t999\\Сетевой диск\\pdn\\data\\assistant_to_doctor_distribution_path'\n",
    "assistant_to_doctor_distribution_path = \\\n",
    "assistant_to_doctor_distribution_path.split('\\\\')\n",
    "assistant_to_doctor_distribution_path = \\\n",
    "os.path.join(r'\\\\', *assistant_to_doctor_distribution_path)\n",
    "print(assistant_to_doctor_distribution_path)"
   ]
  },
  {
   "cell_type": "code",
   "execution_count": 19,
   "id": "1185502d",
   "metadata": {},
   "outputs": [
    {
     "name": "stdout",
     "output_type": "stream",
     "text": [
      "\\\\t999\\Сетевой диск\\pdn\\data\\assistant_to_doctor_distribution_path\\september_patient_to_assistant_distribution.xlsx\n"
     ]
    }
   ],
   "source": [
    "september_assistant_to_doctor_distribution_path = [os.path.join(assistant_to_doctor_distribution_path, filename) for filename \n",
    "                                         in os.listdir(assistant_to_doctor_distribution_path) if '~' not in filename\n",
    "                                        and 'september' in filename]\n",
    "september_assistant_to_doctor_distribution_path.sort(key=lambda x: os.path.getctime(x))\n",
    "september_assistant_to_doctor_distribution_path = september_assistant_to_doctor_distribution_path[-1]\n",
    "print(september_assistant_to_doctor_distribution_path)"
   ]
  },
  {
   "cell_type": "code",
   "execution_count": 20,
   "id": "4396de10",
   "metadata": {},
   "outputs": [],
   "source": [
    "september_assistant_to_doctor_distribution = pd.read_excel(september_assistant_to_doctor_distribution_path, \n",
    "                                    usecols=['login', 'emiasid', 'mo', 'doctor_fio'])[['emiasid', 'login', 'mo', 'doctor_fio']]"
   ]
  },
  {
   "cell_type": "code",
   "execution_count": 21,
   "id": "1038115e",
   "metadata": {},
   "outputs": [],
   "source": [
    "doctors_list = set(september_assistant_to_doctor_distribution.doctor_fio.unique())\n",
    "doctors_list.add(np.NaN)"
   ]
  },
  {
   "cell_type": "code",
   "execution_count": null,
   "id": "6c0d6480",
   "metadata": {},
   "outputs": [],
   "source": []
  },
  {
   "cell_type": "code",
   "execution_count": null,
   "id": "c592b782",
   "metadata": {},
   "outputs": [],
   "source": []
  },
  {
   "cell_type": "code",
   "execution_count": 22,
   "id": "d3c1d470",
   "metadata": {},
   "outputs": [
    {
     "data": {
      "text/plain": [
       "879"
      ]
     },
     "execution_count": 22,
     "metadata": {},
     "output_type": "execute_result"
    }
   ],
   "source": [
    "def find_phone_number(text):\n",
    "    \"\"\"Функция ищет номера телефонов в строке, фильтрует дефектные и возвращает один с приоритетом на мобильный\"\"\"\n",
    "    import re\n",
    "    defect_pattern = re.compile(r\"\"\"7[^94]\\d{9}|0{7,}|1{7,}|2{7,}|3{7,}|4{7,}|5{7,}|6{7,}|7{7,}|8{7,}|9{7,}\"\"\")\n",
    "    text = str(text)\n",
    "    text = ['7' + re.sub(r'\\D', '', x)[-10:] for x in re.split(r'[,;]', text)]\n",
    "    text = list(filter(lambda x: len(x) == 11, text))\n",
    "    text = list(filter(lambda x: False if re.search(defect_pattern, x) else True, text))\n",
    "    text = sorted(text, reverse=True)\n",
    "    text = ','.join(text)\n",
    "    text = re.search(r'(9\\d{9}|4\\d{9})', text)\n",
    "    if text:\n",
    "        text = text.group()\n",
    "    return text\n",
    "\n",
    "today_emias_data['phone_1'] = today_emias_data['phone'].apply(find_phone_number)\n",
    "today_emias_data[today_emias_data['phone_1'].isna()].shape[0]"
   ]
  },
  {
   "cell_type": "code",
   "execution_count": 23,
   "id": "290c160b",
   "metadata": {
    "scrolled": false
   },
   "outputs": [
    {
     "data": {
      "text/plain": [
       "97303"
      ]
     },
     "execution_count": 23,
     "metadata": {},
     "output_type": "execute_result"
    }
   ],
   "source": [
    "today_emias_data.shape[0]"
   ]
  },
  {
   "cell_type": "code",
   "execution_count": 24,
   "id": "c21484f7",
   "metadata": {},
   "outputs": [
    {
     "data": {
      "text/plain": [
       "109384"
      ]
     },
     "execution_count": 24,
     "metadata": {},
     "output_type": "execute_result"
    }
   ],
   "source": [
    "patients_current_statuses.shape[0]"
   ]
  },
  {
   "cell_type": "code",
   "execution_count": null,
   "id": "8dec207b",
   "metadata": {},
   "outputs": [],
   "source": []
  },
  {
   "cell_type": "code",
   "execution_count": 25,
   "id": "2948f88d",
   "metadata": {},
   "outputs": [],
   "source": [
    "exception = pd.read_excel('exception.xlsx')"
   ]
  },
  {
   "cell_type": "code",
   "execution_count": 26,
   "id": "a7e4e2c1",
   "metadata": {},
   "outputs": [
    {
     "name": "stderr",
     "output_type": "stream",
     "text": [
      "C:\\Users\\murad_satabaev\\AppData\\Local\\Temp\\ipykernel_5940\\4054622638.py:2: FutureWarning: The default value of regex will change from True to False in a future version.\n",
      "  exception['emiasid'] = exception['emiasid'].astype(str).str.replace('\\.0', '')\n"
     ]
    }
   ],
   "source": [
    "exception = exception.rename(columns=column_names)\n",
    "exception['emiasid'] = exception['emiasid'].astype(str).str.replace('\\.0', '')"
   ]
  },
  {
   "cell_type": "code",
   "execution_count": 27,
   "id": "5e2d70d7",
   "metadata": {},
   "outputs": [
    {
     "data": {
      "text/plain": [
       "372"
      ]
     },
     "execution_count": 27,
     "metadata": {},
     "output_type": "execute_result"
    }
   ],
   "source": [
    "exception.shape[0]"
   ]
  },
  {
   "cell_type": "code",
   "execution_count": 28,
   "id": "7758b694",
   "metadata": {},
   "outputs": [
    {
     "data": {
      "text/plain": [
       "array(['Нет прикрепления к МО', 'Нет в сегодняшней выгрузке', nan,\n",
       "       'Нет прикрепления к врачу', 'Новый врач', 'Смена МО',\n",
       "       'Смена МО на другую нашу', 'Отсутствует номер'], dtype=object)"
      ]
     },
     "execution_count": 28,
     "metadata": {},
     "output_type": "execute_result"
    }
   ],
   "source": [
    "patients_current_statuses.problem.unique()"
   ]
  },
  {
   "cell_type": "code",
   "execution_count": 29,
   "id": "fa38a124",
   "metadata": {},
   "outputs": [
    {
     "data": {
      "text/plain": [
       "107871"
      ]
     },
     "execution_count": 29,
     "metadata": {},
     "output_type": "execute_result"
    }
   ],
   "source": [
    "actual_patients = \\\n",
    "patients_current_statuses[\n",
    "    (~(patients_current_statuses.problem.isin({\n",
    "    'Нет в сегодняшней выгрузке', 'Нет прикрепления к МО', 'Отсутствует номер', 'Смена МО', 'Смена МО на другую нашу'\n",
    "    })))\n",
    "    &\n",
    "    (~(patients_current_statuses.emiasid.isin(exception.emiasid)))\n",
    "]\n",
    "\n",
    "actual_patients.shape[0]"
   ]
  },
  {
   "cell_type": "code",
   "execution_count": 30,
   "id": "833dd1ee",
   "metadata": {},
   "outputs": [
    {
     "data": {
      "text/plain": [
       "109384"
      ]
     },
     "execution_count": 30,
     "metadata": {},
     "output_type": "execute_result"
    }
   ],
   "source": [
    "patients_current_statuses.shape[0]"
   ]
  },
  {
   "cell_type": "code",
   "execution_count": 31,
   "id": "d4b3468e",
   "metadata": {},
   "outputs": [
    {
     "data": {
      "text/plain": [
       "107871"
      ]
     },
     "execution_count": 31,
     "metadata": {},
     "output_type": "execute_result"
    }
   ],
   "source": [
    "actual_patients.shape[0]"
   ]
  },
  {
   "cell_type": "code",
   "execution_count": 32,
   "id": "d749569c",
   "metadata": {},
   "outputs": [
    {
     "data": {
      "text/plain": [
       "Не дозвонились                    44306\n",
       "Перенос звонка на другой день     32198\n",
       "Будет в Москве в другом месяце     9954\n",
       "Разговор состоялся                 8653\n",
       "Ни разу не звонили                 4165\n",
       "Запишется самостоятельно           2945\n",
       "Перезвонить сегодня                1828\n",
       "Отказ                              1008\n",
       "Пациент отрицает диагноз            964\n",
       "Иная МО                             533\n",
       "Госпитализирован                    448\n",
       "Живет не в Москве                   292\n",
       "Патронаж                            229\n",
       "Некорректный номер                  121\n",
       "Отсутствует номер                    70\n",
       "Не нравится врач                     69\n",
       "Другой врач в МО                     36\n",
       "Онкология                            23\n",
       "Снят с ДН                            17\n",
       "Не нравится МО                       10\n",
       "Умер                                  2\n",
       "Name: status, dtype: int64"
      ]
     },
     "execution_count": 32,
     "metadata": {},
     "output_type": "execute_result"
    }
   ],
   "source": [
    "actual_patients.status.value_counts()"
   ]
  },
  {
   "cell_type": "code",
   "execution_count": null,
   "id": "cb7ca117",
   "metadata": {},
   "outputs": [],
   "source": []
  },
  {
   "cell_type": "code",
   "execution_count": null,
   "id": "e2834762",
   "metadata": {},
   "outputs": [],
   "source": []
  },
  {
   "cell_type": "code",
   "execution_count": null,
   "id": "ac537157",
   "metadata": {},
   "outputs": [],
   "source": []
  },
  {
   "cell_type": "code",
   "execution_count": null,
   "id": "ff0b6b19",
   "metadata": {},
   "outputs": [],
   "source": []
  },
  {
   "cell_type": "code",
   "execution_count": null,
   "id": "60d7cf61",
   "metadata": {},
   "outputs": [],
   "source": []
  },
  {
   "cell_type": "code",
   "execution_count": null,
   "id": "34f4383c",
   "metadata": {},
   "outputs": [],
   "source": []
  },
  {
   "cell_type": "code",
   "execution_count": 33,
   "id": "545abe63",
   "metadata": {},
   "outputs": [
    {
     "name": "stderr",
     "output_type": "stream",
     "text": [
      "C:\\Users\\murad_satabaev\\AppData\\Local\\Temp\\ipykernel_5940\\3473140784.py:8: SettingWithCopyWarning: \n",
      "A value is trying to be set on a copy of a slice from a DataFrame.\n",
      "Try using .loc[row_indexer,col_indexer] = value instead\n",
      "\n",
      "See the caveats in the documentation: https://pandas.pydata.org/pandas-docs/stable/user_guide/indexing.html#returning-a-view-versus-a-copy\n",
      "  first_stage_patients['priority'] = 2\n"
     ]
    },
    {
     "data": {
      "text/plain": [
       "247"
      ]
     },
     "execution_count": 33,
     "metadata": {},
     "output_type": "execute_result"
    }
   ],
   "source": [
    "first_stage_patients = \\\n",
    "actual_patients[\n",
    "    (actual_patients.status == 'Ни разу не звонили')\n",
    "    &\n",
    "    (actual_patients.month == 'september')\n",
    "]\n",
    "\n",
    "first_stage_patients['priority'] = 2\n",
    "first_stage_patients.shape[0]"
   ]
  },
  {
   "cell_type": "code",
   "execution_count": 34,
   "id": "81c728ea",
   "metadata": {},
   "outputs": [
    {
     "name": "stderr",
     "output_type": "stream",
     "text": [
      "C:\\Users\\murad_satabaev\\AppData\\Local\\Temp\\ipykernel_5940\\4226302426.py:10: SettingWithCopyWarning: \n",
      "A value is trying to be set on a copy of a slice from a DataFrame.\n",
      "Try using .loc[row_indexer,col_indexer] = value instead\n",
      "\n",
      "See the caveats in the documentation: https://pandas.pydata.org/pandas-docs/stable/user_guide/indexing.html#returning-a-view-versus-a-copy\n",
      "  call_back_on_date_patients['priority'] = 1\n"
     ]
    },
    {
     "data": {
      "text/plain": [
       "7000"
      ]
     },
     "execution_count": 34,
     "metadata": {},
     "output_type": "execute_result"
    }
   ],
   "source": [
    "call_back_on_date_patients = \\\n",
    "actual_patients[\n",
    "    (actual_patients.next_call_date.isin({\n",
    "        dt.date(2022, 9, 16),\n",
    "        dt.date(2022, 9, 19),\n",
    "        dt.date(2022, 9, 20)\n",
    "    }))\n",
    "]\n",
    "\n",
    "call_back_on_date_patients['priority'] = 1\n",
    "call_back_on_date_patients.shape[0]"
   ]
  },
  {
   "cell_type": "code",
   "execution_count": 35,
   "id": "901cde61",
   "metadata": {},
   "outputs": [
    {
     "data": {
      "text/plain": [
       "3897"
      ]
     },
     "execution_count": 35,
     "metadata": {},
     "output_type": "execute_result"
    }
   ],
   "source": [
    "actual_patients[\n",
    "    (actual_patients.month == 'august')\n",
    "    &\n",
    "    (actual_patients.last_call_date < dt.date(2022, 9, 2))\n",
    "].shape[0]"
   ]
  },
  {
   "cell_type": "code",
   "execution_count": 36,
   "id": "e85e0b55",
   "metadata": {},
   "outputs": [
    {
     "data": {
      "text/plain": [
       "array(['Разговор состоялся', 'Перенос звонка на другой день', 'Отказ',\n",
       "       'Не дозвонились', 'Нет ответа', 'Перезвонить сегодня', 'Сброс',\n",
       "       'Занято', 'Госпитализирован', 'operator_rejected',\n",
       "       'Информация о ДН', nan, 'Номер не существует'], dtype=object)"
      ]
     },
     "execution_count": 36,
     "metadata": {},
     "output_type": "execute_result"
    }
   ],
   "source": [
    "actual_patients.last_call_result.unique()"
   ]
  },
  {
   "cell_type": "code",
   "execution_count": 37,
   "id": "e958fd0c",
   "metadata": {},
   "outputs": [
    {
     "data": {
      "text/plain": [
       "800"
      ]
     },
     "execution_count": 37,
     "metadata": {},
     "output_type": "execute_result"
    }
   ],
   "source": [
    "august_patients = \\\n",
    "actual_patients[\n",
    "    (actual_patients.month == 'august')\n",
    "    &\n",
    "    (actual_patients.last_call_result != 'Перенос звонка на другой день')\n",
    "    &\n",
    "    (actual_patients.last_call_date < dt.date(2022, 9, 2))\n",
    "]\n",
    "\n",
    "august_patients = august_patients.head(800)\n",
    "\n",
    "august_patients['priority'] = 3\n",
    "august_patients.shape[0]"
   ]
  },
  {
   "cell_type": "code",
   "execution_count": 38,
   "id": "73f4c37a",
   "metadata": {},
   "outputs": [
    {
     "data": {
      "text/plain": [
       "datetime.date(2022, 8, 29)"
      ]
     },
     "execution_count": 38,
     "metadata": {},
     "output_type": "execute_result"
    }
   ],
   "source": [
    "august_patients.last_call_date.unique()[-1]"
   ]
  },
  {
   "cell_type": "code",
   "execution_count": null,
   "id": "e1f28647",
   "metadata": {},
   "outputs": [],
   "source": []
  },
  {
   "cell_type": "code",
   "execution_count": null,
   "id": "58d7449f",
   "metadata": {},
   "outputs": [],
   "source": []
  },
  {
   "cell_type": "code",
   "execution_count": 39,
   "id": "b14559dd",
   "metadata": {},
   "outputs": [
    {
     "name": "stdout",
     "output_type": "stream",
     "text": [
      "4452\n"
     ]
    }
   ],
   "source": [
    "tomorrow_record_patients_set = set()\n",
    "for column in today_emias_data.columns[22:98:2]:\n",
    "    tomorrow_record_patients_set = \\\n",
    "    tomorrow_record_patients_set | set(today_emias_data[today_emias_data[f'{column}'] == tomorrow_y_m_d]\\\n",
    "                                   .emiasid.astype(str).unique())\n",
    "\n",
    "print(len(tomorrow_record_patients_set))"
   ]
  },
  {
   "cell_type": "code",
   "execution_count": 98,
   "id": "f2a71070",
   "metadata": {},
   "outputs": [
    {
     "name": "stdout",
     "output_type": "stream",
     "text": [
      "1858\n"
     ]
    }
   ],
   "source": [
    "tomorrow_record_patients = patients_current_statuses[(patients_current_statuses.emiasid.isin(tomorrow_record_patients_set))\n",
    "& (~(patients_current_statuses.status.isin({'Ни разу не звонили', 'Онкология', 'Смена МО', 'Отсутствует номер', \n",
    "                                           'Пациент отрицает диагноз', 'Отказ', 'Госпитализирован',\n",
    "                                           'Будет в Москве в другом месяце', 'Некорректный номер', 'Патронаж',\n",
    "                                           'Снят с ДН'}))) & \n",
    "(patients_current_statuses.last_call_result != 'Перенос звонка на другой день')]\n",
    "print(tomorrow_record_patients.shape[0])"
   ]
  },
  {
   "cell_type": "code",
   "execution_count": 99,
   "id": "0706e183",
   "metadata": {
    "scrolled": true
   },
   "outputs": [
    {
     "name": "stderr",
     "output_type": "stream",
     "text": [
      "C:\\Users\\murad_satabaev\\AppData\\Local\\Temp\\ipykernel_5940\\1903791372.py:1: SettingWithCopyWarning: \n",
      "A value is trying to be set on a copy of a slice from a DataFrame.\n",
      "Try using .loc[row_indexer,col_indexer] = value instead\n",
      "\n",
      "See the caveats in the documentation: https://pandas.pydata.org/pandas-docs/stable/user_guide/indexing.html#returning-a-view-versus-a-copy\n",
      "  tomorrow_record_patients['priority'] = 4\n"
     ]
    }
   ],
   "source": [
    "tomorrow_record_patients['priority'] = 4"
   ]
  },
  {
   "cell_type": "code",
   "execution_count": 100,
   "id": "aa1d2093",
   "metadata": {},
   "outputs": [
    {
     "data": {
      "text/plain": [
       "Не дозвонились                   1140\n",
       "Разговор состоялся                616\n",
       "Перезвонить сегодня                55\n",
       "Запишется самостоятельно           34\n",
       "Перенос звонка на другой день       9\n",
       "Не нравится врач                    4\n",
       "Name: status, dtype: int64"
      ]
     },
     "execution_count": 100,
     "metadata": {},
     "output_type": "execute_result"
    }
   ],
   "source": [
    "tomorrow_record_patients.status.value_counts()"
   ]
  },
  {
   "cell_type": "code",
   "execution_count": 101,
   "id": "f410c568",
   "metadata": {},
   "outputs": [
    {
     "name": "stderr",
     "output_type": "stream",
     "text": [
      "C:\\Users\\murad_satabaev\\AppData\\Local\\Temp\\ipykernel_5940\\672541353.py:1: SettingWithCopyWarning: \n",
      "A value is trying to be set on a copy of a slice from a DataFrame.\n",
      "Try using .loc[row_indexer,col_indexer] = value instead\n",
      "\n",
      "See the caveats in the documentation: https://pandas.pydata.org/pandas-docs/stable/user_guide/indexing.html#returning-a-view-versus-a-copy\n",
      "  tomorrow_record_patients['status'] = 'Напомнить'\n"
     ]
    }
   ],
   "source": [
    "tomorrow_record_patients['status'] = 'Напомнить'"
   ]
  },
  {
   "cell_type": "code",
   "execution_count": 102,
   "id": "412845c2",
   "metadata": {},
   "outputs": [
    {
     "name": "stderr",
     "output_type": "stream",
     "text": [
      "C:\\Users\\murad_satabaev\\AppData\\Local\\Temp\\ipykernel_5940\\4060401697.py:15: SettingWithCopyWarning: \n",
      "A value is trying to be set on a copy of a slice from a DataFrame.\n",
      "Try using .loc[row_indexer,col_indexer] = value instead\n",
      "\n",
      "See the caveats in the documentation: https://pandas.pydata.org/pandas-docs/stable/user_guide/indexing.html#returning-a-view-versus-a-copy\n",
      "  second_stage_patients['priority'] = 5\n"
     ]
    },
    {
     "data": {
      "text/plain": [
       "29495"
      ]
     },
     "execution_count": 102,
     "metadata": {},
     "output_type": "execute_result"
    }
   ],
   "source": [
    "second_stage_patients = \\\n",
    "actual_patients[\n",
    "    (actual_patients.status.isin({'Не дозвонились'}))\n",
    "    &\n",
    "    (~(actual_patients.emiasid.isin(call_back_on_date_patients.emiasid)))\n",
    "    &\n",
    "    (~(actual_patients.last_call_date.isin(\n",
    "        {\n",
    "        dt.date(2022, 9, 16),\n",
    "        dt.date(2022, 9, 19)\n",
    "        }\n",
    "    )))\n",
    "]\n",
    "\n",
    "second_stage_patients['priority'] = 5\n",
    "\n",
    "second_stage_patients.shape[0]"
   ]
  },
  {
   "cell_type": "code",
   "execution_count": null,
   "id": "b9d51e2e",
   "metadata": {},
   "outputs": [],
   "source": []
  },
  {
   "cell_type": "code",
   "execution_count": null,
   "id": "859d2a5f",
   "metadata": {},
   "outputs": [],
   "source": []
  },
  {
   "cell_type": "code",
   "execution_count": 103,
   "id": "df705990",
   "metadata": {},
   "outputs": [
    {
     "data": {
      "text/plain": [
       "39400"
      ]
     },
     "execution_count": 103,
     "metadata": {},
     "output_type": "execute_result"
    }
   ],
   "source": [
    "final_actual_patients_for_task_ = pd.concat([\n",
    "    call_back_on_date_patients,\n",
    "    first_stage_patients,\n",
    "    august_patients,\n",
    "    second_stage_patients,\n",
    "    tomorrow_record_patients\n",
    "]) \\\n",
    ".sort_values(['priority']).reset_index(drop=True)\n",
    "\n",
    "final_actual_patients_for_task_.shape[0]"
   ]
  },
  {
   "cell_type": "code",
   "execution_count": null,
   "id": "0da22817",
   "metadata": {},
   "outputs": [],
   "source": []
  },
  {
   "cell_type": "code",
   "execution_count": 104,
   "id": "79ccaaa8",
   "metadata": {},
   "outputs": [],
   "source": [
    "# final_actual_patients_for_task = final_actual_patients_for_task_.drop_duplicates(subset=['phone_number'], keep='first')\n",
    "# final_actual_patients_for_task.shape[0]"
   ]
  },
  {
   "cell_type": "code",
   "execution_count": 105,
   "id": "d65c3e02",
   "metadata": {},
   "outputs": [
    {
     "data": {
      "text/plain": [
       "38574"
      ]
     },
     "execution_count": 105,
     "metadata": {},
     "output_type": "execute_result"
    }
   ],
   "source": [
    "final_actual_patients_for_task = final_actual_patients_for_task_.drop_duplicates(subset=['emiasid'], keep='first')\n",
    "final_actual_patients_for_task.shape[0]"
   ]
  },
  {
   "cell_type": "code",
   "execution_count": null,
   "id": "115c4048",
   "metadata": {},
   "outputs": [],
   "source": []
  },
  {
   "cell_type": "code",
   "execution_count": 106,
   "id": "50448630",
   "metadata": {},
   "outputs": [
    {
     "data": {
      "text/html": [
       "<div>\n",
       "<style scoped>\n",
       "    .dataframe tbody tr th:only-of-type {\n",
       "        vertical-align: middle;\n",
       "    }\n",
       "\n",
       "    .dataframe tbody tr th {\n",
       "        vertical-align: top;\n",
       "    }\n",
       "\n",
       "    .dataframe thead th {\n",
       "        text-align: right;\n",
       "    }\n",
       "</style>\n",
       "<table border=\"1\" class=\"dataframe\">\n",
       "  <thead>\n",
       "    <tr style=\"text-align: right;\">\n",
       "      <th></th>\n",
       "      <th>emiasid</th>\n",
       "      <th>status</th>\n",
       "      <th>old_comment</th>\n",
       "      <th>next_call_date</th>\n",
       "      <th>operator_login</th>\n",
       "      <th>mo</th>\n",
       "      <th>doctor_fio</th>\n",
       "      <th>calls_amount</th>\n",
       "      <th>last_call_date</th>\n",
       "      <th>last_call_result</th>\n",
       "      <th>last_talk_result</th>\n",
       "      <th>month</th>\n",
       "      <th>problem</th>\n",
       "      <th>absence</th>\n",
       "      <th>priority</th>\n",
       "    </tr>\n",
       "  </thead>\n",
       "  <tbody>\n",
       "    <tr>\n",
       "      <th>0</th>\n",
       "      <td>30000000501059</td>\n",
       "      <td>Перенос звонка на другой день</td>\n",
       "      <td>нет слотов, номер актива 11082</td>\n",
       "      <td>2022-09-19</td>\n",
       "      <td>pomoshnik_pdn161</td>\n",
       "      <td>ГП 23</td>\n",
       "      <td>Саркисян Светлана Арамаисовна</td>\n",
       "      <td>7</td>\n",
       "      <td>2022-09-07</td>\n",
       "      <td>Перенос звонка на другой день</td>\n",
       "      <td>NaN</td>\n",
       "      <td>august</td>\n",
       "      <td>NaN</td>\n",
       "      <td>1</td>\n",
       "      <td>1</td>\n",
       "    </tr>\n",
       "    <tr>\n",
       "      <th>1</th>\n",
       "      <td>2110477991</td>\n",
       "      <td>Перенос звонка на другой день</td>\n",
       "      <td>Перезвонить, запись на обследования</td>\n",
       "      <td>2022-09-20</td>\n",
       "      <td>pomoshnik_pdn93</td>\n",
       "      <td>ГП 134</td>\n",
       "      <td>Попова Анна Николаевна</td>\n",
       "      <td>1</td>\n",
       "      <td>2022-09-12</td>\n",
       "      <td>Перенос звонка на другой день</td>\n",
       "      <td>NaN</td>\n",
       "      <td>september</td>\n",
       "      <td>NaN</td>\n",
       "      <td>1</td>\n",
       "      <td>1</td>\n",
       "    </tr>\n",
       "    <tr>\n",
       "      <th>2</th>\n",
       "      <td>2107926766</td>\n",
       "      <td>Перенос звонка на другой день</td>\n",
       "      <td>перезвонить, контроль дн</td>\n",
       "      <td>2022-09-16</td>\n",
       "      <td>pomoshnik_pdn106</td>\n",
       "      <td>ГП 62</td>\n",
       "      <td>Мишакова Анастасия Вениаминовна</td>\n",
       "      <td>1</td>\n",
       "      <td>2022-09-07</td>\n",
       "      <td>Перенос звонка на другой день</td>\n",
       "      <td>NaN</td>\n",
       "      <td>september</td>\n",
       "      <td>NaN</td>\n",
       "      <td>0</td>\n",
       "      <td>1</td>\n",
       "    </tr>\n",
       "  </tbody>\n",
       "</table>\n",
       "</div>"
      ],
      "text/plain": [
       "          emiasid                         status  \\\n",
       "0  30000000501059  Перенос звонка на другой день   \n",
       "1      2110477991  Перенос звонка на другой день   \n",
       "2      2107926766  Перенос звонка на другой день   \n",
       "\n",
       "                           old_comment next_call_date    operator_login  \\\n",
       "0       нет слотов, номер актива 11082     2022-09-19  pomoshnik_pdn161   \n",
       "1  Перезвонить, запись на обследования     2022-09-20   pomoshnik_pdn93   \n",
       "2             перезвонить, контроль дн     2022-09-16  pomoshnik_pdn106   \n",
       "\n",
       "       mo                       doctor_fio  calls_amount last_call_date  \\\n",
       "0   ГП 23    Саркисян Светлана Арамаисовна             7     2022-09-07   \n",
       "1  ГП 134           Попова Анна Николаевна             1     2022-09-12   \n",
       "2   ГП 62  Мишакова Анастасия Вениаминовна             1     2022-09-07   \n",
       "\n",
       "                last_call_result last_talk_result      month problem  absence  \\\n",
       "0  Перенос звонка на другой день              NaN     august     NaN        1   \n",
       "1  Перенос звонка на другой день              NaN  september     NaN        1   \n",
       "2  Перенос звонка на другой день              NaN  september     NaN        0   \n",
       "\n",
       "   priority  \n",
       "0         1  \n",
       "1         1  \n",
       "2         1  "
      ]
     },
     "execution_count": 106,
     "metadata": {},
     "output_type": "execute_result"
    }
   ],
   "source": [
    "final_actual_patients_for_task.head(3)"
   ]
  },
  {
   "cell_type": "code",
   "execution_count": 107,
   "id": "1c7ac415",
   "metadata": {
    "scrolled": true
   },
   "outputs": [],
   "source": [
    "final_actual_patients_for_task = \\\n",
    "final_actual_patients_for_task[['emiasid', 'status', 'old_comment', 'operator_login', 'mo', 'doctor_fio', 'priority', 'calls_amount',\n",
    "                                'last_call_date', 'month']]"
   ]
  },
  {
   "cell_type": "code",
   "execution_count": 108,
   "id": "94460c1d",
   "metadata": {},
   "outputs": [
    {
     "name": "stderr",
     "output_type": "stream",
     "text": [
      "C:\\Users\\murad_satabaev\\AppData\\Local\\Temp\\ipykernel_5940\\2998909243.py:1: FutureWarning: The default value of regex will change from True to False in a future version.\n",
      "  final_actual_patients_for_task['emiasid'] = final_actual_patients_for_task['emiasid'].astype(str).str.replace('\\.0', '')\n"
     ]
    }
   ],
   "source": [
    "final_actual_patients_for_task['emiasid'] = final_actual_patients_for_task['emiasid'].astype(str).str.replace('\\.0', '')"
   ]
  },
  {
   "cell_type": "code",
   "execution_count": 109,
   "id": "9bcb7f84",
   "metadata": {},
   "outputs": [],
   "source": [
    "initial_assistant_to_patient_distribution_in_today_task = \\\n",
    "final_actual_patients_for_task.copy()"
   ]
  },
  {
   "cell_type": "code",
   "execution_count": 110,
   "id": "9b46607c",
   "metadata": {},
   "outputs": [
    {
     "data": {
      "text/plain": [
       "4349"
      ]
     },
     "execution_count": 110,
     "metadata": {},
     "output_type": "execute_result"
    }
   ],
   "source": [
    "initial_assistant_to_patient_distribution_in_today_task.old_comment.nunique()"
   ]
  },
  {
   "cell_type": "code",
   "execution_count": 111,
   "id": "e38063ad",
   "metadata": {
    "scrolled": false
   },
   "outputs": [
    {
     "data": {
      "text/html": [
       "<div>\n",
       "<style scoped>\n",
       "    .dataframe tbody tr th:only-of-type {\n",
       "        vertical-align: middle;\n",
       "    }\n",
       "\n",
       "    .dataframe tbody tr th {\n",
       "        vertical-align: top;\n",
       "    }\n",
       "\n",
       "    .dataframe thead th {\n",
       "        text-align: right;\n",
       "    }\n",
       "</style>\n",
       "<table border=\"1\" class=\"dataframe\">\n",
       "  <thead>\n",
       "    <tr style=\"text-align: right;\">\n",
       "      <th></th>\n",
       "      <th></th>\n",
       "      <th>emiasid</th>\n",
       "    </tr>\n",
       "    <tr>\n",
       "      <th>mo</th>\n",
       "      <th>operator_login</th>\n",
       "      <th></th>\n",
       "    </tr>\n",
       "  </thead>\n",
       "  <tbody>\n",
       "    <tr>\n",
       "      <th rowspan=\"7\" valign=\"top\">ГП 107</th>\n",
       "      <th>pomoshnik_pdn131</th>\n",
       "      <td>27</td>\n",
       "    </tr>\n",
       "    <tr>\n",
       "      <th>pomoshnik_pdn130</th>\n",
       "      <td>54</td>\n",
       "    </tr>\n",
       "    <tr>\n",
       "      <th>pomoshnik_pdn43</th>\n",
       "      <td>195</td>\n",
       "    </tr>\n",
       "    <tr>\n",
       "      <th>pomoshnik_pdn148</th>\n",
       "      <td>202</td>\n",
       "    </tr>\n",
       "    <tr>\n",
       "      <th>pomoshnik_pdn185</th>\n",
       "      <td>240</td>\n",
       "    </tr>\n",
       "    <tr>\n",
       "      <th>pomoshnik_pdn129</th>\n",
       "      <td>244</td>\n",
       "    </tr>\n",
       "    <tr>\n",
       "      <th>pomoshnik_pdn109</th>\n",
       "      <td>259</td>\n",
       "    </tr>\n",
       "    <tr>\n",
       "      <th rowspan=\"4\" valign=\"top\">ГП 109</th>\n",
       "      <th>pomoshnik_pdn80</th>\n",
       "      <td>1</td>\n",
       "    </tr>\n",
       "    <tr>\n",
       "      <th>pomoshnik_pdn155</th>\n",
       "      <td>28</td>\n",
       "    </tr>\n",
       "    <tr>\n",
       "      <th>pomoshnik_pdn134</th>\n",
       "      <td>147</td>\n",
       "    </tr>\n",
       "    <tr>\n",
       "      <th>pomoshnik_pdn168</th>\n",
       "      <td>259</td>\n",
       "    </tr>\n",
       "    <tr>\n",
       "      <th rowspan=\"4\" valign=\"top\">ГП 11</th>\n",
       "      <th>pomoshnik_pdn32</th>\n",
       "      <td>143</td>\n",
       "    </tr>\n",
       "    <tr>\n",
       "      <th>pomoshnik_pdn146</th>\n",
       "      <td>164</td>\n",
       "    </tr>\n",
       "    <tr>\n",
       "      <th>pomoshnik_pdn184</th>\n",
       "      <td>332</td>\n",
       "    </tr>\n",
       "    <tr>\n",
       "      <th>pomoshnik_pdn147</th>\n",
       "      <td>380</td>\n",
       "    </tr>\n",
       "    <tr>\n",
       "      <th rowspan=\"5\" valign=\"top\">ГП 134</th>\n",
       "      <th>pomoshnik_pdn93</th>\n",
       "      <td>240</td>\n",
       "    </tr>\n",
       "    <tr>\n",
       "      <th>pomoshnik_pdn89</th>\n",
       "      <td>271</td>\n",
       "    </tr>\n",
       "    <tr>\n",
       "      <th>pomoshnik_pdn7</th>\n",
       "      <td>287</td>\n",
       "    </tr>\n",
       "    <tr>\n",
       "      <th>Помощник 3</th>\n",
       "      <td>336</td>\n",
       "    </tr>\n",
       "    <tr>\n",
       "      <th>pomoshnik_pdn75</th>\n",
       "      <td>367</td>\n",
       "    </tr>\n",
       "  </tbody>\n",
       "</table>\n",
       "</div>"
      ],
      "text/plain": [
       "                         emiasid\n",
       "mo     operator_login           \n",
       "ГП 107 pomoshnik_pdn131       27\n",
       "       pomoshnik_pdn130       54\n",
       "       pomoshnik_pdn43       195\n",
       "       pomoshnik_pdn148      202\n",
       "       pomoshnik_pdn185      240\n",
       "       pomoshnik_pdn129      244\n",
       "       pomoshnik_pdn109      259\n",
       "ГП 109 pomoshnik_pdn80         1\n",
       "       pomoshnik_pdn155       28\n",
       "       pomoshnik_pdn134      147\n",
       "       pomoshnik_pdn168      259\n",
       "ГП 11  pomoshnik_pdn32       143\n",
       "       pomoshnik_pdn146      164\n",
       "       pomoshnik_pdn184      332\n",
       "       pomoshnik_pdn147      380\n",
       "ГП 134 pomoshnik_pdn93       240\n",
       "       pomoshnik_pdn89       271\n",
       "       pomoshnik_pdn7        287\n",
       "       Помощник 3            336\n",
       "       pomoshnik_pdn75       367"
      ]
     },
     "execution_count": 111,
     "metadata": {},
     "output_type": "execute_result"
    }
   ],
   "source": [
    "initial_assistant_to_patient_distribution_in_today_task.groupby(['mo', 'operator_login']).agg({'emiasid': 'count'}).sort_values(\n",
    "    ['mo', 'emiasid']).head(20)"
   ]
  },
  {
   "cell_type": "code",
   "execution_count": null,
   "id": "f9ead447",
   "metadata": {},
   "outputs": [],
   "source": []
  },
  {
   "cell_type": "code",
   "execution_count": 112,
   "id": "ef11b196",
   "metadata": {},
   "outputs": [
    {
     "data": {
      "text/plain": [
       "{'pomoshnik_pdn99'}"
      ]
     },
     "execution_count": 112,
     "metadata": {},
     "output_type": "execute_result"
    }
   ],
   "source": [
    "set(present_assistants.operator_login.unique()) - \\\n",
    "(set(initial_assistant_to_patient_distribution_in_today_task.operator_login.unique()) - {np.nan})"
   ]
  },
  {
   "cell_type": "code",
   "execution_count": 113,
   "id": "44cb2103",
   "metadata": {},
   "outputs": [],
   "source": [
    "# initial_assistant_to_patient_distribution_in_today_task.to_excel('initial_assistant_to_patient_distribution_in_today_task.xlsx')"
   ]
  },
  {
   "cell_type": "code",
   "execution_count": 114,
   "id": "15af79c4",
   "metadata": {},
   "outputs": [],
   "source": [
    "task_amount = 90"
   ]
  },
  {
   "cell_type": "code",
   "execution_count": 115,
   "id": "482dbfa9",
   "metadata": {},
   "outputs": [
    {
     "name": "stdout",
     "output_type": "stream",
     "text": [
      "CPU times: total: 3.64 s\n",
      "Wall time: 3.66 s\n"
     ]
    },
    {
     "data": {
      "text/plain": [
       "18610"
      ]
     },
     "execution_count": 115,
     "metadata": {},
     "output_type": "execute_result"
    }
   ],
   "source": [
    "%%time\n",
    "\n",
    "initial_task_for_today = pd.DataFrame()\n",
    "for operator_login in set(initial_assistant_to_patient_distribution_in_today_task.operator_login):\n",
    "    initial_assistant_to_patient_distribution_in_today_task_for_operator_login = \\\n",
    "    initial_assistant_to_patient_distribution_in_today_task[initial_assistant_to_patient_distribution_in_today_task \\\n",
    "                                                            .operator_login\n",
    "         == operator_login].sort_values(by=['priority', 'last_call_date', 'calls_amount'])\n",
    "    call_back_number_for_operator_login = initial_assistant_to_patient_distribution_in_today_task_for_operator_login[\n",
    "        initial_assistant_to_patient_distribution_in_today_task_for_operator_login.status.isin({\n",
    "            'Перезвонить сегодня', 'Перенос звонка на другой день'})].shape[0]\n",
    "\n",
    "    initial_task_for_today = pd.concat(\n",
    "        [initial_task_for_today, \n",
    "\n",
    "         \n",
    "         initial_assistant_to_patient_distribution_in_today_task[\n",
    "             (initial_assistant_to_patient_distribution_in_today_task.operator_login==operator_login)\n",
    "         ].head(task_amount),\n",
    "        \n",
    "       \n",
    "        ]).reset_index(drop=True)\n",
    "\n",
    "initial_task_for_today.shape[0]"
   ]
  },
  {
   "cell_type": "code",
   "execution_count": 116,
   "id": "8a64cb4a",
   "metadata": {},
   "outputs": [
    {
     "data": {
      "text/html": [
       "<div>\n",
       "<style scoped>\n",
       "    .dataframe tbody tr th:only-of-type {\n",
       "        vertical-align: middle;\n",
       "    }\n",
       "\n",
       "    .dataframe tbody tr th {\n",
       "        vertical-align: top;\n",
       "    }\n",
       "\n",
       "    .dataframe thead th {\n",
       "        text-align: right;\n",
       "    }\n",
       "</style>\n",
       "<table border=\"1\" class=\"dataframe\">\n",
       "  <thead>\n",
       "    <tr style=\"text-align: right;\">\n",
       "      <th></th>\n",
       "      <th></th>\n",
       "      <th>emiasid</th>\n",
       "    </tr>\n",
       "    <tr>\n",
       "      <th>mo</th>\n",
       "      <th>operator_login</th>\n",
       "      <th></th>\n",
       "    </tr>\n",
       "  </thead>\n",
       "  <tbody>\n",
       "    <tr>\n",
       "      <th>ГП 109</th>\n",
       "      <th>pomoshnik_pdn80</th>\n",
       "      <td>1</td>\n",
       "    </tr>\n",
       "    <tr>\n",
       "      <th>ГП 170</th>\n",
       "      <th>pomoshnik_pdn151</th>\n",
       "      <td>6</td>\n",
       "    </tr>\n",
       "    <tr>\n",
       "      <th>ГП 45</th>\n",
       "      <th>pomoshnik_pdn82</th>\n",
       "      <td>7</td>\n",
       "    </tr>\n",
       "    <tr>\n",
       "      <th>ГП 166</th>\n",
       "      <th>pomoshnik_pdn209</th>\n",
       "      <td>13</td>\n",
       "    </tr>\n",
       "    <tr>\n",
       "      <th>ГП 52</th>\n",
       "      <th>pomoshnik_pdn103</th>\n",
       "      <td>27</td>\n",
       "    </tr>\n",
       "    <tr>\n",
       "      <th>ГП 107</th>\n",
       "      <th>pomoshnik_pdn131</th>\n",
       "      <td>27</td>\n",
       "    </tr>\n",
       "    <tr>\n",
       "      <th>ГП 109</th>\n",
       "      <th>pomoshnik_pdn155</th>\n",
       "      <td>28</td>\n",
       "    </tr>\n",
       "    <tr>\n",
       "      <th>КДЦ 6</th>\n",
       "      <th>pomoshnik_pdn60</th>\n",
       "      <td>29</td>\n",
       "    </tr>\n",
       "    <tr>\n",
       "      <th>ГП 23</th>\n",
       "      <th>pomoshnik_pdn104</th>\n",
       "      <td>38</td>\n",
       "    </tr>\n",
       "    <tr>\n",
       "      <th>ДЦ 5</th>\n",
       "      <th>pomoshnik_pdn53</th>\n",
       "      <td>38</td>\n",
       "    </tr>\n",
       "  </tbody>\n",
       "</table>\n",
       "</div>"
      ],
      "text/plain": [
       "                         emiasid\n",
       "mo     operator_login           \n",
       "ГП 109 pomoshnik_pdn80         1\n",
       "ГП 170 pomoshnik_pdn151        6\n",
       "ГП 45  pomoshnik_pdn82         7\n",
       "ГП 166 pomoshnik_pdn209       13\n",
       "ГП 52  pomoshnik_pdn103       27\n",
       "ГП 107 pomoshnik_pdn131       27\n",
       "ГП 109 pomoshnik_pdn155       28\n",
       "КДЦ 6  pomoshnik_pdn60        29\n",
       "ГП 23  pomoshnik_pdn104       38\n",
       "ДЦ 5   pomoshnik_pdn53        38"
      ]
     },
     "execution_count": 116,
     "metadata": {},
     "output_type": "execute_result"
    }
   ],
   "source": [
    "initial_task_for_today \\\n",
    ".groupby(['mo', 'operator_login']).agg({'emiasid': 'count'}).sort_values(['mo', 'emiasid'])\\\n",
    ".sort_values(by='emiasid', ascending=True).head(10)"
   ]
  },
  {
   "cell_type": "code",
   "execution_count": 117,
   "id": "4624e462",
   "metadata": {},
   "outputs": [
    {
     "data": {
      "text/html": [
       "<div>\n",
       "<style scoped>\n",
       "    .dataframe tbody tr th:only-of-type {\n",
       "        vertical-align: middle;\n",
       "    }\n",
       "\n",
       "    .dataframe tbody tr th {\n",
       "        vertical-align: top;\n",
       "    }\n",
       "\n",
       "    .dataframe thead th {\n",
       "        text-align: right;\n",
       "    }\n",
       "</style>\n",
       "<table border=\"1\" class=\"dataframe\">\n",
       "  <thead>\n",
       "    <tr style=\"text-align: right;\">\n",
       "      <th></th>\n",
       "      <th></th>\n",
       "      <th>emiasid</th>\n",
       "    </tr>\n",
       "    <tr>\n",
       "      <th>mo</th>\n",
       "      <th>operator_login</th>\n",
       "      <th></th>\n",
       "    </tr>\n",
       "  </thead>\n",
       "  <tbody>\n",
       "    <tr>\n",
       "      <th>ГП 45</th>\n",
       "      <th>pomoshnik_pdn292</th>\n",
       "      <td>90</td>\n",
       "    </tr>\n",
       "    <tr>\n",
       "      <th>ГП 66</th>\n",
       "      <th>pomoshnik_pdn249</th>\n",
       "      <td>90</td>\n",
       "    </tr>\n",
       "    <tr>\n",
       "      <th>ГП 62</th>\n",
       "      <th>pomoshnik_pdn267</th>\n",
       "      <td>90</td>\n",
       "    </tr>\n",
       "    <tr>\n",
       "      <th rowspan=\"5\" valign=\"top\">ГП 64</th>\n",
       "      <th>pomoshnik_pdn105</th>\n",
       "      <td>90</td>\n",
       "    </tr>\n",
       "    <tr>\n",
       "      <th>pomoshnik_pdn17</th>\n",
       "      <td>90</td>\n",
       "    </tr>\n",
       "    <tr>\n",
       "      <th>pomoshnik_pdn45</th>\n",
       "      <td>90</td>\n",
       "    </tr>\n",
       "    <tr>\n",
       "      <th>pomoshnik_pdn47</th>\n",
       "      <td>90</td>\n",
       "    </tr>\n",
       "    <tr>\n",
       "      <th>pomoshnik_pdn79</th>\n",
       "      <td>90</td>\n",
       "    </tr>\n",
       "    <tr>\n",
       "      <th rowspan=\"2\" valign=\"top\">ГП 66</th>\n",
       "      <th>pomoshnik_pdn116</th>\n",
       "      <td>90</td>\n",
       "    </tr>\n",
       "    <tr>\n",
       "      <th>pomoshnik_pdn159</th>\n",
       "      <td>90</td>\n",
       "    </tr>\n",
       "  </tbody>\n",
       "</table>\n",
       "</div>"
      ],
      "text/plain": [
       "                        emiasid\n",
       "mo    operator_login           \n",
       "ГП 45 pomoshnik_pdn292       90\n",
       "ГП 66 pomoshnik_pdn249       90\n",
       "ГП 62 pomoshnik_pdn267       90\n",
       "ГП 64 pomoshnik_pdn105       90\n",
       "      pomoshnik_pdn17        90\n",
       "      pomoshnik_pdn45        90\n",
       "      pomoshnik_pdn47        90\n",
       "      pomoshnik_pdn79        90\n",
       "ГП 66 pomoshnik_pdn116       90\n",
       "      pomoshnik_pdn159       90"
      ]
     },
     "execution_count": 117,
     "metadata": {},
     "output_type": "execute_result"
    }
   ],
   "source": [
    "initial_task_for_today \\\n",
    ".groupby(['mo', 'operator_login']).agg({'emiasid': 'count'}).sort_values(['mo', 'emiasid'])\\\n",
    ".sort_values(by='emiasid', ascending=False).head(10)"
   ]
  },
  {
   "cell_type": "code",
   "execution_count": 118,
   "id": "76c5884f",
   "metadata": {},
   "outputs": [],
   "source": [
    "rename_mo = \\\n",
    "{'ГБУЗ Г МОСКВЫ ГП № 170 ДЗМ': 'ГП 170', ' ГП 6 ДЗМ': 'ГП 6', 'ГБУЗ КДЦ 6 ДЗМ':'КДЦ 6', \n",
    "'ГБУЗ \"ГП № 134 ДЗМ\"': 'ГП 134', 'КДЦ 4': 'КДЦ 4', 'ГБУЗ ДКЦ 1 ДЗМ': 'ДКЦ 1', 'ГБУЗ ГП 23 ДЗМ': 'ГП 23',\n",
    "'ГБУЗ ГП 109 ДЗМ': 'ГП 109', 'ГБУЗ ГП 11 ДЗМ': 'ГП 11', 'ГБУЗ ГП 64 ДЗМ': 'ГП 64', 'ГБУЗ ГП 191 ДЗМ': 'ГП 191', \n",
    "'ГБУЗ ГП 220 ДЗМ': 'ГП 220', 'ГБУЗ \"ГП № 218 ДЗМ\"': 'ГП 218',  'ГБУЗ ГП 107 ДЗМ': 'ГП 107', \n",
    "'ГБУЗ \"ГП № 22 ДЗМ\"': 'ГП 22', 'ГБУЗ ДЦ 5 ДЗМ': 'ДЦ 5', 'ГБУЗ ГП 210 ДЗМ': 'ГП 210', 'ГБУЗ ГП 214 ДЗМ': 'ГП 214', \n",
    "'ГБУЗ ГП 2 ДЗМ': 'ГП 2', 'ГБУЗ КДП 121 ДЗМ': 'КДП 121', 'ГБУЗ ГП 66 ДЗМ': 'ГП 66',  'ГБУЗ ДЦ 3 ДЗМ ': 'ДЦ 3',\n",
    "'ГБУЗ ГП 36 ДЗМ': 'ГП 36',  'ГБУЗ ГП 62 ДЗМ ': 'ГП 62', \n",
    "'ГБУЗ \"ГП № 52 ДЗМ\"': 'ГП 52', 'ГБУЗ \"ГП 67 ДЗМ\"': 'ГП 67', 'ГБУЗ ГП 68 ДЗМ': 'ГП 68', 'ГБУЗ ГП 175 ДЗМ': 'ГП 175',\n",
    "'ГБУЗ ГП № 209 ДЗМ': 'ГП 209',  'ГБУЗ ГП 212 ДЗМ': 'ГП 212', 'ГБУЗ ГП 19 ДЗМ': 'ГП 19', \n",
    "'ГБУЗ ГП №166 ДЗМ': 'ГП 166', 'ГБУЗ ГП 9 ДЗМ': 'ГП 9', 'ГБУЗ ГП 69 ДЗМ': 'ГП 69',\n",
    "'ГБУЗ \"ГП № 3 ДЗМ\"': 'ГП 3', 'ГБУЗ ГП 5 ДЗМ': 'ГП 5', 'ГБУЗ ГП 46 ДЗМ': 'ГП 46', 'ГБУЗ ГП №8 ДЗМ': 'ГП 8', \n",
    "'ГБУЗ \"ГП № 45 ДЗМ\"': 'ГП 45'}"
   ]
  },
  {
   "cell_type": "code",
   "execution_count": 119,
   "id": "d8c1906d",
   "metadata": {},
   "outputs": [],
   "source": [
    "mo_list = set(rename_mo.values())"
   ]
  },
  {
   "cell_type": "code",
   "execution_count": 120,
   "id": "69649df2",
   "metadata": {},
   "outputs": [],
   "source": [
    "initial_task_for_today_present_assistants = \\\n",
    "initial_task_for_today[~initial_task_for_today.operator_login.isin(absent_assistants.operator_login)]"
   ]
  },
  {
   "cell_type": "code",
   "execution_count": 121,
   "id": "3dc5953a",
   "metadata": {},
   "outputs": [
    {
     "data": {
      "text/plain": [
       "4035"
      ]
     },
     "execution_count": 121,
     "metadata": {},
     "output_type": "execute_result"
    }
   ],
   "source": [
    "initial_task_for_today[initial_task_for_today.operator_login.isin(absent_assistants.operator_login)].shape[0]"
   ]
  },
  {
   "cell_type": "code",
   "execution_count": 122,
   "id": "249761c8",
   "metadata": {},
   "outputs": [
    {
     "data": {
      "text/plain": [
       "14575"
      ]
     },
     "execution_count": 122,
     "metadata": {},
     "output_type": "execute_result"
    }
   ],
   "source": [
    "initial_task_for_today_present_assistants.shape[0]"
   ]
  },
  {
   "cell_type": "code",
   "execution_count": 123,
   "id": "3067e938",
   "metadata": {},
   "outputs": [
    {
     "data": {
      "text/html": [
       "<div>\n",
       "<style scoped>\n",
       "    .dataframe tbody tr th:only-of-type {\n",
       "        vertical-align: middle;\n",
       "    }\n",
       "\n",
       "    .dataframe tbody tr th {\n",
       "        vertical-align: top;\n",
       "    }\n",
       "\n",
       "    .dataframe thead th {\n",
       "        text-align: right;\n",
       "    }\n",
       "</style>\n",
       "<table border=\"1\" class=\"dataframe\">\n",
       "  <thead>\n",
       "    <tr style=\"text-align: right;\">\n",
       "      <th></th>\n",
       "      <th>emiasid</th>\n",
       "    </tr>\n",
       "    <tr>\n",
       "      <th>operator_login</th>\n",
       "      <th></th>\n",
       "    </tr>\n",
       "  </thead>\n",
       "  <tbody>\n",
       "    <tr>\n",
       "      <th>pomoshnik_pdn101</th>\n",
       "      <td>90</td>\n",
       "    </tr>\n",
       "    <tr>\n",
       "      <th>pomoshnik_pdn292</th>\n",
       "      <td>90</td>\n",
       "    </tr>\n",
       "    <tr>\n",
       "      <th>pomoshnik_pdn294</th>\n",
       "      <td>90</td>\n",
       "    </tr>\n",
       "    <tr>\n",
       "      <th>pomoshnik_pdn295</th>\n",
       "      <td>90</td>\n",
       "    </tr>\n",
       "    <tr>\n",
       "      <th>pomoshnik_pdn299</th>\n",
       "      <td>90</td>\n",
       "    </tr>\n",
       "    <tr>\n",
       "      <th>...</th>\n",
       "      <td>...</td>\n",
       "    </tr>\n",
       "    <tr>\n",
       "      <th>pomoshnik_pdn155</th>\n",
       "      <td>28</td>\n",
       "    </tr>\n",
       "    <tr>\n",
       "      <th>pomoshnik_pdn131</th>\n",
       "      <td>27</td>\n",
       "    </tr>\n",
       "    <tr>\n",
       "      <th>pomoshnik_pdn103</th>\n",
       "      <td>27</td>\n",
       "    </tr>\n",
       "    <tr>\n",
       "      <th>pomoshnik_pdn82</th>\n",
       "      <td>7</td>\n",
       "    </tr>\n",
       "    <tr>\n",
       "      <th>pomoshnik_pdn151</th>\n",
       "      <td>6</td>\n",
       "    </tr>\n",
       "  </tbody>\n",
       "</table>\n",
       "<p>169 rows × 1 columns</p>\n",
       "</div>"
      ],
      "text/plain": [
       "                  emiasid\n",
       "operator_login           \n",
       "pomoshnik_pdn101       90\n",
       "pomoshnik_pdn292       90\n",
       "pomoshnik_pdn294       90\n",
       "pomoshnik_pdn295       90\n",
       "pomoshnik_pdn299       90\n",
       "...                   ...\n",
       "pomoshnik_pdn155       28\n",
       "pomoshnik_pdn131       27\n",
       "pomoshnik_pdn103       27\n",
       "pomoshnik_pdn82         7\n",
       "pomoshnik_pdn151        6\n",
       "\n",
       "[169 rows x 1 columns]"
      ]
     },
     "execution_count": 123,
     "metadata": {},
     "output_type": "execute_result"
    }
   ],
   "source": [
    "initial_task_for_today_present_assistants.groupby('operator_login').agg({'emiasid': 'count'}).sort_values('emiasid', ascending=False)"
   ]
  },
  {
   "cell_type": "code",
   "execution_count": 124,
   "id": "5984cf9c",
   "metadata": {},
   "outputs": [],
   "source": [
    "initial_task_for_today_absent_assistants =  \\\n",
    "initial_task_for_today[initial_task_for_today.operator_login.isin(absent_assistants.operator_login)] \\\n",
    "[['emiasid', 'status', 'old_comment', 'mo', 'priority', 'month']]"
   ]
  },
  {
   "cell_type": "code",
   "execution_count": 125,
   "id": "e05971cb",
   "metadata": {},
   "outputs": [],
   "source": [
    "additional_task_for_present_assistants = \\\n",
    "pd.concat([\n",
    "#     new_doctor_patients,\n",
    "    initial_task_for_today_absent_assistants\n",
    "]).reset_index(drop=True)"
   ]
  },
  {
   "cell_type": "code",
   "execution_count": 126,
   "id": "90ff9e79",
   "metadata": {},
   "outputs": [],
   "source": [
    "additional_task_for_present_assistants_by_mo = \\\n",
    "additional_task_for_present_assistants.groupby(['mo']).agg({'emiasid': 'count'}).sort_values(by=['mo', 'emiasid'])"
   ]
  },
  {
   "cell_type": "code",
   "execution_count": 127,
   "id": "d4bb3a4b",
   "metadata": {},
   "outputs": [],
   "source": [
    "distribution_count = initial_task_for_today_present_assistants.groupby(['mo']) \\\n",
    ".agg({'emiasid': 'count', 'operator_login': 'nunique'}) \\\n",
    ".sort_values(by=['mo', 'emiasid'])"
   ]
  },
  {
   "cell_type": "code",
   "execution_count": 128,
   "id": "6cffe7fc",
   "metadata": {},
   "outputs": [],
   "source": [
    "distribution_count['total_delta'] = distribution_count['operator_login'] * task_amount - distribution_count['emiasid']"
   ]
  },
  {
   "cell_type": "code",
   "execution_count": 129,
   "id": "e2b43718",
   "metadata": {},
   "outputs": [],
   "source": [
    "distribution_count = distribution_count[distribution_count.total_delta > 0]"
   ]
  },
  {
   "cell_type": "code",
   "execution_count": 130,
   "id": "4e0a6b6d",
   "metadata": {},
   "outputs": [
    {
     "data": {
      "text/html": [
       "<div>\n",
       "<style scoped>\n",
       "    .dataframe tbody tr th:only-of-type {\n",
       "        vertical-align: middle;\n",
       "    }\n",
       "\n",
       "    .dataframe tbody tr th {\n",
       "        vertical-align: top;\n",
       "    }\n",
       "\n",
       "    .dataframe thead th {\n",
       "        text-align: right;\n",
       "    }\n",
       "</style>\n",
       "<table border=\"1\" class=\"dataframe\">\n",
       "  <thead>\n",
       "    <tr style=\"text-align: right;\">\n",
       "      <th></th>\n",
       "      <th>emiasid</th>\n",
       "      <th>status</th>\n",
       "      <th>old_comment</th>\n",
       "      <th>mo</th>\n",
       "      <th>priority</th>\n",
       "      <th>month</th>\n",
       "    </tr>\n",
       "  </thead>\n",
       "  <tbody>\n",
       "    <tr>\n",
       "      <th>0</th>\n",
       "      <td>20930690</td>\n",
       "      <td>Перенос звонка на другой день</td>\n",
       "      <td>нет слотов, №10797</td>\n",
       "      <td>ГП 5</td>\n",
       "      <td>1</td>\n",
       "      <td>september</td>\n",
       "    </tr>\n",
       "    <tr>\n",
       "      <th>1</th>\n",
       "      <td>21337284</td>\n",
       "      <td>Перенос звонка на другой день</td>\n",
       "      <td>NaN</td>\n",
       "      <td>ГП 5</td>\n",
       "      <td>1</td>\n",
       "      <td>september</td>\n",
       "    </tr>\n",
       "    <tr>\n",
       "      <th>2</th>\n",
       "      <td>2140325991</td>\n",
       "      <td>Перенос звонка на другой день</td>\n",
       "      <td>перезвонить, идет к терапевту добавить показат...</td>\n",
       "      <td>ГП 5</td>\n",
       "      <td>1</td>\n",
       "      <td>september</td>\n",
       "    </tr>\n",
       "    <tr>\n",
       "      <th>3</th>\n",
       "      <td>2242170889</td>\n",
       "      <td>Перенос звонка на другой день</td>\n",
       "      <td>NaN</td>\n",
       "      <td>ГП 5</td>\n",
       "      <td>1</td>\n",
       "      <td>september</td>\n",
       "    </tr>\n",
       "    <tr>\n",
       "      <th>4</th>\n",
       "      <td>2242023446</td>\n",
       "      <td>Перенос звонка на другой день</td>\n",
       "      <td>перезвонить</td>\n",
       "      <td>ГП 5</td>\n",
       "      <td>1</td>\n",
       "      <td>september</td>\n",
       "    </tr>\n",
       "    <tr>\n",
       "      <th>...</th>\n",
       "      <td>...</td>\n",
       "      <td>...</td>\n",
       "      <td>...</td>\n",
       "      <td>...</td>\n",
       "      <td>...</td>\n",
       "      <td>...</td>\n",
       "    </tr>\n",
       "    <tr>\n",
       "      <th>4030</th>\n",
       "      <td>31036663</td>\n",
       "      <td>Напомнить</td>\n",
       "      <td>NaN</td>\n",
       "      <td>ГП 166</td>\n",
       "      <td>4</td>\n",
       "      <td>september</td>\n",
       "    </tr>\n",
       "    <tr>\n",
       "      <th>4031</th>\n",
       "      <td>30204294</td>\n",
       "      <td>Напомнить</td>\n",
       "      <td>NaN</td>\n",
       "      <td>ГП 166</td>\n",
       "      <td>4</td>\n",
       "      <td>september</td>\n",
       "    </tr>\n",
       "    <tr>\n",
       "      <th>4032</th>\n",
       "      <td>2242907248</td>\n",
       "      <td>Напомнить</td>\n",
       "      <td>NaN</td>\n",
       "      <td>ГП 166</td>\n",
       "      <td>4</td>\n",
       "      <td>september</td>\n",
       "    </tr>\n",
       "    <tr>\n",
       "      <th>4033</th>\n",
       "      <td>2238554837</td>\n",
       "      <td>Напомнить</td>\n",
       "      <td>NaN</td>\n",
       "      <td>ГП 166</td>\n",
       "      <td>4</td>\n",
       "      <td>september</td>\n",
       "    </tr>\n",
       "    <tr>\n",
       "      <th>4034</th>\n",
       "      <td>2245925996</td>\n",
       "      <td>Напомнить</td>\n",
       "      <td>NaN</td>\n",
       "      <td>ГП 166</td>\n",
       "      <td>4</td>\n",
       "      <td>september</td>\n",
       "    </tr>\n",
       "  </tbody>\n",
       "</table>\n",
       "<p>4035 rows × 6 columns</p>\n",
       "</div>"
      ],
      "text/plain": [
       "         emiasid                         status  \\\n",
       "0       20930690  Перенос звонка на другой день   \n",
       "1       21337284  Перенос звонка на другой день   \n",
       "2     2140325991  Перенос звонка на другой день   \n",
       "3     2242170889  Перенос звонка на другой день   \n",
       "4     2242023446  Перенос звонка на другой день   \n",
       "...          ...                            ...   \n",
       "4030    31036663                      Напомнить   \n",
       "4031    30204294                      Напомнить   \n",
       "4032  2242907248                      Напомнить   \n",
       "4033  2238554837                      Напомнить   \n",
       "4034  2245925996                      Напомнить   \n",
       "\n",
       "                                            old_comment      mo  priority  \\\n",
       "0                                    нет слотов, №10797    ГП 5         1   \n",
       "1                                                   NaN    ГП 5         1   \n",
       "2     перезвонить, идет к терапевту добавить показат...    ГП 5         1   \n",
       "3                                                   NaN    ГП 5         1   \n",
       "4                                           перезвонить    ГП 5         1   \n",
       "...                                                 ...     ...       ...   \n",
       "4030                                                NaN  ГП 166         4   \n",
       "4031                                                NaN  ГП 166         4   \n",
       "4032                                                NaN  ГП 166         4   \n",
       "4033                                                NaN  ГП 166         4   \n",
       "4034                                                NaN  ГП 166         4   \n",
       "\n",
       "          month  \n",
       "0     september  \n",
       "1     september  \n",
       "2     september  \n",
       "3     september  \n",
       "4     september  \n",
       "...         ...  \n",
       "4030  september  \n",
       "4031  september  \n",
       "4032  september  \n",
       "4033  september  \n",
       "4034  september  \n",
       "\n",
       "[4035 rows x 6 columns]"
      ]
     },
     "execution_count": 130,
     "metadata": {},
     "output_type": "execute_result"
    }
   ],
   "source": [
    "additional_task_for_present_assistants"
   ]
  },
  {
   "cell_type": "code",
   "execution_count": 131,
   "id": "3fc05a8b",
   "metadata": {},
   "outputs": [],
   "source": [
    "final_task_predistribution = \\\n",
    "pd.concat([initial_task_for_today_present_assistants, additional_task_for_present_assistants]).reset_index(drop=True)"
   ]
  },
  {
   "cell_type": "code",
   "execution_count": 132,
   "id": "e111fbba",
   "metadata": {},
   "outputs": [
    {
     "data": {
      "text/plain": [
       "4035"
      ]
     },
     "execution_count": 132,
     "metadata": {},
     "output_type": "execute_result"
    }
   ],
   "source": [
    "empty_login_patients_amount_before = final_task_predistribution[final_task_predistribution.operator_login.isna()].shape[0]\n",
    "empty_login_patients_amount_before"
   ]
  },
  {
   "cell_type": "code",
   "execution_count": 133,
   "id": "650e69ab",
   "metadata": {},
   "outputs": [
    {
     "name": "stdout",
     "output_type": "stream",
     "text": [
      "CPU times: total: 13.3 s\n",
      "Wall time: 13.3 s\n"
     ]
    }
   ],
   "source": [
    "%%time\n",
    "\n",
    "for mo in distribution_count.index:\n",
    "    \n",
    "    while final_task_predistribution[final_task_predistribution.mo == mo].groupby('operator_login') \\\n",
    "    .agg({'emiasid': 'count'}).min()['emiasid'] < task_amount and \\\n",
    "    final_task_predistribution[(final_task_predistribution.operator_login.isna()) & (final_task_predistribution.mo == mo)] \\\n",
    "    .shape[0] > 0:\n",
    "        \n",
    "        miminal_in_mo_assistant_emiasid_amount = final_task_predistribution[final_task_predistribution.mo == mo] \\\n",
    "        .groupby('operator_login').agg({'emiasid': 'count'}).min()['emiasid']\n",
    "\n",
    "        minimal_in_mo_emiasid_amount_login = final_task_predistribution[final_task_predistribution.mo == mo] \\\n",
    "        .groupby('operator_login').agg({'emiasid': 'count'}).sort_values(by='emiasid').index[0]\n",
    "        \n",
    "        \n",
    "        empty_login_in_mo_index = final_task_predistribution[\n",
    "            (final_task_predistribution.operator_login.isna()) & (final_task_predistribution.mo == mo)\n",
    "        ].index[0]\n",
    "        \n",
    "        final_task_predistribution = \\\n",
    "        final_task_predistribution.sort_values(by=['priority', 'last_call_date', 'calls_amount'])\n",
    "\n",
    "        final_task_predistribution.loc[empty_login_in_mo_index, 'operator_login'] = minimal_in_mo_emiasid_amount_login\n"
   ]
  },
  {
   "cell_type": "code",
   "execution_count": 134,
   "id": "0f2c344a",
   "metadata": {},
   "outputs": [
    {
     "data": {
      "text/plain": [
       "3554"
      ]
     },
     "execution_count": 134,
     "metadata": {},
     "output_type": "execute_result"
    }
   ],
   "source": [
    "empty_login_patients_amount_after = final_task_predistribution[final_task_predistribution.operator_login.isna()].shape[0]\n",
    "empty_login_patients_amount_after"
   ]
  },
  {
   "cell_type": "code",
   "execution_count": 135,
   "id": "b2b0e146",
   "metadata": {},
   "outputs": [],
   "source": [
    "check_table = distribution_count.merge(additional_task_for_present_assistants_by_mo,left_index=True, right_index=True) \\\n",
    "[['total_delta', 'emiasid_y']]"
   ]
  },
  {
   "cell_type": "code",
   "execution_count": 136,
   "id": "9680ffa0",
   "metadata": {},
   "outputs": [],
   "source": [
    "check_table.loc[check_table['total_delta'] > check_table['emiasid_y'], 'real_addition'] = \\\n",
    "check_table.loc[check_table['total_delta'] > check_table['emiasid_y'], 'emiasid_y']\n",
    "\n",
    "check_table.loc[check_table['total_delta'] <= check_table['emiasid_y'], 'real_addition'] = \\\n",
    "check_table.loc[check_table['total_delta'] <= check_table['emiasid_y'], 'total_delta']"
   ]
  },
  {
   "cell_type": "code",
   "execution_count": 137,
   "id": "1fe8f17d",
   "metadata": {},
   "outputs": [
    {
     "data": {
      "text/plain": [
       "481.0"
      ]
     },
     "execution_count": 137,
     "metadata": {},
     "output_type": "execute_result"
    }
   ],
   "source": [
    "real_change_of_emty_login_patients_amount = check_table.real_addition.sum()\n",
    "real_change_of_emty_login_patients_amount"
   ]
  },
  {
   "cell_type": "code",
   "execution_count": 138,
   "id": "63ec6182",
   "metadata": {},
   "outputs": [
    {
     "data": {
      "text/plain": [
       "True"
      ]
     },
     "execution_count": 138,
     "metadata": {},
     "output_type": "execute_result"
    }
   ],
   "source": [
    "empty_login_patients_amount_before - empty_login_patients_amount_after == real_change_of_emty_login_patients_amount"
   ]
  },
  {
   "cell_type": "code",
   "execution_count": 139,
   "id": "942e3c5e",
   "metadata": {},
   "outputs": [],
   "source": [
    "final_task_distribution = final_task_predistribution[~final_task_predistribution.operator_login.isna()] \\\n",
    ".copy().reset_index(drop=True)"
   ]
  },
  {
   "cell_type": "code",
   "execution_count": 140,
   "id": "f26194b6",
   "metadata": {},
   "outputs": [
    {
     "data": {
      "text/plain": [
       "15056"
      ]
     },
     "execution_count": 140,
     "metadata": {},
     "output_type": "execute_result"
    }
   ],
   "source": [
    "final_task_distribution.shape[0]"
   ]
  },
  {
   "cell_type": "code",
   "execution_count": 141,
   "id": "057ecfc2",
   "metadata": {},
   "outputs": [
    {
     "data": {
      "text/plain": [
       "Не дозвонились                    7627\n",
       "Перенос звонка на другой день     5048\n",
       "Напомнить                         1493\n",
       "Ни разу не звонили                 319\n",
       "Перезвонить сегодня                283\n",
       "Запишется самостоятельно           242\n",
       "Разговор состоялся                  16\n",
       "Госпитализирован                     9\n",
       "Будет в Москве в другом месяце       8\n",
       "Отсутствует номер                    6\n",
       "Иная МО                              2\n",
       "Отказ                                2\n",
       "Живет не в Москве                    1\n",
       "Name: status, dtype: int64"
      ]
     },
     "execution_count": 141,
     "metadata": {},
     "output_type": "execute_result"
    }
   ],
   "source": [
    "final_task_distribution.status.value_counts()"
   ]
  },
  {
   "cell_type": "code",
   "execution_count": 142,
   "id": "ba065c68",
   "metadata": {},
   "outputs": [
    {
     "data": {
      "text/plain": [
       "15056"
      ]
     },
     "execution_count": 142,
     "metadata": {},
     "output_type": "execute_result"
    }
   ],
   "source": [
    "final_task_distribution.shape[0]"
   ]
  },
  {
   "cell_type": "code",
   "execution_count": null,
   "id": "1f39310e",
   "metadata": {},
   "outputs": [],
   "source": []
  },
  {
   "cell_type": "code",
   "execution_count": null,
   "id": "2330ea9f",
   "metadata": {},
   "outputs": [],
   "source": []
  },
  {
   "cell_type": "code",
   "execution_count": 143,
   "id": "0168e629",
   "metadata": {},
   "outputs": [
    {
     "data": {
      "text/plain": [
       "Index(['emiasid', 'status', 'old_comment', 'operator_login', 'mo',\n",
       "       'doctor_fio', 'priority', 'calls_amount', 'last_call_date', 'month'],\n",
       "      dtype='object')"
      ]
     },
     "execution_count": 143,
     "metadata": {},
     "output_type": "execute_result"
    }
   ],
   "source": [
    "final_task_distribution.columns"
   ]
  },
  {
   "cell_type": "code",
   "execution_count": 145,
   "id": "ac380ee3",
   "metadata": {},
   "outputs": [
    {
     "data": {
      "text/html": [
       "<div>\n",
       "<style scoped>\n",
       "    .dataframe tbody tr th:only-of-type {\n",
       "        vertical-align: middle;\n",
       "    }\n",
       "\n",
       "    .dataframe tbody tr th {\n",
       "        vertical-align: top;\n",
       "    }\n",
       "\n",
       "    .dataframe thead th {\n",
       "        text-align: right;\n",
       "    }\n",
       "</style>\n",
       "<table border=\"1\" class=\"dataframe\">\n",
       "  <thead>\n",
       "    <tr style=\"text-align: right;\">\n",
       "      <th></th>\n",
       "      <th>emiasid</th>\n",
       "    </tr>\n",
       "    <tr>\n",
       "      <th>operator_login</th>\n",
       "      <th></th>\n",
       "    </tr>\n",
       "  </thead>\n",
       "  <tbody>\n",
       "    <tr>\n",
       "      <th>pomoshnik_pdn80</th>\n",
       "      <td>149</td>\n",
       "    </tr>\n",
       "    <tr>\n",
       "      <th>pomoshnik_pdn101</th>\n",
       "      <td>90</td>\n",
       "    </tr>\n",
       "    <tr>\n",
       "      <th>pomoshnik_pdn36</th>\n",
       "      <td>90</td>\n",
       "    </tr>\n",
       "    <tr>\n",
       "      <th>pomoshnik_pdn299</th>\n",
       "      <td>90</td>\n",
       "    </tr>\n",
       "    <tr>\n",
       "      <th>pomoshnik_pdn30</th>\n",
       "      <td>90</td>\n",
       "    </tr>\n",
       "    <tr>\n",
       "      <th>pomoshnik_pdn307</th>\n",
       "      <td>90</td>\n",
       "    </tr>\n",
       "    <tr>\n",
       "      <th>pomoshnik_pdn309</th>\n",
       "      <td>90</td>\n",
       "    </tr>\n",
       "    <tr>\n",
       "      <th>pomoshnik_pdn31</th>\n",
       "      <td>90</td>\n",
       "    </tr>\n",
       "    <tr>\n",
       "      <th>pomoshnik_pdn32</th>\n",
       "      <td>90</td>\n",
       "    </tr>\n",
       "    <tr>\n",
       "      <th>pomoshnik_pdn328</th>\n",
       "      <td>90</td>\n",
       "    </tr>\n",
       "    <tr>\n",
       "      <th>pomoshnik_pdn37</th>\n",
       "      <td>90</td>\n",
       "    </tr>\n",
       "    <tr>\n",
       "      <th>pomoshnik_pdn294</th>\n",
       "      <td>90</td>\n",
       "    </tr>\n",
       "    <tr>\n",
       "      <th>pomoshnik_pdn38</th>\n",
       "      <td>90</td>\n",
       "    </tr>\n",
       "    <tr>\n",
       "      <th>pomoshnik_pdn39</th>\n",
       "      <td>90</td>\n",
       "    </tr>\n",
       "    <tr>\n",
       "      <th>pomoshnik_pdn40</th>\n",
       "      <td>90</td>\n",
       "    </tr>\n",
       "    <tr>\n",
       "      <th>pomoshnik_pdn41</th>\n",
       "      <td>90</td>\n",
       "    </tr>\n",
       "    <tr>\n",
       "      <th>pomoshnik_pdn42</th>\n",
       "      <td>90</td>\n",
       "    </tr>\n",
       "    <tr>\n",
       "      <th>pomoshnik_pdn43</th>\n",
       "      <td>90</td>\n",
       "    </tr>\n",
       "    <tr>\n",
       "      <th>pomoshnik_pdn45</th>\n",
       "      <td>90</td>\n",
       "    </tr>\n",
       "    <tr>\n",
       "      <th>pomoshnik_pdn46</th>\n",
       "      <td>90</td>\n",
       "    </tr>\n",
       "    <tr>\n",
       "      <th>pomoshnik_pdn295</th>\n",
       "      <td>90</td>\n",
       "    </tr>\n",
       "    <tr>\n",
       "      <th>pomoshnik_pdn293</th>\n",
       "      <td>90</td>\n",
       "    </tr>\n",
       "    <tr>\n",
       "      <th>pomoshnik_pdn48</th>\n",
       "      <td>90</td>\n",
       "    </tr>\n",
       "    <tr>\n",
       "      <th>pomoshnik_pdn292</th>\n",
       "      <td>90</td>\n",
       "    </tr>\n",
       "    <tr>\n",
       "      <th>pomoshnik_pdn260</th>\n",
       "      <td>90</td>\n",
       "    </tr>\n",
       "    <tr>\n",
       "      <th>pomoshnik_pdn264</th>\n",
       "      <td>90</td>\n",
       "    </tr>\n",
       "    <tr>\n",
       "      <th>pomoshnik_pdn265</th>\n",
       "      <td>90</td>\n",
       "    </tr>\n",
       "    <tr>\n",
       "      <th>pomoshnik_pdn266</th>\n",
       "      <td>90</td>\n",
       "    </tr>\n",
       "    <tr>\n",
       "      <th>pomoshnik_pdn267</th>\n",
       "      <td>90</td>\n",
       "    </tr>\n",
       "    <tr>\n",
       "      <th>pomoshnik_pdn268</th>\n",
       "      <td>90</td>\n",
       "    </tr>\n",
       "  </tbody>\n",
       "</table>\n",
       "</div>"
      ],
      "text/plain": [
       "                  emiasid\n",
       "operator_login           \n",
       "pomoshnik_pdn80       149\n",
       "pomoshnik_pdn101       90\n",
       "pomoshnik_pdn36        90\n",
       "pomoshnik_pdn299       90\n",
       "pomoshnik_pdn30        90\n",
       "pomoshnik_pdn307       90\n",
       "pomoshnik_pdn309       90\n",
       "pomoshnik_pdn31        90\n",
       "pomoshnik_pdn32        90\n",
       "pomoshnik_pdn328       90\n",
       "pomoshnik_pdn37        90\n",
       "pomoshnik_pdn294       90\n",
       "pomoshnik_pdn38        90\n",
       "pomoshnik_pdn39        90\n",
       "pomoshnik_pdn40        90\n",
       "pomoshnik_pdn41        90\n",
       "pomoshnik_pdn42        90\n",
       "pomoshnik_pdn43        90\n",
       "pomoshnik_pdn45        90\n",
       "pomoshnik_pdn46        90\n",
       "pomoshnik_pdn295       90\n",
       "pomoshnik_pdn293       90\n",
       "pomoshnik_pdn48        90\n",
       "pomoshnik_pdn292       90\n",
       "pomoshnik_pdn260       90\n",
       "pomoshnik_pdn264       90\n",
       "pomoshnik_pdn265       90\n",
       "pomoshnik_pdn266       90\n",
       "pomoshnik_pdn267       90\n",
       "pomoshnik_pdn268       90"
      ]
     },
     "execution_count": 145,
     "metadata": {},
     "output_type": "execute_result"
    }
   ],
   "source": [
    "final_task_distribution.groupby('operator_login').agg({'emiasid': 'count'}).sort_values(by=['emiasid'], ascending=False).head(30)"
   ]
  },
  {
   "cell_type": "code",
   "execution_count": 146,
   "id": "5cbc1d18",
   "metadata": {},
   "outputs": [],
   "source": [
    "final_task_distribution['emiasid'] = final_task_distribution['emiasid']"
   ]
  },
  {
   "cell_type": "code",
   "execution_count": 147,
   "id": "17140f8b",
   "metadata": {},
   "outputs": [
    {
     "data": {
      "text/plain": [
       "15056"
      ]
     },
     "execution_count": 147,
     "metadata": {},
     "output_type": "execute_result"
    }
   ],
   "source": [
    "final_task_distribution = final_task_distribution.drop_duplicates(subset=['emiasid'], keep='first')\n",
    "final_task_distribution.shape[0]"
   ]
  },
  {
   "cell_type": "code",
   "execution_count": 148,
   "id": "eb16b922",
   "metadata": {},
   "outputs": [
    {
     "data": {
      "text/plain": [
       "Не дозвонились                    7627\n",
       "Перенос звонка на другой день     5048\n",
       "Напомнить                         1493\n",
       "Ни разу не звонили                 319\n",
       "Перезвонить сегодня                283\n",
       "Запишется самостоятельно           242\n",
       "Разговор состоялся                  16\n",
       "Госпитализирован                     9\n",
       "Будет в Москве в другом месяце       8\n",
       "Отсутствует номер                    6\n",
       "Иная МО                              2\n",
       "Отказ                                2\n",
       "Живет не в Москве                    1\n",
       "Name: status, dtype: int64"
      ]
     },
     "execution_count": 148,
     "metadata": {},
     "output_type": "execute_result"
    }
   ],
   "source": [
    "final_task_distribution.status.value_counts()"
   ]
  },
  {
   "cell_type": "code",
   "execution_count": 149,
   "id": "349da337",
   "metadata": {},
   "outputs": [
    {
     "data": {
      "text/plain": [
       "2022-09-15    4653\n",
       "2022-09-14    1389\n",
       "2022-09-06    1371\n",
       "2022-09-08    1360\n",
       "2022-09-09     970\n",
       "2022-09-19     903\n",
       "2022-09-13     897\n",
       "2022-09-16     640\n",
       "2022-09-07     598\n",
       "2022-09-05     594\n",
       "2022-09-02     457\n",
       "2022-09-12     445\n",
       "2022-08-04      27\n",
       "2022-08-09      27\n",
       "2022-08-15      26\n",
       "2022-08-05      22\n",
       "2022-08-12      18\n",
       "2022-08-16      17\n",
       "2022-08-10      15\n",
       "2022-08-08      13\n",
       "2022-08-11      11\n",
       "2022-08-17      11\n",
       "2022-08-18      10\n",
       "2022-08-19      10\n",
       "2022-08-03       7\n",
       "2022-08-23       5\n",
       "2022-08-22       4\n",
       "2022-08-25       4\n",
       "2022-08-02       3\n",
       "2022-08-26       2\n",
       "2022-08-24       1\n",
       "2022-08-29       1\n",
       "Name: last_call_date, dtype: int64"
      ]
     },
     "execution_count": 149,
     "metadata": {},
     "output_type": "execute_result"
    }
   ],
   "source": [
    "final_task_distribution.last_call_date.value_counts()"
   ]
  },
  {
   "cell_type": "code",
   "execution_count": 150,
   "id": "d5f67b49",
   "metadata": {},
   "outputs": [
    {
     "data": {
      "text/plain": [
       "15056"
      ]
     },
     "execution_count": 150,
     "metadata": {},
     "output_type": "execute_result"
    }
   ],
   "source": [
    "final_task_distribution = final_task_distribution.drop_duplicates(subset=['emiasid'], keep='first')\n",
    "final_task_distribution.shape[0]"
   ]
  },
  {
   "cell_type": "code",
   "execution_count": 151,
   "id": "dad560c1",
   "metadata": {},
   "outputs": [],
   "source": [
    "final_task_distribution.operator_login = final_task_distribution.operator_login.apply(lambda x: x + '_n2')"
   ]
  },
  {
   "cell_type": "code",
   "execution_count": 152,
   "id": "59b22bd5",
   "metadata": {},
   "outputs": [
    {
     "data": {
      "text/plain": [
       "pomoshnik_pdn80_n2     149\n",
       "pomoshnik_pdn76_n2      90\n",
       "pomoshnik_pdn147_n2     90\n",
       "pomoshnik_pdn230_n2     90\n",
       "pomoshnik_pdn23_n2      90\n",
       "                      ... \n",
       "pomoshnik_pdn271_n2     90\n",
       "pomoshnik_pdn155_n2     60\n",
       "pomoshnik_pdn130_n2     54\n",
       "pomoshnik_pdn131_n2     27\n",
       "pomoshnik_pdn151_n2      6\n",
       "Name: operator_login, Length: 169, dtype: int64"
      ]
     },
     "execution_count": 152,
     "metadata": {},
     "output_type": "execute_result"
    }
   ],
   "source": [
    "final_task_distribution.operator_login.value_counts()"
   ]
  },
  {
   "cell_type": "code",
   "execution_count": 153,
   "id": "494e7fec",
   "metadata": {},
   "outputs": [],
   "source": [
    "final_task_distribution[final_task_distribution.month == 'august']\\\n",
    ".to_excel(rf'august_task_for_today_{today_y_m_d}.xlsx', index=False)"
   ]
  },
  {
   "cell_type": "code",
   "execution_count": 154,
   "id": "29d90f94",
   "metadata": {},
   "outputs": [],
   "source": [
    "final_task_distribution[final_task_distribution.month == 'september']\\\n",
    ".to_excel(rf'september_task_for_today_{today_y_m_d}.xlsx', index=False)"
   ]
  },
  {
   "cell_type": "code",
   "execution_count": null,
   "id": "413e3589",
   "metadata": {},
   "outputs": [],
   "source": []
  },
  {
   "cell_type": "code",
   "execution_count": null,
   "id": "6ba20cdb",
   "metadata": {},
   "outputs": [],
   "source": [
    "final_task_distribution.to_excel(rf'full_task_for_today_{today_y_m_d}.xlsx', index=False)"
   ]
  },
  {
   "cell_type": "code",
   "execution_count": null,
   "id": "058aa7ae",
   "metadata": {},
   "outputs": [],
   "source": [
    "tomorrow_record_patients[tomorrow_record_patients.emiasid.isin(final_task_distribution.emiasid)]"
   ]
  },
  {
   "cell_type": "code",
   "execution_count": null,
   "id": "3882bb4b",
   "metadata": {},
   "outputs": [],
   "source": [
    "final_task_distribution."
   ]
  }
 ],
 "metadata": {
  "kernelspec": {
   "display_name": "Python 3 (ipykernel)",
   "language": "python",
   "name": "python3"
  },
  "language_info": {
   "codemirror_mode": {
    "name": "ipython",
    "version": 3
   },
   "file_extension": ".py",
   "mimetype": "text/x-python",
   "name": "python",
   "nbconvert_exporter": "python",
   "pygments_lexer": "ipython3",
   "version": "3.10.4"
  }
 },
 "nbformat": 4,
 "nbformat_minor": 5
}
