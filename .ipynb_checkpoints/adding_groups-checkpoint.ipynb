{
 "cells": [
  {
   "cell_type": "code",
   "execution_count": null,
   "id": "079827aa",
   "metadata": {},
   "outputs": [],
   "source": [
    "import datetime as dt\n",
    "import os\n",
    "import pandas as pd\n",
    "import numpy as np"
   ]
  },
  {
   "cell_type": "code",
   "execution_count": null,
   "id": "88dbe66f",
   "metadata": {},
   "outputs": [],
   "source": [
    "cycle = 1\n",
    "date_now = pd.Timestamp.today()\n",
    "# - timedelta(days=1)\n",
    "if cycle in [1, 2]:\n",
    "        task_for_call = list(range(1, 34))\n",
    "else:\n",
    "    task_for_call = list(range(1, 13)) + list(range(14, 20)) + [22, 23, 24, 25]\n",
    "ther_exclude_dates_june = [str(val)[:10] for val in pd.date_range('2022-01-01', '2022-06-07')]\n",
    "ther_exclude_dates_july = [str(val)[:10] for val in pd.date_range('2022-01-01', '2022-07-04')]\n",
    "ther_exclude_dates_august = [str(val)[:10] for val in pd.date_range('2022-01-01', '2022-08-01')]\n",
    "date_ymd = date_now.strftime('%Y%m%d')\n",
    "yesterday_date_ = date_now - dt.timedelta(days=1)"
   ]
  },
  {
   "cell_type": "code",
   "execution_count": null,
   "id": "1dd22792",
   "metadata": {},
   "outputs": [],
   "source": [
    "# путь файла с текущими статусами пациентов\n",
    "patients_current_statuses_path = r'\\Users\\murad_satabaev\\Documents\\GitHub\\final_framework\\merged_statuses'\n",
    "patients_current_statuses_path = patients_current_statuses_path.split('\\\\')\n",
    "patients_current_statuses_path = os.path.join('C:\\\\', r'\\\\', *patients_current_statuses_path)\n",
    "print(patients_current_statuses_path)"
   ]
  },
  {
   "cell_type": "code",
   "execution_count": null,
   "id": "7e38cdff",
   "metadata": {},
   "outputs": [],
   "source": [
    "import sys\n",
    "path_to_pdn = r\"C:\\Users\\murad_satabaev\\Documents\\GitHub\\pdn___\" # сюда внутри кавычек вставляем путь, где ледит репозиторий пдн\n",
    "sys.path.insert(0, path_to_pdn)"
   ]
  },
  {
   "cell_type": "code",
   "execution_count": null,
   "id": "ae1886b1",
   "metadata": {},
   "outputs": [],
   "source": [
    "from pdn.projects.emias_data import get_emias_data\n",
    "from pdn.reading.read_files import get_group_name_df"
   ]
  },
  {
   "cell_type": "code",
   "execution_count": null,
   "id": "62751767",
   "metadata": {},
   "outputs": [],
   "source": [
    "import sys\n",
    "path_to_pdn = r\"C:\\Users\\murad_satabaev\\Documents\\GitHub\\pdn_\" # сюда внутри кавычек вставляем путь, где ледит репозиторий пдн\n",
    "sys.path.insert(0, path_to_pdn)"
   ]
  },
  {
   "cell_type": "code",
   "execution_count": null,
   "id": "37ad7751",
   "metadata": {},
   "outputs": [],
   "source": [
    "from pdn.projects.emias_data import get_emias_id_and_task_num_and_uschedule_visit"
   ]
  },
  {
   "cell_type": "code",
   "execution_count": null,
   "id": "fbbd18b7",
   "metadata": {},
   "outputs": [],
   "source": [
    "from pdn.projects.emias_data import get_status_rec_rcp_procedure_and_doc"
   ]
  },
  {
   "cell_type": "code",
   "execution_count": null,
   "id": "e42f64af",
   "metadata": {},
   "outputs": [],
   "source": [
    "# cловарь \"номер_dat\": \"месяц\", в который мы добавляем список месяцев, которые сейчас в работе\n",
    "\n",
    "dat_month = dict()\n",
    "\n",
    "# dat_month['may'] = '3196'\n",
    "# dat_month['june'] = '3437'\n",
    "# dat_month['july'] = '3582'\n",
    "dat_month['august'] = 3833\n",
    "# dat_month['august_additional'] = '3940'\n",
    "dat_month['september'] = 4059"
   ]
  },
  {
   "cell_type": "code",
   "execution_count": null,
   "id": "0a516c71",
   "metadata": {},
   "outputs": [],
   "source": [
    "group_names = get_group_name_df()"
   ]
  },
  {
   "cell_type": "code",
   "execution_count": null,
   "id": "b908e0c4",
   "metadata": {},
   "outputs": [],
   "source": [
    "date_now"
   ]
  },
  {
   "cell_type": "code",
   "execution_count": null,
   "id": "b80850ab",
   "metadata": {
    "scrolled": true
   },
   "outputs": [],
   "source": [
    "%%time\n",
    "for month, dat in dat_month.items():\n",
    "    \n",
    "    # пациенты и группы\n",
    "    emias_data = get_emias_data(date_now, dat)\n",
    "    for col in [\n",
    "        'kont_priyom_terapevt_zapis',\n",
    "        'kont_priyom_terapevt_sdel',\n",
    "        'kont_priyom_terapevt_sdel_hron_plan'\n",
    "    ]:\n",
    "        emias_data.loc[emias_data[col].isin(ther_exclude_dates_august), [col]] = np.nan\n",
    "    attrs_emias_data = emias_data.merge(\n",
    "        get_emias_id_and_task_num_and_uschedule_visit(\n",
    "            emias_data,\n",
    "            date_now\n",
    "        ),\n",
    "        how='left'\n",
    "    ).merge(\n",
    "        get_status_rec_rcp_procedure_and_doc(\n",
    "            get_emias_data(date_now, dat),\n",
    "            date_now\n",
    "        ),\n",
    "        how='left'\n",
    "    )\n",
    "    \n",
    "    \n",
    "    to_merge = attrs_emias_data[['emiasid', 'group', 'procedure_rec_status']].merge(group_names, on=['group'])\n",
    "    \n",
    "    patients_current_statuses_reading = pd.read_excel(\n",
    "        os.path.join(patients_current_statuses_path, rf'{month}_patients_current_statuses_with_calls_info_{today_y_m_d}.xlsx'))\n",
    "    \n",
    "    \n",
    "    patients_current_statuses_merged_with_groups = patients_current_statuses.merge(to_merge, on=['emiasid'], how='left')\n",
    "    \n",
    "    \n",
    "    patients_current_statuses_merged_with_groups['emiasid'] = \\\n",
    "    patients_current_statuses_merged_with_groups['emiasid'].astype(str).str.replace('\\.0', '') \n",
    "    \n",
    "        \n",
    "    patients_current_statuses_merged_with_groups.to_excel(os.path.join(\n",
    "        patients_current_statuses_path, \n",
    "                     rf'{month}_patients_current_statuses_with_groups_{today_y_m_d}.xlsx'), index=False)"
   ]
  },
  {
   "cell_type": "code",
   "execution_count": null,
   "id": "4a54a4bb",
   "metadata": {},
   "outputs": [],
   "source": []
  }
 ],
 "metadata": {
  "kernelspec": {
   "display_name": "Python 3 (ipykernel)",
   "language": "python",
   "name": "python3"
  },
  "language_info": {
   "codemirror_mode": {
    "name": "ipython",
    "version": 3
   },
   "file_extension": ".py",
   "mimetype": "text/x-python",
   "name": "python",
   "nbconvert_exporter": "python",
   "pygments_lexer": "ipython3",
   "version": "3.10.4"
  }
 },
 "nbformat": 4,
 "nbformat_minor": 5
}
