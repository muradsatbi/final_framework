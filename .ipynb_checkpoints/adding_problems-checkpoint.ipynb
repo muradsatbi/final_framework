{
 "cells": [
  {
   "cell_type": "code",
   "execution_count": 1,
   "id": "ffd41bc3",
   "metadata": {},
   "outputs": [],
   "source": [
    "import os\n",
    "import pandas as pd\n",
    "import datetime as dt\n",
    "import numpy as np\n",
    "import re"
   ]
  },
  {
   "cell_type": "code",
   "execution_count": 2,
   "id": "3678b95e",
   "metadata": {},
   "outputs": [
    {
     "name": "stdout",
     "output_type": "stream",
     "text": [
      "2022_09_20\n"
     ]
    }
   ],
   "source": [
    "today = pd.Timestamp(dt.datetime.today().date())\n",
    "today_ymd = today.strftime('%Y%m%d')\n",
    "today_y_m_d = today.strftime('%Y_%m_%d')\n",
    "\n",
    "yesterday = today - dt.timedelta(days=1)\n",
    "yesterday_ymd = yesterday.strftime('%Y%m%d')\n",
    "yesterday_y_m_d = yesterday.strftime('%Y-%m-%d')\n",
    "\n",
    "tomorrow = today + dt.timedelta(days=1)\n",
    "tomorrow_ymd = tomorrow.strftime('%Y%m%d')\n",
    "tomorrow_y_m_d = tomorrow.strftime('%Y-%m-%d')\n",
    "\n",
    "print(today_y_m_d)"
   ]
  },
  {
   "cell_type": "code",
   "execution_count": 3,
   "id": "bbe9a34f",
   "metadata": {},
   "outputs": [],
   "source": [
    "column_names = {'Emiasid': 'emiasid', 'Emiasid ': 'emiasid' , 'emiasid ': 'emiasid', 'EMIAS_ID': 'emiasid', 'МО': 'mo', \n",
    "                'МУ': 'mu', 'Логин оператора': 'operator_login', 'Дата и время звонка': 'call_date', \n",
    "                'Результат звонка': 'call_result', 'Результат звонка ': 'call_result', 'Разговор состоялся': 'talk_result', \n",
    "                'Комменатрий': 'comment', 'Дата и время переноса': 'next_call_date', 'Контактный телефон': 'phone_number', \n",
    "                'ФИО врача': 'doctor_fio', 'ФИО помощника врача': 'assistant_fio', 'Логин помощника врача': 'operator_login',\n",
    "                'Зал №': 'hall_number', 'Логин naumen': 'operator_login', 'МО закрепления': 'mo', \n",
    "                'Отсутствует на рабочем месте': 'absence', 'login': 'operator_login', 'procedure_rec_status': 'group_procedure',\n",
    "                'patient_group': 'group_name'}"
   ]
  },
  {
   "cell_type": "code",
   "execution_count": 4,
   "id": "aa095ae2",
   "metadata": {},
   "outputs": [
    {
     "name": "stdout",
     "output_type": "stream",
     "text": [
      "C:\\\\Users\\murad_satabaev\\Documents\\GitHub\\final_framework\\merged_statuses\n"
     ]
    }
   ],
   "source": [
    "# путь файла с текущими статусами пациентов\n",
    "patients_current_statuses_path = r'\\Users\\murad_satabaev\\Documents\\GitHub\\final_framework\\merged_statuses'\n",
    "patients_current_statuses_path = patients_current_statuses_path.split('\\\\')\n",
    "patients_current_statuses_path = os.path.join('C:\\\\', r'\\\\', *patients_current_statuses_path)\n",
    "print(patients_current_statuses_path)"
   ]
  },
  {
   "cell_type": "code",
   "execution_count": 5,
   "id": "8a850499",
   "metadata": {},
   "outputs": [],
   "source": [
    "# cловарь \"номер_dat\": \"месяц\", в который мы добавляем список месяцев, которые сейчас в работе\n",
    "\n",
    "dat_month = dict()\n",
    "\n",
    "# dat_month['may'] = '3196'\n",
    "# dat_month['june'] = '3437'\n",
    "# dat_month['july'] = '3582'\n",
    "dat_month['august'] = '3833'\n",
    "# dat_month['august_additional'] = '3940'\n",
    "dat_month['september'] = '4059'"
   ]
  },
  {
   "cell_type": "code",
   "execution_count": 6,
   "id": "0adc7a92",
   "metadata": {},
   "outputs": [],
   "source": [
    "def find_phone_number(text):\n",
    "    \"\"\"Функция ищет номера телефонов в строке, фильтрует дефектные и возвращает один с приоритетом на мобильный\"\"\"\n",
    "    import re\n",
    "    defect_pattern = re.compile(r\"\"\"7[^94]\\d{9}|0{7,}|1{7,}|2{7,}|3{7,}|4{7,}|5{7,}|6{7,}|7{7,}|8{7,}|9{7,}\"\"\")\n",
    "    text = str(text)\n",
    "    text = ['7' + re.sub(r'\\D', '', x)[-10:] for x in re.split(r'[,;]', text)]\n",
    "    text = list(filter(lambda x: len(x) == 11, text))\n",
    "    text = list(filter(lambda x: False if re.search(defect_pattern, x) else True, text))\n",
    "    text = sorted(text, reverse=True)\n",
    "    text = ','.join(text)\n",
    "    text = re.search(r'(9\\d{9}|4\\d{9})', text)\n",
    "    if text:\n",
    "        text = text.group()\n",
    "    return text"
   ]
  },
  {
   "cell_type": "code",
   "execution_count": null,
   "id": "ba443b23",
   "metadata": {},
   "outputs": [],
   "source": []
  },
  {
   "cell_type": "code",
   "execution_count": 7,
   "id": "a150ff2d",
   "metadata": {},
   "outputs": [
    {
     "name": "stdout",
     "output_type": "stream",
     "text": [
      "\\\\t999\\Сетевой диск\\pdn\\data\\emias_data\\xlsx\n"
     ]
    }
   ],
   "source": [
    "# путь файла с сегодняшними \n",
    "emias_data_path = r'\\\\t999\\Сетевой диск\\pdn\\data\\emias_data\\xlsx'\n",
    "emias_data_path = emias_data_path.split('\\\\')\n",
    "emias_data_path = os.path.join(r'\\\\', *emias_data_path)\n",
    "print(emias_data_path)"
   ]
  },
  {
   "cell_type": "code",
   "execution_count": null,
   "id": "6f31e0de",
   "metadata": {},
   "outputs": [],
   "source": []
  },
  {
   "cell_type": "code",
   "execution_count": 8,
   "id": "c06f9d03",
   "metadata": {},
   "outputs": [],
   "source": [
    "doctor_fio_list = pd.read_excel('doctor_fio_list.xlsx')"
   ]
  },
  {
   "cell_type": "code",
   "execution_count": 9,
   "id": "8beb6672",
   "metadata": {},
   "outputs": [
    {
     "name": "stderr",
     "output_type": "stream",
     "text": [
      "C:\\Users\\murad_satabaev\\AppData\\Local\\Temp\\ipykernel_4972\\2112285501.py:11: FutureWarning: The default value of regex will change from True to False in a future version.\n",
      "  patients_current_statuses_merged['emiasid'] = patients_current_statuses_merged['emiasid'].astype(str).str.replace('\\.0', '')\n",
      "C:\\Users\\murad_satabaev\\AppData\\Local\\Temp\\ipykernel_4972\\2112285501.py:12: FutureWarning: The default value of regex will change from True to False in a future version.\n",
      "  today_emias_data['emiasid'] = today_emias_data['emiasid'].astype(str).str.replace('\\.0', '')\n",
      "C:\\Users\\murad_satabaev\\AppData\\Local\\Temp\\ipykernel_4972\\2112285501.py:14: FutureWarning: The default value of regex will change from True to False in a future version.\n",
      "  today_emias_data['phone'] = today_emias_data['phone'].astype(str).str.replace('\\.0', '')\n",
      "C:\\Users\\murad_satabaev\\AppData\\Local\\Temp\\ipykernel_4972\\2112285501.py:11: FutureWarning: The default value of regex will change from True to False in a future version.\n",
      "  patients_current_statuses_merged['emiasid'] = patients_current_statuses_merged['emiasid'].astype(str).str.replace('\\.0', '')\n",
      "C:\\Users\\murad_satabaev\\AppData\\Local\\Temp\\ipykernel_4972\\2112285501.py:12: FutureWarning: The default value of regex will change from True to False in a future version.\n",
      "  today_emias_data['emiasid'] = today_emias_data['emiasid'].astype(str).str.replace('\\.0', '')\n",
      "C:\\Users\\murad_satabaev\\AppData\\Local\\Temp\\ipykernel_4972\\2112285501.py:14: FutureWarning: The default value of regex will change from True to False in a future version.\n",
      "  today_emias_data['phone'] = today_emias_data['phone'].astype(str).str.replace('\\.0', '')\n"
     ]
    }
   ],
   "source": [
    "for month, dat in dat_month.items():\n",
    "    \n",
    "    today_emias_data_path = [os.path.join(emias_data_path, filename) for filename in os.listdir(emias_data_path) if dat \n",
    "                         in filename and '~' not in filename and today.strftime('%Y-%m-%d') in filename][0]\n",
    "    \n",
    "    patients_current_statuses_merged = pd.read_excel(\n",
    "        os.path.join(patients_current_statuses_path, rf'{month}_patients_current_statuses_with_groups_{today_y_m_d}.xlsx'))\n",
    "    \n",
    "    today_emias_data = pd.read_excel(today_emias_data_path)\n",
    "    \n",
    "    patients_current_statuses_merged['emiasid'] = patients_current_statuses_merged['emiasid'].astype(str).str.replace('\\.0', '')\n",
    "    today_emias_data['emiasid'] = today_emias_data['emiasid'].astype(str).str.replace('\\.0', '')\n",
    "    \n",
    "    today_emias_data['phone'] = today_emias_data['phone'].astype(str).str.replace('\\.0', '')\n",
    "    today_emias_data['phone'] = today_emias_data['phone'].apply(find_phone_number)\n",
    "    \n",
    "    today_bad_numbers_patients = today_emias_data[today_emias_data['phone'].isna()].emiasid\n",
    "    today_no_doctor_patients = today_emias_data[today_emias_data['doctor_fio'].isna()].emiasid\n",
    "    today_no_mo_patients = today_emias_data[today_emias_data['mo'].isna()].emiasid\n",
    "    today_new_doctor_fio_patients = \\\n",
    "    today_emias_data[~today_emias_data.doctor_fio.isin(doctor_fio_list.doctor_fio)\n",
    "    ].emiasid\n",
    "    \n",
    "    patients_current_statuses_merged.loc[\n",
    "        patients_current_statuses_merged.emiasid.isin(today_new_doctor_fio_patients), 'problem'] = 'Новый врач'\n",
    "    \n",
    "    patients_current_statuses_merged.loc[\n",
    "    (~(patients_current_statuses_merged.emiasid.isin(today_emias_data.emiasid))), 'problem'] = 'Нет в сегодняшней выгрузке'\n",
    "    \n",
    "    patients_current_statuses_merged.loc[\n",
    "    (patients_current_statuses_merged.emiasid.isin(today_bad_numbers_patients)), 'problem'] = 'Отсутствует номер'\n",
    "    \n",
    "    patients_current_statuses_merged.loc[\n",
    "    (patients_current_statuses_merged.emiasid.isin(today_no_doctor_patients)), 'problem'] = 'Нет прикрепления к врачу'\n",
    "    \n",
    "    patients_current_statuses_merged.loc[\n",
    "    (patients_current_statuses_merged.emiasid.isin(today_no_mo_patients)), 'problem'] = 'Нет прикрепления к МО'\n",
    "    \n",
    "    patients_current_statuses_merged.loc[\n",
    "    (patients_current_statuses_merged.status == 'Смена МО'), 'problem'] = 'Смена МО'\n",
    "    \n",
    "    patients_current_statuses_merged.to_excel(\n",
    "    os.path.join('C:\\\\', 'Users', 'murad_satabaev', 'Documents', 'GitHub',\n",
    "        'final_framework', 'merged_statuses', \n",
    "                     f'{month}_patients_current_statuses_with_problems_{today_y_m_d}.xlsx'), index=False)"
   ]
  }
 ],
 "metadata": {
  "kernelspec": {
   "display_name": "Python 3 (ipykernel)",
   "language": "python",
   "name": "python3"
  },
  "language_info": {
   "codemirror_mode": {
    "name": "ipython",
    "version": 3
   },
   "file_extension": ".py",
   "mimetype": "text/x-python",
   "name": "python",
   "nbconvert_exporter": "python",
   "pygments_lexer": "ipython3",
   "version": "3.10.4"
  }
 },
 "nbformat": 4,
 "nbformat_minor": 5
}
