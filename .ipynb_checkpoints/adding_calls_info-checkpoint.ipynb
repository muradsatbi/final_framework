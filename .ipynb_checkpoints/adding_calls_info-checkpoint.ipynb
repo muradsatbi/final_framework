{
 "cells": [
  {
   "cell_type": "code",
   "execution_count": 1,
   "id": "ffd41bc3",
   "metadata": {},
   "outputs": [],
   "source": [
    "import os\n",
    "import pandas as pd\n",
    "import datetime as dt\n",
    "import numpy as np\n",
    "import re\n",
    "from pathlib import Path"
   ]
  },
  {
   "cell_type": "code",
   "execution_count": 2,
   "id": "3678b95e",
   "metadata": {},
   "outputs": [
    {
     "name": "stdout",
     "output_type": "stream",
     "text": [
      "2022_09_22\n"
     ]
    }
   ],
   "source": [
    "today = pd.Timestamp(dt.datetime.today().date())\n",
    "today_ymd = today.strftime('%Y%m%d')\n",
    "today_y_m_d = today.strftime('%Y_%m_%d')\n",
    "\n",
    "yesterday = today - dt.timedelta(days=1)\n",
    "yesterday_ymd = yesterday.strftime('%Y%m%d')\n",
    "yesterday_y_m_d = yesterday.strftime('%Y-%m-%d')\n",
    "\n",
    "tomorrow = today + dt.timedelta(days=1)\n",
    "tomorrow_ymd = tomorrow.strftime('%Y%m%d')\n",
    "tomorrow_y_m_d = tomorrow.strftime('%Y-%m-%d')\n",
    "\n",
    "print(today_y_m_d)"
   ]
  },
  {
   "cell_type": "code",
   "execution_count": 3,
   "id": "bbe9a34f",
   "metadata": {},
   "outputs": [],
   "source": [
    "column_names = {'Emiasid': 'emiasid', 'Emiasid ': 'emiasid' , 'emiasid ': 'emiasid', 'EMIAS_ID': 'emiasid', 'МО': 'mo', \n",
    "                'МУ': 'mu', 'Логин оператора': 'operator_login', 'Дата и время звонка': 'call_date', \n",
    "                'Результат звонка': 'call_result', 'Результат звонка ': 'call_result', 'Разговор состоялся': 'talk_result', \n",
    "                'Комменатрий': 'comment', 'Дата и время переноса': 'next_call_date', 'Контактный телефон': 'phone_number', \n",
    "                'ФИО врача': 'doctor_fio', 'ФИО помощника врача': 'assistant_fio', 'Логин помощника врача': 'operator_login',\n",
    "                'Зал №': 'hall_number', 'Логин naumen': 'operator_login', 'МО закрепления': 'mo', \n",
    "                'Отсутствует на рабочем месте': 'absence', 'login': 'operator_login', 'procedure_rec_status': 'group_procedure',\n",
    "                'patient_group': 'group_name'}"
   ]
  },
  {
   "cell_type": "code",
   "execution_count": 52,
   "id": "501cb151",
   "metadata": {},
   "outputs": [
    {
     "name": "stdout",
     "output_type": "stream",
     "text": [
      "C:\\Users\\VAIO\\final_framework\\calls_data_20220802_today.xlsx\n"
     ]
    }
   ],
   "source": [
    "# путь папки с данными по звонкам\n",
    "calls_data_path = os.path.expanduser(os.path.join(root, 'final_framework'))\n",
    "calls_data_path = calls_data_path.split('\\\\')\n",
    "calls_data_path = os.path.join('C:', '\\\\', *calls_data_path)\n",
    "calls_data_path = os.path.join(calls_data_path, 'calls_data_20220802_today.xlsx')\n",
    "print(calls_data_path)"
   ]
  },
  {
   "cell_type": "code",
   "execution_count": 49,
   "id": "b8e28197",
   "metadata": {},
   "outputs": [],
   "source": [
    "\n",
    "root = Path.home()"
   ]
  },
  {
   "cell_type": "code",
   "execution_count": 51,
   "id": "4b2b1b6a",
   "metadata": {},
   "outputs": [
    {
     "data": {
      "text/plain": [
       "'C:\\\\Users\\\\VAIO\\\\final_framework'"
      ]
     },
     "execution_count": 51,
     "metadata": {},
     "output_type": "execute_result"
    }
   ],
   "source": []
  },
  {
   "cell_type": "code",
   "execution_count": 39,
   "id": "7bd1d7f6",
   "metadata": {},
   "outputs": [
    {
     "ename": "SyntaxError",
     "evalue": "unexpected character after line continuation character (3608079480.py, line 1)",
     "output_type": "error",
     "traceback": [
      "\u001b[1;36m  Input \u001b[1;32mIn [39]\u001b[1;36m\u001b[0m\n\u001b[1;33m    C:\\Users\\VAIO\\Documents\\GitHub\\final_framework\u001b[0m\n\u001b[1;37m       ^\u001b[0m\n\u001b[1;31mSyntaxError\u001b[0m\u001b[1;31m:\u001b[0m unexpected character after line continuation character\n"
     ]
    }
   ],
   "source": [
    "C:\\Users\\VAIO\\Documents\\GitHub\\final_framework"
   ]
  },
  {
   "cell_type": "code",
   "execution_count": 17,
   "id": "aa095ae2",
   "metadata": {},
   "outputs": [
    {
     "name": "stdout",
     "output_type": "stream",
     "text": [
      "C:\\\\Users\\VAIO\\final_framework\\current_statuses_path\n"
     ]
    }
   ],
   "source": [
    "# путь файла с текущими статусами пациентов\n",
    "patients_current_statuses_path = os.path.expanduser(rf'~\\\\final_framework\\current_statuses_path')\n",
    "patients_current_statuses_path = patients_current_statuses_path.split('\\\\')\n",
    "patients_current_statuses_path = os.path.join('C:\\\\', r'\\\\', *patients_current_statuses_path)\n",
    "print(patients_current_statuses_path)"
   ]
  },
  {
   "cell_type": "code",
   "execution_count": 6,
   "id": "0adc7a92",
   "metadata": {},
   "outputs": [],
   "source": [
    "def find_phone_number(text):\n",
    "    \"\"\"Функция ищет номера телефонов в строке, фильтрует дефектные и возвращает один с приоритетом на мобильный\"\"\"\n",
    "    import re\n",
    "    defect_pattern = re.compile(r\"\"\"7[^94]\\d{9}|0{7,}|1{7,}|2{7,}|3{7,}|4{7,}|5{7,}|6{7,}|7{7,}|8{7,}|9{7,}\"\"\")\n",
    "    text = str(text)\n",
    "    text = ['7' + re.sub(r'\\D', '', x)[-10:] for x in re.split(r'[,;]', text)]\n",
    "    text = list(filter(lambda x: len(x) == 11, text))\n",
    "    text = list(filter(lambda x: False if re.search(defect_pattern, x) else True, text))\n",
    "    text = sorted(text, reverse=True)\n",
    "    text = ','.join(text)\n",
    "    text = re.search(r'(9\\d{9}|4\\d{9})', text)\n",
    "    if text:\n",
    "        text = text.group()\n",
    "    return text"
   ]
  },
  {
   "cell_type": "code",
   "execution_count": null,
   "id": "8d361945",
   "metadata": {},
   "outputs": [],
   "source": []
  },
  {
   "cell_type": "code",
   "execution_count": 13,
   "id": "70137984",
   "metadata": {},
   "outputs": [
    {
     "data": {
      "text/plain": [
       "'final_framework'"
      ]
     },
     "execution_count": 13,
     "metadata": {},
     "output_type": "execute_result"
    }
   ],
   "source": []
  },
  {
   "cell_type": "code",
   "execution_count": 40,
   "id": "8edfeadd",
   "metadata": {},
   "outputs": [
    {
     "ename": "FileNotFoundError",
     "evalue": "[Errno 2] No such file or directory: 'C:\\\\Users\\\\VAIO\\\\final_framework\\\\calls_data_20220802_today.xlsx'",
     "output_type": "error",
     "traceback": [
      "\u001b[1;31m---------------------------------------------------------------------------\u001b[0m",
      "\u001b[1;31mFileNotFoundError\u001b[0m                         Traceback (most recent call last)",
      "File \u001b[1;32m<timed exec>:1\u001b[0m, in \u001b[0;36m<module>\u001b[1;34m\u001b[0m\n",
      "File \u001b[1;32m~\\anaconda3\\lib\\site-packages\\pandas\\util\\_decorators.py:211\u001b[0m, in \u001b[0;36mdeprecate_kwarg.<locals>._deprecate_kwarg.<locals>.wrapper\u001b[1;34m(*args, **kwargs)\u001b[0m\n\u001b[0;32m    209\u001b[0m     \u001b[38;5;28;01melse\u001b[39;00m:\n\u001b[0;32m    210\u001b[0m         kwargs[new_arg_name] \u001b[38;5;241m=\u001b[39m new_arg_value\n\u001b[1;32m--> 211\u001b[0m \u001b[38;5;28;01mreturn\u001b[39;00m func(\u001b[38;5;241m*\u001b[39margs, \u001b[38;5;241m*\u001b[39m\u001b[38;5;241m*\u001b[39mkwargs)\n",
      "File \u001b[1;32m~\\anaconda3\\lib\\site-packages\\pandas\\util\\_decorators.py:317\u001b[0m, in \u001b[0;36mdeprecate_nonkeyword_arguments.<locals>.decorate.<locals>.wrapper\u001b[1;34m(*args, **kwargs)\u001b[0m\n\u001b[0;32m    311\u001b[0m \u001b[38;5;28;01mif\u001b[39;00m \u001b[38;5;28mlen\u001b[39m(args) \u001b[38;5;241m>\u001b[39m num_allow_args:\n\u001b[0;32m    312\u001b[0m     warnings\u001b[38;5;241m.\u001b[39mwarn(\n\u001b[0;32m    313\u001b[0m         msg\u001b[38;5;241m.\u001b[39mformat(arguments\u001b[38;5;241m=\u001b[39marguments),\n\u001b[0;32m    314\u001b[0m         \u001b[38;5;167;01mFutureWarning\u001b[39;00m,\n\u001b[0;32m    315\u001b[0m         stacklevel\u001b[38;5;241m=\u001b[39mfind_stack_level(inspect\u001b[38;5;241m.\u001b[39mcurrentframe()),\n\u001b[0;32m    316\u001b[0m     )\n\u001b[1;32m--> 317\u001b[0m \u001b[38;5;28;01mreturn\u001b[39;00m func(\u001b[38;5;241m*\u001b[39margs, \u001b[38;5;241m*\u001b[39m\u001b[38;5;241m*\u001b[39mkwargs)\n",
      "File \u001b[1;32m~\\anaconda3\\lib\\site-packages\\pandas\\io\\excel\\_base.py:483\u001b[0m, in \u001b[0;36mread_excel\u001b[1;34m(io, sheet_name, header, names, index_col, usecols, squeeze, dtype, engine, converters, true_values, false_values, skiprows, nrows, na_values, keep_default_na, na_filter, verbose, parse_dates, date_parser, thousands, decimal, comment, skipfooter, convert_float, mangle_dupe_cols, storage_options)\u001b[0m\n\u001b[0;32m    481\u001b[0m \u001b[38;5;28;01mif\u001b[39;00m \u001b[38;5;129;01mnot\u001b[39;00m \u001b[38;5;28misinstance\u001b[39m(io, ExcelFile):\n\u001b[0;32m    482\u001b[0m     should_close \u001b[38;5;241m=\u001b[39m \u001b[38;5;28;01mTrue\u001b[39;00m\n\u001b[1;32m--> 483\u001b[0m     io \u001b[38;5;241m=\u001b[39m \u001b[43mExcelFile\u001b[49m\u001b[43m(\u001b[49m\u001b[43mio\u001b[49m\u001b[43m,\u001b[49m\u001b[43m \u001b[49m\u001b[43mstorage_options\u001b[49m\u001b[38;5;241;43m=\u001b[39;49m\u001b[43mstorage_options\u001b[49m\u001b[43m,\u001b[49m\u001b[43m \u001b[49m\u001b[43mengine\u001b[49m\u001b[38;5;241;43m=\u001b[39;49m\u001b[43mengine\u001b[49m\u001b[43m)\u001b[49m\n\u001b[0;32m    484\u001b[0m \u001b[38;5;28;01melif\u001b[39;00m engine \u001b[38;5;129;01mand\u001b[39;00m engine \u001b[38;5;241m!=\u001b[39m io\u001b[38;5;241m.\u001b[39mengine:\n\u001b[0;32m    485\u001b[0m     \u001b[38;5;28;01mraise\u001b[39;00m \u001b[38;5;167;01mValueError\u001b[39;00m(\n\u001b[0;32m    486\u001b[0m         \u001b[38;5;124m\"\u001b[39m\u001b[38;5;124mEngine should not be specified when passing \u001b[39m\u001b[38;5;124m\"\u001b[39m\n\u001b[0;32m    487\u001b[0m         \u001b[38;5;124m\"\u001b[39m\u001b[38;5;124man ExcelFile - ExcelFile already has the engine set\u001b[39m\u001b[38;5;124m\"\u001b[39m\n\u001b[0;32m    488\u001b[0m     )\n",
      "File \u001b[1;32m~\\anaconda3\\lib\\site-packages\\pandas\\io\\excel\\_base.py:1629\u001b[0m, in \u001b[0;36mExcelFile.__init__\u001b[1;34m(self, path_or_buffer, engine, storage_options)\u001b[0m\n\u001b[0;32m   1627\u001b[0m     ext \u001b[38;5;241m=\u001b[39m \u001b[38;5;124m\"\u001b[39m\u001b[38;5;124mxls\u001b[39m\u001b[38;5;124m\"\u001b[39m\n\u001b[0;32m   1628\u001b[0m \u001b[38;5;28;01melse\u001b[39;00m:\n\u001b[1;32m-> 1629\u001b[0m     ext \u001b[38;5;241m=\u001b[39m \u001b[43minspect_excel_format\u001b[49m\u001b[43m(\u001b[49m\n\u001b[0;32m   1630\u001b[0m \u001b[43m        \u001b[49m\u001b[43mcontent_or_path\u001b[49m\u001b[38;5;241;43m=\u001b[39;49m\u001b[43mpath_or_buffer\u001b[49m\u001b[43m,\u001b[49m\u001b[43m \u001b[49m\u001b[43mstorage_options\u001b[49m\u001b[38;5;241;43m=\u001b[39;49m\u001b[43mstorage_options\u001b[49m\n\u001b[0;32m   1631\u001b[0m \u001b[43m    \u001b[49m\u001b[43m)\u001b[49m\n\u001b[0;32m   1632\u001b[0m     \u001b[38;5;28;01mif\u001b[39;00m ext \u001b[38;5;129;01mis\u001b[39;00m \u001b[38;5;28;01mNone\u001b[39;00m:\n\u001b[0;32m   1633\u001b[0m         \u001b[38;5;28;01mraise\u001b[39;00m \u001b[38;5;167;01mValueError\u001b[39;00m(\n\u001b[0;32m   1634\u001b[0m             \u001b[38;5;124m\"\u001b[39m\u001b[38;5;124mExcel file format cannot be determined, you must specify \u001b[39m\u001b[38;5;124m\"\u001b[39m\n\u001b[0;32m   1635\u001b[0m             \u001b[38;5;124m\"\u001b[39m\u001b[38;5;124man engine manually.\u001b[39m\u001b[38;5;124m\"\u001b[39m\n\u001b[0;32m   1636\u001b[0m         )\n",
      "File \u001b[1;32m~\\anaconda3\\lib\\site-packages\\pandas\\io\\excel\\_base.py:1502\u001b[0m, in \u001b[0;36minspect_excel_format\u001b[1;34m(content_or_path, storage_options)\u001b[0m\n\u001b[0;32m   1499\u001b[0m \u001b[38;5;28;01mif\u001b[39;00m \u001b[38;5;28misinstance\u001b[39m(content_or_path, \u001b[38;5;28mbytes\u001b[39m):\n\u001b[0;32m   1500\u001b[0m     content_or_path \u001b[38;5;241m=\u001b[39m BytesIO(content_or_path)\n\u001b[1;32m-> 1502\u001b[0m \u001b[38;5;28;01mwith\u001b[39;00m \u001b[43mget_handle\u001b[49m\u001b[43m(\u001b[49m\n\u001b[0;32m   1503\u001b[0m \u001b[43m    \u001b[49m\u001b[43mcontent_or_path\u001b[49m\u001b[43m,\u001b[49m\u001b[43m \u001b[49m\u001b[38;5;124;43m\"\u001b[39;49m\u001b[38;5;124;43mrb\u001b[39;49m\u001b[38;5;124;43m\"\u001b[39;49m\u001b[43m,\u001b[49m\u001b[43m \u001b[49m\u001b[43mstorage_options\u001b[49m\u001b[38;5;241;43m=\u001b[39;49m\u001b[43mstorage_options\u001b[49m\u001b[43m,\u001b[49m\u001b[43m \u001b[49m\u001b[43mis_text\u001b[49m\u001b[38;5;241;43m=\u001b[39;49m\u001b[38;5;28;43;01mFalse\u001b[39;49;00m\n\u001b[0;32m   1504\u001b[0m \u001b[43m\u001b[49m\u001b[43m)\u001b[49m \u001b[38;5;28;01mas\u001b[39;00m handle:\n\u001b[0;32m   1505\u001b[0m     stream \u001b[38;5;241m=\u001b[39m handle\u001b[38;5;241m.\u001b[39mhandle\n\u001b[0;32m   1506\u001b[0m     stream\u001b[38;5;241m.\u001b[39mseek(\u001b[38;5;241m0\u001b[39m)\n",
      "File \u001b[1;32m~\\anaconda3\\lib\\site-packages\\pandas\\io\\common.py:866\u001b[0m, in \u001b[0;36mget_handle\u001b[1;34m(path_or_buf, mode, encoding, compression, memory_map, is_text, errors, storage_options)\u001b[0m\n\u001b[0;32m    857\u001b[0m         handle \u001b[38;5;241m=\u001b[39m \u001b[38;5;28mopen\u001b[39m(\n\u001b[0;32m    858\u001b[0m             handle,\n\u001b[0;32m    859\u001b[0m             ioargs\u001b[38;5;241m.\u001b[39mmode,\n\u001b[1;32m   (...)\u001b[0m\n\u001b[0;32m    862\u001b[0m             newline\u001b[38;5;241m=\u001b[39m\u001b[38;5;124m\"\u001b[39m\u001b[38;5;124m\"\u001b[39m,\n\u001b[0;32m    863\u001b[0m         )\n\u001b[0;32m    864\u001b[0m     \u001b[38;5;28;01melse\u001b[39;00m:\n\u001b[0;32m    865\u001b[0m         \u001b[38;5;66;03m# Binary mode\u001b[39;00m\n\u001b[1;32m--> 866\u001b[0m         handle \u001b[38;5;241m=\u001b[39m \u001b[38;5;28;43mopen\u001b[39;49m\u001b[43m(\u001b[49m\u001b[43mhandle\u001b[49m\u001b[43m,\u001b[49m\u001b[43m \u001b[49m\u001b[43mioargs\u001b[49m\u001b[38;5;241;43m.\u001b[39;49m\u001b[43mmode\u001b[49m\u001b[43m)\u001b[49m\n\u001b[0;32m    867\u001b[0m     handles\u001b[38;5;241m.\u001b[39mappend(handle)\n\u001b[0;32m    869\u001b[0m \u001b[38;5;66;03m# Convert BytesIO or file objects passed with an encoding\u001b[39;00m\n",
      "\u001b[1;31mFileNotFoundError\u001b[0m: [Errno 2] No such file or directory: 'C:\\\\Users\\\\VAIO\\\\final_framework\\\\calls_data_20220802_today.xlsx'"
     ]
    }
   ],
   "source": [
    "%%time\n",
    "calls_data_reading = pd.read_excel(calls_data_path)\n",
    "calls_data_reading.shape[0]"
   ]
  },
  {
   "cell_type": "code",
   "execution_count": 8,
   "id": "9f1a80bc",
   "metadata": {},
   "outputs": [
    {
     "ename": "NameError",
     "evalue": "name 'calls_data_reading' is not defined",
     "output_type": "error",
     "traceback": [
      "\u001b[1;31m---------------------------------------------------------------------------\u001b[0m",
      "\u001b[1;31mNameError\u001b[0m                                 Traceback (most recent call last)",
      "Input \u001b[1;32mIn [8]\u001b[0m, in \u001b[0;36m<cell line: 1>\u001b[1;34m()\u001b[0m\n\u001b[1;32m----> 1\u001b[0m calls_data_reading \u001b[38;5;241m=\u001b[39m \u001b[43mcalls_data_reading\u001b[49m\u001b[38;5;241m.\u001b[39mrename(columns\u001b[38;5;241m=\u001b[39mcolumn_names)\n",
      "\u001b[1;31mNameError\u001b[0m: name 'calls_data_reading' is not defined"
     ]
    }
   ],
   "source": [
    "calls_data_reading = calls_data_reading.rename(columns=column_names)"
   ]
  },
  {
   "cell_type": "code",
   "execution_count": null,
   "id": "dfffadd4",
   "metadata": {},
   "outputs": [],
   "source": [
    "%%time\n",
    "calls_data_reading['emiasid'] = calls_data_reading['emiasid'].astype(str).str.replace('\\.0', '')\n",
    "calls_data_reading['call_date'] = calls_data_reading['call_date'].apply(lambda x: pd.to_datetime(x, dayfirst=True,\n",
    "                                                                                                 errors='coerce').date())\n",
    "calls_data_reading['next_call_date'] = \\\n",
    "calls_data_reading['next_call_date'].apply(lambda x: pd.to_datetime(x, dayfirst=True, errors='coerce').date())"
   ]
  },
  {
   "cell_type": "code",
   "execution_count": null,
   "id": "b6a91edd",
   "metadata": {},
   "outputs": [],
   "source": [
    "calls_data_reading.call_date.unique()[-1]"
   ]
  },
  {
   "cell_type": "code",
   "execution_count": null,
   "id": "d4642f21",
   "metadata": {},
   "outputs": [],
   "source": []
  },
  {
   "cell_type": "code",
   "execution_count": null,
   "id": "c3f1bc09",
   "metadata": {},
   "outputs": [],
   "source": [
    "august_for_september = pd.read_excel('all_august_to_september_emiasid.xlsx')\n",
    "august_for_september['emiasid'] = august_for_september['emiasid'].astype(str).str.replace('\\.0', '')"
   ]
  },
  {
   "cell_type": "code",
   "execution_count": null,
   "id": "3e3b0c35",
   "metadata": {},
   "outputs": [],
   "source": [
    "monthes = {'august', 'september'}"
   ]
  },
  {
   "cell_type": "code",
   "execution_count": null,
   "id": "63bf033c",
   "metadata": {},
   "outputs": [],
   "source": [
    "%%time\n",
    "for month in monthes:\n",
    "    \n",
    "    \n",
    "    if 'september' in month:\n",
    "        calls_data = calls_data_reading[calls_data_reading.call_date >= dt.date(2022, 9, 2)].reset_index(drop=True).copy()\n",
    "    else:\n",
    "        calls_data = calls_data_reading.copy()\n",
    "        \n",
    "    \n",
    "    emiasid_touches = \\\n",
    "    calls_data.groupby('emiasid').agg({'call_date': 'count'}).rename(columns={'call_date': 'calls_amount'}).reset_index()\n",
    "    \n",
    "    last_calls_data = \\\n",
    "    calls_data.sort_values(by='call_date').drop_duplicates(subset=['emiasid'], keep='last').reset_index(drop=True)\n",
    "    \n",
    "    last_calls_data = last_calls_data[['emiasid', 'call_date', 'next_call_date', 'call_result', 'talk_result']]\n",
    "    \n",
    "    last_calls_data = last_calls_data.rename(\n",
    "        columns={'call_date': 'last_call_date', 'call_result': 'last_call_result',\n",
    "                'talk_result': 'last_talk_result'})\n",
    "    \n",
    "    last_comments = \\\n",
    "    calls_data[~calls_data.call_result.isin({'Нет ответа', 'Не дозвонились', 'Занято', 'Сброс'})][\n",
    "        ['emiasid', 'comment', 'call_date']].sort_values(by='call_date') \\\n",
    "    .drop_duplicates(subset=['emiasid'], keep='last').reset_index(drop=True)[['emiasid', 'comment']] \\\n",
    "    .rename(columns={'comment': 'old_comment'})\n",
    "    \n",
    "    \n",
    "    \n",
    "    last_calls_data['emiasid'] = last_calls_data['emiasid'].astype(str).str.replace('\\.0', '')\n",
    "    last_calls_data['last_call_date'] = last_calls_data['last_call_date'].apply(lambda x: pd.to_datetime(x, dayfirst=True).date())\n",
    "    last_calls_data['next_call_date'] = \\\n",
    "    last_calls_data['next_call_date'].apply(lambda x: pd.to_datetime(x, dayfirst=True).date())\n",
    "    \n",
    "    \n",
    "    patients_current_statuses_reading = pd.read_excel(\n",
    "        os.path.join(patients_current_statuses_path, rf'{month}_patients_current_statuses_{today_y_m_d}.xlsx'),\n",
    "        usecols=['emiasid', 'status', 'doctor_fio', 'mo']\n",
    "     )\n",
    "    \n",
    "    \n",
    "    patients_current_statuses = patients_current_statuses_reading.rename(columns=column_names).copy()\n",
    "    \n",
    "    patients_current_statuses['emiasid'] = patients_current_statuses['emiasid'].astype(str).str.replace('\\.0', '')\n",
    "#     patients_current_statuses['phone_number'] = patients_current_statuses['phone_number'] \\\n",
    "#     .apply(lambda x: str(x).replace('.0', '') if not pd.isna(x) else x)\n",
    "    \n",
    "    \n",
    "    patients_current_statuses_merged = patients_current_statuses.merge(emiasid_touches, on=['emiasid'], how='left')\n",
    "    patients_current_statuses_merged.calls_amount = patients_current_statuses_merged.calls_amount.fillna(0)\n",
    "    patients_current_statuses_merged = patients_current_statuses_merged.merge(last_calls_data, on=['emiasid'], how='left')\n",
    "    patients_current_statuses_merged = patients_current_statuses_merged.merge(last_comments, on=['emiasid'], how='left')\n",
    "    \n",
    "#     if 'september' in month:\n",
    "#         september_patients_current_statuses_merged = patients_current_statuses_merged.copy()\n",
    "#     elif 'august' in month:\n",
    "#         august_patients_current_statuses_merged = patients_current_statuses_merged.copy()\n",
    "    \n",
    "    \n",
    "    if 'august' in month:\n",
    "        patients_current_statuses_merged = patients_current_statuses_merged[patients_current_statuses_merged.emiasid.isin(\n",
    "        august_for_september.emiasid)]\n",
    "    \n",
    "    patients_current_statuses_merged['month'] = month\n",
    "    \n",
    "    patients_current_statuses_merged = patients_current_statuses_merged[[\n",
    "        'emiasid', 'status', 'old_comment', 'next_call_date', \n",
    "        'mo', 'doctor_fio', \n",
    "        'calls_amount', 'last_call_date',  'last_call_result', 'last_talk_result',  \n",
    "        'month'        \n",
    "    ]]\n",
    "    \n",
    "\n",
    "    \n",
    "    patients_current_statuses_merged.to_excel(\n",
    "        os.path.join('C:\\\\', 'Users', 'murad_satabaev', 'Documents', 'GitHub',\n",
    "        'final_framework', 'merged_statuses', \n",
    "                     f'{month}_patients_current_statuses_with_calls_info_{today_y_m_d}.xlsx'), index=False)"
   ]
  },
  {
   "cell_type": "code",
   "execution_count": null,
   "id": "c64f9480",
   "metadata": {},
   "outputs": [],
   "source": []
  }
 ],
 "metadata": {
  "kernelspec": {
   "display_name": "Python 3 (ipykernel)",
   "language": "python",
   "name": "python3"
  },
  "language_info": {
   "codemirror_mode": {
    "name": "ipython",
    "version": 3
   },
   "file_extension": ".py",
   "mimetype": "text/x-python",
   "name": "python",
   "nbconvert_exporter": "python",
   "pygments_lexer": "ipython3",
   "version": "3.9.12"
  }
 },
 "nbformat": 4,
 "nbformat_minor": 5
}
