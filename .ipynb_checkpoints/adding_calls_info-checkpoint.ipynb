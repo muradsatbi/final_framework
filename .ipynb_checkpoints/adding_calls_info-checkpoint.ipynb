{
 "cells": [
  {
   "cell_type": "code",
   "execution_count": 1,
   "id": "ffd41bc3",
   "metadata": {},
   "outputs": [],
   "source": [
    "import os\n",
    "import pandas as pd\n",
    "import datetime as dt\n",
    "import numpy as np\n",
    "import re"
   ]
  },
  {
   "cell_type": "code",
   "execution_count": 2,
   "id": "3678b95e",
   "metadata": {},
   "outputs": [
    {
     "name": "stdout",
     "output_type": "stream",
     "text": [
      "2022_09_21\n"
     ]
    }
   ],
   "source": [
    "today = pd.Timestamp(dt.datetime.today().date())\n",
    "today_ymd = today.strftime('%Y%m%d')\n",
    "today_y_m_d = today.strftime('%Y_%m_%d')\n",
    "\n",
    "yesterday = today - dt.timedelta(days=1)\n",
    "yesterday_ymd = yesterday.strftime('%Y%m%d')\n",
    "yesterday_y_m_d = yesterday.strftime('%Y-%m-%d')\n",
    "\n",
    "tomorrow = today + dt.timedelta(days=1)\n",
    "tomorrow_ymd = tomorrow.strftime('%Y%m%d')\n",
    "tomorrow_y_m_d = tomorrow.strftime('%Y-%m-%d')\n",
    "\n",
    "print(today_y_m_d)"
   ]
  },
  {
   "cell_type": "code",
   "execution_count": 3,
   "id": "bbe9a34f",
   "metadata": {},
   "outputs": [],
   "source": [
    "column_names = {'Emiasid': 'emiasid', 'Emiasid ': 'emiasid' , 'emiasid ': 'emiasid', 'EMIAS_ID': 'emiasid', 'МО': 'mo', \n",
    "                'МУ': 'mu', 'Логин оператора': 'operator_login', 'Дата и время звонка': 'call_date', \n",
    "                'Результат звонка': 'call_result', 'Результат звонка ': 'call_result', 'Разговор состоялся': 'talk_result', \n",
    "                'Комменатрий': 'comment', 'Дата и время переноса': 'next_call_date', 'Контактный телефон': 'phone_number', \n",
    "                'ФИО врача': 'doctor_fio', 'ФИО помощника врача': 'assistant_fio', 'Логин помощника врача': 'operator_login',\n",
    "                'Зал №': 'hall_number', 'Логин naumen': 'operator_login', 'МО закрепления': 'mo', \n",
    "                'Отсутствует на рабочем месте': 'absence', 'login': 'operator_login', 'procedure_rec_status': 'group_procedure',\n",
    "                'patient_group': 'group_name'}"
   ]
  },
  {
   "cell_type": "code",
   "execution_count": 4,
   "id": "501cb151",
   "metadata": {},
   "outputs": [],
   "source": [
    "# путь папки с данными по звонкам\n",
    "calls_data_path = r'\\Users\\murad_satabaev\\Documents\\GitHub\\final_framework'\n",
    "calls_data_path = calls_data_path.split('\\\\')\n",
    "calls_data_path = os.path.join('C:\\\\', r'\\\\', *calls_data_path)\n",
    "calls_data_path = os.path.join(calls_data_path, 'calls_data_20220802_today.xlsx')"
   ]
  },
  {
   "cell_type": "code",
   "execution_count": 5,
   "id": "aa095ae2",
   "metadata": {},
   "outputs": [
    {
     "name": "stdout",
     "output_type": "stream",
     "text": [
      "C:\\\\Users\\murad_satabaev\\Documents\\GitHub\\final_framework\\current_statuses_path\n"
     ]
    }
   ],
   "source": [
    "# путь файла с текущими статусами пациентов\n",
    "patients_current_statuses_path = r'Users\\murad_satabaev\\Documents\\GitHub\\final_framework\\current_statuses_path'\n",
    "patients_current_statuses_path = patients_current_statuses_path.split('\\\\')\n",
    "patients_current_statuses_path = os.path.join('C:\\\\', r'\\\\', *patients_current_statuses_path)\n",
    "print(patients_current_statuses_path)"
   ]
  },
  {
   "cell_type": "code",
   "execution_count": 6,
   "id": "0adc7a92",
   "metadata": {},
   "outputs": [],
   "source": [
    "def find_phone_number(text):\n",
    "    \"\"\"Функция ищет номера телефонов в строке, фильтрует дефектные и возвращает один с приоритетом на мобильный\"\"\"\n",
    "    import re\n",
    "    defect_pattern = re.compile(r\"\"\"7[^94]\\d{9}|0{7,}|1{7,}|2{7,}|3{7,}|4{7,}|5{7,}|6{7,}|7{7,}|8{7,}|9{7,}\"\"\")\n",
    "    text = str(text)\n",
    "    text = ['7' + re.sub(r'\\D', '', x)[-10:] for x in re.split(r'[,;]', text)]\n",
    "    text = list(filter(lambda x: len(x) == 11, text))\n",
    "    text = list(filter(lambda x: False if re.search(defect_pattern, x) else True, text))\n",
    "    text = sorted(text, reverse=True)\n",
    "    text = ','.join(text)\n",
    "    text = re.search(r'(9\\d{9}|4\\d{9})', text)\n",
    "    if text:\n",
    "        text = text.group()\n",
    "    return text"
   ]
  },
  {
   "cell_type": "code",
   "execution_count": null,
   "id": "8d361945",
   "metadata": {},
   "outputs": [],
   "source": []
  },
  {
   "cell_type": "code",
   "execution_count": 7,
   "id": "8edfeadd",
   "metadata": {},
   "outputs": [
    {
     "name": "stdout",
     "output_type": "stream",
     "text": [
      "CPU times: total: 1min 51s\n",
      "Wall time: 1min 51s\n"
     ]
    },
    {
     "data": {
      "text/plain": [
       "334188"
      ]
     },
     "execution_count": 7,
     "metadata": {},
     "output_type": "execute_result"
    }
   ],
   "source": [
    "%%time\n",
    "calls_data_reading = pd.read_excel(calls_data_path)\n",
    "calls_data_reading.shape[0]"
   ]
  },
  {
   "cell_type": "code",
   "execution_count": 8,
   "id": "9f1a80bc",
   "metadata": {},
   "outputs": [],
   "source": [
    "calls_data_reading = calls_data_reading.rename(columns=column_names)"
   ]
  },
  {
   "cell_type": "code",
   "execution_count": 9,
   "id": "dfffadd4",
   "metadata": {},
   "outputs": [
    {
     "name": "stderr",
     "output_type": "stream",
     "text": [
      "<timed exec>:1: FutureWarning: The default value of regex will change from True to False in a future version.\n"
     ]
    },
    {
     "name": "stdout",
     "output_type": "stream",
     "text": [
      "CPU times: total: 1min 43s\n",
      "Wall time: 1min 43s\n"
     ]
    }
   ],
   "source": [
    "%%time\n",
    "calls_data_reading['emiasid'] = calls_data_reading['emiasid'].astype(str).str.replace('\\.0', '')\n",
    "calls_data_reading['call_date'] = calls_data_reading['call_date'].apply(lambda x: pd.to_datetime(x, dayfirst=True,\n",
    "                                                                                                 errors='coerce').date())\n",
    "calls_data_reading['next_call_date'] = \\\n",
    "calls_data_reading['next_call_date'].apply(lambda x: pd.to_datetime(x, dayfirst=True, errors='coerce').date())"
   ]
  },
  {
   "cell_type": "code",
   "execution_count": 10,
   "id": "b6a91edd",
   "metadata": {},
   "outputs": [
    {
     "data": {
      "text/plain": [
       "datetime.date(2022, 9, 19)"
      ]
     },
     "execution_count": 10,
     "metadata": {},
     "output_type": "execute_result"
    }
   ],
   "source": [
    "calls_data_reading.call_date.unique()[-1]"
   ]
  },
  {
   "cell_type": "code",
   "execution_count": null,
   "id": "d4642f21",
   "metadata": {},
   "outputs": [],
   "source": []
  },
  {
   "cell_type": "code",
   "execution_count": 11,
   "id": "c3f1bc09",
   "metadata": {},
   "outputs": [
    {
     "name": "stderr",
     "output_type": "stream",
     "text": [
      "C:\\Users\\murad_satabaev\\AppData\\Local\\Temp\\ipykernel_1076\\3882302525.py:2: FutureWarning: The default value of regex will change from True to False in a future version.\n",
      "  august_for_september['emiasid'] = august_for_september['emiasid'].astype(str).str.replace('\\.0', '')\n"
     ]
    }
   ],
   "source": [
    "august_for_september = pd.read_excel('all_august_to_september_emiasid.xlsx')\n",
    "august_for_september['emiasid'] = august_for_september['emiasid'].astype(str).str.replace('\\.0', '')"
   ]
  },
  {
   "cell_type": "code",
   "execution_count": 12,
   "id": "3e3b0c35",
   "metadata": {},
   "outputs": [],
   "source": [
    "monthes = {'august', 'september'}"
   ]
  },
  {
   "cell_type": "code",
   "execution_count": 13,
   "id": "63bf033c",
   "metadata": {},
   "outputs": [
    {
     "name": "stderr",
     "output_type": "stream",
     "text": [
      "<timed exec>:30: FutureWarning: The default value of regex will change from True to False in a future version.\n",
      "<timed exec>:44: FutureWarning: The default value of regex will change from True to False in a future version.\n",
      "<timed exec>:30: FutureWarning: The default value of regex will change from True to False in a future version.\n",
      "<timed exec>:44: FutureWarning: The default value of regex will change from True to False in a future version.\n"
     ]
    },
    {
     "name": "stdout",
     "output_type": "stream",
     "text": [
      "CPU times: total: 1min 13s\n",
      "Wall time: 1min 13s\n"
     ]
    }
   ],
   "source": [
    "%%time\n",
    "for month in monthes:\n",
    "    \n",
    "    \n",
    "    if 'september' in month:\n",
    "        calls_data = calls_data_reading[calls_data_reading.call_date >= dt.date(2022, 9, 2)].reset_index(drop=True).copy()\n",
    "    else:\n",
    "        calls_data = calls_data_reading.copy()\n",
    "        \n",
    "    \n",
    "    emiasid_touches = \\\n",
    "    calls_data.groupby('emiasid').agg({'call_date': 'count'}).rename(columns={'call_date': 'calls_amount'}).reset_index()\n",
    "    \n",
    "    last_calls_data = \\\n",
    "    calls_data.sort_values(by='call_date').drop_duplicates(subset=['emiasid'], keep='last').reset_index(drop=True)\n",
    "    \n",
    "    last_calls_data = last_calls_data[['emiasid', 'call_date', 'next_call_date', 'call_result', 'talk_result']]\n",
    "    \n",
    "    last_calls_data = last_calls_data.rename(\n",
    "        columns={'call_date': 'last_call_date', 'call_result': 'last_call_result',\n",
    "                'talk_result': 'last_talk_result'})\n",
    "    \n",
    "    last_comments = \\\n",
    "    calls_data[~calls_data.call_result.isin({'Нет ответа', 'Не дозвонились', 'Занято', 'Сброс'})][\n",
    "        ['emiasid', 'comment', 'call_date']].sort_values(by='call_date') \\\n",
    "    .drop_duplicates(subset=['emiasid'], keep='last').reset_index(drop=True)[['emiasid', 'comment']] \\\n",
    "    .rename(columns={'comment': 'old_comment'})\n",
    "    \n",
    "    \n",
    "    \n",
    "    last_calls_data['emiasid'] = last_calls_data['emiasid'].astype(str).str.replace('\\.0', '')\n",
    "    last_calls_data['last_call_date'] = last_calls_data['last_call_date'].apply(lambda x: pd.to_datetime(x, dayfirst=True).date())\n",
    "    last_calls_data['next_call_date'] = \\\n",
    "    last_calls_data['next_call_date'].apply(lambda x: pd.to_datetime(x, dayfirst=True).date())\n",
    "    \n",
    "    \n",
    "    patients_current_statuses_reading = pd.read_excel(\n",
    "        os.path.join(patients_current_statuses_path, rf'{month}_patients_current_statuses_{today_y_m_d}.xlsx'),\n",
    "        usecols=['emiasid', 'status', 'doctor_fio', 'mo']\n",
    "     )\n",
    "    \n",
    "    \n",
    "    patients_current_statuses = patients_current_statuses_reading.rename(columns=column_names).copy()\n",
    "    \n",
    "    patients_current_statuses['emiasid'] = patients_current_statuses['emiasid'].astype(str).str.replace('\\.0', '')\n",
    "#     patients_current_statuses['phone_number'] = patients_current_statuses['phone_number'] \\\n",
    "#     .apply(lambda x: str(x).replace('.0', '') if not pd.isna(x) else x)\n",
    "    \n",
    "    \n",
    "    patients_current_statuses_merged = patients_current_statuses.merge(emiasid_touches, on=['emiasid'], how='left')\n",
    "    patients_current_statuses_merged.calls_amount = patients_current_statuses_merged.calls_amount.fillna(0)\n",
    "    patients_current_statuses_merged = patients_current_statuses_merged.merge(last_calls_data, on=['emiasid'], how='left')\n",
    "    patients_current_statuses_merged = patients_current_statuses_merged.merge(last_comments, on=['emiasid'], how='left')\n",
    "    \n",
    "#     if 'september' in month:\n",
    "#         september_patients_current_statuses_merged = patients_current_statuses_merged.copy()\n",
    "#     elif 'august' in month:\n",
    "#         august_patients_current_statuses_merged = patients_current_statuses_merged.copy()\n",
    "    \n",
    "    \n",
    "    if 'august' in month:\n",
    "        patients_current_statuses_merged = patients_current_statuses_merged[patients_current_statuses_merged.emiasid.isin(\n",
    "        august_for_september.emiasid)]\n",
    "    \n",
    "    patients_current_statuses_merged['month'] = month\n",
    "    \n",
    "    patients_current_statuses_merged = patients_current_statuses_merged[[\n",
    "        'emiasid', 'status', 'old_comment', 'next_call_date', \n",
    "        'mo', 'doctor_fio', \n",
    "        'calls_amount', 'last_call_date',  'last_call_result', 'last_talk_result',  \n",
    "        'month'        \n",
    "    ]]\n",
    "    \n",
    "\n",
    "    \n",
    "    patients_current_statuses_merged.to_excel(\n",
    "        os.path.join('C:\\\\', 'Users', 'murad_satabaev', 'Documents', 'GitHub',\n",
    "        'final_framework', 'merged_statuses', \n",
    "                     f'{month}_patients_current_statuses_with_calls_info_{today_y_m_d}.xlsx'), index=False)"
   ]
  },
  {
   "cell_type": "code",
   "execution_count": null,
   "id": "c64f9480",
   "metadata": {},
   "outputs": [],
   "source": []
  }
 ],
 "metadata": {
  "kernelspec": {
   "display_name": "Python 3 (ipykernel)",
   "language": "python",
   "name": "python3"
  },
  "language_info": {
   "codemirror_mode": {
    "name": "ipython",
    "version": 3
   },
   "file_extension": ".py",
   "mimetype": "text/x-python",
   "name": "python",
   "nbconvert_exporter": "python",
   "pygments_lexer": "ipython3",
   "version": "3.10.4"
  }
 },
 "nbformat": 4,
 "nbformat_minor": 5
}
