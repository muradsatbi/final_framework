{
 "cells": [
  {
   "cell_type": "code",
   "execution_count": 1,
   "id": "4c2e4f4d",
   "metadata": {},
   "outputs": [],
   "source": [
    "# код для того, чтобы получить доступ к папке с модулями ПДН, да и в принципе в любую папку по пути\n",
    "# в принципе можно бы прописать функцией для импорта, чтобы передавать этой функции просто путь модулей(корневую папку)"
   ]
  },
  {
   "cell_type": "code",
   "execution_count": 2,
   "id": "1b538a4e",
   "metadata": {},
   "outputs": [],
   "source": [
    "import sys\n",
    "path_to_pdn = r\"C:\\Users\\murad_satabaev\\Documents\\GitHub\\pdn_\" # сюда внутри кавычек вставляем путь, где ледит репозиторий пдн\n",
    "sys.path.insert(0, path_to_pdn)"
   ]
  },
  {
   "cell_type": "code",
   "execution_count": 3,
   "id": "2e6f0b40",
   "metadata": {},
   "outputs": [
    {
     "ename": "NameError",
     "evalue": "name 'pd' is not defined",
     "output_type": "error",
     "traceback": [
      "\u001b[1;31m---------------------------------------------------------------------------\u001b[0m",
      "\u001b[1;31mNameError\u001b[0m                                 Traceback (most recent call last)",
      "Input \u001b[1;32mIn [3]\u001b[0m, in \u001b[0;36m<cell line: 1>\u001b[1;34m()\u001b[0m\n\u001b[1;32m----> 1\u001b[0m \u001b[38;5;28;01mdef\u001b[39;00m \u001b[38;5;21minsert_values_from_data_to_ecxel_pattern\u001b[39m(path_to_pattern: \u001b[38;5;28mstr\u001b[39m, df: \u001b[43mpd\u001b[49m\u001b[38;5;241m.\u001b[39mDataFrame, path_to_save, sheet_name: \u001b[38;5;28mstr\u001b[39m\u001b[38;5;241m=\u001b[39m\u001b[38;5;124m'\u001b[39m\u001b[38;5;124mЛист1\u001b[39m\u001b[38;5;124m'\u001b[39m,\n\u001b[0;32m      2\u001b[0m                                              start_column: \u001b[38;5;28mint\u001b[39m\u001b[38;5;241m=\u001b[39m\u001b[38;5;241m1\u001b[39m, start_row: \u001b[38;5;28mint\u001b[39m\u001b[38;5;241m=\u001b[39m\u001b[38;5;241m1\u001b[39m):\n\u001b[0;32m      3\u001b[0m     \u001b[38;5;124;03m\"\"\"\u001b[39;00m\n\u001b[0;32m      4\u001b[0m \u001b[38;5;124;03m    Функция вставляет значения датафрэйма в шаблон xlsx-файла, не меняя при этом формат ячеек и колонок,\u001b[39;00m\n\u001b[0;32m      5\u001b[0m \u001b[38;5;124;03m    \"\"\"\u001b[39;00m\n\u001b[0;32m      6\u001b[0m     \u001b[38;5;28;01mfrom\u001b[39;00m \u001b[38;5;21;01mopenpyxl\u001b[39;00m\u001b[38;5;21;01m.\u001b[39;00m\u001b[38;5;21;01mutils\u001b[39;00m\u001b[38;5;21;01m.\u001b[39;00m\u001b[38;5;21;01mdataframe\u001b[39;00m \u001b[38;5;28;01mimport\u001b[39;00m dataframe_to_rows\n",
      "\u001b[1;31mNameError\u001b[0m: name 'pd' is not defined"
     ]
    }
   ],
   "source": [
    "def insert_values_from_data_to_ecxel_pattern(path_to_pattern: str, df: pd.DataFrame, path_to_save, sheet_name: str='Лист1',\n",
    "                                             start_column: int=1, start_row: int=1):\n",
    "    \"\"\"\n",
    "    Функция вставляет значения датафрэйма в шаблон xlsx-файла, не меняя при этом формат ячеек и колонок,\n",
    "    \"\"\"\n",
    "    from openpyxl.utils.dataframe import dataframe_to_rows\n",
    "    from openpyxl import load_workbook\n",
    "    workbook = load_workbook(path_to_pattern)\n",
    "    sheet_by_name = workbook[sheet_name]\n",
    "    rows = dataframe_to_rows(df, index=False, header=False)\n",
    "    for r_idx, row in enumerate(rows, start_row):\n",
    "        for c_idx, value in enumerate(row, start_column):\n",
    "             sheet_by_name.cell(row=r_idx, column=c_idx, value=value)\n",
    "    workbook.save(path_to_save)"
   ]
  },
  {
   "cell_type": "code",
   "execution_count": null,
   "id": "6db078e5",
   "metadata": {},
   "outputs": [],
   "source": [
    "def delete_rows(path_to_pattern: str, path_to_save, sheet_name: str='Лист1',\n",
    "                                            start_row: int=1,  last_row: int=1):\n",
    "    \"\"\"\n",
    "    \n",
    "    \"\"\"\n",
    "    from openpyxl.utils.dataframe import dataframe_to_rows\n",
    "    from openpyxl import load_workbook\n",
    "    workbook = load_workbook(path_to_pattern)\n",
    "    sheet_by_name = workbook[sheet_name]\n",
    "    num_row = last_row - start_row + 1\n",
    "    sheet_by_name.delete_rows(start_row, num_row)\n",
    "    workbook.save(path_to_save)"
   ]
  },
  {
   "cell_type": "code",
   "execution_count": null,
   "id": "62fe9fdb",
   "metadata": {},
   "outputs": [],
   "source": [
    "def get_google_sheet_list_as_df(gs_url, sheet_num=0):\n",
    "    \"\"\"\n",
    "    Скачивает датафрэйм по номеру листа в Google Drive\n",
    "    !!! Важно !!!\n",
    "    Нужен доступ к скачиваемому файлу почте murad-464@murad-satbi-1st-pro.iam.gserviceaccount.com\n",
    "    \"\"\"\n",
    "    import os\n",
    "    import gspread\n",
    "    import gspread_dataframe as gd\n",
    "    from gspread_dataframe import get_as_dataframe\n",
    "    json_path = os.path.join(rf'\\\\t999', 'Сетевой диск', 'pdn', 'configs', 'google_sheets.json')\n",
    "    gc = gspread.service_account(filename=json_path)\n",
    "    sh = gc.open_by_url(gs_url)\n",
    "    ws = sh.get_worksheet(sheet_num)\n",
    "    df = gd.get_as_dataframe(ws)\n",
    "    return df"
   ]
  },
  {
   "cell_type": "code",
   "execution_count": null,
   "id": "069a01ad",
   "metadata": {},
   "outputs": [],
   "source": [
    "def assistants_present_and_absent_df(df, to_return: str='df'):    \n",
    "    \"\"\"\n",
    "    Принимает датафрэйм с помощниками врачами и их присутствием или отсуствием\n",
    "    Возвращает в зависимости от значения to_return:\n",
    "    'df' - весь датафрэйм\n",
    "    'absent' - список логинов пдн отсутствующих\n",
    "    'present' - количество помощников на смене\n",
    "    'total' - общее количество помощников\n",
    "    \"\"\"\n",
    "    df1 = df.iloc[3:100, :7]\n",
    "    df1 = df1.dropna(how='all')\n",
    "    df1 = df1.set_axis(range(7), 1).reset_index(drop=True).drop(columns=[0, 2])\n",
    "    df1 = df1.set_axis(['hall_number', 'full_name', 'login', 'mo', 'present'], 1)\n",
    "    rows_to_delete = set(df1[df1['hall_number'] == 'Зал №'].index)\n",
    "    df1 = df1.drop(rows_to_delete)\n",
    "    df1 = df1.fillna(0).reset_index(drop=True)\n",
    "    absent_pdn_list = set(df1[df1.present == 1].login)\n",
    "    present = df1[df1.present == 0].login.count()\n",
    "    total = len(absent_pdn_list) + present\n",
    "    returnables = dict()\n",
    "    returnables['df'] = df1\n",
    "    returnables['absent'] = absent_pdn_list\n",
    "    returnables['present'] = present\n",
    "    returnables['total'] = total\n",
    "    return returnables[to_return]"
   ]
  },
  {
   "cell_type": "code",
   "execution_count": null,
   "id": "8e95cf1e",
   "metadata": {},
   "outputs": [],
   "source": [
    "def assistants_distribution(df):\n",
    "    df1 = df.iloc[:, :6]\n",
    "    df1 = df1.dropna(how='all')\n",
    "    df1 = df1.rename(columns={\n",
    "    'Наименование МО':'mo_name',\n",
    "    'ФИО врача':'doc_name',\n",
    "    'Количество населения на ДН':'dn_population',\n",
    "    'группа':'group',\n",
    "    'ФИО помощника врача':'assistant_name',\n",
    "    'Логин помощника врача':'login'})\n",
    "    df1 = df1[~df1.login.isna()].reset_index(drop=True)\n",
    "    df1[['dn_population', 'group']] = df1[['dn_population', 'group']].astype(int)\n",
    "    return df1"
   ]
  }
 ],
 "metadata": {
  "kernelspec": {
   "display_name": "Python 3 (ipykernel)",
   "language": "python",
   "name": "python3"
  },
  "language_info": {
   "codemirror_mode": {
    "name": "ipython",
    "version": 3
   },
   "file_extension": ".py",
   "mimetype": "text/x-python",
   "name": "python",
   "nbconvert_exporter": "python",
   "pygments_lexer": "ipython3",
   "version": "3.10.4"
  }
 },
 "nbformat": 4,
 "nbformat_minor": 5
}
