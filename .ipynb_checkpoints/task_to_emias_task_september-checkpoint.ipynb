{
 "cells": [
  {
   "cell_type": "code",
   "execution_count": null,
   "id": "1d414745",
   "metadata": {},
   "outputs": [],
   "source": []
  },
  {
   "cell_type": "code",
   "execution_count": 1,
   "id": "3a8da64f",
   "metadata": {},
   "outputs": [],
   "source": [
    "import sys\n",
    "sys.path.append('..\\\\..\\\\')"
   ]
  },
  {
   "cell_type": "code",
   "execution_count": 2,
   "id": "e864f400",
   "metadata": {},
   "outputs": [
    {
     "ename": "NameError",
     "evalue": "name 'os' is not defined",
     "output_type": "error",
     "traceback": [
      "\u001b[1;31m---------------------------------------------------------------------------\u001b[0m",
      "\u001b[1;31mNameError\u001b[0m                                 Traceback (most recent call last)",
      "Input \u001b[1;32mIn [2]\u001b[0m, in \u001b[0;36m<cell line: 2>\u001b[1;34m()\u001b[0m\n\u001b[0;32m      1\u001b[0m \u001b[38;5;28;01mimport\u001b[39;00m \u001b[38;5;21;01msys\u001b[39;00m\n\u001b[1;32m----> 2\u001b[0m path_to_pdn \u001b[38;5;241m=\u001b[39m \u001b[43mos\u001b[49m\u001b[38;5;241m.\u001b[39mpath\u001b[38;5;241m.\u001b[39mjoin(Path\u001b[38;5;241m.\u001b[39mhome(), \u001b[38;5;124m'\u001b[39m\u001b[38;5;124mDocuments\u001b[39m\u001b[38;5;124m\\\u001b[39m\u001b[38;5;124mGitHub\u001b[39m\u001b[38;5;124m\\\u001b[39m\u001b[38;5;124mpdn___\u001b[39m\u001b[38;5;124m'\u001b[39m)\n\u001b[0;32m      3\u001b[0m \u001b[38;5;66;03m# сюда внутри кавычек вставляем путь, где ледит репозиторий пдн\u001b[39;00m\n\u001b[0;32m      4\u001b[0m sys\u001b[38;5;241m.\u001b[39mpath\u001b[38;5;241m.\u001b[39minsert(\u001b[38;5;241m0\u001b[39m, path_to_pdn)\n",
      "\u001b[1;31mNameError\u001b[0m: name 'os' is not defined"
     ]
    }
   ],
   "source": [
    "import sys\n",
    "path_to_pdn = os.path.join(Path.home(), 'Documents\\GitHub\\pdn___')\n",
    "# сюда внутри кавычек вставляем путь, где ледит репозиторий пдн\n",
    "sys.path.insert(0, path_to_pdn)"
   ]
  },
  {
   "cell_type": "code",
   "execution_count": null,
   "id": "39b53527",
   "metadata": {},
   "outputs": [],
   "source": [
    "import os\n",
    "import pandas as pd\n",
    "import numpy as np\n",
    "from datetime import timedelta\n",
    "from pdn.projects.emias_data import (\n",
    "    get_emias_data,\n",
    "    get_emias_data_july,\n",
    "    get_emias_id_and_task_num_and_uschedule_visit,\n",
    "    get_status_rec_rcp_procedure_and_doc,\n",
    "    get_uschedule_visit_attr\n",
    ")\n",
    "from pdn.projects.patients_data import get_status_patients\n",
    "from pdn.downloading_files import downloads_from_nextcloud\n",
    "from pdn.projects.calls_data import get_preprocess_calls_data, get_last_comment_calls\n",
    "from pdn.configs.paths import CALLS_SUBFOLDER_LOADS, TRASH_FOLDER, PATH_PROJECT\n",
    "from pdn.configs.columns import out_cols\n",
    "from pdn.reading.read_files import get_phone_specific_pats, get_group_name_df\n",
    "from pdn.data_preprocess.preprocess_emias_data import preprocess_phone_numbers\n",
    "from pdn.data_preprocess.data_attrs import add_cols_task_attrs, get_df_with_hospital_smp_attr\n",
    "from pdn.utils.writing import write_df_for_call_programm, save_file_if_not_exist\n",
    "from pdn.reading.read_files import get_stop_pdn_pats\n",
    "from pdn.utils.utils import get_filenames\n",
    "from pdn.reading.read_files import read_xlsx_files\n",
    "%load_ext autoreload\n",
    "%autoreload 2"
   ]
  },
  {
   "cell_type": "code",
   "execution_count": null,
   "id": "13adb8e5",
   "metadata": {},
   "outputs": [],
   "source": [
    "out_task_cur_all = pd.DataFrame()"
   ]
  },
  {
   "cell_type": "code",
   "execution_count": null,
   "id": "e3904f82",
   "metadata": {},
   "outputs": [],
   "source": [
    "cycle = 1"
   ]
  },
  {
   "cell_type": "code",
   "execution_count": null,
   "id": "6061c8ee",
   "metadata": {},
   "outputs": [],
   "source": [
    "cycle = 1\n",
    "date_now = pd.Timestamp.today()\n",
    "# - timedelta(days=1)\n",
    "if cycle in [1, 2]:\n",
    "        task_for_call = list(range(1, 34))\n",
    "else:\n",
    "    task_for_call = list(range(1, 13)) + list(range(14, 20)) + [22, 23, 24, 25]\n",
    "ther_exclude_dates_june = [str(val)[:10] for val in pd.date_range('2022-01-01', '2022-06-07')]\n",
    "ther_exclude_dates_july = [str(val)[:10] for val in pd.date_range('2022-01-01', '2022-07-04')]\n",
    "date_ymd = date_now.strftime('%Y%m%d')\n",
    "yesterday_date_ = date_now - timedelta(days=1)"
   ]
  },
  {
   "cell_type": "code",
   "execution_count": null,
   "id": "ca3e51c0",
   "metadata": {},
   "outputs": [],
   "source": [
    "month_prev = 'august'\n",
    "month_prev_for_emias = 3833\n",
    "month_cur = 'september'\n",
    "month_cur_for_emias = 4059\n",
    "month_income = 'income'\n",
    "month_income_for_emias = 1111"
   ]
  },
  {
   "cell_type": "code",
   "execution_count": null,
   "id": "3646b98e",
   "metadata": {},
   "outputs": [],
   "source": [
    "part = 1"
   ]
  },
  {
   "cell_type": "markdown",
   "id": "3803bd46",
   "metadata": {},
   "source": [
    "# Пациенты предыдущего месяца"
   ]
  },
  {
   "cell_type": "markdown",
   "id": "891e9b6e",
   "metadata": {},
   "source": [
    "patients_emias_prev = get_emias_data(date_now, drop_exclude_pats=False, month=month_prev_for_emias)\n",
    "patients_db_prev = get_status_patients(month_prev)\n",
    "patients_prev = patients_emias_prev.merge(\n",
    "    patients_db_prev[['emiasid', 'status', 'old_comment', 'next_call_date', 'operator_login']], \n",
    "    on='emiasid', \n",
    "    how='right'\n",
    ")\n",
    "for col in [\n",
    "    'kont_priyom_terapevt_zapis',\n",
    "    'kont_priyom_terapevt_sdel',\n",
    "    'kont_priyom_terapevt_sdel_hron_plan'\n",
    "]:\n",
    "    patients_emias_prev.loc[patients_emias_prev[col].isin(ther_exclude_dates_june), [col]] = np.nan\n",
    "attrs_emias_data = patients_prev.merge(\n",
    "    get_emias_id_and_task_num_and_uschedule_visit(\n",
    "        patients_prev,\n",
    "        date_now\n",
    "    ),\n",
    "    how='left'\n",
    ").merge(\n",
    "    get_status_rec_rcp_procedure_and_doc(# таблица с признаками \n",
    "        get_emias_data(date_now, drop_exclude_pats=True, preprocess_april=False, month=month_prev_for_emias),\n",
    "        date_now\n",
    "    ),\n",
    "    how='left'\n",
    ")\n",
    "attrs_emias_data.next_call_date = pd.to_datetime(attrs_emias_data.next_call_date, dayfirst=True).dt.strftime('%Y-%m-%d')\n",
    "\n",
    "out = attrs_emias_data.merge(\n",
    "    get_group_name_df(),\n",
    "    how='left',\n",
    "    on=['group'])\n",
    "\n",
    "preprocess_phone_numbers(out)\n",
    "\n",
    "out.birth_date = pd.to_datetime(out.birth_date, dayfirst=True).dt.strftime('%Y-%m-%d')"
   ]
  },
  {
   "cell_type": "markdown",
   "id": "17ab582e",
   "metadata": {},
   "source": [
    "out.loc[out.next_call_date == date_now.strftime('%Y-%m-%d'), ['task_to_call']] = 'Да'\n",
    "out_prev = out.copy()"
   ]
  },
  {
   "cell_type": "markdown",
   "id": "fa344b5d",
   "metadata": {},
   "source": [
    "out.shape"
   ]
  },
  {
   "cell_type": "markdown",
   "id": "9546a9d8",
   "metadata": {},
   "source": [
    "# Файлы на загрузку"
   ]
  },
  {
   "cell_type": "markdown",
   "id": "5494c8f1",
   "metadata": {},
   "source": [
    "out_task_prev = out_prev[out_cols]\n",
    "out_task_prev.shape[0]"
   ]
  },
  {
   "cell_type": "markdown",
   "id": "2a045597",
   "metadata": {},
   "source": [
    "# основной файл для загрузки в звонилку\n",
    "write_df_for_call_programm(\n",
    "    out_task_prev,\n",
    "    os.path.join(PATH_PROJECT, 'data', 'task', rf'{month_prev}_{date_now.strftime(\"%Y%m%d\")}_v1.xlsx'))"
   ]
  },
  {
   "cell_type": "markdown",
   "id": "670af5b8",
   "metadata": {},
   "source": [
    "# Пациенты текущего месяца"
   ]
  },
  {
   "cell_type": "code",
   "execution_count": null,
   "id": "bbd4b37c",
   "metadata": {},
   "outputs": [],
   "source": [
    "patients_emias_cur = get_emias_data(date_now, drop_exclude_pats=False, month=month_cur_for_emias)\n",
    "patients_emias_cur.shape[0]"
   ]
  },
  {
   "cell_type": "code",
   "execution_count": null,
   "id": "7bc6679b",
   "metadata": {},
   "outputs": [],
   "source": [
    "patients_emias_cur.columns"
   ]
  },
  {
   "cell_type": "markdown",
   "id": "8948387b",
   "metadata": {},
   "source": [
    "# ПРИ ДОБАВЛЕНИИ ЗАДАНИЯ ПЕРЕЗАПУСКАТЬ ОТСЮДА ИЗМЕНИВ ВЕРСИЮ"
   ]
  },
  {
   "cell_type": "code",
   "execution_count": null,
   "id": "e7741606",
   "metadata": {},
   "outputs": [],
   "source": [
    "patients_db_cur = get_status_patients(month_cur)\n",
    "patients_db_cur.shape[0]"
   ]
  },
  {
   "cell_type": "code",
   "execution_count": null,
   "id": "805639dd",
   "metadata": {},
   "outputs": [],
   "source": [
    "patients_db_cur['next_call_date'] = date_now.strftime('%Y-%m-%d')"
   ]
  },
  {
   "cell_type": "code",
   "execution_count": null,
   "id": "8627ed34",
   "metadata": {},
   "outputs": [],
   "source": [
    "%%time\n",
    "patients_cur = patients_emias_cur.merge(\n",
    "    patients_db_cur[['emiasid', 'status', 'old_comment', 'operator_login', 'next_call_date']], \n",
    "    on='emiasid', \n",
    "    how='right'\n",
    ")\n",
    "for col in [\n",
    "    'kont_priyom_terapevt_zapis',\n",
    "    'kont_priyom_terapevt_sdel',\n",
    "    'kont_priyom_terapevt_sdel_hron_plan'\n",
    "]:\n",
    "    patients_emias_cur.loc[patients_emias_cur[col].isin(ther_exclude_dates_july), [col]] = np.nan\n",
    "attrs_emias_data = patients_cur.merge(\n",
    "    get_emias_id_and_task_num_and_uschedule_visit(\n",
    "        patients_cur,\n",
    "        date_now\n",
    "    ),\n",
    "    how='left'\n",
    ").merge(\n",
    "    get_status_rec_rcp_procedure_and_doc(# таблица с признаками \n",
    "        get_emias_data(date_now, drop_exclude_pats=True, preprocess_april=False, month=month_cur_for_emias),\n",
    "        date_now\n",
    "    ),\n",
    "    how='left'\n",
    ")\n",
    "attrs_emias_data.next_call_date = pd.to_datetime(attrs_emias_data.next_call_date, dayfirst=True).dt.strftime('%Y-%m-%d')\n",
    "\n",
    "out = attrs_emias_data.merge(\n",
    "    get_group_name_df(),\n",
    "    how='left',\n",
    "    on=['group'])\n",
    "\n",
    "preprocess_phone_numbers(out)\n",
    "\n",
    "out.birth_date = pd.to_datetime(out.birth_date, dayfirst=True).dt.strftime('%Y-%m-%d')"
   ]
  },
  {
   "cell_type": "code",
   "execution_count": null,
   "id": "2990f69d",
   "metadata": {},
   "outputs": [],
   "source": [
    "out.loc[out.status == 'Напомнить', ['patient_group']] = 'Напомнить о записи на исследование на завтра'"
   ]
  },
  {
   "cell_type": "code",
   "execution_count": null,
   "id": "b71a8d49",
   "metadata": {},
   "outputs": [],
   "source": [
    "# out.loc[out.status == 'Внеплановый', ['patient_group']] = 'Внеплановый'"
   ]
  },
  {
   "cell_type": "code",
   "execution_count": null,
   "id": "d1fc438e",
   "metadata": {},
   "outputs": [],
   "source": [
    "out.loc[out.next_call_date == date_now.strftime('%Y-%m-%d'), ['task_to_call']] = 'Да'"
   ]
  },
  {
   "cell_type": "code",
   "execution_count": null,
   "id": "ecb66275",
   "metadata": {},
   "outputs": [],
   "source": [
    "out_cur = out.copy()\n",
    "out_cur.shape"
   ]
  },
  {
   "cell_type": "markdown",
   "id": "d4e9615a",
   "metadata": {},
   "source": [
    "# Файлы на загрузку"
   ]
  },
  {
   "cell_type": "code",
   "execution_count": null,
   "id": "1759a472",
   "metadata": {},
   "outputs": [],
   "source": [
    "out_task_cur = out_cur[out_cols]\n",
    "out_task_cur.shape[0]"
   ]
  },
  {
   "cell_type": "code",
   "execution_count": null,
   "id": "8cb4cb72",
   "metadata": {},
   "outputs": [],
   "source": [
    "out_task_cur = out_task_cur.drop_duplicates(subset='emiasid', keep='last')"
   ]
  },
  {
   "cell_type": "code",
   "execution_count": null,
   "id": "b9e593df",
   "metadata": {},
   "outputs": [],
   "source": [
    "out_task_cur.shape[0]"
   ]
  },
  {
   "cell_type": "code",
   "execution_count": null,
   "id": "140ba24f",
   "metadata": {},
   "outputs": [],
   "source": [
    "part"
   ]
  },
  {
   "cell_type": "code",
   "execution_count": null,
   "id": "358f602c",
   "metadata": {},
   "outputs": [],
   "source": [
    "out_task_cur.operator_login = out_task_cur.operator_login.apply(lambda x: x + '_n2')"
   ]
  },
  {
   "cell_type": "code",
   "execution_count": null,
   "id": "f4059cfe",
   "metadata": {
    "scrolled": true
   },
   "outputs": [],
   "source": [
    "%%time\n",
    "# основной файл для загрузки в звонилку\n",
    "write_df_for_call_programm(\n",
    "    out_task_cur,\n",
    "    os.path.join(PATH_PROJECT, 'data', 'task', rf'{month_cur}_{date_now.strftime(\"%Y%m%d\")}_part_{part}.xlsx'))\n",
    "part += 1"
   ]
  },
  {
   "cell_type": "code",
   "execution_count": null,
   "id": "f57dc6f7",
   "metadata": {
    "scrolled": true
   },
   "outputs": [],
   "source": [
    "out_task_cur.emiasid.nunique()"
   ]
  },
  {
   "cell_type": "code",
   "execution_count": null,
   "id": "307cfe9d",
   "metadata": {},
   "outputs": [],
   "source": []
  }
 ],
 "metadata": {
  "kernelspec": {
   "display_name": "Python 3 (ipykernel)",
   "language": "python",
   "name": "python3"
  },
  "language_info": {
   "codemirror_mode": {
    "name": "ipython",
    "version": 3
   },
   "file_extension": ".py",
   "mimetype": "text/x-python",
   "name": "python",
   "nbconvert_exporter": "python",
   "pygments_lexer": "ipython3",
   "version": "3.9.12"
  }
 },
 "nbformat": 4,
 "nbformat_minor": 5
}
