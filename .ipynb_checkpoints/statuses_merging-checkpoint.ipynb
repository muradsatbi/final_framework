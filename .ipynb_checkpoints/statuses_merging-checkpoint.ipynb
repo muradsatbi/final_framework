{
 "cells": [
  {
   "cell_type": "code",
   "execution_count": 1,
   "id": "ffd41bc3",
   "metadata": {},
   "outputs": [],
   "source": [
    "import os\n",
    "import pandas as pd\n",
    "import datetime as dt\n",
    "import numpy as np\n",
    "import re"
   ]
  },
  {
   "cell_type": "code",
   "execution_count": 2,
   "id": "3678b95e",
   "metadata": {},
   "outputs": [
    {
     "name": "stdout",
     "output_type": "stream",
     "text": [
      "2022_09_16\n"
     ]
    }
   ],
   "source": [
    "today = pd.Timestamp(dt.datetime.today().date())\n",
    "today_ymd = today.strftime('%Y%m%d')\n",
    "today_y_m_d = today.strftime('%Y_%m_%d')\n",
    "\n",
    "yesterday = today - dt.timedelta(days=1)\n",
    "yesterday_ymd = yesterday.strftime('%Y%m%d')\n",
    "yesterday_y_m_d = yesterday.strftime('%Y-%m-%d')\n",
    "\n",
    "tomorrow = today + dt.timedelta(days=1)\n",
    "tomorrow_ymd = tomorrow.strftime('%Y%m%d')\n",
    "tomorrow_y_m_d = tomorrow.strftime('%Y-%m-%d')\n",
    "\n",
    "print(today_y_m_d)"
   ]
  },
  {
   "cell_type": "code",
   "execution_count": 3,
   "id": "bbe9a34f",
   "metadata": {},
   "outputs": [],
   "source": [
    "column_names = {'Emiasid': 'emiasid', 'Emiasid ': 'emiasid' , 'emiasid ': 'emiasid', 'EMIAS_ID': 'emiasid', 'МО': 'mo', \n",
    "                'МУ': 'mu', 'Логин оператора': 'login', 'Дата и время звонка': 'call_date', 'Результат звонка': 'call_result',\n",
    "                'Результат звонка ': 'call_result', 'Разговор состоялся': 'talk_result', 'Комменатрий': 'comment', \n",
    "                'Дата и время переноса': 'next_call_date', 'Контактный телефон': 'phone_number', 'ФИО врача': 'doctor_fio', \n",
    "                'ФИО помощника врача': 'assistant_fio', 'Логин помощника врача': 'login', 'Зал №': 'hall_number',\n",
    "                'Логин naumen': 'login', 'МО закрепления': 'mo', 'Отсутствует на рабочем месте': 'absence'}"
   ]
  },
  {
   "cell_type": "code",
   "execution_count": 4,
   "id": "501cb151",
   "metadata": {},
   "outputs": [],
   "source": [
    "# путь папки с данными по звонкам\n",
    "calls_data_path = r'\\Users\\murad_satabaev\\Documents\\GitHub\\final_framework'\n",
    "calls_data_path = calls_data_path.split('\\\\')\n",
    "calls_data_path = os.path.join('C:\\\\', r'\\\\', *calls_data_path)\n",
    "calls_data_path = os.path.join(calls_data_path, 'calls_data_20220802_today.xlsx')"
   ]
  },
  {
   "cell_type": "code",
   "execution_count": 5,
   "id": "aa095ae2",
   "metadata": {},
   "outputs": [
    {
     "name": "stdout",
     "output_type": "stream",
     "text": [
      "C:\\\\Users\\murad_satabaev\\Documents\\GitHub\\final_framework\\current_statuses_path\n"
     ]
    }
   ],
   "source": [
    "# путь файла с текущими статусами пациентов\n",
    "patients_current_statuses_path = r'Users\\murad_satabaev\\Documents\\GitHub\\final_framework\\current_statuses_path'\n",
    "patients_current_statuses_path = patients_current_statuses_path.split('\\\\')\n",
    "patients_current_statuses_path = os.path.join('C:\\\\', r'\\\\', *patients_current_statuses_path)\n",
    "print(patients_current_statuses_path)"
   ]
  },
  {
   "cell_type": "code",
   "execution_count": 6,
   "id": "0adc7a92",
   "metadata": {},
   "outputs": [],
   "source": [
    "def find_phone_number(text):\n",
    "    \"\"\"Функция ищет номера телефонов в строке, фильтрует дефектные и возвращает один с приоритетом на мобильный\"\"\"\n",
    "    import re\n",
    "    defect_pattern = re.compile(r\"\"\"7[^94]\\d{9}|0{7,}|1{7,}|2{7,}|3{7,}|4{7,}|5{7,}|6{7,}|7{7,}|8{7,}|9{7,}\"\"\")\n",
    "    text = str(text)\n",
    "    text = ['7' + re.sub(r'\\D', '', x)[-10:] for x in re.split(r'[,;]', text)]\n",
    "    text = list(filter(lambda x: len(x) == 11, text))\n",
    "    text = list(filter(lambda x: False if re.search(defect_pattern, x) else True, text))\n",
    "    text = sorted(text, reverse=True)\n",
    "    text = ','.join(text)\n",
    "    text = re.search(r'(9\\d{9}|4\\d{9})', text)\n",
    "    if text:\n",
    "        text = text.group()\n",
    "    return text"
   ]
  },
  {
   "cell_type": "code",
   "execution_count": null,
   "id": "8d361945",
   "metadata": {},
   "outputs": [],
   "source": []
  },
  {
   "cell_type": "code",
   "execution_count": 7,
   "id": "8edfeadd",
   "metadata": {},
   "outputs": [
    {
     "data": {
      "text/plain": [
       "303875"
      ]
     },
     "execution_count": 7,
     "metadata": {},
     "output_type": "execute_result"
    }
   ],
   "source": [
    "calls_data_reading = pd.read_excel(calls_data_path)\n",
    "calls_data_reading.shape[0]"
   ]
  },
  {
   "cell_type": "code",
   "execution_count": 8,
   "id": "9f1a80bc",
   "metadata": {},
   "outputs": [],
   "source": [
    "calls_data_reading = calls_data_reading.rename(columns=column_names)"
   ]
  },
  {
   "cell_type": "code",
   "execution_count": 9,
   "id": "dfffadd4",
   "metadata": {},
   "outputs": [
    {
     "name": "stderr",
     "output_type": "stream",
     "text": [
      "C:\\Users\\murad_satabaev\\AppData\\Local\\Temp\\ipykernel_7036\\696863348.py:1: FutureWarning: The default value of regex will change from True to False in a future version.\n",
      "  calls_data_reading['emiasid'] = calls_data_reading['emiasid'].astype(str).str.replace('\\.0', '')\n"
     ]
    }
   ],
   "source": [
    "calls_data_reading['emiasid'] = calls_data_reading['emiasid'].astype(str).str.replace('\\.0', '')\n",
    "calls_data_reading['call_date'] = calls_data_reading['call_date'].apply(lambda x: pd.to_datetime(x, dayfirst=True,\n",
    "                                                                                                 errors='coerce').date())\n",
    "calls_data_reading['next_call_date'] = \\\n",
    "calls_data_reading['next_call_date'].apply(lambda x: pd.to_datetime(x, dayfirst=True, errors='coerce').date())"
   ]
  },
  {
   "cell_type": "code",
   "execution_count": 10,
   "id": "b6a91edd",
   "metadata": {},
   "outputs": [
    {
     "data": {
      "text/plain": [
       "datetime.date(2022, 9, 15)"
      ]
     },
     "execution_count": 10,
     "metadata": {},
     "output_type": "execute_result"
    }
   ],
   "source": [
    "calls_data_reading.call_date.unique()[-1]"
   ]
  },
  {
   "cell_type": "code",
   "execution_count": null,
   "id": "efffdf67",
   "metadata": {},
   "outputs": [],
   "source": []
  },
  {
   "cell_type": "code",
   "execution_count": null,
   "id": "d4642f21",
   "metadata": {},
   "outputs": [],
   "source": []
  },
  {
   "cell_type": "code",
   "execution_count": 11,
   "id": "3e3b0c35",
   "metadata": {},
   "outputs": [],
   "source": [
    "monthes = {'august', 'september'}"
   ]
  },
  {
   "cell_type": "code",
   "execution_count": 12,
   "id": "63bf033c",
   "metadata": {},
   "outputs": [
    {
     "name": "stderr",
     "output_type": "stream",
     "text": [
      "C:\\Users\\murad_satabaev\\AppData\\Local\\Temp\\ipykernel_7036\\1341939309.py:22: FutureWarning: The default value of regex will change from True to False in a future version.\n",
      "  last_calls_data['emiasid'] = last_calls_data['emiasid'].astype(str).str.replace('\\.0', '')\n",
      "C:\\Users\\murad_satabaev\\AppData\\Local\\Temp\\ipykernel_7036\\1341939309.py:34: FutureWarning: The default value of regex will change from True to False in a future version.\n",
      "  patients_current_statuses['emiasid'] = patients_current_statuses['emiasid'].astype(str).str.replace('\\.0', '')\n",
      "C:\\Users\\murad_satabaev\\AppData\\Local\\Temp\\ipykernel_7036\\1341939309.py:22: FutureWarning: The default value of regex will change from True to False in a future version.\n",
      "  last_calls_data['emiasid'] = last_calls_data['emiasid'].astype(str).str.replace('\\.0', '')\n",
      "C:\\Users\\murad_satabaev\\AppData\\Local\\Temp\\ipykernel_7036\\1341939309.py:34: FutureWarning: The default value of regex will change from True to False in a future version.\n",
      "  patients_current_statuses['emiasid'] = patients_current_statuses['emiasid'].astype(str).str.replace('\\.0', '')\n"
     ]
    }
   ],
   "source": [
    "for month in monthes:\n",
    "    \n",
    "    \n",
    "    if 'september' in month:\n",
    "        calls_data = calls_data_reading[calls_data_reading.call_date >= dt.date(2022, 9, 2)].reset_index(drop=True).copy()\n",
    "    else:\n",
    "        calls_data = calls_data_reading.copy()\n",
    "        \n",
    "    \n",
    "    emiasid_touches = \\\n",
    "    calls_data.groupby('emiasid').agg({'call_date': 'count'}).rename(columns={'call_date': 'calls_amount'}).reset_index()\n",
    "    \n",
    "    last_calls_data = \\\n",
    "    calls_data.sort_values(by='call_date').drop_duplicates(subset=['emiasid'], keep='last').reset_index(drop=True)\n",
    "    \n",
    "    last_calls_data = last_calls_data[['emiasid', 'call_date', 'next_call_date', 'comment', 'call_result', 'talk_result']]\n",
    "    \n",
    "    last_calls_data = last_calls_data.rename(\n",
    "        columns={'comment': 'old_comment', 'call_date': 'last_call_date', 'call_result': 'last_call_result',\n",
    "                'talk_result': 'last_talk_result'})\n",
    "    \n",
    "    last_calls_data['emiasid'] = last_calls_data['emiasid'].astype(str).str.replace('\\.0', '')\n",
    "    last_calls_data['last_call_date'] = last_calls_data['last_call_date'].apply(lambda x: pd.to_datetime(x, dayfirst=True).date())\n",
    "    last_calls_data['next_call_date'] = \\\n",
    "    last_calls_data['next_call_date'].apply(lambda x: pd.to_datetime(x, dayfirst=True).date())\n",
    "    \n",
    "    \n",
    "    patients_current_statuses_reading = pd.read_excel(\n",
    "        os.path.join(patients_current_statuses_path, rf'{month}_patients_current_statuses_{today_y_m_d}.xlsx'))\n",
    "    \n",
    "    \n",
    "    patients_current_statuses = patients_current_statuses_reading.rename(columns=column_names).copy()\n",
    "    \n",
    "    patients_current_statuses['emiasid'] = patients_current_statuses['emiasid'].astype(str).str.replace('\\.0', '')\n",
    "    patients_current_statuses['phone_number'] = patients_current_statuses['phone_number'] \\\n",
    "    .apply(lambda x: str(x).replace('.0', '') if not pd.isna(x) else x)\n",
    "    \n",
    "    \n",
    "    patients_current_statuses_merged = patients_current_statuses.merge(emiasid_touches, on=['emiasid'], how='left')\n",
    "    patients_current_statuses_merged = patients_current_statuses_merged.merge(last_calls_data, on=['emiasid'], how='left')\n",
    "    \n",
    "    if 'september' in month:\n",
    "        september_patients_current_statuses_merged = patients_current_statuses_merged.copy()\n",
    "    elif 'august' in month:\n",
    "        august_patients_current_statuses_merged = patients_current_statuses_merged.copy()\n",
    "    \n",
    "    patients_current_statuses_merged.to_excel(\n",
    "        os.path.join('C:\\\\', 'Users', 'murad_satabaev', 'Documents', 'GitHub',\n",
    "        'final_framework', 'merged_statuses', \n",
    "                     f'{month}_patients_current_statuses_merged_with_calls_{today_y_m_d}.xlsx'), index=False)"
   ]
  },
  {
   "cell_type": "code",
   "execution_count": null,
   "id": "eeb714c8",
   "metadata": {},
   "outputs": [],
   "source": []
  },
  {
   "cell_type": "markdown",
   "id": "dfc692c0",
   "metadata": {},
   "source": [
    "# КАК ТОЛЬКО ЕСТЬ ПОДТВЕРЖДЕНИЕ ОТ ТОГО, КТО ДЕЛАЕТ РАСПРЕДЕЛЕНИЕ, ЗАПУСКАЕМ ОТСЮДА И ВНИЗ"
   ]
  },
  {
   "cell_type": "code",
   "execution_count": 61,
   "id": "0f892280",
   "metadata": {},
   "outputs": [
    {
     "name": "stdout",
     "output_type": "stream",
     "text": [
      "\\\\t999\\Сетевой диск\\pdn\\data\\assistant_to_doctor_distribution_path\n"
     ]
    }
   ],
   "source": [
    "# путь папки с раскреплением\n",
    "assistant_to_doctor_distribution_path = \\\n",
    "r'\\\\t999\\Сетевой диск\\pdn\\data\\assistant_to_doctor_distribution_path'\n",
    "assistant_to_doctor_distribution_path = \\\n",
    "assistant_to_doctor_distribution_path.split('\\\\')\n",
    "assistant_to_doctor_distribution_path = \\\n",
    "os.path.join(r'\\\\', *assistant_to_doctor_distribution_path)\n",
    "print(assistant_to_doctor_distribution_path)"
   ]
  },
  {
   "cell_type": "code",
   "execution_count": 62,
   "id": "9ee73931",
   "metadata": {},
   "outputs": [
    {
     "name": "stdout",
     "output_type": "stream",
     "text": [
      "\\\\t999\\Сетевой диск\\pdn\\data\\assistant_to_doctor_distribution_path\\august_patient_to_assistant_distribution.xlsx\n"
     ]
    }
   ],
   "source": [
    "august_assistant_to_doctor_distribution_path = [os.path.join(assistant_to_doctor_distribution_path, filename) for filename \n",
    "                                         in os.listdir(assistant_to_doctor_distribution_path) if '~' not in filename\n",
    "                                        and 'august' in filename]\n",
    "august_assistant_to_doctor_distribution_path.sort(key=lambda x: os.path.getctime(x))\n",
    "august_assistant_to_doctor_distribution_path = august_assistant_to_doctor_distribution_path[-1]\n",
    "print(august_assistant_to_doctor_distribution_path)"
   ]
  },
  {
   "cell_type": "code",
   "execution_count": 63,
   "id": "c70ed41b",
   "metadata": {},
   "outputs": [],
   "source": [
    "august_assistant_to_doctor_distribution = pd.read_excel(august_assistant_to_doctor_distribution_path, \n",
    "                                                       usecols=['login', 'mo', 'doctor_fio'])[['login', 'mo', 'doctor_fio']]"
   ]
  },
  {
   "cell_type": "code",
   "execution_count": 64,
   "id": "d33ab030",
   "metadata": {},
   "outputs": [],
   "source": [
    "august_patients_current_statuses_merged_ = \\\n",
    "august_patients_current_statuses_merged.merge(august_assistant_to_doctor_distribution, on=['mo', 'doctor_fio'], how='left')"
   ]
  },
  {
   "cell_type": "code",
   "execution_count": null,
   "id": "c4818680",
   "metadata": {},
   "outputs": [],
   "source": []
  },
  {
   "cell_type": "code",
   "execution_count": null,
   "id": "ba443b23",
   "metadata": {},
   "outputs": [],
   "source": []
  },
  {
   "cell_type": "code",
   "execution_count": 65,
   "id": "a150ff2d",
   "metadata": {},
   "outputs": [
    {
     "name": "stdout",
     "output_type": "stream",
     "text": [
      "\\\\t999\\Сетевой диск\\pdn\\data\\emias_data\\xlsx\n"
     ]
    }
   ],
   "source": [
    "# путь файла с сегодняшними \n",
    "emias_data_path = r'\\\\t999\\Сетевой диск\\pdn\\data\\emias_data\\xlsx'\n",
    "emias_data_path = emias_data_path.split('\\\\')\n",
    "emias_data_path = os.path.join(r'\\\\', *emias_data_path)\n",
    "print(emias_data_path)"
   ]
  },
  {
   "cell_type": "code",
   "execution_count": 66,
   "id": "868c08e1",
   "metadata": {},
   "outputs": [
    {
     "name": "stdout",
     "output_type": "stream",
     "text": [
      "\\\\t999\\Сетевой диск\\pdn\\data\\emias_data\\xlsx\\DAT_3833_выгрузка_списков_на_обзвон_помощниками_2022-09-16.xlsx\n"
     ]
    }
   ],
   "source": [
    "today_emias_data_path = [os.path.join(emias_data_path, filename) for filename in os.listdir(emias_data_path) if '3833' \n",
    "                         in filename and '~' not in filename and today.strftime('%Y-%m-%d') in filename][0]\n",
    "print(today_emias_data_path)"
   ]
  },
  {
   "cell_type": "code",
   "execution_count": 67,
   "id": "129b2563",
   "metadata": {},
   "outputs": [
    {
     "name": "stderr",
     "output_type": "stream",
     "text": [
      "C:\\Users\\murad_satabaev\\AppData\\Local\\Temp\\ipykernel_7036\\2812139392.py:2: FutureWarning: The default value of regex will change from True to False in a future version.\n",
      "  today_emias_data['emiasid'] = today_emias_data['emiasid'].astype(str).str.replace('\\.0', '')\n",
      "C:\\Users\\murad_satabaev\\AppData\\Local\\Temp\\ipykernel_7036\\2812139392.py:3: FutureWarning: The default value of regex will change from True to False in a future version.\n",
      "  today_emias_data['phone'] = today_emias_data['phone'].astype(str).str.replace('\\.0', '')\n"
     ]
    }
   ],
   "source": [
    "today_emias_data = pd.read_excel(today_emias_data_path)\n",
    "today_emias_data['emiasid'] = today_emias_data['emiasid'].astype(str).str.replace('\\.0', '')\n",
    "today_emias_data['phone'] = today_emias_data['phone'].astype(str).str.replace('\\.0', '')"
   ]
  },
  {
   "cell_type": "code",
   "execution_count": 68,
   "id": "a200e240",
   "metadata": {},
   "outputs": [],
   "source": [
    "today_emias_data['phone'] = \\\n",
    "today_emias_data['phone'].apply(find_phone_number)"
   ]
  },
  {
   "cell_type": "code",
   "execution_count": 69,
   "id": "880d581a",
   "metadata": {},
   "outputs": [
    {
     "data": {
      "text/plain": [
       "449"
      ]
     },
     "execution_count": 69,
     "metadata": {},
     "output_type": "execute_result"
    }
   ],
   "source": [
    "today_bad_numbers_patients = today_emias_data[today_emias_data['phone'].isna()].emiasid\n",
    "today_bad_numbers_patients.shape[0]"
   ]
  },
  {
   "cell_type": "code",
   "execution_count": 70,
   "id": "df02389d",
   "metadata": {},
   "outputs": [
    {
     "data": {
      "text/plain": [
       "641"
      ]
     },
     "execution_count": 70,
     "metadata": {},
     "output_type": "execute_result"
    }
   ],
   "source": [
    "today_no_doctor_patients = today_emias_data[today_emias_data['doctor_fio'].isna()].emiasid\n",
    "today_no_doctor_patients.shape[0]"
   ]
  },
  {
   "cell_type": "code",
   "execution_count": 71,
   "id": "47c48cda",
   "metadata": {},
   "outputs": [
    {
     "data": {
      "text/plain": [
       "61"
      ]
     },
     "execution_count": 71,
     "metadata": {},
     "output_type": "execute_result"
    }
   ],
   "source": [
    "today_no_mo_patients = today_emias_data[today_emias_data['mo'].isna()].emiasid\n",
    "today_no_mo_patients.shape[0]"
   ]
  },
  {
   "cell_type": "code",
   "execution_count": null,
   "id": "cc4a30f1",
   "metadata": {},
   "outputs": [],
   "source": []
  },
  {
   "cell_type": "code",
   "execution_count": 72,
   "id": "21fef94d",
   "metadata": {},
   "outputs": [],
   "source": [
    "august_patients_current_statuses_merged_.loc[\n",
    "    (~(august_patients_current_statuses_merged_.emiasid.isin(today_emias_data.emiasid))),\n",
    "    'problem'\n",
    "] = 'Нет в сегодняшней выгрузке'"
   ]
  },
  {
   "cell_type": "code",
   "execution_count": 73,
   "id": "c6ced07d",
   "metadata": {},
   "outputs": [],
   "source": [
    "august_patients_current_statuses_merged_.loc[\n",
    "    (august_patients_current_statuses_merged_.emiasid.isin(today_bad_numbers_patients)),\n",
    "    'problem'\n",
    "] = 'Отсутствует номер'"
   ]
  },
  {
   "cell_type": "code",
   "execution_count": 74,
   "id": "6d86c90d",
   "metadata": {},
   "outputs": [],
   "source": [
    "august_patients_current_statuses_merged_.loc[\n",
    "    (august_patients_current_statuses_merged_.emiasid.isin(today_no_doctor_patients)),\n",
    "    'problem'\n",
    "] = 'Нет прикрепления к врачу'"
   ]
  },
  {
   "cell_type": "code",
   "execution_count": 75,
   "id": "a2d28d11",
   "metadata": {},
   "outputs": [],
   "source": [
    "# august_patients_current_statuses_merged_.loc[\n",
    "#     (august_patients_current_statuses_merged_.mo != august_patients_current_statuses_merged_.initial_mo),\n",
    "#     'problem'\n",
    "# ] = 'Смена МО на другую нашу'"
   ]
  },
  {
   "cell_type": "code",
   "execution_count": 76,
   "id": "e377a7b8",
   "metadata": {},
   "outputs": [],
   "source": [
    "august_patients_current_statuses_merged_.loc[\n",
    "    (august_patients_current_statuses_merged_.emiasid.isin(today_no_mo_patients)),\n",
    "    'problem'\n",
    "] = 'Нет прикрепления к МО'"
   ]
  },
  {
   "cell_type": "code",
   "execution_count": 77,
   "id": "db776b65",
   "metadata": {},
   "outputs": [],
   "source": [
    "august_patients_current_statuses_merged_.loc[\n",
    "    (august_patients_current_statuses_merged_.status == 'Смена МО'),\n",
    "    'problem'\n",
    "] = 'Смена МО'"
   ]
  },
  {
   "cell_type": "code",
   "execution_count": null,
   "id": "d548344f",
   "metadata": {},
   "outputs": [],
   "source": []
  },
  {
   "cell_type": "code",
   "execution_count": 78,
   "id": "7f211baf",
   "metadata": {},
   "outputs": [],
   "source": [
    "august_patients_current_statuses_merged_['month'] = 'august'"
   ]
  },
  {
   "cell_type": "code",
   "execution_count": 79,
   "id": "b86a29bf",
   "metadata": {},
   "outputs": [],
   "source": [
    "august_patients_current_statuses_merged_ = august_patients_current_statuses_merged_[\n",
    "['emiasid', 'login', 'status', 'old_comment', 'next_call_date', \n",
    " 'mo', 'doctor_fio', \n",
    " 'phone_number', 'calls_amount', 'last_call_date', 'last_call_result', 'last_talk_result', 'group',\n",
    " 'problem', 'month']]"
   ]
  },
  {
   "cell_type": "code",
   "execution_count": 80,
   "id": "c2c0853c",
   "metadata": {},
   "outputs": [],
   "source": [
    "august_patients_current_statuses_merged_.loc[\n",
    "    (august_patients_current_statuses_merged_.status.isin({'Смена МО на другую нашу', 'Нет прикрепления к МО',\n",
    "                                                             'Смена МО'})),\n",
    "    'login'\n",
    "] = np.nan"
   ]
  },
  {
   "cell_type": "code",
   "execution_count": null,
   "id": "2253cc5d",
   "metadata": {},
   "outputs": [],
   "source": []
  },
  {
   "cell_type": "code",
   "execution_count": 81,
   "id": "274679d6",
   "metadata": {},
   "outputs": [],
   "source": [
    "# august_patients_current_statuses_merged_.to_excel(\n",
    "#         os.path.join('C:\\\\', 'Users', 'murad_satabaev', 'Documents', 'GitHub',\n",
    "#         'final_framework', 'merged_statuses',\n",
    "#                      f'august_patients_current_statuses_merged_with_logins_{today_y_m_d}.xlsx'), index=False)"
   ]
  },
  {
   "cell_type": "code",
   "execution_count": null,
   "id": "d5b47aa5",
   "metadata": {},
   "outputs": [],
   "source": []
  },
  {
   "cell_type": "code",
   "execution_count": null,
   "id": "9f335c10",
   "metadata": {},
   "outputs": [],
   "source": []
  },
  {
   "cell_type": "code",
   "execution_count": 82,
   "id": "3e93bd8b",
   "metadata": {},
   "outputs": [
    {
     "name": "stdout",
     "output_type": "stream",
     "text": [
      "\\\\t999\\Сетевой диск\\pdn\\data\\assistant_to_doctor_distribution_path\\september_patient_to_assistant_distribution.xlsx\n"
     ]
    }
   ],
   "source": [
    "september_assistant_to_doctor_distribution_path = [os.path.join(assistant_to_doctor_distribution_path, filename) for filename \n",
    "                                         in os.listdir(assistant_to_doctor_distribution_path) if '~' not in filename\n",
    "                                        and 'september' in filename]\n",
    "september_assistant_to_doctor_distribution_path.sort(key=lambda x: os.path.getctime(x))\n",
    "september_assistant_to_doctor_distribution_path = september_assistant_to_doctor_distribution_path[-1]\n",
    "print(september_assistant_to_doctor_distribution_path)"
   ]
  },
  {
   "cell_type": "code",
   "execution_count": 83,
   "id": "e920fab9",
   "metadata": {},
   "outputs": [],
   "source": [
    "september_assistant_to_doctor_distribution = pd.read_excel(september_assistant_to_doctor_distribution_path, \n",
    "                                    usecols=['login', 'emiasid', 'mo', 'doctor_fio'])[['emiasid', 'login', 'mo', 'doctor_fio']]"
   ]
  },
  {
   "cell_type": "code",
   "execution_count": 84,
   "id": "12f78095",
   "metadata": {},
   "outputs": [
    {
     "name": "stderr",
     "output_type": "stream",
     "text": [
      "C:\\Users\\murad_satabaev\\AppData\\Local\\Temp\\ipykernel_7036\\1912213584.py:2: FutureWarning: The default value of regex will change from True to False in a future version.\n",
      "  september_assistant_to_doctor_distribution['emiasid'].astype(str).str.replace('\\.0', '')\n"
     ]
    }
   ],
   "source": [
    "september_assistant_to_doctor_distribution['emiasid'] = \\\n",
    "september_assistant_to_doctor_distribution['emiasid'].astype(str).str.replace('\\.0', '')\n",
    "september_assistant_to_doctor_distribution = \\\n",
    "september_assistant_to_doctor_distribution.rename(columns={'mo': 'initial_mo', 'doctor_fio': 'initial_doctor_fio'})"
   ]
  },
  {
   "cell_type": "code",
   "execution_count": 85,
   "id": "dfe29d39",
   "metadata": {},
   "outputs": [],
   "source": [
    "september_patients_current_statuses_merged_ = \\\n",
    "september_patients_current_statuses_merged.merge(september_assistant_to_doctor_distribution, on=['emiasid'], how='left')"
   ]
  },
  {
   "cell_type": "code",
   "execution_count": 86,
   "id": "e77f2599",
   "metadata": {},
   "outputs": [
    {
     "name": "stdout",
     "output_type": "stream",
     "text": [
      "\\\\t999\\Сетевой диск\\pdn\\data\\emias_data\\xlsx\n"
     ]
    }
   ],
   "source": [
    "# путь файла с сегодняшними \n",
    "emias_data_path = r'\\\\t999\\Сетевой диск\\pdn\\data\\emias_data\\xlsx'\n",
    "emias_data_path = emias_data_path.split('\\\\')\n",
    "emias_data_path = os.path.join(r'\\\\', *emias_data_path)\n",
    "print(emias_data_path)"
   ]
  },
  {
   "cell_type": "code",
   "execution_count": 87,
   "id": "d69ecd6d",
   "metadata": {},
   "outputs": [
    {
     "name": "stdout",
     "output_type": "stream",
     "text": [
      "\\\\t999\\Сетевой диск\\pdn\\data\\emias_data\\xlsx\\DAT_4059_выгрузка_списков_на_обзвон_помощниками_2022-09-16.xlsx\n"
     ]
    }
   ],
   "source": [
    "today_emias_data_path = [os.path.join(emias_data_path, filename) for filename in os.listdir(emias_data_path) if '4059' \n",
    "                         in filename and '~' not in filename and today.strftime('%Y-%m-%d') in filename][0]\n",
    "print(today_emias_data_path)"
   ]
  },
  {
   "cell_type": "code",
   "execution_count": 88,
   "id": "72880b1b",
   "metadata": {},
   "outputs": [
    {
     "name": "stderr",
     "output_type": "stream",
     "text": [
      "C:\\Users\\murad_satabaev\\AppData\\Local\\Temp\\ipykernel_7036\\2812139392.py:2: FutureWarning: The default value of regex will change from True to False in a future version.\n",
      "  today_emias_data['emiasid'] = today_emias_data['emiasid'].astype(str).str.replace('\\.0', '')\n",
      "C:\\Users\\murad_satabaev\\AppData\\Local\\Temp\\ipykernel_7036\\2812139392.py:3: FutureWarning: The default value of regex will change from True to False in a future version.\n",
      "  today_emias_data['phone'] = today_emias_data['phone'].astype(str).str.replace('\\.0', '')\n"
     ]
    }
   ],
   "source": [
    "today_emias_data = pd.read_excel(today_emias_data_path)\n",
    "today_emias_data['emiasid'] = today_emias_data['emiasid'].astype(str).str.replace('\\.0', '')\n",
    "today_emias_data['phone'] = today_emias_data['phone'].astype(str).str.replace('\\.0', '')"
   ]
  },
  {
   "cell_type": "code",
   "execution_count": 89,
   "id": "f143a455",
   "metadata": {},
   "outputs": [],
   "source": [
    "today_emias_data['phone'] = \\\n",
    "today_emias_data['phone'].apply(find_phone_number)"
   ]
  },
  {
   "cell_type": "code",
   "execution_count": 90,
   "id": "69299815",
   "metadata": {},
   "outputs": [
    {
     "data": {
      "text/plain": [
       "877"
      ]
     },
     "execution_count": 90,
     "metadata": {},
     "output_type": "execute_result"
    }
   ],
   "source": [
    "today_bad_numbers_patients = today_emias_data[today_emias_data['phone'].isna()].emiasid\n",
    "today_bad_numbers_patients.shape[0]"
   ]
  },
  {
   "cell_type": "code",
   "execution_count": 91,
   "id": "f4256321",
   "metadata": {},
   "outputs": [
    {
     "data": {
      "text/plain": [
       "1442"
      ]
     },
     "execution_count": 91,
     "metadata": {},
     "output_type": "execute_result"
    }
   ],
   "source": [
    "today_no_doctor_patients = today_emias_data[today_emias_data['doctor_fio'].isna()].emiasid\n",
    "today_no_doctor_patients.shape[0]"
   ]
  },
  {
   "cell_type": "code",
   "execution_count": 92,
   "id": "f29e9f39",
   "metadata": {},
   "outputs": [
    {
     "data": {
      "text/plain": [
       "85"
      ]
     },
     "execution_count": 92,
     "metadata": {},
     "output_type": "execute_result"
    }
   ],
   "source": [
    "today_no_mo_patients = today_emias_data[today_emias_data['mo'].isna()].emiasid\n",
    "today_no_mo_patients.shape[0]"
   ]
  },
  {
   "cell_type": "code",
   "execution_count": null,
   "id": "2a074140",
   "metadata": {},
   "outputs": [],
   "source": []
  },
  {
   "cell_type": "code",
   "execution_count": 93,
   "id": "e35f010e",
   "metadata": {},
   "outputs": [],
   "source": [
    "september_patients_current_statuses_merged_.loc[\n",
    "    (~(september_patients_current_statuses_merged_.emiasid.isin(today_emias_data.emiasid))),\n",
    "    'problem'\n",
    "] = 'Нет в сегодняшней выгрузке'"
   ]
  },
  {
   "cell_type": "code",
   "execution_count": 94,
   "id": "b6e76a71",
   "metadata": {},
   "outputs": [],
   "source": [
    "september_patients_current_statuses_merged_.loc[\n",
    "    (september_patients_current_statuses_merged_.emiasid.isin(today_bad_numbers_patients)),\n",
    "    'problem'\n",
    "] = 'Отсутствует номер'"
   ]
  },
  {
   "cell_type": "code",
   "execution_count": 95,
   "id": "57ece34b",
   "metadata": {},
   "outputs": [],
   "source": [
    "september_patients_current_statuses_merged_.loc[\n",
    "    (september_patients_current_statuses_merged_.emiasid.isin(today_no_doctor_patients)),\n",
    "    'problem'\n",
    "] = 'Нет прикрепления к врачу'"
   ]
  },
  {
   "cell_type": "code",
   "execution_count": 96,
   "id": "6b5d7d4e",
   "metadata": {},
   "outputs": [],
   "source": [
    "september_patients_current_statuses_merged_.loc[\n",
    "    (september_patients_current_statuses_merged_.mo != september_patients_current_statuses_merged_.initial_mo),\n",
    "    'problem'\n",
    "] = 'Смена МО на другую нашу'"
   ]
  },
  {
   "cell_type": "code",
   "execution_count": 97,
   "id": "4acfa4a6",
   "metadata": {},
   "outputs": [],
   "source": [
    "september_patients_current_statuses_merged_.loc[\n",
    "    (september_patients_current_statuses_merged_.emiasid.isin(today_no_mo_patients)),\n",
    "    'problem'\n",
    "] = 'Нет прикрепления к МО'"
   ]
  },
  {
   "cell_type": "code",
   "execution_count": 98,
   "id": "8cad3619",
   "metadata": {},
   "outputs": [],
   "source": [
    "september_patients_current_statuses_merged_.loc[\n",
    "    (september_patients_current_statuses_merged_.status == 'Смена МО'),\n",
    "    'problem'\n",
    "] = 'Смена МО'"
   ]
  },
  {
   "cell_type": "code",
   "execution_count": 99,
   "id": "73da7987",
   "metadata": {},
   "outputs": [],
   "source": [
    "september_patients_current_statuses_merged_['month'] = 'september'"
   ]
  },
  {
   "cell_type": "code",
   "execution_count": null,
   "id": "b1bd1f58",
   "metadata": {},
   "outputs": [],
   "source": []
  },
  {
   "cell_type": "code",
   "execution_count": null,
   "id": "395e250b",
   "metadata": {},
   "outputs": [],
   "source": []
  },
  {
   "cell_type": "code",
   "execution_count": null,
   "id": "f66e485f",
   "metadata": {},
   "outputs": [],
   "source": []
  },
  {
   "cell_type": "code",
   "execution_count": 100,
   "id": "9d0afc9e",
   "metadata": {},
   "outputs": [],
   "source": [
    "september_patients_current_statuses_merged__ = september_patients_current_statuses_merged_[\n",
    "['emiasid', 'login', 'status', 'old_comment', 'next_call_date', \n",
    " 'mo', 'doctor_fio', \n",
    "#  'initial_mo', 'initial_doctor_fio',\n",
    " 'phone_number', 'calls_amount', 'last_call_date', 'last_call_result', 'last_talk_result', 'group',\n",
    " 'problem', 'month']]"
   ]
  },
  {
   "cell_type": "code",
   "execution_count": 101,
   "id": "4bd31043",
   "metadata": {},
   "outputs": [],
   "source": [
    "september_patients_current_statuses_merged__.to_excel(\n",
    "        os.path.join('C:\\\\', 'Users', 'murad_satabaev', 'Documents', 'GitHub',\n",
    "        'final_framework', 'merged_statuses', \n",
    "                     f'september_patients_current_statuses_merged_with_logins_{today_y_m_d}.xlsx'), index=False)"
   ]
  },
  {
   "cell_type": "code",
   "execution_count": 102,
   "id": "91612b94",
   "metadata": {},
   "outputs": [],
   "source": [
    "september_patients_current_statuses_merged_.loc[\n",
    "    (september_patients_current_statuses_merged_.mo != september_patients_current_statuses_merged_.initial_mo),\n",
    "    'login'\n",
    "] = np.nan"
   ]
  },
  {
   "cell_type": "code",
   "execution_count": 103,
   "id": "52a83fec",
   "metadata": {},
   "outputs": [],
   "source": [
    "september_patients_current_statuses_merged_.loc[\n",
    "    (september_patients_current_statuses_merged_.status.isin({'Смена МО на другую нашу', 'Нет прикрепления к МО',\n",
    "                                                             'Смена МО'})),\n",
    "    'login'\n",
    "] = np.nan"
   ]
  },
  {
   "cell_type": "code",
   "execution_count": null,
   "id": "76306bd8",
   "metadata": {},
   "outputs": [],
   "source": []
  },
  {
   "cell_type": "markdown",
   "id": "936be982",
   "metadata": {},
   "source": [
    "# КАК ТОЛЬКО ПОЛУЧАЕМ НАЛИЧИЕ ПВ НА СМЕНЕ - ОТСЮДА И ВНИЗ"
   ]
  },
  {
   "cell_type": "code",
   "execution_count": 104,
   "id": "d2e69f67",
   "metadata": {},
   "outputs": [
    {
     "name": "stdout",
     "output_type": "stream",
     "text": [
      "2022-09-16 09:12:22.679669\n",
      "217\n"
     ]
    }
   ],
   "source": [
    "import gspread\n",
    "from gspread_dataframe import get_as_dataframe\n",
    "gc = gspread.service_account(filename='google_sheets_credentials.json') \n",
    "url = 'https://docs.google.com/spreadsheets/d/1TXjbk9tRDMCjEyyiuK5OIgT8xwlHQ2V1PX2zaVnxPXY/edit#gid=0'\n",
    "sh = gc.open_by_url(url)\n",
    "ws = sh.get_worksheet(0)\n",
    "def search_row(ws, desired_value):\n",
    "    row_number = 0\n",
    "    for row in ws.get_all_values():\n",
    "        row_number += 1\n",
    "        for value in row:\n",
    "            if value == desired_value:\n",
    "                return row_number\n",
    "            \n",
    "skiprows = search_row(ws, 'ФИО помощника врача') - 1\n",
    "\n",
    "assistants_presence_reading = get_as_dataframe(ws, evaluate_formulas=True, skiprows=skiprows)\n",
    "assistants_presence_reading = assistants_presence_reading.loc[~(assistants_presence_reading['Зал №'] == 'Зал №'), \n",
    "    ['Зал №', 'МО закрепления', 'ФИО помощника врача', 'Логин naumen', 'Отсутствует на рабочем месте']] \\\n",
    "        .dropna(how='all', axis=0)\n",
    "\n",
    "\n",
    "print(dt.datetime.now())\n",
    "print(assistants_presence_reading.shape[0])\n",
    "\n",
    "assistants_presence = assistants_presence_reading.rename(columns=column_names).copy()"
   ]
  },
  {
   "cell_type": "code",
   "execution_count": null,
   "id": "8e80a8d2",
   "metadata": {},
   "outputs": [],
   "source": []
  },
  {
   "cell_type": "code",
   "execution_count": 105,
   "id": "2419f0ba",
   "metadata": {},
   "outputs": [],
   "source": [
    "total_patients_current_statuses_merged__ = \\\n",
    "pd.concat([august_patients_current_statuses_merged_, september_patients_current_statuses_merged__]).reset_index(drop=True)"
   ]
  },
  {
   "cell_type": "code",
   "execution_count": 106,
   "id": "b6c5b0f6",
   "metadata": {},
   "outputs": [],
   "source": [
    "total_patients_current_statuses_merged___ = \\\n",
    "total_patients_current_statuses_merged__.merge(assistants_presence[['login', 'absence']], on='login', how='left') \\\n",
    ".rename(columns={'login': 'operator_login', 'absence': 'operator_absence'})"
   ]
  },
  {
   "cell_type": "code",
   "execution_count": 107,
   "id": "7878d045",
   "metadata": {},
   "outputs": [
    {
     "data": {
      "text/html": [
       "<div>\n",
       "<style scoped>\n",
       "    .dataframe tbody tr th:only-of-type {\n",
       "        vertical-align: middle;\n",
       "    }\n",
       "\n",
       "    .dataframe tbody tr th {\n",
       "        vertical-align: top;\n",
       "    }\n",
       "\n",
       "    .dataframe thead th {\n",
       "        text-align: right;\n",
       "    }\n",
       "</style>\n",
       "<table border=\"1\" class=\"dataframe\">\n",
       "  <thead>\n",
       "    <tr style=\"text-align: right;\">\n",
       "      <th></th>\n",
       "      <th>emiasid</th>\n",
       "      <th>operator_login</th>\n",
       "      <th>status</th>\n",
       "      <th>old_comment</th>\n",
       "      <th>next_call_date</th>\n",
       "      <th>mo</th>\n",
       "      <th>doctor_fio</th>\n",
       "      <th>phone_number</th>\n",
       "      <th>calls_amount</th>\n",
       "      <th>last_call_date</th>\n",
       "      <th>last_call_result</th>\n",
       "      <th>last_talk_result</th>\n",
       "      <th>group</th>\n",
       "      <th>problem</th>\n",
       "      <th>month</th>\n",
       "      <th>operator_absence</th>\n",
       "    </tr>\n",
       "  </thead>\n",
       "  <tbody>\n",
       "    <tr>\n",
       "      <th>0</th>\n",
       "      <td>10869778</td>\n",
       "      <td>pomoshnik_pdn203</td>\n",
       "      <td>Будет в Москве в другом месяце</td>\n",
       "      <td>NaN</td>\n",
       "      <td>NaT</td>\n",
       "      <td>ГП 22</td>\n",
       "      <td>Световидова Анна Дмитриевна</td>\n",
       "      <td>9036730637</td>\n",
       "      <td>2.0</td>\n",
       "      <td>2022-09-15</td>\n",
       "      <td>Разговор состоялся</td>\n",
       "      <td>NaN</td>\n",
       "      <td>21.0</td>\n",
       "      <td>NaN</td>\n",
       "      <td>august</td>\n",
       "      <td>NaN</td>\n",
       "    </tr>\n",
       "    <tr>\n",
       "      <th>1</th>\n",
       "      <td>24381864</td>\n",
       "      <td>Помощник 3</td>\n",
       "      <td>Будет в Москве в другом месяце</td>\n",
       "      <td>NaN</td>\n",
       "      <td>NaT</td>\n",
       "      <td>ГП 134</td>\n",
       "      <td>Гаджимурадова Патимат Магомедовна</td>\n",
       "      <td>9629455238</td>\n",
       "      <td>2.0</td>\n",
       "      <td>2022-09-13</td>\n",
       "      <td>Нет ответа</td>\n",
       "      <td>NaN</td>\n",
       "      <td>11.0</td>\n",
       "      <td>NaN</td>\n",
       "      <td>august</td>\n",
       "      <td>1</td>\n",
       "    </tr>\n",
       "    <tr>\n",
       "      <th>2</th>\n",
       "      <td>17190378</td>\n",
       "      <td>pomoshnik_pdn89</td>\n",
       "      <td>Будет в Москве в другом месяце</td>\n",
       "      <td>NaN</td>\n",
       "      <td>NaT</td>\n",
       "      <td>ГП 134</td>\n",
       "      <td>Рамазанова Хадиджа Сулеймановна</td>\n",
       "      <td>9067971452</td>\n",
       "      <td>3.0</td>\n",
       "      <td>2022-09-14</td>\n",
       "      <td>Разговор состоялся</td>\n",
       "      <td>NaN</td>\n",
       "      <td>13.0</td>\n",
       "      <td>NaN</td>\n",
       "      <td>august</td>\n",
       "      <td>NaN</td>\n",
       "    </tr>\n",
       "  </tbody>\n",
       "</table>\n",
       "</div>"
      ],
      "text/plain": [
       "    emiasid    operator_login                          status old_comment  \\\n",
       "0  10869778  pomoshnik_pdn203  Будет в Москве в другом месяце         NaN   \n",
       "1  24381864        Помощник 3  Будет в Москве в другом месяце         NaN   \n",
       "2  17190378   pomoshnik_pdn89  Будет в Москве в другом месяце         NaN   \n",
       "\n",
       "  next_call_date      mo                         doctor_fio phone_number  \\\n",
       "0            NaT   ГП 22        Световидова Анна Дмитриевна   9036730637   \n",
       "1            NaT  ГП 134  Гаджимурадова Патимат Магомедовна   9629455238   \n",
       "2            NaT  ГП 134    Рамазанова Хадиджа Сулеймановна   9067971452   \n",
       "\n",
       "   calls_amount last_call_date    last_call_result last_talk_result  group  \\\n",
       "0           2.0     2022-09-15  Разговор состоялся              NaN   21.0   \n",
       "1           2.0     2022-09-13          Нет ответа              NaN   11.0   \n",
       "2           3.0     2022-09-14  Разговор состоялся              NaN   13.0   \n",
       "\n",
       "  problem   month operator_absence  \n",
       "0     NaN  august              NaN  \n",
       "1     NaN  august                1  \n",
       "2     NaN  august              NaN  "
      ]
     },
     "execution_count": 107,
     "metadata": {},
     "output_type": "execute_result"
    }
   ],
   "source": [
    "total_patients_current_statuses_merged___.head(3)"
   ]
  },
  {
   "cell_type": "code",
   "execution_count": 108,
   "id": "25a4c5d1",
   "metadata": {},
   "outputs": [],
   "source": [
    "total_patients_current_statuses_merged___.to_excel(\n",
    "        os.path.join('C:\\\\', 'Users', 'murad_satabaev', 'Documents', 'GitHub',\n",
    "        'final_framework', 'merged_statuses', \n",
    "                     f'total_patients_current_statuses_merged_with_logins_{today_y_m_d}.xlsx'), index=False)"
   ]
  },
  {
   "cell_type": "code",
   "execution_count": null,
   "id": "15c02c71",
   "metadata": {},
   "outputs": [],
   "source": []
  }
 ],
 "metadata": {
  "kernelspec": {
   "display_name": "Python 3 (ipykernel)",
   "language": "python",
   "name": "python3"
  },
  "language_info": {
   "codemirror_mode": {
    "name": "ipython",
    "version": 3
   },
   "file_extension": ".py",
   "mimetype": "text/x-python",
   "name": "python",
   "nbconvert_exporter": "python",
   "pygments_lexer": "ipython3",
   "version": "3.10.4"
  }
 },
 "nbformat": 4,
 "nbformat_minor": 5
}
