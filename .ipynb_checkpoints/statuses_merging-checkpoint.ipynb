{
 "cells": [
  {
   "cell_type": "code",
   "execution_count": 1,
   "id": "ffd41bc3",
   "metadata": {},
   "outputs": [],
   "source": [
    "import os\n",
    "import pandas as pd\n",
    "import datetime as dt\n",
    "import numpy as np\n",
    "import re"
   ]
  },
  {
   "cell_type": "code",
   "execution_count": 2,
   "id": "3678b95e",
   "metadata": {},
   "outputs": [
    {
     "name": "stdout",
     "output_type": "stream",
     "text": [
      "2022_09_12\n"
     ]
    }
   ],
   "source": [
    "today = pd.Timestamp(dt.datetime.today().date())\n",
    "today_ymd = today.strftime('%Y%m%d')\n",
    "today_y_m_d = today.strftime('%Y_%m_%d')\n",
    "\n",
    "yesterday = today - dt.timedelta(days=1)\n",
    "yesterday_ymd = yesterday.strftime('%Y%m%d')\n",
    "yesterday_y_m_d = yesterday.strftime('%Y-%m-%d')\n",
    "\n",
    "tomorrow = today + dt.timedelta(days=1)\n",
    "tomorrow_ymd = tomorrow.strftime('%Y%m%d')\n",
    "tomorrow_y_m_d = tomorrow.strftime('%Y-%m-%d')\n",
    "\n",
    "print(today_y_m_d)"
   ]
  },
  {
   "cell_type": "code",
   "execution_count": 3,
   "id": "bbe9a34f",
   "metadata": {},
   "outputs": [],
   "source": [
    "column_names = {'Emiasid': 'emiasid', 'Emiasid ': 'emiasid' , 'emiasid ': 'emiasid', 'EMIAS_ID': 'emiasid', 'МО': 'mo', \n",
    "                'МУ': 'mu', 'Логин оператора': 'login', 'Дата и время звонка': 'call_date', 'Результат звонка': 'call_result',\n",
    "                'Результат звонка ': 'call_result', 'Разговор состоялся': 'talk_result', 'Комменатрий': 'comment', \n",
    "                'Дата и время переноса': 'next_call_date', 'Контактный телефон': 'phone_number', 'ФИО врача': 'doctor_fio', \n",
    "                'ФИО помощника врача': 'assistant_fio', 'Логин помощника врача': 'login', 'Зал №': 'hall_number',\n",
    "                'Логин naumen': 'login', 'МО закрепления': 'mo', 'Отсутствует на рабочем месте': 'absence'}"
   ]
  },
  {
   "cell_type": "code",
   "execution_count": 4,
   "id": "501cb151",
   "metadata": {},
   "outputs": [],
   "source": [
    "# путь папки с данными по звонкам\n",
    "calls_data_path = r'\\Users\\murad_satabaev\\Documents\\GitHub\\final_framework'\n",
    "calls_data_path = calls_data_path.split('\\\\')\n",
    "calls_data_path = os.path.join('C:\\\\', r'\\\\', *calls_data_path)\n",
    "calls_data_path = os.path.join(calls_data_path, 'calls_data_20220802_today.xlsx')"
   ]
  },
  {
   "cell_type": "code",
   "execution_count": 5,
   "id": "aa095ae2",
   "metadata": {},
   "outputs": [
    {
     "name": "stdout",
     "output_type": "stream",
     "text": [
      "C:\\\\Users\\murad_satabaev\\Documents\\GitHub\\final_framework\\current_statuses_path\n"
     ]
    }
   ],
   "source": [
    "# путь файла с текущими статусами пациентов\n",
    "patients_current_statuses_path = r'Users\\murad_satabaev\\Documents\\GitHub\\final_framework\\current_statuses_path'\n",
    "patients_current_statuses_path = patients_current_statuses_path.split('\\\\')\n",
    "patients_current_statuses_path = os.path.join('C:\\\\', r'\\\\', *patients_current_statuses_path)\n",
    "print(patients_current_statuses_path)"
   ]
  },
  {
   "cell_type": "code",
   "execution_count": null,
   "id": "8d361945",
   "metadata": {},
   "outputs": [],
   "source": []
  },
  {
   "cell_type": "code",
   "execution_count": 6,
   "id": "8edfeadd",
   "metadata": {},
   "outputs": [
    {
     "data": {
      "text/plain": [
       "252723"
      ]
     },
     "execution_count": 6,
     "metadata": {},
     "output_type": "execute_result"
    }
   ],
   "source": [
    "calls_data_reading = pd.read_excel(calls_data_path)\n",
    "calls_data_reading.shape[0]"
   ]
  },
  {
   "cell_type": "code",
   "execution_count": 7,
   "id": "9f1a80bc",
   "metadata": {},
   "outputs": [],
   "source": [
    "calls_data_reading = calls_data_reading.rename(columns=column_names)"
   ]
  },
  {
   "cell_type": "code",
   "execution_count": 9,
   "id": "dfffadd4",
   "metadata": {},
   "outputs": [
    {
     "name": "stderr",
     "output_type": "stream",
     "text": [
      "C:\\Users\\murad_satabaev\\AppData\\Local\\Temp\\ipykernel_1896\\696863348.py:1: FutureWarning: The default value of regex will change from True to False in a future version.\n",
      "  calls_data_reading['emiasid'] = calls_data_reading['emiasid'].astype(str).str.replace('\\.0', '')\n"
     ]
    }
   ],
   "source": [
    "calls_data_reading['emiasid'] = calls_data_reading['emiasid'].astype(str).str.replace('\\.0', '')\n",
    "calls_data_reading['call_date'] = calls_data_reading['call_date'].apply(lambda x: pd.to_datetime(x, dayfirst=True,\n",
    "                                                                                                 errors='coerce').date())\n",
    "calls_data_reading['next_call_date'] = \\\n",
    "calls_data_reading['next_call_date'].apply(lambda x: pd.to_datetime(x, dayfirst=True, errors='coerce').date())"
   ]
  },
  {
   "cell_type": "code",
   "execution_count": null,
   "id": "b6a91edd",
   "metadata": {},
   "outputs": [],
   "source": []
  },
  {
   "cell_type": "code",
   "execution_count": null,
   "id": "47402e15",
   "metadata": {},
   "outputs": [],
   "source": []
  },
  {
   "cell_type": "code",
   "execution_count": null,
   "id": "d4642f21",
   "metadata": {},
   "outputs": [],
   "source": []
  },
  {
   "cell_type": "code",
   "execution_count": 10,
   "id": "3e3b0c35",
   "metadata": {},
   "outputs": [],
   "source": [
    "monthes = {'august', 'september'}"
   ]
  },
  {
   "cell_type": "code",
   "execution_count": 11,
   "id": "63bf033c",
   "metadata": {},
   "outputs": [
    {
     "name": "stderr",
     "output_type": "stream",
     "text": [
      "C:\\Users\\murad_satabaev\\AppData\\Local\\Temp\\ipykernel_1896\\1341939309.py:22: FutureWarning: The default value of regex will change from True to False in a future version.\n",
      "  last_calls_data['emiasid'] = last_calls_data['emiasid'].astype(str).str.replace('\\.0', '')\n",
      "C:\\Users\\murad_satabaev\\AppData\\Local\\Temp\\ipykernel_1896\\1341939309.py:34: FutureWarning: The default value of regex will change from True to False in a future version.\n",
      "  patients_current_statuses['emiasid'] = patients_current_statuses['emiasid'].astype(str).str.replace('\\.0', '')\n",
      "C:\\Users\\murad_satabaev\\AppData\\Local\\Temp\\ipykernel_1896\\1341939309.py:22: FutureWarning: The default value of regex will change from True to False in a future version.\n",
      "  last_calls_data['emiasid'] = last_calls_data['emiasid'].astype(str).str.replace('\\.0', '')\n",
      "C:\\Users\\murad_satabaev\\AppData\\Local\\Temp\\ipykernel_1896\\1341939309.py:34: FutureWarning: The default value of regex will change from True to False in a future version.\n",
      "  patients_current_statuses['emiasid'] = patients_current_statuses['emiasid'].astype(str).str.replace('\\.0', '')\n"
     ]
    }
   ],
   "source": [
    "for month in monthes:\n",
    "    \n",
    "    \n",
    "    if 'september' in month:\n",
    "        calls_data = calls_data_reading[calls_data_reading.call_date >= dt.date(2022, 9, 2)].reset_index(drop=True).copy()\n",
    "    else:\n",
    "        calls_data = calls_data_reading.copy()\n",
    "        \n",
    "    \n",
    "    emiasid_touches = \\\n",
    "    calls_data.groupby('emiasid').agg({'call_date': 'count'}).rename(columns={'call_date': 'calls_amount'}).reset_index()\n",
    "    \n",
    "    last_calls_data = \\\n",
    "    calls_data.sort_values(by='call_date').drop_duplicates(subset=['emiasid'], keep='last').reset_index(drop=True)\n",
    "    \n",
    "    last_calls_data = last_calls_data[['emiasid', 'call_date', 'next_call_date', 'comment', 'call_result', 'talk_result']]\n",
    "    \n",
    "    last_calls_data = last_calls_data.rename(\n",
    "        columns={'comment': 'old_comment', 'call_date': 'last_call_date', 'call_result': 'last_call_result',\n",
    "                'talk_result': 'last_talk_result'})\n",
    "    \n",
    "    last_calls_data['emiasid'] = last_calls_data['emiasid'].astype(str).str.replace('\\.0', '')\n",
    "    last_calls_data['last_call_date'] = last_calls_data['last_call_date'].apply(lambda x: pd.to_datetime(x, dayfirst=True).date())\n",
    "    last_calls_data['next_call_date'] = \\\n",
    "    last_calls_data['next_call_date'].apply(lambda x: pd.to_datetime(x, dayfirst=True).date())\n",
    "    \n",
    "    \n",
    "    patients_current_statuses_reading = pd.read_excel(\n",
    "        os.path.join(patients_current_statuses_path, rf'{month}_patients_current_statuses_{today_y_m_d}.xlsx'))\n",
    "    \n",
    "    \n",
    "    patients_current_statuses = patients_current_statuses_reading.rename(columns=column_names).copy()\n",
    "    \n",
    "    patients_current_statuses['emiasid'] = patients_current_statuses['emiasid'].astype(str).str.replace('\\.0', '')\n",
    "    patients_current_statuses['phone_number'] = patients_current_statuses['phone_number'] \\\n",
    "    .apply(lambda x: str(x).replace('.0', '') if not pd.isna(x) else x)\n",
    "    \n",
    "    \n",
    "    patients_current_statuses_merged = patients_current_statuses.merge(emiasid_touches, on=['emiasid'], how='left')\n",
    "    patients_current_statuses_merged = patients_current_statuses_merged.merge(last_calls_data, on=['emiasid'], how='left')\n",
    "    \n",
    "    if 'september' in month:\n",
    "        september_patients_current_statuses_merged = patients_current_statuses_merged.copy()\n",
    "    elif 'august' in month:\n",
    "        august_patients_current_statuses_merged = patients_current_statuses_merged.copy()\n",
    "    \n",
    "    patients_current_statuses_merged.to_excel(\n",
    "        os.path.join('C:\\\\', 'Users', 'murad_satabaev', 'Documents', 'GitHub',\n",
    "        'final_framework', 'merged_statuses', \n",
    "                     f'{month}_patients_current_statuses_merged_with_calls_{today_y_m_d}.xlsx'), index=False)"
   ]
  },
  {
   "cell_type": "code",
   "execution_count": null,
   "id": "46479901",
   "metadata": {},
   "outputs": [],
   "source": []
  },
  {
   "cell_type": "code",
   "execution_count": null,
   "id": "8ff197b8",
   "metadata": {},
   "outputs": [],
   "source": []
  },
  {
   "cell_type": "code",
   "execution_count": null,
   "id": "c2416389",
   "metadata": {},
   "outputs": [],
   "source": []
  },
  {
   "cell_type": "code",
   "execution_count": 12,
   "id": "bc12593a",
   "metadata": {},
   "outputs": [
    {
     "name": "stdout",
     "output_type": "stream",
     "text": [
      "\\\\t999\\Сетевой диск\\pdn\\data\\assistant_to_doctor_distribution_path\n"
     ]
    }
   ],
   "source": [
    "# путь папки с раскреплением\n",
    "assistant_to_doctor_distribution_path = \\\n",
    "r'\\\\t999\\Сетевой диск\\pdn\\data\\assistant_to_doctor_distribution_path'\n",
    "assistant_to_doctor_distribution_path = \\\n",
    "assistant_to_doctor_distribution_path.split('\\\\')\n",
    "assistant_to_doctor_distribution_path = \\\n",
    "os.path.join(r'\\\\', *assistant_to_doctor_distribution_path)\n",
    "print(assistant_to_doctor_distribution_path)"
   ]
  },
  {
   "cell_type": "code",
   "execution_count": 13,
   "id": "a7346193",
   "metadata": {},
   "outputs": [
    {
     "name": "stdout",
     "output_type": "stream",
     "text": [
      "\\\\t999\\Сетевой диск\\pdn\\data\\assistant_to_doctor_distribution_path\\august_patient_to_assistant_distribution.xlsx\n"
     ]
    }
   ],
   "source": [
    "august_assistant_to_doctor_distribution_path = [os.path.join(assistant_to_doctor_distribution_path, filename) for filename \n",
    "                                         in os.listdir(assistant_to_doctor_distribution_path) if '~' not in filename\n",
    "                                        and 'august' in filename]\n",
    "august_assistant_to_doctor_distribution_path.sort(key=lambda x: os.path.getctime(x))\n",
    "august_assistant_to_doctor_distribution_path = august_assistant_to_doctor_distribution_path[-1]\n",
    "print(august_assistant_to_doctor_distribution_path)"
   ]
  },
  {
   "cell_type": "code",
   "execution_count": 14,
   "id": "d1408925",
   "metadata": {},
   "outputs": [],
   "source": [
    "august_assistant_to_doctor_distribution = pd.read_excel(august_assistant_to_doctor_distribution_path, \n",
    "                                                       usecols=['login', 'mo', 'doctor_fio'])[['login', 'mo', 'doctor_fio']]"
   ]
  },
  {
   "cell_type": "code",
   "execution_count": 15,
   "id": "83d095fb",
   "metadata": {},
   "outputs": [],
   "source": [
    "august_patients_current_statuses_merged_ = \\\n",
    "august_patients_current_statuses_merged.merge(august_assistant_to_doctor_distribution, on=['mo', 'doctor_fio'], how='left')"
   ]
  },
  {
   "cell_type": "code",
   "execution_count": 16,
   "id": "b0440dbb",
   "metadata": {},
   "outputs": [],
   "source": [
    "august_patients_current_statuses_merged_['month'] = 'august'\n",
    "august_patients_current_statuses_merged_['problem'] = np.nan"
   ]
  },
  {
   "cell_type": "code",
   "execution_count": 17,
   "id": "f3cddeac",
   "metadata": {},
   "outputs": [],
   "source": [
    "august_patients_current_statuses_merged_ = august_patients_current_statuses_merged_[\n",
    "['emiasid', 'login', 'status', 'old_comment', 'next_call_date', \n",
    " 'mo', 'doctor_fio',\n",
    " 'phone_number', 'calls_amount', 'last_call_date', 'last_call_result', 'last_talk_result', 'problem', 'month']]"
   ]
  },
  {
   "cell_type": "code",
   "execution_count": 18,
   "id": "361836ae",
   "metadata": {},
   "outputs": [],
   "source": [
    "august_patients_current_statuses_merged_.to_excel(\n",
    "        os.path.join('C:\\\\', 'Users', 'murad_satabaev', 'Documents', 'GitHub',\n",
    "        'final_framework', 'merged_statuses',\n",
    "                     f'august_patients_current_statuses_merged_with_logins_{today_y_m_d}.xlsx'), index=False)"
   ]
  },
  {
   "cell_type": "code",
   "execution_count": null,
   "id": "1b85129a",
   "metadata": {},
   "outputs": [],
   "source": []
  },
  {
   "cell_type": "code",
   "execution_count": null,
   "id": "84378f47",
   "metadata": {},
   "outputs": [],
   "source": []
  },
  {
   "cell_type": "code",
   "execution_count": 19,
   "id": "7abee6b8",
   "metadata": {},
   "outputs": [
    {
     "name": "stdout",
     "output_type": "stream",
     "text": [
      "\\\\t999\\Сетевой диск\\pdn\\data\\assistant_to_doctor_distribution_path\\september_patient_to_assistant_distribution.xlsx\n"
     ]
    }
   ],
   "source": [
    "september_assistant_to_doctor_distribution_path = [os.path.join(assistant_to_doctor_distribution_path, filename) for filename \n",
    "                                         in os.listdir(assistant_to_doctor_distribution_path) if '~' not in filename\n",
    "                                        and 'september' in filename]\n",
    "september_assistant_to_doctor_distribution_path.sort(key=lambda x: os.path.getctime(x))\n",
    "september_assistant_to_doctor_distribution_path = september_assistant_to_doctor_distribution_path[-1]\n",
    "print(september_assistant_to_doctor_distribution_path)"
   ]
  },
  {
   "cell_type": "code",
   "execution_count": 20,
   "id": "29f71e1a",
   "metadata": {},
   "outputs": [],
   "source": [
    "september_assistant_to_doctor_distribution = pd.read_excel(september_assistant_to_doctor_distribution_path, \n",
    "                                    usecols=['login', 'emiasid', 'mo', 'doctor_fio'])[['emiasid', 'login', 'mo', 'doctor_fio']]"
   ]
  },
  {
   "cell_type": "code",
   "execution_count": 21,
   "id": "99fda78f",
   "metadata": {},
   "outputs": [
    {
     "name": "stderr",
     "output_type": "stream",
     "text": [
      "C:\\Users\\murad_satabaev\\AppData\\Local\\Temp\\ipykernel_1896\\1912213584.py:2: FutureWarning: The default value of regex will change from True to False in a future version.\n",
      "  september_assistant_to_doctor_distribution['emiasid'].astype(str).str.replace('\\.0', '')\n"
     ]
    }
   ],
   "source": [
    "september_assistant_to_doctor_distribution['emiasid'] = \\\n",
    "september_assistant_to_doctor_distribution['emiasid'].astype(str).str.replace('\\.0', '')\n",
    "september_assistant_to_doctor_distribution = \\\n",
    "september_assistant_to_doctor_distribution.rename(columns={'mo': 'initial_mo', 'doctor_fio': 'initial_doctor_fio'})"
   ]
  },
  {
   "cell_type": "code",
   "execution_count": 22,
   "id": "7ea3af83",
   "metadata": {},
   "outputs": [],
   "source": [
    "september_patients_current_statuses_merged_ = \\\n",
    "september_patients_current_statuses_merged.merge(september_assistant_to_doctor_distribution, on=['emiasid'], how='left')"
   ]
  },
  {
   "cell_type": "code",
   "execution_count": 23,
   "id": "fabf0f1f",
   "metadata": {},
   "outputs": [
    {
     "name": "stdout",
     "output_type": "stream",
     "text": [
      "\\\\t999\\Сетевой диск\\pdn\\data\\emias_data\\xlsx\n"
     ]
    }
   ],
   "source": [
    "# путь файла с сегодняшними \n",
    "emias_data_path = r'\\\\t999\\Сетевой диск\\pdn\\data\\emias_data\\xlsx'\n",
    "emias_data_path = emias_data_path.split('\\\\')\n",
    "emias_data_path = os.path.join(r'\\\\', *emias_data_path)\n",
    "print(emias_data_path)"
   ]
  },
  {
   "cell_type": "code",
   "execution_count": 24,
   "id": "cc073082",
   "metadata": {},
   "outputs": [
    {
     "name": "stdout",
     "output_type": "stream",
     "text": [
      "\\\\t999\\Сетевой диск\\pdn\\data\\emias_data\\xlsx\\DAT_4059_выгрузка_списков_на_обзвон_помощниками_2022-09-12.xlsx\n"
     ]
    }
   ],
   "source": [
    "today_emias_data_path = [os.path.join(emias_data_path, filename) for filename in os.listdir(emias_data_path) if '4059' \n",
    "                         in filename and '~' not in filename and today.strftime('%Y-%m-%d') in filename][0]\n",
    "print(today_emias_data_path)"
   ]
  },
  {
   "cell_type": "code",
   "execution_count": 25,
   "id": "89f2034f",
   "metadata": {},
   "outputs": [
    {
     "name": "stderr",
     "output_type": "stream",
     "text": [
      "C:\\Users\\murad_satabaev\\AppData\\Local\\Temp\\ipykernel_1896\\2812670752.py:2: FutureWarning: The default value of regex will change from True to False in a future version.\n",
      "  today_emias_data['emiasid'] = today_emias_data['emiasid'].astype(str).str.replace('\\.0', '')\n"
     ]
    }
   ],
   "source": [
    "today_emias_data = pd.read_excel(today_emias_data_path, usecols=['emiasid'])\n",
    "today_emias_data['emiasid'] = today_emias_data['emiasid'].astype(str).str.replace('\\.0', '')"
   ]
  },
  {
   "cell_type": "code",
   "execution_count": null,
   "id": "5e1ae007",
   "metadata": {},
   "outputs": [],
   "source": []
  },
  {
   "cell_type": "code",
   "execution_count": 26,
   "id": "7c3b3c40",
   "metadata": {},
   "outputs": [],
   "source": [
    "september_patients_current_statuses_merged_.loc[\n",
    "    (september_patients_current_statuses_merged_.status == 'Отсутствует номер'),\n",
    "    'problem'\n",
    "] = 'Отсутствует номер'"
   ]
  },
  {
   "cell_type": "code",
   "execution_count": 27,
   "id": "fcdc421f",
   "metadata": {},
   "outputs": [],
   "source": [
    "september_patients_current_statuses_merged_.loc[\n",
    "    (september_patients_current_statuses_merged_.doctor_fio.isna()),\n",
    "    'problem'\n",
    "] = 'Нет прикрепления к врачу'"
   ]
  },
  {
   "cell_type": "code",
   "execution_count": 28,
   "id": "0bc189ef",
   "metadata": {},
   "outputs": [],
   "source": [
    "september_patients_current_statuses_merged_.loc[\n",
    "    (september_patients_current_statuses_merged_.mo != september_patients_current_statuses_merged_.initial_mo),\n",
    "    'problem'\n",
    "] = 'Смена МО на другую нашу'"
   ]
  },
  {
   "cell_type": "code",
   "execution_count": 29,
   "id": "e3ea1726",
   "metadata": {},
   "outputs": [],
   "source": [
    "september_patients_current_statuses_merged_.loc[\n",
    "    (september_patients_current_statuses_merged_.mo.isna()),\n",
    "    'problem'\n",
    "] = 'Нет прикрепления к МО'"
   ]
  },
  {
   "cell_type": "code",
   "execution_count": 30,
   "id": "62c6a4c0",
   "metadata": {},
   "outputs": [],
   "source": [
    "september_patients_current_statuses_merged_.loc[\n",
    "    (september_patients_current_statuses_merged_.status == 'Смена МО'),\n",
    "    'problem'\n",
    "] = 'Смена МО'"
   ]
  },
  {
   "cell_type": "code",
   "execution_count": 31,
   "id": "c5fb143d",
   "metadata": {},
   "outputs": [],
   "source": [
    "september_patients_current_statuses_merged_.loc[\n",
    "    (~(september_patients_current_statuses_merged_.emiasid.isin(today_emias_data.emiasid))),\n",
    "    'problem'\n",
    "] = 'Нет в сегодняшней выгрузке'"
   ]
  },
  {
   "cell_type": "code",
   "execution_count": 32,
   "id": "4d26ce9f",
   "metadata": {},
   "outputs": [],
   "source": [
    "september_patients_current_statuses_merged_['month'] = 'september'"
   ]
  },
  {
   "cell_type": "code",
   "execution_count": null,
   "id": "6b253585",
   "metadata": {},
   "outputs": [],
   "source": []
  },
  {
   "cell_type": "code",
   "execution_count": null,
   "id": "a7169515",
   "metadata": {},
   "outputs": [],
   "source": []
  },
  {
   "cell_type": "code",
   "execution_count": null,
   "id": "a146e782",
   "metadata": {},
   "outputs": [],
   "source": []
  },
  {
   "cell_type": "code",
   "execution_count": null,
   "id": "4ea41e37",
   "metadata": {},
   "outputs": [],
   "source": []
  },
  {
   "cell_type": "code",
   "execution_count": 33,
   "id": "42e3b13c",
   "metadata": {},
   "outputs": [],
   "source": [
    "september_patients_current_statuses_merged__ = september_patients_current_statuses_merged_[\n",
    "['emiasid', 'login', 'status', 'old_comment', 'next_call_date', \n",
    " 'mo', 'doctor_fio', \n",
    "#  'initial_mo', 'initial_doctor_fio',\n",
    " 'phone_number', 'calls_amount', 'last_call_date', 'last_call_result', 'last_talk_result', \n",
    " 'problem', 'month']]"
   ]
  },
  {
   "cell_type": "code",
   "execution_count": 34,
   "id": "fd7a3ac9",
   "metadata": {},
   "outputs": [],
   "source": [
    "september_patients_current_statuses_merged__.to_excel(\n",
    "        os.path.join('C:\\\\', 'Users', 'murad_satabaev', 'Documents', 'GitHub',\n",
    "        'final_framework', 'merged_statuses', \n",
    "                     f'september_patients_current_statuses_merged_with_logins_{today_y_m_d}.xlsx'), index=False)"
   ]
  },
  {
   "cell_type": "code",
   "execution_count": 35,
   "id": "fd4a9159",
   "metadata": {},
   "outputs": [],
   "source": [
    "september_patients_current_statuses_merged_.loc[\n",
    "    (september_patients_current_statuses_merged_.mo != september_patients_current_statuses_merged_.initial_mo),\n",
    "    'login'\n",
    "] = np.nan"
   ]
  },
  {
   "cell_type": "code",
   "execution_count": 36,
   "id": "4d48b0dc",
   "metadata": {},
   "outputs": [],
   "source": [
    "september_patients_current_statuses_merged_.loc[\n",
    "    (september_patients_current_statuses_merged_.status.isin({'Смена МО на другую нашу', 'Нет прикрепления к МО',\n",
    "                                                             'Смена МО'})),\n",
    "    'login'\n",
    "] = np.nan"
   ]
  },
  {
   "cell_type": "code",
   "execution_count": null,
   "id": "a6ce6687",
   "metadata": {},
   "outputs": [],
   "source": []
  },
  {
   "cell_type": "code",
   "execution_count": 37,
   "id": "74b00d33",
   "metadata": {},
   "outputs": [],
   "source": [
    "total_patients_current_statuses_merged__ = \\\n",
    "pd.concat([august_patients_current_statuses_merged_, september_patients_current_statuses_merged__]).reset_index(drop=True)"
   ]
  },
  {
   "cell_type": "code",
   "execution_count": 39,
   "id": "aee0ddf1",
   "metadata": {},
   "outputs": [],
   "source": [
    "total_patients_current_statuses_merged__.to_excel(\n",
    "        os.path.join('C:\\\\', 'Users', 'murad_satabaev', 'Documents', 'GitHub',\n",
    "        'final_framework', 'merged_statuses', \n",
    "                     f'total_patients_current_statuses_merged_with_logins_{today_y_m_d}.xlsx'), index=False)"
   ]
  },
  {
   "cell_type": "code",
   "execution_count": null,
   "id": "005afb3b",
   "metadata": {},
   "outputs": [],
   "source": []
  }
 ],
 "metadata": {
  "kernelspec": {
   "display_name": "Python 3 (ipykernel)",
   "language": "python",
   "name": "python3"
  },
  "language_info": {
   "codemirror_mode": {
    "name": "ipython",
    "version": 3
   },
   "file_extension": ".py",
   "mimetype": "text/x-python",
   "name": "python",
   "nbconvert_exporter": "python",
   "pygments_lexer": "ipython3",
   "version": "3.10.4"
  }
 },
 "nbformat": 4,
 "nbformat_minor": 5
}
